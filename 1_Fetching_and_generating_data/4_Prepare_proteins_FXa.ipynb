{
 "cells": [
  {
   "cell_type": "code",
   "execution_count": 1,
   "metadata": {},
   "outputs": [],
   "source": [
    "import pdb2pqr\n",
    "import pdb4amber\n",
    "import numpy as np\n",
    "import os\n",
    "from pathlib import Path\n",
    "import glob"
   ]
  },
  {
   "cell_type": "code",
   "execution_count": 2,
   "metadata": {},
   "outputs": [],
   "source": [
    "# Nombre de la proteina de interes\n",
    "prot_name = 'fxa'\n",
    "# Secuencia P28482 (ERK2_HUMAN)\n",
    "uniprot_id = \"P00742\""
   ]
  },
  {
   "cell_type": "code",
   "execution_count": 3,
   "metadata": {},
   "outputs": [],
   "source": [
    "# Lista de archivos pdb para preparar, originalmente modelos generados con Modeller\n",
    "pdb_list = glob.glob(F\"../../FILES/CRYSTALS/PROT_{prot_name.upper()}_MODELOS_modeller_NoPrep/*\")\n",
    "pdb_list.sort()"
   ]
  },
  {
   "cell_type": "code",
   "execution_count": 4,
   "metadata": {},
   "outputs": [],
   "source": [
    "main_out_dir = F\"../../FILES/CRYSTALS/PROT_{prot_name.upper()}_PREPARED/\"\n",
    "out_dir_ens = main_out_dir +  \"PREP_ALL_ENSAMBLE/\" # Hidrógenos agregados sin pka\n",
    "out_dir_PREP_PROT = main_out_dir + \"PREP_PH_7/\" # Hidrógenos agregados usando Propka (res ionizables a pH 7)\n",
    "out_dir_pqr = main_out_dir + \"PQR_PKAs/\" # Directorio de pqr\"\n",
    "# Creación de los directorios, si estos no exiten\n",
    "import os\n",
    "if not os.path.exists(main_out_dir):\n",
    "    os.makedirs(main_out_dir)\n",
    "    os.makedirs(out_dir_ens)\n",
    "    os.makedirs(out_dir_PREP_PROT)\n",
    "    os.makedirs(out_dir_pqr)"
   ]
  },
  {
   "cell_type": "code",
   "execution_count": 5,
   "metadata": {},
   "outputs": [
    {
     "output_type": "stream",
     "text": "\u001b[0;31mSignature:\u001b[0m\n\u001b[0mpdb4amber\u001b[0m\u001b[0;34m.\u001b[0m\u001b[0mrun\u001b[0m\u001b[0;34m(\u001b[0m\u001b[0;34m\u001b[0m\n\u001b[0;34m\u001b[0m    \u001b[0marg_pdbout\u001b[0m\u001b[0;34m,\u001b[0m\u001b[0;34m\u001b[0m\n\u001b[0;34m\u001b[0m    \u001b[0marg_pdbin\u001b[0m\u001b[0;34m,\u001b[0m\u001b[0;34m\u001b[0m\n\u001b[0;34m\u001b[0m    \u001b[0marg_nohyd\u001b[0m\u001b[0;34m=\u001b[0m\u001b[0;32mFalse\u001b[0m\u001b[0;34m,\u001b[0m\u001b[0;34m\u001b[0m\n\u001b[0;34m\u001b[0m    \u001b[0marg_dry\u001b[0m\u001b[0;34m=\u001b[0m\u001b[0;32mFalse\u001b[0m\u001b[0;34m,\u001b[0m\u001b[0;34m\u001b[0m\n\u001b[0;34m\u001b[0m    \u001b[0marg_prot\u001b[0m\u001b[0;34m=\u001b[0m\u001b[0;32mFalse\u001b[0m\u001b[0;34m,\u001b[0m\u001b[0;34m\u001b[0m\n\u001b[0;34m\u001b[0m    \u001b[0marg_amber_compatible_residues\u001b[0m\u001b[0;34m=\u001b[0m\u001b[0;32mFalse\u001b[0m\u001b[0;34m,\u001b[0m\u001b[0;34m\u001b[0m\n\u001b[0;34m\u001b[0m    \u001b[0marg_strip_atom_mask\u001b[0m\u001b[0;34m=\u001b[0m\u001b[0;32mNone\u001b[0m\u001b[0;34m,\u001b[0m\u001b[0;34m\u001b[0m\n\u001b[0;34m\u001b[0m    \u001b[0marg_mutate_string\u001b[0m\u001b[0;34m=\u001b[0m\u001b[0;32mNone\u001b[0m\u001b[0;34m,\u001b[0m\u001b[0;34m\u001b[0m\n\u001b[0;34m\u001b[0m    \u001b[0marg_constph\u001b[0m\u001b[0;34m=\u001b[0m\u001b[0;32mFalse\u001b[0m\u001b[0;34m,\u001b[0m\u001b[0;34m\u001b[0m\n\u001b[0;34m\u001b[0m    \u001b[0marg_mostpop\u001b[0m\u001b[0;34m=\u001b[0m\u001b[0;32mFalse\u001b[0m\u001b[0;34m,\u001b[0m\u001b[0;34m\u001b[0m\n\u001b[0;34m\u001b[0m    \u001b[0marg_reduce\u001b[0m\u001b[0;34m=\u001b[0m\u001b[0;32mFalse\u001b[0m\u001b[0;34m,\u001b[0m\u001b[0;34m\u001b[0m\n\u001b[0;34m\u001b[0m    \u001b[0marg_no_reduce_db\u001b[0m\u001b[0;34m=\u001b[0m\u001b[0;32mFalse\u001b[0m\u001b[0;34m,\u001b[0m\u001b[0;34m\u001b[0m\n\u001b[0;34m\u001b[0m    \u001b[0marg_model\u001b[0m\u001b[0;34m=\u001b[0m\u001b[0;36m0\u001b[0m\u001b[0;34m,\u001b[0m\u001b[0;34m\u001b[0m\n\u001b[0;34m\u001b[0m    \u001b[0marg_add_missing_atoms\u001b[0m\u001b[0;34m=\u001b[0m\u001b[0;32mFalse\u001b[0m\u001b[0;34m,\u001b[0m\u001b[0;34m\u001b[0m\n\u001b[0;34m\u001b[0m    \u001b[0marg_elbow\u001b[0m\u001b[0;34m=\u001b[0m\u001b[0;32mFalse\u001b[0m\u001b[0;34m,\u001b[0m\u001b[0;34m\u001b[0m\n\u001b[0;34m\u001b[0m    \u001b[0marg_logfile\u001b[0m\u001b[0;34m=\u001b[0m\u001b[0;34m'pdb4amber.log'\u001b[0m\u001b[0;34m,\u001b[0m\u001b[0;34m\u001b[0m\n\u001b[0;34m\u001b[0m    \u001b[0marg_keep_altlocs\u001b[0m\u001b[0;34m=\u001b[0m\u001b[0;32mFalse\u001b[0m\u001b[0;34m,\u001b[0m\u001b[0;34m\u001b[0m\n\u001b[0;34m\u001b[0m    \u001b[0marg_leap_template\u001b[0m\u001b[0;34m=\u001b[0m\u001b[0;32mFalse\u001b[0m\u001b[0;34m,\u001b[0m\u001b[0;34m\u001b[0m\n\u001b[0;34m\u001b[0m    \u001b[0marg_conect\u001b[0m\u001b[0;34m=\u001b[0m\u001b[0;32mTrue\u001b[0m\u001b[0;34m,\u001b[0m\u001b[0;34m\u001b[0m\n\u001b[0;34m\u001b[0m    \u001b[0marg_noter\u001b[0m\u001b[0;34m=\u001b[0m\u001b[0;32mFalse\u001b[0m\u001b[0;34m,\u001b[0m\u001b[0;34m\u001b[0m\n\u001b[0;34m\u001b[0m\u001b[0;34m)\u001b[0m\u001b[0;34m\u001b[0m\u001b[0;34m\u001b[0m\u001b[0m\n\u001b[0;31mDocstring:\u001b[0m <no docstring>\n\u001b[0;31mFile:\u001b[0m      ~/miniconda3/envs/amber/lib/python3.7/site-packages/pdb4amber/pdb4amber.py\n\u001b[0;31mType:\u001b[0m      function\n"
    }
   ],
   "source": [
    "?pdb4amber.run"
   ]
  },
  {
   "cell_type": "code",
   "execution_count": 12,
   "metadata": {
    "tags": []
   },
   "outputs": [
    {
     "output_type": "stream",
     "name": "stdout",
     "text": "Preparando la proteína: 1c5m.\nPreparando la proteína: 1ezq.\nPreparando la proteína: 1f0r.\nPreparando la proteína: 1f0s.\nPreparando la proteína: 1fax.\nPreparando la proteína: 1fjs.\nPreparando la proteína: 1g2l.\nPreparando la proteína: 1g2m.\nPreparando la proteína: 1hcg.\nPreparando la proteína: 1ioe.\nPreparando la proteína: 1iqe.\nPreparando la proteína: 1iqf.\nPreparando la proteína: 1iqg.\nPreparando la proteína: 1iqh.\nPreparando la proteína: 1iqi.\nPreparando la proteína: 1iqj.\nPreparando la proteína: 1iqk.\nPreparando la proteína: 1iql.\nPreparando la proteína: 1iqm.\nPreparando la proteína: 1iqn.\nPreparando la proteína: 1ksn.\nPreparando la proteína: 1lpg.\nPreparando la proteína: 1lpk.\nPreparando la proteína: 1lpz.\nPreparando la proteína: 1lqd.\nPreparando la proteína: 1mq5.\nPreparando la proteína: 1mq6.\nPreparando la proteína: 1nfu.\nPreparando la proteína: 1nfw.\nPreparando la proteína: 1nfx.\nPreparando la proteína: 1nfy.\nPreparando la proteína: 1p0s.\nPreparando la proteína: 1v3x.\nPreparando la proteína: 1wu1.\nPreparando la proteína: 1xka.\nPreparando la proteína: 1xkb.\nPreparando la proteína: 1z6e.\nPreparando la proteína: 2bmg.\nPreparando la proteína: 2boh.\nPreparando la proteína: 2bok.\nPreparando la proteína: 2bq6.\nPreparando la proteína: 2bq7.\nPreparando la proteína: 2bqw.\nPreparando la proteína: 2cji.\nPreparando la proteína: 2d1j.\nPreparando la proteína: 2ei6.\nPreparando la proteína: 2ei7.\nPreparando la proteína: 2ei8.\nPreparando la proteína: 2fzz.\nPreparando la proteína: 2g00.\nPreparando la proteína: 2gd4.\nPreparando la proteína: 2h9e.\nPreparando la proteína: 2j2u.\nPreparando la proteína: 2j34.\nPreparando la proteína: 2j38.\nPreparando la proteína: 2j4i.\nPreparando la proteína: 2j94.\nPreparando la proteína: 2j95.\nPreparando la proteína: 2jkh.\nPreparando la proteína: 2p16.\nPreparando la proteína: 2p3f.\nPreparando la proteína: 2p3t.\nPreparando la proteína: 2p3u.\nPreparando la proteína: 2p93.\nPreparando la proteína: 2p94.\nPreparando la proteína: 2p95.\nPreparando la proteína: 2phb.\nPreparando la proteína: 2pr3.\nPreparando la proteína: 2q1j.\nPreparando la proteína: 2ra0.\nPreparando la proteína: 2uwl.\nPreparando la proteína: 2uwo.\nPreparando la proteína: 2uwp.\nPreparando la proteína: 2vh0.\nPreparando la proteína: 2vh6.\nPreparando la proteína: 2vvc.\nPreparando la proteína: 2vvu.\nPreparando la proteína: 2vvv.\nPreparando la proteína: 2vwl.\nPreparando la proteína: 2vwm.\nPreparando la proteína: 2vwn.\nPreparando la proteína: 2vwo.\nPreparando la proteína: 2w26.\nPreparando la proteína: 2w3i.\nPreparando la proteína: 2w3k.\nPreparando la proteína: 2wyg.\nPreparando la proteína: 2wyj.\nPreparando la proteína: 2xbv.\nPreparando la proteína: 2xbw.\nPreparando la proteína: 2xbx.\nPreparando la proteína: 2xby.\nPreparando la proteína: 2xc0.\nPreparando la proteína: 2xc4.\nPreparando la proteína: 2xc5.\nPreparando la proteína: 2y5f.\nPreparando la proteína: 2y5g.\nPreparando la proteína: 2y5h.\nPreparando la proteína: 2y7x.\nPreparando la proteína: 2y7z.\nPreparando la proteína: 2y80.\nPreparando la proteína: 2y81.\nPreparando la proteína: 2y82.\nPreparando la proteína: 3cen.\nPreparando la proteína: 3cs7.\nPreparando la proteína: 3ens.\nPreparando la proteína: 3ffg.\nPreparando la proteína: 3hpt.\nPreparando la proteína: 3iit.\nPreparando la proteína: 3k9x.\nPreparando la proteína: 3kl6.\nPreparando la proteína: 3kqb.\nPreparando la proteína: 3kqc.\nPreparando la proteína: 3kqd.\nPreparando la proteína: 3kqe.\nPreparando la proteína: 3liw.\nPreparando la proteína: 3m36.\nPreparando la proteína: 3m37.\nPreparando la proteína: 3q3k.\nPreparando la proteína: 3sw2.\nPreparando la proteína: 3tk5.\nPreparando la proteína: 3tk6.\nPreparando la proteína: 4a7i.\nPreparando la proteína: 4bti.\nPreparando la proteína: 4btt.\nPreparando la proteína: 4btu.\nPreparando la proteína: 4y6d.\nPreparando la proteína: 4y71.\nPreparando la proteína: 4y76.\nPreparando la proteína: 4y79.\nPreparando la proteína: 4y7a.\nPreparando la proteína: 4y7b.\nPreparando la proteína: 4zh8.\nPreparando la proteína: 4zha.\nPreparando la proteína: 5k0h.\nPreparando la proteína: 5voe.\nPreparando la proteína: 5vof.\n"
    }
   ],
   "source": [
    "# Sufijos para nombrar los archivos resultantes\n",
    "ens_f_tail = \"_ENS\"\n",
    "prep_f_tail = \"_PROT\"\n",
    "prep_anyways = False # True para volver a preparar TODAS las proteínas\n",
    "\n",
    "for pdb_file in np.array(pdb_list):\n",
    "    pdb_id = Path(pdb_file).stem.rsplit('_', 1)[0]\n",
    "    print(F\"Preparando la proteína: {pdb_id}.\")\n",
    "    # Omite el proceso si la proteína ya ha sido preparada previamente\n",
    "    if prep_anyways:\n",
    "        if os.path.isfile(out_dir_PREP_PROT  + pdb_id + prep_f_tail + \".pdb\") \\\n",
    "            and os.path.isfile(out_dir_ens + pdb_id + ens_f_tail + \".pdb\"):\n",
    "            print(F\"La proteína {pdb_id} ya existe en los directorios\\n\")\n",
    "            continue\n",
    "    \n",
    "    # ENSAMBLE: Añade átomos faltantes, incluyendo Hs\n",
    "    # No toma en cuenta los estados ionizables\n",
    "    ensamble_file = out_dir_ens + pdb_id + ens_f_tail + \".pdb\"\n",
    "    pdb4amber.run(arg_pdbin = pdb_file,\n",
    "                  #arg_reduce=True, #Dejaré las conformaciones de ensamble sin hidrógenos por ahora\n",
    "                  # UPDATE Agosto/2020:\n",
    "                  #**********************\n",
    "                  # La proteína 1c5m aparecía como completa, sin embargo ocacionó problemas al \n",
    "                  # momento de construir el ensamble, así que se corrigió todo de la siguiente manera\n",
    "                  # 1) como se está trabajando con un fragmento de la proteína, se agregó desde \n",
    "                  # MODELLER (notebook 3) un residuo extra al final (S), para que TODAS las \n",
    "                  # conformaciones aparecieran incompletas y fueran forzadas a ser modeladas \n",
    "                  # (evitando saltarse 1c5m, a la cual le faltaba un átomo en la región C-terminal\n",
    "                  # 2) Finalmente, se omite, para el ensamble, el comando reduce y en su lugar se \n",
    "                  # utiliza el comando add_missing_atoms que agrega hidrógenos sin estimar el pka de\n",
    "                  #  los residuos, garantizando así el mismo número de átomos en todas las \n",
    "                  # conformaciones\n",
    "                  #**********************\n",
    "                  arg_add_missing_atoms = True,\n",
    "                  ### Agosto 2020\n",
    "                  arg_conect=False,\n",
    "                  arg_constph=False,\n",
    "                  arg_pdbout = ensamble_file)\n",
    "    os.system(\"rm \" + out_dir_ens + \"/*\" + ens_f_tail + \"_*\")\n",
    "\n",
    "    \n",
    "    # PROT PREPARADA:\n",
    "    # Ejecuta pdb2pqr para obtener los estados de protonación de los residuos ionizables\n",
    "    pqr_file = out_dir_pqr + pdb_id + \"_PQR.pdb\"\n",
    "    os.system(\"pdb2pqr_cli --ff=amber --with-ph=7.0 --ffout=amber --ph-calc-method=propka --chain \"\n",
    "               + pdb_file + \" \" \n",
    "               + pqr_file )\n",
    "    # Vuelve a ejecutar pdb4amber para generar las PROT con los estados ionizables usando \"--reduce\"\n",
    "    prepared_file = out_dir_PREP_PROT  + pdb_id + prep_f_tail + \".pdb\"\n",
    "    pdb4amber.run(arg_pdbin  = pdb_file,\n",
    "                  arg_reduce = True,\n",
    "                  arg_pdbout = prepared_file )\n",
    "    # Elimina los archivos temporales de pdb4amber\n",
    "    \n",
    "    os.system(\"rm \" + out_dir_PREP_PROT + \"/*\" + prep_f_tail + \"_*\")"
   ]
  },
  {
   "cell_type": "code",
   "execution_count": null,
   "metadata": {},
   "outputs": [],
   "source": []
  }
 ],
 "metadata": {
  "kernelspec": {
   "display_name": "Python 3.7.7 64-bit ('base': conda)",
   "language": "python",
   "name": "python_defaultSpec_1596853776918"
  },
  "language_info": {
   "codemirror_mode": {
    "name": "ipython",
    "version": 3
   },
   "file_extension": ".py",
   "mimetype": "text/x-python",
   "name": "python",
   "nbconvert_exporter": "python",
   "pygments_lexer": "ipython3",
   "version": "3.7.7-final"
  }
 },
 "nbformat": 4,
 "nbformat_minor": 4
}