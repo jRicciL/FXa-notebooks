{
 "cells": [
  {
   "cell_type": "code",
   "execution_count": 1,
   "metadata": {},
   "outputs": [],
   "source": [
    "from prody import *\n",
    "import numpy as np\n",
    "import csv\n",
    "import pandas as pd\n",
    "import sys, os\n",
    "from glob import glob\n",
    "# Add the main the parent directory\n",
    "sys.path.append(r'..')"
   ]
  },
  {
   "cell_type": "code",
   "execution_count": 2,
   "metadata": {},
   "outputs": [],
   "source": [
    "# Protein name\n",
    "prot_name = 'fxa'\n",
    "# Protein sequence: P28482 (ERK2_HUMAN)\n",
    "uniprot_id = \"P00742\""
   ]
  },
  {
   "cell_type": "code",
   "execution_count": 3,
   "metadata": {},
   "outputs": [],
   "source": [
    "\n",
    "# Open the protein data table\n",
    "path_df_csv = glob(os.path.join('..', 'data', \n",
    "                        F'TABLA_MTDATA_{prot_name.upper()}_*_crys.json'))\n",
    "df_prot = pd.read_json(path_df_csv[0])\n",
    "df_prot.set_index('PDB_ID', inplace=True)\n"
   ]
  },
  {
   "cell_type": "code",
   "execution_count": 4,
   "metadata": {},
   "outputs": [
    {
     "name": "stdout",
     "output_type": "stream",
     "text": [
      "134 crystals 136 have at least one HETATM\n",
      "There are 314 HETATM molecules/atoms\n",
      "There are 147 DIFFERENT molecules/atoms.\n"
     ]
    }
   ],
   "source": [
    "# How many structures have a HETATM?\n",
    "df_prot_ligs = df_prot[df_prot.NumLigs > 0]\n",
    "print(F'{len(df_prot_ligs)} crystals {len(df_prot)} have at least one HETATM')\n",
    "\n",
    "# How many ligands are there?\n",
    "import itertools\n",
    "# List_ name all ligands\n",
    "lig_full_list = list( itertools.chain.from_iterable( df_prot.NameLigs ) )\n",
    "print(F'There are {len(lig_full_list)} HETATM molecules/atoms')\n",
    "\n",
    "lig_all_list = list(set(lig_full_list))\n",
    "print(F'There are {len(lig_all_list)} DIFFERENT molecules/atoms.')"
   ]
  },
  {
   "cell_type": "markdown",
   "metadata": {},
   "source": [
    "## Moléculas en la cavidad catalítica\n",
    "Ahora procedemos a identificar qué moléculas se encuentran en el sitio activo de la proteína, y si éstas tienen un peso molecular suficcientemente grande como para ser diferenciadas de posibles moléculas del solvente.\n",
    "\n",
    "### Estructura de referencia\n",
    "Tomamos como referencia alguna estructura del DataFrame con ligandos:\n",
    "\n",
    "De acuerdo a BindingDatabase, el mejor ligando (y la estructura con él es: http://www.rcsb.org/pdb/results/results.do?tabtoshow=Current&qrid=EA4EE133\n",
    "\n",
    "2P3T y ligando 993"
   ]
  },
  {
   "cell_type": "code",
   "execution_count": 6,
   "metadata": {},
   "outputs": [
    {
     "data": {
      "application/vnd.jupyter.widget-view+json": {
       "model_id": "c70e2ca05cf1434da6a463d8d9cbe608",
       "version_major": 2,
       "version_minor": 0
      },
      "text/plain": []
     },
     "metadata": {},
     "output_type": "display_data"
    }
   ],
   "source": [
    "from modules.get_cocristalized_ligands import PocketResidues"
   ]
  },
  {
   "cell_type": "code",
   "execution_count": 7,
   "metadata": {},
   "outputs": [
    {
     "name": "stderr",
     "output_type": "stream",
     "text": [
      "@> 1906 atoms and 1 coordinate set(s) were parsed in 0.02s.\n",
      "@> 144 atoms and 1 coordinate set(s) were parsed in 0.01s.\n"
     ]
    },
    {
     "data": {
      "text/plain": [
       "'131 134 161 178 179 180 181 184 202 203 204 205 206 207 208 209 82 83 84 214 215 216'"
      ]
     },
     "execution_count": 7,
     "metadata": {},
     "output_type": "execute_result"
    }
   ],
   "source": [
    "prot_main_dir = '../../FILES/CRYSTALS/PROT_FXA_PREPARED/PREP_ALL_ENSAMBLE'\n",
    "raw_ligs_dir = '../../FILES/CRYSTALS/LIGS_FXA/RAW'\n",
    "\n",
    "pdb_id = '1ezq'\n",
    "ligand_resname = 'RPR'\n",
    "\n",
    "ref_structure = PocketResidues(pdb_id, ligand_resname, prot_main_dir, raw_ligs_dir)\n",
    "# Get the pocket redidues\n",
    "pocket_residues = ref_structure.get_pocket_residues_as_str(cutoff=5)\n",
    "pocket_residues"
   ]
  },
  {
   "cell_type": "code",
   "execution_count": 8,
   "metadata": {},
   "outputs": [
    {
     "data": {
      "application/vnd.jupyter.widget-view+json": {
       "model_id": "66e2f331e007482ca34961593f333957",
       "version_major": 2,
       "version_minor": 0
      },
      "text/plain": [
       "NGLWidget()"
      ]
     },
     "metadata": {},
     "output_type": "display_data"
    }
   ],
   "source": [
    "# Visualize the pocket residues\n",
    "view = ref_structure.visualize_pocket(cutoff=5)\n",
    "view"
   ]
  },
  {
   "cell_type": "markdown",
   "metadata": {},
   "source": [
    "Cualquier molécula que tenga un átomo en contacto con la esfera, será considerada como ligando unido al sitio activo.\n",
    "\n",
    "## Determinación de los ligandos\n",
    "Ahora, procedemos a utilizar la estructura de referencia modelada con Modeller. Hay que recordar que todas las estructuras modeladas fueron alineadas previamente tomando en cuenta la estructura secundaria de la proteína, y que el alineamiento incluyó la reposición relativa de los ligandos.\n",
    "\n",
    "\n",
    "### Pasos y función para obtener los ligandos"
   ]
  },
  {
   "cell_type": "code",
   "execution_count": 9,
   "metadata": {},
   "outputs": [],
   "source": [
    "# Definimos los directorios de trabajo\n",
    "main_dir = '../../FILES/CRYSTALS'\n",
    "RAW_LIG_DIR = F'{main_dir}/LIGS_{prot_name.upper()}/RAW/'\n",
    "PROT_CHAINS_DIR = F'{main_dir}/PROT_{prot_name.upper()}_PREPARED/PREP_ALL_ENSAMBLE/'\n",
    "\n",
    "# Directorio de salida (lo creamos si no existe):\n",
    "PK_LIGS_DIR = F'{main_dir}/LIGS_{prot_name.upper()}/POCKET_LIGS/'\n",
    "import os\n",
    "if not os.path.exists(PK_LIGS_DIR):\n",
    "    os.makedirs(PK_LIGS_DIR)"
   ]
  },
  {
   "cell_type": "code",
   "execution_count": 10,
   "metadata": {},
   "outputs": [
    {
     "name": "stderr",
     "output_type": "stream",
     "text": [
      "@> 1338 atoms and 1 coordinate set(s) were parsed in 0.02s.\n",
      "@> 3781 atoms and 1 coordinate set(s) were parsed in 0.06s.\n",
      "@> 144 atoms and 1 coordinate set(s) were parsed in 0.00s.\n",
      "@> 1906 atoms and 1 coordinate set(s) were parsed in 0.02s.\n",
      "@> 202 atoms and 1 coordinate set(s) were parsed in 0.00s.\n",
      "@> 1906 atoms and 1 coordinate set(s) were parsed in 0.02s.\n"
     ]
    },
    {
     "name": "stdout",
     "output_type": "stream",
     "text": [
      "['HOH']\n",
      "La proteina 1c5m NO TIENE LIGANDO.\n",
      "['HOH' 'RPR']\n",
      "Proteína 1ezq: ligando RPR guardado.\n",
      "['815' 'HOH']\n",
      "Proteína 1f0r: ligando 815 guardado.\n"
     ]
    },
    {
     "name": "stderr",
     "output_type": "stream",
     "text": [
      "@> 177 atoms and 1 coordinate set(s) were parsed in 0.04s.\n",
      "@> 1906 atoms and 1 coordinate set(s) were parsed in 0.03s.\n",
      "@> 40 atoms and 1 coordinate set(s) were parsed in 0.02s.\n",
      "@> 1906 atoms and 1 coordinate set(s) were parsed in 0.03s.\n",
      "@> 239 atoms and 1 coordinate set(s) were parsed in 0.01s.\n",
      "@> 1906 atoms and 1 coordinate set(s) were parsed in 0.03s.\n"
     ]
    },
    {
     "name": "stdout",
     "output_type": "stream",
     "text": [
      "['HOH' 'PR2']\n",
      "Proteína 1f0s: ligando PR2 guardado.\n",
      "['DX9']\n",
      "Proteína 1fax: ligando DX9 guardado.\n",
      "['HOH' 'Z34']\n"
     ]
    },
    {
     "name": "stderr",
     "output_type": "stream",
     "text": [
      "@> 253 atoms and 1 coordinate set(s) were parsed in 0.02s.\n",
      "@> 1906 atoms and 1 coordinate set(s) were parsed in 0.02s.\n",
      "@> 33 atoms and 1 coordinate set(s) were parsed in 0.00s.\n",
      "@> 1906 atoms and 1 coordinate set(s) were parsed in 0.02s.\n",
      "@> 207 atoms and 1 coordinate set(s) were parsed in 0.00s.\n",
      "@> 1906 atoms and 1 coordinate set(s) were parsed in 0.02s.\n"
     ]
    },
    {
     "name": "stdout",
     "output_type": "stream",
     "text": [
      "Proteína 1fjs: ligando Z34 guardado.\n",
      "['HOH' 'T87']\n",
      "Proteína 1g2l: ligando T87 guardado.\n",
      "['R11']\n",
      "Proteína 1g2m: ligando R11 guardado.\n",
      "['HOH']\n"
     ]
    },
    {
     "name": "stderr",
     "output_type": "stream",
     "text": [
      "@> 39 atoms and 1 coordinate set(s) were parsed in 0.02s.\n",
      "@> 1906 atoms and 1 coordinate set(s) were parsed in 0.02s.\n",
      "@> 42 atoms and 1 coordinate set(s) were parsed in 0.00s.\n",
      "@> 1906 atoms and 1 coordinate set(s) were parsed in 0.02s.\n",
      "@> 40 atoms and 1 coordinate set(s) were parsed in 0.00s.\n",
      "@> 1906 atoms and 1 coordinate set(s) were parsed in 0.02s.\n",
      "@> 132 atoms and 1 coordinate set(s) were parsed in 0.01s.\n",
      "@> 1906 atoms and 1 coordinate set(s) were parsed in 0.02s.\n",
      "@> 37 atoms and 1 coordinate set(s) were parsed in 0.00s.\n"
     ]
    },
    {
     "name": "stdout",
     "output_type": "stream",
     "text": [
      "La proteina 1hcg NO TIENE LIGANDO.\n",
      "['XMA']\n",
      "Proteína 1ioe: ligando XMA guardado.\n",
      "['XMB']\n",
      "Proteína 1iqe: ligando XMB guardado.\n",
      "['XMD']\n",
      "Proteína 1iqf: ligando XMD guardado.\n",
      "['HOH' 'XME']\n",
      "Proteína 1iqg: ligando XME guardado.\n"
     ]
    },
    {
     "name": "stderr",
     "output_type": "stream",
     "text": [
      "@> 1906 atoms and 1 coordinate set(s) were parsed in 0.02s.\n",
      "@> 37 atoms and 1 coordinate set(s) were parsed in 0.00s.\n",
      "@> 1906 atoms and 1 coordinate set(s) were parsed in 0.02s.\n",
      "@> 39 atoms and 1 coordinate set(s) were parsed in 0.00s.\n",
      "@> 1906 atoms and 1 coordinate set(s) were parsed in 0.03s.\n",
      "@> 35 atoms and 1 coordinate set(s) were parsed in 0.01s.\n",
      "@> 1906 atoms and 1 coordinate set(s) were parsed in 0.02s.\n",
      "@> 33 atoms and 1 coordinate set(s) were parsed in 0.00s.\n",
      "@> 1906 atoms and 1 coordinate set(s) were parsed in 0.02s.\n",
      "@> 72 atoms and 1 coordinate set(s) were parsed in 0.00s.\n",
      "@> 1906 atoms and 1 coordinate set(s) were parsed in 0.02s.\n"
     ]
    },
    {
     "name": "stdout",
     "output_type": "stream",
     "text": [
      "['XMF']\n",
      "Proteína 1iqh: ligando XMF guardado.\n",
      "['XMG']\n",
      "Proteína 1iqi: ligando XMG guardado.\n",
      "['XMH']\n",
      "Proteína 1iqj: ligando XMH guardado.\n",
      "['XMI']\n",
      "Proteína 1iqk: ligando XMI guardado.\n",
      "['XMJ']\n",
      "Proteína 1iql: ligando XMJ guardado.\n",
      "['HOH' 'XMK']\n"
     ]
    },
    {
     "name": "stderr",
     "output_type": "stream",
     "text": [
      "@> 112 atoms and 1 coordinate set(s) were parsed in 0.00s.\n",
      "@> 1906 atoms and 1 coordinate set(s) were parsed in 0.02s.\n",
      "@> 169 atoms and 1 coordinate set(s) were parsed in 0.00s.\n",
      "@> 1906 atoms and 1 coordinate set(s) were parsed in 0.02s.\n",
      "@> 337 atoms and 1 coordinate set(s) were parsed in 0.00s.\n",
      "@> 1906 atoms and 1 coordinate set(s) were parsed in 0.02s.\n",
      "@> 329 atoms and 1 coordinate set(s) were parsed in 0.01s.\n"
     ]
    },
    {
     "name": "stdout",
     "output_type": "stream",
     "text": [
      "Proteína 1iqm: ligando XMK guardado.\n",
      "['HOH' 'XMC']\n",
      "Proteína 1iqn: ligando XMC guardado.\n",
      "['FXV' 'HOH']\n",
      "Proteína 1ksn: ligando FXV guardado.\n",
      "['HOH' 'IMA']\n",
      "Proteína 1lpg: ligando IMA guardado.\n"
     ]
    },
    {
     "name": "stderr",
     "output_type": "stream",
     "text": [
      "@> 1906 atoms and 1 coordinate set(s) were parsed in 0.02s.\n",
      "@> 324 atoms and 1 coordinate set(s) were parsed in 0.00s.\n",
      "@> 1906 atoms and 1 coordinate set(s) were parsed in 0.02s.\n",
      "@> 327 atoms and 1 coordinate set(s) were parsed in 0.00s.\n",
      "@> 1906 atoms and 1 coordinate set(s) were parsed in 0.02s.\n"
     ]
    },
    {
     "name": "stdout",
     "output_type": "stream",
     "text": [
      "['CBB' 'HOH']\n",
      "Proteína 1lpk: ligando CBB guardado.\n",
      "['CMB' 'HOH']\n",
      "Proteína 1lpz: ligando CMB guardado.\n",
      "['CMI' 'HOH']\n"
     ]
    },
    {
     "name": "stderr",
     "output_type": "stream",
     "text": [
      "@> 225 atoms and 1 coordinate set(s) were parsed in 0.00s.\n",
      "@> 1906 atoms and 1 coordinate set(s) were parsed in 0.02s.\n",
      "@> 219 atoms and 1 coordinate set(s) were parsed in 0.02s.\n",
      "@> 1906 atoms and 1 coordinate set(s) were parsed in 0.02s.\n",
      "@> 194 atoms and 1 coordinate set(s) were parsed in 0.00s.\n",
      "@> 1906 atoms and 1 coordinate set(s) were parsed in 0.02s.\n"
     ]
    },
    {
     "name": "stdout",
     "output_type": "stream",
     "text": [
      "Proteína 1lqd: ligando CMI guardado.\n",
      "['HOH' 'XLC']\n",
      "Proteína 1mq5: ligando XLC guardado.\n",
      "['HOH' 'XLD']\n",
      "Proteína 1mq6: ligando XLD guardado.\n",
      "['HOH' 'RRP']\n",
      "Proteína 1nfu: ligando RRP guardado.\n"
     ]
    },
    {
     "name": "stderr",
     "output_type": "stream",
     "text": [
      "@> 199 atoms and 1 coordinate set(s) were parsed in 0.00s.\n",
      "@> 1906 atoms and 1 coordinate set(s) were parsed in 0.02s.\n",
      "@> 191 atoms and 1 coordinate set(s) were parsed in 0.00s.\n",
      "@> 1906 atoms and 1 coordinate set(s) were parsed in 0.02s.\n",
      "@> 198 atoms and 1 coordinate set(s) were parsed in 0.00s.\n",
      "@> 1906 atoms and 1 coordinate set(s) were parsed in 0.02s.\n",
      "@> 188 atoms and 1 coordinate set(s) were parsed in 0.00s.\n",
      "@> 1906 atoms and 1 coordinate set(s) were parsed in 0.01s.\n",
      "@> 198 atoms and 1 coordinate set(s) were parsed in 0.00s.\n",
      "@> 1906 atoms and 1 coordinate set(s) were parsed in 0.02s.\n"
     ]
    },
    {
     "name": "stdout",
     "output_type": "stream",
     "text": [
      "['HOH' 'RRR']\n",
      "Proteína 1nfw: ligando RRR guardado.\n",
      "['HOH' 'RDR']\n",
      "Proteína 1nfx: ligando RDR guardado.\n",
      "['HOH' 'RTR']\n",
      "Proteína 1nfy: ligando RTR guardado.\n",
      "['HOH' 'NA']\n",
      "La proteina 1p0s NO TIENE LIGANDO.\n",
      "['CA' 'D76' 'HOH']\n"
     ]
    },
    {
     "name": "stderr",
     "output_type": "stream",
     "text": [
      "@> 111 atoms and 1 coordinate set(s) were parsed in 0.00s.\n",
      "@> 1906 atoms and 1 coordinate set(s) were parsed in 0.02s.\n",
      "@> 249 atoms and 1 coordinate set(s) were parsed in 0.00s.\n",
      "@> 1906 atoms and 1 coordinate set(s) were parsed in 0.02s.\n",
      "@> 378 atoms and 1 coordinate set(s) were parsed in 0.00s.\n",
      "@> 1906 atoms and 1 coordinate set(s) were parsed in 0.06s.\n"
     ]
    },
    {
     "name": "stdout",
     "output_type": "stream",
     "text": [
      "Proteína 1v3x: ligando D76 guardado.\n",
      "['CA' 'D91' 'HOH']\n",
      "Proteína 1wu1: ligando D91 guardado.\n",
      "['4PP' 'HOH']\n",
      "Proteína 1xka: ligando 4PP guardado.\n",
      "['4PP' 'HOH']\n"
     ]
    },
    {
     "name": "stderr",
     "output_type": "stream",
     "text": [
      "@> 199 atoms and 1 coordinate set(s) were parsed in 0.00s.\n",
      "@> 1906 atoms and 1 coordinate set(s) were parsed in 0.02s.\n",
      "@> 254 atoms and 1 coordinate set(s) were parsed in 0.00s.\n",
      "@> 1906 atoms and 1 coordinate set(s) were parsed in 0.02s.\n",
      "@> 255 atoms and 1 coordinate set(s) were parsed in 0.00s.\n",
      "@> 1906 atoms and 1 coordinate set(s) were parsed in 0.02s.\n"
     ]
    },
    {
     "name": "stdout",
     "output_type": "stream",
     "text": [
      "Proteína 1xkb: ligando 4PP guardado.\n",
      "['HOH' 'IK8']\n",
      "Proteína 1z6e: ligando IK8 guardado.\n",
      "['HOH' 'I1H']\n",
      "Proteína 2bmg: ligando I1H guardado.\n",
      "['HOH' 'IIA']\n"
     ]
    },
    {
     "name": "stderr",
     "output_type": "stream",
     "text": [
      "@> 306 atoms and 1 coordinate set(s) were parsed in 0.00s.\n",
      "@> 1906 atoms and 1 coordinate set(s) were parsed in 0.02s.\n",
      "@> 110 atoms and 1 coordinate set(s) were parsed in 0.02s.\n",
      "@> 1906 atoms and 1 coordinate set(s) were parsed in 0.02s.\n",
      "@> 321 atoms and 1 coordinate set(s) were parsed in 0.00s.\n",
      "@> 1906 atoms and 1 coordinate set(s) were parsed in 0.02s.\n"
     ]
    },
    {
     "name": "stdout",
     "output_type": "stream",
     "text": [
      "Proteína 2boh: ligando IIA guardado.\n",
      "['784' 'HOH' 'NA']\n",
      "Proteína 2bok: ligando 784 guardado.\n",
      "['HOH' 'IIB']\n",
      "Proteína 2bq6: ligando IIB guardado.\n",
      "['HOH' 'IID']\n"
     ]
    },
    {
     "name": "stderr",
     "output_type": "stream",
     "text": [
      "@> 159 atoms and 1 coordinate set(s) were parsed in 0.00s.\n",
      "@> 1906 atoms and 1 coordinate set(s) were parsed in 0.02s.\n",
      "@> 175 atoms and 1 coordinate set(s) were parsed in 0.00s.\n",
      "@> 1906 atoms and 1 coordinate set(s) were parsed in 0.02s.\n",
      "@> 144 atoms and 1 coordinate set(s) were parsed in 0.00s.\n",
      "@> 1906 atoms and 1 coordinate set(s) were parsed in 0.02s.\n",
      "@> 99 atoms and 1 coordinate set(s) were parsed in 0.02s.\n",
      "@> 1906 atoms and 1 coordinate set(s) were parsed in 0.02s.\n"
     ]
    },
    {
     "name": "stdout",
     "output_type": "stream",
     "text": [
      "Proteína 2bq7: ligando IID guardado.\n",
      "['HOH' 'IIE']\n",
      "Proteína 2bqw: ligando IIE guardado.\n",
      "['GSK' 'HOH']\n",
      "Proteína 2cji: ligando GSK guardado.\n",
      "['CA' 'D01' 'HOH']\n",
      "Proteína 2d1j: ligando D01 guardado.\n",
      "['CA' 'D92' 'HOH']\n"
     ]
    },
    {
     "name": "stderr",
     "output_type": "stream",
     "text": [
      "@> 100 atoms and 1 coordinate set(s) were parsed in 0.02s.\n",
      "@> 1906 atoms and 1 coordinate set(s) were parsed in 0.02s.\n",
      "@> 205 atoms and 1 coordinate set(s) were parsed in 0.00s.\n",
      "@> 1906 atoms and 1 coordinate set(s) were parsed in 0.02s.\n",
      "@> 43 atoms and 1 coordinate set(s) were parsed in 0.01s.\n",
      "@> 1906 atoms and 1 coordinate set(s) were parsed in 0.02s.\n",
      "@> 39 atoms and 1 coordinate set(s) were parsed in 0.00s.\n",
      "@> 1906 atoms and 1 coordinate set(s) were parsed in 0.02s.\n"
     ]
    },
    {
     "name": "stdout",
     "output_type": "stream",
     "text": [
      "Proteína 2ei6: ligando D92 guardado.\n",
      "['CA' 'D93' 'HOH']\n",
      "Proteína 2ei7: ligando D93 guardado.\n",
      "['CA' 'DT8' 'HOH']\n",
      "Proteína 2ei8: ligando DT8 guardado.\n",
      "['5QC']\n",
      "Proteína 2fzz: ligando 5QC guardado.\n",
      "['4QC']\n",
      "Proteína 2g00: ligando 4QC guardado.\n"
     ]
    },
    {
     "name": "stderr",
     "output_type": "stream",
     "text": [
      "@> 402 atoms and 1 coordinate set(s) were parsed in 0.00s.\n",
      "@> 1906 atoms and 1 coordinate set(s) were parsed in 0.02s.\n",
      "@> 321 atoms and 1 coordinate set(s) were parsed in 0.00s.\n",
      "@> 1906 atoms and 1 coordinate set(s) were parsed in 0.02s.\n",
      "@> 223 atoms and 1 coordinate set(s) were parsed in 0.00s.\n",
      "@> 1906 atoms and 1 coordinate set(s) were parsed in 0.02s.\n",
      "@> 232 atoms and 1 coordinate set(s) were parsed in 0.01s.\n",
      "@> 1906 atoms and 1 coordinate set(s) were parsed in 0.02s.\n",
      "@> 264 atoms and 1 coordinate set(s) were parsed in 0.00s.\n"
     ]
    },
    {
     "name": "stdout",
     "output_type": "stream",
     "text": [
      "La proteina 2gd4 no tiene ligando en el pocket.\n",
      "['DTY' 'HOH' 'NA']\n",
      "Proteína 2h9e: ligando DTY guardado.\n",
      "['GSQ' 'HOH']\n",
      "Proteína 2j2u: ligando GSQ guardado.\n",
      "['GS6' 'HOH']\n",
      "Proteína 2j34: ligando GS6 guardado.\n"
     ]
    },
    {
     "name": "stderr",
     "output_type": "stream",
     "text": [
      "@> 1906 atoms and 1 coordinate set(s) were parsed in 0.02s.\n",
      "@> 244 atoms and 1 coordinate set(s) were parsed in 0.00s.\n",
      "@> 1906 atoms and 1 coordinate set(s) were parsed in 0.02s.\n",
      "@> 202 atoms and 1 coordinate set(s) were parsed in 0.00s.\n",
      "@> 1906 atoms and 1 coordinate set(s) were parsed in 0.02s.\n",
      "@> 200 atoms and 1 coordinate set(s) were parsed in 0.00s.\n",
      "@> 1906 atoms and 1 coordinate set(s) were parsed in 0.02s.\n"
     ]
    },
    {
     "name": "stdout",
     "output_type": "stream",
     "text": [
      "['GS5' 'HOH']\n",
      "Proteína 2j38: ligando GS5 guardado.\n",
      "['GSJ' 'HOH']\n",
      "Proteína 2j4i: ligando GSJ guardado.\n",
      "['G15' 'HOH']\n",
      "Proteína 2j94: ligando G15 guardado.\n",
      "['GSX' 'HOH']\n"
     ]
    },
    {
     "name": "stderr",
     "output_type": "stream",
     "text": [
      "@> 443 atoms and 1 coordinate set(s) were parsed in 0.00s.\n",
      "@> 1906 atoms and 1 coordinate set(s) were parsed in 0.02s.\n",
      "@> 156 atoms and 1 coordinate set(s) were parsed in 0.00s.\n",
      "@> 1906 atoms and 1 coordinate set(s) were parsed in 0.02s.\n",
      "@> 53 atoms and 1 coordinate set(s) were parsed in 0.00s.\n",
      "@> 1906 atoms and 1 coordinate set(s) were parsed in 0.02s.\n",
      "@> 209 atoms and 1 coordinate set(s) were parsed in 0.00s.\n",
      "@> 1906 atoms and 1 coordinate set(s) were parsed in 0.02s.\n"
     ]
    },
    {
     "name": "stdout",
     "output_type": "stream",
     "text": [
      "Proteína 2j95: ligando GSX guardado.\n",
      "['BI7' 'HOH' 'NA']\n",
      "Proteína 2jkh: ligando BI7 guardado.\n",
      "['GG2' 'HOH']\n",
      "Proteína 2p16: ligando GG2 guardado.\n",
      "['HOH' 'NA']\n",
      "La proteina 2p3f NO TIENE LIGANDO.\n"
     ]
    },
    {
     "name": "stderr",
     "output_type": "stream",
     "text": [
      "@> 304 atoms and 1 coordinate set(s) were parsed in 0.00s.\n",
      "@> 1906 atoms and 1 coordinate set(s) were parsed in 0.02s.\n",
      "@> 208 atoms and 1 coordinate set(s) were parsed in 0.00s.\n",
      "@> 1906 atoms and 1 coordinate set(s) were parsed in 0.02s.\n",
      "@> 170 atoms and 1 coordinate set(s) were parsed in 0.00s.\n",
      "@> 1906 atoms and 1 coordinate set(s) were parsed in 0.02s.\n",
      "@> 118 atoms and 1 coordinate set(s) were parsed in 0.00s.\n"
     ]
    },
    {
     "name": "stdout",
     "output_type": "stream",
     "text": [
      "['993' 'HOH']\n",
      "Proteína 2p3t: ligando 993 guardado.\n",
      "['663' 'CA' 'HOH']\n",
      "Proteína 2p3u: ligando 663 guardado.\n",
      "['HOH' 'ME1']\n",
      "Proteína 2p93: ligando ME1 guardado.\n",
      "['HOH' 'ME4']\n",
      "Proteína 2p94: ligando ME4 guardado.\n"
     ]
    },
    {
     "name": "stderr",
     "output_type": "stream",
     "text": [
      "@> 1906 atoms and 1 coordinate set(s) were parsed in 0.02s.\n",
      "@> 85 atoms and 1 coordinate set(s) were parsed in 0.00s.\n",
      "@> 1906 atoms and 1 coordinate set(s) were parsed in 0.02s.\n",
      "@> 261 atoms and 1 coordinate set(s) were parsed in 0.02s.\n",
      "@> 1906 atoms and 1 coordinate set(s) were parsed in 0.02s.\n",
      "@> 138 atoms and 1 coordinate set(s) were parsed in 0.00s.\n",
      "@> 1906 atoms and 1 coordinate set(s) were parsed in 0.02s.\n",
      "@> 120 atoms and 1 coordinate set(s) were parsed in 0.00s.\n"
     ]
    },
    {
     "name": "stdout",
     "output_type": "stream",
     "text": [
      "['HOH' 'ME5']\n",
      "Proteína 2p95: ligando ME5 guardado.\n",
      "['230' 'HOH']\n",
      "Proteína 2phb: ligando 230 guardado.\n",
      "['237' 'CA' 'HOH']\n",
      "Proteína 2pr3: ligando 237 guardado.\n",
      "['FXI' 'HOH']\n",
      "Proteína 2q1j: ligando FXI guardado.\n"
     ]
    },
    {
     "name": "stderr",
     "output_type": "stream",
     "text": [
      "@> 1906 atoms and 1 coordinate set(s) were parsed in 0.02s.\n",
      "@> 228 atoms and 1 coordinate set(s) were parsed in 0.00s.\n",
      "@> 1906 atoms and 1 coordinate set(s) were parsed in 0.02s.\n",
      "@> 232 atoms and 1 coordinate set(s) were parsed in 0.00s.\n",
      "@> 1906 atoms and 1 coordinate set(s) were parsed in 0.02s.\n",
      "@> 280 atoms and 1 coordinate set(s) were parsed in 0.00s.\n",
      "@> 1906 atoms and 1 coordinate set(s) were parsed in 0.02s.\n"
     ]
    },
    {
     "name": "stdout",
     "output_type": "stream",
     "text": [
      "['HOH' 'JNJ']\n",
      "Proteína 2ra0: ligando JNJ guardado.\n",
      "['895' 'HOH']\n",
      "Proteína 2uwl: ligando 895 guardado.\n",
      "['701' 'HOH']\n",
      "Proteína 2uwo: ligando 701 guardado.\n",
      "['894' 'HOH' 'MG']\n"
     ]
    },
    {
     "name": "stderr",
     "output_type": "stream",
     "text": [
      "@> 268 atoms and 1 coordinate set(s) were parsed in 0.00s.\n",
      "@> 1906 atoms and 1 coordinate set(s) were parsed in 0.02s.\n",
      "@> 206 atoms and 1 coordinate set(s) were parsed in 0.00s.\n",
      "@> 1906 atoms and 1 coordinate set(s) were parsed in 0.02s.\n",
      "@> 645 atoms and 1 coordinate set(s) were parsed in 0.01s.\n",
      "@> 1906 atoms and 1 coordinate set(s) were parsed in 0.02s.\n"
     ]
    },
    {
     "name": "stdout",
     "output_type": "stream",
     "text": [
      "Proteína 2uwp: ligando 894 guardado.\n",
      "['GSI' 'HOH' 'MG']\n",
      "Proteína 2vh0: ligando GSI guardado.\n",
      "['GSV' 'HOH']\n",
      "Proteína 2vh6: ligando GSV guardado.\n",
      "['HOH' 'LZF' 'NA']\n"
     ]
    },
    {
     "name": "stderr",
     "output_type": "stream",
     "text": [
      "@> 226 atoms and 1 coordinate set(s) were parsed in 0.00s.\n",
      "@> 1906 atoms and 1 coordinate set(s) were parsed in 0.02s.\n",
      "@> 469 atoms and 1 coordinate set(s) were parsed in 0.00s.\n",
      "@> 1906 atoms and 1 coordinate set(s) were parsed in 0.01s.\n",
      "@> 303 atoms and 1 coordinate set(s) were parsed in 0.00s.\n",
      "@> 1906 atoms and 1 coordinate set(s) were parsed in 0.02s.\n"
     ]
    },
    {
     "name": "stdout",
     "output_type": "stream",
     "text": [
      "Proteína 2vvc: ligando LZF guardado.\n",
      "['H22' 'HOH' 'NA']\n",
      "Proteína 2vvu: ligando H22 guardado.\n",
      "['H21' 'HOH' 'NA']\n",
      "Proteína 2vvv: ligando H21 guardado.\n",
      "['CL' 'HOH' 'LZH' 'NA']\n"
     ]
    },
    {
     "name": "stderr",
     "output_type": "stream",
     "text": [
      "@> 641 atoms and 1 coordinate set(s) were parsed in 0.05s.\n",
      "@> 1906 atoms and 1 coordinate set(s) were parsed in 0.02s.\n",
      "@> 278 atoms and 1 coordinate set(s) were parsed in 0.00s.\n",
      "@> 1906 atoms and 1 coordinate set(s) were parsed in 0.02s.\n"
     ]
    },
    {
     "name": "stdout",
     "output_type": "stream",
     "text": [
      "Proteína 2vwl: ligando LZH guardado.\n",
      "['HOH' 'LZI' 'NA']\n",
      "Proteína 2vwm: ligando LZI guardado.\n",
      "['CL' 'H25' 'HOH' 'NA']\n"
     ]
    },
    {
     "name": "stderr",
     "output_type": "stream",
     "text": [
      "@> 260 atoms and 1 coordinate set(s) were parsed in 0.00s.\n",
      "@> 1906 atoms and 1 coordinate set(s) were parsed in 0.02s.\n",
      "@> 137 atoms and 1 coordinate set(s) were parsed in 0.00s.\n",
      "@> 1906 atoms and 1 coordinate set(s) were parsed in 0.02s.\n",
      "@> 206 atoms and 1 coordinate set(s) were parsed in 0.00s.\n",
      "@> 1906 atoms and 1 coordinate set(s) were parsed in 0.02s.\n",
      "@> 161 atoms and 1 coordinate set(s) were parsed in 0.00s.\n"
     ]
    },
    {
     "name": "stdout",
     "output_type": "stream",
     "text": [
      "Proteína 2vwn: ligando H25 guardado.\n",
      "['CL' 'HOH' 'LZG' 'NA']\n",
      "Proteína 2vwo: ligando LZG guardado.\n",
      "['CA' 'HOH' 'RIV']\n",
      "Proteína 2w26: ligando RIV guardado.\n",
      "['HOH' 'L1C']\n",
      "Proteína 2w3i: ligando L1C guardado.\n"
     ]
    },
    {
     "name": "stderr",
     "output_type": "stream",
     "text": [
      "@> 1906 atoms and 1 coordinate set(s) were parsed in 0.03s.\n",
      "@> 240 atoms and 1 coordinate set(s) were parsed in 0.00s.\n",
      "@> 1906 atoms and 1 coordinate set(s) were parsed in 0.02s.\n",
      "@> 121 atoms and 1 coordinate set(s) were parsed in 0.00s.\n",
      "@> 1906 atoms and 1 coordinate set(s) were parsed in 0.02s.\n",
      "@> 323 atoms and 1 coordinate set(s) were parsed in 0.01s.\n",
      "@> 1906 atoms and 1 coordinate set(s) were parsed in 0.02s.\n"
     ]
    },
    {
     "name": "stdout",
     "output_type": "stream",
     "text": [
      "['HOH' 'L1D']\n",
      "Proteína 2w3k: ligando L1D guardado.\n",
      "['461' 'HOH']\n",
      "Proteína 2wyg: ligando 461 guardado.\n",
      "['898' 'HOH']\n",
      "Proteína 2wyj: ligando 898 guardado.\n",
      "['HOH' 'NA' 'XBV']\n"
     ]
    },
    {
     "name": "stderr",
     "output_type": "stream",
     "text": [
      "@> 284 atoms and 1 coordinate set(s) were parsed in 0.01s.\n",
      "@> 1906 atoms and 1 coordinate set(s) were parsed in 0.02s.\n",
      "@> 284 atoms and 1 coordinate set(s) were parsed in 0.00s.\n",
      "@> 1906 atoms and 1 coordinate set(s) were parsed in 0.02s.\n",
      "@> 263 atoms and 1 coordinate set(s) were parsed in 0.00s.\n",
      "@> 1906 atoms and 1 coordinate set(s) were parsed in 0.02s.\n"
     ]
    },
    {
     "name": "stdout",
     "output_type": "stream",
     "text": [
      "Proteína 2xbv: ligando XBV guardado.\n",
      "['455' 'HOH' 'NA']\n",
      "Proteína 2xbw: ligando 455 guardado.\n",
      "['HOH' 'NA' 'RR8']\n",
      "Proteína 2xbx: ligando RR8 guardado.\n",
      "['63C' 'HOH' 'NA']\n"
     ]
    },
    {
     "name": "stderr",
     "output_type": "stream",
     "text": [
      "@> 228 atoms and 1 coordinate set(s) were parsed in 0.00s.\n",
      "@> 1906 atoms and 1 coordinate set(s) were parsed in 0.02s.\n",
      "@> 348 atoms and 1 coordinate set(s) were parsed in 0.00s.\n",
      "@> 1906 atoms and 1 coordinate set(s) were parsed in 0.02s.\n",
      "@> 214 atoms and 1 coordinate set(s) were parsed in 0.00s.\n",
      "@> 1906 atoms and 1 coordinate set(s) were parsed in 0.02s.\n",
      "@> 467 atoms and 1 coordinate set(s) were parsed in 0.00s.\n"
     ]
    },
    {
     "name": "stdout",
     "output_type": "stream",
     "text": [
      "Proteína 2xby: ligando 63C guardado.\n",
      "['8NC' 'HOH' 'NA']\n",
      "Proteína 2xc0: ligando 8NC guardado.\n",
      "['HOH' 'IVK' 'NA']\n",
      "Proteína 2xc4: ligando IVK guardado.\n",
      "['HOH' 'NA' 'OYJ']\n",
      "Proteína 2xc5: ligando OYJ guardado.\n"
     ]
    },
    {
     "name": "stderr",
     "output_type": "stream",
     "text": [
      "@> 1906 atoms and 1 coordinate set(s) were parsed in 0.02s.\n",
      "@> 434 atoms and 1 coordinate set(s) were parsed in 0.00s.\n",
      "@> 1906 atoms and 1 coordinate set(s) were parsed in 0.03s.\n",
      "@> 429 atoms and 1 coordinate set(s) were parsed in 0.00s.\n"
     ]
    },
    {
     "name": "stdout",
     "output_type": "stream",
     "text": [
      "['HOH' 'NA' 'XWG']\n",
      "Proteína 2y5f: ligando XWG guardado.\n",
      "['FJD' 'HOH' 'NA']\n",
      "Proteína 2y5g: ligando FJD guardado.\n"
     ]
    },
    {
     "name": "stderr",
     "output_type": "stream",
     "text": [
      "@> 1906 atoms and 1 coordinate set(s) were parsed in 0.02s.\n",
      "@> 279 atoms and 1 coordinate set(s) were parsed in 0.00s.\n",
      "@> 1906 atoms and 1 coordinate set(s) were parsed in 0.02s.\n",
      "@> 243 atoms and 1 coordinate set(s) were parsed in 0.01s.\n",
      "@> 1906 atoms and 1 coordinate set(s) were parsed in 0.02s.\n",
      "@> 271 atoms and 1 coordinate set(s) were parsed in 0.00s.\n",
      "@> 1906 atoms and 1 coordinate set(s) were parsed in 0.03s.\n"
     ]
    },
    {
     "name": "stdout",
     "output_type": "stream",
     "text": [
      "['HOH' 'NA' 'Y5H']\n",
      "Proteína 2y5h: ligando Y5H guardado.\n",
      "['HOH' 'MG' 'MZA']\n",
      "Proteína 2y7x: ligando MZA guardado.\n",
      "['C0Z' 'HOH' 'MG']\n",
      "Proteína 2y7z: ligando C0Z guardado.\n",
      "['439' 'HOH' 'MG']\n"
     ]
    },
    {
     "name": "stderr",
     "output_type": "stream",
     "text": [
      "@> 307 atoms and 1 coordinate set(s) were parsed in 0.00s.\n",
      "@> 1906 atoms and 1 coordinate set(s) were parsed in 0.02s.\n",
      "@> 218 atoms and 1 coordinate set(s) were parsed in 0.00s.\n",
      "@> 1906 atoms and 1 coordinate set(s) were parsed in 0.02s.\n",
      "@> 312 atoms and 1 coordinate set(s) were parsed in 0.00s.\n",
      "@> 1906 atoms and 1 coordinate set(s) were parsed in 0.02s.\n"
     ]
    },
    {
     "name": "stdout",
     "output_type": "stream",
     "text": [
      "Proteína 2y80: ligando 439 guardado.\n",
      "['931' 'HOH' 'MG']\n",
      "Proteína 2y81: ligando 931 guardado.\n",
      "['930' 'HOH' 'MG']\n",
      "Proteína 2y82: ligando 930 guardado.\n",
      "['FXA' 'HOH']\n"
     ]
    },
    {
     "name": "stderr",
     "output_type": "stream",
     "text": [
      "@> 157 atoms and 1 coordinate set(s) were parsed in 0.00s.\n",
      "@> 1906 atoms and 1 coordinate set(s) were parsed in 0.02s.\n",
      "@> 454 atoms and 1 coordinate set(s) were parsed in 0.00s.\n",
      "@> 1906 atoms and 1 coordinate set(s) were parsed in 0.04s.\n",
      "@> 298 atoms and 1 coordinate set(s) were parsed in 0.00s.\n",
      "@> 1906 atoms and 1 coordinate set(s) were parsed in 0.02s.\n"
     ]
    },
    {
     "name": "stdout",
     "output_type": "stream",
     "text": [
      "Proteína 3cen: ligando FXA guardado.\n",
      "['HOH' 'LG0']\n",
      "Proteína 3cs7: ligando LG0 guardado.\n",
      "['ENS' 'HOH']\n",
      "Proteína 3ens: ligando ENS guardado.\n",
      "['FFG' 'HOH']\n"
     ]
    },
    {
     "name": "stderr",
     "output_type": "stream",
     "text": [
      "@> 716 atoms and 1 coordinate set(s) were parsed in 0.01s.\n",
      "@> 1906 atoms and 1 coordinate set(s) were parsed in 0.02s.\n",
      "@> 226 atoms and 1 coordinate set(s) were parsed in 0.00s.\n",
      "@> 1906 atoms and 1 coordinate set(s) were parsed in 0.02s.\n",
      "@> 785 atoms and 1 coordinate set(s) were parsed in 0.01s.\n"
     ]
    },
    {
     "name": "stdout",
     "output_type": "stream",
     "text": [
      "Proteína 3ffg: ligando FFG guardado.\n",
      "['HOH' 'NA' 'YET']\n",
      "Proteína 3hpt: ligando YET guardado.\n",
      "['CA' 'D14' 'HOH']\n",
      "Proteína 3iit: ligando D14 guardado.\n"
     ]
    },
    {
     "name": "stderr",
     "output_type": "stream",
     "text": [
      "@> 1906 atoms and 1 coordinate set(s) were parsed in 0.02s.\n",
      "@> 255 atoms and 1 coordinate set(s) were parsed in 0.00s.\n",
      "@> 1906 atoms and 1 coordinate set(s) were parsed in 0.02s.\n",
      "@> 140 atoms and 1 coordinate set(s) were parsed in 0.00s.\n",
      "@> 1906 atoms and 1 coordinate set(s) were parsed in 0.02s.\n"
     ]
    },
    {
     "name": "stdout",
     "output_type": "stream",
     "text": [
      "['HOH' 'MBM' 'NA']\n",
      "Proteína 3k9x: ligando MBM guardado.\n",
      "['443' 'CA' 'EDO' 'HOH']\n",
      "Proteína 3kl6: ligando 443 guardado.\n",
      "['HOH' 'LGJ' 'NA']\n"
     ]
    },
    {
     "name": "stderr",
     "output_type": "stream",
     "text": [
      "@> 157 atoms and 1 coordinate set(s) were parsed in 0.00s.\n",
      "@> 1906 atoms and 1 coordinate set(s) were parsed in 0.02s.\n",
      "@> 62 atoms and 1 coordinate set(s) were parsed in 0.01s.\n",
      "@> 1906 atoms and 1 coordinate set(s) were parsed in 0.02s.\n",
      "@> 123 atoms and 1 coordinate set(s) were parsed in 0.00s.\n",
      "@> 1906 atoms and 1 coordinate set(s) were parsed in 0.02s.\n",
      "@> 161 atoms and 1 coordinate set(s) were parsed in 0.01s.\n",
      "@> 1906 atoms and 1 coordinate set(s) were parsed in 0.02s.\n"
     ]
    },
    {
     "name": "stdout",
     "output_type": "stream",
     "text": [
      "Proteína 3kqb: ligando LGJ guardado.\n",
      "['HOH' 'LGK' 'NA']\n",
      "Proteína 3kqc: ligando LGK guardado.\n",
      "['HOH' 'LGL' 'NA']\n",
      "Proteína 3kqd: ligando LGL guardado.\n",
      "['HOH' 'LGM' 'NA']\n",
      "Proteína 3kqe: ligando LGM guardado.\n",
      "['CA' 'HOH' 'RUP']\n",
      "Proteína 3liw: ligando RUP guardado.\n"
     ]
    },
    {
     "name": "stderr",
     "output_type": "stream",
     "text": [
      "@> 191 atoms and 1 coordinate set(s) were parsed in 0.00s.\n",
      "@> 1906 atoms and 1 coordinate set(s) were parsed in 0.02s.\n",
      "@> 237 atoms and 1 coordinate set(s) were parsed in 0.01s.\n",
      "@> 1906 atoms and 1 coordinate set(s) were parsed in 0.02s.\n",
      "@> 140 atoms and 1 coordinate set(s) were parsed in 0.00s.\n",
      "@> 1906 atoms and 1 coordinate set(s) were parsed in 0.02s.\n",
      "@> 130 atoms and 1 coordinate set(s) were parsed in 0.00s.\n",
      "@> 1906 atoms and 1 coordinate set(s) were parsed in 0.02s.\n",
      "@> 251 atoms and 1 coordinate set(s) were parsed in 0.00s.\n",
      "@> 1906 atoms and 1 coordinate set(s) were parsed in 0.02s.\n"
     ]
    },
    {
     "name": "stdout",
     "output_type": "stream",
     "text": [
      "['HOH' 'M35']\n",
      "Proteína 3m36: ligando M35 guardado.\n",
      "['HOH' 'M37']\n",
      "Proteína 3m37: ligando M37 guardado.\n",
      "['CA' 'D90' 'HOH']\n",
      "Proteína 3q3k: ligando D90 guardado.\n",
      "['FI1' 'HOH' 'NA']\n",
      "Proteína 3sw2: ligando FI1 guardado.\n",
      "['CA' 'D1Q' 'HOH']\n"
     ]
    },
    {
     "name": "stderr",
     "output_type": "stream",
     "text": [
      "@> 254 atoms and 1 coordinate set(s) were parsed in 0.00s.\n",
      "@> 1906 atoms and 1 coordinate set(s) were parsed in 0.03s.\n",
      "@> 231 atoms and 1 coordinate set(s) were parsed in 0.00s.\n",
      "@> 1906 atoms and 1 coordinate set(s) were parsed in 0.02s.\n",
      "@> 695 atoms and 1 coordinate set(s) were parsed in 0.01s.\n",
      "@> 1906 atoms and 1 coordinate set(s) were parsed in 0.02s.\n"
     ]
    },
    {
     "name": "stdout",
     "output_type": "stream",
     "text": [
      "Proteína 3tk5: ligando D1Q guardado.\n",
      "['CA' 'D46' 'HOH']\n",
      "Proteína 3tk6: ligando D46 guardado.\n",
      "['A7I' 'HOH']\n",
      "Proteína 4a7i: ligando A7I guardado.\n",
      "['7R9' 'HOH']\n"
     ]
    },
    {
     "name": "stderr",
     "output_type": "stream",
     "text": [
      "@> 310 atoms and 1 coordinate set(s) were parsed in 0.00s.\n",
      "@> 1906 atoms and 1 coordinate set(s) were parsed in 0.02s.\n",
      "@> 646 atoms and 1 coordinate set(s) were parsed in 0.00s.\n",
      "@> 1906 atoms and 1 coordinate set(s) were parsed in 0.02s.\n",
      "@> 337 atoms and 1 coordinate set(s) were parsed in 0.00s.\n"
     ]
    },
    {
     "name": "stdout",
     "output_type": "stream",
     "text": [
      "Proteína 4bti: ligando 7R9 guardado.\n",
      "['HOH' 'VYR']\n",
      "Proteína 4btt: ligando VYR guardado.\n",
      "['6XS' 'HOH']\n",
      "Proteína 4btu: ligando 6XS guardado.\n"
     ]
    },
    {
     "name": "stderr",
     "output_type": "stream",
     "text": [
      "@> 1906 atoms and 1 coordinate set(s) were parsed in 0.02s.\n",
      "@> 226 atoms and 1 coordinate set(s) were parsed in 0.00s.\n",
      "@> 1906 atoms and 1 coordinate set(s) were parsed in 0.02s.\n",
      "@> 249 atoms and 1 coordinate set(s) were parsed in 0.00s.\n",
      "@> 1906 atoms and 1 coordinate set(s) were parsed in 0.02s.\n",
      "@> 268 atoms and 1 coordinate set(s) were parsed in 0.00s.\n"
     ]
    },
    {
     "name": "stdout",
     "output_type": "stream",
     "text": [
      "['48U' 'HOH']\n",
      "Proteína 4y6d: ligando 48U guardado.\n",
      "['48W' 'HOH']\n",
      "Proteína 4y71: ligando 48W guardado.\n",
      "['4O1' 'HOH']\n",
      "Proteína 4y76: ligando 4O1 guardado.\n"
     ]
    },
    {
     "name": "stderr",
     "output_type": "stream",
     "text": [
      "@> 1906 atoms and 1 coordinate set(s) were parsed in 0.02s.\n",
      "@> 249 atoms and 1 coordinate set(s) were parsed in 0.01s.\n",
      "@> 1906 atoms and 1 coordinate set(s) were parsed in 0.02s.\n",
      "@> 366 atoms and 1 coordinate set(s) were parsed in 0.00s.\n",
      "@> 1906 atoms and 1 coordinate set(s) were parsed in 0.03s.\n"
     ]
    },
    {
     "name": "stdout",
     "output_type": "stream",
     "text": [
      "['4O6' 'HOH' 'MG']\n",
      "Proteína 4y79: ligando 4O6 guardado.\n",
      "['987' 'HOH' 'MG']\n",
      "Proteína 4y7a: ligando 987 guardado.\n",
      "['44I' 'HOH']\n"
     ]
    },
    {
     "name": "stderr",
     "output_type": "stream",
     "text": [
      "@> 308 atoms and 1 coordinate set(s) were parsed in 0.01s.\n",
      "@> 1906 atoms and 1 coordinate set(s) were parsed in 0.02s.\n",
      "@> 299 atoms and 1 coordinate set(s) were parsed in 0.00s.\n",
      "@> 1906 atoms and 1 coordinate set(s) were parsed in 0.02s.\n",
      "@> 183 atoms and 1 coordinate set(s) were parsed in 0.00s.\n",
      "@> 1906 atoms and 1 coordinate set(s) were parsed in 0.02s.\n"
     ]
    },
    {
     "name": "stdout",
     "output_type": "stream",
     "text": [
      "Proteína 4y7b: ligando 44I guardado.\n",
      "['4O4' 'HOH']\n",
      "Proteína 4zh8: ligando 4O4 guardado.\n",
      "['4O5' 'HOH' 'MG']\n",
      "Proteína 4zha: ligando 4O5 guardado.\n",
      "['6PK' 'CA' 'HOH']\n"
     ]
    },
    {
     "name": "stderr",
     "output_type": "stream",
     "text": [
      "@> 543 atoms and 1 coordinate set(s) were parsed in 0.00s.\n",
      "@> 1906 atoms and 1 coordinate set(s) were parsed in 0.05s.\n",
      "@> 506 atoms and 1 coordinate set(s) were parsed in 0.01s.\n",
      "@> 1906 atoms and 1 coordinate set(s) were parsed in 0.02s.\n"
     ]
    },
    {
     "name": "stdout",
     "output_type": "stream",
     "text": [
      "Proteína 5k0h: ligando 6PK guardado.\n",
      "['HOH' 'NA']\n",
      "La proteina 5voe NO TIENE LIGANDO.\n",
      "['HOH' 'NA' 'RIV']\n",
      "Proteína 5vof: ligando RIV guardado.\n"
     ]
    }
   ],
   "source": [
    "from modules.get_cocristalized_ligands import get_pocket_ligand\n",
    "\n",
    "# Se agregan dos columnas al dataframe\n",
    "df_prot[\"Inhib\"] = \"\"\n",
    "df_prot[\"Inhib_mass\"] = np.nan\n",
    "\n",
    "# Se obtienen los ligandos\n",
    "for pdb_id in df_prot.index:\n",
    "    inhibidor = get_pocket_ligand(pdb_id, pocket_residues=pocket_residues,\n",
    "                                  raw_lig_dir= RAW_LIG_DIR,\n",
    "                                  prot_chain_dir=PROT_CHAINS_DIR,\n",
    "                                  pk_ligs_dir=PK_LIGS_DIR,\n",
    "                                  write_files=True, cutoff=3.5, min_weight = 97)\n",
    "    \n",
    "    df_prot.at[str(pdb_id), 'Inhib'] = inhibidor[0]\n",
    "    df_prot.at[pdb_id, 'Inhib_mass'] = inhibidor[1]"
   ]
  },
  {
   "cell_type": "markdown",
   "metadata": {},
   "source": [
    "## Updated Dataframe with ligands information\n",
    "\n",
    "1. **Inhib:** Con el nombre de la molécula hayada en el sitio activo (código del PDB), si la hubo.\n",
    "2. **Inhib_mass**: Con la masa del ligando.\n",
    "    \n",
    "Por último guardamos dicho DataFrame:"
   ]
  },
  {
   "cell_type": "code",
   "execution_count": 11,
   "metadata": {},
   "outputs": [],
   "source": [
    "n_confs = df_prot.shape[0]\n",
    "df_prot.to_json(F'./TABLA_MTDATA_{prot_name.upper()}_{n_confs}_crys_LIGS_INFO.json')"
   ]
  },
  {
   "cell_type": "code",
   "execution_count": null,
   "metadata": {},
   "outputs": [],
   "source": []
  }
 ],
 "metadata": {
  "kernelspec": {
   "display_name": "Python 3",
   "language": "python",
   "name": "python3"
  },
  "language_info": {
   "codemirror_mode": {
    "name": "ipython",
    "version": 3
   },
   "file_extension": ".py",
   "mimetype": "text/x-python",
   "name": "python",
   "nbconvert_exporter": "python",
   "pygments_lexer": "ipython3",
   "version": "3.7.6"
  }
 },
 "nbformat": 4,
 "nbformat_minor": 4
}
