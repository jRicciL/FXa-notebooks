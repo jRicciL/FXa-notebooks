{
 "cells": [
  {
   "cell_type": "code",
   "execution_count": 1,
   "metadata": {},
   "outputs": [],
   "source": [
    "from prody import *\n",
    "import numpy as np\n",
    "import csv\n",
    "import pandas as pd\n",
    "import sys, os\n",
    "from glob import glob\n",
    "# Add the main the parent directory\n",
    "sys.path.append(r'..')"
   ]
  },
  {
   "cell_type": "code",
   "execution_count": 2,
   "metadata": {},
   "outputs": [],
   "source": [
    "# Protein name\n",
    "prot_name = 'fxa'\n",
    "# Protein sequence: P28482 (ERK2_HUMAN)\n",
    "uniprot_id = \"P00742\""
   ]
  },
  {
   "cell_type": "code",
   "execution_count": 3,
   "metadata": {},
   "outputs": [],
   "source": [
    "\n",
    "# Open the protein data table\n",
    "path_df_csv = glob(os.path.join('..', 'data', \n",
    "                        F'TABLA_MTDATA_{prot_name.upper()}_*_crys.json'))\n",
    "df_prot = pd.read_json(path_df_csv[0])\n",
    "df_prot.set_index('PDB_ID', inplace=True)\n"
   ]
  },
  {
   "cell_type": "code",
   "execution_count": 4,
   "metadata": {},
   "outputs": [
    {
     "name": "stdout",
     "output_type": "stream",
     "text": [
      "134 crystals 136 have at least one HETATM\n",
      "There are 314 HETATM molecules/atoms\n",
      "There are 147 DIFFERENT molecules/atoms.\n"
     ]
    }
   ],
   "source": [
    "# How many structures have a HETATM?\n",
    "df_prot_ligs = df_prot[df_prot.NumLigs > 0]\n",
    "print(F'{len(df_prot_ligs)} crystals {len(df_prot)} have at least one HETATM')\n",
    "\n",
    "# How many ligands are there?\n",
    "import itertools\n",
    "# List_ name all ligands\n",
    "lig_full_list = list( itertools.chain.from_iterable( df_prot.NameLigs ) )\n",
    "print(F'There are {len(lig_full_list)} HETATM molecules/atoms')\n",
    "\n",
    "lig_all_list = list(set(lig_full_list))\n",
    "print(F'There are {len(lig_all_list)} DIFFERENT molecules/atoms.')"
   ]
  },
  {
   "cell_type": "markdown",
   "metadata": {},
   "source": [
    "## Moléculas en la cavidad catalítica\n",
    "Ahora procedemos a identificar qué moléculas se encuentran en el sitio activo de la proteína, y si éstas tienen un peso molecular suficcientemente grande como para ser diferenciadas de posibles moléculas del solvente.\n",
    "\n",
    "### Estructura de referencia\n",
    "Tomamos como referencia alguna estructura del DataFrame con ligandos:\n",
    "\n",
    "De acuerdo a BindingDatabase, el mejor ligando (y la estructura con él es: http://www.rcsb.org/pdb/results/results.do?tabtoshow=Current&qrid=EA4EE133\n",
    "\n",
    "2P3T y ligando 993"
   ]
  },
  {
   "cell_type": "code",
   "execution_count": 5,
   "metadata": {},
   "outputs": [
    {
     "data": {
      "application/vnd.jupyter.widget-view+json": {
       "model_id": "2078afe181e14676895278cffba7b95e",
       "version_major": 2,
       "version_minor": 0
      },
      "text/plain": [
       "_ColormakerRegistry()"
      ]
     },
     "metadata": {},
     "output_type": "display_data"
    }
   ],
   "source": [
    "from modules.get_cocristalized_ligands import PocketResidues"
   ]
  },
  {
   "cell_type": "code",
   "execution_count": 86,
   "metadata": {},
   "outputs": [
    {
     "name": "stderr",
     "output_type": "stream",
     "text": [
      "@> 3783 atoms and 1 coordinate set(s) were parsed in 0.08s.\n",
      "@> 144 atoms and 1 coordinate set(s) were parsed in 0.00s.\n"
     ]
    },
    {
     "data": {
      "text/plain": [
       "'131 134 161 167 178 179 180 181 182 183 184 202 203 204 205 206 207 208 209 82 83 84 210 214 215 216 217'"
      ]
     },
     "execution_count": 86,
     "metadata": {},
     "output_type": "execute_result"
    }
   ],
   "source": [
    "prot_main_dir = '../../FILES/CRYSTALS/PROT_FXA_PREPARED/PREP_ALL_ENSAMBLE'\n",
    "raw_ligs_dir = '../../FILES/CRYSTALS/LIGS_FXA/RAW'\n",
    "\n",
    "pdb_id = '1ezq'\n",
    "ligand_resname = 'RPR'\n",
    "\n",
    "ref_structure = PocketResidues(pdb_id, ligand_resname, prot_main_dir, raw_ligs_dir)\n",
    "# Get the pocket redidues\n",
    "pocket_residues = ref_structure.get_pocket_residues_as_str(cutoff=5)\n",
    "pocket_residues"
   ]
  },
  {
   "cell_type": "code",
   "execution_count": null,
   "metadata": {},
   "outputs": [],
   "source": []
  },
  {
   "cell_type": "code",
   "execution_count": 87,
   "metadata": {},
   "outputs": [
    {
     "data": {
      "application/vnd.jupyter.widget-view+json": {
       "model_id": "03a60b1129804098898317abed3a3f79",
       "version_major": 2,
       "version_minor": 0
      },
      "text/plain": [
       "NGLWidget()"
      ]
     },
     "metadata": {},
     "output_type": "display_data"
    }
   ],
   "source": [
    "# Visualize the pocket residues\n",
    "view = ref_structure.visualize_pocket(cutoff=5)\n",
    "view"
   ]
  },
  {
   "cell_type": "code",
   "execution_count": 85,
   "metadata": {},
   "outputs": [],
   "source": [
    "# pdb_id = '3ens'\n",
    "# ligand_resname = 'ENS'\n",
    "\n",
    "# ref_structure = PocketResidues(pdb_id, ligand_resname, prot_main_dir, raw_ligs_dir)\n",
    "# # Get the pocket redidues\n",
    "# pocket_residues = ref_structure.get_pocket_residues_as_str(cutoff=5)\n",
    "# view = ref_structure.visualize_pocket(cutoff=5)\n",
    "# view"
   ]
  },
  {
   "cell_type": "code",
   "execution_count": 10,
   "metadata": {},
   "outputs": [
    {
     "ename": "NameError",
     "evalue": "name 'sdfs' is not defined",
     "output_type": "error",
     "traceback": [
      "\u001b[0;31m---------------------------------------------------------------------------\u001b[0m",
      "\u001b[0;31mNameError\u001b[0m                                 Traceback (most recent call last)",
      "\u001b[0;32m<ipython-input-10-4d89bbed7e1d>\u001b[0m in \u001b[0;36m<module>\u001b[0;34m\u001b[0m\n\u001b[0;32m----> 1\u001b[0;31m \u001b[0msdfs\u001b[0m\u001b[0;34m\u001b[0m\u001b[0;34m\u001b[0m\u001b[0m\n\u001b[0m",
      "\u001b[0;31mNameError\u001b[0m: name 'sdfs' is not defined"
     ]
    }
   ],
   "source": [
    "sdfs"
   ]
  },
  {
   "cell_type": "code",
   "execution_count": null,
   "metadata": {},
   "outputs": [],
   "source": [
    "''.join(str(pocket_list)).replace('[', '').replace(']', '')"
   ]
  },
  {
   "cell_type": "code",
   "execution_count": null,
   "metadata": {},
   "outputs": [],
   "source": []
  },
  {
   "cell_type": "code",
   "execution_count": null,
   "metadata": {},
   "outputs": [],
   "source": [
    "# Just for visualization\n",
    "\n",
    "import nglview as nv\n",
    "\n",
    "# Select pocket residues\n",
    "str_residues = ''.join(str(pocket_list)).replace('[', '').replace(']', '').replace(',', '')\n",
    "# Get list of atoms\n",
    "pocket_atoms = prot.select('resid ' + str_residues).getIndices()\n",
    "# Load ligand as nglview object\n",
    "ligand_nv = nv.ProdyStructure(ligand)\n",
    "\n",
    "view = nv.show_prody(prot)\n",
    "view.clear_representations()\n",
    "view.add_representation('cartoon', selection='protein', color='white')\n",
    "view.add_licorice(selection=pocket_atoms, color='red')\n",
    "view.add_cartoon(selection=pocket_atoms, color='red')\n",
    "view.add_structure(ligand_nv)\n",
    "view"
   ]
  },
  {
   "cell_type": "markdown",
   "metadata": {},
   "source": [
    "### uso de la estructura de referencia"
   ]
  },
  {
   "cell_type": "code",
   "execution_count": null,
   "metadata": {},
   "outputs": [],
   "source": [
    "# Cargamos la estructura PDB usando prody\n",
    "pdbid_ref_name = '1ezq'\n",
    "ligand_name = 'RPR'\n",
    "cutoff = 6\n",
    "structure = parsePDB(F'../../FILES/CRYSTALS/PDB_{prot_name.upper()}_RAW_files/{pdbid_ref_name}.pdb.gz')\n",
    "\n",
    "# Selecion de los residuos a 8 agstroms del ligando en la cavidad\n",
    "selected_residues = \\\n",
    "structure.select(F'within {cutoff} of resname {ligand_name} and name CA and chain A')\n",
    "\n",
    "ligand = structure.select(F'resname {ligand_name}')\n",
    "# Obtenemos la secuencia de los residuos\n",
    "residues_list = selected_residues.getResnums()\n",
    "\n",
    "\n",
    "# Convertimos la lista de resiudos a un string\n",
    "residues_list_str = \" \".join(residues_list.astype(str))\n",
    "\n",
    "print(residues_list_str)"
   ]
  },
  {
   "cell_type": "markdown",
   "metadata": {},
   "source": [
    "### Visualización del sitio activo EN LA ESTRUCTURA CRISTAL (No en le modelo preparado)"
   ]
  },
  {
   "cell_type": "code",
   "execution_count": null,
   "metadata": {},
   "outputs": [],
   "source": [
    "# Seleccionamos todos los átomos de los residuos en selected_residues\n",
    "pocket_atoms = structure.select(F'resnum {residues_list_str}')\n",
    "# Obtenemos los índices de los átomos\n",
    "pocket_atoms_index = pocket_atoms.getIndices()"
   ]
  },
  {
   "cell_type": "code",
   "execution_count": null,
   "metadata": {},
   "outputs": [],
   "source": [
    "import nglview as nv\n",
    "view = nv.show_prody(structure)\n",
    "view.clear_representations()\n",
    "view.add_representation('cartoon', selection='protein', color='white')\n",
    "view.add_ball_and_stick(selection = ligand_name, color='orange', linewidth=3.)\n",
    "view.add_licorice(selection = pocket_atoms_index, color='red')\n",
    "view.add_cartoon(selection = pocket_atoms_index, color='red')\n",
    "view"
   ]
  },
  {
   "cell_type": "code",
   "execution_count": null,
   "metadata": {},
   "outputs": [],
   "source": [
    "# Cálculo del centro total de la proteína de referencia\n",
    "centro_strc_total = calcCenter(structure).round(3)\n",
    "\n",
    "# Definimos los átomos del pocket\n",
    "pocket = structure.select(\"resnum \" + residues_list_str)\n",
    "pocket_center = calcCenter(pocket)\n",
    "\n",
    "# Solo para comparar:\n",
    "print(\"Centro de la estructura completa:\", centro_strc_total)\n",
    "print(\"Centro considerando todos los átomos de los residuos del pocket:\", pocket_center)"
   ]
  },
  {
   "cell_type": "code",
   "execution_count": null,
   "metadata": {},
   "outputs": [],
   "source": [
    "view_2 = nv.show_prody(structure)\n",
    "view_2.shape.add_sphere( pocket_center.tolist(), [0, 0, 0], 5)\n",
    "view_2.add_licorice(selection = pocket.getIndices(), color='magenta')\n",
    "view_2"
   ]
  },
  {
   "cell_type": "markdown",
   "metadata": {},
   "source": [
    "Cualquier molécula que tenga un átomo en contacto con la esfera, será considerada como ligando unido al sitio activo.\n",
    "\n",
    "## Determinación de los ligandos\n",
    "Ahora, procedemos a utilizar la estructura de referencia modelada con Modeller. Hay que recordar que todas las estructuras modeladas fueron alineadas previamente tomando en cuenta la estructura secundaria de la proteína, y que el alineamiento incluyó la reposición relativa de los ligandos.\n",
    "\n",
    "\n",
    "### Pasos y función para obtener los ligandos"
   ]
  },
  {
   "cell_type": "code",
   "execution_count": 150,
   "metadata": {},
   "outputs": [],
   "source": [
    "# Definimos los directorios de trabajo\n",
    "main_dir = '../../FILES/CRYSTALS'\n",
    "RAW_LIG_DIR = F'{main_dir}/LIGS_{prot_name.upper()}/RAW/'\n",
    "PROT_CHAINS_DIR = F'{main_dir}/PROT_{prot_name.upper()}_PREPARED/PREP_ALL_ENSAMBLE/'\n",
    "\n",
    "# Directorio de salida (lo creamos si no existe):\n",
    "PK_LIGS_DIR = F'{main_dir}/LIGS_{prot_name.upper()}/POCKET_LIGS/'\n",
    "import os\n",
    "if not os.path.exists(PK_LIGS_DIR):\n",
    "    os.makedirs(PK_LIGS_DIR)"
   ]
  },
  {
   "cell_type": "code",
   "execution_count": 153,
   "metadata": {},
   "outputs": [
    {
     "name": "stderr",
     "output_type": "stream",
     "text": [
      "@> 645 atoms and 1 coordinate set(s) were parsed in 0.01s.\n"
     ]
    }
   ],
   "source": [
    "# Ligando\n",
    "pdb_id = '2vvc'\n",
    "raw_lig_dir = RAW_LIG_DIR\n",
    "lig_file = glob(raw_lig_dir + pdb_id  + \"*.pdb\")[0]\n",
    "lig = parsePDB(lig_file)"
   ]
  },
  {
   "cell_type": "code",
   "execution_count": null,
   "metadata": {},
   "outputs": [],
   "source": []
  },
  {
   "cell_type": "code",
   "execution_count": null,
   "metadata": {},
   "outputs": [],
   "source": []
  },
  {
   "cell_type": "code",
   "execution_count": 193,
   "metadata": {},
   "outputs": [],
   "source": [
    "from glob import glob\n",
    "\n",
    "def get_pocket_ligand(pdb_id,\n",
    "                       pocket_residues,\n",
    "                       cutoff = 3,\n",
    "                       raw_lig_dir = RAW_LIG_DIR,\n",
    "                       prot_chain_dir = PROT_CHAINS_DIR,\n",
    "                       pk_ligs_dir = PK_LIGS_DIR,\n",
    "                       min_weight = 97, # mw de sulfato  + 1\n",
    "                       write_files = True):\n",
    "    \n",
    "    # 1) Se carga cargan las moléculas HETATM usando Prody\n",
    "    try:\n",
    "        lig_file = glob(raw_lig_dir + pdb_id  + \"*.pdb\")[0]\n",
    "        lig = parsePDB(lig_file)\n",
    "    except FileNotFoundError as e:\n",
    "        print(\"The protein\", pdb_id, \"have NO LIGAND.\")\n",
    "        return(None, None)\n",
    "    \n",
    "    # 2) Se carga la proteína y se seleccionan los residuos que definen el pocket\n",
    "    try:\n",
    "        prot_file = glob(prot_chain_dir + pdb_id + \"*.pdb\")[0]\n",
    "        protein = parsePDB( prot_file )\n",
    "    except FileNotFoundError as e:\n",
    "        print(\"Protein file not found:\", pdb_id)\n",
    "        return(None, None)\n",
    "    \n",
    "    protein_pocket = protein.select(\"resid \" + pocket_residues)\n",
    "    \n",
    "    # Se seleccionan los ligandos (RESIDUOS no protéicos) que estén a no más de cutoff A\n",
    "    # de cualquier átomo de los residuos del pocket de la proteína\n",
    "    lig_sel = lig.select('within ' + str(cutoff) + ' of inhibitor', inhibitor = protein_pocket)\n",
    "    if lig_sel is None:\n",
    "        print(\"La proteina\", pdb_id, \"no tiene ligando en el pocket.\")\n",
    "        return(None, None)\n",
    "    \n",
    "    # Se obtine la lista de moléculas que cumplen el criterio anterior\n",
    "    inhibidor_list = np.unique( lig_sel.getResnames() )\n",
    "    print(inhibidor_list)\n",
    "    \n",
    "    # Calcula el centro geométrico del pocket de la proteína\n",
    "    prot_pocket_center = calcCenter(protein_pocket)\n",
    "    \n",
    "    # Puede que haya más de una molécula en el pocket \n",
    "    # (debido a presencia de iones, cosolvente o residuos modificados)\n",
    "    # Se itera entre cada molecula del ligando, se calcula su masa y se mantiene el ligando con mayor masa \n",
    "    distance = 10000\n",
    "    nearest_chain = ''\n",
    "    nearest_resnum = ''\n",
    "    nearest_resname = ''\n",
    "    current_mass = 0\n",
    "    true_lig = None\n",
    "\n",
    "    for resname in inhibidor_list:\n",
    "            mol = lig.select(\"resname \" + resname)\n",
    "            \n",
    "            # Itera entre todos las moléculas definidas por un resname, un resnum y una cadena\n",
    "            mol_chains = np.unique(mol.getChids())\n",
    "            for chain in mol_chains:\n",
    "                mol_resnums = np.unique(mol.select('chain ' + chain).getResnums())\n",
    "                for resnum in mol_resnums:\n",
    "                    new_mol = mol.select('chain ' + chain + \\\n",
    "                                  ' and resnum ' + str(resnum))\n",
    "                    new_mass = new_mol.getMasses().sum()\n",
    "                    \n",
    "                    #print(new_mass, resname, chain)\n",
    "                    if new_mass > current_mass:\n",
    "                    \n",
    "                    \n",
    "                        dist_new_mol = calcDistance(prot_pocket_center, calcCenter(new_mol))\n",
    "#                     #print(chain, resnum, resname, dist_new_mol)\n",
    "#                     if dist_new_mol < distance:\n",
    "                        nearest_chain = chain\n",
    "                        nearest_resnum = str(resnum)\n",
    "                        nearest_resname = resname\n",
    "                        distance = dist_new_mol\n",
    "                        current_mass = new_mass\n",
    "                        \n",
    "    true_lig = lig.select('chain ' + nearest_chain + \\\n",
    "                          ' and resnum ' + nearest_resnum + \\\n",
    "                          ' and resname ' + nearest_resname)\n",
    "    lig_mass = true_lig.getMasses().sum()\n",
    "\n",
    "            \n",
    "    # Se guarda el ligando sólo si su masa es igual o mayor a la de un sulfato\n",
    "    # si el ligando aparece 2 veces cerca del pocket, se elige la molécula más cercana al centro\n",
    "    if true_lig != \"\" and lig_mass > min_weight: # Si el ligando existe y su masa fue mayor 96\n",
    "        # Se extrae el nombre del ligando\n",
    "        name_lig = np.unique( true_lig.getResnames() )[0]\n",
    "\n",
    "        # Se combinan proteína y ligando en un solo objeto AtomGroup, de tal manera que\n",
    "        # sea posible superponer las estructuras de la proteína de acuerdo a los residuos de su pocket\n",
    "        # y esto afcete la psoición del ligando\n",
    "        complejo_PL = protein + true_lig.toAtomGroup()\n",
    "        if write_files:\n",
    "            # Se guardan ligando y proteína alineados según la estructura de referencia\n",
    "            print(F'Proteína {pdb_id}: ligando {name_lig} guardado.')\n",
    "            writePDB( pk_ligs_dir + \"/\" + pdb_id + \"_\" + name_lig + \"_LIG.pdb\", \n",
    "                      complejo_PL.select(\"resname \" + name_lig) )\n",
    "        return(name_lig, lig_mass)\n",
    "    else: \n",
    "        print(F\"La proteina {pdb_id} NO TIENE LIGANDO.\")\n",
    "        return(None, None)"
   ]
  },
  {
   "cell_type": "code",
   "execution_count": 195,
   "metadata": {},
   "outputs": [
    {
     "name": "stderr",
     "output_type": "stream",
     "text": [
      "@> 1338 atoms and 1 coordinate set(s) were parsed in 0.01s.\n",
      "@> 3783 atoms and 1 coordinate set(s) were parsed in 0.05s.\n",
      "@> 144 atoms and 1 coordinate set(s) were parsed in 0.00s.\n",
      "@> 3783 atoms and 1 coordinate set(s) were parsed in 0.04s.\n"
     ]
    },
    {
     "name": "stdout",
     "output_type": "stream",
     "text": [
      "['HOH']\n",
      "La proteina 1c5m NO TIENE LIGANDO.\n",
      "['HOH' 'RPR']\n",
      "Proteína 1ezq: ligando RPR guardado.\n"
     ]
    },
    {
     "name": "stderr",
     "output_type": "stream",
     "text": [
      "@> 202 atoms and 1 coordinate set(s) were parsed in 0.00s.\n",
      "@> 3783 atoms and 1 coordinate set(s) were parsed in 0.04s.\n",
      "@> 177 atoms and 1 coordinate set(s) were parsed in 0.00s.\n",
      "@> 3783 atoms and 1 coordinate set(s) were parsed in 0.04s.\n",
      "@> 40 atoms and 1 coordinate set(s) were parsed in 0.00s.\n"
     ]
    },
    {
     "name": "stdout",
     "output_type": "stream",
     "text": [
      "['815' 'HOH']\n",
      "Proteína 1f0r: ligando 815 guardado.\n",
      "['HOH' 'PR2']\n",
      "Proteína 1f0s: ligando PR2 guardado.\n"
     ]
    },
    {
     "name": "stderr",
     "output_type": "stream",
     "text": [
      "@> 3783 atoms and 1 coordinate set(s) were parsed in 0.05s.\n",
      "@> 239 atoms and 1 coordinate set(s) were parsed in 0.01s.\n",
      "@> 3783 atoms and 1 coordinate set(s) were parsed in 0.05s.\n",
      "@> 253 atoms and 1 coordinate set(s) were parsed in 0.01s.\n"
     ]
    },
    {
     "name": "stdout",
     "output_type": "stream",
     "text": [
      "['DX9']\n",
      "Proteína 1fax: ligando DX9 guardado.\n",
      "['HOH' 'Z34']\n",
      "Proteína 1fjs: ligando Z34 guardado.\n"
     ]
    },
    {
     "name": "stderr",
     "output_type": "stream",
     "text": [
      "@> 3783 atoms and 1 coordinate set(s) were parsed in 0.05s.\n",
      "@> 33 atoms and 1 coordinate set(s) were parsed in 0.00s.\n",
      "@> 3783 atoms and 1 coordinate set(s) were parsed in 0.05s.\n",
      "@> 207 atoms and 1 coordinate set(s) were parsed in 0.00s.\n"
     ]
    },
    {
     "name": "stdout",
     "output_type": "stream",
     "text": [
      "['HOH' 'T87']\n",
      "Proteína 1g2l: ligando T87 guardado.\n",
      "['R11']\n",
      "Proteína 1g2m: ligando R11 guardado.\n"
     ]
    },
    {
     "name": "stderr",
     "output_type": "stream",
     "text": [
      "@> 3783 atoms and 1 coordinate set(s) were parsed in 0.10s.\n",
      "@> 39 atoms and 1 coordinate set(s) were parsed in 0.00s.\n",
      "@> 3783 atoms and 1 coordinate set(s) were parsed in 0.04s.\n",
      "@> 42 atoms and 1 coordinate set(s) were parsed in 0.00s.\n"
     ]
    },
    {
     "name": "stdout",
     "output_type": "stream",
     "text": [
      "['HOH']\n",
      "La proteina 1hcg NO TIENE LIGANDO.\n",
      "['XMA']\n",
      "Proteína 1ioe: ligando XMA guardado.\n"
     ]
    },
    {
     "name": "stderr",
     "output_type": "stream",
     "text": [
      "@> 3783 atoms and 1 coordinate set(s) were parsed in 0.04s.\n",
      "@> 40 atoms and 1 coordinate set(s) were parsed in 0.00s.\n",
      "@> 3783 atoms and 1 coordinate set(s) were parsed in 0.09s.\n",
      "@> 132 atoms and 1 coordinate set(s) were parsed in 0.00s.\n"
     ]
    },
    {
     "name": "stdout",
     "output_type": "stream",
     "text": [
      "['XMB']\n",
      "Proteína 1iqe: ligando XMB guardado.\n",
      "['XMD']\n",
      "Proteína 1iqf: ligando XMD guardado.\n"
     ]
    },
    {
     "name": "stderr",
     "output_type": "stream",
     "text": [
      "@> 3783 atoms and 1 coordinate set(s) were parsed in 0.07s.\n",
      "@> 37 atoms and 1 coordinate set(s) were parsed in 0.00s.\n",
      "@> 3783 atoms and 1 coordinate set(s) were parsed in 0.07s.\n",
      "@> 37 atoms and 1 coordinate set(s) were parsed in 0.00s.\n"
     ]
    },
    {
     "name": "stdout",
     "output_type": "stream",
     "text": [
      "['HOH' 'XME']\n",
      "Proteína 1iqg: ligando XME guardado.\n",
      "['XMF']\n",
      "Proteína 1iqh: ligando XMF guardado.\n"
     ]
    },
    {
     "name": "stderr",
     "output_type": "stream",
     "text": [
      "@> 3783 atoms and 1 coordinate set(s) were parsed in 0.07s.\n",
      "@> 39 atoms and 1 coordinate set(s) were parsed in 0.00s.\n",
      "@> 3783 atoms and 1 coordinate set(s) were parsed in 0.06s.\n",
      "@> 35 atoms and 1 coordinate set(s) were parsed in 0.00s.\n",
      "@> 3783 atoms and 1 coordinate set(s) were parsed in 0.05s.\n"
     ]
    },
    {
     "name": "stdout",
     "output_type": "stream",
     "text": [
      "['XMG']\n",
      "Proteína 1iqi: ligando XMG guardado.\n",
      "['XMH']\n",
      "Proteína 1iqj: ligando XMH guardado.\n",
      "['XMI']\n",
      "Proteína 1iqk: ligando XMI guardado.\n"
     ]
    },
    {
     "name": "stderr",
     "output_type": "stream",
     "text": [
      "@> 33 atoms and 1 coordinate set(s) were parsed in 0.00s.\n",
      "@> 3783 atoms and 1 coordinate set(s) were parsed in 0.04s.\n",
      "@> 72 atoms and 1 coordinate set(s) were parsed in 0.00s.\n",
      "@> 3783 atoms and 1 coordinate set(s) were parsed in 0.05s.\n",
      "@> 112 atoms and 1 coordinate set(s) were parsed in 0.00s.\n",
      "@> 3783 atoms and 1 coordinate set(s) were parsed in 0.05s.\n"
     ]
    },
    {
     "name": "stdout",
     "output_type": "stream",
     "text": [
      "['XMJ']\n",
      "Proteína 1iql: ligando XMJ guardado.\n",
      "['HOH' 'XMK']\n",
      "Proteína 1iqm: ligando XMK guardado.\n",
      "['HOH' 'XMC']\n",
      "Proteína 1iqn: ligando XMC guardado.\n"
     ]
    },
    {
     "name": "stderr",
     "output_type": "stream",
     "text": [
      "@> 169 atoms and 1 coordinate set(s) were parsed in 0.00s.\n",
      "@> 3783 atoms and 1 coordinate set(s) were parsed in 0.05s.\n",
      "@> 337 atoms and 1 coordinate set(s) were parsed in 0.00s.\n",
      "@> 3783 atoms and 1 coordinate set(s) were parsed in 0.05s.\n"
     ]
    },
    {
     "name": "stdout",
     "output_type": "stream",
     "text": [
      "['FXV' 'HOH']\n",
      "Proteína 1ksn: ligando FXV guardado.\n",
      "['HOH' 'IMA']\n",
      "Proteína 1lpg: ligando IMA guardado.\n"
     ]
    },
    {
     "name": "stderr",
     "output_type": "stream",
     "text": [
      "@> 329 atoms and 1 coordinate set(s) were parsed in 0.00s.\n",
      "@> 3783 atoms and 1 coordinate set(s) were parsed in 0.05s.\n",
      "@> 324 atoms and 1 coordinate set(s) were parsed in 0.00s.\n",
      "@> 3783 atoms and 1 coordinate set(s) were parsed in 0.05s.\n"
     ]
    },
    {
     "name": "stdout",
     "output_type": "stream",
     "text": [
      "['CBB' 'HOH']\n",
      "Proteína 1lpk: ligando CBB guardado.\n",
      "['CMB' 'HOH']\n"
     ]
    },
    {
     "name": "stderr",
     "output_type": "stream",
     "text": [
      "@> 327 atoms and 1 coordinate set(s) were parsed in 0.01s.\n",
      "@> 3783 atoms and 1 coordinate set(s) were parsed in 0.06s.\n"
     ]
    },
    {
     "name": "stdout",
     "output_type": "stream",
     "text": [
      "Proteína 1lpz: ligando CMB guardado.\n",
      "['CMI' 'HOH']\n",
      "Proteína 1lqd: ligando CMI guardado.\n"
     ]
    },
    {
     "name": "stderr",
     "output_type": "stream",
     "text": [
      "@> 225 atoms and 1 coordinate set(s) were parsed in 0.00s.\n",
      "@> 3783 atoms and 1 coordinate set(s) were parsed in 0.05s.\n",
      "@> 219 atoms and 1 coordinate set(s) were parsed in 0.02s.\n",
      "@> 3783 atoms and 1 coordinate set(s) were parsed in 0.04s.\n",
      "@> 194 atoms and 1 coordinate set(s) were parsed in 0.00s.\n"
     ]
    },
    {
     "name": "stdout",
     "output_type": "stream",
     "text": [
      "['HOH' 'XLC']\n",
      "Proteína 1mq5: ligando XLC guardado.\n",
      "['HOH' 'XLD']\n",
      "Proteína 1mq6: ligando XLD guardado.\n"
     ]
    },
    {
     "name": "stderr",
     "output_type": "stream",
     "text": [
      "@> 3783 atoms and 1 coordinate set(s) were parsed in 0.05s.\n",
      "@> 199 atoms and 1 coordinate set(s) were parsed in 0.00s.\n",
      "@> 3783 atoms and 1 coordinate set(s) were parsed in 0.08s.\n"
     ]
    },
    {
     "name": "stdout",
     "output_type": "stream",
     "text": [
      "['HOH' 'RRP']\n",
      "Proteína 1nfu: ligando RRP guardado.\n",
      "['HOH' 'RRR']\n"
     ]
    },
    {
     "name": "stderr",
     "output_type": "stream",
     "text": [
      "@> 191 atoms and 1 coordinate set(s) were parsed in 0.00s.\n",
      "@> 3783 atoms and 1 coordinate set(s) were parsed in 0.05s.\n",
      "@> 198 atoms and 1 coordinate set(s) were parsed in 0.00s.\n",
      "@> 3783 atoms and 1 coordinate set(s) were parsed in 0.05s.\n"
     ]
    },
    {
     "name": "stdout",
     "output_type": "stream",
     "text": [
      "Proteína 1nfw: ligando RRR guardado.\n",
      "['HOH' 'RDR']\n",
      "Proteína 1nfx: ligando RDR guardado.\n"
     ]
    },
    {
     "name": "stderr",
     "output_type": "stream",
     "text": [
      "@> 188 atoms and 1 coordinate set(s) were parsed in 0.00s.\n",
      "@> 3783 atoms and 1 coordinate set(s) were parsed in 0.05s.\n",
      "@> 198 atoms and 1 coordinate set(s) were parsed in 0.00s.\n"
     ]
    },
    {
     "name": "stdout",
     "output_type": "stream",
     "text": [
      "['HOH' 'RTR']\n",
      "Proteína 1nfy: ligando RTR guardado.\n",
      "['HOH' 'NA']\n",
      "La proteina 1p0s NO TIENE LIGANDO.\n"
     ]
    },
    {
     "name": "stderr",
     "output_type": "stream",
     "text": [
      "@> 3783 atoms and 1 coordinate set(s) were parsed in 0.07s.\n",
      "@> 111 atoms and 1 coordinate set(s) were parsed in 0.00s.\n",
      "@> 3783 atoms and 1 coordinate set(s) were parsed in 0.06s.\n",
      "@> 249 atoms and 1 coordinate set(s) were parsed in 0.00s.\n"
     ]
    },
    {
     "name": "stdout",
     "output_type": "stream",
     "text": [
      "['CA' 'D76' 'HOH']\n",
      "Proteína 1v3x: ligando D76 guardado.\n",
      "['CA' 'D91' 'HOH']\n",
      "Proteína 1wu1: ligando D91 guardado.\n"
     ]
    },
    {
     "name": "stderr",
     "output_type": "stream",
     "text": [
      "@> 3783 atoms and 1 coordinate set(s) were parsed in 0.06s.\n",
      "@> 378 atoms and 1 coordinate set(s) were parsed in 0.01s.\n",
      "@> 3783 atoms and 1 coordinate set(s) were parsed in 0.05s.\n"
     ]
    },
    {
     "name": "stdout",
     "output_type": "stream",
     "text": [
      "['4PP' 'HOH']\n",
      "Proteína 1xka: ligando 4PP guardado.\n",
      "['4PP' 'HOH']\n",
      "Proteína 1xkb: ligando 4PP guardado.\n"
     ]
    },
    {
     "name": "stderr",
     "output_type": "stream",
     "text": [
      "@> 199 atoms and 1 coordinate set(s) were parsed in 0.00s.\n",
      "@> 3783 atoms and 1 coordinate set(s) were parsed in 0.05s.\n",
      "@> 254 atoms and 1 coordinate set(s) were parsed in 0.00s.\n",
      "@> 3783 atoms and 1 coordinate set(s) were parsed in 0.05s.\n",
      "@> 255 atoms and 1 coordinate set(s) were parsed in 0.00s.\n"
     ]
    },
    {
     "name": "stdout",
     "output_type": "stream",
     "text": [
      "['HOH' 'IK8']\n",
      "Proteína 1z6e: ligando IK8 guardado.\n",
      "['HOH' 'I1H']\n",
      "Proteína 2bmg: ligando I1H guardado.\n"
     ]
    },
    {
     "name": "stderr",
     "output_type": "stream",
     "text": [
      "@> 3783 atoms and 1 coordinate set(s) were parsed in 0.05s.\n",
      "@> 306 atoms and 1 coordinate set(s) were parsed in 0.01s.\n",
      "@> 3783 atoms and 1 coordinate set(s) were parsed in 0.05s.\n"
     ]
    },
    {
     "name": "stdout",
     "output_type": "stream",
     "text": [
      "['HOH' 'IIA']\n",
      "Proteína 2boh: ligando IIA guardado.\n",
      "['784' 'HOH' 'NA']\n"
     ]
    },
    {
     "name": "stderr",
     "output_type": "stream",
     "text": [
      "@> 110 atoms and 1 coordinate set(s) were parsed in 0.00s.\n",
      "@> 3783 atoms and 1 coordinate set(s) were parsed in 0.06s.\n",
      "@> 321 atoms and 1 coordinate set(s) were parsed in 0.00s.\n",
      "@> 3783 atoms and 1 coordinate set(s) were parsed in 0.04s.\n"
     ]
    },
    {
     "name": "stdout",
     "output_type": "stream",
     "text": [
      "Proteína 2bok: ligando 784 guardado.\n",
      "['HOH' 'IIB']\n",
      "Proteína 2bq6: ligando IIB guardado.\n",
      "['HOH' 'IID']\n"
     ]
    },
    {
     "name": "stderr",
     "output_type": "stream",
     "text": [
      "@> 159 atoms and 1 coordinate set(s) were parsed in 0.00s.\n",
      "@> 3783 atoms and 1 coordinate set(s) were parsed in 0.04s.\n",
      "@> 175 atoms and 1 coordinate set(s) were parsed in 0.00s.\n",
      "@> 3783 atoms and 1 coordinate set(s) were parsed in 0.04s.\n"
     ]
    },
    {
     "name": "stdout",
     "output_type": "stream",
     "text": [
      "Proteína 2bq7: ligando IID guardado.\n",
      "['HOH' 'IIE']\n",
      "Proteína 2bqw: ligando IIE guardado.\n",
      "['GSK' 'HOH']\n"
     ]
    },
    {
     "name": "stderr",
     "output_type": "stream",
     "text": [
      "@> 144 atoms and 1 coordinate set(s) were parsed in 0.00s.\n",
      "@> 3783 atoms and 1 coordinate set(s) were parsed in 0.05s.\n",
      "@> 99 atoms and 1 coordinate set(s) were parsed in 0.00s.\n",
      "@> 3783 atoms and 1 coordinate set(s) were parsed in 0.04s.\n"
     ]
    },
    {
     "name": "stdout",
     "output_type": "stream",
     "text": [
      "Proteína 2cji: ligando GSK guardado.\n",
      "['CA' 'D01' 'HOH']\n",
      "Proteína 2d1j: ligando D01 guardado.\n",
      "['CA' 'D92' 'HOH']\n"
     ]
    },
    {
     "name": "stderr",
     "output_type": "stream",
     "text": [
      "@> 100 atoms and 1 coordinate set(s) were parsed in 0.00s.\n",
      "@> 3783 atoms and 1 coordinate set(s) were parsed in 0.05s.\n",
      "@> 205 atoms and 1 coordinate set(s) were parsed in 0.00s.\n",
      "@> 3783 atoms and 1 coordinate set(s) were parsed in 0.05s.\n"
     ]
    },
    {
     "name": "stdout",
     "output_type": "stream",
     "text": [
      "Proteína 2ei6: ligando D92 guardado.\n",
      "['CA' 'D93' 'HOH']\n",
      "Proteína 2ei7: ligando D93 guardado.\n",
      "['CA' 'DT8' 'HOH']\n"
     ]
    },
    {
     "name": "stderr",
     "output_type": "stream",
     "text": [
      "@> 43 atoms and 1 coordinate set(s) were parsed in 0.00s.\n",
      "@> 3783 atoms and 1 coordinate set(s) were parsed in 0.09s.\n",
      "@> 39 atoms and 1 coordinate set(s) were parsed in 0.00s.\n"
     ]
    },
    {
     "name": "stdout",
     "output_type": "stream",
     "text": [
      "Proteína 2ei8: ligando DT8 guardado.\n",
      "['5QC']\n",
      "Proteína 2fzz: ligando 5QC guardado.\n"
     ]
    },
    {
     "name": "stderr",
     "output_type": "stream",
     "text": [
      "@> 3783 atoms and 1 coordinate set(s) were parsed in 0.08s.\n",
      "@> 402 atoms and 1 coordinate set(s) were parsed in 0.01s.\n",
      "@> 3783 atoms and 1 coordinate set(s) were parsed in 0.07s.\n",
      "@> 321 atoms and 1 coordinate set(s) were parsed in 0.01s.\n",
      "@> 3783 atoms and 1 coordinate set(s) were parsed in 0.06s.\n"
     ]
    },
    {
     "name": "stdout",
     "output_type": "stream",
     "text": [
      "['4QC']\n",
      "Proteína 2g00: ligando 4QC guardado.\n",
      "La proteina 2gd4 no tiene ligando en el pocket.\n"
     ]
    },
    {
     "name": "stderr",
     "output_type": "stream",
     "text": [
      "@> 223 atoms and 1 coordinate set(s) were parsed in 0.00s.\n",
      "@> 3783 atoms and 1 coordinate set(s) were parsed in 0.05s.\n",
      "@> 232 atoms and 1 coordinate set(s) were parsed in 0.00s.\n"
     ]
    },
    {
     "name": "stdout",
     "output_type": "stream",
     "text": [
      "['DTY' 'HOH' 'LPD' 'NA']\n",
      "Proteína 2h9e: ligando DTY guardado.\n",
      "['GSQ' 'HOH']\n",
      "Proteína 2j2u: ligando GSQ guardado.\n"
     ]
    },
    {
     "name": "stderr",
     "output_type": "stream",
     "text": [
      "@> 3783 atoms and 1 coordinate set(s) were parsed in 0.05s.\n",
      "@> 264 atoms and 1 coordinate set(s) were parsed in 0.00s.\n",
      "@> 3783 atoms and 1 coordinate set(s) were parsed in 0.04s.\n"
     ]
    },
    {
     "name": "stdout",
     "output_type": "stream",
     "text": [
      "['GS6' 'HOH']\n",
      "Proteína 2j34: ligando GS6 guardado.\n",
      "['GS5' 'HOH']\n",
      "Proteína 2j38: ligando GS5 guardado.\n"
     ]
    },
    {
     "name": "stderr",
     "output_type": "stream",
     "text": [
      "@> 244 atoms and 1 coordinate set(s) were parsed in 0.01s.\n",
      "@> 3783 atoms and 1 coordinate set(s) were parsed in 0.09s.\n",
      "@> 202 atoms and 1 coordinate set(s) were parsed in 0.00s.\n",
      "@> 3783 atoms and 1 coordinate set(s) were parsed in 0.05s.\n",
      "@> 200 atoms and 1 coordinate set(s) were parsed in 0.00s.\n"
     ]
    },
    {
     "name": "stdout",
     "output_type": "stream",
     "text": [
      "['GSJ' 'HOH']\n",
      "Proteína 2j4i: ligando GSJ guardado.\n",
      "['G15' 'HOH']\n",
      "Proteína 2j94: ligando G15 guardado.\n"
     ]
    },
    {
     "name": "stderr",
     "output_type": "stream",
     "text": [
      "@> 3783 atoms and 1 coordinate set(s) were parsed in 0.04s.\n",
      "@> 443 atoms and 1 coordinate set(s) were parsed in 0.00s.\n",
      "@> 3783 atoms and 1 coordinate set(s) were parsed in 0.04s.\n"
     ]
    },
    {
     "name": "stdout",
     "output_type": "stream",
     "text": [
      "['GSX' 'HOH']\n",
      "Proteína 2j95: ligando GSX guardado.\n",
      "['BI7' 'HOH' 'NA']\n"
     ]
    },
    {
     "name": "stderr",
     "output_type": "stream",
     "text": [
      "@> 156 atoms and 1 coordinate set(s) were parsed in 0.00s.\n",
      "@> 3783 atoms and 1 coordinate set(s) were parsed in 0.06s.\n",
      "@> 53 atoms and 1 coordinate set(s) were parsed in 0.00s.\n",
      "@> 3783 atoms and 1 coordinate set(s) were parsed in 0.05s.\n"
     ]
    },
    {
     "name": "stdout",
     "output_type": "stream",
     "text": [
      "Proteína 2jkh: ligando BI7 guardado.\n",
      "['GG2' 'HOH']\n",
      "Proteína 2p16: ligando GG2 guardado.\n",
      "['HOH' 'NA']\n"
     ]
    },
    {
     "name": "stderr",
     "output_type": "stream",
     "text": [
      "@> 209 atoms and 1 coordinate set(s) were parsed in 0.00s.\n",
      "@> 3783 atoms and 1 coordinate set(s) were parsed in 0.04s.\n",
      "@> 304 atoms and 1 coordinate set(s) were parsed in 0.01s.\n"
     ]
    },
    {
     "name": "stdout",
     "output_type": "stream",
     "text": [
      "La proteina 2p3f NO TIENE LIGANDO.\n",
      "['993' 'HOH']\n",
      "Proteína 2p3t: ligando 993 guardado.\n"
     ]
    },
    {
     "name": "stderr",
     "output_type": "stream",
     "text": [
      "@> 3783 atoms and 1 coordinate set(s) were parsed in 0.07s.\n",
      "@> 208 atoms and 1 coordinate set(s) were parsed in 0.00s.\n",
      "@> 3783 atoms and 1 coordinate set(s) were parsed in 0.05s.\n"
     ]
    },
    {
     "name": "stdout",
     "output_type": "stream",
     "text": [
      "['663' 'CA' 'HOH']\n",
      "Proteína 2p3u: ligando 663 guardado.\n",
      "['HOH' 'ME1']\n",
      "Proteína 2p93: ligando ME1 guardado.\n"
     ]
    },
    {
     "name": "stderr",
     "output_type": "stream",
     "text": [
      "@> 170 atoms and 1 coordinate set(s) were parsed in 0.00s.\n",
      "@> 3783 atoms and 1 coordinate set(s) were parsed in 0.05s.\n",
      "@> 118 atoms and 1 coordinate set(s) were parsed in 0.00s.\n",
      "@> 3783 atoms and 1 coordinate set(s) were parsed in 0.09s.\n"
     ]
    },
    {
     "name": "stdout",
     "output_type": "stream",
     "text": [
      "['HOH' 'ME4']\n",
      "Proteína 2p94: ligando ME4 guardado.\n",
      "['HOH' 'ME5']\n",
      "Proteína 2p95: ligando ME5 guardado.\n"
     ]
    },
    {
     "name": "stderr",
     "output_type": "stream",
     "text": [
      "@> 85 atoms and 1 coordinate set(s) were parsed in 0.00s.\n",
      "@> 3783 atoms and 1 coordinate set(s) were parsed in 0.04s.\n",
      "@> 261 atoms and 1 coordinate set(s) were parsed in 0.00s.\n",
      "@> 3783 atoms and 1 coordinate set(s) were parsed in 0.05s.\n",
      "@> 138 atoms and 1 coordinate set(s) were parsed in 0.00s.\n"
     ]
    },
    {
     "name": "stdout",
     "output_type": "stream",
     "text": [
      "['230' 'HOH']\n",
      "Proteína 2phb: ligando 230 guardado.\n",
      "['237' 'CA' 'HOH']\n",
      "Proteína 2pr3: ligando 237 guardado.\n"
     ]
    },
    {
     "name": "stderr",
     "output_type": "stream",
     "text": [
      "@> 3783 atoms and 1 coordinate set(s) were parsed in 0.05s.\n",
      "@> 120 atoms and 1 coordinate set(s) were parsed in 0.00s.\n",
      "@> 3783 atoms and 1 coordinate set(s) were parsed in 0.06s.\n",
      "@> 228 atoms and 1 coordinate set(s) were parsed in 0.00s.\n"
     ]
    },
    {
     "name": "stdout",
     "output_type": "stream",
     "text": [
      "['FXI' 'HOH']\n",
      "Proteína 2q1j: ligando FXI guardado.\n",
      "['HOH' 'JNJ']\n",
      "Proteína 2ra0: ligando JNJ guardado.\n"
     ]
    },
    {
     "name": "stderr",
     "output_type": "stream",
     "text": [
      "@> 3783 atoms and 1 coordinate set(s) were parsed in 0.05s.\n",
      "@> 232 atoms and 1 coordinate set(s) were parsed in 0.00s.\n",
      "@> 3783 atoms and 1 coordinate set(s) were parsed in 0.04s.\n",
      "@> 280 atoms and 1 coordinate set(s) were parsed in 0.03s.\n"
     ]
    },
    {
     "name": "stdout",
     "output_type": "stream",
     "text": [
      "['895' 'HOH']\n",
      "Proteína 2uwl: ligando 895 guardado.\n",
      "['701' 'HOH']\n",
      "Proteína 2uwo: ligando 701 guardado.\n"
     ]
    },
    {
     "name": "stderr",
     "output_type": "stream",
     "text": [
      "@> 3783 atoms and 1 coordinate set(s) were parsed in 0.04s.\n",
      "@> 268 atoms and 1 coordinate set(s) were parsed in 0.00s.\n",
      "@> 3783 atoms and 1 coordinate set(s) were parsed in 0.05s.\n",
      "@> 206 atoms and 1 coordinate set(s) were parsed in 0.00s.\n"
     ]
    },
    {
     "name": "stdout",
     "output_type": "stream",
     "text": [
      "['894' 'HOH' 'MG']\n",
      "Proteína 2uwp: ligando 894 guardado.\n",
      "['GSI' 'HOH' 'MG']\n",
      "Proteína 2vh0: ligando GSI guardado.\n"
     ]
    },
    {
     "name": "stderr",
     "output_type": "stream",
     "text": [
      "@> 3783 atoms and 1 coordinate set(s) were parsed in 0.05s.\n",
      "@> 645 atoms and 1 coordinate set(s) were parsed in 0.01s.\n",
      "@> 3783 atoms and 1 coordinate set(s) were parsed in 0.06s.\n"
     ]
    },
    {
     "name": "stdout",
     "output_type": "stream",
     "text": [
      "['GSV' 'HOH']\n",
      "Proteína 2vh6: ligando GSV guardado.\n",
      "['HOH' 'LZF' 'NA']\n"
     ]
    },
    {
     "name": "stderr",
     "output_type": "stream",
     "text": [
      "@> 226 atoms and 1 coordinate set(s) were parsed in 0.00s.\n",
      "@> 3783 atoms and 1 coordinate set(s) were parsed in 0.13s.\n"
     ]
    },
    {
     "name": "stdout",
     "output_type": "stream",
     "text": [
      "Proteína 2vvc: ligando LZF guardado.\n",
      "['H22' 'HOH' 'NA']\n"
     ]
    },
    {
     "name": "stderr",
     "output_type": "stream",
     "text": [
      "@> 469 atoms and 1 coordinate set(s) were parsed in 0.00s.\n",
      "@> 3783 atoms and 1 coordinate set(s) were parsed in 0.05s.\n"
     ]
    },
    {
     "name": "stdout",
     "output_type": "stream",
     "text": [
      "Proteína 2vvu: ligando H22 guardado.\n",
      "['H21' 'HOH' 'NA']\n",
      "Proteína 2vvv: ligando H21 guardado.\n"
     ]
    },
    {
     "name": "stderr",
     "output_type": "stream",
     "text": [
      "@> 303 atoms and 1 coordinate set(s) were parsed in 0.00s.\n",
      "@> 3783 atoms and 1 coordinate set(s) were parsed in 0.05s.\n",
      "@> 641 atoms and 1 coordinate set(s) were parsed in 0.01s.\n",
      "@> 3783 atoms and 1 coordinate set(s) were parsed in 0.05s.\n"
     ]
    },
    {
     "name": "stdout",
     "output_type": "stream",
     "text": [
      "['CL' 'HOH' 'LZH' 'NA']\n",
      "Proteína 2vwl: ligando LZH guardado.\n",
      "['HOH' 'LZI' 'NA']\n"
     ]
    },
    {
     "name": "stderr",
     "output_type": "stream",
     "text": [
      "@> 278 atoms and 1 coordinate set(s) were parsed in 0.00s.\n",
      "@> 3783 atoms and 1 coordinate set(s) were parsed in 0.07s.\n"
     ]
    },
    {
     "name": "stdout",
     "output_type": "stream",
     "text": [
      "Proteína 2vwm: ligando LZI guardado.\n",
      "['CL' 'H25' 'HOH' 'NA']\n"
     ]
    },
    {
     "name": "stderr",
     "output_type": "stream",
     "text": [
      "@> 260 atoms and 1 coordinate set(s) were parsed in 0.00s.\n",
      "@> 3783 atoms and 1 coordinate set(s) were parsed in 0.06s.\n",
      "@> 137 atoms and 1 coordinate set(s) were parsed in 0.00s.\n"
     ]
    },
    {
     "name": "stdout",
     "output_type": "stream",
     "text": [
      "Proteína 2vwn: ligando H25 guardado.\n",
      "['CL' 'HOH' 'LZG' 'NA']\n",
      "Proteína 2vwo: ligando LZG guardado.\n"
     ]
    },
    {
     "name": "stderr",
     "output_type": "stream",
     "text": [
      "@> 3783 atoms and 1 coordinate set(s) were parsed in 0.05s.\n",
      "@> 206 atoms and 1 coordinate set(s) were parsed in 0.00s.\n",
      "@> 3783 atoms and 1 coordinate set(s) were parsed in 0.04s.\n",
      "@> 161 atoms and 1 coordinate set(s) were parsed in 0.00s.\n"
     ]
    },
    {
     "name": "stdout",
     "output_type": "stream",
     "text": [
      "['CA' 'HOH' 'RIV']\n",
      "Proteína 2w26: ligando RIV guardado.\n",
      "['HOH' 'L1C']\n",
      "Proteína 2w3i: ligando L1C guardado.\n"
     ]
    },
    {
     "name": "stderr",
     "output_type": "stream",
     "text": [
      "@> 3783 atoms and 1 coordinate set(s) were parsed in 0.05s.\n",
      "@> 240 atoms and 1 coordinate set(s) were parsed in 0.00s.\n",
      "@> 3783 atoms and 1 coordinate set(s) were parsed in 0.05s.\n",
      "@> 121 atoms and 1 coordinate set(s) were parsed in 0.00s.\n"
     ]
    },
    {
     "name": "stdout",
     "output_type": "stream",
     "text": [
      "['HOH' 'L1D']\n",
      "Proteína 2w3k: ligando L1D guardado.\n",
      "['461' 'HOH']\n",
      "Proteína 2wyg: ligando 461 guardado.\n"
     ]
    },
    {
     "name": "stderr",
     "output_type": "stream",
     "text": [
      "@> 3783 atoms and 1 coordinate set(s) were parsed in 0.05s.\n",
      "@> 323 atoms and 1 coordinate set(s) were parsed in 0.01s.\n",
      "@> 3783 atoms and 1 coordinate set(s) were parsed in 0.08s.\n"
     ]
    },
    {
     "name": "stdout",
     "output_type": "stream",
     "text": [
      "['898' 'HOH']\n",
      "Proteína 2wyj: ligando 898 guardado.\n",
      "['HOH' 'NA' 'XBV']\n"
     ]
    },
    {
     "name": "stderr",
     "output_type": "stream",
     "text": [
      "@> 284 atoms and 1 coordinate set(s) were parsed in 0.00s.\n",
      "@> 3783 atoms and 1 coordinate set(s) were parsed in 0.06s.\n",
      "@> 284 atoms and 1 coordinate set(s) were parsed in 0.00s.\n"
     ]
    },
    {
     "name": "stdout",
     "output_type": "stream",
     "text": [
      "Proteína 2xbv: ligando XBV guardado.\n",
      "['455' 'HOH' 'NA']\n",
      "Proteína 2xbw: ligando 455 guardado.\n"
     ]
    },
    {
     "name": "stderr",
     "output_type": "stream",
     "text": [
      "@> 3783 atoms and 1 coordinate set(s) were parsed in 0.06s.\n",
      "@> 263 atoms and 1 coordinate set(s) were parsed in 0.01s.\n",
      "@> 3783 atoms and 1 coordinate set(s) were parsed in 0.07s.\n"
     ]
    },
    {
     "name": "stdout",
     "output_type": "stream",
     "text": [
      "['HOH' 'NA' 'RR8']\n",
      "Proteína 2xbx: ligando RR8 guardado.\n",
      "['63C' 'HOH' 'NA']\n"
     ]
    },
    {
     "name": "stderr",
     "output_type": "stream",
     "text": [
      "@> 228 atoms and 1 coordinate set(s) were parsed in 0.00s.\n",
      "@> 3783 atoms and 1 coordinate set(s) were parsed in 0.05s.\n",
      "@> 348 atoms and 1 coordinate set(s) were parsed in 0.00s.\n"
     ]
    },
    {
     "name": "stdout",
     "output_type": "stream",
     "text": [
      "Proteína 2xby: ligando 63C guardado.\n",
      "['8NC' 'HOH' 'NA']\n",
      "Proteína 2xc0: ligando 8NC guardado.\n"
     ]
    },
    {
     "name": "stderr",
     "output_type": "stream",
     "text": [
      "@> 3783 atoms and 1 coordinate set(s) were parsed in 0.05s.\n",
      "@> 214 atoms and 1 coordinate set(s) were parsed in 0.00s.\n",
      "@> 3783 atoms and 1 coordinate set(s) were parsed in 0.05s.\n"
     ]
    },
    {
     "name": "stdout",
     "output_type": "stream",
     "text": [
      "['HOH' 'IVK' 'NA']\n",
      "Proteína 2xc4: ligando IVK guardado.\n",
      "['HOH' 'NA' 'OYJ']\n"
     ]
    },
    {
     "name": "stderr",
     "output_type": "stream",
     "text": [
      "@> 467 atoms and 1 coordinate set(s) were parsed in 0.01s.\n",
      "@> 3783 atoms and 1 coordinate set(s) were parsed in 0.05s.\n"
     ]
    },
    {
     "name": "stdout",
     "output_type": "stream",
     "text": [
      "Proteína 2xc5: ligando OYJ guardado.\n",
      "['HOH' 'NA' 'XWG']\n"
     ]
    },
    {
     "name": "stderr",
     "output_type": "stream",
     "text": [
      "@> 434 atoms and 1 coordinate set(s) were parsed in 0.00s.\n",
      "@> 3783 atoms and 1 coordinate set(s) were parsed in 0.04s.\n",
      "@> 429 atoms and 1 coordinate set(s) were parsed in 0.00s.\n"
     ]
    },
    {
     "name": "stdout",
     "output_type": "stream",
     "text": [
      "Proteína 2y5f: ligando XWG guardado.\n",
      "['FJD' 'HOH' 'NA']\n",
      "Proteína 2y5g: ligando FJD guardado.\n"
     ]
    },
    {
     "name": "stderr",
     "output_type": "stream",
     "text": [
      "@> 3783 atoms and 1 coordinate set(s) were parsed in 0.04s.\n",
      "@> 279 atoms and 1 coordinate set(s) were parsed in 0.00s.\n",
      "@> 3783 atoms and 1 coordinate set(s) were parsed in 0.04s.\n"
     ]
    },
    {
     "name": "stdout",
     "output_type": "stream",
     "text": [
      "['HOH' 'NA' 'Y5H']\n",
      "Proteína 2y5h: ligando Y5H guardado.\n",
      "['HOH' 'MG' 'MZA']\n"
     ]
    },
    {
     "name": "stderr",
     "output_type": "stream",
     "text": [
      "@> 243 atoms and 1 coordinate set(s) were parsed in 0.00s.\n",
      "@> 3783 atoms and 1 coordinate set(s) were parsed in 0.05s.\n",
      "@> 271 atoms and 1 coordinate set(s) were parsed in 0.00s.\n"
     ]
    },
    {
     "name": "stdout",
     "output_type": "stream",
     "text": [
      "Proteína 2y7x: ligando MZA guardado.\n",
      "['C0Z' 'HOH' 'MG']\n",
      "Proteína 2y7z: ligando C0Z guardado.\n"
     ]
    },
    {
     "name": "stderr",
     "output_type": "stream",
     "text": [
      "@> 3783 atoms and 1 coordinate set(s) were parsed in 0.07s.\n",
      "@> 307 atoms and 1 coordinate set(s) were parsed in 0.00s.\n",
      "@> 3783 atoms and 1 coordinate set(s) were parsed in 0.07s.\n"
     ]
    },
    {
     "name": "stdout",
     "output_type": "stream",
     "text": [
      "['439' 'HOH' 'MG']\n",
      "Proteína 2y80: ligando 439 guardado.\n",
      "['931' 'HOH' 'MG']\n"
     ]
    },
    {
     "name": "stderr",
     "output_type": "stream",
     "text": [
      "@> 218 atoms and 1 coordinate set(s) were parsed in 0.00s.\n",
      "@> 3783 atoms and 1 coordinate set(s) were parsed in 0.05s.\n",
      "@> 312 atoms and 1 coordinate set(s) were parsed in 0.00s.\n"
     ]
    },
    {
     "name": "stdout",
     "output_type": "stream",
     "text": [
      "Proteína 2y81: ligando 931 guardado.\n",
      "['930' 'HOH' 'MG']\n",
      "Proteína 2y82: ligando 930 guardado.\n"
     ]
    },
    {
     "name": "stderr",
     "output_type": "stream",
     "text": [
      "@> 3783 atoms and 1 coordinate set(s) were parsed in 0.04s.\n",
      "@> 157 atoms and 1 coordinate set(s) were parsed in 0.00s.\n",
      "@> 3783 atoms and 1 coordinate set(s) were parsed in 0.05s.\n"
     ]
    },
    {
     "name": "stdout",
     "output_type": "stream",
     "text": [
      "['FXA' 'HOH']\n",
      "Proteína 3cen: ligando FXA guardado.\n",
      "['HOH' 'LG0']\n"
     ]
    },
    {
     "name": "stderr",
     "output_type": "stream",
     "text": [
      "@> 454 atoms and 1 coordinate set(s) were parsed in 0.00s.\n",
      "@> 3783 atoms and 1 coordinate set(s) were parsed in 0.04s.\n",
      "@> 298 atoms and 1 coordinate set(s) were parsed in 0.00s.\n"
     ]
    },
    {
     "name": "stdout",
     "output_type": "stream",
     "text": [
      "Proteína 3cs7: ligando LG0 guardado.\n",
      "['ENS' 'HOH' 'MES' 'NA']\n",
      "Proteína 3ens: ligando ENS guardado.\n"
     ]
    },
    {
     "name": "stderr",
     "output_type": "stream",
     "text": [
      "@> 3783 atoms and 1 coordinate set(s) were parsed in 0.05s.\n",
      "@> 716 atoms and 1 coordinate set(s) were parsed in 0.01s.\n",
      "@> 3783 atoms and 1 coordinate set(s) were parsed in 0.05s.\n"
     ]
    },
    {
     "name": "stdout",
     "output_type": "stream",
     "text": [
      "['FFG' 'HOH']\n",
      "Proteína 3ffg: ligando FFG guardado.\n",
      "['HOH' 'MES' 'NA' 'YET']\n"
     ]
    },
    {
     "name": "stderr",
     "output_type": "stream",
     "text": [
      "@> 226 atoms and 1 coordinate set(s) were parsed in 0.00s.\n",
      "@> 3783 atoms and 1 coordinate set(s) were parsed in 0.05s.\n",
      "@> 785 atoms and 1 coordinate set(s) were parsed in 0.01s.\n"
     ]
    },
    {
     "name": "stdout",
     "output_type": "stream",
     "text": [
      "Proteína 3hpt: ligando YET guardado.\n",
      "['CA' 'D14' 'HOH']\n",
      "Proteína 3iit: ligando D14 guardado.\n"
     ]
    },
    {
     "name": "stderr",
     "output_type": "stream",
     "text": [
      "@> 3783 atoms and 1 coordinate set(s) were parsed in 0.05s.\n",
      "@> 255 atoms and 1 coordinate set(s) were parsed in 0.01s.\n"
     ]
    },
    {
     "name": "stdout",
     "output_type": "stream",
     "text": [
      "['HOH' 'MBM' 'NA']\n",
      "Proteína 3k9x: ligando MBM guardado.\n"
     ]
    },
    {
     "name": "stderr",
     "output_type": "stream",
     "text": [
      "@> 3783 atoms and 1 coordinate set(s) were parsed in 0.06s.\n",
      "@> 140 atoms and 1 coordinate set(s) were parsed in 0.00s.\n",
      "@> 3783 atoms and 1 coordinate set(s) were parsed in 0.04s.\n",
      "@> 157 atoms and 1 coordinate set(s) were parsed in 0.00s.\n"
     ]
    },
    {
     "name": "stdout",
     "output_type": "stream",
     "text": [
      "['443' 'CA' 'EDO' 'HOH']\n",
      "Proteína 3kl6: ligando 443 guardado.\n",
      "['HOH' 'LGJ' 'NA']\n",
      "Proteína 3kqb: ligando LGJ guardado.\n"
     ]
    },
    {
     "name": "stderr",
     "output_type": "stream",
     "text": [
      "@> 3783 atoms and 1 coordinate set(s) were parsed in 0.04s.\n",
      "@> 62 atoms and 1 coordinate set(s) were parsed in 0.00s.\n",
      "@> 3783 atoms and 1 coordinate set(s) were parsed in 0.04s.\n",
      "@> 123 atoms and 1 coordinate set(s) were parsed in 0.00s.\n",
      "@> 3783 atoms and 1 coordinate set(s) were parsed in 0.04s.\n"
     ]
    },
    {
     "name": "stdout",
     "output_type": "stream",
     "text": [
      "['HOH' 'LGK' 'NA']\n",
      "Proteína 3kqc: ligando LGK guardado.\n",
      "['HOH' 'LGL' 'NA']\n",
      "Proteína 3kqd: ligando LGL guardado.\n",
      "['HOH' 'LGM' 'NA']\n",
      "Proteína 3kqe: ligando LGM guardado.\n"
     ]
    },
    {
     "name": "stderr",
     "output_type": "stream",
     "text": [
      "@> 161 atoms and 1 coordinate set(s) were parsed in 0.00s.\n",
      "@> 3783 atoms and 1 coordinate set(s) were parsed in 0.04s.\n",
      "@> 191 atoms and 1 coordinate set(s) were parsed in 0.00s.\n",
      "@> 3783 atoms and 1 coordinate set(s) were parsed in 0.04s.\n",
      "@> 237 atoms and 1 coordinate set(s) were parsed in 0.00s.\n"
     ]
    },
    {
     "name": "stdout",
     "output_type": "stream",
     "text": [
      "['CA' 'HOH' 'RUP']\n",
      "Proteína 3liw: ligando RUP guardado.\n",
      "['HOH' 'M35']\n",
      "Proteína 3m36: ligando M35 guardado.\n"
     ]
    },
    {
     "name": "stderr",
     "output_type": "stream",
     "text": [
      "@> 3783 atoms and 1 coordinate set(s) were parsed in 0.06s.\n",
      "@> 140 atoms and 1 coordinate set(s) were parsed in 0.00s.\n",
      "@> 3783 atoms and 1 coordinate set(s) were parsed in 0.05s.\n",
      "@> 130 atoms and 1 coordinate set(s) were parsed in 0.00s.\n"
     ]
    },
    {
     "name": "stdout",
     "output_type": "stream",
     "text": [
      "['HOH' 'M37']\n",
      "Proteína 3m37: ligando M37 guardado.\n",
      "['CA' 'D90' 'HOH']\n",
      "Proteína 3q3k: ligando D90 guardado.\n"
     ]
    },
    {
     "name": "stderr",
     "output_type": "stream",
     "text": [
      "@> 3783 atoms and 1 coordinate set(s) were parsed in 0.06s.\n",
      "@> 251 atoms and 1 coordinate set(s) were parsed in 0.01s.\n",
      "@> 3783 atoms and 1 coordinate set(s) were parsed in 0.07s.\n"
     ]
    },
    {
     "name": "stdout",
     "output_type": "stream",
     "text": [
      "['FI1' 'HOH' 'NA']\n",
      "Proteína 3sw2: ligando FI1 guardado.\n",
      "['CA' 'D1Q' 'HOH']\n",
      "Proteína 3tk5: ligando D1Q guardado.\n"
     ]
    },
    {
     "name": "stderr",
     "output_type": "stream",
     "text": [
      "@> 254 atoms and 1 coordinate set(s) were parsed in 0.00s.\n",
      "@> 3783 atoms and 1 coordinate set(s) were parsed in 0.06s.\n",
      "@> 231 atoms and 1 coordinate set(s) were parsed in 0.00s.\n",
      "@> 3783 atoms and 1 coordinate set(s) were parsed in 0.05s.\n"
     ]
    },
    {
     "name": "stdout",
     "output_type": "stream",
     "text": [
      "['CA' 'D46' 'HOH']\n",
      "Proteína 3tk6: ligando D46 guardado.\n",
      "['A7I' 'HOH']\n",
      "Proteína 4a7i: ligando A7I guardado.\n"
     ]
    },
    {
     "name": "stderr",
     "output_type": "stream",
     "text": [
      "@> 695 atoms and 1 coordinate set(s) were parsed in 0.01s.\n",
      "@> 3783 atoms and 1 coordinate set(s) were parsed in 0.05s.\n",
      "@> 310 atoms and 1 coordinate set(s) were parsed in 0.00s.\n"
     ]
    },
    {
     "name": "stdout",
     "output_type": "stream",
     "text": [
      "['7R9' 'HOH']\n",
      "Proteína 4bti: ligando 7R9 guardado.\n"
     ]
    },
    {
     "name": "stderr",
     "output_type": "stream",
     "text": [
      "@> 3783 atoms and 1 coordinate set(s) were parsed in 0.07s.\n",
      "@> 646 atoms and 1 coordinate set(s) were parsed in 0.01s.\n",
      "@> 3783 atoms and 1 coordinate set(s) were parsed in 0.04s.\n"
     ]
    },
    {
     "name": "stdout",
     "output_type": "stream",
     "text": [
      "['HOH' 'VYR']\n",
      "Proteína 4btt: ligando VYR guardado.\n",
      "['6XS' 'HOH']\n"
     ]
    },
    {
     "name": "stderr",
     "output_type": "stream",
     "text": [
      "@> 337 atoms and 1 coordinate set(s) were parsed in 0.00s.\n",
      "@> 3783 atoms and 1 coordinate set(s) were parsed in 0.05s.\n",
      "@> 226 atoms and 1 coordinate set(s) were parsed in 0.00s.\n"
     ]
    },
    {
     "name": "stdout",
     "output_type": "stream",
     "text": [
      "Proteína 4btu: ligando 6XS guardado.\n",
      "['48U' 'HOH']\n",
      "Proteína 4y6d: ligando 48U guardado.\n"
     ]
    },
    {
     "name": "stderr",
     "output_type": "stream",
     "text": [
      "@> 3783 atoms and 1 coordinate set(s) were parsed in 0.08s.\n",
      "@> 249 atoms and 1 coordinate set(s) were parsed in 0.00s.\n",
      "@> 3783 atoms and 1 coordinate set(s) were parsed in 0.04s.\n",
      "@> 268 atoms and 1 coordinate set(s) were parsed in 0.00s.\n"
     ]
    },
    {
     "name": "stdout",
     "output_type": "stream",
     "text": [
      "['48W' 'HOH']\n",
      "Proteína 4y71: ligando 48W guardado.\n",
      "['4O1' 'HOH']\n",
      "Proteína 4y76: ligando 4O1 guardado.\n"
     ]
    },
    {
     "name": "stderr",
     "output_type": "stream",
     "text": [
      "@> 3783 atoms and 1 coordinate set(s) were parsed in 0.08s.\n",
      "@> 249 atoms and 1 coordinate set(s) were parsed in 0.00s.\n",
      "@> 3783 atoms and 1 coordinate set(s) were parsed in 0.06s.\n"
     ]
    },
    {
     "name": "stdout",
     "output_type": "stream",
     "text": [
      "['4O6' 'HOH' 'MG']\n",
      "Proteína 4y79: ligando 4O6 guardado.\n",
      "['987' 'HOH' 'MG']\n"
     ]
    },
    {
     "name": "stderr",
     "output_type": "stream",
     "text": [
      "@> 366 atoms and 1 coordinate set(s) were parsed in 0.00s.\n",
      "@> 3783 atoms and 1 coordinate set(s) were parsed in 0.04s.\n",
      "@> 308 atoms and 1 coordinate set(s) were parsed in 0.00s.\n"
     ]
    },
    {
     "name": "stdout",
     "output_type": "stream",
     "text": [
      "Proteína 4y7a: ligando 987 guardado.\n",
      "['44I' 'HOH']\n",
      "Proteína 4y7b: ligando 44I guardado.\n"
     ]
    },
    {
     "name": "stderr",
     "output_type": "stream",
     "text": [
      "@> 3783 atoms and 1 coordinate set(s) were parsed in 0.05s.\n",
      "@> 299 atoms and 1 coordinate set(s) were parsed in 0.00s.\n",
      "@> 3783 atoms and 1 coordinate set(s) were parsed in 0.05s.\n",
      "@> 183 atoms and 1 coordinate set(s) were parsed in 0.00s.\n"
     ]
    },
    {
     "name": "stdout",
     "output_type": "stream",
     "text": [
      "['4O4' 'HOH']\n",
      "Proteína 4zh8: ligando 4O4 guardado.\n",
      "['4O5' 'HOH' 'MG']\n",
      "Proteína 4zha: ligando 4O5 guardado.\n"
     ]
    },
    {
     "name": "stderr",
     "output_type": "stream",
     "text": [
      "@> 3783 atoms and 1 coordinate set(s) were parsed in 0.04s.\n",
      "@> 543 atoms and 1 coordinate set(s) were parsed in 0.01s.\n",
      "@> 3783 atoms and 1 coordinate set(s) were parsed in 0.06s.\n",
      "@> 506 atoms and 1 coordinate set(s) were parsed in 0.00s.\n"
     ]
    },
    {
     "name": "stdout",
     "output_type": "stream",
     "text": [
      "['6PK' 'CA' 'HOH']\n",
      "Proteína 5k0h: ligando 6PK guardado.\n",
      "['HOH' 'NA']\n",
      "La proteina 5voe NO TIENE LIGANDO.\n"
     ]
    },
    {
     "name": "stderr",
     "output_type": "stream",
     "text": [
      "@> 3783 atoms and 1 coordinate set(s) were parsed in 0.07s.\n"
     ]
    },
    {
     "name": "stdout",
     "output_type": "stream",
     "text": [
      "['HOH' 'NA' 'RIV']\n",
      "Proteína 5vof: ligando RIV guardado.\n"
     ]
    }
   ],
   "source": [
    "from modules.get_cocristalized_ligands import get_pocket_ligand\n",
    "\n",
    "# Se agregan dos columnas al dataframe\n",
    "df_prot[\"Inhib\"] = \"\"\n",
    "df_prot[\"Inhib_mass\"] = np.nan\n",
    "\n",
    "# Se obtienen los ligandos\n",
    "for pdb_id in df_prot.index:\n",
    "    inhibidor = get_pocket_ligand(pdb_id, pocket_residues=pocket_residues,\n",
    "                                  raw_lig_dir= RAW_LIG_DIR,\n",
    "                                  prot_chain_dir=PROT_CHAINS_DIR,\n",
    "                                  pk_ligs_dir=PK_LIGS_DIR,\n",
    "                                  write_files=True, cutoff=3.5, min_weight = 97)\n",
    "    \n",
    "    df_prot.at[str(pdb_id), 'Inhib'] = inhibidor[0]\n",
    "    df_prot.at[pdb_id, 'Inhib_mass'] = inhibidor[1]"
   ]
  },
  {
   "cell_type": "code",
   "execution_count": null,
   "metadata": {},
   "outputs": [],
   "source": []
  }
 ],
 "metadata": {
  "kernelspec": {
   "display_name": "Python 3.7.6 64-bit ('mds': conda)",
   "language": "python",
   "name": "python37664bitmdsconda8fcfe9b6c3484566880235af88776fef"
  },
  "language_info": {
   "codemirror_mode": {
    "name": "ipython",
    "version": 3
   },
   "file_extension": ".py",
   "mimetype": "text/x-python",
   "name": "python",
   "nbconvert_exporter": "python",
   "pygments_lexer": "ipython3",
   "version": "3.7.6"
  }
 },
 "nbformat": 4,
 "nbformat_minor": 4
}
