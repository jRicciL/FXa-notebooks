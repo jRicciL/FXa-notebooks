{
 "cells": [
  {
   "cell_type": "markdown",
   "metadata": {},
   "source": [
    "### Preparing DEKOIS molecules\n",
    "- Moleucles downloaded from: http://www.dekois.com/"
   ]
  },
  {
   "cell_type": "code",
   "execution_count": 3,
   "metadata": {},
   "outputs": [],
   "source": [
    "from glob import glob\n",
    "import os, sys"
   ]
  },
  {
   "cell_type": "markdown",
   "metadata": {},
   "source": [
    "### DEKOIS2\n",
    "- Molecules come if a single sdf file\n",
    "- Molecules are protonated."
   ]
  },
  {
   "cell_type": "code",
   "execution_count": 21,
   "metadata": {},
   "outputs": [],
   "source": [
    "DKS_DIR = '../../FILES/CRYSTALS/LIGS_FXA/DEKOIS2/'\n",
    "\n",
    "# Create the sdf directory\n",
    "sdf_DIR = DKS_DIR + 'sdf/'\n",
    "if not os.path.exists(sdf_DIR):\n",
    "    os.mkdir(sdf_DIR)"
   ]
  },
  {
   "cell_type": "code",
   "execution_count": 22,
   "metadata": {},
   "outputs": [],
   "source": [
    "# Use obabel to split the file"
   ]
  },
  {
   "cell_type": "code",
   "execution_count": 27,
   "metadata": {},
   "outputs": [
    {
     "name": "stderr",
     "output_type": "stream",
     "text": [
      "40 molecules converted\n",
      "40 files output. The first is ../../FILES/CRYSTALS/LIGS_FXA/DEKOIS2/sdf//ligand_1.sdf\n",
      "==============================\n",
      "*** Open Babel Error  in TetStereoToWedgeHash\n",
      "  Failed to set stereochemistry as unable to find an available bond\n",
      "1200 molecules converted\n",
      "1200 files output. The first is ../../FILES/CRYSTALS/LIGS_FXA/DEKOIS2/sdf//decoy_1.sdf\n"
     ]
    }
   ],
   "source": [
    "%%bash -s \"$DKS_DIR\" \"$sdf_DIR\"\n",
    "# Splitting active molecules\n",
    "obabel $1/FXA.sdf -O $2/ligand_.sdf -m\n",
    "# Splitting decoy molecules\n",
    "obabel $1/FXA_Celling-v1.12_decoyset.sdf -O $2/decoy_.sdf -m"
   ]
  },
  {
   "cell_type": "markdown",
   "metadata": {},
   "source": [
    "#### Convert sdf molecules to sdf"
   ]
  },
  {
   "cell_type": "code",
   "execution_count": 29,
   "metadata": {},
   "outputs": [],
   "source": [
    "# Create the sdf directory\n",
    "mol2_DIR = DKS_DIR + 'mol2/'\n",
    "if not os.path.exists(mol2_DIR):\n",
    "    os.mkdir(mol2_DIR)"
   ]
  },
  {
   "cell_type": "code",
   "execution_count": 30,
   "metadata": {},
   "outputs": [],
   "source": [
    "# We are going to use chimera instead of obabel to obtain the mol2 moelcules"
   ]
  },
  {
   "cell_type": "code",
   "execution_count": 35,
   "metadata": {},
   "outputs": [],
   "source": [
    "with open('chim_addh.py', 'w') as f:\n",
    "    f.write(F'''\n",
    "from chimera import runCommand as rc\n",
    "\n",
    "from os import chdir, listdir\n",
    "chdir(\"{sdf_DIR}\") \n",
    "\n",
    "for m in listdir('.'):\n",
    "    rc('open ' + m)\n",
    "    # rc(\"addh\") # Omitted because molecules have Hs already \n",
    "    rc('write format mol2 0 ' + m[:-4] + '.mol2')\n",
    "    rc('close all')    \n",
    "    ''')"
   ]
  },
  {
   "cell_type": "code",
   "execution_count": null,
   "metadata": {},
   "outputs": [],
   "source": [
    "%%bash -s $sdf_DIR $mol2_DIR\n",
    "# Ruta al aejecutable de chimera\n",
    "chimera='/home/joel/.local/UCSF-Chimera64-1.14rc/bin/chimera'\n",
    "\n",
    "$chimera --nogui chim_addh.py\n",
    "wait\n",
    "## Ahora movemos los archivos mol2 a la carpeta correspondiente\n",
    "mv $1/*.mol2 $2"
   ]
  },
  {
   "cell_type": "markdown",
   "metadata": {},
   "source": [
    "## DUD 2006\n",
    "- Includes two mol2 files: actives and decoys, respectively."
   ]
  },
  {
   "cell_type": "code",
   "execution_count": 38,
   "metadata": {},
   "outputs": [],
   "source": [
    "DUD_DIR = '../../FILES/CRYSTALS/LIGS_FXA/DUD2006/'\n",
    "\n",
    "# Create the sdf directory\n",
    "mol2_DIR = DUD_DIR + 'mol2/'\n",
    "if not os.path.exists(mol2_DIR):\n",
    "    os.mkdir(mol2_DIR)"
   ]
  },
  {
   "cell_type": "markdown",
   "metadata": {},
   "source": [
    "Split mol2 files"
   ]
  },
  {
   "cell_type": "code",
   "execution_count": 41,
   "metadata": {},
   "outputs": [
    {
     "name": "stderr",
     "output_type": "stream",
     "text": [
      "146 molecules converted\n",
      "146 files output. The first is ../../FILES/CRYSTALS/LIGS_FXA/DUD2006/mol2//ligand_1.mol2\n",
      "5745 molecules converted\n",
      "5745 files output. The first is ../../FILES/CRYSTALS/LIGS_FXA/DUD2006/mol2//decoy_1.mol2\n"
     ]
    }
   ],
   "source": [
    "%%bash -s \"$DUD_DIR\" \"$mol2_DIR\"\n",
    "# Splitting active molecules\n",
    "obabel $1/fxa_ligands.mol2 -O $2/ligand_.mol2 -m\n",
    "# Splitting decoy molecules\n",
    "obabel $1/fxa_decoys.mol2 -O $2/decoy_.mol2 -m"
   ]
  },
  {
   "cell_type": "markdown",
   "metadata": {},
   "source": [
    "SDF files:"
   ]
  },
  {
   "cell_type": "code",
   "execution_count": 43,
   "metadata": {},
   "outputs": [],
   "source": [
    "# Create the sdf directory\n",
    "sdf_DIR = DUD_DIR + 'sdf/'\n",
    "if not os.path.exists(sdf_DIR):\n",
    "    os.mkdir(sdf_DIR)"
   ]
  },
  {
   "cell_type": "code",
   "execution_count": 44,
   "metadata": {},
   "outputs": [
    {
     "name": "stderr",
     "output_type": "stream",
     "text": [
      "146 molecules converted\n",
      "146 files output. The first is ../../FILES/CRYSTALS/LIGS_FXA/DUD2006/sdf//ligand_1.sdf\n",
      "5745 molecules converted\n",
      "5745 files output. The first is ../../FILES/CRYSTALS/LIGS_FXA/DUD2006/sdf//decoy_1.sdf\n"
     ]
    }
   ],
   "source": [
    "%%bash -s \"$DUD_DIR\" \"$sdf_DIR\"\n",
    "# Splitting active molecules and convert to sdf\n",
    "obabel $1/fxa_ligands.mol2 -osdf -O $2/ligand_.sdf -m\n",
    "# Splitting decoy molecules and convert to sdt\n",
    "obabel $1/fxa_decoys.mol2 -osdf -O $2/decoy_.sdf -m"
   ]
  }
 ],
 "metadata": {
  "kernelspec": {
   "display_name": "Python 3.7.6 64-bit ('mds': conda)",
   "language": "python",
   "name": "python37664bitmdsconda8fcfe9b6c3484566880235af88776fef"
  },
  "language_info": {
   "codemirror_mode": {
    "name": "ipython",
    "version": 3
   },
   "file_extension": ".py",
   "mimetype": "text/x-python",
   "name": "python",
   "nbconvert_exporter": "python",
   "pygments_lexer": "ipython3",
   "version": "3.7.6"
  }
 },
 "nbformat": 4,
 "nbformat_minor": 4
}
