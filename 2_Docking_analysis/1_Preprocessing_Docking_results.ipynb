{
 "cells": [
  {
   "cell_type": "code",
   "execution_count": 59,
   "metadata": {},
   "outputs": [],
   "source": [
    "import pandas as pd\n",
    "import numpy as np\n",
    "from glob import glob\n",
    "import sys\n",
    "import os"
   ]
  },
  {
   "cell_type": "code",
   "execution_count": 4,
   "metadata": {},
   "outputs": [],
   "source": []
  },
  {
   "cell_type": "code",
   "execution_count": null,
   "metadata": {},
   "outputs": [],
   "source": []
  },
  {
   "cell_type": "markdown",
   "metadata": {},
   "source": [
    "We will use the following function from"
   ]
  },
  {
   "cell_type": "code",
   "execution_count": 63,
   "metadata": {},
   "outputs": [],
   "source": []
  },
  {
   "cell_type": "code",
   "execution_count": 114,
   "metadata": {},
   "outputs": [],
   "source": [
    "def _get_the_dataframe(dir_path):\n",
    "    list_files = glob(dir_path + '*')\n",
    "    assert list_files\n",
    "    # Sort the values in natural order\n",
    "    list_files.sort(key = lambda x: x.split('/')[-1].split('_')[0])\n",
    "\n",
    "    list_of_dfs = [pd.read_csv(i, index_col='Ligando') for i in list_files]\n",
    "    df = pd.concat(list_of_dfs, axis=1)\n",
    "    df.index.names = ['ligand'] # Rename the index\n",
    "    # Rename columns\n",
    "    df.columns = df.columns.str.replace('DkScore_', '')\n",
    "    return df\n",
    "\n",
    "def process_smina_docking_results(dir_path, mol_library, docking_tool, save = True):\n",
    "    df = _get_the_dataframe(dir_path)\n",
    "    # Add the Activity column\n",
    "    df['activity'] = [1 if 'ligand' in i else 0 for i in df.index ]\n",
    "    # Sort indices by natural ordering\n",
    "    df['order'] = [int(i.split('_')[-1]) for i in df.index]\n",
    "    df = df.reset_index()\\\n",
    "                .sort_values(['activity', 'order'], ascending=[False, True])\\\n",
    "                .set_index('ligand')\\\n",
    "                .drop('order', axis=1)\n",
    "    # Save the dataframe as csv\n",
    "    n_cols = df.shape[1]\n",
    "    m_mols = df.shape[0]\n",
    "    print('Shape of the final df:', df.shape)\n",
    "    if save:\n",
    "        df.to_csv(f'./{mol_library}_{docking_tool}_{n_cols}_prots_{m_mols}_mols.csv')\n",
    "    return df"
   ]
  },
  {
   "cell_type": "markdown",
   "metadata": {},
   "source": [
    "### DEKOIS \n",
    "#### VINARDO"
   ]
  },
  {
   "cell_type": "code",
   "execution_count": 116,
   "metadata": {},
   "outputs": [
    {
     "name": "stdout",
     "output_type": "stream",
     "text": [
      "Shape of the final df: (1240, 137)\n"
     ]
    }
   ],
   "source": [
    "# DIR OF FILES\n",
    "mol_library = 'DEKOIS2'\n",
    "docking_tool = 'VINARDO'\n",
    "DEKOIS_PATH = f'../../FILES/CRYSTALS/DOKINGS/DOCK_136_crys_{mol_library}/{docking_tool}/CSV/'\n",
    "\n",
    "df_dekois_vrd = process_smina_docking_results(DEKOIS_PATH, mol_library, docking_tool)"
   ]
  },
  {
   "cell_type": "markdown",
   "metadata": {},
   "source": [
    "### DUD \n",
    "#### VINARDO"
   ]
  },
  {
   "cell_type": "code",
   "execution_count": 118,
   "metadata": {},
   "outputs": [
    {
     "name": "stdout",
     "output_type": "stream",
     "text": [
      "Shape of the final df: (5891, 137)\n"
     ]
    }
   ],
   "source": [
    "# DIR OF FILES\n",
    "mol_library = 'DUD2006'\n",
    "docking_tool = 'VINARDO'\n",
    "DUD_PATH = f'../../FILES/CRYSTALS/DOKINGS/DOCK_136_crys_{mol_library}/{docking_tool}/CSV/'\n",
    "\n",
    "df_dud_vrd = process_smina_docking_results(DUD_PATH, mol_library, docking_tool)"
   ]
  },
  {
   "cell_type": "code",
   "execution_count": null,
   "metadata": {},
   "outputs": [],
   "source": []
  }
 ],
 "metadata": {
  "kernelspec": {
   "display_name": "Python 3.7.6 64-bit ('mds': conda)",
   "language": "python",
   "name": "python37664bitmdsconda8fcfe9b6c3484566880235af88776fef"
  },
  "language_info": {
   "codemirror_mode": {
    "name": "ipython",
    "version": 3
   },
   "file_extension": ".py",
   "mimetype": "text/x-python",
   "name": "python",
   "nbconvert_exporter": "python",
   "pygments_lexer": "ipython3",
   "version": "3.7.6"
  }
 },
 "nbformat": 4,
 "nbformat_minor": 4
}
