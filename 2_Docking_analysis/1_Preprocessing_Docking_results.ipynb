{
 "cells": [
  {
   "cell_type": "code",
   "execution_count": 1,
   "metadata": {},
   "outputs": [],
   "source": [
    "import pandas as pd\n",
    "import numpy as np\n",
    "from glob import glob\n",
    "import sys\n",
    "import os"
   ]
  },
  {
   "cell_type": "code",
   "execution_count": null,
   "metadata": {},
   "outputs": [],
   "source": []
  },
  {
   "cell_type": "code",
   "execution_count": null,
   "metadata": {},
   "outputs": [],
   "source": []
  },
  {
   "cell_type": "markdown",
   "metadata": {},
   "source": [
    "We will use the following function from"
   ]
  },
  {
   "cell_type": "code",
   "execution_count": null,
   "metadata": {},
   "outputs": [],
   "source": []
  },
  {
   "cell_type": "code",
   "execution_count": 24,
   "metadata": {},
   "outputs": [],
   "source": [
    "def _get_the_dataframe(dir_path):\n",
    "    list_files = glob(dir_path + '*')\n",
    "    assert list_files\n",
    "    # Sort the values in natural order\n",
    "    list_files.sort(key = lambda x: x.split('/')[-1].split('_')[0])\n",
    "\n",
    "    list_of_dfs = [pd.read_csv(i, index_col='Ligando') for i in list_files]\n",
    "    df = pd.concat(list_of_dfs, axis=1)\n",
    "    df.index.names = ['ligand'] # Rename the index\n",
    "    # Rename columns\n",
    "    df.columns = df.columns.str.strip().str.replace('DkScore_', '') # First strip to remove all white spaces\n",
    "    return df\n",
    "\n",
    "def process_smina_docking_results(dir_path, mol_library, docking_tool, save = True, \n",
    "                                  cocrys_molecules=False):\n",
    "    '''\n",
    "    Concatenate a set of csv files with Smina docking results. If the molecules are named as \"ligand_xxx\" and\n",
    "    \"decoy_xxx\", cocrys_molecules parameter should be kept as False.\n",
    "    If cocristalized, the function expects that the ligand name has the following patter: 'pdbi_LIG_XXX'\n",
    "    where lig is the  three letter molecule name.\n",
    "    '''\n",
    "    df = _get_the_dataframe(dir_path)\n",
    "    \n",
    "    if cocrys_molecules:\n",
    "        # Add the Activity column.\n",
    "        df['activity'] = 1 # If cocristalized it'll be assumed as active\n",
    "        # We dont need to sort by numerical ordering, but by ligand name, so extract it\n",
    "        df = df.reset_index()\\\n",
    "                    .sort_values('ligand', ascending = True)\\\n",
    "                    .set_index('ligand')\n",
    "        df.index = df.index.map(lambda x: x.split('_')[1])\n",
    "        \n",
    "    else:\n",
    "        # Add the Activity column.\n",
    "        df['activity'] = [1 if 'ligand' in i else 0 for i in df.index ]\n",
    "        # Sort indices by natural ordering\n",
    "        df['order'] = [int(i.split('_')[-1]) for i in df.index]\n",
    "        df = df.reset_index()\\\n",
    "                    .sort_values(['activity', 'order'], ascending=[False, True])\\\n",
    "                    .set_index('ligand')\\\n",
    "                    .drop('order', axis=1)\n",
    "    # Save the dataframe as csv\n",
    "    n_cols = df.shape[1]\n",
    "    m_mols = df.shape[0]\n",
    "    print('Shape of the final df:', df.shape)\n",
    "    if save:\n",
    "        df.to_csv(f'./{mol_library}_{docking_tool}_{n_cols}_prots_{m_mols}_mols.csv')\n",
    "    return df\n"
   ]
  },
  {
   "cell_type": "markdown",
   "metadata": {},
   "source": [
    "#### COCRYSTALIZED MOLECULES"
   ]
  },
  {
   "cell_type": "code",
   "execution_count": 26,
   "metadata": {},
   "outputs": [
    {
     "name": "stdout",
     "output_type": "stream",
     "text": [
      "Shape of the final df: (130, 137)\n"
     ]
    },
    {
     "data": {
      "text/html": [
       "<div>\n",
       "<style scoped>\n",
       "    .dataframe tbody tr th:only-of-type {\n",
       "        vertical-align: middle;\n",
       "    }\n",
       "\n",
       "    .dataframe tbody tr th {\n",
       "        vertical-align: top;\n",
       "    }\n",
       "\n",
       "    .dataframe thead th {\n",
       "        text-align: right;\n",
       "    }\n",
       "</style>\n",
       "<table border=\"1\" class=\"dataframe\">\n",
       "  <thead>\n",
       "    <tr style=\"text-align: right;\">\n",
       "      <th></th>\n",
       "      <th>1c5m</th>\n",
       "      <th>1ezq</th>\n",
       "      <th>1f0r</th>\n",
       "      <th>1f0s</th>\n",
       "      <th>1fax</th>\n",
       "      <th>1fjs</th>\n",
       "      <th>1g2l</th>\n",
       "      <th>1g2m</th>\n",
       "      <th>1hcg</th>\n",
       "      <th>1ioe</th>\n",
       "      <th>...</th>\n",
       "      <th>4y76</th>\n",
       "      <th>4y79</th>\n",
       "      <th>4y7a</th>\n",
       "      <th>4y7b</th>\n",
       "      <th>4zh8</th>\n",
       "      <th>4zha</th>\n",
       "      <th>5k0h</th>\n",
       "      <th>5voe</th>\n",
       "      <th>5vof</th>\n",
       "      <th>activity</th>\n",
       "    </tr>\n",
       "    <tr>\n",
       "      <th>ligand</th>\n",
       "      <th></th>\n",
       "      <th></th>\n",
       "      <th></th>\n",
       "      <th></th>\n",
       "      <th></th>\n",
       "      <th></th>\n",
       "      <th></th>\n",
       "      <th></th>\n",
       "      <th></th>\n",
       "      <th></th>\n",
       "      <th></th>\n",
       "      <th></th>\n",
       "      <th></th>\n",
       "      <th></th>\n",
       "      <th></th>\n",
       "      <th></th>\n",
       "      <th></th>\n",
       "      <th></th>\n",
       "      <th></th>\n",
       "      <th></th>\n",
       "      <th></th>\n",
       "    </tr>\n",
       "  </thead>\n",
       "  <tbody>\n",
       "    <tr>\n",
       "      <th>RPR</th>\n",
       "      <td>-11.8</td>\n",
       "      <td>-14.3</td>\n",
       "      <td>-12.8</td>\n",
       "      <td>-12.0</td>\n",
       "      <td>-11.5</td>\n",
       "      <td>-12.6</td>\n",
       "      <td>-12.8</td>\n",
       "      <td>-12.9</td>\n",
       "      <td>-12.6</td>\n",
       "      <td>-12.4</td>\n",
       "      <td>...</td>\n",
       "      <td>-11.5</td>\n",
       "      <td>-10.9</td>\n",
       "      <td>-11.7</td>\n",
       "      <td>-11.8</td>\n",
       "      <td>-9.8</td>\n",
       "      <td>-13.0</td>\n",
       "      <td>-13.0</td>\n",
       "      <td>-11.7</td>\n",
       "      <td>-11.4</td>\n",
       "      <td>1</td>\n",
       "    </tr>\n",
       "    <tr>\n",
       "      <th>815</th>\n",
       "      <td>-11.5</td>\n",
       "      <td>-11.5</td>\n",
       "      <td>-11.5</td>\n",
       "      <td>-11.4</td>\n",
       "      <td>-10.7</td>\n",
       "      <td>-11.3</td>\n",
       "      <td>-11.8</td>\n",
       "      <td>-11.8</td>\n",
       "      <td>-11.1</td>\n",
       "      <td>-12.4</td>\n",
       "      <td>...</td>\n",
       "      <td>-11.3</td>\n",
       "      <td>-11.5</td>\n",
       "      <td>-11.5</td>\n",
       "      <td>-11.2</td>\n",
       "      <td>-11.6</td>\n",
       "      <td>-11.5</td>\n",
       "      <td>-10.8</td>\n",
       "      <td>-10.7</td>\n",
       "      <td>-11.7</td>\n",
       "      <td>1</td>\n",
       "    </tr>\n",
       "    <tr>\n",
       "      <th>PR2</th>\n",
       "      <td>-10.6</td>\n",
       "      <td>-11.4</td>\n",
       "      <td>-10.9</td>\n",
       "      <td>-11.4</td>\n",
       "      <td>-10.7</td>\n",
       "      <td>-10.3</td>\n",
       "      <td>-10.5</td>\n",
       "      <td>-10.5</td>\n",
       "      <td>-10.0</td>\n",
       "      <td>-11.7</td>\n",
       "      <td>...</td>\n",
       "      <td>-10.6</td>\n",
       "      <td>-10.8</td>\n",
       "      <td>-10.7</td>\n",
       "      <td>-10.3</td>\n",
       "      <td>-10.7</td>\n",
       "      <td>-10.3</td>\n",
       "      <td>-10.4</td>\n",
       "      <td>-10.1</td>\n",
       "      <td>-11.3</td>\n",
       "      <td>1</td>\n",
       "    </tr>\n",
       "    <tr>\n",
       "      <th>DX9</th>\n",
       "      <td>-10.7</td>\n",
       "      <td>-11.6</td>\n",
       "      <td>-11.1</td>\n",
       "      <td>-10.5</td>\n",
       "      <td>-11.5</td>\n",
       "      <td>-10.8</td>\n",
       "      <td>-10.8</td>\n",
       "      <td>-11.4</td>\n",
       "      <td>-10.6</td>\n",
       "      <td>-11.8</td>\n",
       "      <td>...</td>\n",
       "      <td>-10.8</td>\n",
       "      <td>-11.0</td>\n",
       "      <td>-10.4</td>\n",
       "      <td>-10.1</td>\n",
       "      <td>-9.5</td>\n",
       "      <td>-11.0</td>\n",
       "      <td>-11.6</td>\n",
       "      <td>-9.6</td>\n",
       "      <td>-11.3</td>\n",
       "      <td>1</td>\n",
       "    </tr>\n",
       "    <tr>\n",
       "      <th>Z34</th>\n",
       "      <td>-11.2</td>\n",
       "      <td>-13.2</td>\n",
       "      <td>-12.7</td>\n",
       "      <td>-13.2</td>\n",
       "      <td>-12.4</td>\n",
       "      <td>-13.2</td>\n",
       "      <td>-12.8</td>\n",
       "      <td>-13.5</td>\n",
       "      <td>-11.1</td>\n",
       "      <td>-12.7</td>\n",
       "      <td>...</td>\n",
       "      <td>-11.8</td>\n",
       "      <td>-12.2</td>\n",
       "      <td>-12.6</td>\n",
       "      <td>-11.3</td>\n",
       "      <td>-11.8</td>\n",
       "      <td>-11.5</td>\n",
       "      <td>-13.4</td>\n",
       "      <td>-11.7</td>\n",
       "      <td>-11.7</td>\n",
       "      <td>1</td>\n",
       "    </tr>\n",
       "  </tbody>\n",
       "</table>\n",
       "<p>5 rows × 137 columns</p>\n",
       "</div>"
      ],
      "text/plain": [
       "        1c5m  1ezq  1f0r  1f0s  1fax  1fjs  1g2l  1g2m  1hcg  1ioe  ...  4y76  \\\n",
       "ligand                                                              ...         \n",
       "RPR    -11.8 -14.3 -12.8 -12.0 -11.5 -12.6 -12.8 -12.9 -12.6 -12.4  ... -11.5   \n",
       "815    -11.5 -11.5 -11.5 -11.4 -10.7 -11.3 -11.8 -11.8 -11.1 -12.4  ... -11.3   \n",
       "PR2    -10.6 -11.4 -10.9 -11.4 -10.7 -10.3 -10.5 -10.5 -10.0 -11.7  ... -10.6   \n",
       "DX9    -10.7 -11.6 -11.1 -10.5 -11.5 -10.8 -10.8 -11.4 -10.6 -11.8  ... -10.8   \n",
       "Z34    -11.2 -13.2 -12.7 -13.2 -12.4 -13.2 -12.8 -13.5 -11.1 -12.7  ... -11.8   \n",
       "\n",
       "        4y79  4y7a  4y7b  4zh8  4zha  5k0h  5voe  5vof  activity  \n",
       "ligand                                                            \n",
       "RPR    -10.9 -11.7 -11.8  -9.8 -13.0 -13.0 -11.7 -11.4         1  \n",
       "815    -11.5 -11.5 -11.2 -11.6 -11.5 -10.8 -10.7 -11.7         1  \n",
       "PR2    -10.8 -10.7 -10.3 -10.7 -10.3 -10.4 -10.1 -11.3         1  \n",
       "DX9    -11.0 -10.4 -10.1  -9.5 -11.0 -11.6  -9.6 -11.3         1  \n",
       "Z34    -12.2 -12.6 -11.3 -11.8 -11.5 -13.4 -11.7 -11.7         1  \n",
       "\n",
       "[5 rows x 137 columns]"
      ]
     },
     "execution_count": 26,
     "metadata": {},
     "output_type": "execute_result"
    }
   ],
   "source": [
    "# DIR OF FILES\n",
    "mol_library = 'COCRYS'\n",
    "docking_tool = 'VINARDO'\n",
    "COCRYS_PATH = f'../../FILES/CRYSTALS/DOKINGS/DOCK_136_crys_{mol_library}/{docking_tool}/CSV/'\n",
    "\n",
    "df_cocrys_vrd = process_smina_docking_results(COCRYS_PATH, mol_library, docking_tool, cocrys_molecules=True)\n",
    "\n",
    "df_cocrys_vrd.head()"
   ]
  },
  {
   "cell_type": "markdown",
   "metadata": {},
   "source": [
    "### DEKOIS \n",
    "#### VINARDO"
   ]
  },
  {
   "cell_type": "code",
   "execution_count": 135,
   "metadata": {},
   "outputs": [
    {
     "name": "stdout",
     "output_type": "stream",
     "text": [
      "Shape of the final df: (1240, 137)\n"
     ]
    }
   ],
   "source": [
    "# DIR OF FILES\n",
    "mol_library = 'DEKOIS2'\n",
    "docking_tool = 'VINARDO'\n",
    "DEKOIS_PATH = f'../../FILES/CRYSTALS/DOKINGS/DOCK_136_crys_{mol_library}/{docking_tool}/CSV/'\n",
    "\n",
    "df_dekois_vrd = process_smina_docking_results(DEKOIS_PATH, mol_library, docking_tool)"
   ]
  },
  {
   "cell_type": "markdown",
   "metadata": {},
   "source": [
    "### DUD \n",
    "#### VINARDO"
   ]
  },
  {
   "cell_type": "code",
   "execution_count": 132,
   "metadata": {},
   "outputs": [
    {
     "name": "stdout",
     "output_type": "stream",
     "text": [
      "Shape of the final df: (5891, 137)\n"
     ]
    }
   ],
   "source": [
    "# DIR OF FILES\n",
    "mol_library = 'DUD2006'\n",
    "docking_tool = 'VINARDO'\n",
    "DUD_PATH = f'../../FILES/CRYSTALS/DOKINGS/DOCK_136_crys_{mol_library}/{docking_tool}/CSV/'\n",
    "\n",
    "df_dud_vrd = process_smina_docking_results(DUD_PATH, mol_library, docking_tool)"
   ]
  },
  {
   "cell_type": "markdown",
   "metadata": {},
   "source": [
    "### NaN values in DUD: Temporally\n",
    "I will fill NAN with row means in the DUD dataset to continue the analysis before complete the missing ligands.\n",
    "\n"
   ]
  },
  {
   "cell_type": "code",
   "execution_count": 150,
   "metadata": {},
   "outputs": [
    {
     "data": {
      "text/plain": [
       "807067"
      ]
     },
     "execution_count": 150,
     "metadata": {},
     "output_type": "execute_result"
    }
   ],
   "source": [
    "df_dud_vrd.shape[0] * df_dud_vrd.shape[1]"
   ]
  },
  {
   "cell_type": "code",
   "execution_count": 149,
   "metadata": {},
   "outputs": [
    {
     "data": {
      "text/plain": [
       "1538"
      ]
     },
     "execution_count": 149,
     "metadata": {},
     "output_type": "execute_result"
    }
   ],
   "source": [
    "df_dud_vrd.isna().sum().sum() # There are 1538 missing values of 807067 values"
   ]
  },
  {
   "cell_type": "code",
   "execution_count": 151,
   "metadata": {},
   "outputs": [
    {
     "data": {
      "text/plain": [
       "0.0019056658245226233"
      ]
     },
     "execution_count": 151,
     "metadata": {},
     "output_type": "execute_result"
    }
   ],
   "source": [
    "1538/807067"
   ]
  },
  {
   "cell_type": "code",
   "execution_count": 148,
   "metadata": {},
   "outputs": [],
   "source": [
    "x = df_dud_vrd.isna().sum(axis=1)\n",
    "for idx, value in zip(x.index, x):\n",
    "    if value > 0:\n",
    "        pass\n",
    "        #print(idx, value)"
   ]
  },
  {
   "cell_type": "code",
   "execution_count": 155,
   "metadata": {},
   "outputs": [],
   "source": [
    "df_dud_vrd = df_dud_vrd.fillna(df_dud_vrd.mean(axis=1))"
   ]
  },
  {
   "cell_type": "code",
   "execution_count": 157,
   "metadata": {},
   "outputs": [],
   "source": [
    "df_dud_vrd.to_csv('DUD2006_VINARDO_137_prots_5891_mols.csv')"
   ]
  },
  {
   "cell_type": "code",
   "execution_count": 156,
   "metadata": {},
   "outputs": [
    {
     "name": "stdout",
     "output_type": "stream",
     "text": [
      "0_Preparing_ligands.ipynb\r\n",
      "1_Preprocessing_Docking_results.ipynb\r\n",
      "2_Improving_Ranking_From_Docking_Scores.ipynb\r\n",
      "3_Calculating_Metrics_to_Evaluate_VS_Performance.ipynb\r\n",
      "chim_addh.py\r\n",
      "chim_addh.pyc\r\n",
      "DEKOIS2_VINARDO_137_prots_1240_mols.csv\r\n",
      "DEKOIS2_VINARDO_137_prots_1240_mols_LigEff.csv\r\n",
      "DUD2006_VINARDO_137_prots_5891_mols.csv\r\n",
      "DUD2006_VINARDO_137_prots_5891_mols_LigEff.csv\r\n"
     ]
    }
   ],
   "source": [
    "!ls"
   ]
  }
 ],
 "metadata": {
  "kernelspec": {
   "display_name": "Python 3",
   "language": "python",
   "name": "python3"
  },
  "language_info": {
   "codemirror_mode": {
    "name": "ipython",
    "version": 3
   },
   "file_extension": ".py",
   "mimetype": "text/x-python",
   "name": "python",
   "nbconvert_exporter": "python",
   "pygments_lexer": "ipython3",
   "version": "3.7.6"
  }
 },
 "nbformat": 4,
 "nbformat_minor": 4
}
