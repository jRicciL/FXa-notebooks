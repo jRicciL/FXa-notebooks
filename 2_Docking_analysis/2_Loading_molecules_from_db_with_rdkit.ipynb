{
 "cells": [
  {
   "cell_type": "markdown",
   "metadata": {},
   "source": [
    "# Notebook for load and processing molecules using rdkit"
   ]
  },
  {
   "cell_type": "code",
   "execution_count": 1,
   "metadata": {},
   "outputs": [
    {
     "name": "stderr",
     "output_type": "stream",
     "text": [
      "RDKit WARNING: [12:46:00] Enabling RDKit 2019.09.1 jupyter extensions\n"
     ]
    }
   ],
   "source": [
    "import pandas as pd\n",
    "import numpy as np\n",
    "from glob import glob\n",
    "import os, pickle\n",
    "\n",
    "from rdkit import Chem\n",
    "from rdkit.Chem import AllChem\n",
    "from rdkit import RDLogger \n",
    "RDLogger.DisableLog('rdApp.*')"
   ]
  },
  {
   "cell_type": "code",
   "execution_count": 2,
   "metadata": {},
   "outputs": [],
   "source": [
    "from analyse_db_molecules import *"
   ]
  },
  {
   "cell_type": "markdown",
   "metadata": {},
   "source": [
    "### Cocrystalized Molecules"
   ]
  },
  {
   "cell_type": "code",
   "execution_count": 3,
   "metadata": {},
   "outputs": [
    {
     "data": {
      "text/html": [
       "<div>\n",
       "<style scoped>\n",
       "    .dataframe tbody tr th:only-of-type {\n",
       "        vertical-align: middle;\n",
       "    }\n",
       "\n",
       "    .dataframe tbody tr th {\n",
       "        vertical-align: top;\n",
       "    }\n",
       "\n",
       "    .dataframe thead th {\n",
       "        text-align: right;\n",
       "    }\n",
       "</style>\n",
       "<table border=\"1\" class=\"dataframe\">\n",
       "  <thead>\n",
       "    <tr style=\"text-align: right;\">\n",
       "      <th></th>\n",
       "      <th>Activity</th>\n",
       "      <th>mol_rdk</th>\n",
       "      <th>sanitized</th>\n",
       "    </tr>\n",
       "    <tr>\n",
       "      <th>Lig</th>\n",
       "      <th></th>\n",
       "      <th></th>\n",
       "      <th></th>\n",
       "    </tr>\n",
       "  </thead>\n",
       "  <tbody>\n",
       "    <tr>\n",
       "      <th>RPR</th>\n",
       "      <td>active</td>\n",
       "      <td>&lt;rdkit.Chem.rdchem.Mol object at 0x7f48aed49120&gt;</td>\n",
       "      <td>False</td>\n",
       "    </tr>\n",
       "    <tr>\n",
       "      <th>815</th>\n",
       "      <td>active</td>\n",
       "      <td>&lt;rdkit.Chem.rdchem.Mol object at 0x7f48aed49030&gt;</td>\n",
       "      <td>True</td>\n",
       "    </tr>\n",
       "    <tr>\n",
       "      <th>PR2</th>\n",
       "      <td>active</td>\n",
       "      <td>&lt;rdkit.Chem.rdchem.Mol object at 0x7f48aed490d0&gt;</td>\n",
       "      <td>True</td>\n",
       "    </tr>\n",
       "    <tr>\n",
       "      <th>DX9</th>\n",
       "      <td>active</td>\n",
       "      <td>&lt;rdkit.Chem.rdchem.Mol object at 0x7f48aed49170&gt;</td>\n",
       "      <td>False</td>\n",
       "    </tr>\n",
       "    <tr>\n",
       "      <th>Z34</th>\n",
       "      <td>active</td>\n",
       "      <td>&lt;rdkit.Chem.rdchem.Mol object at 0x7f48aed49300&gt;</td>\n",
       "      <td>False</td>\n",
       "    </tr>\n",
       "    <tr>\n",
       "      <th>...</th>\n",
       "      <td>...</td>\n",
       "      <td>...</td>\n",
       "      <td>...</td>\n",
       "    </tr>\n",
       "    <tr>\n",
       "      <th>987</th>\n",
       "      <td>active</td>\n",
       "      <td>&lt;rdkit.Chem.rdchem.Mol object at 0x7f48aed55990&gt;</td>\n",
       "      <td>True</td>\n",
       "    </tr>\n",
       "    <tr>\n",
       "      <th>44I</th>\n",
       "      <td>active</td>\n",
       "      <td>&lt;rdkit.Chem.rdchem.Mol object at 0x7f48aed559e0&gt;</td>\n",
       "      <td>True</td>\n",
       "    </tr>\n",
       "    <tr>\n",
       "      <th>4O4</th>\n",
       "      <td>active</td>\n",
       "      <td>&lt;rdkit.Chem.rdchem.Mol object at 0x7f48aed55a30&gt;</td>\n",
       "      <td>True</td>\n",
       "    </tr>\n",
       "    <tr>\n",
       "      <th>4O5</th>\n",
       "      <td>active</td>\n",
       "      <td>&lt;rdkit.Chem.rdchem.Mol object at 0x7f48aed55a80&gt;</td>\n",
       "      <td>True</td>\n",
       "    </tr>\n",
       "    <tr>\n",
       "      <th>6PK</th>\n",
       "      <td>active</td>\n",
       "      <td>&lt;rdkit.Chem.rdchem.Mol object at 0x7f48aed55ad0&gt;</td>\n",
       "      <td>False</td>\n",
       "    </tr>\n",
       "  </tbody>\n",
       "</table>\n",
       "<p>128 rows × 3 columns</p>\n",
       "</div>"
      ],
      "text/plain": [
       "    Activity                                           mol_rdk  sanitized\n",
       "Lig                                                                      \n",
       "RPR   active  <rdkit.Chem.rdchem.Mol object at 0x7f48aed49120>      False\n",
       "815   active  <rdkit.Chem.rdchem.Mol object at 0x7f48aed49030>       True\n",
       "PR2   active  <rdkit.Chem.rdchem.Mol object at 0x7f48aed490d0>       True\n",
       "DX9   active  <rdkit.Chem.rdchem.Mol object at 0x7f48aed49170>      False\n",
       "Z34   active  <rdkit.Chem.rdchem.Mol object at 0x7f48aed49300>      False\n",
       "..       ...                                               ...        ...\n",
       "987   active  <rdkit.Chem.rdchem.Mol object at 0x7f48aed55990>       True\n",
       "44I   active  <rdkit.Chem.rdchem.Mol object at 0x7f48aed559e0>       True\n",
       "4O4   active  <rdkit.Chem.rdchem.Mol object at 0x7f48aed55a30>       True\n",
       "4O5   active  <rdkit.Chem.rdchem.Mol object at 0x7f48aed55a80>       True\n",
       "6PK   active  <rdkit.Chem.rdchem.Mol object at 0x7f48aed55ad0>      False\n",
       "\n",
       "[128 rows x 3 columns]"
      ]
     },
     "execution_count": 3,
     "metadata": {},
     "output_type": "execute_result"
    }
   ],
   "source": [
    "sdf_input_path = '../../FILES/CRYSTALS/LIGS_FXA/POCKET_LIGS_PREP_SDF/'\n",
    "sort_function = lambda x: x.split('/')[-1].split('_')[0]\n",
    "list_sdf_files = get_files_list(sdf_input_path, actives_name='LIG', sufix='from_pdb', sort_func = sort_function)\n",
    "df_pdi_lig = load_cocrys_molecules_from_dir(list_sdf_files)\n",
    "# Just for cocrystalized molecules\n",
    "\n",
    "# Tranform the previous dataframe to an Lig, activity, mol_rdk, sanitized dataframe\n",
    "df_COCRYS = df_pdi_lig[['Lig', 'mol_rdk']]\n",
    "df_COCRYS['Activity'] = 'active'\n",
    "df_COCRYS['sanitized'] = [True if i != 'v3' else False for i in df_pdi_lig.validation]\n",
    "df_COCRYS = df_COCRYS[['Lig', 'Activity', 'mol_rdk', 'sanitized']]\n",
    "df_COCRYS = df_COCRYS.drop_duplicates('Lig').set_index('Lig')\n",
    "df_COCRYS"
   ]
  },
  {
   "cell_type": "markdown",
   "metadata": {},
   "source": [
    "### DEKOIS Molecules"
   ]
  },
  {
   "cell_type": "code",
   "execution_count": 4,
   "metadata": {},
   "outputs": [
    {
     "data": {
      "text/html": [
       "<div>\n",
       "<style scoped>\n",
       "    .dataframe tbody tr th:only-of-type {\n",
       "        vertical-align: middle;\n",
       "    }\n",
       "\n",
       "    .dataframe tbody tr th {\n",
       "        vertical-align: top;\n",
       "    }\n",
       "\n",
       "    .dataframe thead th {\n",
       "        text-align: right;\n",
       "    }\n",
       "</style>\n",
       "<table border=\"1\" class=\"dataframe\">\n",
       "  <thead>\n",
       "    <tr style=\"text-align: right;\">\n",
       "      <th></th>\n",
       "      <th>Activity</th>\n",
       "      <th>mol_rdk</th>\n",
       "      <th>sanitized</th>\n",
       "    </tr>\n",
       "  </thead>\n",
       "  <tbody>\n",
       "    <tr>\n",
       "      <th>ligand_1</th>\n",
       "      <td>active</td>\n",
       "      <td>&lt;rdkit.Chem.rdchem.Mol object at 0x7f48ade310d0&gt;</td>\n",
       "      <td>True</td>\n",
       "    </tr>\n",
       "    <tr>\n",
       "      <th>ligand_2</th>\n",
       "      <td>active</td>\n",
       "      <td>&lt;rdkit.Chem.rdchem.Mol object at 0x7f48ac5f35d0&gt;</td>\n",
       "      <td>True</td>\n",
       "    </tr>\n",
       "    <tr>\n",
       "      <th>ligand_3</th>\n",
       "      <td>active</td>\n",
       "      <td>&lt;rdkit.Chem.rdchem.Mol object at 0x7f48ac5f3210&gt;</td>\n",
       "      <td>True</td>\n",
       "    </tr>\n",
       "  </tbody>\n",
       "</table>\n",
       "</div>"
      ],
      "text/plain": [
       "         Activity                                           mol_rdk sanitized\n",
       "ligand_1   active  <rdkit.Chem.rdchem.Mol object at 0x7f48ade310d0>      True\n",
       "ligand_2   active  <rdkit.Chem.rdchem.Mol object at 0x7f48ac5f35d0>      True\n",
       "ligand_3   active  <rdkit.Chem.rdchem.Mol object at 0x7f48ac5f3210>      True"
      ]
     },
     "execution_count": 4,
     "metadata": {},
     "output_type": "execute_result"
    }
   ],
   "source": [
    "sdf_input_path = '../../FILES/CRYSTALS/LIGS_FXA/DEKOIS2/sdf/'\n",
    "\n",
    "list_sdf_files = get_files_list(sdf_input_path, actives_name='ligand')\n",
    "df_DEKOIS = get_mol_dataframe(load_molecules_from_dir(list_sdf_files))\n",
    "df_DEKOIS.head(3)"
   ]
  },
  {
   "cell_type": "markdown",
   "metadata": {},
   "source": [
    "### DUD Molecules"
   ]
  },
  {
   "cell_type": "code",
   "execution_count": 5,
   "metadata": {},
   "outputs": [
    {
     "data": {
      "text/html": [
       "<div>\n",
       "<style scoped>\n",
       "    .dataframe tbody tr th:only-of-type {\n",
       "        vertical-align: middle;\n",
       "    }\n",
       "\n",
       "    .dataframe tbody tr th {\n",
       "        vertical-align: top;\n",
       "    }\n",
       "\n",
       "    .dataframe thead th {\n",
       "        text-align: right;\n",
       "    }\n",
       "</style>\n",
       "<table border=\"1\" class=\"dataframe\">\n",
       "  <thead>\n",
       "    <tr style=\"text-align: right;\">\n",
       "      <th></th>\n",
       "      <th>Activity</th>\n",
       "      <th>mol_rdk</th>\n",
       "      <th>sanitized</th>\n",
       "    </tr>\n",
       "  </thead>\n",
       "  <tbody>\n",
       "    <tr>\n",
       "      <th>ligand_1</th>\n",
       "      <td>active</td>\n",
       "      <td>&lt;rdkit.Chem.rdchem.Mol object at 0x7f487d705ad0&gt;</td>\n",
       "      <td>True</td>\n",
       "    </tr>\n",
       "    <tr>\n",
       "      <th>ligand_2</th>\n",
       "      <td>active</td>\n",
       "      <td>&lt;rdkit.Chem.rdchem.Mol object at 0x7f487d705e90&gt;</td>\n",
       "      <td>True</td>\n",
       "    </tr>\n",
       "    <tr>\n",
       "      <th>ligand_3</th>\n",
       "      <td>active</td>\n",
       "      <td>&lt;rdkit.Chem.rdchem.Mol object at 0x7f487d705350&gt;</td>\n",
       "      <td>True</td>\n",
       "    </tr>\n",
       "  </tbody>\n",
       "</table>\n",
       "</div>"
      ],
      "text/plain": [
       "         Activity                                           mol_rdk sanitized\n",
       "ligand_1   active  <rdkit.Chem.rdchem.Mol object at 0x7f487d705ad0>      True\n",
       "ligand_2   active  <rdkit.Chem.rdchem.Mol object at 0x7f487d705e90>      True\n",
       "ligand_3   active  <rdkit.Chem.rdchem.Mol object at 0x7f487d705350>      True"
      ]
     },
     "execution_count": 5,
     "metadata": {},
     "output_type": "execute_result"
    }
   ],
   "source": [
    "sdf_input_path = '../../FILES/CRYSTALS/LIGS_FXA/DUD2006/sdf/'\n",
    "\n",
    "list_sdf_files = get_files_list(sdf_input_path, actives_name='ligand')\n",
    "df_DUD = get_mol_dataframe(load_molecules_from_dir(list_sdf_files))\n",
    "df_DUD.head(3)"
   ]
  },
  {
   "cell_type": "markdown",
   "metadata": {},
   "source": [
    "## Save Molecules Dictionary"
   ]
  },
  {
   "cell_type": "code",
   "execution_count": 6,
   "metadata": {},
   "outputs": [],
   "source": [
    "lig_datasets = {'COCRYS': df_COCRYS, 'DUD': df_DUD, 'DEKOIS': df_DEKOIS}"
   ]
  },
  {
   "cell_type": "code",
   "execution_count": 7,
   "metadata": {},
   "outputs": [],
   "source": [
    "import pickle\n",
    "\n",
    "file_rd_mols = './fxa_rdkit_db_molecules.obj'\n",
    "\n",
    "if not os.path.isfile(file_rd_mols):\n",
    "    with open(file_rd_mols, 'rb') as f:\n",
    "        lig_datasets = pickle.load(f)\n",
    "else:\n",
    "    with open(file_rd_mols, 'wb') as f:\n",
    "        pickle.dump(lig_datasets, f)"
   ]
  },
  {
   "cell_type": "code",
   "execution_count": 8,
   "metadata": {},
   "outputs": [
    {
     "name": "stdout",
     "output_type": "stream",
     "text": [
      "total 24M\r\n",
      "drwxrwxr-x 4 joel joel 4,0K may 27 12:44 .\r\n",
      "drwxrwxr-x 9 joel joel 4,0K may 26 17:18 ..\r\n",
      "-rw-rw-r-- 1 joel joel 6,3K abr 18 13:33 0_Preparing_ligands.ipynb\r\n",
      "-rw-rw-r-- 1 joel joel 6,7K may 25 11:42 1_Preprocessing_Docking_results.ipynb\r\n",
      "-rw-rw-r-- 1 joel joel 409K may 27 12:44 2_Comparing_Molecules_Among_Molecular_Libraries.ipynb\r\n",
      "-rw-rw-r-- 1 joel joel 5,5K may 25 11:43 2_Improving_Ranking_From_Docking_Scores.ipynb\r\n",
      "-rw-rw-r-- 1 joel joel 4,2K may 27 12:44 2_Loading_molecules_from_db_with_rdkit.ipynb\r\n",
      "-rw-rw-r-- 1 joel joel 2,7M may 25 15:52 3_Calculating_Metrics_to_Evaluate_VS_Performance.ipynb\r\n",
      "-rw-rw-r-- 1 joel joel 1,8M may 26 17:16 4_ML_Model_Selection.ipynb\r\n",
      "-rw-rw-r-- 1 joel joel 4,4K may 27 11:47 analyse_db_molecules.py\r\n",
      "-rw-rw-r-- 1 joel joel 2,4K may 25 12:06 auxiliar_plot_swarm.py\r\n",
      "-rw-rw-r-- 1 joel joel  271 abr 18 12:38 chim_addh.py\r\n",
      "-rw-rw-r-- 1 joel joel  444 abr 18 12:38 chim_addh.pyc\r\n",
      "-rw-rw-r-- 1 joel joel 895K may 25 11:26 DEKOIS2_VINARDO_137_prots_1240_mols.csv\r\n",
      "-rw-rw-r-- 1 joel joel 1,2M may 25 11:42 DEKOIS2_VINARDO_137_prots_1240_mols_LigEff.csv\r\n",
      "-rw-rw-r-- 1 joel joel 4,4M may 25 11:41 DUD2006_VINARDO_137_prots_5891_mols.csv\r\n",
      "-rw-rw-r-- 1 joel joel 5,4M may 25 11:42 DUD2006_VINARDO_137_prots_5891_mols_LigEff.csv\r\n",
      "-rw-rw-r-- 1 joel joel 6,6M may 27 12:46 fxa_rdkit_db_molecules.obj\r\n",
      "-rw-rw-r-- 1 joel joel  32K may 25 15:42 helper_1_load_data.ipynb\r\n",
      "-rw-rw-r-- 1 joel joel 6,2K may 27 12:36 helper_functions_2.py\r\n",
      "-rw-rw-r-- 1 joel joel 8,0K may 25 13:18 helper_functions_S6.ipynb\r\n",
      "drwxrwxr-x 2 joel joel 4,0K may 26 17:20 .ipynb_checkpoints\r\n",
      "drwxrwxr-x 2 joel joel 4,0K may 27 12:41 __pycache__\r\n"
     ]
    }
   ],
   "source": [
    "!ls -alh"
   ]
  },
  {
   "cell_type": "code",
   "execution_count": null,
   "metadata": {},
   "outputs": [],
   "source": []
  }
 ],
 "metadata": {
  "kernelspec": {
   "display_name": "Python 3.7.6 64-bit ('mds': conda)",
   "language": "python",
   "name": "python37664bitmdsconda8fcfe9b6c3484566880235af88776fef"
  },
  "language_info": {
   "codemirror_mode": {
    "name": "ipython",
    "version": 3
   },
   "file_extension": ".py",
   "mimetype": "text/x-python",
   "name": "python",
   "nbconvert_exporter": "python",
   "pygments_lexer": "ipython3",
   "version": "3.7.6"
  }
 },
 "nbformat": 4,
 "nbformat_minor": 4
}
