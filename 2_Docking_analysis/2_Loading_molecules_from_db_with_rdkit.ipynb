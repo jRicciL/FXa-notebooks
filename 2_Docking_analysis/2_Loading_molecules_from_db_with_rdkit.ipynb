{
 "cells": [
  {
   "cell_type": "markdown",
   "metadata": {},
   "source": [
    "# Notebook for load and processing molecules using rdkit"
   ]
  },
  {
   "cell_type": "code",
   "execution_count": 3,
   "metadata": {},
   "outputs": [],
   "source": [
    "import pandas as pd\n",
    "import numpy as np\n",
    "from glob import glob\n",
    "import os, pickle\n",
    "\n",
    "from rdkit import Chem\n",
    "from rdkit.Chem import AllChem\n",
    "from rdkit import RDLogger \n",
    "RDLogger.DisableLog('rdApp.*')"
   ]
  },
  {
   "cell_type": "code",
   "execution_count": 7,
   "metadata": {},
   "outputs": [],
   "source": [
    "from analyse_db_molecules import *"
   ]
  },
  {
   "cell_type": "markdown",
   "metadata": {},
   "source": [
    "### Cocrystalized Molecules"
   ]
  },
  {
   "cell_type": "code",
   "execution_count": 8,
   "metadata": {},
   "outputs": [
    {
     "data": {
      "text/plain": [
       "True     108\n",
       "False     20\n",
       "Name: sanitized, dtype: int64"
      ]
     },
     "execution_count": 8,
     "metadata": {},
     "output_type": "execute_result"
    }
   ],
   "source": [
    "sdf_input_path = '../../FILES/CRYSTALS/LIGS_FXA/POCKET_LIGS_PREP_SDF/'\n",
    "sort_function = lambda x: x.split('/')[-1].split('_')[0]\n",
    "list_sdf_files = get_files_list(sdf_input_path, actives_name='LIG', sufix='from_pdb', sort_func = sort_function)\n",
    "df_pdi_lig = load_cocrys_molecules_from_dir(list_sdf_files)\n",
    "# Just for cocrystalized molecules\n",
    "\n",
    "# Tranform the previous dataframe to an Lig, activity, mol_rdk, sanitized dataframe\n",
    "df_COCRYS = df_pdi_lig[['Lig', 'mol_rdk']]\n",
    "df_COCRYS['Activity'] = 'active'\n",
    "df_COCRYS['sanitized'] = [True if i != 'v3' else False for i in df_pdi_lig.validation]\n",
    "df_COCRYS = df_COCRYS[['Lig', 'Activity', 'mol_rdk', 'sanitized']]\n",
    "df_COCRYS = df_COCRYS.drop_duplicates('Lig').set_index('Lig')\n",
    "df_COCRYS.sanitized.value_counts()"
   ]
  },
  {
   "cell_type": "markdown",
   "metadata": {},
   "source": [
    "### DEKOIS Molecules"
   ]
  },
  {
   "cell_type": "code",
   "execution_count": 9,
   "metadata": {},
   "outputs": [
    {
     "data": {
      "text/html": [
       "<div>\n",
       "<style scoped>\n",
       "    .dataframe tbody tr th:only-of-type {\n",
       "        vertical-align: middle;\n",
       "    }\n",
       "\n",
       "    .dataframe tbody tr th {\n",
       "        vertical-align: top;\n",
       "    }\n",
       "\n",
       "    .dataframe thead th {\n",
       "        text-align: right;\n",
       "    }\n",
       "</style>\n",
       "<table border=\"1\" class=\"dataframe\">\n",
       "  <thead>\n",
       "    <tr style=\"text-align: right;\">\n",
       "      <th></th>\n",
       "      <th>Activity</th>\n",
       "      <th>mol_rdk</th>\n",
       "      <th>sanitized</th>\n",
       "    </tr>\n",
       "  </thead>\n",
       "  <tbody>\n",
       "    <tr>\n",
       "      <th>ligand_1</th>\n",
       "      <td>active</td>\n",
       "      <td>&lt;rdkit.Chem.rdchem.Mol object at 0x7f52f28041c0&gt;</td>\n",
       "      <td>True</td>\n",
       "    </tr>\n",
       "    <tr>\n",
       "      <th>ligand_2</th>\n",
       "      <td>active</td>\n",
       "      <td>&lt;rdkit.Chem.rdchem.Mol object at 0x7f52f28036c0&gt;</td>\n",
       "      <td>True</td>\n",
       "    </tr>\n",
       "    <tr>\n",
       "      <th>ligand_3</th>\n",
       "      <td>active</td>\n",
       "      <td>&lt;rdkit.Chem.rdchem.Mol object at 0x7f52f28038a0&gt;</td>\n",
       "      <td>True</td>\n",
       "    </tr>\n",
       "  </tbody>\n",
       "</table>\n",
       "</div>"
      ],
      "text/plain": [
       "         Activity                                           mol_rdk sanitized\n",
       "ligand_1   active  <rdkit.Chem.rdchem.Mol object at 0x7f52f28041c0>      True\n",
       "ligand_2   active  <rdkit.Chem.rdchem.Mol object at 0x7f52f28036c0>      True\n",
       "ligand_3   active  <rdkit.Chem.rdchem.Mol object at 0x7f52f28038a0>      True"
      ]
     },
     "execution_count": 9,
     "metadata": {},
     "output_type": "execute_result"
    }
   ],
   "source": [
    "sdf_input_path = '../../FILES/CRYSTALS/LIGS_FXA/DEKOIS2/sdf/'\n",
    "\n",
    "list_sdf_files = get_files_list(sdf_input_path, actives_name='ligand')\n",
    "df_DEKOIS = get_mol_dataframe(load_molecules_from_dir(list_sdf_files))\n",
    "df_DEKOIS.head(3)"
   ]
  },
  {
   "cell_type": "markdown",
   "metadata": {},
   "source": [
    "### DUD Molecules"
   ]
  },
  {
   "cell_type": "code",
   "execution_count": 10,
   "metadata": {},
   "outputs": [
    {
     "data": {
      "text/html": [
       "<div>\n",
       "<style scoped>\n",
       "    .dataframe tbody tr th:only-of-type {\n",
       "        vertical-align: middle;\n",
       "    }\n",
       "\n",
       "    .dataframe tbody tr th {\n",
       "        vertical-align: top;\n",
       "    }\n",
       "\n",
       "    .dataframe thead th {\n",
       "        text-align: right;\n",
       "    }\n",
       "</style>\n",
       "<table border=\"1\" class=\"dataframe\">\n",
       "  <thead>\n",
       "    <tr style=\"text-align: right;\">\n",
       "      <th></th>\n",
       "      <th>Activity</th>\n",
       "      <th>mol_rdk</th>\n",
       "      <th>sanitized</th>\n",
       "    </tr>\n",
       "  </thead>\n",
       "  <tbody>\n",
       "    <tr>\n",
       "      <th>ligand_1</th>\n",
       "      <td>active</td>\n",
       "      <td>&lt;rdkit.Chem.rdchem.Mol object at 0x7f52f28ef800&gt;</td>\n",
       "      <td>True</td>\n",
       "    </tr>\n",
       "    <tr>\n",
       "      <th>ligand_2</th>\n",
       "      <td>active</td>\n",
       "      <td>&lt;rdkit.Chem.rdchem.Mol object at 0x7f52f28ef080&gt;</td>\n",
       "      <td>True</td>\n",
       "    </tr>\n",
       "    <tr>\n",
       "      <th>ligand_3</th>\n",
       "      <td>active</td>\n",
       "      <td>&lt;rdkit.Chem.rdchem.Mol object at 0x7f52f28efbc0&gt;</td>\n",
       "      <td>True</td>\n",
       "    </tr>\n",
       "  </tbody>\n",
       "</table>\n",
       "</div>"
      ],
      "text/plain": [
       "         Activity                                           mol_rdk sanitized\n",
       "ligand_1   active  <rdkit.Chem.rdchem.Mol object at 0x7f52f28ef800>      True\n",
       "ligand_2   active  <rdkit.Chem.rdchem.Mol object at 0x7f52f28ef080>      True\n",
       "ligand_3   active  <rdkit.Chem.rdchem.Mol object at 0x7f52f28efbc0>      True"
      ]
     },
     "execution_count": 10,
     "metadata": {},
     "output_type": "execute_result"
    }
   ],
   "source": [
    "sdf_input_path = '../../FILES/CRYSTALS/LIGS_FXA/DUD2006/sdf/'\n",
    "\n",
    "list_sdf_files = get_files_list(sdf_input_path, actives_name='ligand')\n",
    "df_DUD = get_mol_dataframe(load_molecules_from_dir(list_sdf_files))\n",
    "df_DUD.head(3)"
   ]
  },
  {
   "cell_type": "markdown",
   "metadata": {},
   "source": [
    "### DUD-E Dataset "
   ]
  },
  {
   "cell_type": "code",
   "execution_count": 6,
   "metadata": {},
   "outputs": [
    {
     "data": {
      "text/plain": [
       "(21209, 3)"
      ]
     },
     "execution_count": 6,
     "metadata": {},
     "output_type": "execute_result"
    }
   ],
   "source": [
    "sdf_input_path = '../../FILES/CRYSTALS/LIGS_FXA/DUD_E/sdf/'\n",
    "\n",
    "list_sdf_files = get_files_list(sdf_input_path, actives_name='ligand')\n",
    "df_DUDE = get_mol_dataframe(load_molecules_from_dir(list_sdf_files))\n",
    "df_DUDE.shape"
   ]
  },
  {
   "cell_type": "markdown",
   "metadata": {},
   "source": [
    "## Save Molecules Dictionary"
   ]
  },
  {
   "cell_type": "code",
   "execution_count": 15,
   "metadata": {},
   "outputs": [],
   "source": [
    "lig_datasets = {'COCRYS': df_COCRYS, 'DUD': df_DUD, 'DEKOIS': df_DEKOIS}\n",
    "lig_datasets_with_DUDE = {'COCRYS': df_COCRYS, 'DUD': df_DUD, 'DUDE': df_DUDE, 'DEKOIS': df_DEKOIS}"
   ]
  },
  {
   "cell_type": "code",
   "execution_count": 18,
   "metadata": {},
   "outputs": [],
   "source": [
    "import pickle\n",
    "\n",
    "file_rd_mols = './fxa_rdkit_db_molecules.obj'\n",
    "\n",
    "if os.path.isfile(file_rd_mols):\n",
    "    with open(file_rd_mols, 'rb') as f:\n",
    "        lig_datasets = pickle.load(f)\n",
    "else:\n",
    "    with open(file_rd_mols, 'wb') as f:\n",
    "        pickle.dump(lig_datasets, f)"
   ]
  },
  {
   "cell_type": "code",
   "execution_count": 19,
   "metadata": {},
   "outputs": [],
   "source": [
    "import pickle\n",
    "\n",
    "file_rd_mols = './fxa_rdkit_db_molecules_with_DUDE.obj'\n",
    "\n",
    "if os.path.isfile(file_rd_mols):\n",
    "    with open(file_rd_mols, 'rb') as f:\n",
    "        lig_datasets_with_DUDE = pickle.load(f)\n",
    "else:\n",
    "    with open(file_rd_mols, 'wb') as f:\n",
    "        pickle.dump(lig_datasets_with_DUDE, f)"
   ]
  },
  {
   "cell_type": "code",
   "execution_count": 21,
   "metadata": {},
   "outputs": [
    {
     "name": "stdout",
     "output_type": "stream",
     "text": [
      "-rw-rw-r-- 1 ricci ricci 6.1M jun 26 22:16 df_COCRYS_DUD_DEKOIS_Murcko_Scaffolds_SMILES.obj\r\n",
      "-rw-rw-r-- 1 ricci ricci 6.3M jun 26 19:52 df_COCRYS_DUD_DEKOIS_with_Fingerprints_MDS.obj\r\n",
      "-rw-rw-r-- 1 ricci ricci 6.0M jun 26 18:44 df_COCRYS_DUD_DEKOIS_with_Fingerprints_TSNE.obj\r\n",
      "-rw-rw-r-- 1 ricci ricci 184K jun 26 18:33 df_repeated_mols_among_DUD_DEKIOS_COCRYS.obj\r\n",
      "-rw-rw-r-- 1 ricci ricci 849K ago 18 10:26 FXA_dash_app_Consensus_results.obj\r\n",
      "-rw-rw-r-- 1 ricci ricci 769K jul 15 23:28 FXA_ML_results_conformational_selection.obj\r\n",
      "-rw-rw-r-- 1 ricci ricci 6.6M sep 14 13:54 fxa_rdkit_db_molecules.obj\r\n",
      "-rw-rw-r-- 1 ricci ricci  25M sep 14 13:55 fxa_rdkit_db_molecules_with_DUDE.obj\r\n"
     ]
    }
   ],
   "source": [
    "!ls -alh *obj"
   ]
  },
  {
   "cell_type": "code",
   "execution_count": null,
   "metadata": {},
   "outputs": [],
   "source": []
  }
 ],
 "metadata": {
  "kernelspec": {
   "display_name": "Python 3",
   "language": "python",
   "name": "python3"
  },
  "language_info": {
   "codemirror_mode": {
    "name": "ipython",
    "version": 3
   },
   "file_extension": ".py",
   "mimetype": "text/x-python",
   "name": "python",
   "nbconvert_exporter": "python",
   "pygments_lexer": "ipython3",
   "version": "3.7.6"
  }
 },
 "nbformat": 4,
 "nbformat_minor": 4
}
