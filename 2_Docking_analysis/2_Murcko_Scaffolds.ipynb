{
 "cells": [
  {
   "cell_type": "markdown",
   "metadata": {},
   "source": [
    "## Murcko Scaffolds"
   ]
  },
  {
   "cell_type": "code",
   "execution_count": 1,
   "metadata": {},
   "outputs": [],
   "source": [
    "import pickle\n",
    "import pandas as pd\n",
    "import numpy as np\n",
    "import matplotlib.pyplot as plt\n",
    "import seaborn as sns\n",
    "import sys, os\n",
    "sys.path.append('..')\n",
    "sns.set(style='white', context='talk', font_scale=0.9)"
   ]
  },
  {
   "cell_type": "code",
   "execution_count": 4,
   "metadata": {},
   "outputs": [],
   "source": [
    "import deepchem\n",
    "from rdkit import Chem"
   ]
  },
  {
   "cell_type": "markdown",
   "metadata": {},
   "source": [
    "### Load the data"
   ]
  },
  {
   "cell_type": "code",
   "execution_count": 5,
   "metadata": {},
   "outputs": [],
   "source": [
    "pkl_file = './df_COCRYS_DUD_DEKOIS_with_Fingerprints_1.pkl'\n",
    "\n",
    "if  os.path.isfile(pkl_file):\n",
    "    # this dataset was computed as df_dims_mds in the 2_Comparing...ipynb \n",
    "     df_all_mols = pd.read_pickle(pkl_file)"
   ]
  },
  {
   "cell_type": "markdown",
   "metadata": {},
   "source": [
    "### Murcko Scaffolds"
   ]
  },
  {
   "cell_type": "code",
   "execution_count": 13,
   "metadata": {},
   "outputs": [],
   "source": [
    "from rdkit.Chem.Scaffolds import MurckoScaffold \n",
    "from rdkit.Chem import MolToSmiles\n",
    "from rdkit.Chem import rdDepictor"
   ]
  },
  {
   "cell_type": "code",
   "execution_count": 14,
   "metadata": {},
   "outputs": [],
   "source": [
    "# Define a lambda function to compute Murcko scaffolds\n",
    "def scaffold2smiles(mol, generic, return_smiles = True):\n",
    "    ''' Returns a SMILES string representing the Murcko Scaffold of a given molecule'''\n",
    "    if generic:\n",
    "        # Makes a Murcko scaffold generic (all atoms -> carbon and all bonds -> single)\n",
    "        scff = MurckoScaffold.MakeScaffoldGeneric(mol)\n",
    "        scff = MurckoScaffold.GetScaffoldForMol(scff)\n",
    "        scff_smiles = MolToSmiles(scff)\n",
    "    else:\n",
    "        # Return a smiles scaffold \n",
    "        try:\n",
    "            scff = MurckoScaffold.GetScaffoldForMol(mol)\n",
    "            scff_smiles =  MolToSmiles(scff)\n",
    "        except:\n",
    "            scff_smiles = np.nan\n",
    "            scff = np.nan\n",
    "    if return_smiles:\n",
    "        return scff_smiles\n",
    "    else:\n",
    "        return scff"
   ]
  },
  {
   "cell_type": "code",
   "execution_count": 15,
   "metadata": {},
   "outputs": [],
   "source": [
    "# ************\n",
    "# Function to compute 2d coords\n",
    "# ************\n",
    "to2d = Chem.rdDepictor.Compute2DCoords"
   ]
  },
  {
   "cell_type": "markdown",
   "metadata": {},
   "source": [
    "#### Compute Murcko Scaffolds"
   ]
  },
  {
   "cell_type": "code",
   "execution_count": 16,
   "metadata": {},
   "outputs": [
    {
     "name": "stderr",
     "output_type": "stream",
     "text": [
      "RDKit ERROR: [13:52:00] Explicit valence for atom # 12 N, 4, is greater than permitted\n",
      "RDKit ERROR: [13:52:00] Explicit valence for atom # 10 C, 6, is greater than permitted\n",
      "RDKit ERROR: [13:52:00] Explicit valence for atom # 32 N, 4, is greater than permitted\n",
      "RDKit ERROR: [13:52:00] Explicit valence for atom # 17 C, 6, is greater than permitted\n",
      "RDKit ERROR: [13:52:00] Explicit valence for atom # 7 N, 4, is greater than permitted\n",
      "RDKit ERROR: [13:52:00] Explicit valence for atom # 4 C, 6, is greater than permitted\n",
      "RDKit ERROR: [13:52:00] Explicit valence for atom # 21 N, 4, is greater than permitted\n",
      "RDKit ERROR: [13:52:01] Explicit valence for atom # 20 N, 4, is greater than permitted\n",
      "RDKit ERROR: [13:52:01] Explicit valence for atom # 13 N, 4, is greater than permitted\n"
     ]
    },
    {
     "name": "stdout",
     "output_type": "stream",
     "text": [
      "CPU times: user 17.1 s, sys: 54.7 ms, total: 17.2 s\n",
      "Wall time: 17.2 s\n"
     ]
    }
   ],
   "source": [
    "%%time\n",
    "# Compute Generic Murko Scaffolds\n",
    "generic_murcko_smiles = [scaffold2smiles(mol, generic=True, return_smiles=True) \n",
    "                         for mol in df_all_mols.mol_rdk]\n",
    "\n",
    "# Compute Murcko Scaffolds as SMILES\n",
    "murcko_smiles = [scaffold2smiles(mol, generic=False, return_smiles=True) \n",
    "                 for mol in df_all_mols.mol_rdk]"
   ]
  },
  {
   "cell_type": "markdown",
   "metadata": {},
   "source": [
    "### Create a dataframe"
   ]
  },
  {
   "cell_type": "code",
   "execution_count": 17,
   "metadata": {},
   "outputs": [
    {
     "name": "stdout",
     "output_type": "stream",
     "text": [
      "<class 'pandas.core.frame.DataFrame'>\n",
      "RangeIndex: 5839 entries, 0 to 5838\n",
      "Data columns (total 7 columns):\n",
      "name            5839 non-null object\n",
      "library         5839 non-null object\n",
      "Activity        5839 non-null object\n",
      "mol_rdk         5839 non-null object\n",
      "scff            5830 non-null object\n",
      "scff_generic    5839 non-null object\n",
      "mol_rdk_2       5839 non-null object\n",
      "dtypes: object(7)\n",
      "memory usage: 319.4+ KB\n"
     ]
    }
   ],
   "source": [
    "df_murcko = df_all_mols[['name', 'library', 'Activity', 'mol_rdk']].copy()\n",
    "df_murcko['scff'] = murcko_smiles\n",
    "df_murcko['scff_generic'] = generic_murcko_smiles\n",
    "\n",
    "# Converto molecule coordinates to 2d\n",
    "df_murcko['mol_rdk_2'] = df_murcko['mol_rdk']\n",
    "df_murcko['mol_rdk_2'].apply(to2d)\n",
    "df_murcko.info()"
   ]
  },
  {
   "cell_type": "markdown",
   "metadata": {},
   "source": [
    "#### Number of scaffolds"
   ]
  },
  {
   "cell_type": "code",
   "execution_count": 18,
   "metadata": {},
   "outputs": [
    {
     "name": "stdout",
     "output_type": "stream",
     "text": [
      "Number of different regular Scaffolds: 3984\n"
     ]
    }
   ],
   "source": [
    "# Number of unique molecules\n",
    "print('Number of different regular Scaffolds:', df_murcko.scff.unique().size)"
   ]
  },
  {
   "cell_type": "code",
   "execution_count": 19,
   "metadata": {},
   "outputs": [
    {
     "name": "stdout",
     "output_type": "stream",
     "text": [
      "Number of different generic Scaffolds: 2507\n"
     ]
    }
   ],
   "source": [
    "print('Number of different generic Scaffolds:', df_murcko.scff_generic.unique().size)"
   ]
  },
  {
   "cell_type": "code",
   "execution_count": 20,
   "metadata": {},
   "outputs": [
    {
     "data": {
      "text/plain": [
       "c1ccc(Nc2nnc(-c3ccccc3)c3ccccc23)cc1                52\n",
       "O=C(NCc1ccccc1)c1cc2ccccc2n1Cc1ccccc1               41\n",
       "O=C(CSc1nnc(-c2ccccc2)n1-c1ccccc1)Nc1ccccc1         30\n",
       "C=C(NNC(=O)c1cccc(S(=O)(=O)Nc2ccccc2)c1)c1ccccc1    29\n",
       "O=C(CSc1nnc(-c2ccccc2)[nH]1)Nc1ccccc1               25\n",
       "Name: scff, dtype: int64"
      ]
     },
     "execution_count": 20,
     "metadata": {},
     "output_type": "execute_result"
    }
   ],
   "source": [
    "df_murcko['scff'].value_counts().head()"
   ]
  },
  {
   "cell_type": "code",
   "execution_count": 21,
   "metadata": {},
   "outputs": [
    {
     "data": {
      "text/plain": [
       "C1CCC(CCCCC2CCC(CCC3CCCCC3)CC2)CC1           86\n",
       "C1CCC(CCCC2CC3CCCCC3C2CC2CCCCC2)CC1          63\n",
       "C1CCC(CCCCC2CCCC(CCC3CCCCC3)C2)CC1           60\n",
       "C1CCC(CCCCCCC2CCC(C3CCCCC3)C2C2CCCCC2)CC1    55\n",
       "C1CCC(CC2CCC(C3CCCCC3)C3CCCCC23)CC1          52\n",
       "Name: scff_generic, dtype: int64"
      ]
     },
     "execution_count": 21,
     "metadata": {},
     "output_type": "execute_result"
    }
   ],
   "source": [
    "df_murcko['scff_generic'].value_counts().head()"
   ]
  },
  {
   "cell_type": "markdown",
   "metadata": {},
   "source": [
    "#### Length of generic scaffold SMILES"
   ]
  },
  {
   "cell_type": "code",
   "execution_count": 22,
   "metadata": {},
   "outputs": [
    {
     "data": {
      "text/html": [
       "<div>\n",
       "<style scoped>\n",
       "    .dataframe tbody tr th:only-of-type {\n",
       "        vertical-align: middle;\n",
       "    }\n",
       "\n",
       "    .dataframe tbody tr th {\n",
       "        vertical-align: top;\n",
       "    }\n",
       "\n",
       "    .dataframe thead th {\n",
       "        text-align: right;\n",
       "    }\n",
       "</style>\n",
       "<table border=\"1\" class=\"dataframe\">\n",
       "  <thead>\n",
       "    <tr style=\"text-align: right;\">\n",
       "      <th></th>\n",
       "      <th>counts</th>\n",
       "      <th>length</th>\n",
       "    </tr>\n",
       "  </thead>\n",
       "  <tbody>\n",
       "    <tr>\n",
       "      <th></th>\n",
       "      <td>1</td>\n",
       "      <td>0</td>\n",
       "    </tr>\n",
       "    <tr>\n",
       "      <th>C1CCCC1</th>\n",
       "      <td>3</td>\n",
       "      <td>7</td>\n",
       "    </tr>\n",
       "    <tr>\n",
       "      <th>C1CCCCC1</th>\n",
       "      <td>8</td>\n",
       "      <td>8</td>\n",
       "    </tr>\n",
       "    <tr>\n",
       "      <th>C1CC2CCCC2C1</th>\n",
       "      <td>2</td>\n",
       "      <td>12</td>\n",
       "    </tr>\n",
       "    <tr>\n",
       "      <th>C1CCC2CCCC2C1</th>\n",
       "      <td>3</td>\n",
       "      <td>13</td>\n",
       "    </tr>\n",
       "  </tbody>\n",
       "</table>\n",
       "</div>"
      ],
      "text/plain": [
       "               counts  length\n",
       "                    1       0\n",
       "C1CCCC1             3       7\n",
       "C1CCCCC1            8       8\n",
       "C1CC2CCCC2C1        2      12\n",
       "C1CCC2CCCC2C1       3      13"
      ]
     },
     "execution_count": 22,
     "metadata": {},
     "output_type": "execute_result"
    }
   ],
   "source": [
    "# Count the number of molecules inside each scaffolds\n",
    "scff_counts = df_murcko['scff_generic'].value_counts()\n",
    "# Get the lenght of the gemeric Scaffold\n",
    "scff_smiles_len = scff_counts.index.map(len)\n",
    "# Create a dataframe of unique scaffolds\n",
    "df_scff_counts = pd.DataFrame({'counts': scff_counts, 'length': scff_smiles_len})\n",
    "# Sort by length \n",
    "df_scff_counts.sort_values('length', inplace=True)\n",
    "df_scff_counts.head(5)"
   ]
  },
  {
   "cell_type": "code",
   "execution_count": 23,
   "metadata": {},
   "outputs": [
    {
     "data": {
      "image/png": "[encoded data removed]",
      "text/plain": [
       "<rdkit.Chem.rdchem.Mol at 0x7fc6d60ab670>"
      ]
     },
     "execution_count": 23,
     "metadata": {},
     "output_type": "execute_result"
    }
   ],
   "source": [
    "# This molecule doesn't have a Murcko Scaffold (its\n",
    "df_murcko[df_murcko['scff_generic'] == '']\n",
    "df_murcko.loc[678, 'mol_rdk']"
   ]
  },
  {
   "cell_type": "code",
   "execution_count": 24,
   "metadata": {},
   "outputs": [
    {
     "data": {
      "text/plain": [
       "167"
      ]
     },
     "execution_count": 24,
     "metadata": {},
     "output_type": "execute_result"
    }
   ],
   "source": [
    "# How many scaffolds have less than five molecules?\n",
    "sum(scff_counts > 5)"
   ]
  },
  {
   "cell_type": "markdown",
   "metadata": {},
   "source": [
    "### Visualize Generic Scaffolds against Normal Scaffolds"
   ]
  },
  {
   "cell_type": "code",
   "execution_count": 28,
   "metadata": {},
   "outputs": [],
   "source": [
    "# Function to get mol from scaffold smiles\n",
    "fromSmiles = Chem.MolFromSmiles"
   ]
  },
  {
   "cell_type": "markdown",
   "metadata": {},
   "source": [
    "#### First Example"
   ]
  },
  {
   "cell_type": "code",
   "execution_count": 40,
   "metadata": {},
   "outputs": [],
   "source": [
    "# Helper function to visualize examples\n",
    "def _draw_scaffolds(idx):\n",
    "    labels = ['Original', 'Normal Scff.', 'Generic Scff.']\n",
    "    original = df_all_mols.loc[idx, 'mol_rdk']\n",
    "    normal = fromSmiles(df_murcko.loc[idx, 'scff'])\n",
    "    generic = fromSmiles(df_murcko.loc[idx, 'scff_generic'])\n",
    "    mols = [original, normal, generic]\n",
    "    return Chem.Draw.MolsToGridImage(mols=mols, legends=labels)"
   ]
  },
  {
   "cell_type": "code",
   "execution_count": 41,
   "metadata": {},
   "outputs": [
    {
     "data": {
      "image/png": "[encoded data removed]",
      "text/plain": [
       "<PIL.PngImagePlugin.PngImageFile image mode=RGB size=600x200 at 0x7FC6D464DF10>"
      ]
     },
     "execution_count": 41,
     "metadata": {},
     "output_type": "execute_result"
    }
   ],
   "source": [
    "_draw_scaffolds(1759)"
   ]
  },
  {
   "cell_type": "code",
   "execution_count": 43,
   "metadata": {},
   "outputs": [
    {
     "data": {
      "image/png": "[encoded data removed]",
      "text/plain": [
       "<PIL.PngImagePlugin.PngImageFile image mode=RGB size=600x200 at 0x7FC6D4478C50>"
      ]
     },
     "execution_count": 43,
     "metadata": {},
     "output_type": "execute_result"
    }
   ],
   "source": [
    "_draw_scaffolds(100)"
   ]
  },
  {
   "cell_type": "code",
   "execution_count": 45,
   "metadata": {},
   "outputs": [
    {
     "data": {
      "image/png": "[encoded data removed]",
      "text/plain": [
       "<PIL.PngImagePlugin.PngImageFile image mode=RGB size=600x200 at 0x7FC6D4478F10>"
      ]
     },
     "execution_count": 45,
     "metadata": {},
     "output_type": "execute_result"
    }
   ],
   "source": [
    "_draw_scaffolds(10)"
   ]
  },
  {
   "cell_type": "code",
   "execution_count": 47,
   "metadata": {},
   "outputs": [
    {
     "data": {
      "image/png": "[encoded data removed]",
      "text/plain": [
       "<PIL.PngImagePlugin.PngImageFile image mode=RGB size=600x200 at 0x7FC6D43E0E10>"
      ]
     },
     "execution_count": 47,
     "metadata": {},
     "output_type": "execute_result"
    }
   ],
   "source": [
    "_draw_scaffolds(50)"
   ]
  },
  {
   "cell_type": "markdown",
   "metadata": {},
   "source": [
    "### Use DeepChem to compute the Scaffold splitting"
   ]
  },
  {
   "cell_type": "code",
   "execution_count": 216,
   "metadata": {},
   "outputs": [],
   "source": [
    "from deepchem.data import NumpyDataset \n",
    "from rdkit import Chem"
   ]
  },
  {
   "cell_type": "code",
   "execution_count": 233,
   "metadata": {},
   "outputs": [],
   "source": [
    "# As qe can see in https://deepchem.io/docs/_modules/deepchem/splits/splitters.html, https://deepchem.io/deepchem.splits.html\n",
    "# molecules are required in SMILES format\n",
    "df_dataset = df_murcko[['scff_generic', 'scff', 'name']].copy()\n",
    "df_dataset['y'] = [1 if i == 'active' else 0 for i in df_murcko.Activity]\n",
    "df_dataset['smiles'] = [Chem.MolToSmiles(mol) for mol in df_murcko.mol_rdk]\n",
    "\n",
    "# Create the deepchem dataset\n",
    "dataset = NumpyDataset( X = df_dataset.drop('y', axis=1), y = df_dataset['y'], ids=df_dataset['smiles'])\n",
    "dataset.ids.size\n",
    "\n",
    "\n",
    "dataset_g = NumpyDataset( X = df_dataset.drop('y', axis=1), y = df_dataset['y'], ids=df_dataset['scff_generic'])"
   ]
  },
  {
   "cell_type": "code",
   "execution_count": 234,
   "metadata": {},
   "outputs": [],
   "source": [
    "from deepchem.splits.splitters import ScaffoldSplitter"
   ]
  },
  {
   "cell_type": "markdown",
   "metadata": {},
   "source": [
    "### Split function used by deepchem\n",
    "\n",
    "```python\n",
    "def split(self,\n",
    "            dataset,\n",
    "            frac_train=.8,\n",
    "            frac_valid=.1,\n",
    "            frac_test=.1,\n",
    "            log_every_n=1000): # Usa la función log para guardar\n",
    "    \"\"\"\n",
    "        Splits internal compounds into train/validation/test by scaffold.\n",
    "        \"\"\"\n",
    "    #** \n",
    "    np.testing.assert_almost_equal(frac_train + frac_valid + frac_test, 1.)\n",
    "    \n",
    "    #** Crea un diccionario vacío\n",
    "    scaffolds = {}\n",
    "    log(\"About to generate scaffolds\", self.verbose)\n",
    "    data_len = len(dataset)\n",
    "    \n",
    "    #** El objeto de la clase Dataset tiene como atributo ids al smiles de la molécula\n",
    "    for ind, smiles in enumerate(dataset.ids): \n",
    "      if ind % log_every_n == 0:\n",
    "        log(\"Generating scaffold %d/%d\" % (ind, data_len), self.verbose)\n",
    "        \n",
    "      # Genera los scaffolds de Murcko\n",
    "      scaffold = generate_scaffold(smiles) # La función implementa MurckoScaffoldSmiles\n",
    "        # Con lo cual, no da opción de Scaffolds genéricos, y sólo funciona desde SMILES\n",
    "        \n",
    "      #********************\n",
    "      # La clave para ir llenando los bins está aquí\n",
    "      #********************\n",
    "      if scaffold not in scaffolds:\n",
    "        scaffolds[scaffold] = [ind] # Crea una nueva entrada si el scaffold no ha sido 'visto'\n",
    "        # El key es el scaffold y el value es una lista con el índice de la primera ocurrencia\n",
    "      else:\n",
    "        scaffolds[scaffold].append(ind) # Si el scaffold ya existe, añade el índice de la ocurrencia\n",
    "        \n",
    "    # Ordena los índices de las moléculas que pertenecen a cada scaffold\n",
    "    # Sort from largest to smallest scaffold sets\n",
    "    scaffolds = {key: sorted(value) for key, value in scaffolds.items()}\n",
    "    \n",
    "    # Crea una lista con las listas de los índices de cada scaffold\n",
    "    # Ordenando por longitud del número de índices en el set, y por el valor del primer índice\n",
    "    # Cada scaffold_set es una lista de índices que pertenecen a un scaffold en particular\n",
    "    scaffold_sets = [\n",
    "        scaffold_set\n",
    "        for (scaffold, scaffold_set) in sorted(\n",
    "            scaffolds.items(), key=lambda x: (len(x[1]), x[1][0]), reverse=True)\n",
    "    ]\n",
    "    # La longitud del Train set se establece según la longitud del dataset\n",
    "    train_cutoff = frac_train * len(dataset)\n",
    "    valid_cutoff = (frac_train + frac_valid) * len(dataset)\n",
    "    # Se crean las listas vacias de los tres sets\n",
    "    # Cuando no se requiere el set de validación, se omite estableciendo el frac_valid = 0\n",
    "    train_inds, valid_inds, test_inds = [], [], []\n",
    "    log(\"About to sort in scaffold sets\", self.verbose)\n",
    "    \n",
    "    # Por cada scaffold_set:\n",
    "    for scaffold_set in scaffold_sets:\n",
    "      # Si lo que hay ya en train_inds más el scaffold_set es mayor al cutoff para el train set \n",
    "      if len(train_inds) + len(scaffold_set) > train_cutoff:\n",
    "        # Lo mismo para el valid set\n",
    "        if len(train_inds) + len(valid_inds) + len(scaffold_set) > valid_cutoff:\n",
    "          test_inds += scaffold_set\n",
    "        else:\n",
    "          valid_inds += scaffold_set\n",
    "      else:\n",
    "        train_inds += scaffold_set\n",
    "        \n",
    "    return train_inds, valid_inds, test_inds\n",
    "```"
   ]
  },
  {
   "cell_type": "code",
   "execution_count": 235,
   "metadata": {},
   "outputs": [],
   "source": [
    "x = ScaffoldSplitter().train_test_split(dataset)\n",
    "x_g = ScaffoldSplitter().train_test_split(dataset_g)"
   ]
  },
  {
   "cell_type": "code",
   "execution_count": 246,
   "metadata": {},
   "outputs": [
    {
     "data": {
      "text/plain": [
       "['__class__',\n",
       " '__delattr__',\n",
       " '__dict__',\n",
       " '__dir__',\n",
       " '__doc__',\n",
       " '__eq__',\n",
       " '__format__',\n",
       " '__ge__',\n",
       " '__getattribute__',\n",
       " '__gt__',\n",
       " '__hash__',\n",
       " '__init__',\n",
       " '__init_subclass__',\n",
       " '__le__',\n",
       " '__lt__',\n",
       " '__module__',\n",
       " '__ne__',\n",
       " '__new__',\n",
       " '__reduce__',\n",
       " '__reduce_ex__',\n",
       " '__repr__',\n",
       " '__setattr__',\n",
       " '__sizeof__',\n",
       " '__str__',\n",
       " '__subclasshook__',\n",
       " '__weakref__',\n",
       " 'k_fold_split',\n",
       " 'split',\n",
       " 'train_test_split',\n",
       " 'train_valid_test_split',\n",
       " 'verbose']"
      ]
     },
     "execution_count": 246,
     "metadata": {},
     "output_type": "execute_result"
    }
   ],
   "source": []
  },
  {
   "cell_type": "code",
   "execution_count": 221,
   "metadata": {},
   "outputs": [
    {
     "data": {
      "text/plain": [
       "292"
      ]
     },
     "execution_count": 221,
     "metadata": {},
     "output_type": "execute_result"
    }
   ],
   "source": [
    "x[0].get_shape()\n",
    "np.sum(x[0]._y)\n",
    "np.sum(x[1]._y)\n",
    "df_dataset.y.sum()"
   ]
  },
  {
   "cell_type": "code",
   "execution_count": 239,
   "metadata": {},
   "outputs": [],
   "source": [
    "X_train = x[0]\n",
    "X_test = x[1]\n",
    "X_train_g = x_g[0]\n",
    "X_test_g = x_g[1]\n",
    "\n",
    "X_train = pd.DataFrame(X_train.X)\n",
    "X_train_g = pd.DataFrame(X_train_g.X)\n",
    "\n",
    "X_test = pd.DataFrame(X_test.X) \n",
    "X_test_g = pd.DataFrame(X_test_g.X)"
   ]
  },
  {
   "cell_type": "code",
   "execution_count": 242,
   "metadata": {},
   "outputs": [
    {
     "data": {
      "text/plain": [
       "0       decoy_829\n",
       "1       decoy_828\n",
       "2       decoy_771\n",
       "3       decoy_759\n",
       "4       decoy_757\n",
       "          ...    \n",
       "1348          XMK\n",
       "1349          XMJ\n",
       "1350          XMB\n",
       "1351          XMA\n",
       "1352          815\n",
       "Name: 2, Length: 1353, dtype: object"
      ]
     },
     "execution_count": 242,
     "metadata": {},
     "output_type": "execute_result"
    }
   ],
   "source": [
    "X_test[2]"
   ]
  },
  {
   "cell_type": "code",
   "execution_count": 243,
   "metadata": {},
   "outputs": [
    {
     "data": {
      "text/plain": [
       "0       decoy_4499\n",
       "1       decoy_4498\n",
       "2       decoy_4496\n",
       "3       decoy_4494\n",
       "4       decoy_4481\n",
       "           ...    \n",
       "1348           I1H\n",
       "1349           D91\n",
       "1350           XMC\n",
       "1351           XMB\n",
       "1352           XMA\n",
       "Name: 2, Length: 1353, dtype: object"
      ]
     },
     "execution_count": 243,
     "metadata": {},
     "output_type": "execute_result"
    }
   ],
   "source": [
    "X_test_g[2]"
   ]
  }
 ],
 "metadata": {
  "kernelspec": {
   "display_name": "Python 3.7.3 64-bit ('base': conda)",
   "language": "python",
   "name": "python37364bitbaseconda58a8361dca6d46b7b8a5a859db32e4dd"
  },
  "language_info": {
   "codemirror_mode": {
    "name": "ipython",
    "version": 3
   },
   "file_extension": ".py",
   "mimetype": "text/x-python",
   "name": "python",
   "nbconvert_exporter": "python",
   "pygments_lexer": "ipython3",
   "version": "3.7.4"
  }
 },
 "nbformat": 4,
 "nbformat_minor": 4
}
