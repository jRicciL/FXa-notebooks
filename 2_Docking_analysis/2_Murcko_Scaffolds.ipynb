{
 "cells": [
  {
   "cell_type": "markdown",
   "metadata": {},
   "source": [
    "## Murcko Scaffolds"
   ]
  },
  {
   "cell_type": "code",
   "execution_count": 1,
   "metadata": {},
   "outputs": [],
   "source": [
    "import pickle\n",
    "import pandas as pd\n",
    "import numpy as np\n",
    "import matplotlib.pyplot as plt\n",
    "import seaborn as sns\n",
    "import sys, os\n",
    "sys.path.append('..')\n",
    "sns.set(style='white', context='talk', font_scale=0.9)"
   ]
  },
  {
   "cell_type": "code",
   "execution_count": 2,
   "metadata": {},
   "outputs": [],
   "source": [
    "# import deepchem\n",
    "from rdkit import Chem"
   ]
  },
  {
   "cell_type": "markdown",
   "metadata": {},
   "source": [
    "### Load the data"
   ]
  },
  {
   "cell_type": "code",
   "execution_count": 3,
   "metadata": {},
   "outputs": [],
   "source": [
    "pkl_file = './df_COCRYS_DUD_DEKOIS_with_Fingerprints_1.pkl'\n",
    "\n",
    "if  os.path.isfile(pkl_file):\n",
    "    # this dataset was computed as df_dims_mds in the 2_Comparing...ipynb \n",
    "     df_all_mols = pd.read_pickle(pkl_file)"
   ]
  },
  {
   "cell_type": "markdown",
   "metadata": {},
   "source": [
    "### Murcko Scaffolds"
   ]
  },
  {
   "cell_type": "markdown",
   "metadata": {},
   "source": [
    "The following function let us to compute Murcko scaffolds, it has been save into `scaffold_splitter.py`.\n",
    "\n",
    "``` python\n",
    "from rdkit.Chem.Scaffolds import MurckoScaffold \n",
    "from rdkit.Chem import MolToSmiles\n",
    "from rdkit.Chem import rdDepictor\n",
    "\n",
    "def scaffold2smiles(mol, generic=True, return_smiles = True):\n",
    "    ''' Returns a SMILES string representing the Murcko Scaffold of a given molecule'''\n",
    "    if generic:\n",
    "        # Makes a Murcko scaffold generic (all atoms -> carbon and all bonds -> single)\n",
    "        scff = MurckoScaffold.MakeScaffoldGeneric(mol)\n",
    "        scff = MurckoScaffold.GetScaffoldForMol(scff)\n",
    "        scff_smiles = MolToSmiles(scff)\n",
    "    else:\n",
    "        # Return a smiles scaffold \n",
    "        try:\n",
    "            scff = MurckoScaffold.GetScaffoldForMol(mol)\n",
    "            scff_smiles =  MolToSmiles(scff)\n",
    "        except:\n",
    "            scff_smiles = '' \n",
    "            scff = np.nan\n",
    "    if return_smiles:\n",
    "        return scff_smiles\n",
    "    else:\n",
    "        return scff\n",
    "```"
   ]
  },
  {
   "cell_type": "code",
   "execution_count": 4,
   "metadata": {},
   "outputs": [],
   "source": [
    "# Load scaffold2smiles function\n",
    "from scaffold_splitter import scaffold2smiles"
   ]
  },
  {
   "cell_type": "code",
   "execution_count": 5,
   "metadata": {},
   "outputs": [],
   "source": [
    "# ************\n",
    "# Function to compute 2d coords\n",
    "# ************\n",
    "to2d = Chem.rdDepictor.Compute2DCoords"
   ]
  },
  {
   "cell_type": "markdown",
   "metadata": {},
   "source": [
    "#### Compute Murcko Scaffolds"
   ]
  },
  {
   "cell_type": "code",
   "execution_count": 6,
   "metadata": {},
   "outputs": [
    {
     "name": "stdout",
     "output_type": "stream",
     "text": [
      "CPU times: user 400 ms, sys: 293 ms, total: 693 ms\n",
      "Wall time: 691 ms\n"
     ]
    }
   ],
   "source": [
    "%%time\n",
    "# Compute or load the dataframe containing the Generic Murcko Scaffolds\n",
    "file = './df_COCRYS_DUD_DEKOIS_Murcko_Scaffolds_SMILES.pkl'\n",
    "\n",
    "if os.path.isfile(file):\n",
    "    df_murcko = pd.read_pickle(file)\n",
    "else:\n",
    "    df_murcko = df_all_mols[['library', 'name', 'mol_rdk']].copy()\n",
    "    # Set index\n",
    "    df_murcko = df_murcko.set_index(['library', 'name'])\n",
    "    # Compute Generic Murko Scaffolds\n",
    "    df_murcko['scff_generic'] = df_murcko.mol_rdk.apply(scaffold2smiles).values\n",
    "    # Compute Murko Scaffolds\n",
    "    df_murcko['scff'] = df_murcko.mol_rdk.apply(scaffold2smiles, generic=False).values\n",
    "    # Save the file\n",
    "    df_murcko.to_pickle(file)\n",
    "    \n",
    "# Add columns\n",
    "df_murcko['Activity'] = df_all_mols['Activity'].apply(lambda x: 1 if x == 'active' else 0).values"
   ]
  },
  {
   "cell_type": "markdown",
   "metadata": {},
   "source": [
    "### Create a dataframe"
   ]
  },
  {
   "cell_type": "markdown",
   "metadata": {},
   "source": [
    "#### Number of regular scaffolds"
   ]
  },
  {
   "cell_type": "code",
   "execution_count": 7,
   "metadata": {},
   "outputs": [
    {
     "name": "stdout",
     "output_type": "stream",
     "text": [
      "Number of different regular Scaffolds: 3983\n"
     ]
    }
   ],
   "source": [
    "# Number of unique molecules\n",
    "print('Number of different regular Scaffolds:', df_murcko.scff.unique().size)"
   ]
  },
  {
   "cell_type": "code",
   "execution_count": 8,
   "metadata": {},
   "outputs": [
    {
     "data": {
      "text/plain": [
       "c1ccc(Nc2nnc(-c3ccccc3)c3ccccc23)cc1                52\n",
       "O=C(NCc1ccccc1)c1cc2ccccc2n1Cc1ccccc1               41\n",
       "O=C(CSc1nnc(-c2ccccc2)n1-c1ccccc1)Nc1ccccc1         30\n",
       "C=C(NNC(=O)c1cccc(S(=O)(=O)Nc2ccccc2)c1)c1ccccc1    29\n",
       "O=C(CSc1nnc(-c2ccccc2)[nH]1)Nc1ccccc1               25\n",
       "Name: scff, dtype: int64"
      ]
     },
     "execution_count": 8,
     "metadata": {},
     "output_type": "execute_result"
    }
   ],
   "source": [
    "df_murcko['scff'].value_counts().head()"
   ]
  },
  {
   "cell_type": "markdown",
   "metadata": {},
   "source": [
    "#### Number of generic scaffolds"
   ]
  },
  {
   "cell_type": "code",
   "execution_count": 9,
   "metadata": {},
   "outputs": [
    {
     "name": "stdout",
     "output_type": "stream",
     "text": [
      "Number of different generic Scaffolds: 2509\n"
     ]
    }
   ],
   "source": [
    "print('Number of different generic Scaffolds:', df_murcko.scff_generic.unique().size)"
   ]
  },
  {
   "cell_type": "code",
   "execution_count": 10,
   "metadata": {},
   "outputs": [
    {
     "data": {
      "text/plain": [
       "C1CCC(CCCCC2CCC(CCC3CCCCC3)CC2)CC1           80\n",
       "C1CCC(CCCC2CC3CCCCC3C2CC2CCCCC2)CC1          63\n",
       "C1CCC(CCCCCCC2CCC(C3CCCCC3)C2C2CCCCC2)CC1    60\n",
       "C1CCC(CCCCC2CCCC(CCC3CCCCC3)C2)CC1           54\n",
       "C1CCC(CC2CCC(C3CCCCC3)C3CCCCC23)CC1          52\n",
       "Name: scff_generic, dtype: int64"
      ]
     },
     "execution_count": 10,
     "metadata": {},
     "output_type": "execute_result"
    }
   ],
   "source": [
    "df_murcko['scff_generic'].value_counts().head()"
   ]
  },
  {
   "cell_type": "markdown",
   "metadata": {},
   "source": [
    "#### Length of generic scaffold SMILES"
   ]
  },
  {
   "cell_type": "code",
   "execution_count": 11,
   "metadata": {},
   "outputs": [
    {
     "data": {
      "text/html": [
       "<div>\n",
       "<style scoped>\n",
       "    .dataframe tbody tr th:only-of-type {\n",
       "        vertical-align: middle;\n",
       "    }\n",
       "\n",
       "    .dataframe tbody tr th {\n",
       "        vertical-align: top;\n",
       "    }\n",
       "\n",
       "    .dataframe thead th {\n",
       "        text-align: right;\n",
       "    }\n",
       "</style>\n",
       "<table border=\"1\" class=\"dataframe\">\n",
       "  <thead>\n",
       "    <tr style=\"text-align: right;\">\n",
       "      <th></th>\n",
       "      <th>counts</th>\n",
       "      <th>length</th>\n",
       "    </tr>\n",
       "  </thead>\n",
       "  <tbody>\n",
       "    <tr>\n",
       "      <th></th>\n",
       "      <td>1</td>\n",
       "      <td>0</td>\n",
       "    </tr>\n",
       "    <tr>\n",
       "      <th>C1CCCC1</th>\n",
       "      <td>3</td>\n",
       "      <td>7</td>\n",
       "    </tr>\n",
       "    <tr>\n",
       "      <th>C1CCCCC1</th>\n",
       "      <td>8</td>\n",
       "      <td>8</td>\n",
       "    </tr>\n",
       "    <tr>\n",
       "      <th>C1CC2CCCC2C1</th>\n",
       "      <td>2</td>\n",
       "      <td>12</td>\n",
       "    </tr>\n",
       "    <tr>\n",
       "      <th>C1CCC2CCCC2C1</th>\n",
       "      <td>3</td>\n",
       "      <td>13</td>\n",
       "    </tr>\n",
       "  </tbody>\n",
       "</table>\n",
       "</div>"
      ],
      "text/plain": [
       "               counts  length\n",
       "                    1       0\n",
       "C1CCCC1             3       7\n",
       "C1CCCCC1            8       8\n",
       "C1CC2CCCC2C1        2      12\n",
       "C1CCC2CCCC2C1       3      13"
      ]
     },
     "execution_count": 11,
     "metadata": {},
     "output_type": "execute_result"
    }
   ],
   "source": [
    "# Count the number of molecules inside each scaffolds\n",
    "scff_counts = df_murcko['scff_generic'].value_counts()\n",
    "# Get the lenght of the gemeric Scaffold\n",
    "scff_smiles_len = scff_counts.index.map(len)\n",
    "# Create a dataframe of unique scaffolds\n",
    "df_scff_counts = pd.DataFrame({'counts': scff_counts, 'length': scff_smiles_len})\n",
    "# Sort by length \n",
    "df_scff_counts.sort_values('length', inplace=True)\n",
    "df_scff_counts.head(5)"
   ]
  },
  {
   "cell_type": "code",
   "execution_count": 12,
   "metadata": {},
   "outputs": [
    {
     "data": {
      "image/png": "[encoded data removed]",
      "text/plain": [
       "<rdkit.Chem.rdchem.Mol at 0x7fd1148d56b0>"
      ]
     },
     "execution_count": 12,
     "metadata": {},
     "output_type": "execute_result"
    }
   ],
   "source": [
    "# This molecule doesn't have a Murcko Scaffold (its\n",
    "df_murcko.loc[('DEKOIS', 'decoy_521'), 'mol_rdk']"
   ]
  },
  {
   "cell_type": "code",
   "execution_count": 13,
   "metadata": {},
   "outputs": [
    {
     "data": {
      "text/plain": [
       "166"
      ]
     },
     "execution_count": 13,
     "metadata": {},
     "output_type": "execute_result"
    }
   ],
   "source": [
    "# How many scaffolds have more than five molecules?\n",
    "sum(scff_counts > 5)"
   ]
  },
  {
   "cell_type": "markdown",
   "metadata": {},
   "source": [
    "### Visualize Generic Scaffolds against Normal Scaffolds"
   ]
  },
  {
   "cell_type": "code",
   "execution_count": 14,
   "metadata": {},
   "outputs": [],
   "source": [
    "# Function to get mol from scaffold smiles\n",
    "fromSmiles = Chem.MolFromSmiles"
   ]
  },
  {
   "cell_type": "markdown",
   "metadata": {},
   "source": [
    "#### First Example"
   ]
  },
  {
   "cell_type": "code",
   "execution_count": 48,
   "metadata": {},
   "outputs": [],
   "source": [
    "# Helper function to visualize examples\n",
    "def _draw_scaffolds(idx):\n",
    "    labels = ['Original', 'Regular Scff.', 'Generic Scff.']\n",
    "    to2d(df_all_mols.loc[idx, 'mol_rdk'])\n",
    "    original = df_all_mols.loc[idx, 'mol_rdk']\n",
    "    normal = fromSmiles(df_murcko['scff'].iloc[idx])\n",
    "    generic = fromSmiles(df_murcko['scff_generic'].iloc[idx])\n",
    "    mols = [original, normal, generic]\n",
    "    return Chem.Draw.MolsToGridImage(mols=mols, legends=labels, subImgSize=(200, 200))"
   ]
  },
  {
   "cell_type": "code",
   "execution_count": 50,
   "metadata": {},
   "outputs": [
    {
     "data": {
      "image/png": "[encoded data removed]",
      "text/plain": [
       "<PIL.PngImagePlugin.PngImageFile image mode=RGB size=600x200 at 0x7FD0E5694090>"
      ]
     },
     "execution_count": 50,
     "metadata": {},
     "output_type": "execute_result"
    }
   ],
   "source": [
    "_draw_scaffolds(1759)"
   ]
  },
  {
   "cell_type": "code",
   "execution_count": 52,
   "metadata": {},
   "outputs": [
    {
     "data": {
      "image/png": "[encoded data removed]",
      "text/plain": [
       "<PIL.PngImagePlugin.PngImageFile image mode=RGB size=600x200 at 0x7FD0E5694DD0>"
      ]
     },
     "execution_count": 52,
     "metadata": {},
     "output_type": "execute_result"
    }
   ],
   "source": [
    "_draw_scaffolds(100)"
   ]
  },
  {
   "cell_type": "code",
   "execution_count": 54,
   "metadata": {},
   "outputs": [
    {
     "data": {
      "image/png": "[encoded data removed]",
      "text/plain": [
       "<PIL.PngImagePlugin.PngImageFile image mode=RGB size=600x200 at 0x7FD0E5540C90>"
      ]
     },
     "execution_count": 54,
     "metadata": {},
     "output_type": "execute_result"
    }
   ],
   "source": [
    "_draw_scaffolds(10)"
   ]
  },
  {
   "cell_type": "code",
   "execution_count": 55,
   "metadata": {},
   "outputs": [
    {
     "data": {
      "image/png": "[encoded data removed]",
      "text/plain": [
       "<PIL.PngImagePlugin.PngImageFile image mode=RGB size=600x200 at 0x7FD0E55408D0>"
      ]
     },
     "execution_count": 55,
     "metadata": {},
     "output_type": "execute_result"
    }
   ],
   "source": [
    "_draw_scaffolds(50)"
   ]
  },
  {
   "cell_type": "markdown",
   "metadata": {},
   "source": [
    "## Draw most populated generic scaffolds"
   ]
  },
  {
   "cell_type": "code",
   "execution_count": 20,
   "metadata": {},
   "outputs": [
    {
     "data": {
      "text/plain": [
       "C1CCC(CCCCC2CCC(CCC3CCCCC3)CC2)CC1              80\n",
       "C1CCC(CCCC2CC3CCCCC3C2CC2CCCCC2)CC1             63\n",
       "C1CCC(CCCCCCC2CCC(C3CCCCC3)C2C2CCCCC2)CC1       60\n",
       "C1CCC(CCCCC2CCCC(CCC3CCCCC3)C2)CC1              54\n",
       "C1CCC(CC2CCC(C3CCCCC3)C3CCCCC23)CC1             52\n",
       "C1CCC(CCCCC2CCC(C3CCCCC3)C2)CC1                 52\n",
       "C1CCC(CCC2CCCC(CCCCC3CCCCC3)C2)CC1              48\n",
       "C1CCC(CCCCC2CCC(CCC3CCCC3)CC2)CC1               45\n",
       "C1CCC(CCCCC2CCC(C3CCCCC3)C2C2CCCCC2)CC1         43\n",
       "C1CCC(CCC(CCCCC2CCCCC2)C2CCCC3CCCCC32)CC1       37\n",
       "C1CCC(CCCCC2CCC(CCC3CCCCC3)C2)CC1               34\n",
       "C1CCC(CCC2CC3CCCCC3CC2CC2CCCCC2)CC1             32\n",
       "C1CCC(CCC2CCCC(CCC3CCCCC3)C2)CC1                32\n",
       "C1CCC(CCC2CCC(CCC3CCCCC3)CC2)CC1                32\n",
       "C1CCC(CCCC(CC2CCCCC2)C2CCCCC2)CC1               31\n",
       "C1CCC(CCCCC2CCC(C3CCCC3)C2C2CCCCC2)CC1          30\n",
       "C1CCC(CCCCCCC2CC3CCCCC3CC2C2CCCCC2)CC1          29\n",
       "C1CCC(CCCCCC2CCC(CCC3CCCCC3)CC2)CC1             27\n",
       "C1CCC(CC2CCC(C3CCCCC3)C3CCCCC32)CC1             26\n",
       "C1CCC(CCCCC2CCC(CCCCC3CCCCC3)CC2)CC1            25\n",
       "C1CCC(C2CCC3CCCC(C4CCC(CCC5CCCC5)CC4)C32)CC1    25\n",
       "C1CCC(CCC2CCC(CCCCC3CCCCC3)CC2)CC1              25\n",
       "C1CCC2C(C1)CCC1C3CCCC3CCC21                     25\n",
       "C1CCC(CCCC2CCCC(CCC3CCCCC3)C2)CC1               23\n",
       "C1CCC(CCCCC2CCCCC2CCC2CCCCC2)CC1                23\n",
       "C1CCC(CCCCC2CCC(CC3CCCC4CCCCC43)C2)CC1          23\n",
       "C1CCC(CCC2CCC(CCC3CCC(C4CCCCC4)C3)CC2)CC1       22\n",
       "C1CCC(CCCCC2CCC(C3CCCCC3)C2CC2CCCC2)CC1         22\n",
       "Name: scff_generic, dtype: int64"
      ]
     },
     "execution_count": 20,
     "metadata": {},
     "output_type": "execute_result"
    }
   ],
   "source": [
    "most_freq_scff = df_murcko['scff_generic'].value_counts().head(28)\n",
    "most_freq_scff"
   ]
  },
  {
   "cell_type": "code",
   "execution_count": 21,
   "metadata": {},
   "outputs": [
    {
     "data": {
      "image/png": "[encoded data removed]",
      "text/plain": [
       "<PIL.PngImagePlugin.PngImageFile image mode=RGB size=1120x520 at 0x7FD114E1F690>"
      ]
     },
     "execution_count": 21,
     "metadata": {},
     "output_type": "execute_result"
    }
   ],
   "source": [
    "mols = [fromSmiles(mol) for mol in most_freq_scff.index.values]\n",
    "num_mols_per_scff = [f'{n_mols} molecules' for n_mols in most_freq_scff]\n",
    "Chem.Draw.MolsToGridImage(mols=mols, molsPerRow=7, legends=num_mols_per_scff, subImgSize=(160,130))"
   ]
  },
  {
   "cell_type": "markdown",
   "metadata": {},
   "source": [
    "### Scaffolds Dsitribution between Molecular Libraries"
   ]
  },
  {
   "cell_type": "code",
   "execution_count": 22,
   "metadata": {},
   "outputs": [
    {
     "data": {
      "image/png": "[encoded data removed]",
      "text/plain": [
       "<Figure size 1008x360 with 1 Axes>"
      ]
     },
     "metadata": {},
     "output_type": "display_data"
    }
   ],
   "source": [
    "import seaborn as sns\n",
    "sns.set(context='talk', style='white', font_scale=0.9)\n",
    "\n",
    "df_murcko['len_scff_gen'] = df_murcko.scff_generic.apply(len)\n",
    "data = pd.melt(df_murcko.reset_index(), id_vars=['library', 'Activity'], \n",
    "               value_vars='len_scff_gen',\n",
    "              value_name='len_scff_gen')\n",
    "\n",
    "# Violin Plots\n",
    "f, ax = plt.subplots(figsize=(14,5))\n",
    "ax = sns.violinplot(x='library', y='len_scff_gen', hue='Activity', data=data, split=True,\n",
    "                   palette=['#FAD585', '#FF9588'], inner='quartile', scale='area', ax = ax)\n",
    "plt.grid()\n",
    "plt.legend().get_texts()[1].set_text('Active')\n",
    "ax.set(title='Generic Scaffold Length across molecules', xlabel='Molecular Libraries',\n",
    "      ylabel='Generic Scaffold length\\n(SMILES)')\n",
    "plt.show()"
   ]
  },
  {
   "cell_type": "code",
   "execution_count": 23,
   "metadata": {},
   "outputs": [
    {
     "name": "stdout",
     "output_type": "stream",
     "text": [
      "Merged Libraries\n"
     ]
    },
    {
     "data": {
      "text/html": [
       "<div>\n",
       "<style scoped>\n",
       "    .dataframe tbody tr th:only-of-type {\n",
       "        vertical-align: middle;\n",
       "    }\n",
       "\n",
       "    .dataframe tbody tr th {\n",
       "        vertical-align: top;\n",
       "    }\n",
       "\n",
       "    .dataframe thead tr th {\n",
       "        text-align: left;\n",
       "    }\n",
       "\n",
       "    .dataframe thead tr:last-of-type th {\n",
       "        text-align: right;\n",
       "    }\n",
       "</style>\n",
       "<table border=\"1\" class=\"dataframe\">\n",
       "  <thead>\n",
       "    <tr>\n",
       "      <th></th>\n",
       "      <th colspan=\"8\" halign=\"left\">len_scff_gen</th>\n",
       "    </tr>\n",
       "    <tr>\n",
       "      <th></th>\n",
       "      <th>count</th>\n",
       "      <th>mean</th>\n",
       "      <th>std</th>\n",
       "      <th>min</th>\n",
       "      <th>25%</th>\n",
       "      <th>50%</th>\n",
       "      <th>75%</th>\n",
       "      <th>max</th>\n",
       "    </tr>\n",
       "    <tr>\n",
       "      <th>Activity</th>\n",
       "      <th></th>\n",
       "      <th></th>\n",
       "      <th></th>\n",
       "      <th></th>\n",
       "      <th></th>\n",
       "      <th></th>\n",
       "      <th></th>\n",
       "      <th></th>\n",
       "    </tr>\n",
       "  </thead>\n",
       "  <tbody>\n",
       "    <tr>\n",
       "      <th>0</th>\n",
       "      <td>5539.0</td>\n",
       "      <td>37.538003</td>\n",
       "      <td>6.010746</td>\n",
       "      <td>0.0</td>\n",
       "      <td>34.0</td>\n",
       "      <td>38.0</td>\n",
       "      <td>41.0</td>\n",
       "      <td>60.0</td>\n",
       "    </tr>\n",
       "    <tr>\n",
       "      <th>1</th>\n",
       "      <td>300.0</td>\n",
       "      <td>38.476667</td>\n",
       "      <td>6.661635</td>\n",
       "      <td>8.0</td>\n",
       "      <td>35.0</td>\n",
       "      <td>37.0</td>\n",
       "      <td>42.0</td>\n",
       "      <td>60.0</td>\n",
       "    </tr>\n",
       "  </tbody>\n",
       "</table>\n",
       "</div>"
      ],
      "text/plain": [
       "         len_scff_gen                                                  \n",
       "                count       mean       std  min   25%   50%   75%   max\n",
       "Activity                                                               \n",
       "0              5539.0  37.538003  6.010746  0.0  34.0  38.0  41.0  60.0\n",
       "1               300.0  38.476667  6.661635  8.0  35.0  37.0  42.0  60.0"
      ]
     },
     "metadata": {},
     "output_type": "display_data"
    },
    {
     "name": "stdout",
     "output_type": "stream",
     "text": [
      "\n",
      "COCRYS Library\n"
     ]
    },
    {
     "data": {
      "text/html": [
       "<div>\n",
       "<style scoped>\n",
       "    .dataframe tbody tr th:only-of-type {\n",
       "        vertical-align: middle;\n",
       "    }\n",
       "\n",
       "    .dataframe tbody tr th {\n",
       "        vertical-align: top;\n",
       "    }\n",
       "\n",
       "    .dataframe thead tr th {\n",
       "        text-align: left;\n",
       "    }\n",
       "\n",
       "    .dataframe thead tr:last-of-type th {\n",
       "        text-align: right;\n",
       "    }\n",
       "</style>\n",
       "<table border=\"1\" class=\"dataframe\">\n",
       "  <thead>\n",
       "    <tr>\n",
       "      <th></th>\n",
       "      <th colspan=\"8\" halign=\"left\">len_scff_gen</th>\n",
       "    </tr>\n",
       "    <tr>\n",
       "      <th></th>\n",
       "      <th>count</th>\n",
       "      <th>mean</th>\n",
       "      <th>std</th>\n",
       "      <th>min</th>\n",
       "      <th>25%</th>\n",
       "      <th>50%</th>\n",
       "      <th>75%</th>\n",
       "      <th>max</th>\n",
       "    </tr>\n",
       "    <tr>\n",
       "      <th>Activity</th>\n",
       "      <th></th>\n",
       "      <th></th>\n",
       "      <th></th>\n",
       "      <th></th>\n",
       "      <th></th>\n",
       "      <th></th>\n",
       "      <th></th>\n",
       "      <th></th>\n",
       "    </tr>\n",
       "  </thead>\n",
       "  <tbody>\n",
       "    <tr>\n",
       "      <th>1</th>\n",
       "      <td>125.0</td>\n",
       "      <td>40.28</td>\n",
       "      <td>7.161276</td>\n",
       "      <td>8.0</td>\n",
       "      <td>37.0</td>\n",
       "      <td>40.0</td>\n",
       "      <td>44.0</td>\n",
       "      <td>60.0</td>\n",
       "    </tr>\n",
       "  </tbody>\n",
       "</table>\n",
       "</div>"
      ],
      "text/plain": [
       "         len_scff_gen                                              \n",
       "                count   mean       std  min   25%   50%   75%   max\n",
       "Activity                                                           \n",
       "1               125.0  40.28  7.161276  8.0  37.0  40.0  44.0  60.0"
      ]
     },
     "metadata": {},
     "output_type": "display_data"
    },
    {
     "name": "stdout",
     "output_type": "stream",
     "text": [
      "\n",
      "DEKOIS Library\n"
     ]
    },
    {
     "data": {
      "text/html": [
       "<div>\n",
       "<style scoped>\n",
       "    .dataframe tbody tr th:only-of-type {\n",
       "        vertical-align: middle;\n",
       "    }\n",
       "\n",
       "    .dataframe tbody tr th {\n",
       "        vertical-align: top;\n",
       "    }\n",
       "\n",
       "    .dataframe thead tr th {\n",
       "        text-align: left;\n",
       "    }\n",
       "\n",
       "    .dataframe thead tr:last-of-type th {\n",
       "        text-align: right;\n",
       "    }\n",
       "</style>\n",
       "<table border=\"1\" class=\"dataframe\">\n",
       "  <thead>\n",
       "    <tr>\n",
       "      <th></th>\n",
       "      <th colspan=\"8\" halign=\"left\">len_scff_gen</th>\n",
       "    </tr>\n",
       "    <tr>\n",
       "      <th></th>\n",
       "      <th>count</th>\n",
       "      <th>mean</th>\n",
       "      <th>std</th>\n",
       "      <th>min</th>\n",
       "      <th>25%</th>\n",
       "      <th>50%</th>\n",
       "      <th>75%</th>\n",
       "      <th>max</th>\n",
       "    </tr>\n",
       "    <tr>\n",
       "      <th>Activity</th>\n",
       "      <th></th>\n",
       "      <th></th>\n",
       "      <th></th>\n",
       "      <th></th>\n",
       "      <th></th>\n",
       "      <th></th>\n",
       "      <th></th>\n",
       "      <th></th>\n",
       "    </tr>\n",
       "  </thead>\n",
       "  <tbody>\n",
       "    <tr>\n",
       "      <th>0</th>\n",
       "      <td>1180.0</td>\n",
       "      <td>37.233898</td>\n",
       "      <td>9.062662</td>\n",
       "      <td>0.0</td>\n",
       "      <td>32.0</td>\n",
       "      <td>38.0</td>\n",
       "      <td>43.25</td>\n",
       "      <td>59.0</td>\n",
       "    </tr>\n",
       "    <tr>\n",
       "      <th>1</th>\n",
       "      <td>39.0</td>\n",
       "      <td>40.128205</td>\n",
       "      <td>5.768241</td>\n",
       "      <td>32.0</td>\n",
       "      <td>36.0</td>\n",
       "      <td>40.0</td>\n",
       "      <td>44.00</td>\n",
       "      <td>52.0</td>\n",
       "    </tr>\n",
       "  </tbody>\n",
       "</table>\n",
       "</div>"
      ],
      "text/plain": [
       "         len_scff_gen                                                    \n",
       "                count       mean       std   min   25%   50%    75%   max\n",
       "Activity                                                                 \n",
       "0              1180.0  37.233898  9.062662   0.0  32.0  38.0  43.25  59.0\n",
       "1                39.0  40.128205  5.768241  32.0  36.0  40.0  44.00  52.0"
      ]
     },
     "metadata": {},
     "output_type": "display_data"
    },
    {
     "name": "stdout",
     "output_type": "stream",
     "text": [
      "\n",
      "DUD Library\n"
     ]
    },
    {
     "data": {
      "text/html": [
       "<div>\n",
       "<style scoped>\n",
       "    .dataframe tbody tr th:only-of-type {\n",
       "        vertical-align: middle;\n",
       "    }\n",
       "\n",
       "    .dataframe tbody tr th {\n",
       "        vertical-align: top;\n",
       "    }\n",
       "\n",
       "    .dataframe thead tr th {\n",
       "        text-align: left;\n",
       "    }\n",
       "\n",
       "    .dataframe thead tr:last-of-type th {\n",
       "        text-align: right;\n",
       "    }\n",
       "</style>\n",
       "<table border=\"1\" class=\"dataframe\">\n",
       "  <thead>\n",
       "    <tr>\n",
       "      <th></th>\n",
       "      <th colspan=\"8\" halign=\"left\">len_scff_gen</th>\n",
       "    </tr>\n",
       "    <tr>\n",
       "      <th></th>\n",
       "      <th>count</th>\n",
       "      <th>mean</th>\n",
       "      <th>std</th>\n",
       "      <th>min</th>\n",
       "      <th>25%</th>\n",
       "      <th>50%</th>\n",
       "      <th>75%</th>\n",
       "      <th>max</th>\n",
       "    </tr>\n",
       "    <tr>\n",
       "      <th>Activity</th>\n",
       "      <th></th>\n",
       "      <th></th>\n",
       "      <th></th>\n",
       "      <th></th>\n",
       "      <th></th>\n",
       "      <th></th>\n",
       "      <th></th>\n",
       "      <th></th>\n",
       "    </tr>\n",
       "  </thead>\n",
       "  <tbody>\n",
       "    <tr>\n",
       "      <th>0</th>\n",
       "      <td>4359.0</td>\n",
       "      <td>37.620326</td>\n",
       "      <td>4.864163</td>\n",
       "      <td>19.0</td>\n",
       "      <td>34.0</td>\n",
       "      <td>38.0</td>\n",
       "      <td>41.0</td>\n",
       "      <td>60.0</td>\n",
       "    </tr>\n",
       "    <tr>\n",
       "      <th>1</th>\n",
       "      <td>136.0</td>\n",
       "      <td>36.345588</td>\n",
       "      <td>5.782962</td>\n",
       "      <td>23.0</td>\n",
       "      <td>35.0</td>\n",
       "      <td>35.0</td>\n",
       "      <td>39.0</td>\n",
       "      <td>53.0</td>\n",
       "    </tr>\n",
       "  </tbody>\n",
       "</table>\n",
       "</div>"
      ],
      "text/plain": [
       "         len_scff_gen                                                   \n",
       "                count       mean       std   min   25%   50%   75%   max\n",
       "Activity                                                                \n",
       "0              4359.0  37.620326  4.864163  19.0  34.0  38.0  41.0  60.0\n",
       "1               136.0  36.345588  5.782962  23.0  35.0  35.0  39.0  53.0"
      ]
     },
     "metadata": {},
     "output_type": "display_data"
    }
   ],
   "source": [
    "print('Merged Libraries')\n",
    "display(df_murcko.groupby('Activity').describe())\n",
    "\n",
    "print('\\nCOCRYS Library')\n",
    "display(df_murcko.loc['COCRYS'].groupby('Activity').describe())\n",
    "\n",
    "print('\\nDEKOIS Library')\n",
    "display(df_murcko.loc['DEKOIS'].groupby('Activity').describe())\n",
    "\n",
    "print('\\nDUD Library')\n",
    "display(df_murcko.loc['DUD'].groupby('Activity').describe())"
   ]
  },
  {
   "cell_type": "markdown",
   "metadata": {},
   "source": [
    "***\n",
    "# Use DeepChem to compute the Scaffold splitting\n",
    "\n",
    "Sources:\n",
    "-  https://deepchem.io/docs/_modules/deepchem/splits/splitters.html\n",
    "-  https://deepchem.io/deepchem.splits.html\n",
    "- https://github.com/pandegroup/deepchem_enf/blob/master/deepchem/utils/featurize.py"
   ]
  },
  {
   "cell_type": "markdown",
   "metadata": {},
   "source": [
    "### Split function used by deepchem\n",
    "\n",
    "```python\n",
    "def split(self,\n",
    "            dataset,\n",
    "            frac_train=.8,\n",
    "            frac_valid=.1,\n",
    "            frac_test=.1,\n",
    "            log_every_n=1000): # Usa la función log para guardar\n",
    "    \"\"\"\n",
    "        Splits internal compounds into train/validation/test by scaffold.\n",
    "        \"\"\"\n",
    "    #** \n",
    "    np.testing.assert_almost_equal(frac_train + frac_valid + frac_test, 1.)\n",
    "    \n",
    "    #** Crea un diccionario vacío\n",
    "    scaffolds = {}\n",
    "    log(\"About to generate scaffolds\", self.verbose)\n",
    "    data_len = len(dataset)\n",
    "    \n",
    "    #** El objeto de la clase Dataset tiene como atributo ids al smiles de la molécula\n",
    "    for ind, smiles in enumerate(dataset.ids): \n",
    "      if ind % log_every_n == 0:\n",
    "        log(\"Generating scaffold %d/%d\" % (ind, data_len), self.verbose)\n",
    "        \n",
    "      # Genera los scaffolds de Murcko\n",
    "      scaffold = generate_scaffold(smiles) # La función implementa MurckoScaffoldSmiles\n",
    "        # Con lo cual, no da opción de Scaffolds genéricos, y sólo funciona desde SMILES\n",
    "        \n",
    "      #********************\n",
    "      # La clave para ir llenando los bins está aquí\n",
    "      #********************\n",
    "      if scaffold not in scaffolds:\n",
    "        scaffolds[scaffold] = [ind] # Crea una nueva entrada si el scaffold no ha sido 'visto'\n",
    "        # El key es el scaffold y el value es una lista con el índice de la primera ocurrencia\n",
    "      else:\n",
    "        scaffolds[scaffold].append(ind) # Si el scaffold ya existe, añade el índice de la ocurrencia\n",
    "        \n",
    "    # Ordena los índices de las moléculas que pertenecen a cada scaffold\n",
    "    # Sort from largest to smallest scaffold sets\n",
    "    scaffolds = {key: sorted(value) for key, value in scaffolds.items()}\n",
    "    \n",
    "    # Crea una lista con las listas de los índices de cada scaffold\n",
    "    # Ordenando por longitud del número de índices en el set, y por el valor del primer índice\n",
    "    # Cada scaffold_set es una lista de índices que pertenecen a un scaffold en particular\n",
    "    scaffold_sets = [\n",
    "        scaffold_set\n",
    "        for (scaffold, scaffold_set) in sorted(\n",
    "            scaffolds.items(), key=lambda x: (len(x[1]), x[1][0]), reverse=True)\n",
    "    ]\n",
    "    # La longitud del Train set se establece según la longitud del dataset\n",
    "    train_cutoff = frac_train * len(dataset)\n",
    "    valid_cutoff = (frac_train + frac_valid) * len(dataset)\n",
    "    # Se crean las listas vacias de los tres sets\n",
    "    # Cuando no se requiere el set de validación, se omite estableciendo el frac_valid = 0\n",
    "    train_inds, valid_inds, test_inds = [], [], []\n",
    "    log(\"About to sort in scaffold sets\", self.verbose)\n",
    "    \n",
    "    # Por cada scaffold_set:\n",
    "    for scaffold_set in scaffold_sets:\n",
    "      # Si lo que hay ya en train_inds más el scaffold_set es mayor al cutoff para el train set \n",
    "      if len(train_inds) + len(scaffold_set) > train_cutoff:\n",
    "        # Lo mismo para el valid set\n",
    "        if len(train_inds) + len(valid_inds) + len(scaffold_set) > valid_cutoff:\n",
    "          test_inds += scaffold_set\n",
    "        else:\n",
    "          valid_inds += scaffold_set\n",
    "      else:\n",
    "        train_inds += scaffold_set\n",
    "        \n",
    "    return train_inds, valid_inds, test_inds\n",
    "```"
   ]
  },
  {
   "cell_type": "markdown",
   "metadata": {},
   "source": [
    "### Compute ScaffoldSplitter\n",
    "1. ScaffoldSplitter requires a `dataset` object from class Dataset.\n",
    "2. Murcko Scaffolds are computed only from SMILES format ([Source code](https://github.com/pandegroup/deepchem_enf/blob/master/deepchem/utils/featurize.py))\n",
    "\n",
    "#### Create the dataset object"
   ]
  },
  {
   "cell_type": "code",
   "execution_count": 56,
   "metadata": {},
   "outputs": [],
   "source": [
    "from deepchem.data import NumpyDataset \n",
    "from rdkit import Chem"
   ]
  },
  {
   "cell_type": "markdown",
   "metadata": {},
   "source": [
    "#### Helper Function to get a Dataset object required to use `ScaffoldSplitter` class from deepchem."
   ]
  },
  {
   "cell_type": "code",
   "execution_count": 25,
   "metadata": {},
   "outputs": [],
   "source": [
    "def _get_depchem_dataset(df, smiles_col='scff_generic'):\n",
    "    '''This is a very particular funtion to return a 'Dataset' object from the \n",
    "    df_murcko dataframe, created  above.'''\n",
    "    # Molecules are required in SMILES format\n",
    "    df_dataset = df[['scff_generic', 'scff']].copy() # X dataset\n",
    "    df_dataset['y'] = df.Activity # target value\n",
    "    df_dataset['smiles'] = [Chem.MolToSmiles(mol) for mol in df.mol_rdk] # ids values\n",
    "\n",
    "    # Print some properties\n",
    "    print('Number of molecules:', df_dataset.shape[0])\n",
    "    print('Number of actives:', df_dataset.y.sum())\n",
    "\n",
    "    # Create the deepchem dataset\n",
    "    dataset_g = NumpyDataset(X = df_dataset.drop('y', axis=1), # Features set\n",
    "                             y = df_dataset['y'], # Target values\n",
    "                             ids=df_dataset[smiles_col]) # SMILES should be column ids\n",
    "    return dataset_g"
   ]
  },
  {
   "cell_type": "markdown",
   "metadata": {},
   "source": [
    "### Scaffold Splitting over the merged dataset (all libraries)"
   ]
  },
  {
   "cell_type": "code",
   "execution_count": 26,
   "metadata": {},
   "outputs": [],
   "source": [
    "from deepchem.splits.splitters import ScaffoldSplitter"
   ]
  },
  {
   "cell_type": "markdown",
   "metadata": {},
   "source": [
    "##### Scaffold Splitting over Merged dataset (COCRYS, DEKOIS and DUD)"
   ]
  },
  {
   "cell_type": "code",
   "execution_count": 27,
   "metadata": {},
   "outputs": [
    {
     "name": "stdout",
     "output_type": "stream",
     "text": [
      "MERGED dataset (all libraries)\n",
      "******************************\n",
      "Number of molecules: 5839\n",
      "Number of actives: 300\n",
      "++++++++++++++++++++++++++++++\n",
      "-Training set shape (4671, 3)\n",
      "-Number of actives in y_train: 232\n",
      "-Test set shape (1168, 3)\n",
      "-Number of actives in y_test: 68\n"
     ]
    }
   ],
   "source": [
    "#****************\n",
    "# Merged Dataset\n",
    "#****************\n",
    "print('MERGED dataset (all libraries)\\n' + '*'*30)\n",
    "merged_dataset = _get_depchem_dataset(df_murcko)\n",
    "x_g = ScaffoldSplitter().train_test_split(merged_dataset)\n",
    "# Training set\n",
    "print('+'*30)\n",
    "X_train, y_train = x_g[0].X, x_g[0]._y\n",
    "print('-Training set shape', X_train.shape)\n",
    "print('-Number of actives in y_train:', y_train.sum())\n",
    "\n",
    "# Test set \n",
    "X_test, y_test = x_g[1].X, x_g[1]._y\n",
    "print('-Test set shape', X_test.shape)\n",
    "print('-Number of actives in y_test:', y_test.sum())"
   ]
  },
  {
   "cell_type": "markdown",
   "metadata": {},
   "source": [
    "##### Scaffold Splitting over  DEKOIS\n",
    "As we will see, the problem with this splitting is that it not guaranties a stratified (proportional) distribution of actives and inactives between Train and Test sets."
   ]
  },
  {
   "cell_type": "code",
   "execution_count": 28,
   "metadata": {},
   "outputs": [
    {
     "name": "stdout",
     "output_type": "stream",
     "text": [
      "DEKOIS dataset\n",
      "******************************\n",
      "Number of molecules: 1219\n",
      "Number of actives: 39\n",
      "++++++++++++++++++++++++++++++\n",
      "-Training set shape (975, 3)\n",
      "-Number of actives in y_train: 8\n",
      "-Test set shape (244, 3)\n",
      "-Number of actives in y_test: 31\n"
     ]
    }
   ],
   "source": [
    "#****************\n",
    "# DEKOIS Dataset\n",
    "#****************\n",
    "library = 'DEKOIS'\n",
    "print(library + ' dataset\\n' + '*'*30)\n",
    "merged_dataset = _get_depchem_dataset(df_murcko.loc[library])\n",
    "x_g = ScaffoldSplitter().train_test_split(merged_dataset)\n",
    "# Training set\n",
    "print('+'*30)\n",
    "X_train, y_train = x_g[0].X, x_g[0]._y\n",
    "print('-Training set shape', X_train.shape)\n",
    "print('-Number of actives in y_train:', y_train.sum())\n",
    "\n",
    "# Test set \n",
    "X_test, y_test = x_g[1].X, x_g[1]._y\n",
    "print('-Test set shape', X_test.shape)\n",
    "print('-Number of actives in y_test:', y_test.sum())\n"
   ]
  },
  {
   "cell_type": "markdown",
   "metadata": {},
   "source": [
    "##### Scaffold Splitting over  DUD"
   ]
  },
  {
   "cell_type": "code",
   "execution_count": 29,
   "metadata": {},
   "outputs": [
    {
     "name": "stdout",
     "output_type": "stream",
     "text": [
      "DUD dataset\n",
      "******************************\n",
      "Number of molecules: 4495\n",
      "Number of actives: 136\n",
      "++++++++++++++++++++++++++++++\n",
      "-Training set shape (3596, 3)\n",
      "-Number of actives in y_train: 109\n",
      "-Test set shape (899, 3)\n",
      "-Number of actives in y_test: 27\n"
     ]
    }
   ],
   "source": [
    "#****************\n",
    "# DUD Dataset\n",
    "#****************\n",
    "library = 'DUD'\n",
    "print(library + ' dataset\\n' + '*'*30)\n",
    "merged_dataset = _get_depchem_dataset(df_murcko.loc[library])\n",
    "x_g = ScaffoldSplitter().train_test_split(merged_dataset)\n",
    "# Training set\n",
    "print('+'*30)\n",
    "X_train, y_train = x_g[0].X, x_g[0]._y\n",
    "print('-Training set shape', X_train.shape)\n",
    "print('-Number of actives in y_train:', y_train.sum())\n",
    "\n",
    "# Test set \n",
    "X_test, y_test = x_g[1].X, x_g[1]._y\n",
    "print('-Test set shape', X_test.shape)\n",
    "print('-Number of actives in y_test:', y_test.sum())"
   ]
  },
  {
   "cell_type": "markdown",
   "metadata": {},
   "source": [
    "## Defining our own stratified Scaffold Splitter\n",
    "\n",
    "```python\n",
    "def scaffold_splitter(scaffold_series, test_size=0.2, stratify=None):\n",
    "    '''\n",
    "    Performs a Train Test splitting using Murcko Scaffolds.\n",
    "    \n",
    "    Parameters:\n",
    "    -----------\n",
    "        scaffold_series: pandas Series.\n",
    "            Series object with precomputed Murcko Scaffolds (SMILES format).\n",
    "        train_size, test_size, valid_size: float.\n",
    "            Train, Validation and Test fraction size for each subset.\n",
    "    Retunrs:\n",
    "    --------\n",
    "        train_inds, valid_inds, test_inds: array-like.\n",
    "            Arrays containing the molecule indices of the corresponding train, test subset.\n",
    "    '''\n",
    "    \n",
    "    assert test_size < 0.8, 'test_size must be a float number less than 0.8'\n",
    "    \n",
    "    train_size = 1 - test_size\n",
    "    scaffolds = {}\n",
    "    train_inds, valid_inds, test_inds = [], [], []\n",
    "    \n",
    "    if isinstance(stratify, pd.Series): \n",
    "        # Use stratify (y) to get active indices\n",
    "        actives = (stratify == 1)\n",
    "        scaffold_series_actives = scaffold_series[actives] # Keep Actives\n",
    "        scaffold_series = scaffold_series[~actives] # Keep Inactives\n",
    "        # Perform Train/Test Splitting only for actives\n",
    "        act_train_inds, act_valid_inds, act_test_inds = scaffold_splitter(\n",
    "                                              scaffold_series_actives, \n",
    "                                              test_size=test_size, stratify=None)\n",
    "        # Start filling train_inds, valid_inds, test_inds with active indices\n",
    "        train_inds, valid_inds, test_inds = act_train_inds, act_valid_inds, act_test_inds\n",
    "    \n",
    "    data_len = len(scaffold_series)\n",
    "    \n",
    "    for ind, scff in scaffold_series.items():\n",
    "        if scff not in scaffolds:\n",
    "                scaffolds[scff] = [ind]\n",
    "        else:\n",
    "            scaffolds[scff].append(ind)\n",
    "    # Sort from largest t smallest scaffold sets\n",
    "    scaffolds = {key: sorted(value) for key, value in scaffolds.items()}\n",
    "    # Scaffold sets\n",
    "    scaffold_sets = [\n",
    "        scff_set\n",
    "        for (scff, scff_set) in sorted(\n",
    "            scaffolds.items(), key=lambda x: (len(x[1]), x[1][0]), reverse=True)\n",
    "    ]\n",
    "    \n",
    "    # create Train and Test sets\n",
    "    train_cutoff = int(train_size * data_len)\n",
    "    \n",
    "    # Full Train-Test sets\n",
    "    for scff_set in scaffold_sets:\n",
    "        if len(train_inds) + len(scff_set) > train_cutoff:\n",
    "            test_inds += scff_set\n",
    "        else:\n",
    "            train_inds += scff_set\n",
    "    return train_inds, valid_inds, test_inds\n",
    " \n",
    "```"
   ]
  },
  {
   "cell_type": "code",
   "execution_count": 57,
   "metadata": {},
   "outputs": [],
   "source": [
    "# Load the function\n",
    "#*************************************************\n",
    "# Functions to compute stratify scaffold splitting\n",
    "#*************************************************\n",
    "from scaffold_splitter import train_test_scaffold_split, scaffold_splitter"
   ]
  },
  {
   "cell_type": "markdown",
   "metadata": {},
   "source": [
    "## Comparing Deepchem's *train_test_split* function against ours\n",
    "### Deepchem `ScaffoldSplitter().split()`"
   ]
  },
  {
   "cell_type": "code",
   "execution_count": 31,
   "metadata": {},
   "outputs": [
    {
     "name": "stdout",
     "output_type": "stream",
     "text": [
      "DEKOIS dataset\n",
      "******************************\n",
      "Number of molecules: 1219\n",
      "Number of actives: 39\n",
      "Train size: 975\n",
      "Test size: 244\n",
      "Number of actives in y_train: 2\n",
      "Number of actives in y_test: 37\n"
     ]
    },
    {
     "data": {
      "text/html": [
       "<div>\n",
       "<style scoped>\n",
       "    .dataframe tbody tr th:only-of-type {\n",
       "        vertical-align: middle;\n",
       "    }\n",
       "\n",
       "    .dataframe tbody tr th {\n",
       "        vertical-align: top;\n",
       "    }\n",
       "\n",
       "    .dataframe thead th {\n",
       "        text-align: right;\n",
       "    }\n",
       "</style>\n",
       "<table border=\"1\" class=\"dataframe\">\n",
       "  <thead>\n",
       "    <tr style=\"text-align: right;\">\n",
       "      <th></th>\n",
       "      <th>mol_rdk</th>\n",
       "      <th>scff_generic</th>\n",
       "      <th>scff</th>\n",
       "      <th>Activity</th>\n",
       "      <th>len_scff_gen</th>\n",
       "    </tr>\n",
       "    <tr>\n",
       "      <th>name</th>\n",
       "      <th></th>\n",
       "      <th></th>\n",
       "      <th></th>\n",
       "      <th></th>\n",
       "      <th></th>\n",
       "    </tr>\n",
       "  </thead>\n",
       "  <tbody>\n",
       "    <tr>\n",
       "      <th>ligand_20</th>\n",
       "      <td>&lt;rdkit.Chem.rdchem.Mol object at 0x7fd1148c8eb0&gt;</td>\n",
       "      <td>C1CCC(CCCCC2CCC(C3CCCCC3)CC2)CC1</td>\n",
       "      <td>c1ccc(NCCOc2ccc(-c3ccccc3)cc2)cc1</td>\n",
       "      <td>1</td>\n",
       "      <td>32</td>\n",
       "    </tr>\n",
       "    <tr>\n",
       "      <th>ligand_18</th>\n",
       "      <td>&lt;rdkit.Chem.rdchem.Mol object at 0x7fd1148c8e30&gt;</td>\n",
       "      <td>C1CCC(CC2C3CCCCC3CC2C2CCCCC2)CC1</td>\n",
       "      <td>c1ccc(Cc2c(-c3ccccc3)[nH]c3ccccc23)cc1</td>\n",
       "      <td>1</td>\n",
       "      <td>32</td>\n",
       "    </tr>\n",
       "    <tr>\n",
       "      <th>ligand_21</th>\n",
       "      <td>&lt;rdkit.Chem.rdchem.Mol object at 0x7fd1148c8ef0&gt;</td>\n",
       "      <td>C1CCC(CCCCC2CCC(CC3CCCC3)CC2)CC1</td>\n",
       "      <td>O=C(COc1ccccc1)Nc1ccc(C(=O)N2CCCC2)cc1</td>\n",
       "      <td>1</td>\n",
       "      <td>32</td>\n",
       "    </tr>\n",
       "    <tr>\n",
       "      <th>ligand_10</th>\n",
       "      <td>&lt;rdkit.Chem.rdchem.Mol object at 0x7fd1148c8c70&gt;</td>\n",
       "      <td>C1CCC(CC2CCC(CCCCC3CCCCC3)CC2)CC1</td>\n",
       "      <td>C(=C/c1ccccc1)\\CNc1ccc(OC2CCNCC2)cc1</td>\n",
       "      <td>1</td>\n",
       "      <td>33</td>\n",
       "    </tr>\n",
       "    <tr>\n",
       "      <th>ligand_16</th>\n",
       "      <td>&lt;rdkit.Chem.rdchem.Mol object at 0x7fd1148c8db0&gt;</td>\n",
       "      <td>C1CCC(CCCCCC2CCC(C3CCCCC3)CC2)CC1</td>\n",
       "      <td>O=C(NCCCc1ccccc1)c1ccc(-c2ccccc2)cc1</td>\n",
       "      <td>1</td>\n",
       "      <td>33</td>\n",
       "    </tr>\n",
       "    <tr>\n",
       "      <th>ligand_19</th>\n",
       "      <td>&lt;rdkit.Chem.rdchem.Mol object at 0x7fd1148c8e70&gt;</td>\n",
       "      <td>C1CCC(C2CCCC(C3CC4CCCCC4C3)C2)CC1</td>\n",
       "      <td>c1ccc(-c2cccc(-c3nc4ccccc4[nH]3)c2)cc1</td>\n",
       "      <td>1</td>\n",
       "      <td>33</td>\n",
       "    </tr>\n",
       "  </tbody>\n",
       "</table>\n",
       "</div>"
      ],
      "text/plain": [
       "                                                    mol_rdk  \\\n",
       "name                                                          \n",
       "ligand_20  <rdkit.Chem.rdchem.Mol object at 0x7fd1148c8eb0>   \n",
       "ligand_18  <rdkit.Chem.rdchem.Mol object at 0x7fd1148c8e30>   \n",
       "ligand_21  <rdkit.Chem.rdchem.Mol object at 0x7fd1148c8ef0>   \n",
       "ligand_10  <rdkit.Chem.rdchem.Mol object at 0x7fd1148c8c70>   \n",
       "ligand_16  <rdkit.Chem.rdchem.Mol object at 0x7fd1148c8db0>   \n",
       "ligand_19  <rdkit.Chem.rdchem.Mol object at 0x7fd1148c8e70>   \n",
       "\n",
       "                                scff_generic  \\\n",
       "name                                           \n",
       "ligand_20   C1CCC(CCCCC2CCC(C3CCCCC3)CC2)CC1   \n",
       "ligand_18   C1CCC(CC2C3CCCCC3CC2C2CCCCC2)CC1   \n",
       "ligand_21   C1CCC(CCCCC2CCC(CC3CCCC3)CC2)CC1   \n",
       "ligand_10  C1CCC(CC2CCC(CCCCC3CCCCC3)CC2)CC1   \n",
       "ligand_16  C1CCC(CCCCCC2CCC(C3CCCCC3)CC2)CC1   \n",
       "ligand_19  C1CCC(C2CCCC(C3CC4CCCCC4C3)C2)CC1   \n",
       "\n",
       "                                             scff  Activity  len_scff_gen  \n",
       "name                                                                       \n",
       "ligand_20       c1ccc(NCCOc2ccc(-c3ccccc3)cc2)cc1         1            32  \n",
       "ligand_18  c1ccc(Cc2c(-c3ccccc3)[nH]c3ccccc23)cc1         1            32  \n",
       "ligand_21  O=C(COc1ccccc1)Nc1ccc(C(=O)N2CCCC2)cc1         1            32  \n",
       "ligand_10    C(=C/c1ccccc1)\\CNc1ccc(OC2CCNCC2)cc1         1            33  \n",
       "ligand_16    O=C(NCCCc1ccccc1)c1ccc(-c2ccccc2)cc1         1            33  \n",
       "ligand_19  c1ccc(-c2cccc(-c3nc4ccccc4[nH]3)c2)cc1         1            33  "
      ]
     },
     "execution_count": 31,
     "metadata": {},
     "output_type": "execute_result"
    }
   ],
   "source": [
    "#****************************\n",
    "# Deepchem Scaffold splitting \n",
    "#****************************\n",
    "library = 'DEKOIS'\n",
    "df = df_murcko.loc[library]\n",
    "print(library + ' dataset\\n' + '*'*30)\n",
    "merged_dataset = _get_depchem_dataset(df, 'smiles')\n",
    "train_scff, _, test_scff = ScaffoldSplitter().split(merged_dataset, frac_test=0.2, frac_train=0.8, frac_valid=0)\n",
    "y_true = df['Activity']\n",
    "y_train = y_true.iloc[train_scff]\n",
    "y_test = y_true.iloc[test_scff]\n",
    "\n",
    "print('Train size:', y_train.size)\n",
    "print('Test size:', y_test.size)\n",
    "print('Number of actives in y_train:', y_train.sum())\n",
    "print('Number of actives in y_test:', y_test.sum())\n",
    "\n",
    "test_scff_deepchem = df.iloc[test_scff]\n",
    "test_scff_deepchem.query('Activity == 1').sort_values('len_scff_gen').head(6)"
   ]
  },
  {
   "cell_type": "markdown",
   "metadata": {},
   "source": [
    "### Our Splitting function `scaffold_splitter()`"
   ]
  },
  {
   "cell_type": "code",
   "execution_count": 32,
   "metadata": {},
   "outputs": [
    {
     "name": "stdout",
     "output_type": "stream",
     "text": [
      "Train size: 975\n",
      "Test size: 244\n",
      "Number of actives in y_train: 2\n",
      "Number of actives in y_test: 37\n"
     ]
    },
    {
     "data": {
      "text/html": [
       "<div>\n",
       "<style scoped>\n",
       "    .dataframe tbody tr th:only-of-type {\n",
       "        vertical-align: middle;\n",
       "    }\n",
       "\n",
       "    .dataframe tbody tr th {\n",
       "        vertical-align: top;\n",
       "    }\n",
       "\n",
       "    .dataframe thead th {\n",
       "        text-align: right;\n",
       "    }\n",
       "</style>\n",
       "<table border=\"1\" class=\"dataframe\">\n",
       "  <thead>\n",
       "    <tr style=\"text-align: right;\">\n",
       "      <th></th>\n",
       "      <th>Activity</th>\n",
       "      <th>len_scff_gen</th>\n",
       "      <th>scff_generic</th>\n",
       "      <th>scff</th>\n",
       "    </tr>\n",
       "    <tr>\n",
       "      <th>name</th>\n",
       "      <th></th>\n",
       "      <th></th>\n",
       "      <th></th>\n",
       "      <th></th>\n",
       "    </tr>\n",
       "  </thead>\n",
       "  <tbody>\n",
       "    <tr>\n",
       "      <th>ligand_20</th>\n",
       "      <td>1</td>\n",
       "      <td>32</td>\n",
       "      <td>C1CCC(CCCCC2CCC(C3CCCCC3)CC2)CC1</td>\n",
       "      <td>c1ccc(NCCOc2ccc(-c3ccccc3)cc2)cc1</td>\n",
       "    </tr>\n",
       "    <tr>\n",
       "      <th>ligand_18</th>\n",
       "      <td>1</td>\n",
       "      <td>32</td>\n",
       "      <td>C1CCC(CC2C3CCCCC3CC2C2CCCCC2)CC1</td>\n",
       "      <td>c1ccc(Cc2c(-c3ccccc3)[nH]c3ccccc23)cc1</td>\n",
       "    </tr>\n",
       "    <tr>\n",
       "      <th>ligand_21</th>\n",
       "      <td>1</td>\n",
       "      <td>32</td>\n",
       "      <td>C1CCC(CCCCC2CCC(CC3CCCC3)CC2)CC1</td>\n",
       "      <td>O=C(COc1ccccc1)Nc1ccc(C(=O)N2CCCC2)cc1</td>\n",
       "    </tr>\n",
       "    <tr>\n",
       "      <th>ligand_10</th>\n",
       "      <td>1</td>\n",
       "      <td>33</td>\n",
       "      <td>C1CCC(CC2CCC(CCCCC3CCCCC3)CC2)CC1</td>\n",
       "      <td>C(=C/c1ccccc1)\\CNc1ccc(OC2CCNCC2)cc1</td>\n",
       "    </tr>\n",
       "    <tr>\n",
       "      <th>ligand_16</th>\n",
       "      <td>1</td>\n",
       "      <td>33</td>\n",
       "      <td>C1CCC(CCCCCC2CCC(C3CCCCC3)CC2)CC1</td>\n",
       "      <td>O=C(NCCCc1ccccc1)c1ccc(-c2ccccc2)cc1</td>\n",
       "    </tr>\n",
       "    <tr>\n",
       "      <th>ligand_19</th>\n",
       "      <td>1</td>\n",
       "      <td>33</td>\n",
       "      <td>C1CCC(C2CCCC(C3CC4CCCCC4C3)C2)CC1</td>\n",
       "      <td>c1ccc(-c2cccc(-c3nc4ccccc4[nH]3)c2)cc1</td>\n",
       "    </tr>\n",
       "  </tbody>\n",
       "</table>\n",
       "</div>"
      ],
      "text/plain": [
       "           Activity  len_scff_gen                       scff_generic  \\\n",
       "name                                                                   \n",
       "ligand_20         1            32   C1CCC(CCCCC2CCC(C3CCCCC3)CC2)CC1   \n",
       "ligand_18         1            32   C1CCC(CC2C3CCCCC3CC2C2CCCCC2)CC1   \n",
       "ligand_21         1            32   C1CCC(CCCCC2CCC(CC3CCCC3)CC2)CC1   \n",
       "ligand_10         1            33  C1CCC(CC2CCC(CCCCC3CCCCC3)CC2)CC1   \n",
       "ligand_16         1            33  C1CCC(CCCCCC2CCC(C3CCCCC3)CC2)CC1   \n",
       "ligand_19         1            33  C1CCC(C2CCCC(C3CC4CCCCC4C3)C2)CC1   \n",
       "\n",
       "                                             scff  \n",
       "name                                               \n",
       "ligand_20       c1ccc(NCCOc2ccc(-c3ccccc3)cc2)cc1  \n",
       "ligand_18  c1ccc(Cc2c(-c3ccccc3)[nH]c3ccccc23)cc1  \n",
       "ligand_21  O=C(COc1ccccc1)Nc1ccc(C(=O)N2CCCC2)cc1  \n",
       "ligand_10    C(=C/c1ccccc1)\\CNc1ccc(OC2CCNCC2)cc1  \n",
       "ligand_16    O=C(NCCCc1ccccc1)c1ccc(-c2ccccc2)cc1  \n",
       "ligand_19  c1ccc(-c2cccc(-c3nc4ccccc4[nH]3)c2)cc1  "
      ]
     },
     "execution_count": 32,
     "metadata": {},
     "output_type": "execute_result"
    }
   ],
   "source": [
    "library = 'DEKOIS'\n",
    "df = df_murcko.loc[library, ['Activity', 'len_scff_gen', 'scff_generic', 'scff']].copy().reset_index()\n",
    "train_scff, _, test_scff = scaffold_splitter(df['scff'],  test_size=0.2)\n",
    "y_true = df['Activity']\n",
    "y_train = y_true.iloc[train_scff]\n",
    "y_test = y_true.iloc[test_scff]\n",
    "\n",
    "print('Train size:', y_train.size)\n",
    "print('Test size:', y_test.size)\n",
    "print('Number of actives in y_train:', y_train.sum())\n",
    "print('Number of actives in y_test:', y_test.sum())\n",
    "\n",
    "test_scff_ = df.iloc[test_scff]\n",
    "test_scff_.query('Activity == 1').set_index('name').sort_values('len_scff_gen').head(6)"
   ]
  },
  {
   "cell_type": "markdown",
   "metadata": {},
   "source": [
    "### Our Splitting function `scaffold_splitter()` with a proportional number of actives between Train and Test sets"
   ]
  },
  {
   "cell_type": "code",
   "execution_count": 33,
   "metadata": {},
   "outputs": [
    {
     "name": "stdout",
     "output_type": "stream",
     "text": [
      "Train size: 944\n",
      "Test size: 275\n",
      "Number of actives in y_train: 31\n",
      "Number of actives in y_test: 8\n"
     ]
    },
    {
     "data": {
      "text/html": [
       "<div>\n",
       "<style scoped>\n",
       "    .dataframe tbody tr th:only-of-type {\n",
       "        vertical-align: middle;\n",
       "    }\n",
       "\n",
       "    .dataframe tbody tr th {\n",
       "        vertical-align: top;\n",
       "    }\n",
       "\n",
       "    .dataframe thead th {\n",
       "        text-align: right;\n",
       "    }\n",
       "</style>\n",
       "<table border=\"1\" class=\"dataframe\">\n",
       "  <thead>\n",
       "    <tr style=\"text-align: right;\">\n",
       "      <th></th>\n",
       "      <th>Activity</th>\n",
       "      <th>len_scff_gen</th>\n",
       "      <th>scff_generic</th>\n",
       "      <th>scff</th>\n",
       "    </tr>\n",
       "    <tr>\n",
       "      <th>name</th>\n",
       "      <th></th>\n",
       "      <th></th>\n",
       "      <th></th>\n",
       "      <th></th>\n",
       "    </tr>\n",
       "  </thead>\n",
       "  <tbody>\n",
       "    <tr>\n",
       "      <th>ligand_4</th>\n",
       "      <td>1</td>\n",
       "      <td>37</td>\n",
       "      <td>C1CCC(C2CCC(CCC3CCCC3C3CCCCC3)CC2)CC1</td>\n",
       "      <td>O=C(Nc1ccc(-c2ccccc2)cc1)c1ccnn1-c1ccccc1</td>\n",
       "    </tr>\n",
       "    <tr>\n",
       "      <th>ligand_1</th>\n",
       "      <td>1</td>\n",
       "      <td>37</td>\n",
       "      <td>C1CCC(C2CCC(CCC3CCCC3C3CCCCC3)CC2)CC1</td>\n",
       "      <td>O=C(Nc1ncc(-c2ccccc2)cn1)c1ccnn1-c1ccccc1</td>\n",
       "    </tr>\n",
       "    <tr>\n",
       "      <th>ligand_7</th>\n",
       "      <td>1</td>\n",
       "      <td>40</td>\n",
       "      <td>C(CCCC(CCCC1CCCCC1)CCC1CCCCC1)CCC1CCCCC1</td>\n",
       "      <td>O=C(CNC(=O)[C@@H](CCc1cccc[nH+]1)NS(=O)(=O)Cc1...</td>\n",
       "    </tr>\n",
       "    <tr>\n",
       "      <th>ligand_5</th>\n",
       "      <td>1</td>\n",
       "      <td>40</td>\n",
       "      <td>C1CCC(C2CCC3CCC(C4CCC(C5CC5)CC4)CC32)CC1</td>\n",
       "      <td>O=C1c2c(cnn2-c2ccccc2)CCN1c1ccc(C2CC2)cc1</td>\n",
       "    </tr>\n",
       "    <tr>\n",
       "      <th>ligand_2</th>\n",
       "      <td>1</td>\n",
       "      <td>40</td>\n",
       "      <td>C1CCC(CCC2CCCCC2CCC2CCC(CCC3CCCC3)C2)CC1</td>\n",
       "      <td>O=C(Nc1ccccc1C(=O)Nc1ccccn1)c1cc(CNC2=[NH+]CCC...</td>\n",
       "    </tr>\n",
       "    <tr>\n",
       "      <th>ligand_6</th>\n",
       "      <td>1</td>\n",
       "      <td>41</td>\n",
       "      <td>C1CCC(CC2CCC3CCC(CC4CCC5CCCCC5C4)C3C2)CC1</td>\n",
       "      <td>c1ccc2cc(Cn3cnc4ccc(OC5CCNCC5)cc43)ccc2c1</td>\n",
       "    </tr>\n",
       "  </tbody>\n",
       "</table>\n",
       "</div>"
      ],
      "text/plain": [
       "          Activity  len_scff_gen                               scff_generic  \\\n",
       "name                                                                          \n",
       "ligand_4         1            37      C1CCC(C2CCC(CCC3CCCC3C3CCCCC3)CC2)CC1   \n",
       "ligand_1         1            37      C1CCC(C2CCC(CCC3CCCC3C3CCCCC3)CC2)CC1   \n",
       "ligand_7         1            40   C(CCCC(CCCC1CCCCC1)CCC1CCCCC1)CCC1CCCCC1   \n",
       "ligand_5         1            40   C1CCC(C2CCC3CCC(C4CCC(C5CC5)CC4)CC32)CC1   \n",
       "ligand_2         1            40   C1CCC(CCC2CCCCC2CCC2CCC(CCC3CCCC3)C2)CC1   \n",
       "ligand_6         1            41  C1CCC(CC2CCC3CCC(CC4CCC5CCCCC5C4)C3C2)CC1   \n",
       "\n",
       "                                                       scff  \n",
       "name                                                         \n",
       "ligand_4          O=C(Nc1ccc(-c2ccccc2)cc1)c1ccnn1-c1ccccc1  \n",
       "ligand_1          O=C(Nc1ncc(-c2ccccc2)cn1)c1ccnn1-c1ccccc1  \n",
       "ligand_7  O=C(CNC(=O)[C@@H](CCc1cccc[nH+]1)NS(=O)(=O)Cc1...  \n",
       "ligand_5          O=C1c2c(cnn2-c2ccccc2)CCN1c1ccc(C2CC2)cc1  \n",
       "ligand_2  O=C(Nc1ccccc1C(=O)Nc1ccccn1)c1cc(CNC2=[NH+]CCC...  \n",
       "ligand_6          c1ccc2cc(Cn3cnc4ccc(OC5CCNCC5)cc43)ccc2c1  "
      ]
     },
     "execution_count": 33,
     "metadata": {},
     "output_type": "execute_result"
    }
   ],
   "source": [
    "library = 'DEKOIS'\n",
    "df = df_murcko.loc[library, ['Activity', 'len_scff_gen', 'scff_generic', 'scff']].copy().reset_index()\n",
    "y_true = df['Activity']\n",
    "train_scff, _, test_scff = scaffold_splitter(df['scff'], stratify=y_true,  test_size=0.2)\n",
    "y_train = y_true.iloc[train_scff]\n",
    "y_test = y_true.iloc[test_scff]\n",
    "\n",
    "print('Train size:', y_train.size)\n",
    "print('Test size:', y_test.size)\n",
    "print('Number of actives in y_train:', y_train.sum())\n",
    "print('Number of actives in y_test:', y_test.sum())\n",
    "\n",
    "test_scff_ = df.iloc[test_scff]\n",
    "test_scff_.query('Activity == 1').set_index('name').sort_values('len_scff_gen').head(6)"
   ]
  }
 ],
 "metadata": {
  "kernelspec": {
   "display_name": "Python 3.7.3 64-bit ('base': conda)",
   "language": "python",
   "name": "python37364bitbaseconda58a8361dca6d46b7b8a5a859db32e4dd"
  },
  "language_info": {
   "codemirror_mode": {
    "name": "ipython",
    "version": 3
   },
   "file_extension": ".py",
   "mimetype": "text/x-python",
   "name": "python",
   "nbconvert_exporter": "python",
   "pygments_lexer": "ipython3",
   "version": "3.7.4"
  }
 },
 "nbformat": 4,
 "nbformat_minor": 4
}
