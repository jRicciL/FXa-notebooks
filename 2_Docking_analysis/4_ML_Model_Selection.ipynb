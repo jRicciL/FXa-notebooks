{
 "cells": [
  {
   "cell_type": "markdown",
   "metadata": {},
   "source": [
    "# Model Selection"
   ]
  },
  {
   "cell_type": "code",
   "execution_count": 1,
   "metadata": {},
   "outputs": [],
   "source": [
    "import pandas as pd\n",
    "import numpy as np\n",
    "import glob, sys, os\n",
    "sys.path.append('..')"
   ]
  },
  {
   "cell_type": "code",
   "execution_count": 2,
   "metadata": {},
   "outputs": [],
   "source": [
    "from modules.plotting_metrics import PlotMetric\n",
    "import matplotlib.pyplot as plt\n",
    "import seaborn as sns\n",
    "sns.set(style='white', context='talk', font_scale=0.8)"
   ]
  },
  {
   "cell_type": "code",
   "execution_count": 3,
   "metadata": {},
   "outputs": [],
   "source": [
    "## Run the helper fucntions form the local CDK2 directory\n",
    "# %run ./helper_1_load_data.ipynb"
   ]
  },
  {
   "cell_type": "code",
   "execution_count": 4,
   "metadata": {},
   "outputs": [],
   "source": [
    "# Helper fucntion to train and test\n",
    "# %run ./helper_functions_S6.ipynb"
   ]
  },
  {
   "cell_type": "code",
   "execution_count": 5,
   "metadata": {},
   "outputs": [
    {
     "data": {
      "text/plain": [
       "(5839, 136)"
      ]
     },
     "execution_count": 5,
     "metadata": {},
     "output_type": "execute_result"
    }
   ],
   "source": [
    "file_name = './df_DkSc_results_COCRYS_DEKOIS_DUD.pkl'\n",
    "X_merged_dksc = pd.read_pickle(file_name)\n",
    "# Extract activity column\n",
    "y_true_merged = X_merged_dksc['activity']\n",
    "# Drop column from merged_dkksc\n",
    "X_merged_dksc = X_merged_dksc.drop('activity', axis=1)\n",
    "X_merged_dksc.shape"
   ]
  },
  {
   "cell_type": "markdown",
   "metadata": {},
   "source": [
    "### Timeout Decorator"
   ]
  },
  {
   "cell_type": "code",
   "execution_count": 6,
   "metadata": {},
   "outputs": [],
   "source": [
    "import signal\n",
    "from functools import wraps\n",
    "\n",
    "def timeout(n_seconds=7*60):\n",
    "    '''Stops a function execution after n seconds'''\n",
    "    def decorator(func):\n",
    "        @wraps(func)\n",
    "        def wrapper(*args, **kwargs):\n",
    "            # Set alarm for n seconds\n",
    "            signal.alarm(n_seconds)\n",
    "            try:\n",
    "                # Call decorated func\n",
    "                return func(*args, **kwargs)\n",
    "            except TimeoutError as e:\n",
    "                print(f'Execution finished after {n_seconds}:', e)\n",
    "            finally:\n",
    "                # Cancel Alarm\n",
    "                signal.alarm(0)\n",
    "        return wrapper\n",
    "    return decorator"
   ]
  },
  {
   "cell_type": "markdown",
   "metadata": {},
   "source": [
    "## Scaffold Splitting"
   ]
  },
  {
   "cell_type": "code",
   "execution_count": 7,
   "metadata": {},
   "outputs": [],
   "source": [
    "#*************************************************\n",
    "# Functions to compute stratify scaffold splitting\n",
    "#*************************************************\n",
    "from scaffold_splitter import train_test_scaffold_split"
   ]
  },
  {
   "cell_type": "code",
   "execution_count": 8,
   "metadata": {},
   "outputs": [
    {
     "name": "stdout",
     "output_type": "stream",
     "text": [
      "CPU times: user 367 ms, sys: 360 ms, total: 726 ms\n",
      "Wall time: 724 ms\n"
     ]
    }
   ],
   "source": [
    "%%time\n",
    "# Compute or load the dataframe containing the Generic Murcko Scaffolds\n",
    "file = './df_COCRYS_DUD_DEKOIS_Murcko_Scaffolds_SMILES.pkl'\n",
    "\n",
    "df_scff_murcko = pd.read_pickle(file)"
   ]
  },
  {
   "cell_type": "markdown",
   "metadata": {},
   "source": [
    "## Train/test on the same dataset "
   ]
  },
  {
   "cell_type": "markdown",
   "metadata": {},
   "source": [
    "### Learning Curves"
   ]
  },
  {
   "cell_type": "code",
   "execution_count": 9,
   "metadata": {},
   "outputs": [],
   "source": [
    "from sklearn.model_selection import GridSearchCV, train_test_split, cross_val_score\n",
    "from sklearn.preprocessing import StandardScaler\n",
    "from sklearn.metrics import roc_auc_score\n",
    "from sklearn.pipeline import Pipeline\n",
    "from sklearn.model_selection import learning_curve"
   ]
  },
  {
   "cell_type": "code",
   "execution_count": 10,
   "metadata": {},
   "outputs": [],
   "source": [
    "def plot_learning_curves(estimator, X, y, title, ylim=[0.5,1], axes=None,\n",
    "                         cv=3, train_sizes=np.linspace(0.1, 1.0, 10), \n",
    "                         scoring='roc_auc', n_jobs=4):\n",
    "    '''\n",
    "    Plot estimator performance on the training and validation\n",
    "    sets as a function of the training set size.\n",
    "\n",
    "    Parameters\n",
    "    ----------\n",
    "    estimator: sklearn estimator object type\n",
    "       Object type that implements the \"fit\" and \"predict method\"\n",
    "\n",
    "    X: array-like, shape (m_samples, n_features)\n",
    "        Training array with m_samples and n_features.\n",
    "    y: array-like, shape (m_samples)\n",
    "        Target array relative to X with m labels.\n",
    "    axes: array of 3 axes\n",
    "        matplotlib axes array to append the generated plot\n",
    "    ylim: array\n",
    "       \n",
    "    '''\n",
    "    if axes == None:\n",
    "        _, axes = plt.subplots(1, 1, figsize=(5, 5))\n",
    "        \n",
    "    axes.set(title=title, ylim=ylim, xlabel='Training examples', ylabel=f'Metric: {scoring}')\n",
    "    # Use learning_curve function from sklearn\n",
    "    train_sizes, train_scores, test_scores, fit_times, _ = \\\n",
    "       learning_curve(estimator, X, y, scoring=scoring, return_times = True,\n",
    "                      cv=cv, n_jobs=n_jobs, train_sizes=train_sizes)\n",
    "    # Compute useful metrics\n",
    "    train_scores_mean = np.mean(train_scores, axis=1)\n",
    "    train_scores_std = np.std(train_scores, axis=1)\n",
    "    test_scores_mean = np.mean(test_scores, axis=1)\n",
    "    test_scores_std = np.std(test_scores, axis=1)\n",
    "#     fit_times_mean = np.mean(fit_times, axis=1)\n",
    "#     fit_times_std = np.std(fit_times, axis=1)\n",
    "    # Plot the learning curve\n",
    "    axes.grid()\n",
    "    axes.fill_between(train_sizes, train_scores_mean - train_scores_std,\n",
    "                        train_scores_mean + train_scores_std, alpha=0.1, color='r')\n",
    "    axes.fill_between(train_sizes, test_scores_mean - test_scores_std,\n",
    "                        test_scores_mean + test_scores_std, alpha=0.1, color='g')\n",
    "    axes.plot(train_sizes, train_scores_mean, 'o-', color='r',\n",
    "                label='Train score')\n",
    "    axes.plot(train_sizes, test_scores_mean, 'o-', color='g',\n",
    "                label='Cross-validation score')\n",
    "    axes.legend(loc='lower right')\n",
    "    "
   ]
  },
  {
   "cell_type": "markdown",
   "metadata": {},
   "source": [
    "### Hyperparameters tunning: Grid Search"
   ]
  },
  {
   "cell_type": "code",
   "execution_count": 11,
   "metadata": {},
   "outputs": [],
   "source": [
    "@timeout(300) #Finish execution after 5 mins\n",
    "def run_grid_search(estimator, X_train, y_train, X_test, y_test, hyperparams,  cv_value=5, \n",
    "                    scoring='roc_auc', splitting='random'):\n",
    "\n",
    "    # Format the hyperparms\n",
    "    hyperparams_dict = {'estimator__' + key: val for key, val in hyperparams.items()}\n",
    "\n",
    "    # Create the Pipe\n",
    "    scaler = StandardScaler()\n",
    "    pipe = Pipeline([('scaler', scaler),\n",
    "                     ('estimator', estimator)])\n",
    "\n",
    "    gs = GridSearchCV(estimator = pipe, param_grid = hyperparams_dict,\n",
    "                     cv = cv_value, scoring = scoring, n_jobs = 6, refit = True)\n",
    "                    # refit=True means to train the final model using the whole training set\n",
    "\n",
    "    # Train the model\n",
    "    gs.fit(X_train, y_train) \n",
    "\n",
    "    # Predictions\n",
    "    y_train_predict = gs.predict_proba(X_train)\n",
    "    y_test_predict = gs.predict_proba(X_test)\n",
    "\n",
    "    # Print some values\n",
    "    print(f'No. of molecules in train set: {y_train.shape[0]}, with {y_train.sum()} actives.')\n",
    "    print(f'No. of molecules in test set: {y_test.shape[0]}, with {y_test.sum()} actives.')\n",
    "    print('')\n",
    "    print('*'*10, 'GRID SEARCH RESULTS', '*'*10)\n",
    "    print('- Mean CV ROC-AUC score: {:.3f}'.format(gs.best_score_))\n",
    "    print('- Train ROC-AUC: {:.3f}'.format(roc_auc_score(y_train, y_train_predict[:, 1])))\n",
    "    print('- Test ROC-AUC: {:.3f}'.format(roc_auc_score(y_test, y_test_predict[:, 1])))\n",
    "    print('- Best hyperparameters', gs.best_params_)\n",
    "    print('**'*21)\n",
    "    print('')"
   ]
  },
  {
   "cell_type": "code",
   "execution_count": 12,
   "metadata": {},
   "outputs": [],
   "source": [
    "def run_cross_val_bias_var_tradeoff(estimator, X_train, y_train, X_test, y_test, cv_value=5, scoring='roc_auc',\n",
    "                                   score_type='Dk_sc', pred_prob = True):\n",
    "    \n",
    "    # Print some values\n",
    "    print(f'No. of molecules in train set: {y_train.shape[0]}, with {y_train.sum()} actives.')\n",
    "    print(f'No. of molecules in test set: {y_test.shape[0]}, with {y_test.sum()} actives.')\n",
    "\n",
    "    # Scaler\n",
    "    scaler = StandardScaler()\n",
    "\n",
    "    # Set the pipe\n",
    "    pipe = Pipeline([('scaler', scaler), ('estimator', estimator)])\n",
    "\n",
    "    # Set the CV score\n",
    "    roc_cv = cross_val_score(pipe, X_train, y_train, cv=cv_value, scoring=scoring, n_jobs= -1)\n",
    "\n",
    "    pipe.fit(X_train, y_train)\n",
    "    \n",
    "    if pred_prob:\n",
    "        # Predict proba\n",
    "        y_predict_train = pipe.predict_proba(X_train)\n",
    "        y_predict_test = pipe.predict_proba(X_test)\n",
    "    else:\n",
    "        y_predict_train = pipe.predict(X_train)\n",
    "        y_predict_test = pipe.predict(X_test)\n",
    "\n",
    "    # CV Mean ROC-AUC\n",
    "    print('CV={} ROC-AUC: {:.4f}'.format(cv_value, roc_cv.mean()))\n",
    "\n",
    "    # Training ROC-AUC:\n",
    "    print('Train ROC-AUC: {:.4f}'.format(roc_auc_score(y_train, y_predict_train[:, 1])))\n",
    "\n",
    "    # Test ROC-AUC:\n",
    "    print('Test ROC-AUC: {:.4f}'.format(roc_auc_score(y_test, y_predict_test[:, 1])))"
   ]
  },
  {
   "cell_type": "markdown",
   "metadata": {},
   "source": [
    "### Function to report the Best Conformation's ROC-AUC for a given subset of samples"
   ]
  },
  {
   "cell_type": "code",
   "execution_count": 13,
   "metadata": {},
   "outputs": [],
   "source": [
    "#************************************************************************\n",
    "# Returns the best conformatio's ROC-AUC value of a given subset X and y\n",
    "#************************************************************************\n",
    "def _get_best_conf_roc_auc(X_train, y_train, X_test, y_test, verbose=True):\n",
    "    best_roc_auc_train = X_train.apply(\n",
    "        lambda x: roc_auc_score(y_true= y_train, y_score= -x), axis=0)\n",
    "    best_roc_auc_test = X_test.apply(\n",
    "        lambda x: roc_auc_score(y_true= y_test, y_score= -x), axis=0)\n",
    "    if verbose:\n",
    "        print('--'*30)\n",
    "        print(\"**** Best Conformation's ROC-AUC using docking scores ****\")\n",
    "        print(f\"> Train best conf. ROC-AUC: {round(best_roc_auc_train.max(), 3)}\" +\n",
    "              f\" \\t> Median ROC-AUC: {round(best_roc_auc_train.median(), 3)}\")\n",
    "        print(f\"> Test best conf. ROC-AUC: {round(best_roc_auc_test.max(), 3)}\" +\n",
    "              f\" \\t> Median ROC-AUC: {round(best_roc_auc_test.median(), 3)}\")\n",
    "        print('--'*30)\n",
    "        \n",
    "        \n",
    "def split_and_gs(X, y, estimator, hyperparams, splitting='random', \n",
    "                 test_size=0.25, scaffold_series=None):\n",
    "    if splitting == 'scaffold':\n",
    "        X_train, X_test, y_train, y_test = \\\n",
    "            train_test_scaffold_split(X, y, scaffold_series = scaffold_series,\n",
    "                test_size=test_size, stratify=y)\n",
    "    elif splitting == 'random':\n",
    "        X_train, X_test, y_train, y_test = \\\n",
    "            train_test_split(X, y, test_size=test_size, stratify=y)\n",
    "\n",
    "    run_grid_search(estimator, \n",
    "                    X_train, y_train, X_test, y_test, \n",
    "                    hyperparams = hyperparams)\n",
    "\n",
    "    _get_best_conf_roc_auc(X_train, y_train, X_test, y_test)"
   ]
  },
  {
   "cell_type": "markdown",
   "metadata": {},
   "source": [
    "##  Grid Search\n",
    "### Hyperparameter Tunning\n",
    "#### DEKOIS Library"
   ]
  },
  {
   "cell_type": "code",
   "execution_count": 14,
   "metadata": {},
   "outputs": [],
   "source": [
    "#### library = 'DEKOIS'\n",
    "library = 'DEKOIS'\n",
    "\n",
    "# Train and test over DEKOIS\n",
    "X = X_merged_dksc.loc[library]\n",
    "y = y_true_merged.loc[library]\n",
    "scaffold_series = df_scff_murcko['scff_generic'].loc[library]"
   ]
  },
  {
   "cell_type": "markdown",
   "metadata": {
    "cell_style": "center"
   },
   "source": [
    "### GS: Linear SVM \n",
    "#### DEKOIS database - Random and Stratified Scaffold Splitting"
   ]
  },
  {
   "cell_type": "code",
   "execution_count": 15,
   "metadata": {
    "cell_style": "split"
   },
   "outputs": [
    {
     "name": "stdout",
     "output_type": "stream",
     "text": [
      "No. of molecules in train set: 914, with 29 actives.\n",
      "No. of molecules in test set: 305, with 10 actives.\n",
      "\n",
      "********** GRID SEARCH RESULTS **********\n",
      "- Mean CV ROC-AUC score: 0.881\n",
      "- Train ROC-AUC: 0.893\n",
      "- Test ROC-AUC: 0.875\n",
      "- Best hyperparameters {'estimator__C': 1e-12}\n",
      "******************************************\n",
      "\n",
      "------------------------------------------------------------\n",
      "**** Best Conformation's ROC-AUC using docking scores ****\n",
      "> Train best conf. ROC-AUC: 0.894 \t> Median ROC-AUC: 0.839\n",
      "> Test best conf. ROC-AUC: 0.942 \t> Median ROC-AUC: 0.82\n",
      "------------------------------------------------------------\n",
      "CPU times: user 628 ms, sys: 298 ms, total: 927 ms\n",
      "Wall time: 2.16 s\n"
     ]
    }
   ],
   "source": [
    "%%time\n",
    "from sklearn.svm import SVC\n",
    "estimator = SVC(kernel = 'linear', probability=True)\n",
    "hyperparams = {'C': np.geomspace(1e-15, 1e-6, 4)}\n",
    "\n",
    "# RANDOM Train test splitting\n",
    "split_and_gs(X, y, estimator, hyperparams, \n",
    "             splitting='random', test_size=0.25, \n",
    "             scaffold_series=None)"
   ]
  },
  {
   "cell_type": "code",
   "execution_count": 16,
   "metadata": {
    "cell_style": "split"
   },
   "outputs": [
    {
     "name": "stdout",
     "output_type": "stream",
     "text": [
      "No. of molecules in train set: 885, with 29 actives.\n",
      "No. of molecules in test set: 334, with 10 actives.\n",
      "\n",
      "********** GRID SEARCH RESULTS **********\n",
      "- Mean CV ROC-AUC score: 0.858\n",
      "- Train ROC-AUC: 0.867\n",
      "- Test ROC-AUC: 0.956\n",
      "- Best hyperparameters {'estimator__C': 1e-12}\n",
      "******************************************\n",
      "\n",
      "------------------------------------------------------------\n",
      "**** Best Conformation's ROC-AUC using docking scores ****\n",
      "> Train best conf. ROC-AUC: 0.879 \t> Median ROC-AUC: 0.81\n",
      "> Test best conf. ROC-AUC: 0.968 \t> Median ROC-AUC: 0.898\n",
      "------------------------------------------------------------\n",
      "CPU times: user 545 ms, sys: 76.1 ms, total: 621 ms\n",
      "Wall time: 693 ms\n"
     ]
    }
   ],
   "source": [
    "%%time\n",
    "# from sklearn.svm import SVC\n",
    "estimator = SVC(kernel = 'linear', probability=True)\n",
    "hyperparams = {'C': np.geomspace(1e-15, 1e-6, 4)}\n",
    "\n",
    "# SCAFFOLD Train test splitting\n",
    "split_and_gs(X, y, estimator, hyperparams, \n",
    "             splitting='scaffold', test_size=0.25, \n",
    "             scaffold_series=scaffold_series)"
   ]
  },
  {
   "cell_type": "markdown",
   "metadata": {},
   "source": [
    "### GS: Radial Basis Function SVM\n",
    "#### DEKOIS database - Random and Stratified Scaffold Splitting"
   ]
  },
  {
   "cell_type": "code",
   "execution_count": 17,
   "metadata": {
    "cell_style": "split"
   },
   "outputs": [
    {
     "name": "stdout",
     "output_type": "stream",
     "text": [
      "No. of molecules in train set: 914, with 29 actives.\n",
      "No. of molecules in test set: 305, with 10 actives.\n",
      "\n",
      "********** GRID SEARCH RESULTS **********\n",
      "- Mean CV ROC-AUC score: 0.887\n",
      "- Train ROC-AUC: 0.902\n",
      "- Test ROC-AUC: 0.866\n",
      "- Best hyperparameters {'estimator__C': 1e-08, 'estimator__gamma': 0.0001}\n",
      "******************************************\n",
      "\n",
      "------------------------------------------------------------\n",
      "**** Best Conformation's ROC-AUC using docking scores ****\n",
      "> Train best conf. ROC-AUC: 0.906 \t> Median ROC-AUC: 0.839\n",
      "> Test best conf. ROC-AUC: 0.896 \t> Median ROC-AUC: 0.816\n",
      "------------------------------------------------------------\n",
      "CPU times: user 871 ms, sys: 134 ms, total: 1 s\n",
      "Wall time: 2.05 s\n"
     ]
    }
   ],
   "source": [
    "%%time\n",
    "estimator = SVC(kernel = 'rbf', probability=True)\n",
    "\n",
    "hyperparams = {'C': np.geomspace(1e-8, 1e-2, 4), \n",
    "               'gamma': np.geomspace(1e-6, 1e0, 4)}\n",
    "\n",
    "# RANDOM Train test splitting\n",
    "split_and_gs(X, y, estimator, hyperparams, \n",
    "             splitting='random', test_size=0.25, \n",
    "             scaffold_series=None)"
   ]
  },
  {
   "cell_type": "code",
   "execution_count": 18,
   "metadata": {
    "cell_style": "split"
   },
   "outputs": [
    {
     "name": "stdout",
     "output_type": "stream",
     "text": [
      "No. of molecules in train set: 885, with 29 actives.\n",
      "No. of molecules in test set: 334, with 10 actives.\n",
      "\n",
      "********** GRID SEARCH RESULTS **********\n",
      "- Mean CV ROC-AUC score: 0.853\n",
      "- Train ROC-AUC: 0.867\n",
      "- Test ROC-AUC: 0.956\n",
      "- Best hyperparameters {'estimator__C': 1e-08, 'estimator__gamma': 1e-06}\n",
      "******************************************\n",
      "\n",
      "------------------------------------------------------------\n",
      "**** Best Conformation's ROC-AUC using docking scores ****\n",
      "> Train best conf. ROC-AUC: 0.879 \t> Median ROC-AUC: 0.81\n",
      "> Test best conf. ROC-AUC: 0.968 \t> Median ROC-AUC: 0.898\n",
      "------------------------------------------------------------\n",
      "CPU times: user 838 ms, sys: 132 ms, total: 970 ms\n",
      "Wall time: 1.91 s\n"
     ]
    }
   ],
   "source": [
    "%%time\n",
    "estimator = SVC(kernel = 'rbf', probability=True)\n",
    "\n",
    "hyperparams = {'C': np.geomspace(1e-8, 1e-2, 4), \n",
    "               'gamma': np.geomspace(1e-6, 1e0, 4)}\n",
    "\n",
    "# SCAFFOLD Train test splitting\n",
    "split_and_gs(X, y, estimator, hyperparams, \n",
    "             splitting='scaffold', test_size=0.25, \n",
    "             scaffold_series=scaffold_series)"
   ]
  },
  {
   "cell_type": "markdown",
   "metadata": {},
   "source": [
    "### GS: Logistic Regession \n",
    "#### DEKOIS database - Random and Stratified Scaffold Splitting"
   ]
  },
  {
   "cell_type": "code",
   "execution_count": 19,
   "metadata": {
    "cell_style": "split"
   },
   "outputs": [
    {
     "name": "stdout",
     "output_type": "stream",
     "text": [
      "No. of molecules in train set: 914, with 29 actives.\n",
      "No. of molecules in test set: 305, with 10 actives.\n",
      "\n",
      "********** GRID SEARCH RESULTS **********\n",
      "- Mean CV ROC-AUC score: 0.882\n",
      "- Train ROC-AUC: 0.983\n",
      "- Test ROC-AUC: 0.916\n",
      "- Best hyperparameters {'estimator__C': 0.1, 'estimator__penalty': 'l2', 'estimator__solver': 'liblinear'}\n",
      "******************************************\n",
      "\n",
      "------------------------------------------------------------\n",
      "**** Best Conformation's ROC-AUC using docking scores ****\n",
      "> Train best conf. ROC-AUC: 0.885 \t> Median ROC-AUC: 0.809\n",
      "> Test best conf. ROC-AUC: 0.959 \t> Median ROC-AUC: 0.895\n",
      "------------------------------------------------------------\n",
      "CPU times: user 1.05 s, sys: 540 ms, total: 1.59 s\n",
      "Wall time: 1.45 s\n"
     ]
    }
   ],
   "source": [
    "%%time\n",
    "from sklearn.linear_model import LogisticRegression\n",
    "estimator = LogisticRegression()\n",
    "\n",
    "hyperparams = {'C': [0.00001, 0.0001, 0.001, 0.01, 0.1], \n",
    "               'penalty': ['l1', 'l2'], \n",
    "               'solver': ['lbfgs', 'liblinear']}\n",
    "\n",
    "# RANDOM Train test splitting\n",
    "split_and_gs(X, y, estimator, hyperparams, \n",
    "             splitting='random', test_size=0.25, \n",
    "             scaffold_series=None)"
   ]
  },
  {
   "cell_type": "code",
   "execution_count": 20,
   "metadata": {
    "cell_style": "split"
   },
   "outputs": [
    {
     "name": "stdout",
     "output_type": "stream",
     "text": [
      "No. of molecules in train set: 885, with 29 actives.\n",
      "No. of molecules in test set: 334, with 10 actives.\n",
      "\n",
      "********** GRID SEARCH RESULTS **********\n",
      "- Mean CV ROC-AUC score: 0.862\n",
      "- Train ROC-AUC: 0.868\n",
      "- Test ROC-AUC: 0.958\n",
      "- Best hyperparameters {'estimator__C': 0.0001, 'estimator__penalty': 'l2', 'estimator__solver': 'liblinear'}\n",
      "******************************************\n",
      "\n",
      "------------------------------------------------------------\n",
      "**** Best Conformation's ROC-AUC using docking scores ****\n",
      "> Train best conf. ROC-AUC: 0.879 \t> Median ROC-AUC: 0.81\n",
      "> Test best conf. ROC-AUC: 0.968 \t> Median ROC-AUC: 0.898\n",
      "------------------------------------------------------------\n",
      "CPU times: user 1.11 s, sys: 539 ms, total: 1.64 s\n",
      "Wall time: 1.22 s\n"
     ]
    }
   ],
   "source": [
    "%%time\n",
    "# from sklearn.linear_model import LogisticRegression\n",
    "estimator = LogisticRegression()\n",
    "\n",
    "hyperparams = {'C': [0.00001, 0.0001, 0.001, 0.01, 0.1], \n",
    "               'penalty': ['l1', 'l2'], \n",
    "               'solver': ['lbfgs', 'liblinear']}\n",
    "\n",
    "# SCAFFOLD Train test splitting\n",
    "split_and_gs(X, y, estimator, hyperparams, \n",
    "             splitting='scaffold', test_size=0.25, \n",
    "             scaffold_series=scaffold_series)"
   ]
  },
  {
   "cell_type": "markdown",
   "metadata": {},
   "source": [
    "### GS: K-Neighbors Classifier\n",
    "#### DEKOIS database - Random and Stratified Scaffold Splitting"
   ]
  },
  {
   "cell_type": "code",
   "execution_count": 21,
   "metadata": {
    "cell_style": "split"
   },
   "outputs": [
    {
     "name": "stdout",
     "output_type": "stream",
     "text": [
      "No. of molecules in train set: 914, with 29 actives.\n",
      "No. of molecules in test set: 305, with 10 actives.\n",
      "\n",
      "********** GRID SEARCH RESULTS **********\n",
      "- Mean CV ROC-AUC score: 0.885\n",
      "- Train ROC-AUC: 0.890\n",
      "- Test ROC-AUC: 0.872\n",
      "- Best hyperparameters {'estimator__n_neighbors': 225, 'estimator__p': 2}\n",
      "******************************************\n",
      "\n",
      "------------------------------------------------------------\n",
      "**** Best Conformation's ROC-AUC using docking scores ****\n",
      "> Train best conf. ROC-AUC: 0.902 \t> Median ROC-AUC: 0.837\n",
      "> Test best conf. ROC-AUC: 0.92 \t> Median ROC-AUC: 0.829\n",
      "------------------------------------------------------------\n",
      "CPU times: user 888 ms, sys: 134 ms, total: 1.02 s\n",
      "Wall time: 1.94 s\n"
     ]
    }
   ],
   "source": [
    "%%time\n",
    "from sklearn.neighbors import KNeighborsClassifier \n",
    "estimator = KNeighborsClassifier()\n",
    "\n",
    "hyperparams = {'n_neighbors': [25, 55, 125, 225], \n",
    "               'p': [1, 2]\n",
    "             }\n",
    "\n",
    "# RANDOM Train test splitting\n",
    "split_and_gs(X, y, estimator, hyperparams, \n",
    "             splitting='random', test_size=0.25, \n",
    "             scaffold_series=None)"
   ]
  },
  {
   "cell_type": "code",
   "execution_count": 22,
   "metadata": {
    "cell_style": "split"
   },
   "outputs": [
    {
     "name": "stdout",
     "output_type": "stream",
     "text": [
      "No. of molecules in train set: 885, with 29 actives.\n",
      "No. of molecules in test set: 334, with 10 actives.\n",
      "\n",
      "********** GRID SEARCH RESULTS **********\n",
      "- Mean CV ROC-AUC score: 0.838\n",
      "- Train ROC-AUC: 0.862\n",
      "- Test ROC-AUC: 0.956\n",
      "- Best hyperparameters {'estimator__n_neighbors': 225, 'estimator__p': 2}\n",
      "******************************************\n",
      "\n",
      "------------------------------------------------------------\n",
      "**** Best Conformation's ROC-AUC using docking scores ****\n",
      "> Train best conf. ROC-AUC: 0.879 \t> Median ROC-AUC: 0.81\n",
      "> Test best conf. ROC-AUC: 0.968 \t> Median ROC-AUC: 0.898\n",
      "------------------------------------------------------------\n",
      "CPU times: user 930 ms, sys: 83.1 ms, total: 1.01 s\n",
      "Wall time: 1.53 s\n"
     ]
    }
   ],
   "source": [
    "%%time\n",
    "from sklearn.neighbors import KNeighborsClassifier \n",
    "estimator = KNeighborsClassifier()\n",
    "\n",
    "hyperparams = {'n_neighbors': [25, 55, 125, 225], \n",
    "               'p': [1, 2]\n",
    "             }\n",
    "\n",
    "# SCAFFOLD Train test splitting\n",
    "split_and_gs(X, y, estimator, hyperparams, \n",
    "             splitting='scaffold', test_size=0.25, \n",
    "             scaffold_series=scaffold_series)"
   ]
  },
  {
   "cell_type": "markdown",
   "metadata": {},
   "source": [
    "### GS: Decision Tree Classifier\n",
    "#### DEKOIS database - Random and Stratified Scaffold Splitting"
   ]
  },
  {
   "cell_type": "code",
   "execution_count": 23,
   "metadata": {
    "cell_style": "split"
   },
   "outputs": [
    {
     "name": "stdout",
     "output_type": "stream",
     "text": [
      "No. of molecules in train set: 914, with 29 actives.\n",
      "No. of molecules in test set: 305, with 10 actives.\n",
      "\n",
      "********** GRID SEARCH RESULTS **********\n",
      "- Mean CV ROC-AUC score: 0.815\n",
      "- Train ROC-AUC: 0.900\n",
      "- Test ROC-AUC: 0.857\n",
      "- Best hyperparameters {'estimator__criterion': 'entropy', 'estimator__max_depth': 3, 'estimator__max_features': 'log2', 'estimator__min_samples_split': 0.2}\n",
      "******************************************\n",
      "\n",
      "------------------------------------------------------------\n",
      "**** Best Conformation's ROC-AUC using docking scores ****\n",
      "> Train best conf. ROC-AUC: 0.883 \t> Median ROC-AUC: 0.813\n",
      "> Test best conf. ROC-AUC: 0.981 \t> Median ROC-AUC: 0.884\n",
      "------------------------------------------------------------\n",
      "CPU times: user 1.26 s, sys: 275 ms, total: 1.53 s\n",
      "Wall time: 2.21 s\n"
     ]
    }
   ],
   "source": [
    "%%time\n",
    "from sklearn.tree import DecisionTreeClassifier\n",
    "\n",
    "estimator = DecisionTreeClassifier(splitter='best')\n",
    "hyperparams = {'criterion': ['gini', 'entropy'], \n",
    "               'max_depth': [2, 3, 5],\n",
    "               'min_samples_split': [0.2, 0.25, 0.3],\n",
    "               'max_features': [None, 'sqrt', 'log2']}\n",
    "\n",
    "# RANDOM Train test splitting\n",
    "split_and_gs(X, y, estimator, hyperparams, \n",
    "             splitting='random', test_size=0.25, \n",
    "             scaffold_series=None)"
   ]
  },
  {
   "cell_type": "code",
   "execution_count": 24,
   "metadata": {
    "cell_style": "split"
   },
   "outputs": [
    {
     "name": "stdout",
     "output_type": "stream",
     "text": [
      "No. of molecules in train set: 885, with 29 actives.\n",
      "No. of molecules in test set: 334, with 10 actives.\n",
      "\n",
      "********** GRID SEARCH RESULTS **********\n",
      "- Mean CV ROC-AUC score: 0.802\n",
      "- Train ROC-AUC: 0.903\n",
      "- Test ROC-AUC: 0.888\n",
      "- Best hyperparameters {'estimator__criterion': 'entropy', 'estimator__max_depth': 5, 'estimator__max_features': 'log2', 'estimator__min_samples_split': 0.25}\n",
      "******************************************\n",
      "\n",
      "------------------------------------------------------------\n",
      "**** Best Conformation's ROC-AUC using docking scores ****\n",
      "> Train best conf. ROC-AUC: 0.879 \t> Median ROC-AUC: 0.81\n",
      "> Test best conf. ROC-AUC: 0.968 \t> Median ROC-AUC: 0.898\n",
      "------------------------------------------------------------\n",
      "CPU times: user 1.39 s, sys: 278 ms, total: 1.66 s\n",
      "Wall time: 2.11 s\n"
     ]
    }
   ],
   "source": [
    "%%time\n",
    "from sklearn.tree import DecisionTreeClassifier\n",
    "\n",
    "estimator = DecisionTreeClassifier(splitter='best')\n",
    "hyperparams = {'criterion': ['gini', 'entropy'], \n",
    "               'max_depth': [2, 3, 5],\n",
    "               'min_samples_split': [0.2, 0.25, 0.3],\n",
    "               'max_features': [None, 'sqrt', 'log2']}\n",
    "\n",
    "# SCAFFOLD Train test splitting\n",
    "split_and_gs(X, y, estimator, hyperparams, \n",
    "             splitting='scaffold', test_size=0.25, \n",
    "             scaffold_series=scaffold_series)"
   ]
  },
  {
   "cell_type": "markdown",
   "metadata": {},
   "source": [
    "### GS: Bagging Classifier (k-NN as base estimator) \n",
    "#### DEKOIS database - Random and Stratified Scaffold Splitting"
   ]
  },
  {
   "cell_type": "code",
   "execution_count": 55,
   "metadata": {
    "cell_style": "split"
   },
   "outputs": [
    {
     "name": "stdout",
     "output_type": "stream",
     "text": [
      "CPU times: user 0 ns, sys: 758 µs, total: 758 µs\n",
      "Wall time: 793 µs\n"
     ]
    }
   ],
   "source": [
    "%%time\n",
    "from sklearn.ensemble import BaggingClassifier\n",
    "\n",
    "knn = KNeighborsClassifier(n_neighbors=125, p=1, \n",
    "                           weights='distance')\n",
    "\n",
    "estimator = BaggingClassifier(base_estimator=knn, \n",
    "                              n_jobs=6, oob_score=True)\n",
    "\n",
    "hyperparams = {'n_estimators': [300]}\n",
    "\n",
    "# RANDOM Train test splitting\n",
    "# split_and_gs(X, y, estimator, hyperparams, \n",
    "#              splitting='random', test_size=0.25, \n",
    "#              scaffold_series=None)"
   ]
  },
  {
   "cell_type": "code",
   "execution_count": 56,
   "metadata": {
    "cell_style": "split"
   },
   "outputs": [
    {
     "name": "stdout",
     "output_type": "stream",
     "text": [
      "CPU times: user 50 µs, sys: 5 µs, total: 55 µs\n",
      "Wall time: 62.7 µs\n"
     ]
    }
   ],
   "source": [
    "%%time\n",
    "# from sklearn.ensemble import BaggingClassifier\n",
    "\n",
    "knn = KNeighborsClassifier(n_neighbors=125, p=1, \n",
    "                           weights='distance')\n",
    "\n",
    "estimator = BaggingClassifier(base_estimator=knn, \n",
    "                              n_jobs=6, oob_score=True)\n",
    "\n",
    "hyperparams = {'n_estimators': [300]}\n",
    "\n",
    "# SCAFFOLD Train test splitting\n",
    "# split_and_gs(X, y, estimator, hyperparams, \n",
    "#              splitting='scaffold', test_size=0.25, \n",
    "#              scaffold_series=scaffold_series)"
   ]
  },
  {
   "cell_type": "markdown",
   "metadata": {},
   "source": [
    "### GS:Random Forest \n",
    "#### DEKOIS database - Random and Stratified Scaffold Splitting"
   ]
  },
  {
   "cell_type": "code",
   "execution_count": 27,
   "metadata": {
    "cell_style": "split"
   },
   "outputs": [
    {
     "name": "stdout",
     "output_type": "stream",
     "text": [
      "No. of molecules in train set: 914, with 29 actives.\n",
      "No. of molecules in test set: 305, with 10 actives.\n",
      "\n",
      "********** GRID SEARCH RESULTS **********\n",
      "- Mean CV ROC-AUC score: 0.898\n",
      "- Train ROC-AUC: 0.933\n",
      "- Test ROC-AUC: 0.840\n",
      "- Best hyperparameters {'estimator__max_depth': 5, 'estimator__max_features': 'log2', 'estimator__min_samples_leaf': 0.1, 'estimator__n_estimators': 300}\n",
      "******************************************\n",
      "\n",
      "------------------------------------------------------------\n",
      "**** Best Conformation's ROC-AUC using docking scores ****\n",
      "> Train best conf. ROC-AUC: 0.914 \t> Median ROC-AUC: 0.848\n",
      "> Test best conf. ROC-AUC: 0.861 \t> Median ROC-AUC: 0.795\n",
      "------------------------------------------------------------\n",
      "CPU times: user 2.63 s, sys: 683 ms, total: 3.32 s\n",
      "Wall time: 22.9 s\n"
     ]
    }
   ],
   "source": [
    "%%time\n",
    "from sklearn.ensemble import RandomForestClassifier\n",
    "\n",
    "estimator = RandomForestClassifier()\n",
    "\n",
    "hyperparams = {'n_estimators': [300, 500],\n",
    "             'max_depth': [2,  5],\n",
    "             'min_samples_leaf': [0.1, 0.2],\n",
    "             'max_features': ['log2', 'sqrt']\n",
    "            }\n",
    "\n",
    "# RANDOM Train test splitting\n",
    "split_and_gs(X, y, estimator, hyperparams, \n",
    "             splitting='random', test_size=0.25, \n",
    "             scaffold_series=None)"
   ]
  },
  {
   "cell_type": "code",
   "execution_count": 28,
   "metadata": {
    "cell_style": "split"
   },
   "outputs": [
    {
     "name": "stdout",
     "output_type": "stream",
     "text": [
      "No. of molecules in train set: 885, with 29 actives.\n",
      "No. of molecules in test set: 334, with 10 actives.\n",
      "\n",
      "********** GRID SEARCH RESULTS **********\n",
      "- Mean CV ROC-AUC score: 0.853\n",
      "- Train ROC-AUC: 0.895\n",
      "- Test ROC-AUC: 0.941\n",
      "- Best hyperparameters {'estimator__max_depth': 2, 'estimator__max_features': 'log2', 'estimator__min_samples_leaf': 0.2, 'estimator__n_estimators': 500}\n",
      "******************************************\n",
      "\n",
      "------------------------------------------------------------\n",
      "**** Best Conformation's ROC-AUC using docking scores ****\n",
      "> Train best conf. ROC-AUC: 0.879 \t> Median ROC-AUC: 0.81\n",
      "> Test best conf. ROC-AUC: 0.968 \t> Median ROC-AUC: 0.898\n",
      "------------------------------------------------------------\n",
      "CPU times: user 2.78 s, sys: 246 ms, total: 3.02 s\n",
      "Wall time: 20.4 s\n"
     ]
    }
   ],
   "source": [
    "%%time\n",
    "from sklearn.ensemble import RandomForestClassifier\n",
    "\n",
    "estimator = RandomForestClassifier()\n",
    "\n",
    "hyperparams = {'n_estimators': [300, 500],\n",
    "             'max_depth': [2,  5],\n",
    "             'min_samples_leaf': [0.1, 0.2],\n",
    "             'max_features': ['log2', 'sqrt']\n",
    "            }\n",
    "\n",
    "# SCAFFOLD Train test splitting\n",
    "split_and_gs(X, y, estimator, hyperparams, \n",
    "             splitting='scaffold', test_size=0.25, \n",
    "             scaffold_series=scaffold_series)"
   ]
  },
  {
   "cell_type": "markdown",
   "metadata": {},
   "source": [
    "##  Grid Search\n",
    "### Hyperparameter Tunning\n",
    "#### Merged Libraries "
   ]
  },
  {
   "cell_type": "code",
   "execution_count": 29,
   "metadata": {},
   "outputs": [],
   "source": [
    "# Train and test over DEKOIS\n",
    "X = X_merged_dksc\n",
    "y = y_true_merged\n",
    "scaffold_series = df_scff_murcko['scff_generic']"
   ]
  },
  {
   "cell_type": "markdown",
   "metadata": {
    "cell_style": "center"
   },
   "source": [
    "### GS: Linear SVM \n",
    "#### DEKOIS database - Random and Stratified Scaffold Splitting"
   ]
  },
  {
   "cell_type": "code",
   "execution_count": 30,
   "metadata": {
    "cell_style": "split"
   },
   "outputs": [
    {
     "name": "stdout",
     "output_type": "stream",
     "text": [
      "No. of molecules in train set: 4379, with 225 actives.\n",
      "No. of molecules in test set: 1460, with 75 actives.\n",
      "\n",
      "********** GRID SEARCH RESULTS **********\n",
      "- Mean CV ROC-AUC score: 0.773\n",
      "- Train ROC-AUC: 0.801\n",
      "- Test ROC-AUC: 0.748\n",
      "- Best hyperparameters {'estimator__C': 1e-06}\n",
      "******************************************\n",
      "\n",
      "------------------------------------------------------------\n",
      "**** Best Conformation's ROC-AUC using docking scores ****\n",
      "> Train best conf. ROC-AUC: 0.686 \t> Median ROC-AUC: 0.608\n",
      "> Test best conf. ROC-AUC: 0.674 \t> Median ROC-AUC: 0.591\n",
      "------------------------------------------------------------\n",
      "CPU times: user 3.36 s, sys: 117 ms, total: 3.48 s\n",
      "Wall time: 16.1 s\n"
     ]
    }
   ],
   "source": [
    "%%time\n",
    "from sklearn.svm import SVC\n",
    "estimator = SVC(kernel = 'linear', probability=True)\n",
    "hyperparams = {'C': np.geomspace(1e-15, 1e-6, 4)}\n",
    "\n",
    "# RANDOM Train test splitting\n",
    "split_and_gs(X, y, estimator, hyperparams, \n",
    "             splitting='random', test_size=0.25, \n",
    "             scaffold_series=None)"
   ]
  },
  {
   "cell_type": "code",
   "execution_count": 31,
   "metadata": {
    "cell_style": "split"
   },
   "outputs": [
    {
     "name": "stdout",
     "output_type": "stream",
     "text": [
      "No. of molecules in train set: 4154, with 225 actives.\n",
      "No. of molecules in test set: 1685, with 75 actives.\n",
      "\n",
      "********** GRID SEARCH RESULTS **********\n",
      "- Mean CV ROC-AUC score: 0.770\n",
      "- Train ROC-AUC: 0.823\n",
      "- Test ROC-AUC: 0.699\n",
      "- Best hyperparameters {'estimator__C': 1e-06}\n",
      "******************************************\n",
      "\n",
      "------------------------------------------------------------\n",
      "**** Best Conformation's ROC-AUC using docking scores ****\n",
      "> Train best conf. ROC-AUC: 0.683 \t> Median ROC-AUC: 0.588\n",
      "> Test best conf. ROC-AUC: 0.704 \t> Median ROC-AUC: 0.641\n",
      "------------------------------------------------------------\n",
      "CPU times: user 4.15 s, sys: 162 ms, total: 4.31 s\n",
      "Wall time: 19.1 s\n"
     ]
    }
   ],
   "source": [
    "%%time\n",
    "# from sklearn.svm import SVC\n",
    "estimator = SVC(kernel = 'linear', probability=True)\n",
    "hyperparams = {'C': np.geomspace(1e-15, 1e-6, 4)}\n",
    "\n",
    "# SCAFFOLD Train test splitting\n",
    "split_and_gs(X, y, estimator, hyperparams, \n",
    "             splitting='scaffold', test_size=0.25, \n",
    "             scaffold_series=scaffold_series)"
   ]
  },
  {
   "cell_type": "markdown",
   "metadata": {},
   "source": [
    "### GS: Radial Basis Function SVM\n",
    "#### DEKOIS database - Random and Stratified Scaffold Splitting"
   ]
  },
  {
   "cell_type": "code",
   "execution_count": 32,
   "metadata": {
    "cell_style": "split"
   },
   "outputs": [
    {
     "name": "stdout",
     "output_type": "stream",
     "text": [
      "No. of molecules in train set: 4379, with 225 actives.\n",
      "No. of molecules in test set: 1460, with 75 actives.\n",
      "\n",
      "********** GRID SEARCH RESULTS **********\n",
      "- Mean CV ROC-AUC score: 0.850\n",
      "- Train ROC-AUC: 0.971\n",
      "- Test ROC-AUC: 0.830\n",
      "- Best hyperparameters {'estimator__C': 0.01, 'estimator__gamma': 0.01}\n",
      "******************************************\n",
      "\n",
      "------------------------------------------------------------\n",
      "**** Best Conformation's ROC-AUC using docking scores ****\n",
      "> Train best conf. ROC-AUC: 0.684 \t> Median ROC-AUC: 0.603\n",
      "> Test best conf. ROC-AUC: 0.681 \t> Median ROC-AUC: 0.611\n",
      "------------------------------------------------------------\n",
      "CPU times: user 7.93 s, sys: 194 ms, total: 8.13 s\n",
      "Wall time: 1min 35s\n"
     ]
    }
   ],
   "source": [
    "%%time\n",
    "estimator = SVC(kernel = 'rbf', probability=True)\n",
    "\n",
    "hyperparams = {'C': np.geomspace(1e-8, 1e-2, 4), \n",
    "               'gamma': np.geomspace(1e-6, 1e0, 4)}\n",
    "\n",
    "# RANDOM Train test splitting\n",
    "split_and_gs(X, y, estimator, hyperparams, \n",
    "             splitting='random', test_size=0.25, \n",
    "             scaffold_series=None)"
   ]
  },
  {
   "cell_type": "code",
   "execution_count": 33,
   "metadata": {
    "cell_style": "split"
   },
   "outputs": [
    {
     "name": "stdout",
     "output_type": "stream",
     "text": [
      "No. of molecules in train set: 4154, with 225 actives.\n",
      "No. of molecules in test set: 1685, with 75 actives.\n",
      "\n",
      "********** GRID SEARCH RESULTS **********\n",
      "- Mean CV ROC-AUC score: 0.815\n",
      "- Train ROC-AUC: 0.974\n",
      "- Test ROC-AUC: 0.705\n",
      "- Best hyperparameters {'estimator__C': 0.01, 'estimator__gamma': 0.01}\n",
      "******************************************\n",
      "\n",
      "------------------------------------------------------------\n",
      "**** Best Conformation's ROC-AUC using docking scores ****\n",
      "> Train best conf. ROC-AUC: 0.683 \t> Median ROC-AUC: 0.588\n",
      "> Test best conf. ROC-AUC: 0.704 \t> Median ROC-AUC: 0.641\n",
      "------------------------------------------------------------\n",
      "CPU times: user 8.25 s, sys: 265 ms, total: 8.52 s\n",
      "Wall time: 1min 30s\n"
     ]
    }
   ],
   "source": [
    "%%time\n",
    "estimator = SVC(kernel = 'rbf', probability=True)\n",
    "\n",
    "hyperparams = {'C': np.geomspace(1e-8, 1e-2, 4), \n",
    "               'gamma': np.geomspace(1e-6, 1e0, 4)}\n",
    "\n",
    "# SCAFFOLD Train test splitting\n",
    "split_and_gs(X, y, estimator, hyperparams, \n",
    "             splitting='scaffold', test_size=0.25, \n",
    "             scaffold_series=scaffold_series)"
   ]
  },
  {
   "cell_type": "markdown",
   "metadata": {},
   "source": [
    "### GS: Logistic Regession \n",
    "#### DEKOIS database - Random and Stratified Scaffold Splitting"
   ]
  },
  {
   "cell_type": "code",
   "execution_count": 34,
   "metadata": {
    "cell_style": "split"
   },
   "outputs": [
    {
     "name": "stdout",
     "output_type": "stream",
     "text": [
      "No. of molecules in train set: 4379, with 225 actives.\n",
      "No. of molecules in test set: 1460, with 75 actives.\n",
      "\n",
      "********** GRID SEARCH RESULTS **********\n",
      "- Mean CV ROC-AUC score: 0.825\n",
      "- Train ROC-AUC: 0.881\n",
      "- Test ROC-AUC: 0.827\n",
      "- Best hyperparameters {'estimator__C': 0.1, 'estimator__penalty': 'l2', 'estimator__solver': 'liblinear'}\n",
      "******************************************\n",
      "\n",
      "------------------------------------------------------------\n",
      "**** Best Conformation's ROC-AUC using docking scores ****\n",
      "> Train best conf. ROC-AUC: 0.697 \t> Median ROC-AUC: 0.612\n",
      "> Test best conf. ROC-AUC: 0.672 \t> Median ROC-AUC: 0.584\n",
      "------------------------------------------------------------\n",
      "CPU times: user 3.13 s, sys: 563 ms, total: 3.69 s\n",
      "Wall time: 4.66 s\n"
     ]
    }
   ],
   "source": [
    "%%time\n",
    "from sklearn.linear_model import LogisticRegression\n",
    "estimator = LogisticRegression()\n",
    "\n",
    "hyperparams = {'C': [0.00001, 0.0001, 0.001, 0.01, 0.1], \n",
    "               'penalty': ['l1', 'l2'], \n",
    "               'solver': ['lbfgs', 'liblinear']}\n",
    "\n",
    "# RANDOM Train test splitting\n",
    "split_and_gs(X, y, estimator, hyperparams, \n",
    "             splitting='random', test_size=0.25, \n",
    "             scaffold_series=None)"
   ]
  },
  {
   "cell_type": "code",
   "execution_count": 35,
   "metadata": {
    "cell_style": "split"
   },
   "outputs": [
    {
     "name": "stdout",
     "output_type": "stream",
     "text": [
      "No. of molecules in train set: 4154, with 225 actives.\n",
      "No. of molecules in test set: 1685, with 75 actives.\n",
      "\n",
      "********** GRID SEARCH RESULTS **********\n",
      "- Mean CV ROC-AUC score: 0.823\n",
      "- Train ROC-AUC: 0.903\n",
      "- Test ROC-AUC: 0.741\n",
      "- Best hyperparameters {'estimator__C': 0.1, 'estimator__penalty': 'l2', 'estimator__solver': 'liblinear'}\n",
      "******************************************\n",
      "\n",
      "------------------------------------------------------------\n",
      "**** Best Conformation's ROC-AUC using docking scores ****\n",
      "> Train best conf. ROC-AUC: 0.683 \t> Median ROC-AUC: 0.588\n",
      "> Test best conf. ROC-AUC: 0.704 \t> Median ROC-AUC: 0.641\n",
      "------------------------------------------------------------\n",
      "CPU times: user 3.21 s, sys: 478 ms, total: 3.69 s\n",
      "Wall time: 4.57 s\n"
     ]
    }
   ],
   "source": [
    "%%time\n",
    "# from sklearn.linear_model import LogisticRegression\n",
    "estimator = LogisticRegression()\n",
    "\n",
    "hyperparams = {'C': [0.00001, 0.0001, 0.001, 0.01, 0.1], \n",
    "               'penalty': ['l1', 'l2'], \n",
    "               'solver': ['lbfgs', 'liblinear']}\n",
    "\n",
    "# SCAFFOLD Train test splitting\n",
    "split_and_gs(X, y, estimator, hyperparams, \n",
    "             splitting='scaffold', test_size=0.25, \n",
    "             scaffold_series=scaffold_series)"
   ]
  },
  {
   "cell_type": "markdown",
   "metadata": {},
   "source": [
    "### GS: Decision Tree Classifier\n",
    "#### DEKOIS database - Random and Stratified Scaffold Splitting"
   ]
  },
  {
   "cell_type": "code",
   "execution_count": 36,
   "metadata": {
    "cell_style": "split"
   },
   "outputs": [
    {
     "name": "stdout",
     "output_type": "stream",
     "text": [
      "No. of molecules in train set: 4379, with 225 actives.\n",
      "No. of molecules in test set: 1460, with 75 actives.\n",
      "\n",
      "********** GRID SEARCH RESULTS **********\n",
      "- Mean CV ROC-AUC score: 0.709\n",
      "- Train ROC-AUC: 0.791\n",
      "- Test ROC-AUC: 0.716\n",
      "- Best hyperparameters {'estimator__criterion': 'entropy', 'estimator__max_depth': 5, 'estimator__max_features': None, 'estimator__min_samples_split': 0.2}\n",
      "******************************************\n",
      "\n",
      "------------------------------------------------------------\n",
      "**** Best Conformation's ROC-AUC using docking scores ****\n",
      "> Train best conf. ROC-AUC: 0.682 \t> Median ROC-AUC: 0.613\n",
      "> Test best conf. ROC-AUC: 0.679 \t> Median ROC-AUC: 0.579\n",
      "------------------------------------------------------------\n",
      "CPU times: user 5.35 s, sys: 297 ms, total: 5.64 s\n",
      "Wall time: 6.26 s\n"
     ]
    }
   ],
   "source": [
    "%%time\n",
    "from sklearn.tree import DecisionTreeClassifier\n",
    "\n",
    "estimator = DecisionTreeClassifier(splitter='best')\n",
    "hyperparams = {'criterion': ['gini', 'entropy'], \n",
    "               'max_depth': [2, 3, 5],\n",
    "               'min_samples_split': [0.2, 0.25, 0.3],\n",
    "               'max_features': [None, 'sqrt', 'log2']}\n",
    "\n",
    "# RANDOM Train test splitting\n",
    "split_and_gs(X, y, estimator, hyperparams, \n",
    "             splitting='random', test_size=0.25, \n",
    "             scaffold_series=None)"
   ]
  },
  {
   "cell_type": "code",
   "execution_count": 37,
   "metadata": {
    "cell_style": "split"
   },
   "outputs": [
    {
     "name": "stdout",
     "output_type": "stream",
     "text": [
      "No. of molecules in train set: 4154, with 225 actives.\n",
      "No. of molecules in test set: 1685, with 75 actives.\n",
      "\n",
      "********** GRID SEARCH RESULTS **********\n",
      "- Mean CV ROC-AUC score: 0.717\n",
      "- Train ROC-AUC: 0.767\n",
      "- Test ROC-AUC: 0.586\n",
      "- Best hyperparameters {'estimator__criterion': 'entropy', 'estimator__max_depth': 5, 'estimator__max_features': 'sqrt', 'estimator__min_samples_split': 0.3}\n",
      "******************************************\n",
      "\n",
      "------------------------------------------------------------\n",
      "**** Best Conformation's ROC-AUC using docking scores ****\n",
      "> Train best conf. ROC-AUC: 0.683 \t> Median ROC-AUC: 0.588\n",
      "> Test best conf. ROC-AUC: 0.704 \t> Median ROC-AUC: 0.641\n",
      "------------------------------------------------------------\n",
      "CPU times: user 5.24 s, sys: 288 ms, total: 5.53 s\n",
      "Wall time: 6.04 s\n"
     ]
    }
   ],
   "source": [
    "%%time\n",
    "from sklearn.tree import DecisionTreeClassifier\n",
    "\n",
    "estimator = DecisionTreeClassifier(splitter='best')\n",
    "hyperparams = {'criterion': ['gini', 'entropy'], \n",
    "               'max_depth': [2, 3, 5],\n",
    "               'min_samples_split': [0.2, 0.25, 0.3],\n",
    "               'max_features': [None, 'sqrt', 'log2']}\n",
    "\n",
    "# SCAFFOLD Train test splitting\n",
    "split_and_gs(X, y, estimator, hyperparams, \n",
    "             splitting='scaffold', test_size=0.25, \n",
    "             scaffold_series=scaffold_series)"
   ]
  },
  {
   "cell_type": "markdown",
   "metadata": {},
   "source": [
    "### GS: Bagging Classifier (k-NN as base estimator) \n",
    "#### DEKOIS database - Random and Stratified Scaffold Splitting"
   ]
  },
  {
   "cell_type": "code",
   "execution_count": 57,
   "metadata": {
    "cell_style": "split"
   },
   "outputs": [
    {
     "name": "stdout",
     "output_type": "stream",
     "text": [
      "CPU times: user 44 µs, sys: 5 µs, total: 49 µs\n",
      "Wall time: 55.8 µs\n"
     ]
    }
   ],
   "source": [
    "%%time\n",
    "from sklearn.ensemble import BaggingClassifier\n",
    "\n",
    "knn = KNeighborsClassifier(n_neighbors=125, p=1, \n",
    "                           weights='distance')\n",
    "\n",
    "estimator = BaggingClassifier(base_estimator=knn, \n",
    "                              n_jobs=3, oob_score=True)\n",
    "\n",
    "hyperparams = {'n_estimators': [300]}\n",
    "\n",
    "# RANDOM Train test splitting\n",
    "# split_and_gs(X, y, estimator, hyperparams, \n",
    "#              splitting='random', test_size=0.25, \n",
    "#              scaffold_series=None)"
   ]
  },
  {
   "cell_type": "code",
   "execution_count": 58,
   "metadata": {
    "cell_style": "split"
   },
   "outputs": [
    {
     "name": "stdout",
     "output_type": "stream",
     "text": [
      "CPU times: user 45 µs, sys: 4 µs, total: 49 µs\n",
      "Wall time: 58.7 µs\n"
     ]
    }
   ],
   "source": [
    "%%time\n",
    "# from sklearn.ensemble import BaggingClassifier\n",
    "\n",
    "knn = KNeighborsClassifier(n_neighbors=125, p=1, \n",
    "                           weights='distance')\n",
    "\n",
    "estimator = BaggingClassifier(base_estimator=knn, \n",
    "                              n_jobs=3, oob_score=True)\n",
    "\n",
    "hyperparams = {'n_estimators': [300]}\n",
    "\n",
    "# SCAFFOLD Train test splitting\n",
    "# split_and_gs(X, y, estimator, hyperparams, \n",
    "#              splitting='scaffold', test_size=0.25, \n",
    "#              scaffold_series=scaffold_series)"
   ]
  },
  {
   "cell_type": "markdown",
   "metadata": {},
   "source": [
    "### GS:Random Forest \n",
    "#### DEKOIS database - Random and Stratified Scaffold Splitting"
   ]
  },
  {
   "cell_type": "code",
   "execution_count": 52,
   "metadata": {
    "cell_style": "split"
   },
   "outputs": [
    {
     "name": "stdout",
     "output_type": "stream",
     "text": [
      "No. of molecules in train set: 4379, with 225 actives.\n",
      "No. of molecules in test set: 1460, with 75 actives.\n",
      "\n",
      "********** GRID SEARCH RESULTS **********\n",
      "- Mean CV ROC-AUC score: 0.779\n",
      "- Train ROC-AUC: 0.875\n",
      "- Test ROC-AUC: 0.788\n",
      "- Best hyperparameters {'estimator__max_depth': 7, 'estimator__max_features': 'sqrt', 'estimator__min_samples_leaf': 0.03, 'estimator__n_estimators': 500}\n",
      "******************************************\n",
      "\n",
      "------------------------------------------------------------\n",
      "**** Best Conformation's ROC-AUC using docking scores ****\n",
      "> Train best conf. ROC-AUC: 0.688 \t> Median ROC-AUC: 0.606\n",
      "> Test best conf. ROC-AUC: 0.672 \t> Median ROC-AUC: 0.599\n",
      "------------------------------------------------------------\n",
      "CPU times: user 5.8 s, sys: 116 ms, total: 5.92 s\n",
      "Wall time: 55.1 s\n"
     ]
    }
   ],
   "source": [
    "%%time\n",
    "from sklearn.ensemble import RandomForestClassifier\n",
    "\n",
    "estimator = RandomForestClassifier()\n",
    "\n",
    "hyperparams = {'n_estimators': [300, 500],\n",
    "             'max_depth': [3,  5, 7],\n",
    "             'min_samples_leaf': [0.03, 0.05, 0.1],\n",
    "             'max_features': ['sqrt']\n",
    "            }\n",
    "\n",
    "# RANDOM Train test splitting\n",
    "split_and_gs(X, y, estimator, hyperparams, \n",
    "             splitting='random', test_size=0.25, \n",
    "             scaffold_series=None)"
   ]
  },
  {
   "cell_type": "code",
   "execution_count": 53,
   "metadata": {
    "cell_style": "split"
   },
   "outputs": [
    {
     "name": "stdout",
     "output_type": "stream",
     "text": [
      "No. of molecules in train set: 4154, with 225 actives.\n",
      "No. of molecules in test set: 1685, with 75 actives.\n",
      "\n",
      "********** GRID SEARCH RESULTS **********\n",
      "- Mean CV ROC-AUC score: 0.755\n",
      "- Train ROC-AUC: 0.874\n",
      "- Test ROC-AUC: 0.672\n",
      "- Best hyperparameters {'estimator__max_depth': 7, 'estimator__max_features': 'sqrt', 'estimator__min_samples_leaf': 0.03, 'estimator__n_estimators': 500}\n",
      "******************************************\n",
      "\n",
      "------------------------------------------------------------\n",
      "**** Best Conformation's ROC-AUC using docking scores ****\n",
      "> Train best conf. ROC-AUC: 0.683 \t> Median ROC-AUC: 0.588\n",
      "> Test best conf. ROC-AUC: 0.704 \t> Median ROC-AUC: 0.641\n",
      "------------------------------------------------------------\n",
      "CPU times: user 5.72 s, sys: 127 ms, total: 5.85 s\n",
      "Wall time: 55.3 s\n"
     ]
    }
   ],
   "source": [
    "%%time\n",
    "from sklearn.ensemble import RandomForestClassifier\n",
    "\n",
    "estimator = RandomForestClassifier()\n",
    "\n",
    "hyperparams = {'n_estimators': [300, 500],\n",
    "             'max_depth': [3,  5, 7],\n",
    "             'min_samples_leaf': [0.03, 0.05, 0.1],\n",
    "             'max_features': ['sqrt']\n",
    "            }\n",
    "\n",
    "# SCAFFOLD Train test splitting\n",
    "split_and_gs(X, y, estimator, hyperparams, \n",
    "             splitting='scaffold', test_size=0.25, \n",
    "             scaffold_series=scaffold_series)"
   ]
  },
  {
   "cell_type": "code",
   "execution_count": null,
   "metadata": {},
   "outputs": [],
   "source": []
  }
 ],
 "metadata": {
  "kernelspec": {
   "display_name": "Python 3.7.6 64-bit ('mds': conda)",
   "language": "python",
   "name": "python37664bitmdsconda8fcfe9b6c3484566880235af88776fef"
  },
  "language_info": {
   "codemirror_mode": {
    "name": "ipython",
    "version": 3
   },
   "file_extension": ".py",
   "mimetype": "text/x-python",
   "name": "python",
   "nbconvert_exporter": "python",
   "pygments_lexer": "ipython3",
   "version": "3.7.6"
  }
 },
 "nbformat": 4,
 "nbformat_minor": 4
}
