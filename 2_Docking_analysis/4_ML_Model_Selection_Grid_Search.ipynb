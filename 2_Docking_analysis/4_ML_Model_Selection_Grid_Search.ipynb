{
 "cells": [
  {
   "cell_type": "markdown",
   "metadata": {},
   "source": [
    "# Model Selection"
   ]
  },
  {
   "cell_type": "code",
   "execution_count": 1,
   "metadata": {},
   "outputs": [],
   "source": [
    "import pandas as pd\n",
    "import numpy as np\n",
    "import glob, sys, os\n",
    "sys.path.append('..')"
   ]
  },
  {
   "cell_type": "code",
   "execution_count": 2,
   "metadata": {},
   "outputs": [],
   "source": [
    "from modules.plotting_metrics import PlotMetric\n",
    "import matplotlib.pyplot as plt\n",
    "import seaborn as sns\n",
    "sns.set(style='white', context='talk', font_scale=0.8)"
   ]
  },
  {
   "cell_type": "code",
   "execution_count": 59,
   "metadata": {},
   "outputs": [
    {
     "data": {
      "text/plain": [
       "(6233, 136)"
      ]
     },
     "execution_count": 59,
     "metadata": {},
     "output_type": "execute_result"
    }
   ],
   "source": [
    "file_name = './df_DkSc_results_COCRYS_DEKOIS_DUD.pkl'\n",
    "X_merged_dksc = pd.read_pickle(file_name)\n",
    "# Extract activity column\n",
    "y_true_merged = X_merged_dksc['activity']\n",
    "# Drop column from merged_dkksc\n",
    "X_merged_dksc = X_merged_dksc.drop('activity', axis=1)\n",
    "X_merged_dksc.shape"
   ]
  },
  {
   "cell_type": "markdown",
   "metadata": {},
   "source": [
    "### Timeout Decorator"
   ]
  },
  {
   "cell_type": "code",
   "execution_count": 6,
   "metadata": {},
   "outputs": [],
   "source": [
    "import signal\n",
    "from functools import wraps\n",
    "\n",
    "def timeout(n_seconds=300):\n",
    "    '''Stops a function execution after n seconds'''\n",
    "    def decorator(func):\n",
    "        @wraps(func)\n",
    "        def wrapper(*args, **kwargs):\n",
    "            # Set alarm for n seconds\n",
    "            signal.alarm(n_seconds)\n",
    "            try:\n",
    "                # Call decorated func\n",
    "                return func(*args, **kwargs)\n",
    "#             except TimeoutError as e:\n",
    "                print(f'Execution finished after {n_seconds}:', e)\n",
    "            finally:\n",
    "                # Cancel Alarm\n",
    "                signal.alarm(0)\n",
    "        return wrapper\n",
    "    return decorator"
   ]
  },
  {
   "cell_type": "markdown",
   "metadata": {},
   "source": [
    "## Scaffold Splitting"
   ]
  },
  {
   "cell_type": "code",
   "execution_count": 7,
   "metadata": {},
   "outputs": [],
   "source": [
    "#*************************************************\n",
    "# Functions to compute stratify scaffold splitting\n",
    "#*************************************************\n",
    "from scaffold_splitter import train_test_scaffold_split"
   ]
  },
  {
   "cell_type": "code",
   "execution_count": 8,
   "metadata": {},
   "outputs": [],
   "source": [
    "# Compute or load the dataframe containing the Generic Murcko Scaffolds\n",
    "file = './df_COCRYS_DUD_DEKOIS_Murcko_Scaffolds_SMILES.obj'\n",
    "\n",
    "df_scff_murcko = pd.read_pickle(file)"
   ]
  },
  {
   "cell_type": "markdown",
   "metadata": {},
   "source": [
    "## Train/test on the same dataset "
   ]
  },
  {
   "cell_type": "markdown",
   "metadata": {},
   "source": [
    "### Learning Curves"
   ]
  },
  {
   "cell_type": "code",
   "execution_count": 9,
   "metadata": {},
   "outputs": [],
   "source": [
    "from sklearn.model_selection import GridSearchCV, train_test_split, cross_val_score\n",
    "from sklearn.preprocessing import StandardScaler\n",
    "from sklearn.metrics import roc_auc_score\n",
    "from sklearn.pipeline import Pipeline\n",
    "from sklearn.model_selection import learning_curve"
   ]
  },
  {
   "cell_type": "code",
   "execution_count": 10,
   "metadata": {},
   "outputs": [],
   "source": [
    "def plot_learning_curves(estimator, X, y, title, ylim=[0.5,1], axes=None,\n",
    "                         cv=3, train_sizes=np.linspace(0.1, 1.0, 10), \n",
    "                         scoring='roc_auc', n_jobs=4):\n",
    "    '''\n",
    "    Plot estimator performance on the training and validation\n",
    "    sets as a function of the training set size.\n",
    "\n",
    "    Parameters\n",
    "    ----------\n",
    "    estimator: sklearn estimator object type\n",
    "       Object type that implements the \"fit\" and \"predict method\"\n",
    "\n",
    "    X: array-like, shape (m_samples, n_features)\n",
    "        Training array with m_samples and n_features.\n",
    "    y: array-like, shape (m_samples)\n",
    "        Target array relative to X with m labels.\n",
    "    axes: array of 3 axes\n",
    "        matplotlib axes array to append the generated plot\n",
    "    ylim: array\n",
    "       \n",
    "    '''\n",
    "    if axes == None:\n",
    "        _, axes = plt.subplots(1, 1, figsize=(5, 5))\n",
    "        \n",
    "    axes.set(title=title, ylim=ylim, xlabel='Training examples', ylabel=f'Metric: {scoring}')\n",
    "    # Use learning_curve function from sklearn\n",
    "    train_sizes, train_scores, test_scores, fit_times, _ = \\\n",
    "       learning_curve(estimator, X, y, scoring=scoring, return_times = True,\n",
    "                      cv=cv, n_jobs=n_jobs, train_sizes=train_sizes)\n",
    "    # Compute useful metrics\n",
    "    train_scores_mean = np.mean(train_scores, axis=1)\n",
    "    train_scores_std = np.std(train_scores, axis=1)\n",
    "    test_scores_mean = np.mean(test_scores, axis=1)\n",
    "    test_scores_std = np.std(test_scores, axis=1)\n",
    "#     fit_times_mean = np.mean(fit_times, axis=1)\n",
    "#     fit_times_std = np.std(fit_times, axis=1)\n",
    "    # Plot the learning curve\n",
    "    axes.grid()\n",
    "    axes.fill_between(train_sizes, train_scores_mean - train_scores_std,\n",
    "                        train_scores_mean + train_scores_std, alpha=0.1, color='r')\n",
    "    axes.fill_between(train_sizes, test_scores_mean - test_scores_std,\n",
    "                        test_scores_mean + test_scores_std, alpha=0.1, color='g')\n",
    "    axes.plot(train_sizes, train_scores_mean, 'o-', color='r',\n",
    "                label='Train score')\n",
    "    axes.plot(train_sizes, test_scores_mean, 'o-', color='g',\n",
    "                label='Cross-validation score')\n",
    "    axes.legend(loc='lower right')\n",
    "    "
   ]
  },
  {
   "cell_type": "markdown",
   "metadata": {},
   "source": [
    "### Hyperparameters tunning: Grid Search"
   ]
  },
  {
   "cell_type": "code",
   "execution_count": 74,
   "metadata": {},
   "outputs": [],
   "source": [
    "def run_grid_search(estimator, X_train, y_train, X_test, y_test, hyperparams,  cv_value=5, \n",
    "                    scoring='roc_auc', splitting='random', std_scale=False):\n",
    "\n",
    "    # Format the hyperparms\n",
    "    hyperparams_dict = {'estimator__' + key: val for key, val in hyperparams.items()}\n",
    "    \n",
    "    if std_scale:\n",
    "        # Create the Pipe\n",
    "        scaler = StandardScaler()\n",
    "        pipe = Pipeline([('scaler', scaler),\n",
    "                         ('estimator', estimator)])\n",
    "    else:\n",
    "        pipe = estimator\n",
    "    \n",
    "    # Do Grid Search\n",
    "    gs = GridSearchCV(estimator = pipe, param_grid = hyperparams,\n",
    "                     cv = cv_value, scoring = scoring, n_jobs = 6, refit = True)\n",
    "\n",
    "    # Train the model\n",
    "    gs.fit(X_train, y_train) \n",
    "\n",
    "    # Predictions\n",
    "    y_train_predict = gs.predict_proba(X_train)\n",
    "    y_test_predict = gs.predict_proba(X_test)\n",
    "    \n",
    "    # Values to return\n",
    "    n_train_mols    = y_train.shape[0]\n",
    "    n_train_actives = y_train.sum()\n",
    "    n_test_mols     = y_test.shape[0]\n",
    "    n_test_actives  = y_test.sum()\n",
    "    mean_cv_roc     = gs.best_score_\n",
    "    train_roc       = roc_auc_score(y_train, y_train_predict[:, 1])\n",
    "    test_roc        = roc_auc_score(y_test, y_test_predict[:, 1])\n",
    "    best_params     = gs.best_params_\n",
    "\n",
    "    # Print some values\n",
    "    print(f'No. of molecules in train set: {n_train_mols}, with {n_train_actives} actives.')\n",
    "    print(f'No. of molecules in test set: {n_test_mols}, with {n_test_actives} actives.')\n",
    "    print('')\n",
    "    print('*'*10, 'GRID SEARCH RESULTS', '*'*10)\n",
    "    print('- Mean CV ROC-AUC:\\t{:.3f}'.format(mean_cv_roc))\n",
    "    print('- Train ROC-AUC:\\t{:.3f}'.format(train_roc))\n",
    "    print('- Test ROC-AUC:\\t{:.3f}'.format(test_roc))\n",
    "    print('- Best hyperparameters', best_params)\n",
    "    print('**'*21)\n",
    "    print('')\n",
    "    \n",
    "    return [n_train_mols, n_train_actives, n_test_mols, n_test_actives,\n",
    "            mean_cv_roc, train_roc, test_roc, best_params]"
   ]
  },
  {
   "cell_type": "code",
   "execution_count": 12,
   "metadata": {},
   "outputs": [],
   "source": [
    "def run_cross_val_bias_var_tradeoff(estimator, X_train, y_train, X_test, y_test, cv_value=5, scoring='roc_auc',\n",
    "                                   score_type='Dk_sc', pred_prob = True):\n",
    "    \n",
    "    # Print some values\n",
    "    print(f'No. of molecules in Train set: {y_train.shape[0]}, with {y_train.sum()} actives.')\n",
    "    print(f'No. of molecules in Test set: {y_test.shape[0]}, with {y_test.sum()} actives.')\n",
    "\n",
    "    # Scaler\n",
    "    scaler = StandardScaler()\n",
    "\n",
    "    # Set the pipe\n",
    "    pipe = Pipeline([('scaler', scaler), ('estimator', estimator)])\n",
    "\n",
    "    # Set the CV score\n",
    "    roc_cv = cross_val_score(pipe, X_train, y_train, cv=cv_value, scoring=scoring, n_jobs= -1)\n",
    "\n",
    "    pipe.fit(X_train, y_train)\n",
    "    \n",
    "    if pred_prob:\n",
    "        # Predict proba\n",
    "        y_predict_train = pipe.predict_proba(X_train)\n",
    "        y_predict_test = pipe.predict_proba(X_test)\n",
    "    else:\n",
    "        y_predict_train = pipe.predict(X_train)\n",
    "        y_predict_test = pipe.predict(X_test)\n",
    "\n",
    "    # CV Mean ROC-AUC\n",
    "    print('CV={} ROC-AUC: {:.4f}'.format(cv_value, roc_cv.mean()))\n",
    "\n",
    "    # Training ROC-AUC:\n",
    "    print('Train ROC-AUC: {:.4f}'.format(roc_auc_score(y_train, y_predict_train[:, 1])))\n",
    "\n",
    "    # Test ROC-AUC:\n",
    "    print('Test ROC-AUC: {:.4f}'.format(roc_auc_score(y_test, y_predict_test[:, 1])))"
   ]
  },
  {
   "cell_type": "markdown",
   "metadata": {},
   "source": [
    "### Function to report the Best Conformation's ROC-AUC for a given subset of samples"
   ]
  },
  {
   "cell_type": "code",
   "execution_count": 83,
   "metadata": {},
   "outputs": [],
   "source": [
    "#************************************************************************\n",
    "# Returns the best conformatio's ROC-AUC value of a given subset X and y\n",
    "#************************************************************************\n",
    "\n",
    "def get_roc_auc_DkSc(X_train, y_train, X_test, y_test, verbose=True):\n",
    "    roc_auc_train = X_train.apply(\n",
    "        lambda x: roc_auc_score(y_true= y_train, y_score= -x), axis=0)\n",
    "    roc_auc_test = X_test.apply(\n",
    "        lambda x: roc_auc_score(y_true= y_test, y_score= -x), axis=0)\n",
    "    # Values to return\n",
    "    train_best_roc = roc_auc_train.max()\n",
    "    train_median   = roc_auc_train.median()\n",
    "    train_mean     = roc_auc_train.mean()\n",
    "    test_best_roc = roc_auc_test.max()\n",
    "    test_median   = roc_auc_test.median()\n",
    "    test_mean     = roc_auc_test.mean()\n",
    "    \n",
    "    if verbose:\n",
    "        print(\"***** Best Conformation's ROC-AUC using docking scores *****\")\n",
    "        \n",
    "        print(\"> Train best conf. ROC-AUC: {:.3f}\".format(train_best_roc) +\n",
    "              \" \\t> median: {:.3f}\".format(train_median) +\n",
    "              ', mean: {:.3f}'.format(train_mean))\n",
    "        \n",
    "        print(\"> Test best conf. ROC-AUC: {:.3f}\".format(train_best_roc) +\n",
    "              \" \\t> median: {:.3f}\".format(train_median) +\n",
    "              ', mean: {:.3f}'.format(train_mean))\n",
    "        print('**'*32)\n",
    "    # return a list of results to capture by the  wrapper function\n",
    "    return [train_best_roc, train_median, train_mean,\n",
    "            test_best_roc, test_median, test_mean]\n",
    "        "
   ]
  },
  {
   "cell_type": "code",
   "execution_count": null,
   "metadata": {},
   "outputs": [],
   "source": []
  },
  {
   "cell_type": "code",
   "execution_count": 89,
   "metadata": {},
   "outputs": [],
   "source": [
    "#******************************************\n",
    "# Decorator functions to capture GS results\n",
    "#******************************************\n",
    "from functools import wraps\n",
    "\n",
    "def capture_GS_results(results_dict=None, capture=True):\n",
    "    def decorator(func):\n",
    "        @wraps(func)\n",
    "        def wrapper(*args, **kwargs):\n",
    "            if results_dict != None and capture:\n",
    "                results = func(*args, **kwargs)\n",
    "                # Create a key with the first four values\n",
    "                key = '_'.join(results[:4])\n",
    "                # Append results to the results dictionary\n",
    "                results_dict[key] = results\n",
    "            else:\n",
    "                return func(*args, **kwargs)\n",
    "        return wrapper\n",
    "    return decorator\n",
    "            \n",
    "#******************************************************\n",
    "# Dictionary to capture GS results using the decorator \n",
    "#******************************************************\n",
    "results_dict = {}\n",
    "\n",
    "#******************************************************\n",
    "# Function to Split and run Grid Search\n",
    "#******************************************************\n",
    "@capture_GS_results(results_dict)\n",
    "def split_and_gs(train_name, test_name, estimator_name,\n",
    "                 X, y, estimator, hyperparams, splitting='random', \n",
    "                 test_size=0.25, scaffold_series=None, **kwargs):\n",
    "    '''Given a X and y sets, a sklean estimator and an splitting method, \n",
    "    performs Grid Search CV using the parsed hyperparams'''\n",
    "    #**************\n",
    "    # Do the split\n",
    "    #**************\n",
    "    if splitting == 'scaffold':\n",
    "        X_train, X_test, y_train, y_test = \\\n",
    "            train_test_scaffold_split(X, y, scaffold_series = scaffold_series,\n",
    "                test_size=test_size, stratify=y)\n",
    "    elif splitting == 'random':\n",
    "        X_train, X_test, y_train, y_test = \\\n",
    "            train_test_split(X, y, test_size=test_size, stratify=y)\n",
    "        \n",
    "    # Verbose\n",
    "    print(f'{estimator_name} => Train: {train_name}; Test: {test_name}; split: {splitting}')\n",
    "    \n",
    "    # Function to run Grid Search\n",
    "    #----------------------------\n",
    "    gs_results = run_grid_search(estimator, \n",
    "                    X_train, y_train, X_test, y_test, \n",
    "                    hyperparams = hyperparams,  **kwargs)\n",
    "\n",
    "    # Function to extract ROC results from DkSc values \n",
    "    #-------------------------------------------------\n",
    "    dksc_results = get_roc_auc_DkSc(X_train, y_train, X_test, y_test)\n",
    "    \n",
    "    # Return both list of results to captured by the decorador function\n",
    "    return [train_name, test_name, estimator_name, splitting] + gs_results + dksc_results"
   ]
  },
  {
   "cell_type": "markdown",
   "metadata": {},
   "source": [
    "#  Hyperparameter Tunning: Grid Search\n",
    "<h2 style='background-color: #F9E5AB; padding: 5px;'>\n",
    "    Train-Test with DEKOIS Library\n",
    "</h2>\n",
    "<div style='background-color: #FE8460; min-height: 5px'></div>"
   ]
  },
  {
   "cell_type": "code",
   "execution_count": 14,
   "metadata": {},
   "outputs": [],
   "source": [
    "#### library = 'DEKOIS'\n",
    "library = 'DEKOIS'\n",
    "\n",
    "# Train and test over DEKOIS\n",
    "X = X_merged_dksc.loc[library]\n",
    "y = y_true_merged.loc[library]\n",
    "scaffold_series = df_scff_murcko['scff_generic'].loc[library]"
   ]
  },
  {
   "cell_type": "markdown",
   "metadata": {
    "cell_style": "center"
   },
   "source": [
    "<h3 style='color: #F84122; padding: 0px;; margin: 0px'>GS: Linear SVM </h3>\n",
    "<b>DEKOIS  - Random and Stratified Scaffold Splitting</b>"
   ]
  },
  {
   "cell_type": "code",
   "execution_count": 90,
   "metadata": {
    "cell_style": "split"
   },
   "outputs": [
    {
     "name": "stdout",
     "output_type": "stream",
     "text": [
      "LinearSVC => Train: DEKOIS; Test: DEKOIS; split: random\n",
      "No. of molecules in train set: 4674, with 225 actives.\n",
      "No. of molecules in test set: 1559, with 75 actives.\n",
      "\n",
      "********** GRID SEARCH RESULTS **********\n",
      "- Mean CV ROC-AUC:\t0.576\n",
      "- Train ROC-AUC:\t0.675\n",
      "- Test ROC-AUC:\t0.674\n",
      "- Best hyperparameters {'C': 1e-15}\n",
      "******************************************\n",
      "\n",
      "***** Best Conformation's ROC-AUC using docking scores *****\n",
      "> Train best conf. ROC-AUC: 0.643 \t> median: 0.589, mean: 0.588\n",
      "> Test best conf. ROC-AUC: 0.643 \t> median: 0.589, mean: 0.588\n",
      "****************************************************************\n",
      "CPU times: user 2.84 s, sys: 306 ms, total: 3.15 s\n",
      "Wall time: 22.7 s\n"
     ]
    }
   ],
   "source": [
    "%%time\n",
    "from sklearn.svm import SVC\n",
    "estimator_name = 'LinearSVC'\n",
    "estimator = SVC(kernel = 'linear', probability=True)\n",
    "hyperparams = {'C': np.geomspace(1e-15, 1e-6, 4)}\n",
    "\n",
    "# RANDOM Train test splitting\n",
    "split_and_gs(library, library, estimator_name,\n",
    "             X, y, estimator, hyperparams, \n",
    "             splitting='random', test_size=0.25, \n",
    "             scaffold_series=None)"
   ]
  },
  {
   "cell_type": "code",
   "execution_count": 16,
   "metadata": {
    "cell_style": "split"
   },
   "outputs": [
    {
     "name": "stdout",
     "output_type": "stream",
     "text": [
      "No. of molecules in train set: 885, with 30 actives.\n",
      "No. of molecules in test set: 336, with 10 actives.\n",
      "\n",
      "********** GRID SEARCH RESULTS **********\n",
      "- Mean CV ROC-AUC score: 0.847\n",
      "- Train ROC-AUC: 0.875\n",
      "- Test ROC-AUC: 0.956\n",
      "- Best hyperparameters {'C': 1e-15}\n",
      "******************************************\n",
      "\n",
      "------------------------------------------------------------\n",
      "**** Best Conformation's ROC-AUC using docking scores ****\n",
      "> Train best conf. ROC-AUC: 0.884 \t> Median ROC-AUC: 0.816\n",
      "> Test best conf. ROC-AUC: 0.965 \t> Median ROC-AUC: 0.897\n",
      "------------------------------------------------------------\n",
      "CPU times: user 639 ms, sys: 0 ns, total: 639 ms\n",
      "Wall time: 751 ms\n"
     ]
    }
   ],
   "source": [
    "%%time\n",
    "# from sklearn.svm import SVC\n",
    "estimator = SVC(kernel = 'linear', probability=True)\n",
    "hyperparams = {'C': np.geomspace(1e-15, 1e-6, 4)}\n",
    "\n",
    "# SCAFFOLD Train test splitting\n",
    "split_and_gs(X, y, estimator, hyperparams, \n",
    "             splitting='scaffold', test_size=0.25, \n",
    "             scaffold_series=scaffold_series)"
   ]
  },
  {
   "cell_type": "markdown",
   "metadata": {},
   "source": [
    "<h3 style='color: #F84122; padding: 0px;; margin: 0px'>GS: Radial Basis Function SVM </h3>\n",
    "<b>DEKOIS  - Random and Stratified Scaffold Splitting</b>"
   ]
  },
  {
   "cell_type": "code",
   "execution_count": 17,
   "metadata": {
    "cell_style": "split"
   },
   "outputs": [
    {
     "name": "stdout",
     "output_type": "stream",
     "text": [
      "No. of molecules in train set: 915, with 30 actives.\n",
      "No. of molecules in test set: 306, with 10 actives.\n",
      "\n",
      "********** GRID SEARCH RESULTS **********\n",
      "- Mean CV ROC-AUC score: 0.879\n",
      "- Train ROC-AUC: 0.886\n",
      "- Test ROC-AUC: 0.932\n",
      "- Best hyperparameters {'C': 1e-08, 'gamma': 0.0001}\n",
      "******************************************\n",
      "\n",
      "------------------------------------------------------------\n",
      "**** Best Conformation's ROC-AUC using docking scores ****\n",
      "> Train best conf. ROC-AUC: 0.89 \t> Median ROC-AUC: 0.819\n",
      "> Test best conf. ROC-AUC: 0.958 \t> Median ROC-AUC: 0.887\n",
      "------------------------------------------------------------\n",
      "CPU times: user 980 ms, sys: 0 ns, total: 980 ms\n",
      "Wall time: 2.23 s\n"
     ]
    }
   ],
   "source": [
    "%%time\n",
    "estimator = SVC(kernel = 'rbf', probability=True)\n",
    "\n",
    "hyperparams = {'C': np.geomspace(1e-8, 1e-2, 4), \n",
    "               'gamma': np.geomspace(1e-6, 1e0, 4)}\n",
    "\n",
    "# RANDOM Train test splitting\n",
    "split_and_gs(X, y, estimator, hyperparams, \n",
    "             splitting='random', test_size=0.25, \n",
    "             scaffold_series=None)"
   ]
  },
  {
   "cell_type": "code",
   "execution_count": 18,
   "metadata": {
    "cell_style": "split"
   },
   "outputs": [
    {
     "name": "stdout",
     "output_type": "stream",
     "text": [
      "No. of molecules in train set: 885, with 30 actives.\n",
      "No. of molecules in test set: 336, with 10 actives.\n",
      "\n",
      "********** GRID SEARCH RESULTS **********\n",
      "- Mean CV ROC-AUC score: 0.846\n",
      "- Train ROC-AUC: 0.875\n",
      "- Test ROC-AUC: 0.953\n",
      "- Best hyperparameters {'C': 1e-08, 'gamma': 1e-06}\n",
      "******************************************\n",
      "\n",
      "------------------------------------------------------------\n",
      "**** Best Conformation's ROC-AUC using docking scores ****\n",
      "> Train best conf. ROC-AUC: 0.884 \t> Median ROC-AUC: 0.816\n",
      "> Test best conf. ROC-AUC: 0.965 \t> Median ROC-AUC: 0.897\n",
      "------------------------------------------------------------\n",
      "CPU times: user 979 ms, sys: 0 ns, total: 979 ms\n",
      "Wall time: 2.18 s\n"
     ]
    }
   ],
   "source": [
    "%%time\n",
    "estimator = SVC(kernel = 'rbf', probability=True)\n",
    "\n",
    "hyperparams = {'C': np.geomspace(1e-8, 1e-2, 4), \n",
    "               'gamma': np.geomspace(1e-6, 1e0, 4)}\n",
    "\n",
    "# SCAFFOLD Train test splitting\n",
    "split_and_gs(X, y, estimator, hyperparams, \n",
    "             splitting='scaffold', test_size=0.25, \n",
    "             scaffold_series=scaffold_series)"
   ]
  },
  {
   "cell_type": "markdown",
   "metadata": {},
   "source": [
    "<h3 style='color: #F84122; padding: 0px;; margin: 0px'> GS: Logistic Regression </h3>\n",
    "<b>DEKOIS  - Random and Stratified Scaffold Splitting</b>"
   ]
  },
  {
   "cell_type": "code",
   "execution_count": 19,
   "metadata": {
    "cell_style": "split"
   },
   "outputs": [
    {
     "name": "stdout",
     "output_type": "stream",
     "text": [
      "No. of molecules in train set: 915, with 30 actives.\n",
      "No. of molecules in test set: 306, with 10 actives.\n",
      "\n",
      "********** GRID SEARCH RESULTS **********\n",
      "- Mean CV ROC-AUC score: 0.873\n",
      "- Train ROC-AUC: 0.878\n",
      "- Test ROC-AUC: 0.951\n",
      "- Best hyperparameters {'C': 0.001, 'penalty': 'l2', 'solver': 'lbfgs'}\n",
      "******************************************\n",
      "\n",
      "------------------------------------------------------------\n",
      "**** Best Conformation's ROC-AUC using docking scores ****\n",
      "> Train best conf. ROC-AUC: 0.885 \t> Median ROC-AUC: 0.814\n",
      "> Test best conf. ROC-AUC: 0.964 \t> Median ROC-AUC: 0.898\n",
      "------------------------------------------------------------\n",
      "CPU times: user 1.48 s, sys: 242 ms, total: 1.72 s\n",
      "Wall time: 1.35 s\n"
     ]
    }
   ],
   "source": [
    "%%time\n",
    "from sklearn.linear_model import LogisticRegression\n",
    "estimator = LogisticRegression()\n",
    "\n",
    "hyperparams = {'C': [0.00001, 0.0001, 0.001, 0.01, 0.1], \n",
    "               'penalty': ['l1', 'l2'], \n",
    "               'solver': ['lbfgs', 'liblinear']}\n",
    "\n",
    "# RANDOM Train test splitting\n",
    "split_and_gs(X, y, estimator, hyperparams, \n",
    "             splitting='random', test_size=0.25, \n",
    "             scaffold_series=None)"
   ]
  },
  {
   "cell_type": "code",
   "execution_count": 20,
   "metadata": {
    "cell_style": "split"
   },
   "outputs": [
    {
     "name": "stdout",
     "output_type": "stream",
     "text": [
      "No. of molecules in train set: 885, with 30 actives.\n",
      "No. of molecules in test set: 336, with 10 actives.\n",
      "\n",
      "********** GRID SEARCH RESULTS **********\n",
      "- Mean CV ROC-AUC score: 0.864\n",
      "- Train ROC-AUC: 0.876\n",
      "- Test ROC-AUC: 0.956\n",
      "- Best hyperparameters {'C': 0.001, 'penalty': 'l2', 'solver': 'lbfgs'}\n",
      "******************************************\n",
      "\n",
      "------------------------------------------------------------\n",
      "**** Best Conformation's ROC-AUC using docking scores ****\n",
      "> Train best conf. ROC-AUC: 0.884 \t> Median ROC-AUC: 0.816\n",
      "> Test best conf. ROC-AUC: 0.965 \t> Median ROC-AUC: 0.897\n",
      "------------------------------------------------------------\n",
      "CPU times: user 1.18 s, sys: 505 ms, total: 1.69 s\n",
      "Wall time: 1.26 s\n"
     ]
    }
   ],
   "source": [
    "%%time\n",
    "# from sklearn.linear_model import LogisticRegression\n",
    "estimator = LogisticRegression()\n",
    "\n",
    "hyperparams = {'C': [0.00001, 0.0001, 0.001, 0.01, 0.1], \n",
    "               'penalty': ['l1', 'l2'], \n",
    "               'solver': ['lbfgs', 'liblinear']}\n",
    "\n",
    "# SCAFFOLD Train test splitting\n",
    "split_and_gs(X, y, estimator, hyperparams, \n",
    "             splitting='scaffold', test_size=0.25, \n",
    "             scaffold_series=scaffold_series)"
   ]
  },
  {
   "cell_type": "markdown",
   "metadata": {},
   "source": [
    "<h3 style='color: #F84122; padding: 0px;; margin: 0px'>GS: K-Neighbors Classifier</h3>\n",
    "<b>DEKOIS  - Random and Stratified Scaffold Splitting</b>"
   ]
  },
  {
   "cell_type": "code",
   "execution_count": 21,
   "metadata": {
    "cell_style": "split"
   },
   "outputs": [
    {
     "name": "stdout",
     "output_type": "stream",
     "text": [
      "No. of molecules in train set: 915, with 30 actives.\n",
      "No. of molecules in test set: 306, with 10 actives.\n",
      "\n",
      "********** GRID SEARCH RESULTS **********\n",
      "- Mean CV ROC-AUC score: 0.890\n",
      "- Train ROC-AUC: 0.904\n",
      "- Test ROC-AUC: 0.848\n",
      "- Best hyperparameters {'n_neighbors': 225, 'p': 1}\n",
      "******************************************\n",
      "\n",
      "------------------------------------------------------------\n",
      "**** Best Conformation's ROC-AUC using docking scores ****\n",
      "> Train best conf. ROC-AUC: 0.918 \t> Median ROC-AUC: 0.842\n",
      "> Test best conf. ROC-AUC: 0.898 \t> Median ROC-AUC: 0.805\n",
      "------------------------------------------------------------\n",
      "CPU times: user 1.13 s, sys: 159 ms, total: 1.29 s\n",
      "Wall time: 2.05 s\n"
     ]
    }
   ],
   "source": [
    "%%time\n",
    "from sklearn.neighbors import KNeighborsClassifier \n",
    "estimator = KNeighborsClassifier()\n",
    "\n",
    "hyperparams = {'n_neighbors': [25, 55, 125, 225], \n",
    "               'p': [1, 2]\n",
    "             }\n",
    "\n",
    "# RANDOM Train test splitting\n",
    "split_and_gs(X, y, estimator, hyperparams, \n",
    "             splitting='random', test_size=0.25, \n",
    "             scaffold_series=None)"
   ]
  },
  {
   "cell_type": "code",
   "execution_count": 22,
   "metadata": {
    "cell_style": "split"
   },
   "outputs": [
    {
     "name": "stdout",
     "output_type": "stream",
     "text": [
      "No. of molecules in train set: 885, with 30 actives.\n",
      "No. of molecules in test set: 336, with 10 actives.\n",
      "\n",
      "********** GRID SEARCH RESULTS **********\n",
      "- Mean CV ROC-AUC score: 0.839\n",
      "- Train ROC-AUC: 0.871\n",
      "- Test ROC-AUC: 0.953\n",
      "- Best hyperparameters {'n_neighbors': 225, 'p': 2}\n",
      "******************************************\n",
      "\n",
      "------------------------------------------------------------\n",
      "**** Best Conformation's ROC-AUC using docking scores ****\n",
      "> Train best conf. ROC-AUC: 0.884 \t> Median ROC-AUC: 0.816\n",
      "> Test best conf. ROC-AUC: 0.965 \t> Median ROC-AUC: 0.897\n",
      "------------------------------------------------------------\n",
      "CPU times: user 967 ms, sys: 0 ns, total: 967 ms\n",
      "Wall time: 1.3 s\n"
     ]
    }
   ],
   "source": [
    "%%time\n",
    "from sklearn.neighbors import KNeighborsClassifier \n",
    "estimator = KNeighborsClassifier()\n",
    "\n",
    "hyperparams = {'n_neighbors': [25, 55, 125, 225], \n",
    "               'p': [1, 2]\n",
    "             }\n",
    "\n",
    "# SCAFFOLD Train test splitting\n",
    "split_and_gs(X, y, estimator, hyperparams, \n",
    "             splitting='scaffold', test_size=0.25, \n",
    "             scaffold_series=scaffold_series)"
   ]
  },
  {
   "cell_type": "markdown",
   "metadata": {},
   "source": [
    "<h3 style='color: #F84122; padding: 0px;; margin: 0px'>GS: Decision Tree Classifier</h3>\n",
    "<b>DEKOIS  - Random and Stratified Scaffold Splitting</b>"
   ]
  },
  {
   "cell_type": "code",
   "execution_count": 23,
   "metadata": {
    "cell_style": "split"
   },
   "outputs": [
    {
     "name": "stdout",
     "output_type": "stream",
     "text": [
      "No. of molecules in train set: 915, with 30 actives.\n",
      "No. of molecules in test set: 306, with 10 actives.\n",
      "\n",
      "********** GRID SEARCH RESULTS **********\n",
      "- Mean CV ROC-AUC score: 0.890\n",
      "- Train ROC-AUC: 0.924\n",
      "- Test ROC-AUC: 0.657\n",
      "- Best hyperparameters {'criterion': 'entropy', 'max_depth': 5, 'max_features': 'sqrt', 'min_samples_split': 0.3}\n",
      "******************************************\n",
      "\n",
      "------------------------------------------------------------\n",
      "**** Best Conformation's ROC-AUC using docking scores ****\n",
      "> Train best conf. ROC-AUC: 0.937 \t> Median ROC-AUC: 0.878\n",
      "> Test best conf. ROC-AUC: 0.833 \t> Median ROC-AUC: 0.709\n",
      "------------------------------------------------------------\n",
      "CPU times: user 1.53 s, sys: 0 ns, total: 1.53 s\n",
      "Wall time: 1.89 s\n"
     ]
    }
   ],
   "source": [
    "%%time\n",
    "from sklearn.tree import DecisionTreeClassifier\n",
    "\n",
    "estimator = DecisionTreeClassifier(splitter='best')\n",
    "hyperparams = {'criterion': ['gini', 'entropy'], \n",
    "               'max_depth': [2, 3, 5],\n",
    "               'min_samples_split': [0.2, 0.25, 0.3],\n",
    "               'max_features': [None, 'sqrt', 'log2']}\n",
    "\n",
    "# RANDOM Train test splitting\n",
    "split_and_gs(X, y, estimator, hyperparams, \n",
    "             splitting='random', test_size=0.25, \n",
    "             scaffold_series=None)"
   ]
  },
  {
   "cell_type": "code",
   "execution_count": 24,
   "metadata": {
    "cell_style": "split"
   },
   "outputs": [
    {
     "name": "stdout",
     "output_type": "stream",
     "text": [
      "No. of molecules in train set: 885, with 30 actives.\n",
      "No. of molecules in test set: 336, with 10 actives.\n",
      "\n",
      "********** GRID SEARCH RESULTS **********\n",
      "- Mean CV ROC-AUC score: 0.817\n",
      "- Train ROC-AUC: 0.838\n",
      "- Test ROC-AUC: 0.746\n",
      "- Best hyperparameters {'criterion': 'gini', 'max_depth': 5, 'max_features': 'log2', 'min_samples_split': 0.2}\n",
      "******************************************\n",
      "\n",
      "------------------------------------------------------------\n",
      "**** Best Conformation's ROC-AUC using docking scores ****\n",
      "> Train best conf. ROC-AUC: 0.884 \t> Median ROC-AUC: 0.816\n",
      "> Test best conf. ROC-AUC: 0.965 \t> Median ROC-AUC: 0.897\n",
      "------------------------------------------------------------\n",
      "CPU times: user 1.48 s, sys: 150 ms, total: 1.63 s\n",
      "Wall time: 1.83 s\n"
     ]
    }
   ],
   "source": [
    "%%time\n",
    "from sklearn.tree import DecisionTreeClassifier\n",
    "\n",
    "estimator = DecisionTreeClassifier(splitter='best')\n",
    "hyperparams = {'criterion': ['gini', 'entropy'], \n",
    "               'max_depth': [2, 3, 5],\n",
    "               'min_samples_split': [0.2, 0.25, 0.3],\n",
    "               'max_features': [None, 'sqrt', 'log2']}\n",
    "\n",
    "# SCAFFOLD Train test splitting\n",
    "split_and_gs(X, y, estimator, hyperparams, \n",
    "             splitting='scaffold', test_size=0.25, \n",
    "             scaffold_series=scaffold_series)"
   ]
  },
  {
   "cell_type": "markdown",
   "metadata": {},
   "source": [
    "<h3 style='color: #F84122; padding: 0px;; margin: 0px'>GS: Bagging Classifier (k-NN as base estimator) </h3>\n",
    "<b>DEKOIS  - Random and Stratified Scaffold Splitting</b>"
   ]
  },
  {
   "cell_type": "code",
   "execution_count": 25,
   "metadata": {
    "cell_style": "split"
   },
   "outputs": [
    {
     "name": "stdout",
     "output_type": "stream",
     "text": [
      "CPU times: user 23.7 ms, sys: 0 ns, total: 23.7 ms\n",
      "Wall time: 240 ms\n"
     ]
    }
   ],
   "source": [
    "%%time\n",
    "from sklearn.ensemble import BaggingClassifier\n",
    "\n",
    "knn = KNeighborsClassifier(n_neighbors=125, p=1, \n",
    "                           weights='distance')\n",
    "\n",
    "estimator = BaggingClassifier(base_estimator=knn, \n",
    "                              n_jobs=6, oob_score=True)\n",
    "\n",
    "hyperparams = {'n_estimators': [300]}\n",
    "\n",
    "# RANDOM Train test splitting\n",
    "# split_and_gs(X, y, estimator, hyperparams, \n",
    "#              splitting='random', test_size=0.25, \n",
    "#              scaffold_series=None)"
   ]
  },
  {
   "cell_type": "code",
   "execution_count": 26,
   "metadata": {
    "cell_style": "split"
   },
   "outputs": [
    {
     "name": "stdout",
     "output_type": "stream",
     "text": [
      "CPU times: user 39 µs, sys: 23 µs, total: 62 µs\n",
      "Wall time: 110 µs\n"
     ]
    }
   ],
   "source": [
    "%%time\n",
    "# from sklearn.ensemble import BaggingClassifier\n",
    "\n",
    "knn = KNeighborsClassifier(n_neighbors=125, p=1, \n",
    "                           weights='distance')\n",
    "\n",
    "estimator = BaggingClassifier(base_estimator=knn, \n",
    "                              n_jobs=6, oob_score=True)\n",
    "\n",
    "hyperparams = {'n_estimators': [300]}\n",
    "\n",
    "# SCAFFOLD Train test splitting\n",
    "# split_and_gs(X, y, estimator, hyperparams, \n",
    "#              splitting='scaffold', test_size=0.25, \n",
    "#              scaffold_series=scaffold_series)"
   ]
  },
  {
   "cell_type": "markdown",
   "metadata": {},
   "source": [
    "<h3 style='color: #F84122; padding: 0px;; margin: 0px'>GS:Random Forest </h3>\n",
    "<b>DEKOIS  - Random and Stratified Scaffold Splitting</b>"
   ]
  },
  {
   "cell_type": "code",
   "execution_count": 27,
   "metadata": {
    "cell_style": "split"
   },
   "outputs": [
    {
     "name": "stdout",
     "output_type": "stream",
     "text": [
      "No. of molecules in train set: 915, with 30 actives.\n",
      "No. of molecules in test set: 306, with 10 actives.\n",
      "\n",
      "********** GRID SEARCH RESULTS **********\n",
      "- Mean CV ROC-AUC score: 0.879\n",
      "- Train ROC-AUC: 0.927\n",
      "- Test ROC-AUC: 0.868\n",
      "- Best hyperparameters {'max_depth': 5, 'max_features': 'sqrt', 'min_samples_leaf': 0.1, 'n_estimators': 300}\n",
      "******************************************\n",
      "\n",
      "------------------------------------------------------------\n",
      "**** Best Conformation's ROC-AUC using docking scores ****\n",
      "> Train best conf. ROC-AUC: 0.896 \t> Median ROC-AUC: 0.821\n",
      "> Test best conf. ROC-AUC: 0.952 \t> Median ROC-AUC: 0.884\n",
      "------------------------------------------------------------\n",
      "CPU times: user 1.64 s, sys: 170 ms, total: 1.81 s\n",
      "Wall time: 21.5 s\n"
     ]
    }
   ],
   "source": [
    "%%time\n",
    "from sklearn.ensemble import RandomForestClassifier\n",
    "\n",
    "estimator = RandomForestClassifier()\n",
    "\n",
    "hyperparams = {'n_estimators': [300, 500],\n",
    "             'max_depth': [2,  5],\n",
    "             'min_samples_leaf': [0.1, 0.2],\n",
    "             'max_features': ['log2', 'sqrt']\n",
    "            }\n",
    "\n",
    "# RANDOM Train test splitting\n",
    "split_and_gs(X, y, estimator, hyperparams, \n",
    "             splitting='random', test_size=0.25, \n",
    "             scaffold_series=None)"
   ]
  },
  {
   "cell_type": "code",
   "execution_count": 28,
   "metadata": {
    "cell_style": "split",
    "scrolled": true
   },
   "outputs": [
    {
     "name": "stdout",
     "output_type": "stream",
     "text": [
      "No. of molecules in train set: 885, with 30 actives.\n",
      "No. of molecules in test set: 336, with 10 actives.\n",
      "\n",
      "********** GRID SEARCH RESULTS **********\n",
      "- Mean CV ROC-AUC score: 0.858\n",
      "- Train ROC-AUC: 0.908\n",
      "- Test ROC-AUC: 0.961\n",
      "- Best hyperparameters {'max_depth': 2, 'max_features': 'sqrt', 'min_samples_leaf': 0.1, 'n_estimators': 300}\n",
      "******************************************\n",
      "\n",
      "------------------------------------------------------------\n",
      "**** Best Conformation's ROC-AUC using docking scores ****\n",
      "> Train best conf. ROC-AUC: 0.884 \t> Median ROC-AUC: 0.816\n",
      "> Test best conf. ROC-AUC: 0.965 \t> Median ROC-AUC: 0.897\n",
      "------------------------------------------------------------\n",
      "CPU times: user 1.71 s, sys: 0 ns, total: 1.71 s\n",
      "Wall time: 17.9 s\n"
     ]
    }
   ],
   "source": [
    "%%time\n",
    "from sklearn.ensemble import RandomForestClassifier\n",
    "\n",
    "estimator = RandomForestClassifier()\n",
    "\n",
    "hyperparams = {'n_estimators': [300, 500],\n",
    "             'max_depth': [2,  5],\n",
    "             'min_samples_leaf': [0.1, 0.2],\n",
    "             'max_features': ['log2', 'sqrt']\n",
    "            }\n",
    "\n",
    "# SCAFFOLD Train test splitting\n",
    "split_and_gs(X, y, estimator, hyperparams, \n",
    "             splitting='scaffold', test_size=0.25, \n",
    "             scaffold_series=scaffold_series)"
   ]
  },
  {
   "cell_type": "code",
   "execution_count": null,
   "metadata": {},
   "outputs": [],
   "source": []
  },
  {
   "cell_type": "markdown",
   "metadata": {},
   "source": [
    "***\n",
    "<h2 style='background-color: #F9E5AB; padding: 5px;'>\n",
    "    Train-Test with DUD Library\n",
    "</h2>\n",
    "<div style='background-color: #FE8460; min-height: 5px'></div>"
   ]
  },
  {
   "cell_type": "code",
   "execution_count": 14,
   "metadata": {},
   "outputs": [],
   "source": [
    "library = 'DUD'\n",
    "\n",
    "# Train and test over DUDU\n",
    "X = X_merged_dksc.loc[library]\n",
    "y = y_true_merged.loc[library]\n",
    "scaffold_series = df_scff_murcko['scff_generic'].loc[library]"
   ]
  },
  {
   "cell_type": "markdown",
   "metadata": {
    "cell_style": "center"
   },
   "source": [
    "<h3 style='color: #F84122; padding: 0px;; margin: 0px'>GS: Linear SVM </h3>\n",
    "<b>DUD  - Random and Stratified Scaffold Splitting</b>"
   ]
  },
  {
   "cell_type": "code",
   "execution_count": 15,
   "metadata": {
    "cell_style": "split"
   },
   "outputs": [
    {
     "name": "stdout",
     "output_type": "stream",
     "text": [
      "No. of molecules in train set: 915, with 30 actives.\n",
      "No. of molecules in test set: 306, with 10 actives.\n",
      "\n",
      "********** GRID SEARCH RESULTS **********\n",
      "- Mean CV ROC-AUC score: 0.864\n",
      "- Train ROC-AUC: 0.881\n",
      "- Test ROC-AUC: 0.930\n",
      "- Best hyperparameters {'C': 1e-12}\n",
      "******************************************\n",
      "\n",
      "------------------------------------------------------------\n",
      "**** Best Conformation's ROC-AUC using docking scores ****\n",
      "> Train best conf. ROC-AUC: 0.888 \t> Median ROC-AUC: 0.813\n",
      "> Test best conf. ROC-AUC: 0.962 \t> Median ROC-AUC: 0.894\n",
      "------------------------------------------------------------\n",
      "CPU times: user 603 ms, sys: 302 ms, total: 906 ms\n",
      "Wall time: 2.55 s\n"
     ]
    }
   ],
   "source": [
    "%%time\n",
    "from sklearn.svm import SVC\n",
    "estimator = SVC(kernel = 'linear', probability=True)\n",
    "hyperparams = {'C': np.geomspace(1e-15, 1e-6, 4)}\n",
    "\n",
    "# RANDOM Train test splitting\n",
    "split_and_gs(X, y, estimator, hyperparams, \n",
    "             splitting='random', test_size=0.25, \n",
    "             scaffold_series=None)"
   ]
  },
  {
   "cell_type": "code",
   "execution_count": 16,
   "metadata": {
    "cell_style": "split"
   },
   "outputs": [
    {
     "name": "stdout",
     "output_type": "stream",
     "text": [
      "No. of molecules in train set: 885, with 30 actives.\n",
      "No. of molecules in test set: 336, with 10 actives.\n",
      "\n",
      "********** GRID SEARCH RESULTS **********\n",
      "- Mean CV ROC-AUC score: 0.847\n",
      "- Train ROC-AUC: 0.875\n",
      "- Test ROC-AUC: 0.956\n",
      "- Best hyperparameters {'C': 1e-15}\n",
      "******************************************\n",
      "\n",
      "------------------------------------------------------------\n",
      "**** Best Conformation's ROC-AUC using docking scores ****\n",
      "> Train best conf. ROC-AUC: 0.884 \t> Median ROC-AUC: 0.816\n",
      "> Test best conf. ROC-AUC: 0.965 \t> Median ROC-AUC: 0.897\n",
      "------------------------------------------------------------\n",
      "CPU times: user 639 ms, sys: 0 ns, total: 639 ms\n",
      "Wall time: 751 ms\n"
     ]
    }
   ],
   "source": [
    "%%time\n",
    "# from sklearn.svm import SVC\n",
    "estimator = SVC(kernel = 'linear', probability=True)\n",
    "hyperparams = {'C': np.geomspace(1e-15, 1e-6, 4)}\n",
    "\n",
    "# SCAFFOLD Train test splitting\n",
    "split_and_gs(X, y, estimator, hyperparams, \n",
    "             splitting='scaffold', test_size=0.25, \n",
    "             scaffold_series=scaffold_series)"
   ]
  },
  {
   "cell_type": "markdown",
   "metadata": {},
   "source": [
    "<h3 style='color: #F84122; padding: 0px;; margin: 0px'>GS: Radial Basis Function SVM </h3>\n",
    "<b>DUD  - Random and Stratified Scaffold Splitting</b>"
   ]
  },
  {
   "cell_type": "code",
   "execution_count": 17,
   "metadata": {
    "cell_style": "split"
   },
   "outputs": [
    {
     "name": "stdout",
     "output_type": "stream",
     "text": [
      "No. of molecules in train set: 915, with 30 actives.\n",
      "No. of molecules in test set: 306, with 10 actives.\n",
      "\n",
      "********** GRID SEARCH RESULTS **********\n",
      "- Mean CV ROC-AUC score: 0.879\n",
      "- Train ROC-AUC: 0.886\n",
      "- Test ROC-AUC: 0.932\n",
      "- Best hyperparameters {'C': 1e-08, 'gamma': 0.0001}\n",
      "******************************************\n",
      "\n",
      "------------------------------------------------------------\n",
      "**** Best Conformation's ROC-AUC using docking scores ****\n",
      "> Train best conf. ROC-AUC: 0.89 \t> Median ROC-AUC: 0.819\n",
      "> Test best conf. ROC-AUC: 0.958 \t> Median ROC-AUC: 0.887\n",
      "------------------------------------------------------------\n",
      "CPU times: user 980 ms, sys: 0 ns, total: 980 ms\n",
      "Wall time: 2.23 s\n"
     ]
    }
   ],
   "source": [
    "%%time\n",
    "estimator = SVC(kernel = 'rbf', probability=True)\n",
    "\n",
    "hyperparams = {'C': np.geomspace(1e-8, 1e-2, 4), \n",
    "               'gamma': np.geomspace(1e-6, 1e0, 4)}\n",
    "\n",
    "# RANDOM Train test splitting\n",
    "split_and_gs(X, y, estimator, hyperparams, \n",
    "             splitting='random', test_size=0.25, \n",
    "             scaffold_series=None)"
   ]
  },
  {
   "cell_type": "code",
   "execution_count": 18,
   "metadata": {
    "cell_style": "split"
   },
   "outputs": [
    {
     "name": "stdout",
     "output_type": "stream",
     "text": [
      "No. of molecules in train set: 885, with 30 actives.\n",
      "No. of molecules in test set: 336, with 10 actives.\n",
      "\n",
      "********** GRID SEARCH RESULTS **********\n",
      "- Mean CV ROC-AUC score: 0.846\n",
      "- Train ROC-AUC: 0.875\n",
      "- Test ROC-AUC: 0.953\n",
      "- Best hyperparameters {'C': 1e-08, 'gamma': 1e-06}\n",
      "******************************************\n",
      "\n",
      "------------------------------------------------------------\n",
      "**** Best Conformation's ROC-AUC using docking scores ****\n",
      "> Train best conf. ROC-AUC: 0.884 \t> Median ROC-AUC: 0.816\n",
      "> Test best conf. ROC-AUC: 0.965 \t> Median ROC-AUC: 0.897\n",
      "------------------------------------------------------------\n",
      "CPU times: user 979 ms, sys: 0 ns, total: 979 ms\n",
      "Wall time: 2.18 s\n"
     ]
    }
   ],
   "source": [
    "%%time\n",
    "estimator = SVC(kernel = 'rbf', probability=True)\n",
    "\n",
    "hyperparams = {'C': np.geomspace(1e-8, 1e-2, 4), \n",
    "               'gamma': np.geomspace(1e-6, 1e0, 4)}\n",
    "\n",
    "# SCAFFOLD Train test splitting\n",
    "split_and_gs(X, y, estimator, hyperparams, \n",
    "             splitting='scaffold', test_size=0.25, \n",
    "             scaffold_series=scaffold_series)"
   ]
  },
  {
   "cell_type": "markdown",
   "metadata": {},
   "source": [
    "<h3 style='color: #F84122; padding: 0px;; margin: 0px'> GS: Logistic Regression </h3>\n",
    "<b>DUD  - Random and Stratified Scaffold Splitting</b>"
   ]
  },
  {
   "cell_type": "code",
   "execution_count": 19,
   "metadata": {
    "cell_style": "split"
   },
   "outputs": [
    {
     "name": "stdout",
     "output_type": "stream",
     "text": [
      "No. of molecules in train set: 915, with 30 actives.\n",
      "No. of molecules in test set: 306, with 10 actives.\n",
      "\n",
      "********** GRID SEARCH RESULTS **********\n",
      "- Mean CV ROC-AUC score: 0.873\n",
      "- Train ROC-AUC: 0.878\n",
      "- Test ROC-AUC: 0.951\n",
      "- Best hyperparameters {'C': 0.001, 'penalty': 'l2', 'solver': 'lbfgs'}\n",
      "******************************************\n",
      "\n",
      "------------------------------------------------------------\n",
      "**** Best Conformation's ROC-AUC using docking scores ****\n",
      "> Train best conf. ROC-AUC: 0.885 \t> Median ROC-AUC: 0.814\n",
      "> Test best conf. ROC-AUC: 0.964 \t> Median ROC-AUC: 0.898\n",
      "------------------------------------------------------------\n",
      "CPU times: user 1.48 s, sys: 242 ms, total: 1.72 s\n",
      "Wall time: 1.35 s\n"
     ]
    }
   ],
   "source": [
    "%%time\n",
    "from sklearn.linear_model import LogisticRegression\n",
    "estimator = LogisticRegression()\n",
    "\n",
    "hyperparams = {'C': [0.00001, 0.0001, 0.001, 0.01, 0.1], \n",
    "               'penalty': ['l1', 'l2'], \n",
    "               'solver': ['lbfgs', 'liblinear']}\n",
    "\n",
    "# RANDOM Train test splitting\n",
    "split_and_gs(X, y, estimator, hyperparams, \n",
    "             splitting='random', test_size=0.25, \n",
    "             scaffold_series=None)"
   ]
  },
  {
   "cell_type": "code",
   "execution_count": 20,
   "metadata": {
    "cell_style": "split"
   },
   "outputs": [
    {
     "name": "stdout",
     "output_type": "stream",
     "text": [
      "No. of molecules in train set: 885, with 30 actives.\n",
      "No. of molecules in test set: 336, with 10 actives.\n",
      "\n",
      "********** GRID SEARCH RESULTS **********\n",
      "- Mean CV ROC-AUC score: 0.864\n",
      "- Train ROC-AUC: 0.876\n",
      "- Test ROC-AUC: 0.956\n",
      "- Best hyperparameters {'C': 0.001, 'penalty': 'l2', 'solver': 'lbfgs'}\n",
      "******************************************\n",
      "\n",
      "------------------------------------------------------------\n",
      "**** Best Conformation's ROC-AUC using docking scores ****\n",
      "> Train best conf. ROC-AUC: 0.884 \t> Median ROC-AUC: 0.816\n",
      "> Test best conf. ROC-AUC: 0.965 \t> Median ROC-AUC: 0.897\n",
      "------------------------------------------------------------\n",
      "CPU times: user 1.18 s, sys: 505 ms, total: 1.69 s\n",
      "Wall time: 1.26 s\n"
     ]
    }
   ],
   "source": [
    "%%time\n",
    "# from sklearn.linear_model import LogisticRegression\n",
    "estimator = LogisticRegression()\n",
    "\n",
    "hyperparams = {'C': [0.00001, 0.0001, 0.001, 0.01, 0.1], \n",
    "               'penalty': ['l1', 'l2'], \n",
    "               'solver': ['lbfgs', 'liblinear']}\n",
    "\n",
    "# SCAFFOLD Train test splitting\n",
    "split_and_gs(X, y, estimator, hyperparams, \n",
    "             splitting='scaffold', test_size=0.25, \n",
    "             scaffold_series=scaffold_series)"
   ]
  },
  {
   "cell_type": "markdown",
   "metadata": {},
   "source": [
    "<h3 style='color: #F84122; padding: 0px;; margin: 0px'>GS: K-Neighbors Classifier</h3>\n",
    "<b>DUD  - Random and Stratified Scaffold Splitting</b>"
   ]
  },
  {
   "cell_type": "code",
   "execution_count": 21,
   "metadata": {
    "cell_style": "split"
   },
   "outputs": [
    {
     "name": "stdout",
     "output_type": "stream",
     "text": [
      "No. of molecules in train set: 915, with 30 actives.\n",
      "No. of molecules in test set: 306, with 10 actives.\n",
      "\n",
      "********** GRID SEARCH RESULTS **********\n",
      "- Mean CV ROC-AUC score: 0.890\n",
      "- Train ROC-AUC: 0.904\n",
      "- Test ROC-AUC: 0.848\n",
      "- Best hyperparameters {'n_neighbors': 225, 'p': 1}\n",
      "******************************************\n",
      "\n",
      "------------------------------------------------------------\n",
      "**** Best Conformation's ROC-AUC using docking scores ****\n",
      "> Train best conf. ROC-AUC: 0.918 \t> Median ROC-AUC: 0.842\n",
      "> Test best conf. ROC-AUC: 0.898 \t> Median ROC-AUC: 0.805\n",
      "------------------------------------------------------------\n",
      "CPU times: user 1.13 s, sys: 159 ms, total: 1.29 s\n",
      "Wall time: 2.05 s\n"
     ]
    }
   ],
   "source": [
    "%%time\n",
    "from sklearn.neighbors import KNeighborsClassifier \n",
    "estimator = KNeighborsClassifier()\n",
    "\n",
    "hyperparams = {'n_neighbors': [25, 55, 125, 225], \n",
    "               'p': [1, 2]\n",
    "             }\n",
    "\n",
    "# RANDOM Train test splitting\n",
    "split_and_gs(X, y, estimator, hyperparams, \n",
    "             splitting='random', test_size=0.25, \n",
    "             scaffold_series=None)"
   ]
  },
  {
   "cell_type": "code",
   "execution_count": 22,
   "metadata": {
    "cell_style": "split"
   },
   "outputs": [
    {
     "name": "stdout",
     "output_type": "stream",
     "text": [
      "No. of molecules in train set: 885, with 30 actives.\n",
      "No. of molecules in test set: 336, with 10 actives.\n",
      "\n",
      "********** GRID SEARCH RESULTS **********\n",
      "- Mean CV ROC-AUC score: 0.839\n",
      "- Train ROC-AUC: 0.871\n",
      "- Test ROC-AUC: 0.953\n",
      "- Best hyperparameters {'n_neighbors': 225, 'p': 2}\n",
      "******************************************\n",
      "\n",
      "------------------------------------------------------------\n",
      "**** Best Conformation's ROC-AUC using docking scores ****\n",
      "> Train best conf. ROC-AUC: 0.884 \t> Median ROC-AUC: 0.816\n",
      "> Test best conf. ROC-AUC: 0.965 \t> Median ROC-AUC: 0.897\n",
      "------------------------------------------------------------\n",
      "CPU times: user 967 ms, sys: 0 ns, total: 967 ms\n",
      "Wall time: 1.3 s\n"
     ]
    }
   ],
   "source": [
    "%%time\n",
    "from sklearn.neighbors import KNeighborsClassifier \n",
    "estimator = KNeighborsClassifier()\n",
    "\n",
    "hyperparams = {'n_neighbors': [25, 55, 125, 225], \n",
    "               'p': [1, 2]\n",
    "             }\n",
    "\n",
    "# SCAFFOLD Train test splitting\n",
    "split_and_gs(X, y, estimator, hyperparams, \n",
    "             splitting='scaffold', test_size=0.25, \n",
    "             scaffold_series=scaffold_series)"
   ]
  },
  {
   "cell_type": "markdown",
   "metadata": {},
   "source": [
    "<h3 style='color: #F84122; padding: 0px;; margin: 0px'>GS: Decision Tree Classifier</h3>\n",
    "<b>DUD  - Random and Stratified Scaffold Splitting</b>"
   ]
  },
  {
   "cell_type": "code",
   "execution_count": 23,
   "metadata": {
    "cell_style": "split"
   },
   "outputs": [
    {
     "name": "stdout",
     "output_type": "stream",
     "text": [
      "No. of molecules in train set: 915, with 30 actives.\n",
      "No. of molecules in test set: 306, with 10 actives.\n",
      "\n",
      "********** GRID SEARCH RESULTS **********\n",
      "- Mean CV ROC-AUC score: 0.890\n",
      "- Train ROC-AUC: 0.924\n",
      "- Test ROC-AUC: 0.657\n",
      "- Best hyperparameters {'criterion': 'entropy', 'max_depth': 5, 'max_features': 'sqrt', 'min_samples_split': 0.3}\n",
      "******************************************\n",
      "\n",
      "------------------------------------------------------------\n",
      "**** Best Conformation's ROC-AUC using docking scores ****\n",
      "> Train best conf. ROC-AUC: 0.937 \t> Median ROC-AUC: 0.878\n",
      "> Test best conf. ROC-AUC: 0.833 \t> Median ROC-AUC: 0.709\n",
      "------------------------------------------------------------\n",
      "CPU times: user 1.53 s, sys: 0 ns, total: 1.53 s\n",
      "Wall time: 1.89 s\n"
     ]
    }
   ],
   "source": [
    "%%time\n",
    "from sklearn.tree import DecisionTreeClassifier\n",
    "\n",
    "estimator = DecisionTreeClassifier(splitter='best')\n",
    "hyperparams = {'criterion': ['gini', 'entropy'], \n",
    "               'max_depth': [2, 3, 5],\n",
    "               'min_samples_split': [0.2, 0.25, 0.3],\n",
    "               'max_features': [None, 'sqrt', 'log2']}\n",
    "\n",
    "# RANDOM Train test splitting\n",
    "split_and_gs(X, y, estimator, hyperparams, \n",
    "             splitting='random', test_size=0.25, \n",
    "             scaffold_series=None)"
   ]
  },
  {
   "cell_type": "code",
   "execution_count": 24,
   "metadata": {
    "cell_style": "split"
   },
   "outputs": [
    {
     "name": "stdout",
     "output_type": "stream",
     "text": [
      "No. of molecules in train set: 885, with 30 actives.\n",
      "No. of molecules in test set: 336, with 10 actives.\n",
      "\n",
      "********** GRID SEARCH RESULTS **********\n",
      "- Mean CV ROC-AUC score: 0.817\n",
      "- Train ROC-AUC: 0.838\n",
      "- Test ROC-AUC: 0.746\n",
      "- Best hyperparameters {'criterion': 'gini', 'max_depth': 5, 'max_features': 'log2', 'min_samples_split': 0.2}\n",
      "******************************************\n",
      "\n",
      "------------------------------------------------------------\n",
      "**** Best Conformation's ROC-AUC using docking scores ****\n",
      "> Train best conf. ROC-AUC: 0.884 \t> Median ROC-AUC: 0.816\n",
      "> Test best conf. ROC-AUC: 0.965 \t> Median ROC-AUC: 0.897\n",
      "------------------------------------------------------------\n",
      "CPU times: user 1.48 s, sys: 150 ms, total: 1.63 s\n",
      "Wall time: 1.83 s\n"
     ]
    }
   ],
   "source": [
    "%%time\n",
    "from sklearn.tree import DecisionTreeClassifier\n",
    "\n",
    "estimator = DecisionTreeClassifier(splitter='best')\n",
    "hyperparams = {'criterion': ['gini', 'entropy'], \n",
    "               'max_depth': [2, 3, 5],\n",
    "               'min_samples_split': [0.2, 0.25, 0.3],\n",
    "               'max_features': [None, 'sqrt', 'log2']}\n",
    "\n",
    "# SCAFFOLD Train test splitting\n",
    "split_and_gs(X, y, estimator, hyperparams, \n",
    "             splitting='scaffold', test_size=0.25, \n",
    "             scaffold_series=scaffold_series)"
   ]
  },
  {
   "cell_type": "markdown",
   "metadata": {},
   "source": [
    "<h3 style='color: #F84122; padding: 0px;; margin: 0px'>GS: Bagging Classifier (k-NN as base estimator) </h3>\n",
    "<b>DUD  - Random and Stratified Scaffold Splitting</b>"
   ]
  },
  {
   "cell_type": "code",
   "execution_count": 25,
   "metadata": {
    "cell_style": "split"
   },
   "outputs": [
    {
     "name": "stdout",
     "output_type": "stream",
     "text": [
      "CPU times: user 23.7 ms, sys: 0 ns, total: 23.7 ms\n",
      "Wall time: 240 ms\n"
     ]
    }
   ],
   "source": [
    "%%time\n",
    "from sklearn.ensemble import BaggingClassifier\n",
    "\n",
    "knn = KNeighborsClassifier(n_neighbors=125, p=1, \n",
    "                           weights='distance')\n",
    "\n",
    "estimator = BaggingClassifier(base_estimator=knn, \n",
    "                              n_jobs=6, oob_score=True)\n",
    "\n",
    "hyperparams = {'n_estimators': [300]}\n",
    "\n",
    "# RANDOM Train test splitting\n",
    "# split_and_gs(X, y, estimator, hyperparams, \n",
    "#              splitting='random', test_size=0.25, \n",
    "#              scaffold_series=None)"
   ]
  },
  {
   "cell_type": "code",
   "execution_count": 26,
   "metadata": {
    "cell_style": "split"
   },
   "outputs": [
    {
     "name": "stdout",
     "output_type": "stream",
     "text": [
      "CPU times: user 39 µs, sys: 23 µs, total: 62 µs\n",
      "Wall time: 110 µs\n"
     ]
    }
   ],
   "source": [
    "%%time\n",
    "# from sklearn.ensemble import BaggingClassifier\n",
    "\n",
    "knn = KNeighborsClassifier(n_neighbors=125, p=1, \n",
    "                           weights='distance')\n",
    "\n",
    "estimator = BaggingClassifier(base_estimator=knn, \n",
    "                              n_jobs=6, oob_score=True)\n",
    "\n",
    "hyperparams = {'n_estimators': [300]}\n",
    "\n",
    "# SCAFFOLD Train test splitting\n",
    "# split_and_gs(X, y, estimator, hyperparams, \n",
    "#              splitting='scaffold', test_size=0.25, \n",
    "#              scaffold_series=scaffold_series)"
   ]
  },
  {
   "cell_type": "markdown",
   "metadata": {},
   "source": [
    "<h3 style='color: #F84122; padding: 0px;; margin: 0px'>GS:Random Forest </h3>\n",
    "<b>DUD  - Random and Stratified Scaffold Splitting</b>"
   ]
  },
  {
   "cell_type": "code",
   "execution_count": 27,
   "metadata": {
    "cell_style": "split"
   },
   "outputs": [
    {
     "name": "stdout",
     "output_type": "stream",
     "text": [
      "No. of molecules in train set: 915, with 30 actives.\n",
      "No. of molecules in test set: 306, with 10 actives.\n",
      "\n",
      "********** GRID SEARCH RESULTS **********\n",
      "- Mean CV ROC-AUC score: 0.879\n",
      "- Train ROC-AUC: 0.927\n",
      "- Test ROC-AUC: 0.868\n",
      "- Best hyperparameters {'max_depth': 5, 'max_features': 'sqrt', 'min_samples_leaf': 0.1, 'n_estimators': 300}\n",
      "******************************************\n",
      "\n",
      "------------------------------------------------------------\n",
      "**** Best Conformation's ROC-AUC using docking scores ****\n",
      "> Train best conf. ROC-AUC: 0.896 \t> Median ROC-AUC: 0.821\n",
      "> Test best conf. ROC-AUC: 0.952 \t> Median ROC-AUC: 0.884\n",
      "------------------------------------------------------------\n",
      "CPU times: user 1.64 s, sys: 170 ms, total: 1.81 s\n",
      "Wall time: 21.5 s\n"
     ]
    }
   ],
   "source": [
    "%%time\n",
    "from sklearn.ensemble import RandomForestClassifier\n",
    "\n",
    "estimator = RandomForestClassifier()\n",
    "\n",
    "hyperparams = {'n_estimators': [300, 500],\n",
    "             'max_depth': [2,  5],\n",
    "             'min_samples_leaf': [0.1, 0.2],\n",
    "             'max_features': ['log2', 'sqrt']\n",
    "            }\n",
    "\n",
    "# RANDOM Train test splitting\n",
    "split_and_gs(X, y, estimator, hyperparams, \n",
    "             splitting='random', test_size=0.25, \n",
    "             scaffold_series=None)"
   ]
  },
  {
   "cell_type": "code",
   "execution_count": 28,
   "metadata": {
    "cell_style": "split",
    "scrolled": true
   },
   "outputs": [
    {
     "name": "stdout",
     "output_type": "stream",
     "text": [
      "No. of molecules in train set: 885, with 30 actives.\n",
      "No. of molecules in test set: 336, with 10 actives.\n",
      "\n",
      "********** GRID SEARCH RESULTS **********\n",
      "- Mean CV ROC-AUC score: 0.858\n",
      "- Train ROC-AUC: 0.908\n",
      "- Test ROC-AUC: 0.961\n",
      "- Best hyperparameters {'max_depth': 2, 'max_features': 'sqrt', 'min_samples_leaf': 0.1, 'n_estimators': 300}\n",
      "******************************************\n",
      "\n",
      "------------------------------------------------------------\n",
      "**** Best Conformation's ROC-AUC using docking scores ****\n",
      "> Train best conf. ROC-AUC: 0.884 \t> Median ROC-AUC: 0.816\n",
      "> Test best conf. ROC-AUC: 0.965 \t> Median ROC-AUC: 0.897\n",
      "------------------------------------------------------------\n",
      "CPU times: user 1.71 s, sys: 0 ns, total: 1.71 s\n",
      "Wall time: 17.9 s\n"
     ]
    }
   ],
   "source": [
    "%%time\n",
    "from sklearn.ensemble import RandomForestClassifier\n",
    "\n",
    "estimator = RandomForestClassifier()\n",
    "\n",
    "hyperparams = {'n_estimators': [300, 500],\n",
    "             'max_depth': [2,  5],\n",
    "             'min_samples_leaf': [0.1, 0.2],\n",
    "             'max_features': ['log2', 'sqrt']\n",
    "            }\n",
    "\n",
    "# SCAFFOLD Train test splitting\n",
    "split_and_gs(X, y, estimator, hyperparams, \n",
    "             splitting='scaffold', test_size=0.25, \n",
    "             scaffold_series=scaffold_series)"
   ]
  },
  {
   "cell_type": "markdown",
   "metadata": {},
   "source": [
    "***\n",
    "\n",
    "<h2 style='background-color: #F9E5AB; padding: 5px;'>\n",
    "    Train-Test with different libraries \n",
    "</h2>\n",
    "<div style='background-color: #FE8460; min-height: 5px'></div>\n",
    "\n",
    "##### Here, Random or Scaffold Splitting are not used"
   ]
  },
  {
   "cell_type": "code",
   "execution_count": 29,
   "metadata": {},
   "outputs": [],
   "source": [
    "# Train DEKOIS, test DUD\n",
    "def split_by_library_and_gs(X, y, lib_train_name, lib_test_name):\n",
    "    '''Train-Test \"split\" by library, and run Grid Search. Splits the main dataframe by library\n",
    "    using different molecular libraries for Training and Testing.'''\n",
    "    X_train = X.loc[lib_train_name]\n",
    "    y_train = y.loc[lib_train_name]\n",
    "\n",
    "    X_test = X.loc[lib_test_name]\n",
    "    y_test = y.loc[lib_test_name]\n",
    "\n",
    "    run_grid_search(estimator, \n",
    "                        X_train, y_train, X_test, y_test, \n",
    "                        hyperparams = hyperparams)\n",
    "\n",
    "    _get_best_conf_roc_auc(X_train, y_train, X_test, y_test)"
   ]
  },
  {
   "cell_type": "code",
   "execution_count": 30,
   "metadata": {},
   "outputs": [],
   "source": [
    "# **********************************************\n",
    "# Train and Test sets from diferent libraries\n",
    "# **********************************************\n",
    "X = X_merged_dksc\n",
    "y = y_true_merged"
   ]
  },
  {
   "cell_type": "markdown",
   "metadata": {
    "cell_style": "center"
   },
   "source": [
    "<h3 style='color: #F84122; padding: 0px;; margin: 0px'>GS: Linear SVM  </h3>\n",
    "<b>Train and Test with different libraries</b>"
   ]
  },
  {
   "cell_type": "code",
   "execution_count": 31,
   "metadata": {
    "cell_style": "split"
   },
   "outputs": [
    {
     "name": "stdout",
     "output_type": "stream",
     "text": [
      "No. of molecules in train set: 1221, with 40 actives.\n",
      "No. of molecules in test set: 4893, with 141 actives.\n",
      "\n",
      "********** GRID SEARCH RESULTS **********\n",
      "- Mean CV ROC-AUC score: 0.889\n",
      "- Train ROC-AUC: 0.894\n",
      "- Test ROC-AUC: 0.607\n",
      "- Best hyperparameters {'C': 1e-15}\n",
      "******************************************\n",
      "\n",
      "------------------------------------------------------------\n",
      "**** Best Conformation's ROC-AUC using docking scores ****\n",
      "> Train best conf. ROC-AUC: 0.894 \t> Median ROC-AUC: 0.833\n",
      "> Test best conf. ROC-AUC: 0.72 \t> Median ROC-AUC: 0.571\n",
      "------------------------------------------------------------\n",
      "CPU times: user 760 ms, sys: 0 ns, total: 760 ms\n",
      "Wall time: 1.18 s\n"
     ]
    }
   ],
   "source": [
    "%%time\n",
    "from sklearn.svm import SVC\n",
    "estimator = SVC(kernel = 'linear', probability=True)\n",
    "hyperparams = {'C': np.geomspace(1e-15, 1e-6, 4)}\n",
    "\n",
    "# Train DEKOIS, test DUD\n",
    "train_lib = 'DEKOIS'\n",
    "test_lib = 'DUD'\n",
    "split_by_library_and_gs(X, y, train_lib, test_lib)"
   ]
  },
  {
   "cell_type": "code",
   "execution_count": 32,
   "metadata": {
    "cell_style": "split",
    "scrolled": true
   },
   "outputs": [
    {
     "name": "stdout",
     "output_type": "stream",
     "text": [
      "No. of molecules in train set: 4893, with 141 actives.\n",
      "No. of molecules in test set: 1221, with 40 actives.\n",
      "\n",
      "********** GRID SEARCH RESULTS **********\n",
      "- Mean CV ROC-AUC score: 0.782\n",
      "- Train ROC-AUC: 0.800\n",
      "- Test ROC-AUC: 0.870\n",
      "- Best hyperparameters {'C': 1e-15}\n",
      "******************************************\n",
      "\n",
      "------------------------------------------------------------\n",
      "**** Best Conformation's ROC-AUC using docking scores ****\n",
      "> Train best conf. ROC-AUC: 0.72 \t> Median ROC-AUC: 0.571\n",
      "> Test best conf. ROC-AUC: 0.894 \t> Median ROC-AUC: 0.833\n",
      "------------------------------------------------------------\n",
      "CPU times: user 2.15 s, sys: 0 ns, total: 2.15 s\n",
      "Wall time: 10.9 s\n"
     ]
    }
   ],
   "source": [
    "%%time\n",
    "# from sklearn.svm import SVC\n",
    "estimator = SVC(kernel = 'linear', probability=True)\n",
    "hyperparams = {'C': np.geomspace(1e-15, 1e-6, 4)}\n",
    "\n",
    "# Train DEKOIS, test DUD\n",
    "train_lib = 'DUD'\n",
    "test_lib = 'DEKOIS'\n",
    "split_by_library_and_gs(X, y, train_lib, test_lib)"
   ]
  },
  {
   "cell_type": "markdown",
   "metadata": {},
   "source": [
    "<h3 style='color: #F84122; padding: 0px;; margin: 0px'>GS: Radial Basis Function SVM </h3>\n",
    "<b>Train and Test with different libraries</b>"
   ]
  },
  {
   "cell_type": "code",
   "execution_count": 33,
   "metadata": {
    "cell_style": "split"
   },
   "outputs": [
    {
     "name": "stdout",
     "output_type": "stream",
     "text": [
      "No. of molecules in train set: 1221, with 40 actives.\n",
      "No. of molecules in test set: 4893, with 141 actives.\n",
      "\n",
      "********** GRID SEARCH RESULTS **********\n",
      "- Mean CV ROC-AUC score: 0.888\n",
      "- Train ROC-AUC: 0.893\n",
      "- Test ROC-AUC: 0.613\n",
      "- Best hyperparameters {'C': 1e-08, 'gamma': 1e-06}\n",
      "******************************************\n",
      "\n",
      "------------------------------------------------------------\n",
      "**** Best Conformation's ROC-AUC using docking scores ****\n",
      "> Train best conf. ROC-AUC: 0.894 \t> Median ROC-AUC: 0.833\n",
      "> Test best conf. ROC-AUC: 0.72 \t> Median ROC-AUC: 0.571\n",
      "------------------------------------------------------------\n",
      "CPU times: user 1.12 s, sys: 0 ns, total: 1.12 s\n",
      "Wall time: 3.53 s\n"
     ]
    }
   ],
   "source": [
    "%%time\n",
    "estimator = SVC(kernel = 'rbf', probability=True)\n",
    "\n",
    "hyperparams = {'C': np.geomspace(1e-8, 1e-2, 4), \n",
    "               'gamma': np.geomspace(1e-6, 1e0, 4)}\n",
    "\n",
    "# Train DEKOIS, test DUD\n",
    "train_lib = 'DEKOIS'\n",
    "test_lib = 'DUD'\n",
    "split_by_library_and_gs(X, y, train_lib, test_lib)"
   ]
  },
  {
   "cell_type": "code",
   "execution_count": 34,
   "metadata": {
    "cell_style": "split"
   },
   "outputs": [
    {
     "name": "stdout",
     "output_type": "stream",
     "text": [
      "No. of molecules in train set: 4893, with 141 actives.\n",
      "No. of molecules in test set: 1221, with 40 actives.\n",
      "\n",
      "********** GRID SEARCH RESULTS **********\n",
      "- Mean CV ROC-AUC score: 0.867\n",
      "- Train ROC-AUC: 0.977\n",
      "- Test ROC-AUC: 0.638\n",
      "- Best hyperparameters {'C': 0.01, 'gamma': 0.01}\n",
      "******************************************\n",
      "\n",
      "------------------------------------------------------------\n",
      "**** Best Conformation's ROC-AUC using docking scores ****\n",
      "> Train best conf. ROC-AUC: 0.72 \t> Median ROC-AUC: 0.571\n",
      "> Test best conf. ROC-AUC: 0.894 \t> Median ROC-AUC: 0.833\n",
      "------------------------------------------------------------\n",
      "CPU times: user 5.61 s, sys: 0 ns, total: 5.61 s\n",
      "Wall time: 1min 6s\n"
     ]
    }
   ],
   "source": [
    "%%time\n",
    "estimator = SVC(kernel = 'rbf', probability=True)\n",
    "\n",
    "hyperparams = {'C': np.geomspace(1e-8, 1e-2, 4), \n",
    "               'gamma': np.geomspace(1e-6, 1e0, 4)}\n",
    "\n",
    "# Train DEKOIS, test DUD\n",
    "train_lib = 'DUD'\n",
    "test_lib = 'DEKOIS'\n",
    "split_by_library_and_gs(X, y, train_lib, test_lib)"
   ]
  },
  {
   "cell_type": "markdown",
   "metadata": {},
   "source": [
    "<h3 style='color: #F84122; padding: 0px;; margin: 0px'>GS: Logistic Regression</h3>\n",
    "<b>Train and Test with different libraries</b>"
   ]
  },
  {
   "cell_type": "code",
   "execution_count": 35,
   "metadata": {
    "cell_style": "split"
   },
   "outputs": [
    {
     "name": "stdout",
     "output_type": "stream",
     "text": [
      "No. of molecules in train set: 1221, with 40 actives.\n",
      "No. of molecules in test set: 4893, with 141 actives.\n",
      "\n",
      "********** GRID SEARCH RESULTS **********\n",
      "- Mean CV ROC-AUC score: 0.891\n",
      "- Train ROC-AUC: 0.890\n",
      "- Test ROC-AUC: 0.603\n",
      "- Best hyperparameters {'C': 0.0001, 'penalty': 'l2', 'solver': 'lbfgs'}\n",
      "******************************************\n",
      "\n",
      "------------------------------------------------------------\n",
      "**** Best Conformation's ROC-AUC using docking scores ****\n",
      "> Train best conf. ROC-AUC: 0.894 \t> Median ROC-AUC: 0.833\n",
      "> Test best conf. ROC-AUC: 0.72 \t> Median ROC-AUC: 0.571\n",
      "------------------------------------------------------------\n",
      "CPU times: user 1.66 s, sys: 0 ns, total: 1.66 s\n",
      "Wall time: 18.7 s\n"
     ]
    }
   ],
   "source": [
    "%%time\n",
    "from sklearn.linear_model import LogisticRegression\n",
    "estimator = LogisticRegression()\n",
    "\n",
    "hyperparams = {'C': np.geomspace(1e-4, 1e5, 4),\n",
    "               'penalty': ['l1', 'l2'], \n",
    "               'solver': ['lbfgs', 'liblinear']}\n",
    "\n",
    "# Train DEKOIS, test DUD\n",
    "train_lib = 'DEKOIS'\n",
    "test_lib = 'DUD'\n",
    "split_by_library_and_gs(X, y, train_lib, test_lib)"
   ]
  },
  {
   "cell_type": "code",
   "execution_count": 36,
   "metadata": {
    "cell_style": "split"
   },
   "outputs": [
    {
     "name": "stdout",
     "output_type": "stream",
     "text": [
      "No. of molecules in train set: 4893, with 141 actives.\n",
      "No. of molecules in test set: 1221, with 40 actives.\n",
      "\n",
      "********** GRID SEARCH RESULTS **********\n",
      "- Mean CV ROC-AUC score: 0.815\n",
      "- Train ROC-AUC: 0.922\n",
      "- Test ROC-AUC: 0.758\n",
      "- Best hyperparameters {'C': 100.0, 'penalty': 'l2', 'solver': 'liblinear'}\n",
      "******************************************\n",
      "\n",
      "------------------------------------------------------------\n",
      "**** Best Conformation's ROC-AUC using docking scores ****\n",
      "> Train best conf. ROC-AUC: 0.72 \t> Median ROC-AUC: 0.571\n",
      "> Test best conf. ROC-AUC: 0.894 \t> Median ROC-AUC: 0.833\n",
      "------------------------------------------------------------\n",
      "CPU times: user 2.61 s, sys: 46.6 ms, total: 2.66 s\n",
      "Wall time: 49 s\n"
     ]
    }
   ],
   "source": [
    "%%time\n",
    "# from sklearn.linear_model import LogisticRegression\n",
    "estimator = LogisticRegression()\n",
    "\n",
    "hyperparams = {'C': np.geomspace(1e-4, 1e5, 4), \n",
    "               'penalty': ['l1', 'l2'], \n",
    "               'solver': ['lbfgs', 'liblinear']}\n",
    "\n",
    "# Train DEKOIS, test DUD\n",
    "train_lib = 'DUD'\n",
    "test_lib = 'DEKOIS'\n",
    "split_by_library_and_gs(X, y, train_lib, test_lib)"
   ]
  },
  {
   "cell_type": "markdown",
   "metadata": {},
   "source": [
    "<h3 style='color: #F84122; padding: 0px;; margin: 0px'>GS:Random Forest  </h3>\n",
    "<b>Train and Test with different libraries</b>"
   ]
  },
  {
   "cell_type": "code",
   "execution_count": 37,
   "metadata": {
    "cell_style": "split"
   },
   "outputs": [
    {
     "name": "stdout",
     "output_type": "stream",
     "text": [
      "No. of molecules in train set: 1221, with 40 actives.\n",
      "No. of molecules in test set: 4893, with 141 actives.\n",
      "\n",
      "********** GRID SEARCH RESULTS **********\n",
      "- Mean CV ROC-AUC score: 0.878\n",
      "- Train ROC-AUC: 0.927\n",
      "- Test ROC-AUC: 0.572\n",
      "- Best hyperparameters {'max_depth': 3, 'max_features': 'sqrt', 'min_samples_leaf': 0.05, 'min_samples_split': 0.3, 'n_estimators': 300}\n",
      "******************************************\n",
      "\n",
      "------------------------------------------------------------\n",
      "**** Best Conformation's ROC-AUC using docking scores ****\n",
      "> Train best conf. ROC-AUC: 0.894 \t> Median ROC-AUC: 0.833\n",
      "> Test best conf. ROC-AUC: 0.72 \t> Median ROC-AUC: 0.571\n",
      "------------------------------------------------------------\n",
      "CPU times: user 2.18 s, sys: 24.8 ms, total: 2.21 s\n",
      "Wall time: 39.2 s\n"
     ]
    }
   ],
   "source": [
    "%%time\n",
    "from sklearn.ensemble import RandomForestClassifier\n",
    "\n",
    "estimator = RandomForestClassifier()\n",
    "\n",
    "hyperparams = {'n_estimators': [300, 500],\n",
    "             'max_depth': [3,  5, 7],\n",
    "             'min_samples_leaf': [0.03, 0.05],\n",
    "               'min_samples_split': [0.2,  0.3],\n",
    "             'max_features': ['sqrt']\n",
    "            }\n",
    "\n",
    "# Train DEKOIS, test DUD\n",
    "train_lib = 'DEKOIS'\n",
    "test_lib = 'DUD'\n",
    "split_by_library_and_gs(X, y, train_lib, test_lib)"
   ]
  },
  {
   "cell_type": "code",
   "execution_count": 38,
   "metadata": {
    "cell_style": "split"
   },
   "outputs": [
    {
     "name": "stdout",
     "output_type": "stream",
     "text": [
      "No. of molecules in train set: 4893, with 141 actives.\n",
      "No. of molecules in test set: 1221, with 40 actives.\n",
      "\n",
      "********** GRID SEARCH RESULTS **********\n",
      "- Mean CV ROC-AUC score: 0.803\n",
      "- Train ROC-AUC: 0.866\n",
      "- Test ROC-AUC: 0.683\n",
      "- Best hyperparameters {'max_depth': 7, 'max_features': 'sqrt', 'min_samples_leaf': 0.03, 'min_samples_split': 0.2, 'n_estimators': 300}\n",
      "******************************************\n",
      "\n",
      "------------------------------------------------------------\n",
      "**** Best Conformation's ROC-AUC using docking scores ****\n",
      "> Train best conf. ROC-AUC: 0.72 \t> Median ROC-AUC: 0.571\n",
      "> Test best conf. ROC-AUC: 0.894 \t> Median ROC-AUC: 0.833\n",
      "------------------------------------------------------------\n",
      "CPU times: user 4.46 s, sys: 0 ns, total: 4.46 s\n",
      "Wall time: 1min 20s\n"
     ]
    }
   ],
   "source": [
    "%%time\n",
    "from sklearn.ensemble import RandomForestClassifier\n",
    "\n",
    "estimator = RandomForestClassifier()\n",
    "\n",
    "hyperparams = {'n_estimators': [300, 500],\n",
    "             'max_depth': [3,  5, 7],\n",
    "             'min_samples_leaf': [0.03, 0.05],\n",
    "               'min_samples_split': [0.2,  0.3],\n",
    "             'max_features': ['sqrt']\n",
    "            }\n",
    "\n",
    "# Train DEKOIS, test DUD\n",
    "train_lib = 'DUD'\n",
    "test_lib = 'DEKOIS'\n",
    "split_by_library_and_gs(X, y, train_lib, test_lib)"
   ]
  },
  {
   "cell_type": "markdown",
   "metadata": {},
   "source": [
    "***\n",
    "<h2 style='background-color: #F9E5AB; padding: 5px;'>\n",
    "    Merged libraries \n",
    "</h2>\n",
    "<div style='background-color: #FE8460; min-height: 5px'></div>\n",
    "\n",
    "#### DEKOIS, DUD and COCRYS are  treated as one unique library"
   ]
  },
  {
   "cell_type": "code",
   "execution_count": 63,
   "metadata": {},
   "outputs": [],
   "source": [
    "# Train and test over \n",
    "X = X_merged_dksc\n",
    "y = y_true_merged\n",
    "\n",
    "scaffold_series = df_scff_murcko['scff_generic']"
   ]
  },
  {
   "cell_type": "markdown",
   "metadata": {
    "cell_style": "center"
   },
   "source": [
    "<h3 style='color: #F84122; padding: 0px;; margin: 0px'>GS: Linear SVM </h3>\n",
    "<b>Merged Libraries</b>"
   ]
  },
  {
   "cell_type": "code",
   "execution_count": 40,
   "metadata": {
    "cell_style": "split",
    "scrolled": true
   },
   "outputs": [
    {
     "name": "stdout",
     "output_type": "stream",
     "text": [
      "No. of molecules in train set: 4674, with 225 actives.\n",
      "No. of molecules in test set: 1559, with 75 actives.\n",
      "\n",
      "********** GRID SEARCH RESULTS **********\n",
      "- Mean CV ROC-AUC score: 0.712\n",
      "- Train ROC-AUC: 0.783\n",
      "- Test ROC-AUC: 0.758\n",
      "- Best hyperparameters {'C': 1e-15}\n",
      "******************************************\n",
      "\n",
      "------------------------------------------------------------\n",
      "**** Best Conformation's ROC-AUC using docking scores ****\n",
      "> Train best conf. ROC-AUC: 0.683 \t> Median ROC-AUC: 0.602\n",
      "> Test best conf. ROC-AUC: 0.7 \t> Median ROC-AUC: 0.632\n",
      "------------------------------------------------------------\n",
      "CPU times: user 3.11 s, sys: 0 ns, total: 3.11 s\n",
      "Wall time: 12.9 s\n"
     ]
    }
   ],
   "source": [
    "%%time\n",
    "from sklearn.svm import SVC\n",
    "estimator = SVC(kernel = 'linear', probability=True)\n",
    "hyperparams = {'C': np.geomspace(1e-15, 1e-9, 3)}\n",
    "\n",
    "# RANDOM Train test splitting\n",
    "split_and_gs(X, y, estimator, hyperparams, \n",
    "             splitting='random', test_size=0.25, \n",
    "             scaffold_series=None)"
   ]
  },
  {
   "cell_type": "code",
   "execution_count": 64,
   "metadata": {
    "cell_style": "split"
   },
   "outputs": [
    {
     "name": "stdout",
     "output_type": "stream",
     "text": [
      "No. of molecules in train set: 4449, with 225 actives.\n",
      "No. of molecules in test set: 1784, with 75 actives.\n",
      "\n",
      "********** GRID SEARCH RESULTS **********\n",
      "- Mean CV ROC-AUC score: 0.633\n",
      "- Train ROC-AUC: 0.721\n",
      "- Test ROC-AUC: 0.601\n",
      "- Best hyperparameters {'C': 1e-15}\n",
      "******************************************\n",
      "\n",
      "------------------------------------------------------------\n",
      "**** Best Conformation's ROC-AUC using docking scores ****\n",
      "> Train best conf. ROC-AUC: 0.647 \t> Median ROC-AUC: 0.598\n",
      "> Test best conf. ROC-AUC: 0.639 \t> Median ROC-AUC: 0.584\n",
      "------------------------------------------------------------\n",
      "CPU times: user 3.04 s, sys: 287 ms, total: 3.32 s\n",
      "Wall time: 16.5 s\n"
     ]
    }
   ],
   "source": [
    "%%time\n",
    "# from sklearn.svm import SVC\n",
    "estimator = SVC(kernel = 'linear', probability=True)\n",
    "hyperparams = {'C': np.geomspace(1e-15, 1e-9, 3)}\n",
    "\n",
    "# SCAFFOLD Train test splitting\n",
    "split_and_gs(X, y, estimator, hyperparams, \n",
    "             splitting='scaffold', test_size=0.25, \n",
    "             scaffold_series=scaffold_series)"
   ]
  },
  {
   "cell_type": "markdown",
   "metadata": {},
   "source": [
    "<h3 style='color: #F84122; padding: 0px;; margin: 0px'>GS: Radial Basis Function SVM</h3>\n",
    "<b>Merged Libraries</b>"
   ]
  },
  {
   "cell_type": "code",
   "execution_count": 42,
   "metadata": {},
   "outputs": [
    {
     "data": {
      "text/plain": [
       "array([1.e-04, 1.e-02, 1.e+00])"
      ]
     },
     "execution_count": 42,
     "metadata": {},
     "output_type": "execute_result"
    }
   ],
   "source": [
    "import numpy as np\n",
    "np.geomspace(1e0, 1e4, 4)\n",
    "np.geomspace(1e-4, 1e0, 3)"
   ]
  },
  {
   "cell_type": "code",
   "execution_count": 43,
   "metadata": {
    "cell_style": "split"
   },
   "outputs": [
    {
     "name": "stdout",
     "output_type": "stream",
     "text": [
      "No. of molecules in train set: 4674, with 225 actives.\n",
      "No. of molecules in test set: 1559, with 75 actives.\n",
      "\n",
      "********** GRID SEARCH RESULTS **********\n",
      "- Mean CV ROC-AUC score: 0.878\n",
      "- Train ROC-AUC: 1.000\n",
      "- Test ROC-AUC: 0.891\n",
      "- Best hyperparameters {'C': 10.0, 'gamma': 0.01}\n",
      "******************************************\n",
      "\n",
      "------------------------------------------------------------\n",
      "**** Best Conformation's ROC-AUC using docking scores ****\n",
      "> Train best conf. ROC-AUC: 0.698 \t> Median ROC-AUC: 0.616\n",
      "> Test best conf. ROC-AUC: 0.664 \t> Median ROC-AUC: 0.587\n",
      "------------------------------------------------------------\n",
      "CPU times: user 9.61 s, sys: 38.5 ms, total: 9.65 s\n",
      "Wall time: 3min 6s\n"
     ]
    }
   ],
   "source": [
    "%%time\n",
    "from sklearn.svm import SVC\n",
    "estimator = SVC(kernel = 'rbf', probability=True)\n",
    "\n",
    "hyperparams = {'C': np.geomspace(1e0, 1e2, 3), \n",
    "               'gamma': np.geomspace(1e-4, 1e0, 3)}\n",
    "\n",
    "# RANDOM Train test splitting\n",
    "split_and_gs(X, y, estimator, hyperparams, \n",
    "             splitting='random', test_size=0.25, \n",
    "             scaffold_series=None)"
   ]
  },
  {
   "cell_type": "code",
   "execution_count": 65,
   "metadata": {
    "cell_style": "split"
   },
   "outputs": [
    {
     "name": "stdout",
     "output_type": "stream",
     "text": [
      "No. of molecules in train set: 4449, with 225 actives.\n",
      "No. of molecules in test set: 1784, with 75 actives.\n",
      "\n",
      "********** GRID SEARCH RESULTS **********\n",
      "- Mean CV ROC-AUC score: 0.684\n",
      "- Train ROC-AUC: 0.997\n",
      "- Test ROC-AUC: 0.718\n",
      "- Best hyperparameters {'C': 1.0, 'gamma': 0.01}\n",
      "******************************************\n",
      "\n",
      "------------------------------------------------------------\n",
      "**** Best Conformation's ROC-AUC using docking scores ****\n",
      "> Train best conf. ROC-AUC: 0.647 \t> Median ROC-AUC: 0.598\n",
      "> Test best conf. ROC-AUC: 0.639 \t> Median ROC-AUC: 0.584\n",
      "------------------------------------------------------------\n",
      "CPU times: user 10.7 s, sys: 152 ms, total: 10.8 s\n",
      "Wall time: 2min 41s\n"
     ]
    }
   ],
   "source": [
    "%%time\n",
    "estimator = SVC(kernel = 'rbf', probability=True)\n",
    "\n",
    "hyperparams = {'C': np.geomspace(1e0, 1e2, 3), \n",
    "               'gamma': np.geomspace(1e-4, 1e0, 3)}\n",
    "\n",
    "# SCAFFOLD Train test splitting\n",
    "split_and_gs(X, y, estimator, hyperparams, \n",
    "             splitting='scaffold', test_size=0.25, \n",
    "             scaffold_series=scaffold_series)"
   ]
  },
  {
   "cell_type": "markdown",
   "metadata": {},
   "source": [
    "<h3 style='color: #F84122; padding: 0px;; margin: 0px'>GS: Logistic Regression</h3>\n",
    "<b>Merged Libraries</b>"
   ]
  },
  {
   "cell_type": "code",
   "execution_count": 45,
   "metadata": {
    "cell_style": "split"
   },
   "outputs": [
    {
     "name": "stdout",
     "output_type": "stream",
     "text": [
      "No. of molecules in train set: 4674, with 225 actives.\n",
      "No. of molecules in test set: 1559, with 75 actives.\n",
      "\n",
      "********** GRID SEARCH RESULTS **********\n",
      "- Mean CV ROC-AUC score: 0.823\n",
      "- Train ROC-AUC: 0.884\n",
      "- Test ROC-AUC: 0.858\n",
      "- Best hyperparameters {'C': 1.0, 'penalty': 'l1', 'solver': 'liblinear'}\n",
      "******************************************\n",
      "\n",
      "------------------------------------------------------------\n",
      "**** Best Conformation's ROC-AUC using docking scores ****\n",
      "> Train best conf. ROC-AUC: 0.682 \t> Median ROC-AUC: 0.609\n",
      "> Test best conf. ROC-AUC: 0.706 \t> Median ROC-AUC: 0.605\n",
      "------------------------------------------------------------\n",
      "CPU times: user 6.84 s, sys: 0 ns, total: 6.84 s\n",
      "Wall time: 33.3 s\n"
     ]
    }
   ],
   "source": [
    "%%time\n",
    "from sklearn.linear_model import LogisticRegression\n",
    "estimator = LogisticRegression()\n",
    "\n",
    "hyperparams = {'C': np.geomspace(1e-4, 1e4, 3), \n",
    "               'penalty': ['l1', 'l2'], \n",
    "               'solver': ['lbfgs', 'liblinear']}\n",
    "\n",
    "# RANDOM Train test splitting\n",
    "split_and_gs(X, y, estimator, hyperparams, \n",
    "             splitting='random', test_size=0.25, \n",
    "             scaffold_series=None)"
   ]
  },
  {
   "cell_type": "code",
   "execution_count": 66,
   "metadata": {
    "cell_style": "split"
   },
   "outputs": [
    {
     "name": "stdout",
     "output_type": "stream",
     "text": [
      "No. of molecules in train set: 4449, with 225 actives.\n",
      "No. of molecules in test set: 1784, with 75 actives.\n",
      "\n",
      "********** GRID SEARCH RESULTS **********\n",
      "- Mean CV ROC-AUC score: 0.657\n",
      "- Train ROC-AUC: 0.822\n",
      "- Test ROC-AUC: 0.670\n",
      "- Best hyperparameters {'C': 100.0, 'penalty': 'l1', 'solver': 'liblinear'}\n",
      "******************************************\n",
      "\n",
      "------------------------------------------------------------\n",
      "**** Best Conformation's ROC-AUC using docking scores ****\n",
      "> Train best conf. ROC-AUC: 0.647 \t> Median ROC-AUC: 0.598\n",
      "> Test best conf. ROC-AUC: 0.639 \t> Median ROC-AUC: 0.584\n",
      "------------------------------------------------------------\n",
      "CPU times: user 6.65 s, sys: 154 ms, total: 6.81 s\n",
      "Wall time: 29.2 s\n"
     ]
    }
   ],
   "source": [
    "%%time\n",
    "# from sklearn.linear_model import LogisticRegression\n",
    "estimator = LogisticRegression()\n",
    "\n",
    "hyperparams = {'C': np.geomspace(1e-4, 1e5, 4), \n",
    "               'penalty': ['l1', 'l2'], \n",
    "               'solver': ['lbfgs', 'liblinear']}\n",
    "\n",
    "# SCAFFOLD Train test splitting\n",
    "split_and_gs(X, y, estimator, hyperparams, \n",
    "             splitting='scaffold', test_size=0.25, \n",
    "             scaffold_series=scaffold_series)"
   ]
  },
  {
   "cell_type": "markdown",
   "metadata": {},
   "source": [
    "<h3 style='color: #F84122; padding: 0px;; margin: 0px'>GS: Decision Tree Classifier</h3>\n",
    "<b>Merged Libraries</b>"
   ]
  },
  {
   "cell_type": "code",
   "execution_count": 47,
   "metadata": {
    "cell_style": "split"
   },
   "outputs": [
    {
     "name": "stdout",
     "output_type": "stream",
     "text": [
      "No. of molecules in train set: 4674, with 225 actives.\n",
      "No. of molecules in test set: 1559, with 75 actives.\n",
      "\n",
      "********** GRID SEARCH RESULTS **********\n",
      "- Mean CV ROC-AUC score: 0.742\n",
      "- Train ROC-AUC: 0.812\n",
      "- Test ROC-AUC: 0.719\n",
      "- Best hyperparameters {'criterion': 'entropy', 'max_depth': 5, 'max_features': None, 'min_samples_leaf': 0.05, 'min_samples_split': 0.2}\n",
      "******************************************\n",
      "\n",
      "------------------------------------------------------------\n",
      "**** Best Conformation's ROC-AUC using docking scores ****\n",
      "> Train best conf. ROC-AUC: 0.69 \t> Median ROC-AUC: 0.622\n",
      "> Test best conf. ROC-AUC: 0.676 \t> Median ROC-AUC: 0.567\n",
      "------------------------------------------------------------\n",
      "CPU times: user 2.57 s, sys: 27.8 ms, total: 2.59 s\n",
      "Wall time: 5.95 s\n"
     ]
    }
   ],
   "source": [
    "%%time\n",
    "from sklearn.tree import DecisionTreeClassifier\n",
    "\n",
    "estimator = DecisionTreeClassifier(splitter='best')\n",
    "hyperparams = {'criterion': ['gini', 'entropy'], \n",
    "               'max_depth': [2, 3, 5],\n",
    "               'min_samples_split': [0.2,  0.3],\n",
    "               'min_samples_leaf': [0.02, 0.05, 0.1],\n",
    "               'max_features': [None, 'sqrt', 'log2']}\n",
    "\n",
    "# RANDOM Train test splitting\n",
    "split_and_gs(X, y, estimator, hyperparams, \n",
    "             splitting='random', test_size=0.25, \n",
    "             scaffold_series=None)"
   ]
  },
  {
   "cell_type": "code",
   "execution_count": 67,
   "metadata": {
    "cell_style": "split"
   },
   "outputs": [
    {
     "name": "stdout",
     "output_type": "stream",
     "text": [
      "No. of molecules in train set: 4449, with 225 actives.\n",
      "No. of molecules in test set: 1784, with 75 actives.\n",
      "\n",
      "********** GRID SEARCH RESULTS **********\n",
      "- Mean CV ROC-AUC score: 0.642\n",
      "- Train ROC-AUC: 0.659\n",
      "- Test ROC-AUC: 0.597\n",
      "- Best hyperparameters {'criterion': 'entropy', 'max_depth': 2, 'max_features': 'sqrt', 'min_samples_leaf': 0.1, 'min_samples_split': 0.2}\n",
      "******************************************\n",
      "\n",
      "------------------------------------------------------------\n",
      "**** Best Conformation's ROC-AUC using docking scores ****\n",
      "> Train best conf. ROC-AUC: 0.647 \t> Median ROC-AUC: 0.598\n",
      "> Test best conf. ROC-AUC: 0.639 \t> Median ROC-AUC: 0.584\n",
      "------------------------------------------------------------\n",
      "CPU times: user 2.64 s, sys: 216 ms, total: 2.85 s\n",
      "Wall time: 6.02 s\n"
     ]
    }
   ],
   "source": [
    "%%time\n",
    "from sklearn.tree import DecisionTreeClassifier\n",
    "\n",
    "estimator = DecisionTreeClassifier(splitter='best')\n",
    "hyperparams = {'criterion': ['gini', 'entropy'], \n",
    "               'max_depth': [2, 3, 5],\n",
    "               'min_samples_split': [0.2,  0.3],\n",
    "               'min_samples_leaf': [0.02, 0.05, 0.1],\n",
    "               'max_features': [None, 'sqrt', 'log2']}\n",
    "\n",
    "# SCAFFOLD Train test splitting\n",
    "split_and_gs(X, y, estimator, hyperparams, \n",
    "             splitting='scaffold', test_size=0.25, \n",
    "             scaffold_series=scaffold_series)"
   ]
  },
  {
   "cell_type": "markdown",
   "metadata": {},
   "source": [
    "<h3 style='color: #F84122; padding: 0px;; margin: 0px'>GS: Bagging Classifier (k-NN as base estimator) </h3>\n",
    "<b>Merged Libraries</b>"
   ]
  },
  {
   "cell_type": "code",
   "execution_count": 49,
   "metadata": {
    "cell_style": "split"
   },
   "outputs": [
    {
     "name": "stdout",
     "output_type": "stream",
     "text": [
      "CPU times: user 50 µs, sys: 0 ns, total: 50 µs\n",
      "Wall time: 56.7 µs\n"
     ]
    }
   ],
   "source": [
    "%%time\n",
    "from sklearn.ensemble import BaggingClassifier\n",
    "\n",
    "knn = KNeighborsClassifier(n_neighbors=125, p=1, \n",
    "                           weights='distance')\n",
    "\n",
    "estimator = BaggingClassifier(base_estimator=knn, \n",
    "                              n_jobs=3, oob_score=True)\n",
    "\n",
    "hyperparams = {'n_estimators': [300]}\n",
    "\n",
    "# RANDOM Train test splitting\n",
    "# split_and_gs(X, y, estimator, hyperparams, \n",
    "#              splitting='random', test_size=0.25, \n",
    "#              scaffold_series=None)"
   ]
  },
  {
   "cell_type": "code",
   "execution_count": 50,
   "metadata": {
    "cell_style": "split"
   },
   "outputs": [
    {
     "name": "stdout",
     "output_type": "stream",
     "text": [
      "CPU times: user 43 µs, sys: 0 ns, total: 43 µs\n",
      "Wall time: 51.5 µs\n"
     ]
    }
   ],
   "source": [
    "%%time\n",
    "# from sklearn.ensemble import BaggingClassifier\n",
    "\n",
    "knn = KNeighborsClassifier(n_neighbors=125, p=1, \n",
    "                           weights='distance')\n",
    "\n",
    "estimator = BaggingClassifier(base_estimator=knn, \n",
    "                              n_jobs=3, oob_score=True)\n",
    "\n",
    "hyperparams = {'n_estimators': [300]}\n",
    "\n",
    "# SCAFFOLD Train test splitting\n",
    "# split_and_gs(X, y, estimator, hyperparams, \n",
    "#              splitting='scaffold', test_size=0.25, \n",
    "#              scaffold_series=scaffold_series)"
   ]
  },
  {
   "cell_type": "markdown",
   "metadata": {},
   "source": [
    "<h3 style='color: #F84122; padding: 0px;; margin: 0px'>GS: Random Forest </h3>\n",
    "<b>Merged Libraries</b>"
   ]
  },
  {
   "cell_type": "code",
   "execution_count": 51,
   "metadata": {
    "cell_style": "split"
   },
   "outputs": [
    {
     "name": "stdout",
     "output_type": "stream",
     "text": [
      "No. of molecules in train set: 4674, with 225 actives.\n",
      "No. of molecules in test set: 1559, with 75 actives.\n",
      "\n",
      "********** GRID SEARCH RESULTS **********\n",
      "- Mean CV ROC-AUC score: 0.750\n",
      "- Train ROC-AUC: 0.792\n",
      "- Test ROC-AUC: 0.696\n",
      "- Best hyperparameters {'max_depth': 3, 'max_features': 'sqrt', 'min_samples_leaf': 0.05, 'min_samples_split': 0.1, 'n_estimators': 400}\n",
      "******************************************\n",
      "\n",
      "------------------------------------------------------------\n",
      "**** Best Conformation's ROC-AUC using docking scores ****\n",
      "> Train best conf. ROC-AUC: 0.69 \t> Median ROC-AUC: 0.611\n",
      "> Test best conf. ROC-AUC: 0.67 \t> Median ROC-AUC: 0.597\n",
      "------------------------------------------------------------\n",
      "CPU times: user 3.57 s, sys: 196 ms, total: 3.76 s\n",
      "Wall time: 39.6 s\n"
     ]
    }
   ],
   "source": [
    "%%time\n",
    "from sklearn.ensemble import RandomForestClassifier\n",
    "\n",
    "estimator = RandomForestClassifier()\n",
    "\n",
    "hyperparams = {'n_estimators': [300, 400],\n",
    "               'max_depth': [2, 3],\n",
    "               'min_samples_split': [0.1,  0.3],\n",
    "               'min_samples_leaf': [0.02, 0.05],\n",
    "               'max_features': ['sqrt']\n",
    "            }\n",
    "\n",
    "# RANDOM Train test splitting\n",
    "split_and_gs(X, y, estimator, hyperparams, \n",
    "             splitting='random', test_size=0.25, \n",
    "             scaffold_series=None)"
   ]
  },
  {
   "cell_type": "code",
   "execution_count": 68,
   "metadata": {
    "cell_style": "split"
   },
   "outputs": [
    {
     "name": "stdout",
     "output_type": "stream",
     "text": [
      "No. of molecules in train set: 4449, with 225 actives.\n",
      "No. of molecules in test set: 1784, with 75 actives.\n",
      "\n",
      "********** GRID SEARCH RESULTS **********\n",
      "- Mean CV ROC-AUC score: 0.660\n",
      "- Train ROC-AUC: 0.758\n",
      "- Test ROC-AUC: 0.611\n",
      "- Best hyperparameters {'max_depth': 3, 'max_features': 'sqrt', 'min_samples_leaf': 0.05, 'min_samples_split': 0.1, 'n_estimators': 400}\n",
      "******************************************\n",
      "\n",
      "------------------------------------------------------------\n",
      "**** Best Conformation's ROC-AUC using docking scores ****\n",
      "> Train best conf. ROC-AUC: 0.647 \t> Median ROC-AUC: 0.598\n",
      "> Test best conf. ROC-AUC: 0.639 \t> Median ROC-AUC: 0.584\n",
      "------------------------------------------------------------\n",
      "CPU times: user 3.72 s, sys: 96.8 ms, total: 3.81 s\n",
      "Wall time: 37.9 s\n"
     ]
    }
   ],
   "source": [
    "%%time\n",
    "from sklearn.ensemble import RandomForestClassifier\n",
    "\n",
    "estimator = RandomForestClassifier()\n",
    "\n",
    "hyperparams = {'n_estimators': [300, 400],\n",
    "               'max_depth': [2, 3],\n",
    "               'min_samples_split': [0.1,  0.3],\n",
    "               'min_samples_leaf': [0.02, 0.05],\n",
    "               'max_features': ['sqrt']\n",
    "            }\n",
    "\n",
    "# SCAFFOLD Train test splitting\n",
    "split_and_gs(X, y, estimator, hyperparams, \n",
    "             splitting='scaffold', test_size=0.25, \n",
    "             scaffold_series=scaffold_series)"
   ]
  },
  {
   "cell_type": "code",
   "execution_count": null,
   "metadata": {},
   "outputs": [],
   "source": []
  }
 ],
 "metadata": {
  "kernelspec": {
   "display_name": "Python 3.7.6 64-bit ('mds': conda)",
   "language": "python",
   "name": "python37664bitmdsconda8fcfe9b6c3484566880235af88776fef"
  },
  "language_info": {
   "codemirror_mode": {
    "name": "ipython",
    "version": 3
   },
   "file_extension": ".py",
   "mimetype": "text/x-python",
   "name": "python",
   "nbconvert_exporter": "python",
   "pygments_lexer": "ipython3",
   "version": "3.7.6"
  }
 },
 "nbformat": 4,
 "nbformat_minor": 4
}
