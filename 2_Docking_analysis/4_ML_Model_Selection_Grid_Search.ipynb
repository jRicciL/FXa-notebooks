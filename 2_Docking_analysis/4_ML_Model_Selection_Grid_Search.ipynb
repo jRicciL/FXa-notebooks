{
 "cells": [
  {
   "cell_type": "markdown",
   "metadata": {},
   "source": [
    "# Model Selection"
   ]
  },
  {
   "cell_type": "code",
   "execution_count": 1,
   "metadata": {},
   "outputs": [],
   "source": [
    "import pandas as pd\n",
    "import numpy as np\n",
    "import glob, sys, os\n",
    "sys.path.append('..')"
   ]
  },
  {
   "cell_type": "code",
   "execution_count": 2,
   "metadata": {},
   "outputs": [],
   "source": [
    "from modules.plotting_metrics import PlotMetric\n",
    "import matplotlib.pyplot as plt\n",
    "import seaborn as sns\n",
    "sns.set(style='white', context='talk', font_scale=0.8)"
   ]
  },
  {
   "cell_type": "code",
   "execution_count": 3,
   "metadata": {},
   "outputs": [],
   "source": [
    "## Run the helper fucntions form the local CDK2 directory\n",
    "# %run ./helper_1_load_data.ipynb"
   ]
  },
  {
   "cell_type": "code",
   "execution_count": 4,
   "metadata": {},
   "outputs": [],
   "source": [
    "# Helper fucntion to train and test\n",
    "# %run ./helper_functions_S6.ipynb"
   ]
  },
  {
   "cell_type": "code",
   "execution_count": 5,
   "metadata": {},
   "outputs": [
    {
     "data": {
      "text/plain": [
       "(5839, 136)"
      ]
     },
     "execution_count": 5,
     "metadata": {},
     "output_type": "execute_result"
    }
   ],
   "source": [
    "file_name = './df_DkSc_results_COCRYS_DEKOIS_DUD.pkl'\n",
    "X_merged_dksc = pd.read_pickle(file_name)\n",
    "# Extract activity column\n",
    "y_true_merged = X_merged_dksc['activity']\n",
    "# Drop column from merged_dkksc\n",
    "X_merged_dksc = X_merged_dksc.drop('activity', axis=1)\n",
    "X_merged_dksc.shape"
   ]
  },
  {
   "cell_type": "markdown",
   "metadata": {},
   "source": [
    "### Timeout Decorator"
   ]
  },
  {
   "cell_type": "code",
   "execution_count": 6,
   "metadata": {},
   "outputs": [],
   "source": [
    "import signal\n",
    "from functools import wraps\n",
    "\n",
    "def timeout(n_seconds=300):\n",
    "    '''Stops a function execution after n seconds'''\n",
    "    def decorator(func):\n",
    "        @wraps(func)\n",
    "        def wrapper(*args, **kwargs):\n",
    "            # Set alarm for n seconds\n",
    "            signal.alarm(n_seconds)\n",
    "            try:\n",
    "                # Call decorated func\n",
    "                return func(*args, **kwargs)\n",
    "#             except TimeoutError as e:\n",
    "                print(f'Execution finished after {n_seconds}:', e)\n",
    "            finally:\n",
    "                # Cancel Alarm\n",
    "                signal.alarm(0)\n",
    "        return wrapper\n",
    "    return decorator"
   ]
  },
  {
   "cell_type": "markdown",
   "metadata": {},
   "source": [
    "## Scaffold Splitting"
   ]
  },
  {
   "cell_type": "code",
   "execution_count": 7,
   "metadata": {},
   "outputs": [],
   "source": [
    "#*************************************************\n",
    "# Functions to compute stratify scaffold splitting\n",
    "#*************************************************\n",
    "from scaffold_splitter import train_test_scaffold_split"
   ]
  },
  {
   "cell_type": "code",
   "execution_count": 8,
   "metadata": {},
   "outputs": [],
   "source": [
    "# Compute or load the dataframe containing the Generic Murcko Scaffolds\n",
    "file = './df_COCRYS_DUD_DEKOIS_Murcko_Scaffolds_SMILES.pkl'\n",
    "\n",
    "df_scff_murcko = pd.read_pickle(file)"
   ]
  },
  {
   "cell_type": "markdown",
   "metadata": {},
   "source": [
    "## Train/test on the same dataset "
   ]
  },
  {
   "cell_type": "markdown",
   "metadata": {},
   "source": [
    "### Learning Curves"
   ]
  },
  {
   "cell_type": "code",
   "execution_count": 9,
   "metadata": {},
   "outputs": [],
   "source": [
    "from sklearn.model_selection import GridSearchCV, train_test_split, cross_val_score\n",
    "from sklearn.preprocessing import StandardScaler\n",
    "from sklearn.metrics import roc_auc_score\n",
    "from sklearn.pipeline import Pipeline\n",
    "from sklearn.model_selection import learning_curve"
   ]
  },
  {
   "cell_type": "code",
   "execution_count": 10,
   "metadata": {},
   "outputs": [],
   "source": [
    "def plot_learning_curves(estimator, X, y, title, ylim=[0.5,1], axes=None,\n",
    "                         cv=3, train_sizes=np.linspace(0.1, 1.0, 10), \n",
    "                         scoring='roc_auc', n_jobs=4):\n",
    "    '''\n",
    "    Plot estimator performance on the training and validation\n",
    "    sets as a function of the training set size.\n",
    "\n",
    "    Parameters\n",
    "    ----------\n",
    "    estimator: sklearn estimator object type\n",
    "       Object type that implements the \"fit\" and \"predict method\"\n",
    "\n",
    "    X: array-like, shape (m_samples, n_features)\n",
    "        Training array with m_samples and n_features.\n",
    "    y: array-like, shape (m_samples)\n",
    "        Target array relative to X with m labels.\n",
    "    axes: array of 3 axes\n",
    "        matplotlib axes array to append the generated plot\n",
    "    ylim: array\n",
    "       \n",
    "    '''\n",
    "    if axes == None:\n",
    "        _, axes = plt.subplots(1, 1, figsize=(5, 5))\n",
    "        \n",
    "    axes.set(title=title, ylim=ylim, xlabel='Training examples', ylabel=f'Metric: {scoring}')\n",
    "    # Use learning_curve function from sklearn\n",
    "    train_sizes, train_scores, test_scores, fit_times, _ = \\\n",
    "       learning_curve(estimator, X, y, scoring=scoring, return_times = True,\n",
    "                      cv=cv, n_jobs=n_jobs, train_sizes=train_sizes)\n",
    "    # Compute useful metrics\n",
    "    train_scores_mean = np.mean(train_scores, axis=1)\n",
    "    train_scores_std = np.std(train_scores, axis=1)\n",
    "    test_scores_mean = np.mean(test_scores, axis=1)\n",
    "    test_scores_std = np.std(test_scores, axis=1)\n",
    "#     fit_times_mean = np.mean(fit_times, axis=1)\n",
    "#     fit_times_std = np.std(fit_times, axis=1)\n",
    "    # Plot the learning curve\n",
    "    axes.grid()\n",
    "    axes.fill_between(train_sizes, train_scores_mean - train_scores_std,\n",
    "                        train_scores_mean + train_scores_std, alpha=0.1, color='r')\n",
    "    axes.fill_between(train_sizes, test_scores_mean - test_scores_std,\n",
    "                        test_scores_mean + test_scores_std, alpha=0.1, color='g')\n",
    "    axes.plot(train_sizes, train_scores_mean, 'o-', color='r',\n",
    "                label='Train score')\n",
    "    axes.plot(train_sizes, test_scores_mean, 'o-', color='g',\n",
    "                label='Cross-validation score')\n",
    "    axes.legend(loc='lower right')\n",
    "    "
   ]
  },
  {
   "cell_type": "markdown",
   "metadata": {},
   "source": [
    "### Hyperparameters tunning: Grid Search"
   ]
  },
  {
   "cell_type": "code",
   "execution_count": 11,
   "metadata": {},
   "outputs": [],
   "source": [
    "@timeout(360) #Finish execution after 6 mins\n",
    "def run_grid_search(estimator, X_train, y_train, X_test, y_test, hyperparams,  cv_value=5, \n",
    "                    scoring='roc_auc', splitting='random', std_scale=False):\n",
    "\n",
    "    # Format the hyperparms\n",
    "    hyperparams_dict = {'estimator__' + key: val for key, val in hyperparams.items()}\n",
    "    \n",
    "    if std_scale:\n",
    "        # Create the Pipe\n",
    "        scaler = StandardScaler()\n",
    "        pipe = Pipeline([('scaler', scaler),\n",
    "                         ('estimator', estimator)])\n",
    "    else:\n",
    "        pipe = estimator\n",
    "    \n",
    "    # Do Grid Search\n",
    "    gs = GridSearchCV(estimator = pipe, param_grid = hyperparams,\n",
    "                     cv = cv_value, scoring = scoring, n_jobs = 6, refit = True)\n",
    "\n",
    "    # Train the model\n",
    "    gs.fit(X_train, y_train) \n",
    "\n",
    "    # Predictions\n",
    "    y_train_predict = gs.predict_proba(X_train)\n",
    "    y_test_predict = gs.predict_proba(X_test)\n",
    "\n",
    "    # Print some values\n",
    "    print(f'No. of molecules in train set: {y_train.shape[0]}, with {y_train.sum()} actives.')\n",
    "    print(f'No. of molecules in test set: {y_test.shape[0]}, with {y_test.sum()} actives.')\n",
    "    print('')\n",
    "    print('*'*10, 'GRID SEARCH RESULTS', '*'*10)\n",
    "    print('- Mean CV ROC-AUC score: {:.3f}'.format(gs.best_score_))\n",
    "    print('- Train ROC-AUC: {:.3f}'.format(roc_auc_score(y_train, y_train_predict[:, 1])))\n",
    "    print('- Test ROC-AUC: {:.3f}'.format(roc_auc_score(y_test, y_test_predict[:, 1])))\n",
    "    print('- Best hyperparameters', gs.best_params_)\n",
    "    print('**'*21)\n",
    "    print('')"
   ]
  },
  {
   "cell_type": "code",
   "execution_count": 12,
   "metadata": {},
   "outputs": [],
   "source": [
    "def run_cross_val_bias_var_tradeoff(estimator, X_train, y_train, X_test, y_test, cv_value=5, scoring='roc_auc',\n",
    "                                   score_type='Dk_sc', pred_prob = True):\n",
    "    \n",
    "    # Print some values\n",
    "    print(f'No. of molecules in train set: {y_train.shape[0]}, with {y_train.sum()} actives.')\n",
    "    print(f'No. of molecules in test set: {y_test.shape[0]}, with {y_test.sum()} actives.')\n",
    "\n",
    "    # Scaler\n",
    "    scaler = StandardScaler()\n",
    "\n",
    "    # Set the pipe\n",
    "    pipe = Pipeline([('scaler', scaler), ('estimator', estimator)])\n",
    "\n",
    "    # Set the CV score\n",
    "    roc_cv = cross_val_score(pipe, X_train, y_train, cv=cv_value, scoring=scoring, n_jobs= -1)\n",
    "\n",
    "    pipe.fit(X_train, y_train)\n",
    "    \n",
    "    if pred_prob:\n",
    "        # Predict proba\n",
    "        y_predict_train = pipe.predict_proba(X_train)\n",
    "        y_predict_test = pipe.predict_proba(X_test)\n",
    "    else:\n",
    "        y_predict_train = pipe.predict(X_train)\n",
    "        y_predict_test = pipe.predict(X_test)\n",
    "\n",
    "    # CV Mean ROC-AUC\n",
    "    print('CV={} ROC-AUC: {:.4f}'.format(cv_value, roc_cv.mean()))\n",
    "\n",
    "    # Training ROC-AUC:\n",
    "    print('Train ROC-AUC: {:.4f}'.format(roc_auc_score(y_train, y_predict_train[:, 1])))\n",
    "\n",
    "    # Test ROC-AUC:\n",
    "    print('Test ROC-AUC: {:.4f}'.format(roc_auc_score(y_test, y_predict_test[:, 1])))"
   ]
  },
  {
   "cell_type": "markdown",
   "metadata": {},
   "source": [
    "### Function to report the Best Conformation's ROC-AUC for a given subset of samples"
   ]
  },
  {
   "cell_type": "code",
   "execution_count": 13,
   "metadata": {},
   "outputs": [],
   "source": [
    "#************************************************************************\n",
    "# Returns the best conformatio's ROC-AUC value of a given subset X and y\n",
    "#************************************************************************\n",
    "\n",
    "def _get_best_conf_roc_auc(X_train, y_train, X_test, y_test, verbose=True):\n",
    "    best_roc_auc_train = X_train.apply(\n",
    "        lambda x: roc_auc_score(y_true= y_train, y_score= -x), axis=0)\n",
    "    best_roc_auc_test = X_test.apply(\n",
    "        lambda x: roc_auc_score(y_true= y_test, y_score= -x), axis=0)\n",
    "    if verbose:\n",
    "        print('--'*30)\n",
    "        print(\"**** Best Conformation's ROC-AUC using docking scores ****\")\n",
    "        print(f\"> Train best conf. ROC-AUC: {round(best_roc_auc_train.max(), 3)}\" +\n",
    "              f\" \\t> Median ROC-AUC: {round(best_roc_auc_train.median(), 3)}\")\n",
    "        print(f\"> Test best conf. ROC-AUC: {round(best_roc_auc_test.max(), 3)}\" +\n",
    "              f\" \\t> Median ROC-AUC: {round(best_roc_auc_test.median(), 3)}\")\n",
    "        print('--'*30)\n",
    "        \n",
    "        \n",
    "def split_and_gs(X, y, estimator, hyperparams, splitting='random', \n",
    "                 test_size=0.25, scaffold_series=None, **kwargs):\n",
    "    if splitting == 'scaffold':\n",
    "        X_train, X_test, y_train, y_test = \\\n",
    "            train_test_scaffold_split(X, y, scaffold_series = scaffold_series,\n",
    "                test_size=test_size, stratify=y)\n",
    "    elif splitting == 'random':\n",
    "        X_train, X_test, y_train, y_test = \\\n",
    "            train_test_split(X, y, test_size=test_size, stratify=y)\n",
    "\n",
    "    run_grid_search(estimator, \n",
    "                    X_train, y_train, X_test, y_test, \n",
    "                    hyperparams = hyperparams,  **kwargs)\n",
    "\n",
    "    _get_best_conf_roc_auc(X_train, y_train, X_test, y_test)"
   ]
  },
  {
   "cell_type": "markdown",
   "metadata": {},
   "source": [
    "##  Grid Search\n",
    "### Hyperparameter Tunning\n",
    "#### DEKOIS Library"
   ]
  },
  {
   "cell_type": "code",
   "execution_count": 14,
   "metadata": {},
   "outputs": [],
   "source": [
    "#### library = 'DEKOIS'\n",
    "library = 'DEKOIS'\n",
    "\n",
    "# Train and test over DEKOIS\n",
    "X = X_merged_dksc.loc[library]\n",
    "y = y_true_merged.loc[library]\n",
    "scaffold_series = df_scff_murcko['scff_generic'].loc[library]"
   ]
  },
  {
   "cell_type": "markdown",
   "metadata": {
    "cell_style": "center"
   },
   "source": [
    "### GS: Linear SVM \n",
    "#### DEKOIS database - Random and Stratified Scaffold Splitting"
   ]
  },
  {
   "cell_type": "code",
   "execution_count": 15,
   "metadata": {
    "cell_style": "split"
   },
   "outputs": [
    {
     "name": "stdout",
     "output_type": "stream",
     "text": [
      "No. of molecules in train set: 914, with 29 actives.\n",
      "No. of molecules in test set: 305, with 10 actives.\n",
      "\n",
      "********** GRID SEARCH RESULTS **********\n",
      "- Mean CV ROC-AUC score: 0.877\n",
      "- Train ROC-AUC: 0.881\n",
      "- Test ROC-AUC: 0.921\n",
      "- Best hyperparameters {'C': 1e-15}\n",
      "******************************************\n",
      "\n",
      "------------------------------------------------------------\n",
      "**** Best Conformation's ROC-AUC using docking scores ****\n",
      "> Train best conf. ROC-AUC: 0.896 \t> Median ROC-AUC: 0.826\n",
      "> Test best conf. ROC-AUC: 0.937 \t> Median ROC-AUC: 0.845\n",
      "------------------------------------------------------------\n",
      "CPU times: user 539 ms, sys: 321 ms, total: 860 ms\n",
      "Wall time: 2 s\n"
     ]
    }
   ],
   "source": [
    "%%time\n",
    "from sklearn.svm import SVC\n",
    "estimator = SVC(kernel = 'linear', probability=True)\n",
    "hyperparams = {'C': np.geomspace(1e-15, 1e-6, 4)}\n",
    "\n",
    "# RANDOM Train test splitting\n",
    "split_and_gs(X, y, estimator, hyperparams, \n",
    "             splitting='random', test_size=0.25, \n",
    "             scaffold_series=None)"
   ]
  },
  {
   "cell_type": "code",
   "execution_count": 16,
   "metadata": {
    "cell_style": "split"
   },
   "outputs": [
    {
     "name": "stdout",
     "output_type": "stream",
     "text": [
      "No. of molecules in train set: 885, with 29 actives.\n",
      "No. of molecules in test set: 334, with 10 actives.\n",
      "\n",
      "********** GRID SEARCH RESULTS **********\n",
      "- Mean CV ROC-AUC score: 0.695\n",
      "- Train ROC-AUC: 0.868\n",
      "- Test ROC-AUC: 0.957\n",
      "- Best hyperparameters {'C': 1e-12}\n",
      "******************************************\n",
      "\n",
      "------------------------------------------------------------\n",
      "**** Best Conformation's ROC-AUC using docking scores ****\n",
      "> Train best conf. ROC-AUC: 0.879 \t> Median ROC-AUC: 0.81\n",
      "> Test best conf. ROC-AUC: 0.968 \t> Median ROC-AUC: 0.898\n",
      "------------------------------------------------------------\n",
      "CPU times: user 512 ms, sys: 65.4 ms, total: 577 ms\n",
      "Wall time: 623 ms\n"
     ]
    }
   ],
   "source": [
    "%%time\n",
    "# from sklearn.svm import SVC\n",
    "estimator = SVC(kernel = 'linear', probability=True)\n",
    "hyperparams = {'C': np.geomspace(1e-15, 1e-6, 4)}\n",
    "\n",
    "# SCAFFOLD Train test splitting\n",
    "split_and_gs(X, y, estimator, hyperparams, \n",
    "             splitting='scaffold', test_size=0.25, \n",
    "             scaffold_series=scaffold_series)"
   ]
  },
  {
   "cell_type": "markdown",
   "metadata": {},
   "source": [
    "### GS: Radial Basis Function SVM\n",
    "#### DEKOIS database - Random and Stratified Scaffold Splitting"
   ]
  },
  {
   "cell_type": "code",
   "execution_count": 17,
   "metadata": {
    "cell_style": "split"
   },
   "outputs": [
    {
     "name": "stdout",
     "output_type": "stream",
     "text": [
      "No. of molecules in train set: 914, with 29 actives.\n",
      "No. of molecules in test set: 305, with 10 actives.\n",
      "\n",
      "********** GRID SEARCH RESULTS **********\n",
      "- Mean CV ROC-AUC score: 0.859\n",
      "- Train ROC-AUC: 0.866\n",
      "- Test ROC-AUC: 0.962\n",
      "- Best hyperparameters {'C': 1e-08, 'gamma': 1e-06}\n",
      "******************************************\n",
      "\n",
      "------------------------------------------------------------\n",
      "**** Best Conformation's ROC-AUC using docking scores ****\n",
      "> Train best conf. ROC-AUC: 0.876 \t> Median ROC-AUC: 0.809\n",
      "> Test best conf. ROC-AUC: 0.977 \t> Median ROC-AUC: 0.901\n",
      "------------------------------------------------------------\n",
      "CPU times: user 801 ms, sys: 130 ms, total: 931 ms\n",
      "Wall time: 1.84 s\n"
     ]
    }
   ],
   "source": [
    "%%time\n",
    "estimator = SVC(kernel = 'rbf', probability=True)\n",
    "\n",
    "hyperparams = {'C': np.geomspace(1e-8, 1e-2, 4), \n",
    "               'gamma': np.geomspace(1e-6, 1e0, 4)}\n",
    "\n",
    "# RANDOM Train test splitting\n",
    "split_and_gs(X, y, estimator, hyperparams, \n",
    "             splitting='random', test_size=0.25, \n",
    "             scaffold_series=None)"
   ]
  },
  {
   "cell_type": "code",
   "execution_count": 18,
   "metadata": {
    "cell_style": "split"
   },
   "outputs": [
    {
     "name": "stdout",
     "output_type": "stream",
     "text": [
      "No. of molecules in train set: 885, with 29 actives.\n",
      "No. of molecules in test set: 334, with 10 actives.\n",
      "\n",
      "********** GRID SEARCH RESULTS **********\n",
      "- Mean CV ROC-AUC score: 0.809\n",
      "- Train ROC-AUC: 0.873\n",
      "- Test ROC-AUC: 0.957\n",
      "- Best hyperparameters {'C': 1e-08, 'gamma': 0.0001}\n",
      "******************************************\n",
      "\n",
      "------------------------------------------------------------\n",
      "**** Best Conformation's ROC-AUC using docking scores ****\n",
      "> Train best conf. ROC-AUC: 0.879 \t> Median ROC-AUC: 0.81\n",
      "> Test best conf. ROC-AUC: 0.968 \t> Median ROC-AUC: 0.898\n",
      "------------------------------------------------------------\n",
      "CPU times: user 806 ms, sys: 107 ms, total: 913 ms\n",
      "Wall time: 2.17 s\n"
     ]
    }
   ],
   "source": [
    "%%time\n",
    "estimator = SVC(kernel = 'rbf', probability=True)\n",
    "\n",
    "hyperparams = {'C': np.geomspace(1e-8, 1e-2, 4), \n",
    "               'gamma': np.geomspace(1e-6, 1e0, 4)}\n",
    "\n",
    "# SCAFFOLD Train test splitting\n",
    "split_and_gs(X, y, estimator, hyperparams, \n",
    "             splitting='scaffold', test_size=0.25, \n",
    "             scaffold_series=scaffold_series)"
   ]
  },
  {
   "cell_type": "markdown",
   "metadata": {},
   "source": [
    "### GS: Logistic Regession \n",
    "#### DEKOIS database - Random and Stratified Scaffold Splitting"
   ]
  },
  {
   "cell_type": "code",
   "execution_count": 19,
   "metadata": {
    "cell_style": "split"
   },
   "outputs": [
    {
     "name": "stderr",
     "output_type": "stream",
     "text": [
      "/home/joel/anaconda3/envs/mds/lib/python3.7/site-packages/sklearn/linear_model/_logistic.py:940: ConvergenceWarning: lbfgs failed to converge (status=1):\n",
      "STOP: TOTAL NO. of ITERATIONS REACHED LIMIT.\n",
      "\n",
      "Increase the number of iterations (max_iter) or scale the data as shown in:\n",
      "    https://scikit-learn.org/stable/modules/preprocessing.html\n",
      "Please also refer to the documentation for alternative solver options:\n",
      "    https://scikit-learn.org/stable/modules/linear_model.html#logistic-regression\n",
      "  extra_warning_msg=_LOGISTIC_SOLVER_CONVERGENCE_MSG)\n"
     ]
    },
    {
     "name": "stdout",
     "output_type": "stream",
     "text": [
      "No. of molecules in train set: 914, with 29 actives.\n",
      "No. of molecules in test set: 305, with 10 actives.\n",
      "\n",
      "********** GRID SEARCH RESULTS **********\n",
      "- Mean CV ROC-AUC score: 0.876\n",
      "- Train ROC-AUC: 0.916\n",
      "- Test ROC-AUC: 0.938\n",
      "- Best hyperparameters {'C': 0.01, 'penalty': 'l2', 'solver': 'lbfgs'}\n",
      "******************************************\n",
      "\n",
      "------------------------------------------------------------\n",
      "**** Best Conformation's ROC-AUC using docking scores ****\n",
      "> Train best conf. ROC-AUC: 0.886 \t> Median ROC-AUC: 0.82\n",
      "> Test best conf. ROC-AUC: 0.945 \t> Median ROC-AUC: 0.869\n",
      "------------------------------------------------------------\n",
      "CPU times: user 1.21 s, sys: 588 ms, total: 1.8 s\n",
      "Wall time: 1.62 s\n"
     ]
    }
   ],
   "source": [
    "%%time\n",
    "from sklearn.linear_model import LogisticRegression\n",
    "estimator = LogisticRegression()\n",
    "\n",
    "hyperparams = {'C': [0.00001, 0.0001, 0.001, 0.01, 0.1], \n",
    "               'penalty': ['l1', 'l2'], \n",
    "               'solver': ['lbfgs', 'liblinear']}\n",
    "\n",
    "# RANDOM Train test splitting\n",
    "split_and_gs(X, y, estimator, hyperparams, \n",
    "             splitting='random', test_size=0.25, \n",
    "             scaffold_series=None)"
   ]
  },
  {
   "cell_type": "code",
   "execution_count": 20,
   "metadata": {
    "cell_style": "split"
   },
   "outputs": [
    {
     "name": "stdout",
     "output_type": "stream",
     "text": [
      "No. of molecules in train set: 885, with 29 actives.\n",
      "No. of molecules in test set: 334, with 10 actives.\n",
      "\n",
      "********** GRID SEARCH RESULTS **********\n",
      "- Mean CV ROC-AUC score: 0.861\n",
      "- Train ROC-AUC: 0.864\n",
      "- Test ROC-AUC: 0.955\n",
      "- Best hyperparameters {'C': 0.0001, 'penalty': 'l2', 'solver': 'lbfgs'}\n",
      "******************************************\n",
      "\n",
      "------------------------------------------------------------\n",
      "**** Best Conformation's ROC-AUC using docking scores ****\n",
      "> Train best conf. ROC-AUC: 0.879 \t> Median ROC-AUC: 0.81\n",
      "> Test best conf. ROC-AUC: 0.968 \t> Median ROC-AUC: 0.898\n",
      "------------------------------------------------------------\n",
      "CPU times: user 1.05 s, sys: 552 ms, total: 1.61 s\n",
      "Wall time: 1.41 s\n"
     ]
    }
   ],
   "source": [
    "%%time\n",
    "# from sklearn.linear_model import LogisticRegression\n",
    "estimator = LogisticRegression()\n",
    "\n",
    "hyperparams = {'C': [0.00001, 0.0001, 0.001, 0.01, 0.1], \n",
    "               'penalty': ['l1', 'l2'], \n",
    "               'solver': ['lbfgs', 'liblinear']}\n",
    "\n",
    "# SCAFFOLD Train test splitting\n",
    "split_and_gs(X, y, estimator, hyperparams, \n",
    "             splitting='scaffold', test_size=0.25, \n",
    "             scaffold_series=scaffold_series)"
   ]
  },
  {
   "cell_type": "markdown",
   "metadata": {},
   "source": [
    "### GS: K-Neighbors Classifier\n",
    "#### DEKOIS database - Random and Stratified Scaffold Splitting"
   ]
  },
  {
   "cell_type": "code",
   "execution_count": 21,
   "metadata": {
    "cell_style": "split"
   },
   "outputs": [
    {
     "name": "stdout",
     "output_type": "stream",
     "text": [
      "No. of molecules in train set: 914, with 29 actives.\n",
      "No. of molecules in test set: 305, with 10 actives.\n",
      "\n",
      "********** GRID SEARCH RESULTS **********\n",
      "- Mean CV ROC-AUC score: 0.872\n",
      "- Train ROC-AUC: 0.922\n",
      "- Test ROC-AUC: 0.912\n",
      "- Best hyperparameters {'n_neighbors': 55, 'p': 2}\n",
      "******************************************\n",
      "\n",
      "------------------------------------------------------------\n",
      "**** Best Conformation's ROC-AUC using docking scores ****\n",
      "> Train best conf. ROC-AUC: 0.889 \t> Median ROC-AUC: 0.821\n",
      "> Test best conf. ROC-AUC: 0.937 \t> Median ROC-AUC: 0.86\n",
      "------------------------------------------------------------\n",
      "CPU times: user 908 ms, sys: 109 ms, total: 1.02 s\n",
      "Wall time: 1.41 s\n"
     ]
    }
   ],
   "source": [
    "%%time\n",
    "from sklearn.neighbors import KNeighborsClassifier \n",
    "estimator = KNeighborsClassifier()\n",
    "\n",
    "hyperparams = {'n_neighbors': [25, 55, 125, 225], \n",
    "               'p': [1, 2]\n",
    "             }\n",
    "\n",
    "# RANDOM Train test splitting\n",
    "split_and_gs(X, y, estimator, hyperparams, \n",
    "             splitting='random', test_size=0.25, \n",
    "             scaffold_series=None)"
   ]
  },
  {
   "cell_type": "code",
   "execution_count": 22,
   "metadata": {
    "cell_style": "split"
   },
   "outputs": [
    {
     "name": "stdout",
     "output_type": "stream",
     "text": [
      "No. of molecules in train set: 885, with 29 actives.\n",
      "No. of molecules in test set: 334, with 10 actives.\n",
      "\n",
      "********** GRID SEARCH RESULTS **********\n",
      "- Mean CV ROC-AUC score: 0.837\n",
      "- Train ROC-AUC: 0.865\n",
      "- Test ROC-AUC: 0.953\n",
      "- Best hyperparameters {'n_neighbors': 225, 'p': 2}\n",
      "******************************************\n",
      "\n",
      "------------------------------------------------------------\n",
      "**** Best Conformation's ROC-AUC using docking scores ****\n",
      "> Train best conf. ROC-AUC: 0.879 \t> Median ROC-AUC: 0.81\n",
      "> Test best conf. ROC-AUC: 0.968 \t> Median ROC-AUC: 0.898\n",
      "------------------------------------------------------------\n",
      "CPU times: user 853 ms, sys: 125 ms, total: 978 ms\n",
      "Wall time: 1.41 s\n"
     ]
    }
   ],
   "source": [
    "%%time\n",
    "from sklearn.neighbors import KNeighborsClassifier \n",
    "estimator = KNeighborsClassifier()\n",
    "\n",
    "hyperparams = {'n_neighbors': [25, 55, 125, 225], \n",
    "               'p': [1, 2]\n",
    "             }\n",
    "\n",
    "# SCAFFOLD Train test splitting\n",
    "split_and_gs(X, y, estimator, hyperparams, \n",
    "             splitting='scaffold', test_size=0.25, \n",
    "             scaffold_series=scaffold_series)"
   ]
  },
  {
   "cell_type": "markdown",
   "metadata": {},
   "source": [
    "### GS: Decision Tree Classifier\n",
    "#### DEKOIS database - Random and Stratified Scaffold Splitting"
   ]
  },
  {
   "cell_type": "code",
   "execution_count": 23,
   "metadata": {
    "cell_style": "split"
   },
   "outputs": [
    {
     "name": "stdout",
     "output_type": "stream",
     "text": [
      "No. of molecules in train set: 914, with 29 actives.\n",
      "No. of molecules in test set: 305, with 10 actives.\n",
      "\n",
      "********** GRID SEARCH RESULTS **********\n",
      "- Mean CV ROC-AUC score: 0.836\n",
      "- Train ROC-AUC: 0.879\n",
      "- Test ROC-AUC: 0.802\n",
      "- Best hyperparameters {'criterion': 'entropy', 'max_depth': 3, 'max_features': 'sqrt', 'min_samples_split': 0.25}\n",
      "******************************************\n",
      "\n",
      "------------------------------------------------------------\n",
      "**** Best Conformation's ROC-AUC using docking scores ****\n",
      "> Train best conf. ROC-AUC: 0.905 \t> Median ROC-AUC: 0.837\n",
      "> Test best conf. ROC-AUC: 0.908 \t> Median ROC-AUC: 0.814\n",
      "------------------------------------------------------------\n",
      "CPU times: user 1.08 s, sys: 257 ms, total: 1.34 s\n",
      "Wall time: 1.56 s\n"
     ]
    }
   ],
   "source": [
    "%%time\n",
    "from sklearn.tree import DecisionTreeClassifier\n",
    "\n",
    "estimator = DecisionTreeClassifier(splitter='best')\n",
    "hyperparams = {'criterion': ['gini', 'entropy'], \n",
    "               'max_depth': [2, 3, 5],\n",
    "               'min_samples_split': [0.2, 0.25, 0.3],\n",
    "               'max_features': [None, 'sqrt', 'log2']}\n",
    "\n",
    "# RANDOM Train test splitting\n",
    "split_and_gs(X, y, estimator, hyperparams, \n",
    "             splitting='random', test_size=0.25, \n",
    "             scaffold_series=None)"
   ]
  },
  {
   "cell_type": "code",
   "execution_count": 24,
   "metadata": {
    "cell_style": "split"
   },
   "outputs": [
    {
     "name": "stdout",
     "output_type": "stream",
     "text": [
      "No. of molecules in train set: 885, with 29 actives.\n",
      "No. of molecules in test set: 334, with 10 actives.\n",
      "\n",
      "********** GRID SEARCH RESULTS **********\n",
      "- Mean CV ROC-AUC score: 0.838\n",
      "- Train ROC-AUC: 0.909\n",
      "- Test ROC-AUC: 0.953\n",
      "- Best hyperparameters {'criterion': 'gini', 'max_depth': 5, 'max_features': 'log2', 'min_samples_split': 0.3}\n",
      "******************************************\n",
      "\n",
      "------------------------------------------------------------\n",
      "**** Best Conformation's ROC-AUC using docking scores ****\n",
      "> Train best conf. ROC-AUC: 0.879 \t> Median ROC-AUC: 0.81\n",
      "> Test best conf. ROC-AUC: 0.968 \t> Median ROC-AUC: 0.898\n",
      "------------------------------------------------------------\n",
      "CPU times: user 1.27 s, sys: 412 ms, total: 1.69 s\n",
      "Wall time: 1.92 s\n"
     ]
    }
   ],
   "source": [
    "%%time\n",
    "from sklearn.tree import DecisionTreeClassifier\n",
    "\n",
    "estimator = DecisionTreeClassifier(splitter='best')\n",
    "hyperparams = {'criterion': ['gini', 'entropy'], \n",
    "               'max_depth': [2, 3, 5],\n",
    "               'min_samples_split': [0.2, 0.25, 0.3],\n",
    "               'max_features': [None, 'sqrt', 'log2']}\n",
    "\n",
    "# SCAFFOLD Train test splitting\n",
    "split_and_gs(X, y, estimator, hyperparams, \n",
    "             splitting='scaffold', test_size=0.25, \n",
    "             scaffold_series=scaffold_series)"
   ]
  },
  {
   "cell_type": "markdown",
   "metadata": {},
   "source": [
    "### GS: Bagging Classifier (k-NN as base estimator) \n",
    "#### DEKOIS database - Random and Stratified Scaffold Splitting"
   ]
  },
  {
   "cell_type": "code",
   "execution_count": 25,
   "metadata": {
    "cell_style": "split"
   },
   "outputs": [
    {
     "name": "stdout",
     "output_type": "stream",
     "text": [
      "CPU times: user 11.4 ms, sys: 5.28 ms, total: 16.7 ms\n",
      "Wall time: 13.3 ms\n"
     ]
    }
   ],
   "source": [
    "%%time\n",
    "from sklearn.ensemble import BaggingClassifier\n",
    "\n",
    "knn = KNeighborsClassifier(n_neighbors=125, p=1, \n",
    "                           weights='distance')\n",
    "\n",
    "estimator = BaggingClassifier(base_estimator=knn, \n",
    "                              n_jobs=6, oob_score=True)\n",
    "\n",
    "hyperparams = {'n_estimators': [300]}\n",
    "\n",
    "# RANDOM Train test splitting\n",
    "# split_and_gs(X, y, estimator, hyperparams, \n",
    "#              splitting='random', test_size=0.25, \n",
    "#              scaffold_series=None)"
   ]
  },
  {
   "cell_type": "code",
   "execution_count": 26,
   "metadata": {
    "cell_style": "split"
   },
   "outputs": [
    {
     "name": "stdout",
     "output_type": "stream",
     "text": [
      "CPU times: user 36 µs, sys: 13 µs, total: 49 µs\n",
      "Wall time: 58.7 µs\n"
     ]
    }
   ],
   "source": [
    "%%time\n",
    "# from sklearn.ensemble import BaggingClassifier\n",
    "\n",
    "knn = KNeighborsClassifier(n_neighbors=125, p=1, \n",
    "                           weights='distance')\n",
    "\n",
    "estimator = BaggingClassifier(base_estimator=knn, \n",
    "                              n_jobs=6, oob_score=True)\n",
    "\n",
    "hyperparams = {'n_estimators': [300]}\n",
    "\n",
    "# SCAFFOLD Train test splitting\n",
    "# split_and_gs(X, y, estimator, hyperparams, \n",
    "#              splitting='scaffold', test_size=0.25, \n",
    "#              scaffold_series=scaffold_series)"
   ]
  },
  {
   "cell_type": "markdown",
   "metadata": {},
   "source": [
    "### GS:Random Forest \n",
    "#### DEKOIS database - Random and Stratified Scaffold Splitting"
   ]
  },
  {
   "cell_type": "code",
   "execution_count": 27,
   "metadata": {
    "cell_style": "split"
   },
   "outputs": [
    {
     "name": "stdout",
     "output_type": "stream",
     "text": [
      "No. of molecules in train set: 914, with 29 actives.\n",
      "No. of molecules in test set: 305, with 10 actives.\n",
      "\n",
      "********** GRID SEARCH RESULTS **********\n",
      "- Mean CV ROC-AUC score: 0.853\n",
      "- Train ROC-AUC: 0.907\n",
      "- Test ROC-AUC: 0.942\n",
      "- Best hyperparameters {'max_depth': 2, 'max_features': 'sqrt', 'min_samples_leaf': 0.1, 'n_estimators': 300}\n",
      "******************************************\n",
      "\n",
      "------------------------------------------------------------\n",
      "**** Best Conformation's ROC-AUC using docking scores ****\n",
      "> Train best conf. ROC-AUC: 0.875 \t> Median ROC-AUC: 0.813\n",
      "> Test best conf. ROC-AUC: 0.972 \t> Median ROC-AUC: 0.894\n",
      "------------------------------------------------------------\n",
      "CPU times: user 1.93 s, sys: 229 ms, total: 2.16 s\n",
      "Wall time: 21.9 s\n"
     ]
    }
   ],
   "source": [
    "%%time\n",
    "from sklearn.ensemble import RandomForestClassifier\n",
    "\n",
    "estimator = RandomForestClassifier()\n",
    "\n",
    "hyperparams = {'n_estimators': [300, 500],\n",
    "             'max_depth': [2,  5],\n",
    "             'min_samples_leaf': [0.1, 0.2],\n",
    "             'max_features': ['log2', 'sqrt']\n",
    "            }\n",
    "\n",
    "# RANDOM Train test splitting\n",
    "split_and_gs(X, y, estimator, hyperparams, \n",
    "             splitting='random', test_size=0.25, \n",
    "             scaffold_series=None)"
   ]
  },
  {
   "cell_type": "code",
   "execution_count": 28,
   "metadata": {
    "cell_style": "split"
   },
   "outputs": [
    {
     "name": "stdout",
     "output_type": "stream",
     "text": [
      "No. of molecules in train set: 885, with 29 actives.\n",
      "No. of molecules in test set: 334, with 10 actives.\n",
      "\n",
      "********** GRID SEARCH RESULTS **********\n",
      "- Mean CV ROC-AUC score: 0.855\n",
      "- Train ROC-AUC: 0.893\n",
      "- Test ROC-AUC: 0.939\n",
      "- Best hyperparameters {'max_depth': 2, 'max_features': 'log2', 'min_samples_leaf': 0.2, 'n_estimators': 300}\n",
      "******************************************\n",
      "\n",
      "------------------------------------------------------------\n",
      "**** Best Conformation's ROC-AUC using docking scores ****\n",
      "> Train best conf. ROC-AUC: 0.879 \t> Median ROC-AUC: 0.81\n",
      "> Test best conf. ROC-AUC: 0.968 \t> Median ROC-AUC: 0.898\n",
      "------------------------------------------------------------\n",
      "CPU times: user 1.61 s, sys: 167 ms, total: 1.77 s\n",
      "Wall time: 20.2 s\n"
     ]
    }
   ],
   "source": [
    "%%time\n",
    "from sklearn.ensemble import RandomForestClassifier\n",
    "\n",
    "estimator = RandomForestClassifier()\n",
    "\n",
    "hyperparams = {'n_estimators': [300, 500],\n",
    "             'max_depth': [2,  5],\n",
    "             'min_samples_leaf': [0.1, 0.2],\n",
    "             'max_features': ['log2', 'sqrt']\n",
    "            }\n",
    "\n",
    "# SCAFFOLD Train test splitting\n",
    "split_and_gs(X, y, estimator, hyperparams, \n",
    "             splitting='scaffold', test_size=0.25, \n",
    "             scaffold_series=scaffold_series)"
   ]
  },
  {
   "cell_type": "markdown",
   "metadata": {},
   "source": [
    "##  Grid Search\n",
    "### Hyperparameter Tunning\n",
    "#### Train and Test sets from different libraries "
   ]
  },
  {
   "cell_type": "code",
   "execution_count": 29,
   "metadata": {},
   "outputs": [],
   "source": [
    "# Train DEKOIS, test DUD\n",
    "\n",
    "def split_by_library_and_gs(X, y, lib_train_name, lib_test_name):\n",
    "    '''Train-Test \"split\" by library, and run Grid Search. Splits the main dataframe by library\n",
    "    using different molecular libraries for Training and Testing.'''\n",
    "    X_train = X.loc[lib_train_name]\n",
    "    y_train = y.loc[lib_train_name]\n",
    "\n",
    "    X_test = X.loc[lib_test_name]\n",
    "    y_test = y.loc[lib_test_name]\n",
    "\n",
    "    run_grid_search(estimator, \n",
    "                        X_train, y_train, X_test, y_test, \n",
    "                        hyperparams = hyperparams)\n",
    "\n",
    "    _get_best_conf_roc_auc(X_train, y_train, X_test, y_test)"
   ]
  },
  {
   "cell_type": "code",
   "execution_count": 30,
   "metadata": {},
   "outputs": [],
   "source": [
    "# **********************************************\n",
    "# Train and Test sets from diferent libraries\n",
    "# **********************************************\n",
    "X = X_merged_dksc\n",
    "y = y_true_merged"
   ]
  },
  {
   "cell_type": "markdown",
   "metadata": {
    "cell_style": "center"
   },
   "source": [
    "### GS: Linear SVM \n",
    "#### DEKOIS and DUD "
   ]
  },
  {
   "cell_type": "code",
   "execution_count": 31,
   "metadata": {
    "cell_style": "split"
   },
   "outputs": [
    {
     "name": "stdout",
     "output_type": "stream",
     "text": [
      "No. of molecules in train set: 1219, with 39 actives.\n",
      "No. of molecules in test set: 4495, with 136 actives.\n",
      "\n",
      "********** GRID SEARCH RESULTS **********\n",
      "- Mean CV ROC-AUC score: 0.884\n",
      "- Train ROC-AUC: 0.892\n",
      "- Test ROC-AUC: 0.593\n",
      "- Best hyperparameters {'C': 1e-15}\n",
      "******************************************\n",
      "\n",
      "------------------------------------------------------------\n",
      "**** Best Conformation's ROC-AUC using docking scores ****\n",
      "> Train best conf. ROC-AUC: 0.892 \t> Median ROC-AUC: 0.831\n",
      "> Test best conf. ROC-AUC: 0.717 \t> Median ROC-AUC: 0.557\n",
      "------------------------------------------------------------\n",
      "CPU times: user 671 ms, sys: 23.2 ms, total: 694 ms\n",
      "Wall time: 1.04 s\n"
     ]
    }
   ],
   "source": [
    "%%time\n",
    "from sklearn.svm import SVC\n",
    "estimator = SVC(kernel = 'linear', probability=True)\n",
    "hyperparams = {'C': np.geomspace(1e-15, 1e-6, 4)}\n",
    "\n",
    "# Train DEKOIS, test DUD\n",
    "train_lib = 'DEKOIS'\n",
    "test_lib = 'DUD'\n",
    "split_by_library_and_gs(X, y, train_lib, test_lib)"
   ]
  },
  {
   "cell_type": "code",
   "execution_count": 32,
   "metadata": {
    "cell_style": "split",
    "scrolled": true
   },
   "outputs": [
    {
     "name": "stdout",
     "output_type": "stream",
     "text": [
      "No. of molecules in train set: 4495, with 136 actives.\n",
      "No. of molecules in test set: 1219, with 39 actives.\n",
      "\n",
      "********** GRID SEARCH RESULTS **********\n",
      "- Mean CV ROC-AUC score: 0.798\n",
      "- Train ROC-AUC: 0.796\n",
      "- Test ROC-AUC: 0.286\n",
      "- Best hyperparameters {'C': 1e-12}\n",
      "******************************************\n",
      "\n",
      "------------------------------------------------------------\n",
      "**** Best Conformation's ROC-AUC using docking scores ****\n",
      "> Train best conf. ROC-AUC: 0.717 \t> Median ROC-AUC: 0.557\n",
      "> Test best conf. ROC-AUC: 0.892 \t> Median ROC-AUC: 0.831\n",
      "------------------------------------------------------------\n",
      "CPU times: user 1.78 s, sys: 81.1 ms, total: 1.86 s\n",
      "Wall time: 10.3 s\n"
     ]
    }
   ],
   "source": [
    "%%time\n",
    "# from sklearn.svm import SVC\n",
    "estimator = SVC(kernel = 'linear', probability=True)\n",
    "hyperparams = {'C': np.geomspace(1e-15, 1e-6, 4)}\n",
    "\n",
    "# Train DEKOIS, test DUD\n",
    "train_lib = 'DUD'\n",
    "test_lib = 'DEKOIS'\n",
    "split_by_library_and_gs(X, y, train_lib, test_lib)"
   ]
  },
  {
   "cell_type": "markdown",
   "metadata": {},
   "source": [
    "### GS: Radial Basis Function SVM\n",
    "#### DEKOIS database - Random and Stratified Scaffold Splitting"
   ]
  },
  {
   "cell_type": "code",
   "execution_count": 33,
   "metadata": {
    "cell_style": "split"
   },
   "outputs": [
    {
     "name": "stdout",
     "output_type": "stream",
     "text": [
      "No. of molecules in train set: 1219, with 39 actives.\n",
      "No. of molecules in test set: 4495, with 136 actives.\n",
      "\n",
      "********** GRID SEARCH RESULTS **********\n",
      "- Mean CV ROC-AUC score: 0.883\n",
      "- Train ROC-AUC: 0.892\n",
      "- Test ROC-AUC: 0.593\n",
      "- Best hyperparameters {'C': 1e-06, 'gamma': 1e-06}\n",
      "******************************************\n",
      "\n",
      "------------------------------------------------------------\n",
      "**** Best Conformation's ROC-AUC using docking scores ****\n",
      "> Train best conf. ROC-AUC: 0.892 \t> Median ROC-AUC: 0.831\n",
      "> Test best conf. ROC-AUC: 0.717 \t> Median ROC-AUC: 0.557\n",
      "------------------------------------------------------------\n",
      "CPU times: user 975 ms, sys: 71.7 ms, total: 1.05 s\n",
      "Wall time: 3.34 s\n"
     ]
    }
   ],
   "source": [
    "%%time\n",
    "estimator = SVC(kernel = 'rbf', probability=True)\n",
    "\n",
    "hyperparams = {'C': np.geomspace(1e-8, 1e-2, 4), \n",
    "               'gamma': np.geomspace(1e-6, 1e0, 4)}\n",
    "\n",
    "# Train DEKOIS, test DUD\n",
    "train_lib = 'DEKOIS'\n",
    "test_lib = 'DUD'\n",
    "split_by_library_and_gs(X, y, train_lib, test_lib)"
   ]
  },
  {
   "cell_type": "code",
   "execution_count": 34,
   "metadata": {
    "cell_style": "split"
   },
   "outputs": [
    {
     "name": "stdout",
     "output_type": "stream",
     "text": [
      "No. of molecules in train set: 4495, with 136 actives.\n",
      "No. of molecules in test set: 1219, with 39 actives.\n",
      "\n",
      "********** GRID SEARCH RESULTS **********\n",
      "- Mean CV ROC-AUC score: 0.889\n",
      "- Train ROC-AUC: 0.987\n",
      "- Test ROC-AUC: 0.607\n",
      "- Best hyperparameters {'C': 0.01, 'gamma': 0.01}\n",
      "******************************************\n",
      "\n",
      "------------------------------------------------------------\n",
      "**** Best Conformation's ROC-AUC using docking scores ****\n",
      "> Train best conf. ROC-AUC: 0.717 \t> Median ROC-AUC: 0.557\n",
      "> Test best conf. ROC-AUC: 0.892 \t> Median ROC-AUC: 0.831\n",
      "------------------------------------------------------------\n",
      "CPU times: user 4.9 s, sys: 253 ms, total: 5.15 s\n",
      "Wall time: 1min 1s\n"
     ]
    }
   ],
   "source": [
    "%%time\n",
    "estimator = SVC(kernel = 'rbf', probability=True)\n",
    "\n",
    "hyperparams = {'C': np.geomspace(1e-8, 1e-2, 4), \n",
    "               'gamma': np.geomspace(1e-6, 1e0, 4)}\n",
    "\n",
    "# Train DEKOIS, test DUD\n",
    "train_lib = 'DUD'\n",
    "test_lib = 'DEKOIS'\n",
    "split_by_library_and_gs(X, y, train_lib, test_lib)"
   ]
  },
  {
   "cell_type": "markdown",
   "metadata": {},
   "source": [
    "### GS: Logistic Regession \n",
    "#### DEKOIS database - Random and Stratified Scaffold Splitting"
   ]
  },
  {
   "cell_type": "code",
   "execution_count": 35,
   "metadata": {
    "cell_style": "split"
   },
   "outputs": [
    {
     "name": "stdout",
     "output_type": "stream",
     "text": [
      "No. of molecules in train set: 1219, with 39 actives.\n",
      "No. of molecules in test set: 4495, with 136 actives.\n",
      "\n",
      "********** GRID SEARCH RESULTS **********\n",
      "- Mean CV ROC-AUC score: 0.885\n",
      "- Train ROC-AUC: 0.887\n",
      "- Test ROC-AUC: 0.587\n",
      "- Best hyperparameters {'C': 0.0001, 'penalty': 'l2', 'solver': 'lbfgs'}\n",
      "******************************************\n",
      "\n",
      "------------------------------------------------------------\n",
      "**** Best Conformation's ROC-AUC using docking scores ****\n",
      "> Train best conf. ROC-AUC: 0.892 \t> Median ROC-AUC: 0.831\n",
      "> Test best conf. ROC-AUC: 0.717 \t> Median ROC-AUC: 0.557\n",
      "------------------------------------------------------------\n",
      "CPU times: user 1.09 s, sys: 432 ms, total: 1.52 s\n",
      "Wall time: 21.5 s\n"
     ]
    }
   ],
   "source": [
    "%%time\n",
    "from sklearn.linear_model import LogisticRegression\n",
    "estimator = LogisticRegression()\n",
    "\n",
    "hyperparams = {'C': np.geomspace(1e-4, 1e5, 4),\n",
    "               'penalty': ['l1', 'l2'], \n",
    "               'solver': ['lbfgs', 'liblinear']}\n",
    "\n",
    "# Train DEKOIS, test DUD\n",
    "train_lib = 'DEKOIS'\n",
    "test_lib = 'DUD'\n",
    "split_by_library_and_gs(X, y, train_lib, test_lib)"
   ]
  },
  {
   "cell_type": "code",
   "execution_count": 36,
   "metadata": {
    "cell_style": "split"
   },
   "outputs": [
    {
     "name": "stdout",
     "output_type": "stream",
     "text": [
      "No. of molecules in train set: 4495, with 136 actives.\n",
      "No. of molecules in test set: 1219, with 39 actives.\n",
      "\n",
      "********** GRID SEARCH RESULTS **********\n",
      "- Mean CV ROC-AUC score: 0.842\n",
      "- Train ROC-AUC: 0.923\n",
      "- Test ROC-AUC: 0.556\n",
      "- Best hyperparameters {'C': 0.1, 'penalty': 'l2', 'solver': 'liblinear'}\n",
      "******************************************\n",
      "\n",
      "------------------------------------------------------------\n",
      "**** Best Conformation's ROC-AUC using docking scores ****\n",
      "> Train best conf. ROC-AUC: 0.717 \t> Median ROC-AUC: 0.557\n",
      "> Test best conf. ROC-AUC: 0.892 \t> Median ROC-AUC: 0.831\n",
      "------------------------------------------------------------\n",
      "CPU times: user 1.47 s, sys: 422 ms, total: 1.89 s\n",
      "Wall time: 46.1 s\n"
     ]
    }
   ],
   "source": [
    "%%time\n",
    "# from sklearn.linear_model import LogisticRegression\n",
    "estimator = LogisticRegression()\n",
    "\n",
    "hyperparams = {'C': np.geomspace(1e-4, 1e5, 4), \n",
    "               'penalty': ['l1', 'l2'], \n",
    "               'solver': ['lbfgs', 'liblinear']}\n",
    "\n",
    "# Train DEKOIS, test DUD\n",
    "train_lib = 'DUD'\n",
    "test_lib = 'DEKOIS'\n",
    "split_by_library_and_gs(X, y, train_lib, test_lib)"
   ]
  },
  {
   "cell_type": "markdown",
   "metadata": {},
   "source": [
    "### GS:Random Forest \n",
    "#### DEKOIS database - Random and Stratified Scaffold Splitting"
   ]
  },
  {
   "cell_type": "code",
   "execution_count": 37,
   "metadata": {
    "cell_style": "split"
   },
   "outputs": [
    {
     "name": "stdout",
     "output_type": "stream",
     "text": [
      "No. of molecules in train set: 1219, with 39 actives.\n",
      "No. of molecules in test set: 4495, with 136 actives.\n",
      "\n",
      "********** GRID SEARCH RESULTS **********\n",
      "- Mean CV ROC-AUC score: 0.872\n",
      "- Train ROC-AUC: 0.927\n",
      "- Test ROC-AUC: 0.553\n",
      "- Best hyperparameters {'max_depth': 3, 'max_features': 'sqrt', 'min_samples_leaf': 0.05, 'min_samples_split': 0.2, 'n_estimators': 500}\n",
      "******************************************\n",
      "\n",
      "------------------------------------------------------------\n",
      "**** Best Conformation's ROC-AUC using docking scores ****\n",
      "> Train best conf. ROC-AUC: 0.892 \t> Median ROC-AUC: 0.831\n",
      "> Test best conf. ROC-AUC: 0.717 \t> Median ROC-AUC: 0.557\n",
      "------------------------------------------------------------\n",
      "CPU times: user 2.7 s, sys: 101 ms, total: 2.8 s\n",
      "Wall time: 41.3 s\n"
     ]
    }
   ],
   "source": [
    "%%time\n",
    "from sklearn.ensemble import RandomForestClassifier\n",
    "\n",
    "estimator = RandomForestClassifier()\n",
    "\n",
    "hyperparams = {'n_estimators': [300, 500],\n",
    "             'max_depth': [3,  5, 7],\n",
    "             'min_samples_leaf': [0.03, 0.05],\n",
    "               'min_samples_split': [0.2,  0.3],\n",
    "             'max_features': ['sqrt']\n",
    "            }\n",
    "\n",
    "# Train DEKOIS, test DUD\n",
    "train_lib = 'DEKOIS'\n",
    "test_lib = 'DUD'\n",
    "split_by_library_and_gs(X, y, train_lib, test_lib)"
   ]
  },
  {
   "cell_type": "code",
   "execution_count": 38,
   "metadata": {
    "cell_style": "split"
   },
   "outputs": [
    {
     "name": "stdout",
     "output_type": "stream",
     "text": [
      "No. of molecules in train set: 4495, with 136 actives.\n",
      "No. of molecules in test set: 1219, with 39 actives.\n",
      "\n",
      "********** GRID SEARCH RESULTS **********\n",
      "- Mean CV ROC-AUC score: 0.826\n",
      "- Train ROC-AUC: 0.881\n",
      "- Test ROC-AUC: 0.643\n",
      "- Best hyperparameters {'max_depth': 7, 'max_features': 'sqrt', 'min_samples_leaf': 0.03, 'min_samples_split': 0.2, 'n_estimators': 300}\n",
      "******************************************\n",
      "\n",
      "------------------------------------------------------------\n",
      "**** Best Conformation's ROC-AUC using docking scores ****\n",
      "> Train best conf. ROC-AUC: 0.717 \t> Median ROC-AUC: 0.557\n",
      "> Test best conf. ROC-AUC: 0.892 \t> Median ROC-AUC: 0.831\n",
      "------------------------------------------------------------\n",
      "CPU times: user 4 s, sys: 143 ms, total: 4.15 s\n",
      "Wall time: 1min 19s\n"
     ]
    }
   ],
   "source": [
    "%%time\n",
    "from sklearn.ensemble import RandomForestClassifier\n",
    "\n",
    "estimator = RandomForestClassifier()\n",
    "\n",
    "hyperparams = {'n_estimators': [300, 500],\n",
    "             'max_depth': [3,  5, 7],\n",
    "             'min_samples_leaf': [0.03, 0.05],\n",
    "               'min_samples_split': [0.2,  0.3],\n",
    "             'max_features': ['sqrt']\n",
    "            }\n",
    "\n",
    "# Train DEKOIS, test DUD\n",
    "train_lib = 'DUD'\n",
    "test_lib = 'DEKOIS'\n",
    "split_by_library_and_gs(X, y, train_lib, test_lib)"
   ]
  },
  {
   "cell_type": "markdown",
   "metadata": {},
   "source": [
    "***\n",
    "##  Grid Search\n",
    "### Hyperparameter Tunning\n",
    "#### Merged Libraries "
   ]
  },
  {
   "cell_type": "code",
   "execution_count": 39,
   "metadata": {},
   "outputs": [],
   "source": [
    "# Train and test over DEKOIS\n",
    "X = X_merged_dksc\n",
    "y = y_true_merged\n",
    "scaffold_series = df_scff_murcko['scff_generic']"
   ]
  },
  {
   "cell_type": "markdown",
   "metadata": {
    "cell_style": "center"
   },
   "source": [
    "### GS: Linear SVM \n",
    "#### DEKOIS database - Random and Stratified Scaffold Splitting"
   ]
  },
  {
   "cell_type": "code",
   "execution_count": 40,
   "metadata": {
    "cell_style": "split",
    "scrolled": true
   },
   "outputs": [
    {
     "name": "stdout",
     "output_type": "stream",
     "text": [
      "No. of molecules in train set: 4379, with 225 actives.\n",
      "No. of molecules in test set: 1460, with 75 actives.\n",
      "\n",
      "********** GRID SEARCH RESULTS **********\n",
      "- Mean CV ROC-AUC score: 0.742\n",
      "- Train ROC-AUC: 0.692\n",
      "- Test ROC-AUC: 0.652\n",
      "- Best hyperparameters {'C': 1e-12}\n",
      "******************************************\n",
      "\n",
      "------------------------------------------------------------\n",
      "**** Best Conformation's ROC-AUC using docking scores ****\n",
      "> Train best conf. ROC-AUC: 0.688 \t> Median ROC-AUC: 0.613\n",
      "> Test best conf. ROC-AUC: 0.677 \t> Median ROC-AUC: 0.579\n",
      "------------------------------------------------------------\n",
      "CPU times: user 2.58 s, sys: 105 ms, total: 2.68 s\n",
      "Wall time: 12.7 s\n"
     ]
    }
   ],
   "source": [
    "%%time\n",
    "from sklearn.svm import SVC\n",
    "estimator = SVC(kernel = 'linear', probability=True)\n",
    "hyperparams = {'C': np.geomspace(1e-15, 1e-9, 3)}\n",
    "\n",
    "# RANDOM Train test splitting\n",
    "split_and_gs(X, y, estimator, hyperparams, \n",
    "             splitting='random', test_size=0.25, \n",
    "             scaffold_series=None)"
   ]
  },
  {
   "cell_type": "code",
   "execution_count": 41,
   "metadata": {
    "cell_style": "split"
   },
   "outputs": [
    {
     "name": "stdout",
     "output_type": "stream",
     "text": [
      "No. of molecules in train set: 4154, with 225 actives.\n",
      "No. of molecules in test set: 1685, with 75 actives.\n",
      "\n",
      "********** GRID SEARCH RESULTS **********\n",
      "- Mean CV ROC-AUC score: 0.709\n",
      "- Train ROC-AUC: 0.742\n",
      "- Test ROC-AUC: 0.511\n",
      "- Best hyperparameters {'C': 1e-15}\n",
      "******************************************\n",
      "\n",
      "------------------------------------------------------------\n",
      "**** Best Conformation's ROC-AUC using docking scores ****\n",
      "> Train best conf. ROC-AUC: 0.683 \t> Median ROC-AUC: 0.588\n",
      "> Test best conf. ROC-AUC: 0.704 \t> Median ROC-AUC: 0.641\n",
      "------------------------------------------------------------\n",
      "CPU times: user 2.58 s, sys: 87.1 ms, total: 2.67 s\n",
      "Wall time: 11.4 s\n"
     ]
    }
   ],
   "source": [
    "%%time\n",
    "# from sklearn.svm import SVC\n",
    "estimator = SVC(kernel = 'linear', probability=True)\n",
    "hyperparams = {'C': np.geomspace(1e-15, 1e-9, 3)}\n",
    "\n",
    "# SCAFFOLD Train test splitting\n",
    "split_and_gs(X, y, estimator, hyperparams, \n",
    "             splitting='scaffold', test_size=0.25, \n",
    "             scaffold_series=scaffold_series)"
   ]
  },
  {
   "cell_type": "markdown",
   "metadata": {},
   "source": [
    "### GS: Radial Basis Function SVM\n",
    "#### DEKOIS database - Random and Stratified Scaffold Splitting"
   ]
  },
  {
   "cell_type": "code",
   "execution_count": 42,
   "metadata": {},
   "outputs": [
    {
     "data": {
      "text/plain": [
       "array([1.e-04, 1.e-02, 1.e+00])"
      ]
     },
     "execution_count": 42,
     "metadata": {},
     "output_type": "execute_result"
    }
   ],
   "source": [
    "import numpy as np\n",
    "np.geomspace(1e0, 1e4, 4)\n",
    "np.geomspace(1e-4, 1e0, 3)"
   ]
  },
  {
   "cell_type": "code",
   "execution_count": 43,
   "metadata": {
    "cell_style": "split"
   },
   "outputs": [
    {
     "name": "stdout",
     "output_type": "stream",
     "text": [
      "No. of molecules in train set: 4379, with 225 actives.\n",
      "No. of molecules in test set: 1460, with 75 actives.\n",
      "\n",
      "********** GRID SEARCH RESULTS **********\n",
      "- Mean CV ROC-AUC score: 0.874\n",
      "- Train ROC-AUC: 1.000\n",
      "- Test ROC-AUC: 0.874\n",
      "- Best hyperparameters {'C': 10.0, 'gamma': 0.01}\n",
      "******************************************\n",
      "\n",
      "------------------------------------------------------------\n",
      "**** Best Conformation's ROC-AUC using docking scores ****\n",
      "> Train best conf. ROC-AUC: 0.684 \t> Median ROC-AUC: 0.61\n",
      "> Test best conf. ROC-AUC: 0.669 \t> Median ROC-AUC: 0.588\n",
      "------------------------------------------------------------\n",
      "CPU times: user 7.98 s, sys: 134 ms, total: 8.12 s\n",
      "Wall time: 3min 2s\n"
     ]
    }
   ],
   "source": [
    "%%time\n",
    "from sklearn.svm import SVC\n",
    "estimator = SVC(kernel = 'rbf', probability=True)\n",
    "\n",
    "hyperparams = {'C': np.geomspace(1e0, 1e2, 3), \n",
    "               'gamma': np.geomspace(1e-4, 1e0, 3)}\n",
    "\n",
    "# RANDOM Train test splitting\n",
    "split_and_gs(X, y, estimator, hyperparams, \n",
    "             splitting='random', test_size=0.25, \n",
    "             scaffold_series=None)"
   ]
  },
  {
   "cell_type": "code",
   "execution_count": 44,
   "metadata": {
    "cell_style": "split"
   },
   "outputs": [
    {
     "name": "stdout",
     "output_type": "stream",
     "text": [
      "No. of molecules in train set: 4154, with 225 actives.\n",
      "No. of molecules in test set: 1685, with 75 actives.\n",
      "\n",
      "********** GRID SEARCH RESULTS **********\n",
      "- Mean CV ROC-AUC score: 0.843\n",
      "- Train ROC-AUC: 1.000\n",
      "- Test ROC-AUC: 0.750\n",
      "- Best hyperparameters {'C': 100.0, 'gamma': 0.01}\n",
      "******************************************\n",
      "\n",
      "------------------------------------------------------------\n",
      "**** Best Conformation's ROC-AUC using docking scores ****\n",
      "> Train best conf. ROC-AUC: 0.683 \t> Median ROC-AUC: 0.588\n",
      "> Test best conf. ROC-AUC: 0.704 \t> Median ROC-AUC: 0.641\n",
      "------------------------------------------------------------\n",
      "CPU times: user 6.33 s, sys: 80 ms, total: 6.41 s\n",
      "Wall time: 2min 31s\n"
     ]
    }
   ],
   "source": [
    "%%time\n",
    "estimator = SVC(kernel = 'rbf', probability=True)\n",
    "\n",
    "hyperparams = {'C': np.geomspace(1e0, 1e2, 3), \n",
    "               'gamma': np.geomspace(1e-4, 1e0, 3)}\n",
    "\n",
    "# SCAFFOLD Train test splitting\n",
    "split_and_gs(X, y, estimator, hyperparams, \n",
    "             splitting='scaffold', test_size=0.25, \n",
    "             scaffold_series=scaffold_series)"
   ]
  },
  {
   "cell_type": "markdown",
   "metadata": {},
   "source": [
    "### GS: Logistic Regession \n",
    "#### DEKOIS database - Random and Stratified Scaffold Splitting"
   ]
  },
  {
   "cell_type": "code",
   "execution_count": 45,
   "metadata": {
    "cell_style": "split"
   },
   "outputs": [
    {
     "name": "stdout",
     "output_type": "stream",
     "text": [
      "No. of molecules in train set: 4379, with 225 actives.\n",
      "No. of molecules in test set: 1460, with 75 actives.\n",
      "\n",
      "********** GRID SEARCH RESULTS **********\n",
      "- Mean CV ROC-AUC score: 0.833\n",
      "- Train ROC-AUC: 0.890\n",
      "- Test ROC-AUC: 0.831\n",
      "- Best hyperparameters {'C': 1.0, 'penalty': 'l1', 'solver': 'liblinear'}\n",
      "******************************************\n",
      "\n",
      "------------------------------------------------------------\n",
      "**** Best Conformation's ROC-AUC using docking scores ****\n",
      "> Train best conf. ROC-AUC: 0.687 \t> Median ROC-AUC: 0.603\n",
      "> Test best conf. ROC-AUC: 0.688 \t> Median ROC-AUC: 0.603\n",
      "------------------------------------------------------------\n",
      "CPU times: user 6.12 s, sys: 505 ms, total: 6.62 s\n",
      "Wall time: 34 s\n"
     ]
    }
   ],
   "source": [
    "%%time\n",
    "from sklearn.linear_model import LogisticRegression\n",
    "estimator = LogisticRegression()\n",
    "\n",
    "hyperparams = {'C': np.geomspace(1e-4, 1e4, 3), \n",
    "               'penalty': ['l1', 'l2'], \n",
    "               'solver': ['lbfgs', 'liblinear']}\n",
    "\n",
    "# RANDOM Train test splitting\n",
    "split_and_gs(X, y, estimator, hyperparams, \n",
    "             splitting='random', test_size=0.25, \n",
    "             scaffold_series=None)"
   ]
  },
  {
   "cell_type": "code",
   "execution_count": 46,
   "metadata": {
    "cell_style": "split"
   },
   "outputs": [
    {
     "name": "stderr",
     "output_type": "stream",
     "text": [
      "/home/joel/anaconda3/envs/mds/lib/python3.7/site-packages/sklearn/linear_model/_logistic.py:940: ConvergenceWarning: lbfgs failed to converge (status=1):\n",
      "STOP: TOTAL NO. of ITERATIONS REACHED LIMIT.\n",
      "\n",
      "Increase the number of iterations (max_iter) or scale the data as shown in:\n",
      "    https://scikit-learn.org/stable/modules/preprocessing.html\n",
      "Please also refer to the documentation for alternative solver options:\n",
      "    https://scikit-learn.org/stable/modules/linear_model.html#logistic-regression\n",
      "  extra_warning_msg=_LOGISTIC_SOLVER_CONVERGENCE_MSG)\n"
     ]
    },
    {
     "name": "stdout",
     "output_type": "stream",
     "text": [
      "No. of molecules in train set: 4154, with 225 actives.\n",
      "No. of molecules in test set: 1685, with 75 actives.\n",
      "\n",
      "********** GRID SEARCH RESULTS **********\n",
      "- Mean CV ROC-AUC score: 0.823\n",
      "- Train ROC-AUC: 0.905\n",
      "- Test ROC-AUC: 0.726\n",
      "- Best hyperparameters {'C': 0.1, 'penalty': 'l2', 'solver': 'lbfgs'}\n",
      "******************************************\n",
      "\n",
      "------------------------------------------------------------\n",
      "**** Best Conformation's ROC-AUC using docking scores ****\n",
      "> Train best conf. ROC-AUC: 0.683 \t> Median ROC-AUC: 0.588\n",
      "> Test best conf. ROC-AUC: 0.704 \t> Median ROC-AUC: 0.641\n",
      "------------------------------------------------------------\n",
      "CPU times: user 1.93 s, sys: 609 ms, total: 2.54 s\n",
      "Wall time: 36.7 s\n"
     ]
    }
   ],
   "source": [
    "%%time\n",
    "# from sklearn.linear_model import LogisticRegression\n",
    "estimator = LogisticRegression()\n",
    "\n",
    "hyperparams = {'C': np.geomspace(1e-4, 1e5, 4), \n",
    "               'penalty': ['l1', 'l2'], \n",
    "               'solver': ['lbfgs', 'liblinear']}\n",
    "\n",
    "# SCAFFOLD Train test splitting\n",
    "split_and_gs(X, y, estimator, hyperparams, \n",
    "             splitting='scaffold', test_size=0.25, \n",
    "             scaffold_series=scaffold_series)"
   ]
  },
  {
   "cell_type": "markdown",
   "metadata": {},
   "source": [
    "### GS: Decision Tree Classifier\n",
    "#### DEKOIS database - Random and Stratified Scaffold Splitting"
   ]
  },
  {
   "cell_type": "code",
   "execution_count": 47,
   "metadata": {
    "cell_style": "split"
   },
   "outputs": [
    {
     "name": "stdout",
     "output_type": "stream",
     "text": [
      "No. of molecules in train set: 4379, with 225 actives.\n",
      "No. of molecules in test set: 1460, with 75 actives.\n",
      "\n",
      "********** GRID SEARCH RESULTS **********\n",
      "- Mean CV ROC-AUC score: 0.717\n",
      "- Train ROC-AUC: 0.772\n",
      "- Test ROC-AUC: 0.715\n",
      "- Best hyperparameters {'criterion': 'gini', 'max_depth': 5, 'max_features': None, 'min_samples_leaf': 0.02, 'min_samples_split': 0.3}\n",
      "******************************************\n",
      "\n",
      "------------------------------------------------------------\n",
      "**** Best Conformation's ROC-AUC using docking scores ****\n",
      "> Train best conf. ROC-AUC: 0.697 \t> Median ROC-AUC: 0.618\n",
      "> Test best conf. ROC-AUC: 0.659 \t> Median ROC-AUC: 0.564\n",
      "------------------------------------------------------------\n",
      "CPU times: user 2.95 s, sys: 295 ms, total: 3.25 s\n",
      "Wall time: 6.07 s\n"
     ]
    }
   ],
   "source": [
    "%%time\n",
    "from sklearn.tree import DecisionTreeClassifier\n",
    "\n",
    "estimator = DecisionTreeClassifier(splitter='best')\n",
    "hyperparams = {'criterion': ['gini', 'entropy'], \n",
    "               'max_depth': [2, 3, 5],\n",
    "               'min_samples_split': [0.2,  0.3],\n",
    "               'min_samples_leaf': [0.02, 0.05, 0.1],\n",
    "               'max_features': [None, 'sqrt', 'log2']}\n",
    "\n",
    "# RANDOM Train test splitting\n",
    "split_and_gs(X, y, estimator, hyperparams, \n",
    "             splitting='random', test_size=0.25, \n",
    "             scaffold_series=None)"
   ]
  },
  {
   "cell_type": "code",
   "execution_count": 48,
   "metadata": {
    "cell_style": "split"
   },
   "outputs": [
    {
     "name": "stdout",
     "output_type": "stream",
     "text": [
      "No. of molecules in train set: 4154, with 225 actives.\n",
      "No. of molecules in test set: 1685, with 75 actives.\n",
      "\n",
      "********** GRID SEARCH RESULTS **********\n",
      "- Mean CV ROC-AUC score: 0.714\n",
      "- Train ROC-AUC: 0.789\n",
      "- Test ROC-AUC: 0.624\n",
      "- Best hyperparameters {'criterion': 'gini', 'max_depth': 5, 'max_features': None, 'min_samples_leaf': 0.05, 'min_samples_split': 0.3}\n",
      "******************************************\n",
      "\n",
      "------------------------------------------------------------\n",
      "**** Best Conformation's ROC-AUC using docking scores ****\n",
      "> Train best conf. ROC-AUC: 0.683 \t> Median ROC-AUC: 0.588\n",
      "> Test best conf. ROC-AUC: 0.704 \t> Median ROC-AUC: 0.641\n",
      "------------------------------------------------------------\n",
      "CPU times: user 2.58 s, sys: 168 ms, total: 2.75 s\n",
      "Wall time: 5.62 s\n"
     ]
    }
   ],
   "source": [
    "%%time\n",
    "from sklearn.tree import DecisionTreeClassifier\n",
    "\n",
    "estimator = DecisionTreeClassifier(splitter='best')\n",
    "hyperparams = {'criterion': ['gini', 'entropy'], \n",
    "               'max_depth': [2, 3, 5],\n",
    "               'min_samples_split': [0.2,  0.3],\n",
    "               'min_samples_leaf': [0.02, 0.05, 0.1],\n",
    "               'max_features': [None, 'sqrt', 'log2']}\n",
    "\n",
    "# SCAFFOLD Train test splitting\n",
    "split_and_gs(X, y, estimator, hyperparams, \n",
    "             splitting='scaffold', test_size=0.25, \n",
    "             scaffold_series=scaffold_series)"
   ]
  },
  {
   "cell_type": "markdown",
   "metadata": {},
   "source": [
    "### GS: Bagging Classifier (k-NN as base estimator) \n",
    "#### DEKOIS database - Random and Stratified Scaffold Splitting"
   ]
  },
  {
   "cell_type": "code",
   "execution_count": 49,
   "metadata": {
    "cell_style": "split"
   },
   "outputs": [
    {
     "name": "stdout",
     "output_type": "stream",
     "text": [
      "CPU times: user 47 µs, sys: 6 µs, total: 53 µs\n",
      "Wall time: 61.8 µs\n"
     ]
    }
   ],
   "source": [
    "%%time\n",
    "from sklearn.ensemble import BaggingClassifier\n",
    "\n",
    "knn = KNeighborsClassifier(n_neighbors=125, p=1, \n",
    "                           weights='distance')\n",
    "\n",
    "estimator = BaggingClassifier(base_estimator=knn, \n",
    "                              n_jobs=3, oob_score=True)\n",
    "\n",
    "hyperparams = {'n_estimators': [300]}\n",
    "\n",
    "# RANDOM Train test splitting\n",
    "# split_and_gs(X, y, estimator, hyperparams, \n",
    "#              splitting='random', test_size=0.25, \n",
    "#              scaffold_series=None)"
   ]
  },
  {
   "cell_type": "code",
   "execution_count": 50,
   "metadata": {
    "cell_style": "split"
   },
   "outputs": [
    {
     "name": "stdout",
     "output_type": "stream",
     "text": [
      "CPU times: user 91 µs, sys: 0 ns, total: 91 µs\n",
      "Wall time: 107 µs\n"
     ]
    }
   ],
   "source": [
    "%%time\n",
    "# from sklearn.ensemble import BaggingClassifier\n",
    "\n",
    "knn = KNeighborsClassifier(n_neighbors=125, p=1, \n",
    "                           weights='distance')\n",
    "\n",
    "estimator = BaggingClassifier(base_estimator=knn, \n",
    "                              n_jobs=3, oob_score=True)\n",
    "\n",
    "hyperparams = {'n_estimators': [300]}\n",
    "\n",
    "# SCAFFOLD Train test splitting\n",
    "# split_and_gs(X, y, estimator, hyperparams, \n",
    "#              splitting='scaffold', test_size=0.25, \n",
    "#              scaffold_series=scaffold_series)"
   ]
  },
  {
   "cell_type": "markdown",
   "metadata": {},
   "source": [
    "### GS:Random Forest \n",
    "#### DEKOIS database - Random and Stratified Scaffold Splitting"
   ]
  },
  {
   "cell_type": "code",
   "execution_count": 51,
   "metadata": {
    "cell_style": "split"
   },
   "outputs": [
    {
     "name": "stdout",
     "output_type": "stream",
     "text": [
      "No. of molecules in train set: 4379, with 225 actives.\n",
      "No. of molecules in test set: 1460, with 75 actives.\n",
      "\n",
      "********** GRID SEARCH RESULTS **********\n",
      "- Mean CV ROC-AUC score: 0.739\n",
      "- Train ROC-AUC: 0.780\n",
      "- Test ROC-AUC: 0.750\n",
      "- Best hyperparameters {'max_depth': 3, 'max_features': 'sqrt', 'min_samples_leaf': 0.02, 'min_samples_split': 0.3, 'n_estimators': 400}\n",
      "******************************************\n",
      "\n",
      "------------------------------------------------------------\n",
      "**** Best Conformation's ROC-AUC using docking scores ****\n",
      "> Train best conf. ROC-AUC: 0.682 \t> Median ROC-AUC: 0.604\n",
      "> Test best conf. ROC-AUC: 0.692 \t> Median ROC-AUC: 0.605\n",
      "------------------------------------------------------------\n",
      "CPU times: user 3.37 s, sys: 91.7 ms, total: 3.46 s\n",
      "Wall time: 39 s\n"
     ]
    }
   ],
   "source": [
    "%%time\n",
    "from sklearn.ensemble import RandomForestClassifier\n",
    "\n",
    "estimator = RandomForestClassifier()\n",
    "\n",
    "hyperparams = {'n_estimators': [300, 400],\n",
    "               'max_depth': [2, 3],\n",
    "               'min_samples_split': [0.1,  0.3],\n",
    "               'min_samples_leaf': [0.02, 0.05],\n",
    "               'max_features': ['sqrt']\n",
    "            }\n",
    "\n",
    "# RANDOM Train test splitting\n",
    "split_and_gs(X, y, estimator, hyperparams, \n",
    "             splitting='random', test_size=0.25, \n",
    "             scaffold_series=None)"
   ]
  },
  {
   "cell_type": "code",
   "execution_count": 52,
   "metadata": {
    "cell_style": "split"
   },
   "outputs": [
    {
     "name": "stdout",
     "output_type": "stream",
     "text": [
      "No. of molecules in train set: 4154, with 225 actives.\n",
      "No. of molecules in test set: 1685, with 75 actives.\n",
      "\n",
      "********** GRID SEARCH RESULTS **********\n",
      "- Mean CV ROC-AUC score: 0.733\n",
      "- Train ROC-AUC: 0.800\n",
      "- Test ROC-AUC: 0.638\n",
      "- Best hyperparameters {'max_depth': 3, 'max_features': 'sqrt', 'min_samples_leaf': 0.02, 'min_samples_split': 0.3, 'n_estimators': 300}\n",
      "******************************************\n",
      "\n",
      "------------------------------------------------------------\n",
      "**** Best Conformation's ROC-AUC using docking scores ****\n",
      "> Train best conf. ROC-AUC: 0.683 \t> Median ROC-AUC: 0.588\n",
      "> Test best conf. ROC-AUC: 0.704 \t> Median ROC-AUC: 0.641\n",
      "------------------------------------------------------------\n",
      "CPU times: user 2.96 s, sys: 112 ms, total: 3.08 s\n",
      "Wall time: 36.6 s\n"
     ]
    }
   ],
   "source": [
    "%%time\n",
    "from sklearn.ensemble import RandomForestClassifier\n",
    "\n",
    "estimator = RandomForestClassifier()\n",
    "\n",
    "hyperparams = {'n_estimators': [300, 400],\n",
    "               'max_depth': [2, 3],\n",
    "               'min_samples_split': [0.1,  0.3],\n",
    "               'min_samples_leaf': [0.02, 0.05],\n",
    "               'max_features': ['sqrt']\n",
    "            }\n",
    "\n",
    "# SCAFFOLD Train test splitting\n",
    "split_and_gs(X, y, estimator, hyperparams, \n",
    "             splitting='scaffold', test_size=0.25, \n",
    "             scaffold_series=scaffold_series)"
   ]
  },
  {
   "cell_type": "code",
   "execution_count": null,
   "metadata": {},
   "outputs": [],
   "source": []
  }
 ],
 "metadata": {
  "kernelspec": {
   "display_name": "Python 3.7.6 64-bit ('mds': conda)",
   "language": "python",
   "name": "python37664bitmdsconda8fcfe9b6c3484566880235af88776fef"
  },
  "language_info": {
   "codemirror_mode": {
    "name": "ipython",
    "version": 3
   },
   "file_extension": ".py",
   "mimetype": "text/x-python",
   "name": "python",
   "nbconvert_exporter": "python",
   "pygments_lexer": "ipython3",
   "version": "3.7.6"
  }
 },
 "nbformat": 4,
 "nbformat_minor": 4
}
