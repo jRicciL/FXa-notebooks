{
 "cells": [
  {
   "cell_type": "markdown",
   "metadata": {},
   "source": [
    "# FXa: Model Selection"
   ]
  },
  {
   "cell_type": "code",
   "execution_count": 1,
   "metadata": {},
   "outputs": [],
   "source": [
    "import pandas as pd\n",
    "import numpy as np\n",
    "import glob, sys, os\n",
    "sys.path.append('..')"
   ]
  },
  {
   "cell_type": "code",
   "execution_count": 2,
   "metadata": {},
   "outputs": [],
   "source": [
    "from modules.plotting_metrics import PlotMetric\n",
    "import matplotlib.pyplot as plt\n",
    "import seaborn as sns\n",
    "sns.set(style='white', context='talk', font_scale=0.8)"
   ]
  },
  {
   "cell_type": "code",
   "execution_count": 3,
   "metadata": {},
   "outputs": [
    {
     "data": {
      "text/plain": [
       "40"
      ]
     },
     "execution_count": 3,
     "metadata": {},
     "output_type": "execute_result"
    }
   ],
   "source": [
    "file_name = './df_DkSc_results_COCRYS_DEKOIS_DUD.pkl'\n",
    "X_merged_dksc = pd.read_pickle(file_name)\n",
    "# Extract activity column\n",
    "y_true_merged = X_merged_dksc['activity']\n",
    "# Drop column from merged_dkksc\n",
    "X_merged_dksc = X_merged_dksc.drop('activity', axis=1)\n",
    "X_merged_dksc.shape\n",
    "y_true_merged.loc['DEKOIS'].sum()"
   ]
  },
  {
   "cell_type": "markdown",
   "metadata": {},
   "source": [
    "### Timeout Decorator"
   ]
  },
  {
   "cell_type": "code",
   "execution_count": 4,
   "metadata": {},
   "outputs": [],
   "source": [
    "import signal\n",
    "from functools import wraps\n",
    "\n",
    "def timeout(n_seconds=300):\n",
    "    '''Stops a function execution after n seconds'''\n",
    "    def decorator(func):\n",
    "        @wraps(func)\n",
    "        def wrapper(*args, **kwargs):\n",
    "            # Set alarm for n seconds\n",
    "            signal.alarm(n_seconds)\n",
    "            try:\n",
    "                # Call decorated func\n",
    "                return func(*args, **kwargs)\n",
    "#             except TimeoutError as e:\n",
    "                print(f'Execution finished after {n_seconds}:', e)\n",
    "            finally:\n",
    "                # Cancel Alarm\n",
    "                signal.alarm(0)\n",
    "        return wrapper\n",
    "    return decorator"
   ]
  },
  {
   "cell_type": "markdown",
   "metadata": {},
   "source": [
    "## Scaffold Splitting"
   ]
  },
  {
   "cell_type": "code",
   "execution_count": 5,
   "metadata": {},
   "outputs": [],
   "source": [
    "#*************************************************\n",
    "# Functions to compute stratify scaffold splitting\n",
    "#*************************************************\n",
    "from scaffold_splitter import train_test_scaffold_split"
   ]
  },
  {
   "cell_type": "code",
   "execution_count": 6,
   "metadata": {},
   "outputs": [],
   "source": [
    "# Compute or load the dataframe containing the Generic Murcko Scaffolds\n",
    "file = './df_COCRYS_DUD_DEKOIS_Murcko_Scaffolds_SMILES.obj'\n",
    "\n",
    "df_scff_murcko = pd.read_pickle(file)"
   ]
  },
  {
   "cell_type": "markdown",
   "metadata": {},
   "source": [
    "## Train/test on the same dataset "
   ]
  },
  {
   "cell_type": "markdown",
   "metadata": {},
   "source": [
    "### Learning Curves"
   ]
  },
  {
   "cell_type": "code",
   "execution_count": 7,
   "metadata": {},
   "outputs": [],
   "source": [
    "from sklearn.model_selection import GridSearchCV, RandomizedSearchCV, train_test_split, cross_val_score\n",
    "from sklearn.preprocessing import StandardScaler\n",
    "from sklearn.metrics import roc_auc_score\n",
    "from sklearn.pipeline import Pipeline\n",
    "from sklearn.model_selection import learning_curve"
   ]
  },
  {
   "cell_type": "code",
   "execution_count": 8,
   "metadata": {},
   "outputs": [],
   "source": [
    "def plot_learning_curves(estimator, X, y, title, ylim=[0.5,1], axes=None,\n",
    "                         cv=3, train_sizes=np.linspace(0.1, 1.0, 10), \n",
    "                         scoring='roc_auc', n_jobs=4):\n",
    "    '''\n",
    "    Plot estimator performance on the training and validation\n",
    "    sets as a function of the training set size.\n",
    "\n",
    "    Parameters\n",
    "    ----------\n",
    "    estimator: sklearn estimator object type\n",
    "       Object type that implements the \"fit\" and \"predict method\"\n",
    "\n",
    "    X: array-like, shape (m_samples, n_features)\n",
    "        Training array with m_samples and n_features.\n",
    "    y: array-like, shape (m_samples)\n",
    "        Target array relative to X with m labels.\n",
    "    axes: array of 3 axes\n",
    "        matplotlib axes array to append the generated plot\n",
    "    ylim: array\n",
    "       \n",
    "    '''\n",
    "    if axes == None:\n",
    "        _, axes = plt.subplots(1, 1, figsize=(5, 5))\n",
    "        \n",
    "    axes.set(title=title, ylim=ylim, xlabel='Training examples', ylabel=f'Metric: {scoring}')\n",
    "    # Use learning_curve function from sklearn\n",
    "    train_sizes, train_scores, test_scores, fit_times, _ = \\\n",
    "       learning_curve(estimator, X, y, scoring=scoring, return_times = True,\n",
    "                      cv=cv, n_jobs=n_jobs, train_sizes=train_sizes)\n",
    "    # Compute useful metrics\n",
    "    train_scores_mean = np.mean(train_scores, axis=1)\n",
    "    train_scores_std = np.std(train_scores, axis=1)\n",
    "    test_scores_mean = np.mean(test_scores, axis=1)\n",
    "    test_scores_std = np.std(test_scores, axis=1)\n",
    "#     fit_times_mean = np.mean(fit_times, axis=1)\n",
    "#     fit_times_std = np.std(fit_times, axis=1)\n",
    "    # Plot the learning curve\n",
    "    axes.grid()\n",
    "    axes.fill_between(train_sizes, train_scores_mean - train_scores_std,\n",
    "                        train_scores_mean + train_scores_std, alpha=0.1, color='r')\n",
    "    axes.fill_between(train_sizes, test_scores_mean - test_scores_std,\n",
    "                        test_scores_mean + test_scores_std, alpha=0.1, color='g')\n",
    "    axes.plot(train_sizes, train_scores_mean, 'o-', color='r',\n",
    "                label='Train score')\n",
    "    axes.plot(train_sizes, test_scores_mean, 'o-', color='g',\n",
    "                label='Cross-validation score')\n",
    "    axes.legend(loc='lower right')\n",
    "    "
   ]
  },
  {
   "cell_type": "markdown",
   "metadata": {},
   "source": [
    "### Hyperparameters tunning: Grid Search"
   ]
  },
  {
   "cell_type": "code",
   "execution_count": 9,
   "metadata": {},
   "outputs": [],
   "source": [
    "def run_grid_search(estimator, X_train, y_train, X_test, y_test, hyperparams,  cv_value=5, \n",
    "                    scoring='roc_auc', splitting='random', std_scale=False,\n",
    "                   randomGS = False, n_iter=10):\n",
    "    # Format the hyperparms\n",
    "    hyperparams_dict = {'estimator__' + key: val for key, val in hyperparams.items()}\n",
    "    \n",
    "    if std_scale:\n",
    "        # Create the Pipe\n",
    "        scaler = StandardScaler()\n",
    "        pipe = Pipeline([('scaler', scaler),\n",
    "                         ('estimator', estimator)])\n",
    "    else:\n",
    "        pipe = estimator\n",
    "    \n",
    "    # Do Grid Search\n",
    "    if randomGS:\n",
    "        gs = RandomizedSearchCV(estimator = pipe,  param_distributions = hyperparams,\n",
    "                     cv = cv_value, scoring = scoring, n_jobs = 6, refit = True, n_iter=n_iter)\n",
    "    else:\n",
    "        gs = GridSearchCV(estimator = pipe, param_grid = hyperparams,\n",
    "                     cv = cv_value, scoring = scoring, n_jobs = 6, refit = True)\n",
    "    # Train the model\n",
    "    gs.fit(X_train, y_train) \n",
    "\n",
    "    # Predictions\n",
    "    y_train_predict = gs.predict_proba(X_train)\n",
    "    y_test_predict = gs.predict_proba(X_test)\n",
    "    \n",
    "    # Values to return\n",
    "    n_train_mols    = y_train.shape[0]\n",
    "    n_train_actives = y_train.sum()\n",
    "    n_test_mols     = y_test.shape[0]\n",
    "    n_test_actives  = y_test.sum()\n",
    "    mean_cv_roc     = gs.best_score_\n",
    "    train_roc       = roc_auc_score(y_train, y_train_predict[:, 1])\n",
    "    test_roc        = roc_auc_score(y_test, y_test_predict[:, 1])\n",
    "    best_params     = gs.best_params_\n",
    "\n",
    "    # Print some values\n",
    "    print(f'No. of molecules in train set: {n_train_mols}, with {n_train_actives} actives.')\n",
    "    print(f'No. of molecules in test set: {n_test_mols}, with {n_test_actives} actives.')\n",
    "    print('')\n",
    "    print('*'*10, 'GRID SEARCH RESULTS', '*'*10)\n",
    "    print('- Mean CV ROC-AUC:\\t{:.3f}'.format(mean_cv_roc))\n",
    "    print('- Train ROC-AUC:  \\t{:.3f}'.format(train_roc))\n",
    "    print('- Test ROC-AUC:   \\t{:.3f}'.format(test_roc))\n",
    "    print('- Best hyperparameters', best_params)\n",
    "    print('**'*21)\n",
    "    print('')\n",
    "    \n",
    "    return [n_train_mols, n_train_actives, n_test_mols, n_test_actives,\n",
    "            mean_cv_roc, train_roc, test_roc, best_params]"
   ]
  },
  {
   "cell_type": "markdown",
   "metadata": {},
   "source": [
    "### Function to report the Best Conformation's ROC-AUC for a given subset of samples"
   ]
  },
  {
   "cell_type": "code",
   "execution_count": 10,
   "metadata": {},
   "outputs": [],
   "source": [
    "#************************************************************************\n",
    "# Returns the best conformatio's ROC-AUC value of a given subset X and y\n",
    "#************************************************************************\n",
    "\n",
    "def get_roc_auc_DkSc(X_train, y_train, X_test, y_test, verbose=True):\n",
    "    roc_auc_train = X_train.apply(\n",
    "        lambda x: roc_auc_score(y_true= y_train, y_score= -x), axis=0)\n",
    "    roc_auc_test = X_test.apply(\n",
    "        lambda x: roc_auc_score(y_true= y_test, y_score= -x), axis=0)\n",
    "    # Values to return\n",
    "    train_best_roc = roc_auc_train.max()\n",
    "    train_median   = roc_auc_train.median()\n",
    "    train_mean     = roc_auc_train.mean()\n",
    "    test_best_roc = roc_auc_test.max()\n",
    "    test_median   = roc_auc_test.median()\n",
    "    test_mean     = roc_auc_test.mean()\n",
    "    \n",
    "    if verbose:\n",
    "        print(\"***** Best Conformation's ROC-AUC using docking scores *****\")\n",
    "        \n",
    "        print(\"> Train best conf. ROC-AUC: {:.3f}\".format(train_best_roc) +\n",
    "              \" \\t> median: {:.3f}\".format(train_median) +\n",
    "              ', mean: {:.3f}'.format(train_mean))\n",
    "        \n",
    "        print(\"> Test best conf. ROC-AUC: {:.3f}\".format(test_best_roc) +\n",
    "              \" \\t> median: {:.3f}\".format(test_median) +\n",
    "              ', mean: {:.3f}'.format(test_mean))\n",
    "        print('**'*32)\n",
    "    # return a list of results to capture by the  wrapper function\n",
    "    return [train_best_roc, train_median, train_mean,\n",
    "            test_best_roc, test_median, test_mean]\n",
    "        "
   ]
  },
  {
   "cell_type": "code",
   "execution_count": null,
   "metadata": {},
   "outputs": [],
   "source": []
  },
  {
   "cell_type": "code",
   "execution_count": 11,
   "metadata": {},
   "outputs": [],
   "source": [
    "#******************************************\n",
    "# Decorator functions to capture GS results\n",
    "#******************************************\n",
    "from functools import wraps\n",
    "\n",
    "def capture_GS_results(results_dict=None, capture=True):\n",
    "    def decorator(func):\n",
    "        @wraps(func)\n",
    "        def wrapper(*args, **kwargs):\n",
    "            if results_dict != None and capture:\n",
    "                results = func(*args, **kwargs)\n",
    "                # Create a key with the first four values\n",
    "                key = '_'.join(results[:4])\n",
    "                # Append results to the results dictionary\n",
    "                results_dict[key] = results\n",
    "            else:\n",
    "                return func(*args, **kwargs)\n",
    "        return wrapper\n",
    "    return decorator\n",
    "            \n",
    "#******************************************************\n",
    "# Dictionary to capture GS results using the decorator \n",
    "#******************************************************\n",
    "results_dict = {}\n",
    "\n",
    "#******************************************************\n",
    "# Function to Split and run Grid Search\n",
    "#******************************************************\n",
    "@capture_GS_results(results_dict)\n",
    "def split_and_gs(train_name, test_name, estimator_name,\n",
    "                 X, y, estimator, hyperparams, splitting='random', \n",
    "                 test_size=0.25, scaffold_series=None, **kwargs):\n",
    "    '''Given a X and y sets, a sklean estimator and an splitting method, \n",
    "    performs Grid Search CV using the parsed hyperparams'''\n",
    "    #**************\n",
    "    # Do the split\n",
    "    #**************\n",
    "    if splitting == 'scaffold':\n",
    "        X_train, X_test, y_train, y_test = \\\n",
    "            train_test_scaffold_split(X, y, scaffold_series = scaffold_series,\n",
    "                test_size=test_size, stratify=y)\n",
    "    elif splitting == 'random':\n",
    "        X_train, X_test, y_train, y_test = \\\n",
    "            train_test_split(X, y, test_size=test_size, stratify=y)\n",
    "        \n",
    "    # Verbose\n",
    "    print(f'{estimator_name} => Train: {train_name}; Test: {test_name}; split: {splitting}')\n",
    "    \n",
    "    # Function to run Grid Search\n",
    "    #----------------------------\n",
    "    gs_results = run_grid_search(estimator, \n",
    "                    X_train, y_train, X_test, y_test, \n",
    "                    hyperparams = hyperparams,  **kwargs)\n",
    "\n",
    "    # Function to extract ROC results from DkSc values \n",
    "    #-------------------------------------------------\n",
    "    dksc_results = get_roc_auc_DkSc(X_train, y_train, X_test, y_test)\n",
    "    \n",
    "    # Return both list of results to captured by the decorador function\n",
    "    return [train_name, test_name, estimator_name, splitting] + gs_results + dksc_results"
   ]
  },
  {
   "cell_type": "code",
   "execution_count": 12,
   "metadata": {},
   "outputs": [
    {
     "data": {
      "text/plain": [
       "{}"
      ]
     },
     "execution_count": 12,
     "metadata": {},
     "output_type": "execute_result"
    }
   ],
   "source": [
    "results_dict"
   ]
  },
  {
   "cell_type": "markdown",
   "metadata": {},
   "source": [
    "#  Hyperparameter Tunning: Grid Search\n",
    "<h2 style='background-color: #F9E5AB; padding: 5px;'>\n",
    "    Train-Test with DEKOIS Library\n",
    "</h2>\n",
    "<div style='background-color: #FE8460; min-height: 5px'></div>"
   ]
  },
  {
   "cell_type": "code",
   "execution_count": 13,
   "metadata": {},
   "outputs": [],
   "source": [
    "#### library = 'DEKOIS'\n",
    "library = 'DEKOIS'\n",
    "\n",
    "# Train and test over DEKOIS\n",
    "X = X_merged_dksc.loc[library]\n",
    "y = y_true_merged.loc[library]\n",
    "scaffold_series = df_scff_murcko['scff_generic'].loc[library]"
   ]
  },
  {
   "cell_type": "markdown",
   "metadata": {
    "cell_style": "center"
   },
   "source": [
    "<h3 style='color: #F84122; padding: 0px;; margin: 0px'>GS: Linear SVM </h3>\n",
    "<b>DEKOIS  - Random and Stratified Scaffold Splitting</b>"
   ]
  },
  {
   "cell_type": "code",
   "execution_count": 14,
   "metadata": {
    "cell_style": "split"
   },
   "outputs": [
    {
     "name": "stdout",
     "output_type": "stream",
     "text": [
      "LinearSVC => Train: DEKOIS; Test: DEKOIS; split: random\n",
      "No. of molecules in train set: 915, with 30 actives.\n",
      "No. of molecules in test set: 306, with 10 actives.\n",
      "\n",
      "********** GRID SEARCH RESULTS **********\n",
      "- Mean CV ROC-AUC:\t0.875\n",
      "- Train ROC-AUC:  \t0.885\n",
      "- Test ROC-AUC:   \t0.926\n",
      "- Best hyperparameters {'C': 1e-08}\n",
      "******************************************\n",
      "\n",
      "***** Best Conformation's ROC-AUC using docking scores *****\n",
      "> Train best conf. ROC-AUC: 0.894 \t> median: 0.822, mean: 0.820\n",
      "> Test best conf. ROC-AUC: 0.966 \t> median: 0.866, mean: 0.863\n",
      "****************************************************************\n",
      "CPU times: user 904 ms, sys: 424 ms, total: 1.33 s\n",
      "Wall time: 5.8 s\n"
     ]
    }
   ],
   "source": [
    "%%time\n",
    "from sklearn.svm import SVC\n",
    "\n",
    "estimator_name = 'LinearSVC'\n",
    "estimator = SVC(kernel = 'linear', probability=True)\n",
    "hyperparams = {'C': np.geomspace(1e-8, 1e4, 7)}\n",
    "\n",
    "# RANDOM Train test splitting\n",
    "split_and_gs(library, library, estimator_name,\n",
    "             X, y, estimator, hyperparams, \n",
    "             splitting='random', test_size=0.25, \n",
    "             scaffold_series=None)"
   ]
  },
  {
   "cell_type": "code",
   "execution_count": 15,
   "metadata": {
    "cell_style": "split"
   },
   "outputs": [
    {
     "name": "stdout",
     "output_type": "stream",
     "text": [
      "LinearSVC => Train: DEKOIS; Test: DEKOIS; split: scaffold\n",
      "No. of molecules in train set: 885, with 30 actives.\n",
      "No. of molecules in test set: 336, with 10 actives.\n",
      "\n",
      "********** GRID SEARCH RESULTS **********\n",
      "- Mean CV ROC-AUC:\t0.847\n",
      "- Train ROC-AUC:  \t0.875\n",
      "- Test ROC-AUC:   \t0.956\n",
      "- Best hyperparameters {'C': 1e-08}\n",
      "******************************************\n",
      "\n",
      "***** Best Conformation's ROC-AUC using docking scores *****\n",
      "> Train best conf. ROC-AUC: 0.884 \t> median: 0.816, mean: 0.812\n",
      "> Test best conf. ROC-AUC: 0.965 \t> median: 0.897, mean: 0.893\n",
      "****************************************************************\n",
      "CPU times: user 617 ms, sys: 84.9 ms, total: 702 ms\n",
      "Wall time: 1.17 s\n"
     ]
    }
   ],
   "source": [
    "%%time\n",
    "# from sklearn.svm import SVC\n",
    "\n",
    "estimator_name = 'LinearSVC'\n",
    "estimator = SVC(kernel = 'linear', probability=True)\n",
    "hyperparams = {'C': np.geomspace(1e-8, 1e4, 7)}\n",
    "\n",
    "# SCAFFOLD Train test splitting\n",
    "split_and_gs(library, library, estimator_name,\n",
    "              X, y, estimator, hyperparams, \n",
    "             splitting='scaffold', test_size=0.25, \n",
    "             scaffold_series=scaffold_series)"
   ]
  },
  {
   "cell_type": "markdown",
   "metadata": {},
   "source": [
    "<h3 style='color: #F84122; padding: 0px;; margin: 0px'>GS: Radial Basis Function SVM </h3>\n",
    "<b>DEKOIS  - Random and Stratified Scaffold Splitting</b>"
   ]
  },
  {
   "cell_type": "code",
   "execution_count": 16,
   "metadata": {
    "cell_style": "split"
   },
   "outputs": [
    {
     "name": "stdout",
     "output_type": "stream",
     "text": [
      "rbfSVC => Train: DEKOIS; Test: DEKOIS; split: random\n",
      "No. of molecules in train set: 915, with 30 actives.\n",
      "No. of molecules in test set: 306, with 10 actives.\n",
      "\n",
      "********** GRID SEARCH RESULTS **********\n",
      "- Mean CV ROC-AUC:\t0.896\n",
      "- Train ROC-AUC:  \t0.906\n",
      "- Test ROC-AUC:   \t0.876\n",
      "- Best hyperparameters {'C': 1e-08, 'gamma': 0.0001}\n",
      "******************************************\n",
      "\n",
      "***** Best Conformation's ROC-AUC using docking scores *****\n",
      "> Train best conf. ROC-AUC: 0.906 \t> median: 0.840, mean: 0.837\n",
      "> Test best conf. ROC-AUC: 0.926 \t> median: 0.816, mean: 0.815\n",
      "****************************************************************\n",
      "CPU times: user 1.63 s, sys: 366 ms, total: 1.99 s\n",
      "Wall time: 11.8 s\n"
     ]
    }
   ],
   "source": [
    "%%time\n",
    "estimator_name = 'rbfSVC'\n",
    "estimator = SVC(kernel = 'rbf', probability=True)\n",
    "hyperparams = {'C': np.geomspace(1e-8, 1e4, 7), \n",
    "               'gamma': np.geomspace(1e-8, 1e4, 7)}\n",
    "\n",
    "# RANDOM Train test splitting\n",
    "split_and_gs(library, library, estimator_name,\n",
    "             X, y, estimator, hyperparams, \n",
    "             splitting='random', test_size=0.25, \n",
    "             scaffold_series=None)"
   ]
  },
  {
   "cell_type": "code",
   "execution_count": 17,
   "metadata": {
    "cell_style": "split"
   },
   "outputs": [
    {
     "name": "stdout",
     "output_type": "stream",
     "text": [
      "rbfSVC => Train: DEKOIS; Test: DEKOIS; split: scaffold\n",
      "No. of molecules in train set: 885, with 30 actives.\n",
      "No. of molecules in test set: 336, with 10 actives.\n",
      "\n",
      "********** GRID SEARCH RESULTS **********\n",
      "- Mean CV ROC-AUC:\t0.846\n",
      "- Train ROC-AUC:  \t0.875\n",
      "- Test ROC-AUC:   \t0.953\n",
      "- Best hyperparameters {'C': 1e-08, 'gamma': 1e-06}\n",
      "******************************************\n",
      "\n",
      "***** Best Conformation's ROC-AUC using docking scores *****\n",
      "> Train best conf. ROC-AUC: 0.884 \t> median: 0.816, mean: 0.812\n",
      "> Test best conf. ROC-AUC: 0.965 \t> median: 0.897, mean: 0.893\n",
      "****************************************************************\n",
      "CPU times: user 1.67 s, sys: 425 ms, total: 2.1 s\n",
      "Wall time: 11.9 s\n"
     ]
    }
   ],
   "source": [
    "%%time\n",
    "estimator_name = 'rbfSVC'\n",
    "estimator = SVC(kernel = 'rbf', probability=True)\n",
    "hyperparams = {'C': np.geomspace(1e-8, 1e4, 7), \n",
    "               'gamma': np.geomspace(1e-8, 1e4, 7)}\n",
    "\n",
    "# SCAFFOLD Train test splitting\n",
    "split_and_gs(library, library, estimator_name,\n",
    "             X, y, estimator, hyperparams, \n",
    "             splitting='scaffold', test_size=0.25, \n",
    "             scaffold_series=scaffold_series)"
   ]
  },
  {
   "cell_type": "markdown",
   "metadata": {},
   "source": [
    "<h3 style='color: #F84122; padding: 0px;; margin: 0px'> GS: Logistic Regression </h3>\n",
    "<b>DEKOIS  - Random and Stratified Scaffold Splitting</b>"
   ]
  },
  {
   "cell_type": "code",
   "execution_count": 18,
   "metadata": {
    "cell_style": "split"
   },
   "outputs": [
    {
     "name": "stdout",
     "output_type": "stream",
     "text": [
      "LogReg => Train: DEKOIS; Test: DEKOIS; split: random\n",
      "No. of molecules in train set: 915, with 30 actives.\n",
      "No. of molecules in test set: 306, with 10 actives.\n",
      "\n",
      "********** GRID SEARCH RESULTS **********\n",
      "- Mean CV ROC-AUC:\t0.903\n",
      "- Train ROC-AUC:  \t0.902\n",
      "- Test ROC-AUC:   \t0.854\n",
      "- Best hyperparameters {'C': 0.0001, 'penalty': 'l2', 'solver': 'lbfgs'}\n",
      "******************************************\n",
      "\n",
      "***** Best Conformation's ROC-AUC using docking scores *****\n",
      "> Train best conf. ROC-AUC: 0.918 \t> median: 0.848, mean: 0.843\n",
      "> Test best conf. ROC-AUC: 0.910 \t> median: 0.802, mean: 0.800\n",
      "****************************************************************\n",
      "CPU times: user 1.18 s, sys: 550 ms, total: 1.73 s\n",
      "Wall time: 11.4 s\n"
     ]
    }
   ],
   "source": [
    "%%time\n",
    "from sklearn.linear_model import LogisticRegression\n",
    "\n",
    "estimator_name = 'LogReg'\n",
    "estimator = LogisticRegression(max_iter=150)\n",
    "hyperparams = {'C': np.geomspace(1e-8, 1e4, 7), \n",
    "               'penalty': ['l1', 'l2'], \n",
    "               'solver': ['lbfgs', 'liblinear']}\n",
    "\n",
    "# RANDOM Train test splitting\n",
    "split_and_gs(library, library, estimator_name,\n",
    "             X, y, estimator, hyperparams, \n",
    "             splitting='random', test_size=0.25, \n",
    "             scaffold_series=None)"
   ]
  },
  {
   "cell_type": "code",
   "execution_count": 19,
   "metadata": {
    "cell_style": "split"
   },
   "outputs": [
    {
     "name": "stdout",
     "output_type": "stream",
     "text": [
      "LogReg => Train: DEKOIS; Test: DEKOIS; split: scaffold\n",
      "No. of molecules in train set: 885, with 30 actives.\n",
      "No. of molecules in test set: 336, with 10 actives.\n",
      "\n",
      "********** GRID SEARCH RESULTS **********\n",
      "- Mean CV ROC-AUC:\t0.863\n",
      "- Train ROC-AUC:  \t0.869\n",
      "- Test ROC-AUC:   \t0.953\n",
      "- Best hyperparameters {'C': 1e-08, 'penalty': 'l2', 'solver': 'lbfgs'}\n",
      "******************************************\n",
      "\n",
      "***** Best Conformation's ROC-AUC using docking scores *****\n",
      "> Train best conf. ROC-AUC: 0.884 \t> median: 0.816, mean: 0.812\n",
      "> Test best conf. ROC-AUC: 0.965 \t> median: 0.897, mean: 0.893\n",
      "****************************************************************\n",
      "CPU times: user 1.18 s, sys: 601 ms, total: 1.78 s\n",
      "Wall time: 11.3 s\n"
     ]
    }
   ],
   "source": [
    "%%time\n",
    "# from sklearn.linear_model import LogisticRegression\n",
    "\n",
    "estimator_name = 'LogReg'\n",
    "estimator = LogisticRegression(max_iter=150)\n",
    "hyperparams = {'C': np.geomspace(1e-8, 1e4, 7), \n",
    "               'penalty': ['l1', 'l2'], \n",
    "               'solver': ['lbfgs', 'liblinear']}\n",
    "\n",
    "# SCAFFOLD Train test splitting\n",
    "split_and_gs(library, library, estimator_name,\n",
    "             X, y, estimator, hyperparams,\n",
    "             splitting='scaffold', test_size=0.25, \n",
    "             scaffold_series=scaffold_series)"
   ]
  },
  {
   "cell_type": "markdown",
   "metadata": {},
   "source": [
    "<h3 style='color: #F84122; padding: 0px;; margin: 0px'>GS: K-Neighbors Classifier</h3>\n",
    "<b>DEKOIS  - Random and Stratified Scaffold Splitting</b>"
   ]
  },
  {
   "cell_type": "code",
   "execution_count": 20,
   "metadata": {
    "cell_style": "split"
   },
   "outputs": [
    {
     "name": "stdout",
     "output_type": "stream",
     "text": [
      "kNN => Train: DEKOIS; Test: DEKOIS; split: random\n",
      "No. of molecules in train set: 915, with 30 actives.\n",
      "No. of molecules in test set: 306, with 10 actives.\n",
      "\n",
      "********** GRID SEARCH RESULTS **********\n",
      "- Mean CV ROC-AUC:\t0.892\n",
      "- Train ROC-AUC:  \t0.901\n",
      "- Test ROC-AUC:   \t0.828\n",
      "- Best hyperparameters {'n_neighbors': 225, 'p': 2}\n",
      "******************************************\n",
      "\n",
      "***** Best Conformation's ROC-AUC using docking scores *****\n",
      "> Train best conf. ROC-AUC: 0.915 \t> median: 0.846, mean: 0.843\n",
      "> Test best conf. ROC-AUC: 0.891 \t> median: 0.795, mean: 0.794\n",
      "****************************************************************\n",
      "CPU times: user 1.1 s, sys: 158 ms, total: 1.26 s\n",
      "Wall time: 1.73 s\n"
     ]
    }
   ],
   "source": [
    "%%time\n",
    "from sklearn.neighbors import KNeighborsClassifier \n",
    "\n",
    "estimator_name = 'kNN'\n",
    "estimator = KNeighborsClassifier()\n",
    "hyperparams = {'n_neighbors': [25, 55, 125, 225], \n",
    "               'p': [1, 2]\n",
    "             }\n",
    "\n",
    "# RANDOM Train test splitting\n",
    "split_and_gs(library, library, estimator_name,\n",
    "             X, y, estimator, hyperparams,\n",
    "             splitting='random', test_size=0.25, \n",
    "             scaffold_series=None)"
   ]
  },
  {
   "cell_type": "code",
   "execution_count": 21,
   "metadata": {
    "cell_style": "split"
   },
   "outputs": [
    {
     "name": "stdout",
     "output_type": "stream",
     "text": [
      "kNN => Train: DEKOIS; Test: DEKOIS; split: scaffold\n",
      "No. of molecules in train set: 885, with 30 actives.\n",
      "No. of molecules in test set: 336, with 10 actives.\n",
      "\n",
      "********** GRID SEARCH RESULTS **********\n",
      "- Mean CV ROC-AUC:\t0.839\n",
      "- Train ROC-AUC:  \t0.871\n",
      "- Test ROC-AUC:   \t0.953\n",
      "- Best hyperparameters {'n_neighbors': 225, 'p': 2}\n",
      "******************************************\n",
      "\n",
      "***** Best Conformation's ROC-AUC using docking scores *****\n",
      "> Train best conf. ROC-AUC: 0.884 \t> median: 0.816, mean: 0.812\n",
      "> Test best conf. ROC-AUC: 0.965 \t> median: 0.897, mean: 0.893\n",
      "****************************************************************\n",
      "CPU times: user 848 ms, sys: 85 ms, total: 933 ms\n",
      "Wall time: 1.29 s\n"
     ]
    }
   ],
   "source": [
    "%%time\n",
    "from sklearn.neighbors import KNeighborsClassifier \n",
    "\n",
    "estimator_name = 'kNN'\n",
    "estimator = KNeighborsClassifier()\n",
    "hyperparams = {'n_neighbors': [25, 55, 125, 225], \n",
    "               'p': [1, 2]\n",
    "             }\n",
    "\n",
    "# SCAFFOLD Train test splitting\n",
    "split_and_gs(library, library, estimator_name,\n",
    "             X, y, estimator, hyperparams,\n",
    "             splitting='scaffold', test_size=0.25, \n",
    "             scaffold_series=scaffold_series)"
   ]
  },
  {
   "cell_type": "markdown",
   "metadata": {},
   "source": [
    "<h3 style='color: #F84122; padding: 0px;; margin: 0px'>GS: Decision Tree Classifier</h3>\n",
    "<b>DEKOIS  - Random and Stratified Scaffold Splitting</b>"
   ]
  },
  {
   "cell_type": "code",
   "execution_count": 22,
   "metadata": {
    "cell_style": "split"
   },
   "outputs": [
    {
     "name": "stdout",
     "output_type": "stream",
     "text": [
      "DTree => Train: DEKOIS; Test: DEKOIS; split: random\n",
      "No. of molecules in train set: 915, with 30 actives.\n",
      "No. of molecules in test set: 306, with 10 actives.\n",
      "\n",
      "********** GRID SEARCH RESULTS **********\n",
      "- Mean CV ROC-AUC:\t0.869\n",
      "- Train ROC-AUC:  \t0.889\n",
      "- Test ROC-AUC:   \t0.758\n",
      "- Best hyperparameters {'criterion': 'gini', 'max_depth': 5, 'max_features': 'log2', 'min_samples_split': 0.2}\n",
      "******************************************\n",
      "\n",
      "***** Best Conformation's ROC-AUC using docking scores *****\n",
      "> Train best conf. ROC-AUC: 0.902 \t> median: 0.834, mean: 0.829\n",
      "> Test best conf. ROC-AUC: 0.921 \t> median: 0.842, mean: 0.838\n",
      "****************************************************************\n",
      "CPU times: user 1.44 s, sys: 433 ms, total: 1.87 s\n",
      "Wall time: 2.15 s\n"
     ]
    }
   ],
   "source": [
    "%%time\n",
    "from sklearn.tree import DecisionTreeClassifier\n",
    "\n",
    "estimator_name = 'DTree'\n",
    "estimator = DecisionTreeClassifier(splitter='best')\n",
    "hyperparams = {'criterion': ['gini', 'entropy'], \n",
    "               'max_depth': [2, 3, 5],\n",
    "               'min_samples_split': [0.2, 0.25, 0.3],\n",
    "               'max_features': [None, 'sqrt', 'log2']}\n",
    "\n",
    "# RANDOM Train test splitting\n",
    "split_and_gs(library, library, estimator_name,\n",
    "             X, y, estimator, hyperparams,\n",
    "             splitting='random', test_size=0.25, \n",
    "             scaffold_series=None)"
   ]
  },
  {
   "cell_type": "code",
   "execution_count": 23,
   "metadata": {
    "cell_style": "split"
   },
   "outputs": [
    {
     "name": "stdout",
     "output_type": "stream",
     "text": [
      "DTree => Train: DEKOIS; Test: DEKOIS; split: scaffold\n",
      "No. of molecules in train set: 885, with 30 actives.\n",
      "No. of molecules in test set: 336, with 10 actives.\n",
      "\n",
      "********** GRID SEARCH RESULTS **********\n",
      "- Mean CV ROC-AUC:\t0.820\n",
      "- Train ROC-AUC:  \t0.882\n",
      "- Test ROC-AUC:   \t0.918\n",
      "- Best hyperparameters {'criterion': 'entropy', 'max_depth': 3, 'max_features': 'log2', 'min_samples_split': 0.2}\n",
      "******************************************\n",
      "\n",
      "***** Best Conformation's ROC-AUC using docking scores *****\n",
      "> Train best conf. ROC-AUC: 0.884 \t> median: 0.816, mean: 0.812\n",
      "> Test best conf. ROC-AUC: 0.965 \t> median: 0.897, mean: 0.893\n",
      "****************************************************************\n",
      "CPU times: user 1.22 s, sys: 301 ms, total: 1.52 s\n",
      "Wall time: 1.98 s\n"
     ]
    }
   ],
   "source": [
    "%%time\n",
    "from sklearn.tree import DecisionTreeClassifier\n",
    "\n",
    "estimator_name = 'DTree'\n",
    "estimator = DecisionTreeClassifier(splitter='best')\n",
    "hyperparams = {'criterion': ['gini', 'entropy'], \n",
    "               'max_depth': [2, 3, 5],\n",
    "               'min_samples_split': [0.2, 0.25, 0.3],\n",
    "               'max_features': [None, 'sqrt', 'log2']}\n",
    "\n",
    "# SCAFFOLD Train test splitting\n",
    "split_and_gs(library, library, estimator_name,\n",
    "             X, y, estimator, hyperparams,\n",
    "             splitting='scaffold', test_size=0.25, \n",
    "             scaffold_series=scaffold_series)"
   ]
  },
  {
   "cell_type": "markdown",
   "metadata": {},
   "source": [
    "<h3 style='color: #F84122; padding: 0px;; margin: 0px'>GS: Bagging Classifier (k-NN as base estimator) </h3>\n",
    "<b>DEKOIS  - Random and Stratified Scaffold Splitting</b>"
   ]
  },
  {
   "cell_type": "code",
   "execution_count": 24,
   "metadata": {
    "cell_style": "split"
   },
   "outputs": [
    {
     "name": "stdout",
     "output_type": "stream",
     "text": [
      "CPU times: user 21.2 ms, sys: 15 ms, total: 36.2 ms\n",
      "Wall time: 545 ms\n"
     ]
    }
   ],
   "source": [
    "%%time\n",
    "from sklearn.ensemble import BaggingClassifier\n",
    "\n",
    "estimator_name = 'BagClf-kNN'\n",
    "knn = KNeighborsClassifier(n_neighbors=125, p=1, \n",
    "                           weights='distance')\n",
    "estimator = BaggingClassifier(base_estimator=knn, \n",
    "                              n_jobs=6, oob_score=True)\n",
    "\n",
    "hyperparams = {'n_estimators': [300]}\n",
    "\n",
    "# RANDOM Train test splitting\n",
    "# split_and_gs(X, y, estimator, hyperparams, \n",
    "#              splitting='random', test_size=0.25, \n",
    "#              scaffold_series=None)"
   ]
  },
  {
   "cell_type": "code",
   "execution_count": 25,
   "metadata": {
    "cell_style": "split"
   },
   "outputs": [
    {
     "name": "stdout",
     "output_type": "stream",
     "text": [
      "CPU times: user 0 ns, sys: 37 µs, total: 37 µs\n",
      "Wall time: 45.8 µs\n"
     ]
    }
   ],
   "source": [
    "%%time\n",
    "# from sklearn.ensemble import BaggingClassifier\n",
    "\n",
    "estimator_name = 'BagClf-kNN'\n",
    "knn = KNeighborsClassifier(n_neighbors=125, p=1, \n",
    "                           weights='distance')\n",
    "estimator = BaggingClassifier(base_estimator=knn, \n",
    "                              n_jobs=6, oob_score=True)\n",
    "\n",
    "hyperparams = {'n_estimators': [300]}\n",
    "\n",
    "# SCAFFOLD Train test splitting\n",
    "# split_and_gs(X, y, estimator, hyperparams, \n",
    "#              splitting='scaffold', test_size=0.25, \n",
    "#              scaffold_series=scaffold_series)"
   ]
  },
  {
   "cell_type": "markdown",
   "metadata": {},
   "source": [
    "<h3 style='color: #F84122; padding: 0px;; margin: 0px'>GS:Random Forest </h3>\n",
    "<b>DEKOIS  - Random and Stratified Scaffold Splitting</b>"
   ]
  },
  {
   "cell_type": "code",
   "execution_count": 26,
   "metadata": {
    "cell_style": "split"
   },
   "outputs": [
    {
     "name": "stdout",
     "output_type": "stream",
     "text": [
      "RandForest => Train: DEKOIS; Test: DEKOIS; split: random\n"
     ]
    },
    {
     "ename": "KeyboardInterrupt",
     "evalue": "",
     "output_type": "error",
     "traceback": [
      "\u001b[0;31m---------------------------------------------------------------------------\u001b[0m",
      "\u001b[0;31mKeyboardInterrupt\u001b[0m                         Traceback (most recent call last)",
      "\u001b[0;32m~/anaconda3/envs/mds/lib/python3.7/site-packages/joblib/parallel.py\u001b[0m in \u001b[0;36mretrieve\u001b[0;34m(self)\u001b[0m\n\u001b[1;32m    920\u001b[0m                 \u001b[0;32mif\u001b[0m \u001b[0mgetattr\u001b[0m\u001b[0;34m(\u001b[0m\u001b[0mself\u001b[0m\u001b[0;34m.\u001b[0m\u001b[0m_backend\u001b[0m\u001b[0;34m,\u001b[0m \u001b[0;34m'supports_timeout'\u001b[0m\u001b[0;34m,\u001b[0m \u001b[0;32mFalse\u001b[0m\u001b[0;34m)\u001b[0m\u001b[0;34m:\u001b[0m\u001b[0;34m\u001b[0m\u001b[0;34m\u001b[0m\u001b[0m\n\u001b[0;32m--> 921\u001b[0;31m                     \u001b[0mself\u001b[0m\u001b[0;34m.\u001b[0m\u001b[0m_output\u001b[0m\u001b[0;34m.\u001b[0m\u001b[0mextend\u001b[0m\u001b[0;34m(\u001b[0m\u001b[0mjob\u001b[0m\u001b[0;34m.\u001b[0m\u001b[0mget\u001b[0m\u001b[0;34m(\u001b[0m\u001b[0mtimeout\u001b[0m\u001b[0;34m=\u001b[0m\u001b[0mself\u001b[0m\u001b[0;34m.\u001b[0m\u001b[0mtimeout\u001b[0m\u001b[0;34m)\u001b[0m\u001b[0;34m)\u001b[0m\u001b[0;34m\u001b[0m\u001b[0;34m\u001b[0m\u001b[0m\n\u001b[0m\u001b[1;32m    922\u001b[0m                 \u001b[0;32melse\u001b[0m\u001b[0;34m:\u001b[0m\u001b[0;34m\u001b[0m\u001b[0;34m\u001b[0m\u001b[0m\n",
      "\u001b[0;32m~/anaconda3/envs/mds/lib/python3.7/site-packages/joblib/_parallel_backends.py\u001b[0m in \u001b[0;36mwrap_future_result\u001b[0;34m(future, timeout)\u001b[0m\n\u001b[1;32m    539\u001b[0m         \u001b[0;32mtry\u001b[0m\u001b[0;34m:\u001b[0m\u001b[0;34m\u001b[0m\u001b[0;34m\u001b[0m\u001b[0m\n\u001b[0;32m--> 540\u001b[0;31m             \u001b[0;32mreturn\u001b[0m \u001b[0mfuture\u001b[0m\u001b[0;34m.\u001b[0m\u001b[0mresult\u001b[0m\u001b[0;34m(\u001b[0m\u001b[0mtimeout\u001b[0m\u001b[0;34m=\u001b[0m\u001b[0mtimeout\u001b[0m\u001b[0;34m)\u001b[0m\u001b[0;34m\u001b[0m\u001b[0;34m\u001b[0m\u001b[0m\n\u001b[0m\u001b[1;32m    541\u001b[0m         \u001b[0;32mexcept\u001b[0m \u001b[0mCfTimeoutError\u001b[0m\u001b[0;34m:\u001b[0m\u001b[0;34m\u001b[0m\u001b[0;34m\u001b[0m\u001b[0m\n",
      "\u001b[0;32m~/anaconda3/envs/mds/lib/python3.7/concurrent/futures/_base.py\u001b[0m in \u001b[0;36mresult\u001b[0;34m(self, timeout)\u001b[0m\n\u001b[1;32m    429\u001b[0m \u001b[0;34m\u001b[0m\u001b[0m\n\u001b[0;32m--> 430\u001b[0;31m             \u001b[0mself\u001b[0m\u001b[0;34m.\u001b[0m\u001b[0m_condition\u001b[0m\u001b[0;34m.\u001b[0m\u001b[0mwait\u001b[0m\u001b[0;34m(\u001b[0m\u001b[0mtimeout\u001b[0m\u001b[0;34m)\u001b[0m\u001b[0;34m\u001b[0m\u001b[0;34m\u001b[0m\u001b[0m\n\u001b[0m\u001b[1;32m    431\u001b[0m \u001b[0;34m\u001b[0m\u001b[0m\n",
      "\u001b[0;32m~/anaconda3/envs/mds/lib/python3.7/threading.py\u001b[0m in \u001b[0;36mwait\u001b[0;34m(self, timeout)\u001b[0m\n\u001b[1;32m    295\u001b[0m             \u001b[0;32mif\u001b[0m \u001b[0mtimeout\u001b[0m \u001b[0;32mis\u001b[0m \u001b[0;32mNone\u001b[0m\u001b[0;34m:\u001b[0m\u001b[0;34m\u001b[0m\u001b[0;34m\u001b[0m\u001b[0m\n\u001b[0;32m--> 296\u001b[0;31m                 \u001b[0mwaiter\u001b[0m\u001b[0;34m.\u001b[0m\u001b[0macquire\u001b[0m\u001b[0;34m(\u001b[0m\u001b[0;34m)\u001b[0m\u001b[0;34m\u001b[0m\u001b[0;34m\u001b[0m\u001b[0m\n\u001b[0m\u001b[1;32m    297\u001b[0m                 \u001b[0mgotit\u001b[0m \u001b[0;34m=\u001b[0m \u001b[0;32mTrue\u001b[0m\u001b[0;34m\u001b[0m\u001b[0;34m\u001b[0m\u001b[0m\n",
      "\u001b[0;31mKeyboardInterrupt\u001b[0m: ",
      "\nDuring handling of the above exception, another exception occurred:\n",
      "\u001b[0;31mKeyboardInterrupt\u001b[0m                         Traceback (most recent call last)",
      "\u001b[0;32m<timed exec>\u001b[0m in \u001b[0;36m<module>\u001b[0;34m\u001b[0m\n",
      "\u001b[0;32m<ipython-input-11-4caa2332f3ec>\u001b[0m in \u001b[0;36mwrapper\u001b[0;34m(*args, **kwargs)\u001b[0m\n\u001b[1;32m      9\u001b[0m         \u001b[0;32mdef\u001b[0m \u001b[0mwrapper\u001b[0m\u001b[0;34m(\u001b[0m\u001b[0;34m*\u001b[0m\u001b[0margs\u001b[0m\u001b[0;34m,\u001b[0m \u001b[0;34m**\u001b[0m\u001b[0mkwargs\u001b[0m\u001b[0;34m)\u001b[0m\u001b[0;34m:\u001b[0m\u001b[0;34m\u001b[0m\u001b[0;34m\u001b[0m\u001b[0m\n\u001b[1;32m     10\u001b[0m             \u001b[0;32mif\u001b[0m \u001b[0mresults_dict\u001b[0m \u001b[0;34m!=\u001b[0m \u001b[0;32mNone\u001b[0m \u001b[0;32mand\u001b[0m \u001b[0mcapture\u001b[0m\u001b[0;34m:\u001b[0m\u001b[0;34m\u001b[0m\u001b[0;34m\u001b[0m\u001b[0m\n\u001b[0;32m---> 11\u001b[0;31m                 \u001b[0mresults\u001b[0m \u001b[0;34m=\u001b[0m \u001b[0mfunc\u001b[0m\u001b[0;34m(\u001b[0m\u001b[0;34m*\u001b[0m\u001b[0margs\u001b[0m\u001b[0;34m,\u001b[0m \u001b[0;34m**\u001b[0m\u001b[0mkwargs\u001b[0m\u001b[0;34m)\u001b[0m\u001b[0;34m\u001b[0m\u001b[0;34m\u001b[0m\u001b[0m\n\u001b[0m\u001b[1;32m     12\u001b[0m                 \u001b[0;31m# Create a key with the first four values\u001b[0m\u001b[0;34m\u001b[0m\u001b[0;34m\u001b[0m\u001b[0;34m\u001b[0m\u001b[0m\n\u001b[1;32m     13\u001b[0m                 \u001b[0mkey\u001b[0m \u001b[0;34m=\u001b[0m \u001b[0;34m'_'\u001b[0m\u001b[0;34m.\u001b[0m\u001b[0mjoin\u001b[0m\u001b[0;34m(\u001b[0m\u001b[0mresults\u001b[0m\u001b[0;34m[\u001b[0m\u001b[0;34m:\u001b[0m\u001b[0;36m4\u001b[0m\u001b[0;34m]\u001b[0m\u001b[0;34m)\u001b[0m\u001b[0;34m\u001b[0m\u001b[0;34m\u001b[0m\u001b[0m\n",
      "\u001b[0;32m<ipython-input-11-4caa2332f3ec>\u001b[0m in \u001b[0;36msplit_and_gs\u001b[0;34m(train_name, test_name, estimator_name, X, y, estimator, hyperparams, splitting, test_size, scaffold_series, **kwargs)\u001b[0m\n\u001b[1;32m     51\u001b[0m     gs_results = run_grid_search(estimator, \n\u001b[1;32m     52\u001b[0m                     \u001b[0mX_train\u001b[0m\u001b[0;34m,\u001b[0m \u001b[0my_train\u001b[0m\u001b[0;34m,\u001b[0m \u001b[0mX_test\u001b[0m\u001b[0;34m,\u001b[0m \u001b[0my_test\u001b[0m\u001b[0;34m,\u001b[0m\u001b[0;34m\u001b[0m\u001b[0;34m\u001b[0m\u001b[0m\n\u001b[0;32m---> 53\u001b[0;31m                     hyperparams = hyperparams,  **kwargs)\n\u001b[0m\u001b[1;32m     54\u001b[0m \u001b[0;34m\u001b[0m\u001b[0m\n\u001b[1;32m     55\u001b[0m     \u001b[0;31m# Function to extract ROC results from DkSc values\u001b[0m\u001b[0;34m\u001b[0m\u001b[0;34m\u001b[0m\u001b[0;34m\u001b[0m\u001b[0m\n",
      "\u001b[0;32m<ipython-input-9-7c56fd03ec8f>\u001b[0m in \u001b[0;36mrun_grid_search\u001b[0;34m(estimator, X_train, y_train, X_test, y_test, hyperparams, cv_value, scoring, splitting, std_scale, randomGS, n_iter)\u001b[0m\n\u001b[1;32m     21\u001b[0m                      cv = cv_value, scoring = scoring, n_jobs = 6, refit = True)\n\u001b[1;32m     22\u001b[0m     \u001b[0;31m# Train the model\u001b[0m\u001b[0;34m\u001b[0m\u001b[0;34m\u001b[0m\u001b[0;34m\u001b[0m\u001b[0m\n\u001b[0;32m---> 23\u001b[0;31m     \u001b[0mgs\u001b[0m\u001b[0;34m.\u001b[0m\u001b[0mfit\u001b[0m\u001b[0;34m(\u001b[0m\u001b[0mX_train\u001b[0m\u001b[0;34m,\u001b[0m \u001b[0my_train\u001b[0m\u001b[0;34m)\u001b[0m\u001b[0;34m\u001b[0m\u001b[0;34m\u001b[0m\u001b[0m\n\u001b[0m\u001b[1;32m     24\u001b[0m \u001b[0;34m\u001b[0m\u001b[0m\n\u001b[1;32m     25\u001b[0m     \u001b[0;31m# Predictions\u001b[0m\u001b[0;34m\u001b[0m\u001b[0;34m\u001b[0m\u001b[0;34m\u001b[0m\u001b[0m\n",
      "\u001b[0;32m~/anaconda3/envs/mds/lib/python3.7/site-packages/sklearn/model_selection/_search.py\u001b[0m in \u001b[0;36mfit\u001b[0;34m(self, X, y, groups, **fit_params)\u001b[0m\n\u001b[1;32m    708\u001b[0m                 \u001b[0;32mreturn\u001b[0m \u001b[0mresults\u001b[0m\u001b[0;34m\u001b[0m\u001b[0;34m\u001b[0m\u001b[0m\n\u001b[1;32m    709\u001b[0m \u001b[0;34m\u001b[0m\u001b[0m\n\u001b[0;32m--> 710\u001b[0;31m             \u001b[0mself\u001b[0m\u001b[0;34m.\u001b[0m\u001b[0m_run_search\u001b[0m\u001b[0;34m(\u001b[0m\u001b[0mevaluate_candidates\u001b[0m\u001b[0;34m)\u001b[0m\u001b[0;34m\u001b[0m\u001b[0;34m\u001b[0m\u001b[0m\n\u001b[0m\u001b[1;32m    711\u001b[0m \u001b[0;34m\u001b[0m\u001b[0m\n\u001b[1;32m    712\u001b[0m         \u001b[0;31m# For multi-metric evaluation, store the best_index_, best_params_ and\u001b[0m\u001b[0;34m\u001b[0m\u001b[0;34m\u001b[0m\u001b[0;34m\u001b[0m\u001b[0m\n",
      "\u001b[0;32m~/anaconda3/envs/mds/lib/python3.7/site-packages/sklearn/model_selection/_search.py\u001b[0m in \u001b[0;36m_run_search\u001b[0;34m(self, evaluate_candidates)\u001b[0m\n\u001b[1;32m   1149\u001b[0m     \u001b[0;32mdef\u001b[0m \u001b[0m_run_search\u001b[0m\u001b[0;34m(\u001b[0m\u001b[0mself\u001b[0m\u001b[0;34m,\u001b[0m \u001b[0mevaluate_candidates\u001b[0m\u001b[0;34m)\u001b[0m\u001b[0;34m:\u001b[0m\u001b[0;34m\u001b[0m\u001b[0;34m\u001b[0m\u001b[0m\n\u001b[1;32m   1150\u001b[0m         \u001b[0;34m\"\"\"Search all candidates in param_grid\"\"\"\u001b[0m\u001b[0;34m\u001b[0m\u001b[0;34m\u001b[0m\u001b[0m\n\u001b[0;32m-> 1151\u001b[0;31m         \u001b[0mevaluate_candidates\u001b[0m\u001b[0;34m(\u001b[0m\u001b[0mParameterGrid\u001b[0m\u001b[0;34m(\u001b[0m\u001b[0mself\u001b[0m\u001b[0;34m.\u001b[0m\u001b[0mparam_grid\u001b[0m\u001b[0;34m)\u001b[0m\u001b[0;34m)\u001b[0m\u001b[0;34m\u001b[0m\u001b[0;34m\u001b[0m\u001b[0m\n\u001b[0m\u001b[1;32m   1152\u001b[0m \u001b[0;34m\u001b[0m\u001b[0m\n\u001b[1;32m   1153\u001b[0m \u001b[0;34m\u001b[0m\u001b[0m\n",
      "\u001b[0;32m~/anaconda3/envs/mds/lib/python3.7/site-packages/sklearn/model_selection/_search.py\u001b[0m in \u001b[0;36mevaluate_candidates\u001b[0;34m(candidate_params)\u001b[0m\n\u001b[1;32m    687\u001b[0m                                \u001b[0;32mfor\u001b[0m \u001b[0mparameters\u001b[0m\u001b[0;34m,\u001b[0m \u001b[0;34m(\u001b[0m\u001b[0mtrain\u001b[0m\u001b[0;34m,\u001b[0m \u001b[0mtest\u001b[0m\u001b[0;34m)\u001b[0m\u001b[0;34m\u001b[0m\u001b[0;34m\u001b[0m\u001b[0m\n\u001b[1;32m    688\u001b[0m                                in product(candidate_params,\n\u001b[0;32m--> 689\u001b[0;31m                                           cv.split(X, y, groups)))\n\u001b[0m\u001b[1;32m    690\u001b[0m \u001b[0;34m\u001b[0m\u001b[0m\n\u001b[1;32m    691\u001b[0m                 \u001b[0;32mif\u001b[0m \u001b[0mlen\u001b[0m\u001b[0;34m(\u001b[0m\u001b[0mout\u001b[0m\u001b[0;34m)\u001b[0m \u001b[0;34m<\u001b[0m \u001b[0;36m1\u001b[0m\u001b[0;34m:\u001b[0m\u001b[0;34m\u001b[0m\u001b[0;34m\u001b[0m\u001b[0m\n",
      "\u001b[0;32m~/anaconda3/envs/mds/lib/python3.7/site-packages/joblib/parallel.py\u001b[0m in \u001b[0;36m__call__\u001b[0;34m(self, iterable)\u001b[0m\n\u001b[1;32m   1040\u001b[0m \u001b[0;34m\u001b[0m\u001b[0m\n\u001b[1;32m   1041\u001b[0m             \u001b[0;32mwith\u001b[0m \u001b[0mself\u001b[0m\u001b[0;34m.\u001b[0m\u001b[0m_backend\u001b[0m\u001b[0;34m.\u001b[0m\u001b[0mretrieval_context\u001b[0m\u001b[0;34m(\u001b[0m\u001b[0;34m)\u001b[0m\u001b[0;34m:\u001b[0m\u001b[0;34m\u001b[0m\u001b[0;34m\u001b[0m\u001b[0m\n\u001b[0;32m-> 1042\u001b[0;31m                 \u001b[0mself\u001b[0m\u001b[0;34m.\u001b[0m\u001b[0mretrieve\u001b[0m\u001b[0;34m(\u001b[0m\u001b[0;34m)\u001b[0m\u001b[0;34m\u001b[0m\u001b[0;34m\u001b[0m\u001b[0m\n\u001b[0m\u001b[1;32m   1043\u001b[0m             \u001b[0;31m# Make sure that we get a last message telling us we are done\u001b[0m\u001b[0;34m\u001b[0m\u001b[0;34m\u001b[0m\u001b[0;34m\u001b[0m\u001b[0m\n\u001b[1;32m   1044\u001b[0m             \u001b[0melapsed_time\u001b[0m \u001b[0;34m=\u001b[0m \u001b[0mtime\u001b[0m\u001b[0;34m.\u001b[0m\u001b[0mtime\u001b[0m\u001b[0;34m(\u001b[0m\u001b[0;34m)\u001b[0m \u001b[0;34m-\u001b[0m \u001b[0mself\u001b[0m\u001b[0;34m.\u001b[0m\u001b[0m_start_time\u001b[0m\u001b[0;34m\u001b[0m\u001b[0;34m\u001b[0m\u001b[0m\n",
      "\u001b[0;32m~/anaconda3/envs/mds/lib/python3.7/site-packages/joblib/parallel.py\u001b[0m in \u001b[0;36mretrieve\u001b[0;34m(self)\u001b[0m\n\u001b[1;32m    941\u001b[0m                     \u001b[0;31m# scheduling.\u001b[0m\u001b[0;34m\u001b[0m\u001b[0;34m\u001b[0m\u001b[0;34m\u001b[0m\u001b[0m\n\u001b[1;32m    942\u001b[0m                     \u001b[0mensure_ready\u001b[0m \u001b[0;34m=\u001b[0m \u001b[0mself\u001b[0m\u001b[0;34m.\u001b[0m\u001b[0m_managed_backend\u001b[0m\u001b[0;34m\u001b[0m\u001b[0;34m\u001b[0m\u001b[0m\n\u001b[0;32m--> 943\u001b[0;31m                     \u001b[0mbackend\u001b[0m\u001b[0;34m.\u001b[0m\u001b[0mabort_everything\u001b[0m\u001b[0;34m(\u001b[0m\u001b[0mensure_ready\u001b[0m\u001b[0;34m=\u001b[0m\u001b[0mensure_ready\u001b[0m\u001b[0;34m)\u001b[0m\u001b[0;34m\u001b[0m\u001b[0;34m\u001b[0m\u001b[0m\n\u001b[0m\u001b[1;32m    944\u001b[0m                 \u001b[0;32mraise\u001b[0m\u001b[0;34m\u001b[0m\u001b[0;34m\u001b[0m\u001b[0m\n\u001b[1;32m    945\u001b[0m \u001b[0;34m\u001b[0m\u001b[0m\n",
      "\u001b[0;32m~/anaconda3/envs/mds/lib/python3.7/site-packages/joblib/_parallel_backends.py\u001b[0m in \u001b[0;36mabort_everything\u001b[0;34m(self, ensure_ready)\u001b[0m\n\u001b[1;32m    557\u001b[0m         \"\"\"Shutdown the workers and restart a new one with the same parameters\n\u001b[1;32m    558\u001b[0m         \"\"\"\n\u001b[0;32m--> 559\u001b[0;31m         \u001b[0mself\u001b[0m\u001b[0;34m.\u001b[0m\u001b[0m_workers\u001b[0m\u001b[0;34m.\u001b[0m\u001b[0mterminate\u001b[0m\u001b[0;34m(\u001b[0m\u001b[0mkill_workers\u001b[0m\u001b[0;34m=\u001b[0m\u001b[0;32mTrue\u001b[0m\u001b[0;34m)\u001b[0m\u001b[0;34m\u001b[0m\u001b[0;34m\u001b[0m\u001b[0m\n\u001b[0m\u001b[1;32m    560\u001b[0m         \u001b[0mself\u001b[0m\u001b[0;34m.\u001b[0m\u001b[0m_workers\u001b[0m \u001b[0;34m=\u001b[0m \u001b[0;32mNone\u001b[0m\u001b[0;34m\u001b[0m\u001b[0;34m\u001b[0m\u001b[0m\n\u001b[1;32m    561\u001b[0m \u001b[0;34m\u001b[0m\u001b[0m\n",
      "\u001b[0;32m~/anaconda3/envs/mds/lib/python3.7/site-packages/joblib/executor.py\u001b[0m in \u001b[0;36mterminate\u001b[0;34m(self, kill_workers)\u001b[0m\n\u001b[1;32m     72\u001b[0m \u001b[0;34m\u001b[0m\u001b[0m\n\u001b[1;32m     73\u001b[0m     \u001b[0;32mdef\u001b[0m \u001b[0mterminate\u001b[0m\u001b[0;34m(\u001b[0m\u001b[0mself\u001b[0m\u001b[0;34m,\u001b[0m \u001b[0mkill_workers\u001b[0m\u001b[0;34m=\u001b[0m\u001b[0;32mFalse\u001b[0m\u001b[0;34m)\u001b[0m\u001b[0;34m:\u001b[0m\u001b[0;34m\u001b[0m\u001b[0;34m\u001b[0m\u001b[0m\n\u001b[0;32m---> 74\u001b[0;31m         \u001b[0mself\u001b[0m\u001b[0;34m.\u001b[0m\u001b[0mshutdown\u001b[0m\u001b[0;34m(\u001b[0m\u001b[0mkill_workers\u001b[0m\u001b[0;34m=\u001b[0m\u001b[0mkill_workers\u001b[0m\u001b[0;34m)\u001b[0m\u001b[0;34m\u001b[0m\u001b[0;34m\u001b[0m\u001b[0m\n\u001b[0m\u001b[1;32m     75\u001b[0m         \u001b[0;32mif\u001b[0m \u001b[0mkill_workers\u001b[0m\u001b[0;34m:\u001b[0m\u001b[0;34m\u001b[0m\u001b[0;34m\u001b[0m\u001b[0m\n\u001b[1;32m     76\u001b[0m             \u001b[0;31m# When workers are killed in such a brutal manner, they cannot\u001b[0m\u001b[0;34m\u001b[0m\u001b[0;34m\u001b[0m\u001b[0;34m\u001b[0m\u001b[0m\n",
      "\u001b[0;32m~/anaconda3/envs/mds/lib/python3.7/site-packages/joblib/externals/loky/process_executor.py\u001b[0m in \u001b[0;36mshutdown\u001b[0;34m(self, wait, kill_workers)\u001b[0m\n\u001b[1;32m   1169\u001b[0m \u001b[0;34m\u001b[0m\u001b[0m\n\u001b[1;32m   1170\u001b[0m         \u001b[0;32mif\u001b[0m \u001b[0mexecutor_manager_thread\u001b[0m \u001b[0;32mis\u001b[0m \u001b[0;32mnot\u001b[0m \u001b[0;32mNone\u001b[0m \u001b[0;32mand\u001b[0m \u001b[0mwait\u001b[0m\u001b[0;34m:\u001b[0m\u001b[0;34m\u001b[0m\u001b[0;34m\u001b[0m\u001b[0m\n\u001b[0;32m-> 1171\u001b[0;31m             \u001b[0mexecutor_manager_thread\u001b[0m\u001b[0;34m.\u001b[0m\u001b[0mjoin\u001b[0m\u001b[0;34m(\u001b[0m\u001b[0;34m)\u001b[0m\u001b[0;34m\u001b[0m\u001b[0;34m\u001b[0m\u001b[0m\n\u001b[0m\u001b[1;32m   1172\u001b[0m \u001b[0;34m\u001b[0m\u001b[0m\n\u001b[1;32m   1173\u001b[0m         \u001b[0;31m# To reduce the risk of opening too many files, remove references to\u001b[0m\u001b[0;34m\u001b[0m\u001b[0;34m\u001b[0m\u001b[0;34m\u001b[0m\u001b[0m\n",
      "\u001b[0;32m~/anaconda3/envs/mds/lib/python3.7/threading.py\u001b[0m in \u001b[0;36mjoin\u001b[0;34m(self, timeout)\u001b[0m\n\u001b[1;32m   1042\u001b[0m \u001b[0;34m\u001b[0m\u001b[0m\n\u001b[1;32m   1043\u001b[0m         \u001b[0;32mif\u001b[0m \u001b[0mtimeout\u001b[0m \u001b[0;32mis\u001b[0m \u001b[0;32mNone\u001b[0m\u001b[0;34m:\u001b[0m\u001b[0;34m\u001b[0m\u001b[0;34m\u001b[0m\u001b[0m\n\u001b[0;32m-> 1044\u001b[0;31m             \u001b[0mself\u001b[0m\u001b[0;34m.\u001b[0m\u001b[0m_wait_for_tstate_lock\u001b[0m\u001b[0;34m(\u001b[0m\u001b[0;34m)\u001b[0m\u001b[0;34m\u001b[0m\u001b[0;34m\u001b[0m\u001b[0m\n\u001b[0m\u001b[1;32m   1045\u001b[0m         \u001b[0;32melse\u001b[0m\u001b[0;34m:\u001b[0m\u001b[0;34m\u001b[0m\u001b[0;34m\u001b[0m\u001b[0m\n\u001b[1;32m   1046\u001b[0m             \u001b[0;31m# the behavior of a negative timeout isn't documented, but\u001b[0m\u001b[0;34m\u001b[0m\u001b[0;34m\u001b[0m\u001b[0;34m\u001b[0m\u001b[0m\n",
      "\u001b[0;32m~/anaconda3/envs/mds/lib/python3.7/threading.py\u001b[0m in \u001b[0;36m_wait_for_tstate_lock\u001b[0;34m(self, block, timeout)\u001b[0m\n\u001b[1;32m   1058\u001b[0m         \u001b[0;32mif\u001b[0m \u001b[0mlock\u001b[0m \u001b[0;32mis\u001b[0m \u001b[0;32mNone\u001b[0m\u001b[0;34m:\u001b[0m  \u001b[0;31m# already determined that the C code is done\u001b[0m\u001b[0;34m\u001b[0m\u001b[0;34m\u001b[0m\u001b[0m\n\u001b[1;32m   1059\u001b[0m             \u001b[0;32massert\u001b[0m \u001b[0mself\u001b[0m\u001b[0;34m.\u001b[0m\u001b[0m_is_stopped\u001b[0m\u001b[0;34m\u001b[0m\u001b[0;34m\u001b[0m\u001b[0m\n\u001b[0;32m-> 1060\u001b[0;31m         \u001b[0;32melif\u001b[0m \u001b[0mlock\u001b[0m\u001b[0;34m.\u001b[0m\u001b[0macquire\u001b[0m\u001b[0;34m(\u001b[0m\u001b[0mblock\u001b[0m\u001b[0;34m,\u001b[0m \u001b[0mtimeout\u001b[0m\u001b[0;34m)\u001b[0m\u001b[0;34m:\u001b[0m\u001b[0;34m\u001b[0m\u001b[0;34m\u001b[0m\u001b[0m\n\u001b[0m\u001b[1;32m   1061\u001b[0m             \u001b[0mlock\u001b[0m\u001b[0;34m.\u001b[0m\u001b[0mrelease\u001b[0m\u001b[0;34m(\u001b[0m\u001b[0;34m)\u001b[0m\u001b[0;34m\u001b[0m\u001b[0;34m\u001b[0m\u001b[0m\n\u001b[1;32m   1062\u001b[0m             \u001b[0mself\u001b[0m\u001b[0;34m.\u001b[0m\u001b[0m_stop\u001b[0m\u001b[0;34m(\u001b[0m\u001b[0;34m)\u001b[0m\u001b[0;34m\u001b[0m\u001b[0;34m\u001b[0m\u001b[0m\n",
      "\u001b[0;31mKeyboardInterrupt\u001b[0m: "
     ]
    }
   ],
   "source": [
    "%%time\n",
    "from sklearn.ensemble import RandomForestClassifier\n",
    "\n",
    "estimator_name = 'RandForest'\n",
    "estimator = RandomForestClassifier()\n",
    "hyperparams = {'n_estimators': [300, 500],\n",
    "             'max_depth': [2,  5],\n",
    "             'min_samples_leaf': [0.1, 0.2],\n",
    "             'max_features': ['log2', 'sqrt']\n",
    "            }\n",
    "\n",
    "# RANDOM Train test splitting\n",
    "split_and_gs(library, library, estimator_name,\n",
    "             X, y, estimator, hyperparams,\n",
    "             splitting='random', test_size=0.25, \n",
    "             scaffold_series=None)"
   ]
  },
  {
   "cell_type": "code",
   "execution_count": 27,
   "metadata": {
    "cell_style": "split",
    "scrolled": true
   },
   "outputs": [
    {
     "name": "stdout",
     "output_type": "stream",
     "text": [
      "RandForest => Train: DEKOIS; Test: DEKOIS; split: scaffold\n"
     ]
    },
    {
     "ename": "KeyboardInterrupt",
     "evalue": "",
     "output_type": "error",
     "traceback": [
      "\u001b[0;31m---------------------------------------------------------------------------\u001b[0m",
      "\u001b[0;31mKeyboardInterrupt\u001b[0m                         Traceback (most recent call last)",
      "\u001b[0;32m~/anaconda3/envs/mds/lib/python3.7/site-packages/joblib/parallel.py\u001b[0m in \u001b[0;36mretrieve\u001b[0;34m(self)\u001b[0m\n\u001b[1;32m    920\u001b[0m                 \u001b[0;32mif\u001b[0m \u001b[0mgetattr\u001b[0m\u001b[0;34m(\u001b[0m\u001b[0mself\u001b[0m\u001b[0;34m.\u001b[0m\u001b[0m_backend\u001b[0m\u001b[0;34m,\u001b[0m \u001b[0;34m'supports_timeout'\u001b[0m\u001b[0;34m,\u001b[0m \u001b[0;32mFalse\u001b[0m\u001b[0;34m)\u001b[0m\u001b[0;34m:\u001b[0m\u001b[0;34m\u001b[0m\u001b[0;34m\u001b[0m\u001b[0m\n\u001b[0;32m--> 921\u001b[0;31m                     \u001b[0mself\u001b[0m\u001b[0;34m.\u001b[0m\u001b[0m_output\u001b[0m\u001b[0;34m.\u001b[0m\u001b[0mextend\u001b[0m\u001b[0;34m(\u001b[0m\u001b[0mjob\u001b[0m\u001b[0;34m.\u001b[0m\u001b[0mget\u001b[0m\u001b[0;34m(\u001b[0m\u001b[0mtimeout\u001b[0m\u001b[0;34m=\u001b[0m\u001b[0mself\u001b[0m\u001b[0;34m.\u001b[0m\u001b[0mtimeout\u001b[0m\u001b[0;34m)\u001b[0m\u001b[0;34m)\u001b[0m\u001b[0;34m\u001b[0m\u001b[0;34m\u001b[0m\u001b[0m\n\u001b[0m\u001b[1;32m    922\u001b[0m                 \u001b[0;32melse\u001b[0m\u001b[0;34m:\u001b[0m\u001b[0;34m\u001b[0m\u001b[0;34m\u001b[0m\u001b[0m\n",
      "\u001b[0;32m~/anaconda3/envs/mds/lib/python3.7/site-packages/joblib/_parallel_backends.py\u001b[0m in \u001b[0;36mwrap_future_result\u001b[0;34m(future, timeout)\u001b[0m\n\u001b[1;32m    539\u001b[0m         \u001b[0;32mtry\u001b[0m\u001b[0;34m:\u001b[0m\u001b[0;34m\u001b[0m\u001b[0;34m\u001b[0m\u001b[0m\n\u001b[0;32m--> 540\u001b[0;31m             \u001b[0;32mreturn\u001b[0m \u001b[0mfuture\u001b[0m\u001b[0;34m.\u001b[0m\u001b[0mresult\u001b[0m\u001b[0;34m(\u001b[0m\u001b[0mtimeout\u001b[0m\u001b[0;34m=\u001b[0m\u001b[0mtimeout\u001b[0m\u001b[0;34m)\u001b[0m\u001b[0;34m\u001b[0m\u001b[0;34m\u001b[0m\u001b[0m\n\u001b[0m\u001b[1;32m    541\u001b[0m         \u001b[0;32mexcept\u001b[0m \u001b[0mCfTimeoutError\u001b[0m\u001b[0;34m:\u001b[0m\u001b[0;34m\u001b[0m\u001b[0;34m\u001b[0m\u001b[0m\n",
      "\u001b[0;32m~/anaconda3/envs/mds/lib/python3.7/concurrent/futures/_base.py\u001b[0m in \u001b[0;36mresult\u001b[0;34m(self, timeout)\u001b[0m\n\u001b[1;32m    429\u001b[0m \u001b[0;34m\u001b[0m\u001b[0m\n\u001b[0;32m--> 430\u001b[0;31m             \u001b[0mself\u001b[0m\u001b[0;34m.\u001b[0m\u001b[0m_condition\u001b[0m\u001b[0;34m.\u001b[0m\u001b[0mwait\u001b[0m\u001b[0;34m(\u001b[0m\u001b[0mtimeout\u001b[0m\u001b[0;34m)\u001b[0m\u001b[0;34m\u001b[0m\u001b[0;34m\u001b[0m\u001b[0m\n\u001b[0m\u001b[1;32m    431\u001b[0m \u001b[0;34m\u001b[0m\u001b[0m\n",
      "\u001b[0;32m~/anaconda3/envs/mds/lib/python3.7/threading.py\u001b[0m in \u001b[0;36mwait\u001b[0;34m(self, timeout)\u001b[0m\n\u001b[1;32m    295\u001b[0m             \u001b[0;32mif\u001b[0m \u001b[0mtimeout\u001b[0m \u001b[0;32mis\u001b[0m \u001b[0;32mNone\u001b[0m\u001b[0;34m:\u001b[0m\u001b[0;34m\u001b[0m\u001b[0;34m\u001b[0m\u001b[0m\n\u001b[0;32m--> 296\u001b[0;31m                 \u001b[0mwaiter\u001b[0m\u001b[0;34m.\u001b[0m\u001b[0macquire\u001b[0m\u001b[0;34m(\u001b[0m\u001b[0;34m)\u001b[0m\u001b[0;34m\u001b[0m\u001b[0;34m\u001b[0m\u001b[0m\n\u001b[0m\u001b[1;32m    297\u001b[0m                 \u001b[0mgotit\u001b[0m \u001b[0;34m=\u001b[0m \u001b[0;32mTrue\u001b[0m\u001b[0;34m\u001b[0m\u001b[0;34m\u001b[0m\u001b[0m\n",
      "\u001b[0;31mKeyboardInterrupt\u001b[0m: ",
      "\nDuring handling of the above exception, another exception occurred:\n",
      "\u001b[0;31mKeyboardInterrupt\u001b[0m                         Traceback (most recent call last)",
      "\u001b[0;32m<timed exec>\u001b[0m in \u001b[0;36m<module>\u001b[0;34m\u001b[0m\n",
      "\u001b[0;32m<ipython-input-11-4caa2332f3ec>\u001b[0m in \u001b[0;36mwrapper\u001b[0;34m(*args, **kwargs)\u001b[0m\n\u001b[1;32m      9\u001b[0m         \u001b[0;32mdef\u001b[0m \u001b[0mwrapper\u001b[0m\u001b[0;34m(\u001b[0m\u001b[0;34m*\u001b[0m\u001b[0margs\u001b[0m\u001b[0;34m,\u001b[0m \u001b[0;34m**\u001b[0m\u001b[0mkwargs\u001b[0m\u001b[0;34m)\u001b[0m\u001b[0;34m:\u001b[0m\u001b[0;34m\u001b[0m\u001b[0;34m\u001b[0m\u001b[0m\n\u001b[1;32m     10\u001b[0m             \u001b[0;32mif\u001b[0m \u001b[0mresults_dict\u001b[0m \u001b[0;34m!=\u001b[0m \u001b[0;32mNone\u001b[0m \u001b[0;32mand\u001b[0m \u001b[0mcapture\u001b[0m\u001b[0;34m:\u001b[0m\u001b[0;34m\u001b[0m\u001b[0;34m\u001b[0m\u001b[0m\n\u001b[0;32m---> 11\u001b[0;31m                 \u001b[0mresults\u001b[0m \u001b[0;34m=\u001b[0m \u001b[0mfunc\u001b[0m\u001b[0;34m(\u001b[0m\u001b[0;34m*\u001b[0m\u001b[0margs\u001b[0m\u001b[0;34m,\u001b[0m \u001b[0;34m**\u001b[0m\u001b[0mkwargs\u001b[0m\u001b[0;34m)\u001b[0m\u001b[0;34m\u001b[0m\u001b[0;34m\u001b[0m\u001b[0m\n\u001b[0m\u001b[1;32m     12\u001b[0m                 \u001b[0;31m# Create a key with the first four values\u001b[0m\u001b[0;34m\u001b[0m\u001b[0;34m\u001b[0m\u001b[0;34m\u001b[0m\u001b[0m\n\u001b[1;32m     13\u001b[0m                 \u001b[0mkey\u001b[0m \u001b[0;34m=\u001b[0m \u001b[0;34m'_'\u001b[0m\u001b[0;34m.\u001b[0m\u001b[0mjoin\u001b[0m\u001b[0;34m(\u001b[0m\u001b[0mresults\u001b[0m\u001b[0;34m[\u001b[0m\u001b[0;34m:\u001b[0m\u001b[0;36m4\u001b[0m\u001b[0;34m]\u001b[0m\u001b[0;34m)\u001b[0m\u001b[0;34m\u001b[0m\u001b[0;34m\u001b[0m\u001b[0m\n",
      "\u001b[0;32m<ipython-input-11-4caa2332f3ec>\u001b[0m in \u001b[0;36msplit_and_gs\u001b[0;34m(train_name, test_name, estimator_name, X, y, estimator, hyperparams, splitting, test_size, scaffold_series, **kwargs)\u001b[0m\n\u001b[1;32m     51\u001b[0m     gs_results = run_grid_search(estimator, \n\u001b[1;32m     52\u001b[0m                     \u001b[0mX_train\u001b[0m\u001b[0;34m,\u001b[0m \u001b[0my_train\u001b[0m\u001b[0;34m,\u001b[0m \u001b[0mX_test\u001b[0m\u001b[0;34m,\u001b[0m \u001b[0my_test\u001b[0m\u001b[0;34m,\u001b[0m\u001b[0;34m\u001b[0m\u001b[0;34m\u001b[0m\u001b[0m\n\u001b[0;32m---> 53\u001b[0;31m                     hyperparams = hyperparams,  **kwargs)\n\u001b[0m\u001b[1;32m     54\u001b[0m \u001b[0;34m\u001b[0m\u001b[0m\n\u001b[1;32m     55\u001b[0m     \u001b[0;31m# Function to extract ROC results from DkSc values\u001b[0m\u001b[0;34m\u001b[0m\u001b[0;34m\u001b[0m\u001b[0;34m\u001b[0m\u001b[0m\n",
      "\u001b[0;32m<ipython-input-9-7c56fd03ec8f>\u001b[0m in \u001b[0;36mrun_grid_search\u001b[0;34m(estimator, X_train, y_train, X_test, y_test, hyperparams, cv_value, scoring, splitting, std_scale, randomGS, n_iter)\u001b[0m\n\u001b[1;32m     21\u001b[0m                      cv = cv_value, scoring = scoring, n_jobs = 6, refit = True)\n\u001b[1;32m     22\u001b[0m     \u001b[0;31m# Train the model\u001b[0m\u001b[0;34m\u001b[0m\u001b[0;34m\u001b[0m\u001b[0;34m\u001b[0m\u001b[0m\n\u001b[0;32m---> 23\u001b[0;31m     \u001b[0mgs\u001b[0m\u001b[0;34m.\u001b[0m\u001b[0mfit\u001b[0m\u001b[0;34m(\u001b[0m\u001b[0mX_train\u001b[0m\u001b[0;34m,\u001b[0m \u001b[0my_train\u001b[0m\u001b[0;34m)\u001b[0m\u001b[0;34m\u001b[0m\u001b[0;34m\u001b[0m\u001b[0m\n\u001b[0m\u001b[1;32m     24\u001b[0m \u001b[0;34m\u001b[0m\u001b[0m\n\u001b[1;32m     25\u001b[0m     \u001b[0;31m# Predictions\u001b[0m\u001b[0;34m\u001b[0m\u001b[0;34m\u001b[0m\u001b[0;34m\u001b[0m\u001b[0m\n",
      "\u001b[0;32m~/anaconda3/envs/mds/lib/python3.7/site-packages/sklearn/model_selection/_search.py\u001b[0m in \u001b[0;36mfit\u001b[0;34m(self, X, y, groups, **fit_params)\u001b[0m\n\u001b[1;32m    708\u001b[0m                 \u001b[0;32mreturn\u001b[0m \u001b[0mresults\u001b[0m\u001b[0;34m\u001b[0m\u001b[0;34m\u001b[0m\u001b[0m\n\u001b[1;32m    709\u001b[0m \u001b[0;34m\u001b[0m\u001b[0m\n\u001b[0;32m--> 710\u001b[0;31m             \u001b[0mself\u001b[0m\u001b[0;34m.\u001b[0m\u001b[0m_run_search\u001b[0m\u001b[0;34m(\u001b[0m\u001b[0mevaluate_candidates\u001b[0m\u001b[0;34m)\u001b[0m\u001b[0;34m\u001b[0m\u001b[0;34m\u001b[0m\u001b[0m\n\u001b[0m\u001b[1;32m    711\u001b[0m \u001b[0;34m\u001b[0m\u001b[0m\n\u001b[1;32m    712\u001b[0m         \u001b[0;31m# For multi-metric evaluation, store the best_index_, best_params_ and\u001b[0m\u001b[0;34m\u001b[0m\u001b[0;34m\u001b[0m\u001b[0;34m\u001b[0m\u001b[0m\n",
      "\u001b[0;32m~/anaconda3/envs/mds/lib/python3.7/site-packages/sklearn/model_selection/_search.py\u001b[0m in \u001b[0;36m_run_search\u001b[0;34m(self, evaluate_candidates)\u001b[0m\n\u001b[1;32m   1149\u001b[0m     \u001b[0;32mdef\u001b[0m \u001b[0m_run_search\u001b[0m\u001b[0;34m(\u001b[0m\u001b[0mself\u001b[0m\u001b[0;34m,\u001b[0m \u001b[0mevaluate_candidates\u001b[0m\u001b[0;34m)\u001b[0m\u001b[0;34m:\u001b[0m\u001b[0;34m\u001b[0m\u001b[0;34m\u001b[0m\u001b[0m\n\u001b[1;32m   1150\u001b[0m         \u001b[0;34m\"\"\"Search all candidates in param_grid\"\"\"\u001b[0m\u001b[0;34m\u001b[0m\u001b[0;34m\u001b[0m\u001b[0m\n\u001b[0;32m-> 1151\u001b[0;31m         \u001b[0mevaluate_candidates\u001b[0m\u001b[0;34m(\u001b[0m\u001b[0mParameterGrid\u001b[0m\u001b[0;34m(\u001b[0m\u001b[0mself\u001b[0m\u001b[0;34m.\u001b[0m\u001b[0mparam_grid\u001b[0m\u001b[0;34m)\u001b[0m\u001b[0;34m)\u001b[0m\u001b[0;34m\u001b[0m\u001b[0;34m\u001b[0m\u001b[0m\n\u001b[0m\u001b[1;32m   1152\u001b[0m \u001b[0;34m\u001b[0m\u001b[0m\n\u001b[1;32m   1153\u001b[0m \u001b[0;34m\u001b[0m\u001b[0m\n",
      "\u001b[0;32m~/anaconda3/envs/mds/lib/python3.7/site-packages/sklearn/model_selection/_search.py\u001b[0m in \u001b[0;36mevaluate_candidates\u001b[0;34m(candidate_params)\u001b[0m\n\u001b[1;32m    687\u001b[0m                                \u001b[0;32mfor\u001b[0m \u001b[0mparameters\u001b[0m\u001b[0;34m,\u001b[0m \u001b[0;34m(\u001b[0m\u001b[0mtrain\u001b[0m\u001b[0;34m,\u001b[0m \u001b[0mtest\u001b[0m\u001b[0;34m)\u001b[0m\u001b[0;34m\u001b[0m\u001b[0;34m\u001b[0m\u001b[0m\n\u001b[1;32m    688\u001b[0m                                in product(candidate_params,\n\u001b[0;32m--> 689\u001b[0;31m                                           cv.split(X, y, groups)))\n\u001b[0m\u001b[1;32m    690\u001b[0m \u001b[0;34m\u001b[0m\u001b[0m\n\u001b[1;32m    691\u001b[0m                 \u001b[0;32mif\u001b[0m \u001b[0mlen\u001b[0m\u001b[0;34m(\u001b[0m\u001b[0mout\u001b[0m\u001b[0;34m)\u001b[0m \u001b[0;34m<\u001b[0m \u001b[0;36m1\u001b[0m\u001b[0;34m:\u001b[0m\u001b[0;34m\u001b[0m\u001b[0;34m\u001b[0m\u001b[0m\n",
      "\u001b[0;32m~/anaconda3/envs/mds/lib/python3.7/site-packages/joblib/parallel.py\u001b[0m in \u001b[0;36m__call__\u001b[0;34m(self, iterable)\u001b[0m\n\u001b[1;32m   1040\u001b[0m \u001b[0;34m\u001b[0m\u001b[0m\n\u001b[1;32m   1041\u001b[0m             \u001b[0;32mwith\u001b[0m \u001b[0mself\u001b[0m\u001b[0;34m.\u001b[0m\u001b[0m_backend\u001b[0m\u001b[0;34m.\u001b[0m\u001b[0mretrieval_context\u001b[0m\u001b[0;34m(\u001b[0m\u001b[0;34m)\u001b[0m\u001b[0;34m:\u001b[0m\u001b[0;34m\u001b[0m\u001b[0;34m\u001b[0m\u001b[0m\n\u001b[0;32m-> 1042\u001b[0;31m                 \u001b[0mself\u001b[0m\u001b[0;34m.\u001b[0m\u001b[0mretrieve\u001b[0m\u001b[0;34m(\u001b[0m\u001b[0;34m)\u001b[0m\u001b[0;34m\u001b[0m\u001b[0;34m\u001b[0m\u001b[0m\n\u001b[0m\u001b[1;32m   1043\u001b[0m             \u001b[0;31m# Make sure that we get a last message telling us we are done\u001b[0m\u001b[0;34m\u001b[0m\u001b[0;34m\u001b[0m\u001b[0;34m\u001b[0m\u001b[0m\n\u001b[1;32m   1044\u001b[0m             \u001b[0melapsed_time\u001b[0m \u001b[0;34m=\u001b[0m \u001b[0mtime\u001b[0m\u001b[0;34m.\u001b[0m\u001b[0mtime\u001b[0m\u001b[0;34m(\u001b[0m\u001b[0;34m)\u001b[0m \u001b[0;34m-\u001b[0m \u001b[0mself\u001b[0m\u001b[0;34m.\u001b[0m\u001b[0m_start_time\u001b[0m\u001b[0;34m\u001b[0m\u001b[0;34m\u001b[0m\u001b[0m\n",
      "\u001b[0;32m~/anaconda3/envs/mds/lib/python3.7/site-packages/joblib/parallel.py\u001b[0m in \u001b[0;36mretrieve\u001b[0;34m(self)\u001b[0m\n\u001b[1;32m    941\u001b[0m                     \u001b[0;31m# scheduling.\u001b[0m\u001b[0;34m\u001b[0m\u001b[0;34m\u001b[0m\u001b[0;34m\u001b[0m\u001b[0m\n\u001b[1;32m    942\u001b[0m                     \u001b[0mensure_ready\u001b[0m \u001b[0;34m=\u001b[0m \u001b[0mself\u001b[0m\u001b[0;34m.\u001b[0m\u001b[0m_managed_backend\u001b[0m\u001b[0;34m\u001b[0m\u001b[0;34m\u001b[0m\u001b[0m\n\u001b[0;32m--> 943\u001b[0;31m                     \u001b[0mbackend\u001b[0m\u001b[0;34m.\u001b[0m\u001b[0mabort_everything\u001b[0m\u001b[0;34m(\u001b[0m\u001b[0mensure_ready\u001b[0m\u001b[0;34m=\u001b[0m\u001b[0mensure_ready\u001b[0m\u001b[0;34m)\u001b[0m\u001b[0;34m\u001b[0m\u001b[0;34m\u001b[0m\u001b[0m\n\u001b[0m\u001b[1;32m    944\u001b[0m                 \u001b[0;32mraise\u001b[0m\u001b[0;34m\u001b[0m\u001b[0;34m\u001b[0m\u001b[0m\n\u001b[1;32m    945\u001b[0m \u001b[0;34m\u001b[0m\u001b[0m\n",
      "\u001b[0;32m~/anaconda3/envs/mds/lib/python3.7/site-packages/joblib/_parallel_backends.py\u001b[0m in \u001b[0;36mabort_everything\u001b[0;34m(self, ensure_ready)\u001b[0m\n\u001b[1;32m    557\u001b[0m         \"\"\"Shutdown the workers and restart a new one with the same parameters\n\u001b[1;32m    558\u001b[0m         \"\"\"\n\u001b[0;32m--> 559\u001b[0;31m         \u001b[0mself\u001b[0m\u001b[0;34m.\u001b[0m\u001b[0m_workers\u001b[0m\u001b[0;34m.\u001b[0m\u001b[0mterminate\u001b[0m\u001b[0;34m(\u001b[0m\u001b[0mkill_workers\u001b[0m\u001b[0;34m=\u001b[0m\u001b[0;32mTrue\u001b[0m\u001b[0;34m)\u001b[0m\u001b[0;34m\u001b[0m\u001b[0;34m\u001b[0m\u001b[0m\n\u001b[0m\u001b[1;32m    560\u001b[0m         \u001b[0mself\u001b[0m\u001b[0;34m.\u001b[0m\u001b[0m_workers\u001b[0m \u001b[0;34m=\u001b[0m \u001b[0;32mNone\u001b[0m\u001b[0;34m\u001b[0m\u001b[0;34m\u001b[0m\u001b[0m\n\u001b[1;32m    561\u001b[0m \u001b[0;34m\u001b[0m\u001b[0m\n",
      "\u001b[0;32m~/anaconda3/envs/mds/lib/python3.7/site-packages/joblib/executor.py\u001b[0m in \u001b[0;36mterminate\u001b[0;34m(self, kill_workers)\u001b[0m\n\u001b[1;32m     72\u001b[0m \u001b[0;34m\u001b[0m\u001b[0m\n\u001b[1;32m     73\u001b[0m     \u001b[0;32mdef\u001b[0m \u001b[0mterminate\u001b[0m\u001b[0;34m(\u001b[0m\u001b[0mself\u001b[0m\u001b[0;34m,\u001b[0m \u001b[0mkill_workers\u001b[0m\u001b[0;34m=\u001b[0m\u001b[0;32mFalse\u001b[0m\u001b[0;34m)\u001b[0m\u001b[0;34m:\u001b[0m\u001b[0;34m\u001b[0m\u001b[0;34m\u001b[0m\u001b[0m\n\u001b[0;32m---> 74\u001b[0;31m         \u001b[0mself\u001b[0m\u001b[0;34m.\u001b[0m\u001b[0mshutdown\u001b[0m\u001b[0;34m(\u001b[0m\u001b[0mkill_workers\u001b[0m\u001b[0;34m=\u001b[0m\u001b[0mkill_workers\u001b[0m\u001b[0;34m)\u001b[0m\u001b[0;34m\u001b[0m\u001b[0;34m\u001b[0m\u001b[0m\n\u001b[0m\u001b[1;32m     75\u001b[0m         \u001b[0;32mif\u001b[0m \u001b[0mkill_workers\u001b[0m\u001b[0;34m:\u001b[0m\u001b[0;34m\u001b[0m\u001b[0;34m\u001b[0m\u001b[0m\n\u001b[1;32m     76\u001b[0m             \u001b[0;31m# When workers are killed in such a brutal manner, they cannot\u001b[0m\u001b[0;34m\u001b[0m\u001b[0;34m\u001b[0m\u001b[0;34m\u001b[0m\u001b[0m\n",
      "\u001b[0;32m~/anaconda3/envs/mds/lib/python3.7/site-packages/joblib/externals/loky/process_executor.py\u001b[0m in \u001b[0;36mshutdown\u001b[0;34m(self, wait, kill_workers)\u001b[0m\n\u001b[1;32m   1169\u001b[0m \u001b[0;34m\u001b[0m\u001b[0m\n\u001b[1;32m   1170\u001b[0m         \u001b[0;32mif\u001b[0m \u001b[0mexecutor_manager_thread\u001b[0m \u001b[0;32mis\u001b[0m \u001b[0;32mnot\u001b[0m \u001b[0;32mNone\u001b[0m \u001b[0;32mand\u001b[0m \u001b[0mwait\u001b[0m\u001b[0;34m:\u001b[0m\u001b[0;34m\u001b[0m\u001b[0;34m\u001b[0m\u001b[0m\n\u001b[0;32m-> 1171\u001b[0;31m             \u001b[0mexecutor_manager_thread\u001b[0m\u001b[0;34m.\u001b[0m\u001b[0mjoin\u001b[0m\u001b[0;34m(\u001b[0m\u001b[0;34m)\u001b[0m\u001b[0;34m\u001b[0m\u001b[0;34m\u001b[0m\u001b[0m\n\u001b[0m\u001b[1;32m   1172\u001b[0m \u001b[0;34m\u001b[0m\u001b[0m\n\u001b[1;32m   1173\u001b[0m         \u001b[0;31m# To reduce the risk of opening too many files, remove references to\u001b[0m\u001b[0;34m\u001b[0m\u001b[0;34m\u001b[0m\u001b[0;34m\u001b[0m\u001b[0m\n",
      "\u001b[0;32m~/anaconda3/envs/mds/lib/python3.7/threading.py\u001b[0m in \u001b[0;36mjoin\u001b[0;34m(self, timeout)\u001b[0m\n\u001b[1;32m   1042\u001b[0m \u001b[0;34m\u001b[0m\u001b[0m\n\u001b[1;32m   1043\u001b[0m         \u001b[0;32mif\u001b[0m \u001b[0mtimeout\u001b[0m \u001b[0;32mis\u001b[0m \u001b[0;32mNone\u001b[0m\u001b[0;34m:\u001b[0m\u001b[0;34m\u001b[0m\u001b[0;34m\u001b[0m\u001b[0m\n\u001b[0;32m-> 1044\u001b[0;31m             \u001b[0mself\u001b[0m\u001b[0;34m.\u001b[0m\u001b[0m_wait_for_tstate_lock\u001b[0m\u001b[0;34m(\u001b[0m\u001b[0;34m)\u001b[0m\u001b[0;34m\u001b[0m\u001b[0;34m\u001b[0m\u001b[0m\n\u001b[0m\u001b[1;32m   1045\u001b[0m         \u001b[0;32melse\u001b[0m\u001b[0;34m:\u001b[0m\u001b[0;34m\u001b[0m\u001b[0;34m\u001b[0m\u001b[0m\n\u001b[1;32m   1046\u001b[0m             \u001b[0;31m# the behavior of a negative timeout isn't documented, but\u001b[0m\u001b[0;34m\u001b[0m\u001b[0;34m\u001b[0m\u001b[0;34m\u001b[0m\u001b[0m\n",
      "\u001b[0;32m~/anaconda3/envs/mds/lib/python3.7/threading.py\u001b[0m in \u001b[0;36m_wait_for_tstate_lock\u001b[0;34m(self, block, timeout)\u001b[0m\n\u001b[1;32m   1058\u001b[0m         \u001b[0;32mif\u001b[0m \u001b[0mlock\u001b[0m \u001b[0;32mis\u001b[0m \u001b[0;32mNone\u001b[0m\u001b[0;34m:\u001b[0m  \u001b[0;31m# already determined that the C code is done\u001b[0m\u001b[0;34m\u001b[0m\u001b[0;34m\u001b[0m\u001b[0m\n\u001b[1;32m   1059\u001b[0m             \u001b[0;32massert\u001b[0m \u001b[0mself\u001b[0m\u001b[0;34m.\u001b[0m\u001b[0m_is_stopped\u001b[0m\u001b[0;34m\u001b[0m\u001b[0;34m\u001b[0m\u001b[0m\n\u001b[0;32m-> 1060\u001b[0;31m         \u001b[0;32melif\u001b[0m \u001b[0mlock\u001b[0m\u001b[0;34m.\u001b[0m\u001b[0macquire\u001b[0m\u001b[0;34m(\u001b[0m\u001b[0mblock\u001b[0m\u001b[0;34m,\u001b[0m \u001b[0mtimeout\u001b[0m\u001b[0;34m)\u001b[0m\u001b[0;34m:\u001b[0m\u001b[0;34m\u001b[0m\u001b[0;34m\u001b[0m\u001b[0m\n\u001b[0m\u001b[1;32m   1061\u001b[0m             \u001b[0mlock\u001b[0m\u001b[0;34m.\u001b[0m\u001b[0mrelease\u001b[0m\u001b[0;34m(\u001b[0m\u001b[0;34m)\u001b[0m\u001b[0;34m\u001b[0m\u001b[0;34m\u001b[0m\u001b[0m\n\u001b[1;32m   1062\u001b[0m             \u001b[0mself\u001b[0m\u001b[0;34m.\u001b[0m\u001b[0m_stop\u001b[0m\u001b[0;34m(\u001b[0m\u001b[0;34m)\u001b[0m\u001b[0;34m\u001b[0m\u001b[0;34m\u001b[0m\u001b[0m\n",
      "\u001b[0;31mKeyboardInterrupt\u001b[0m: "
     ]
    }
   ],
   "source": [
    "%%time\n",
    "from sklearn.ensemble import RandomForestClassifier\n",
    "\n",
    "estimator_name = 'RandForest'\n",
    "estimator = RandomForestClassifier()\n",
    "hyperparams = {'n_estimators': [300, 500],\n",
    "             'max_depth': [2,  5],\n",
    "             'min_samples_leaf': [0.1, 0.2],\n",
    "             'max_features': ['log2', 'sqrt']\n",
    "            }\n",
    "\n",
    "# SCAFFOLD Train test splitting\n",
    "split_and_gs(library, library, estimator_name,\n",
    "             X, y, estimator, hyperparams, \n",
    "             splitting='scaffold', test_size=0.25, \n",
    "             scaffold_series=scaffold_series)"
   ]
  },
  {
   "cell_type": "markdown",
   "metadata": {},
   "source": [
    "***\n",
    "<h2 style='background-color: #F9E5AB; padding: 5px;'>\n",
    "    Train-Test with DUD Library\n",
    "</h2>\n",
    "<div style='background-color: #FE8460; min-height: 5px'></div>"
   ]
  },
  {
   "cell_type": "code",
   "execution_count": 28,
   "metadata": {},
   "outputs": [],
   "source": [
    "library = 'DUD'\n",
    "\n",
    "# Train and test over DUDU\n",
    "X = X_merged_dksc.loc[library]\n",
    "y = y_true_merged.loc[library]\n",
    "scaffold_series = df_scff_murcko['scff_generic'].loc[library]"
   ]
  },
  {
   "cell_type": "markdown",
   "metadata": {
    "cell_style": "center"
   },
   "source": [
    "<h3 style='color: #F84122; padding: 0px;; margin: 0px'>GS: Linear SVM </h3>\n",
    "<b>DUD  - Random and Stratified Scaffold Splitting</b>"
   ]
  },
  {
   "cell_type": "code",
   "execution_count": 28,
   "metadata": {
    "cell_style": "split"
   },
   "outputs": [
    {
     "name": "stderr",
     "output_type": "stream",
     "text": [
      "ERROR:root:Internal Python error in the inspect module.\n",
      "Below is the traceback from this internal error.\n",
      "\n",
      "\n",
      "KeyboardInterrupt\n",
      "\n"
     ]
    }
   ],
   "source": [
    "%%time\n",
    "from sklearn.svm import SVC\n",
    "\n",
    "estimator_name = 'LinearSVC'\n",
    "estimator = SVC(kernel = 'linear', probability=True)\n",
    "hyperparams = {'C': np.geomspace(1e-8, 1e2, 6)}\n",
    "\n",
    "# RANDOM Train test splitting\n",
    "split_and_gs(library, library, estimator_name,\n",
    "             X, y, estimator, hyperparams,\n",
    "             splitting='random', test_size=0.25, \n",
    "             scaffold_series=None)"
   ]
  },
  {
   "cell_type": "code",
   "execution_count": null,
   "metadata": {
    "cell_style": "split"
   },
   "outputs": [],
   "source": [
    "%%time\n",
    "# from sklearn.svm import SVC\n",
    "\n",
    "estimator_name = 'LinearSVC'\n",
    "estimator = SVC(kernel = 'linear', probability=True)\n",
    "hyperparams = {'C': np.geomspace(1e-8, 1e2, 6)}\n",
    "\n",
    "# SCAFFOLD Train test splitting\n",
    "split_and_gs(library, library, estimator_name,\n",
    "             X, y, estimator, hyperparams,\n",
    "             splitting='scaffold', test_size=0.25, \n",
    "             scaffold_series=scaffold_series)"
   ]
  },
  {
   "cell_type": "markdown",
   "metadata": {},
   "source": [
    "<h3 style='color: #F84122; padding: 0px;; margin: 0px'>GS: Radial Basis Function SVM </h3>\n",
    "<b>DUD  - Random and Stratified Scaffold Splitting</b>"
   ]
  },
  {
   "cell_type": "code",
   "execution_count": null,
   "metadata": {
    "cell_style": "split"
   },
   "outputs": [],
   "source": [
    "%%time\n",
    "\n",
    "estimator_name = 'rbfSVC'\n",
    "estimator = SVC(kernel = 'rbf', probability=True)\n",
    "hyperparams = {'C': np.geomspace(1e-8, 1e-2, 4), \n",
    "               'gamma': np.geomspace(1e-6, 1e0, 4)}\n",
    "\n",
    "# RANDOM Train test splitting\n",
    "split_and_gs(library, library, estimator_name,\n",
    "             X, y, estimator, hyperparams,\n",
    "             splitting='random', test_size=0.25, \n",
    "             scaffold_series=None)"
   ]
  },
  {
   "cell_type": "code",
   "execution_count": null,
   "metadata": {
    "cell_style": "split"
   },
   "outputs": [],
   "source": [
    "%%time\n",
    "\n",
    "estimator_name = 'rbfSVC'\n",
    "estimator = SVC(kernel = 'rbf', probability=True)\n",
    "hyperparams = {'C': np.geomspace(1e-8, 1e-2, 4), \n",
    "               'gamma': np.geomspace(1e-6, 1e0, 4)}\n",
    "\n",
    "# SCAFFOLD Train test splitting\n",
    "split_and_gs(library, library, estimator_name,\n",
    "             X, y, estimator, hyperparams,\n",
    "             splitting='scaffold', test_size=0.25, \n",
    "             scaffold_series=scaffold_series)"
   ]
  },
  {
   "cell_type": "markdown",
   "metadata": {},
   "source": [
    "<h3 style='color: #F84122; padding: 0px;; margin: 0px'> GS: Logistic Regression </h3>\n",
    "<b>DUD  - Random and Stratified Scaffold Splitting</b>"
   ]
  },
  {
   "cell_type": "code",
   "execution_count": null,
   "metadata": {
    "cell_style": "split"
   },
   "outputs": [],
   "source": [
    "%%time\n",
    "from sklearn.linear_model import LogisticRegression\n",
    "\n",
    "estimator_name = 'LogReg'\n",
    "estimator = LogisticRegression(max_iter=150)\n",
    "hyperparams = {'C': np.geomspace(1e-8, 1e2, 6), \n",
    "               'penalty': ['l1', 'l2'], \n",
    "               'solver': ['lbfgs', 'liblinear']}\n",
    "\n",
    "# RANDOM Train test splitting\n",
    "split_and_gs(library, library, estimator_name,\n",
    "             X, y, estimator, hyperparams,\n",
    "             splitting='random', test_size=0.25, \n",
    "             scaffold_series=None)"
   ]
  },
  {
   "cell_type": "code",
   "execution_count": null,
   "metadata": {
    "cell_style": "split"
   },
   "outputs": [],
   "source": [
    "%%time\n",
    "# from sklearn.linear_model import LogisticRegression\n",
    "\n",
    "estimator_name = 'LogReg'\n",
    "estimator = LogisticRegression(max_iter=150)\n",
    "hyperparams = {'C': np.geomspace(1e-8, 1e2, 6), \n",
    "               'penalty': ['l1', 'l2'], \n",
    "               'solver': ['lbfgs', 'liblinear']}\n",
    "\n",
    "# SCAFFOLD Train test splitting\n",
    "split_and_gs(library, library, estimator_name,\n",
    "             X, y, estimator, hyperparams,\n",
    "             splitting='scaffold', test_size=0.25, \n",
    "             scaffold_series=scaffold_series)"
   ]
  },
  {
   "cell_type": "markdown",
   "metadata": {},
   "source": [
    "<h3 style='color: #F84122; padding: 0px;; margin: 0px'>GS: K-Neighbors Classifier</h3>\n",
    "<b>DUD  - Random and Stratified Scaffold Splitting</b>"
   ]
  },
  {
   "cell_type": "code",
   "execution_count": null,
   "metadata": {
    "cell_style": "split"
   },
   "outputs": [],
   "source": [
    "%%time\n",
    "from sklearn.neighbors import KNeighborsClassifier \n",
    "\n",
    "estimator_name = 'kNN'\n",
    "estimator = KNeighborsClassifier()\n",
    "hyperparams = {'n_neighbors': [25, 55, 125, 225], \n",
    "               'p': [1, 2]\n",
    "             }\n",
    "\n",
    "# RANDOM Train test splitting\n",
    "split_and_gs(library, library, estimator_name,\n",
    "             X, y, estimator, hyperparams,\n",
    "             splitting='random', test_size=0.25, \n",
    "             scaffold_series=None)"
   ]
  },
  {
   "cell_type": "code",
   "execution_count": null,
   "metadata": {
    "cell_style": "split"
   },
   "outputs": [],
   "source": [
    "%%time\n",
    "from sklearn.neighbors import KNeighborsClassifier \n",
    "\n",
    "estimator_name = 'kNN'\n",
    "estimator = KNeighborsClassifier()\n",
    "hyperparams = {'n_neighbors': [25, 55, 125, 225], \n",
    "               'p': [1, 2]\n",
    "             }\n",
    "\n",
    "# SCAFFOLD Train test splitting\n",
    "split_and_gs(library, library, estimator_name,\n",
    "             X, y, estimator, hyperparams,\n",
    "             splitting='scaffold', test_size=0.25, \n",
    "             scaffold_series=scaffold_series)"
   ]
  },
  {
   "cell_type": "markdown",
   "metadata": {},
   "source": [
    "<h3 style='color: #F84122; padding: 0px;; margin: 0px'>GS: Decision Tree Classifier</h3>\n",
    "<b>DUD  - Random and Stratified Scaffold Splitting</b>"
   ]
  },
  {
   "cell_type": "code",
   "execution_count": null,
   "metadata": {
    "cell_style": "split"
   },
   "outputs": [],
   "source": [
    "%%time\n",
    "from sklearn.tree import DecisionTreeClassifier\n",
    "\n",
    "estimator_name = 'DTree'\n",
    "estimator = DecisionTreeClassifier(splitter='best')\n",
    "hyperparams = {'criterion': ['gini', 'entropy'], \n",
    "               'max_depth': [2, 3, 5],\n",
    "               'min_samples_split': [0.2, 0.25, 0.3],\n",
    "               'max_features': [None, 'sqrt', 'log2']}\n",
    "\n",
    "# RANDOM Train test splitting\n",
    "split_and_gs(library, library, estimator_name,\n",
    "             X, y, estimator, hyperparams,\n",
    "             splitting='random', test_size=0.25, \n",
    "             scaffold_series=None)"
   ]
  },
  {
   "cell_type": "code",
   "execution_count": null,
   "metadata": {
    "cell_style": "split"
   },
   "outputs": [],
   "source": [
    "%%time\n",
    "from sklearn.tree import DecisionTreeClassifier\n",
    "\n",
    "estimator_name = 'DTree'\n",
    "estimator = DecisionTreeClassifier(splitter='best')\n",
    "hyperparams = {'criterion': ['gini', 'entropy'], \n",
    "               'max_depth': [2, 3, 5],\n",
    "               'min_samples_split': [0.2, 0.25, 0.3],\n",
    "               'max_features': [None, 'sqrt', 'log2']}\n",
    "\n",
    "# SCAFFOLD Train test splitting\n",
    "split_and_gs(library, library, estimator_name,\n",
    "             X, y, estimator, hyperparams,\n",
    "             splitting='scaffold', test_size=0.25, \n",
    "             scaffold_series=scaffold_series)"
   ]
  },
  {
   "cell_type": "markdown",
   "metadata": {},
   "source": [
    "<h3 style='color: #F84122; padding: 0px;; margin: 0px'>GS: Bagging Classifier (k-NN as base estimator) </h3>\n",
    "<b>DUD  - Random and Stratified Scaffold Splitting</b>"
   ]
  },
  {
   "cell_type": "code",
   "execution_count": null,
   "metadata": {
    "cell_style": "split"
   },
   "outputs": [],
   "source": [
    "%%time\n",
    "from sklearn.ensemble import BaggingClassifier\n",
    "\n",
    "estimator_name = 'BagClf-kNN'\n",
    "knn = KNeighborsClassifier(n_neighbors=125, p=1, \n",
    "                           weights='distance')\n",
    "estimator = BaggingClassifier(base_estimator=knn, \n",
    "                              n_jobs=6, oob_score=True)\n",
    "\n",
    "hyperparams = {'n_estimators': [300]}\n",
    "\n",
    "# RANDOM Train test splitting\n",
    "# split_and_gs(X, y, estimator, hyperparams, \n",
    "#              splitting='random', test_size=0.25, \n",
    "#              scaffold_series=None)"
   ]
  },
  {
   "cell_type": "code",
   "execution_count": null,
   "metadata": {
    "cell_style": "split"
   },
   "outputs": [],
   "source": [
    "%%time\n",
    "# from sklearn.ensemble import BaggingClassifier\n",
    "\n",
    "estimator_name = 'BagClf-kNN'\n",
    "knn = KNeighborsClassifier(n_neighbors=125, p=1, \n",
    "                           weights='distance')\n",
    "estimator = BaggingClassifier(base_estimator=knn, \n",
    "                              n_jobs=6, oob_score=True)\n",
    "\n",
    "hyperparams = {'n_estimators': [300]}\n",
    "\n",
    "# SCAFFOLD Train test splitting\n",
    "# split_and_gs(X, y, estimator, hyperparams, \n",
    "#              splitting='scaffold', test_size=0.25, \n",
    "#              scaffold_series=scaffold_series)"
   ]
  },
  {
   "cell_type": "markdown",
   "metadata": {},
   "source": [
    "<h3 style='color: #F84122; padding: 0px;; margin: 0px'>GS:Random Forest </h3>\n",
    "<b>DUD  - Random and Stratified Scaffold Splitting</b>"
   ]
  },
  {
   "cell_type": "code",
   "execution_count": null,
   "metadata": {
    "cell_style": "split"
   },
   "outputs": [],
   "source": [
    "%%time\n",
    "from sklearn.ensemble import RandomForestClassifier\n",
    "\n",
    "estimator_name = 'RandForest'\n",
    "estimator = RandomForestClassifier()\n",
    "hyperparams = {'n_estimators': [300, 500],\n",
    "             'max_depth': [2,  5],\n",
    "             'min_samples_leaf': [0.1, 0.2],\n",
    "             'max_features': ['log2', 'sqrt']\n",
    "            }\n",
    "\n",
    "# RANDOM Train test splitting\n",
    "split_and_gs(library, library, estimator_name,\n",
    "             X, y, estimator, hyperparams,\n",
    "             splitting='random', test_size=0.25, \n",
    "             scaffold_series=None)"
   ]
  },
  {
   "cell_type": "code",
   "execution_count": null,
   "metadata": {
    "cell_style": "split",
    "scrolled": true
   },
   "outputs": [],
   "source": [
    "%%time\n",
    "from sklearn.ensemble import RandomForestClassifier\n",
    "\n",
    "estimator_name = 'RandForest'\n",
    "estimator = RandomForestClassifier()\n",
    "hyperparams = {'n_estimators': [300, 500],\n",
    "             'max_depth': [2,  5],\n",
    "             'min_samples_leaf': [0.1, 0.2],\n",
    "             'max_features': ['log2', 'sqrt']\n",
    "            }\n",
    "\n",
    "# SCAFFOLD Train test splitting\n",
    "split_and_gs(library, library, estimator_name,\n",
    "             X, y, estimator, hyperparams,\n",
    "             splitting='scaffold', test_size=0.25, \n",
    "             scaffold_series=scaffold_series)"
   ]
  },
  {
   "cell_type": "markdown",
   "metadata": {},
   "source": [
    "***\n",
    "\n",
    "<h2 style='background-color: #F9E5AB; padding: 5px;'>\n",
    "    Train-Test with different libraries \n",
    "</h2>\n",
    "<div style='background-color: #FE8460; min-height: 5px'></div>\n",
    "\n",
    "##### Here, Random or Scaffold Splitting are not used"
   ]
  },
  {
   "cell_type": "code",
   "execution_count": null,
   "metadata": {},
   "outputs": [],
   "source": [
    "# Train DEKOIS, test DUD\n",
    "@capture_GS_results(results_dict)\n",
    "def split_by_library_and_gs(train_name, test_name, estimator_name,\n",
    "                            X, y, lib_train_name, lib_test_name, **kwargs):\n",
    "    '''Train-Test \"split\" by library, and run Grid Search. Splits the main dataframe by library\n",
    "    using different molecular libraries for Training and Testing.'''\n",
    "    splitting='by_library'\n",
    "    \n",
    "    X_train = X.loc[lib_train_name]\n",
    "    y_train = y.loc[lib_train_name]\n",
    "\n",
    "    X_test = X.loc[lib_test_name]\n",
    "    y_test = y.loc[lib_test_name]\n",
    "\n",
    "    # Verbose\n",
    "    print(f'{estimator_name} => Train: {train_name}; Test: {test_name}; split: {splitting}')\n",
    "    \n",
    "    # Function to run Grid Search\n",
    "    #----------------------------\n",
    "    gs_results = run_grid_search(estimator, \n",
    "                    X_train, y_train, X_test, y_test, \n",
    "                    hyperparams = hyperparams,  **kwargs)\n",
    "\n",
    "    # Function to extract ROC results from DkSc values \n",
    "    #-------------------------------------------------\n",
    "    dksc_results = get_roc_auc_DkSc(X_train, y_train, X_test, y_test)\n",
    "    \n",
    "    # Return both list of results to captured by the decorador function\n",
    "    return [train_name, test_name, estimator_name, splitting] + gs_results + dksc_results"
   ]
  },
  {
   "cell_type": "code",
   "execution_count": null,
   "metadata": {},
   "outputs": [],
   "source": [
    "# **********************************************\n",
    "# Train and Test sets from diferent libraries\n",
    "# **********************************************\n",
    "X = X_merged_dksc\n",
    "y = y_true_merged"
   ]
  },
  {
   "cell_type": "markdown",
   "metadata": {
    "cell_style": "center"
   },
   "source": [
    "<h3 style='color: #F84122; padding: 0px;; margin: 0px'>GS: Linear SVM  </h3>\n",
    "<b>Train and Test with different libraries</b>"
   ]
  },
  {
   "cell_type": "code",
   "execution_count": null,
   "metadata": {
    "cell_style": "split"
   },
   "outputs": [],
   "source": [
    "%%time\n",
    "from sklearn.svm import SVC\n",
    "\n",
    "estimator_name = 'LinearSVC'\n",
    "estimator = SVC(kernel = 'linear', probability=True)\n",
    "hyperparams = {'C': np.geomspace(1e-8, 1e2, 6)}\n",
    "# Train DEKOIS, test DUD\n",
    "\n",
    "train_lib = 'DEKOIS'\n",
    "test_lib = 'DUD'\n",
    "split_by_library_and_gs(\n",
    "    train_lib, test_lib, estimator_name,\n",
    "    X, y, train_lib, test_lib)"
   ]
  },
  {
   "cell_type": "code",
   "execution_count": null,
   "metadata": {
    "cell_style": "split",
    "scrolled": true
   },
   "outputs": [],
   "source": [
    "%%time\n",
    "# from sklearn.svm import SVC\n",
    "\n",
    "estimator_name = 'LinearSVC'\n",
    "estimator = SVC(kernel = 'linear', probability=True)\n",
    "hyperparams = {'C': np.geomspace(1e-8, 1e2, 6)}\n",
    "\n",
    "# Train DEKOIS, test DUD\n",
    "train_lib = 'DUD'\n",
    "test_lib = 'DEKOIS'\n",
    "split_by_library_and_gs(\n",
    "    train_lib, test_lib, estimator_name,\n",
    "    X, y, train_lib, test_lib)"
   ]
  },
  {
   "cell_type": "markdown",
   "metadata": {},
   "source": [
    "<h3 style='color: #F84122; padding: 0px;; margin: 0px'>GS: Radial Basis Function SVM </h3>\n",
    "<b>Train and Test with different libraries</b>"
   ]
  },
  {
   "cell_type": "code",
   "execution_count": null,
   "metadata": {
    "cell_style": "split"
   },
   "outputs": [],
   "source": [
    "%%time\n",
    "estimator = SVC(kernel = 'rbf', probability=True)\n",
    "\n",
    "estimator_name = 'rbfSVC'\n",
    "hyperparams = {'C': np.geomspace(1e-8, 1e2, 6), \n",
    "               'gamma': np.geomspace(1e-8, 1e2, 6)}\n",
    "\n",
    "# Train DEKOIS, test DUD\n",
    "train_lib = 'DEKOIS'\n",
    "test_lib = 'DUD'\n",
    "split_by_library_and_gs(\n",
    "    train_lib, test_lib, estimator_name,\n",
    "    X, y, train_lib, test_lib)"
   ]
  },
  {
   "cell_type": "code",
   "execution_count": null,
   "metadata": {
    "cell_style": "split"
   },
   "outputs": [],
   "source": [
    "%%time\n",
    "estimator = SVC(kernel = 'rbf', probability=True)\n",
    "\n",
    "estimator_name = 'rbfSVC'\n",
    "hyperparams = {'C': np.geomspace(1e-8, 1e2, 6), \n",
    "               'gamma': np.geomspace(1e-8, 1e2, 6)}\n",
    "\n",
    "# Train DEKOIS, test DUD\n",
    "train_lib = 'DUD'\n",
    "test_lib = 'DEKOIS'\n",
    "split_by_library_and_gs(\n",
    "    train_lib, test_lib, estimator_name,\n",
    "    X, y, train_lib, test_lib)"
   ]
  },
  {
   "cell_type": "markdown",
   "metadata": {},
   "source": [
    "<h3 style='color: #F84122; padding: 0px;; margin: 0px'>GS: Logistic Regression</h3>\n",
    "<b>Train and Test with different libraries</b>"
   ]
  },
  {
   "cell_type": "code",
   "execution_count": null,
   "metadata": {
    "cell_style": "split"
   },
   "outputs": [],
   "source": [
    "%%time\n",
    "from sklearn.linear_model import LogisticRegression\n",
    "\n",
    "estimator_name = 'LogReg'\n",
    "estimator = LogisticRegression(max_iter=150)\n",
    "hyperparams = {'C': np.geomspace(1e-8, 1e2, 6),\n",
    "               'penalty': ['l1', 'l2'], \n",
    "               'solver': ['lbfgs', 'liblinear']}\n",
    "\n",
    "# Train DEKOIS, test DUD\n",
    "train_lib = 'DEKOIS'\n",
    "test_lib = 'DUD'\n",
    "split_by_library_and_gs(\n",
    "    train_lib, test_lib, estimator_name,\n",
    "    X, y, train_lib, test_lib)"
   ]
  },
  {
   "cell_type": "code",
   "execution_count": null,
   "metadata": {
    "cell_style": "split"
   },
   "outputs": [],
   "source": [
    "%%time\n",
    "# from sklearn.linear_model import LogisticRegression\n",
    "\n",
    "estimator_name = 'LogReg'\n",
    "estimator = LogisticRegression(max_iter=150)\n",
    "hyperparams = {'C': np.geomspace(1e-8, 1e2, 6), \n",
    "               'penalty': ['l1', 'l2'], \n",
    "               'solver': ['lbfgs', 'liblinear']}\n",
    "\n",
    "# Train DEKOIS, test DUD\n",
    "train_lib = 'DUD'\n",
    "test_lib = 'DEKOIS'\n",
    "split_by_library_and_gs(\n",
    "    train_lib, test_lib, estimator_name,\n",
    "    X, y, train_lib, test_lib)"
   ]
  },
  {
   "cell_type": "markdown",
   "metadata": {},
   "source": [
    "<h3 style='color: #F84122; padding: 0px;; margin: 0px'>GS:Random Forest  </h3>\n",
    "<b>Train and Test with different libraries</b>"
   ]
  },
  {
   "cell_type": "code",
   "execution_count": null,
   "metadata": {
    "cell_style": "split"
   },
   "outputs": [],
   "source": [
    "%%time\n",
    "from sklearn.ensemble import RandomForestClassifier\n",
    "\n",
    "estimator_name = 'RandForest'\n",
    "estimator = RandomForestClassifier()\n",
    "hyperparams = {'n_estimators': [300, 500],\n",
    "             'max_depth': [3,  5, 7],\n",
    "             'min_samples_leaf': [0.03, 0.05],\n",
    "               'min_samples_split': [0.2,  0.3],\n",
    "             'max_features': ['sqrt']\n",
    "            }\n",
    "\n",
    "# Train DEKOIS, test DUD\n",
    "train_lib = 'DEKOIS'\n",
    "test_lib = 'DUD'\n",
    "split_by_library_and_gs(\n",
    "    train_lib, test_lib, estimator_name,\n",
    "    X, y, train_lib, test_lib)"
   ]
  },
  {
   "cell_type": "code",
   "execution_count": null,
   "metadata": {
    "cell_style": "split"
   },
   "outputs": [],
   "source": [
    "%%time\n",
    "from sklearn.ensemble import RandomForestClassifier\n",
    "\n",
    "estimator_name = 'RandForest'\n",
    "estimator = RandomForestClassifier()\n",
    "hyperparams = {'n_estimators': [300, 500],\n",
    "             'max_depth': [3,  5, 7],\n",
    "             'min_samples_leaf': [0.03, 0.05],\n",
    "               'min_samples_split': [0.2,  0.3],\n",
    "             'max_features': ['sqrt']\n",
    "            }\n",
    "\n",
    "# Train DEKOIS, test DUD\n",
    "train_lib = 'DUD'\n",
    "test_lib = 'DEKOIS'\n",
    "split_by_library_and_gs(\n",
    "    train_lib, test_lib, estimator_name,\n",
    "    X, y, train_lib, test_lib)"
   ]
  },
  {
   "cell_type": "markdown",
   "metadata": {},
   "source": [
    "***\n",
    "<h2 style='background-color: #F9E5AB; padding: 5px;'>\n",
    "    Merged libraries \n",
    "</h2>\n",
    "<div style='background-color: #FE8460; min-height: 5px'></div>\n",
    "\n",
    "#### DEKOIS, DUD and COCRYS are  treated as one unique library"
   ]
  },
  {
   "cell_type": "code",
   "execution_count": null,
   "metadata": {},
   "outputs": [],
   "source": [
    "# Train and test over \n",
    "X = X_merged_dksc\n",
    "y = y_true_merged\n",
    "library = 'Merged'\n",
    "scaffold_series = df_scff_murcko['scff_generic']"
   ]
  },
  {
   "cell_type": "markdown",
   "metadata": {
    "cell_style": "center"
   },
   "source": [
    "<h3 style='color: #F84122; padding: 0px;; margin: 0px'>GS: Linear SVM </h3>\n",
    "<b>Merged Libraries</b>"
   ]
  },
  {
   "cell_type": "code",
   "execution_count": null,
   "metadata": {
    "cell_style": "split",
    "scrolled": true
   },
   "outputs": [],
   "source": [
    "%%time\n",
    "from sklearn.svm import SVC\n",
    "\n",
    "estimator_name = 'LinearSVC'\n",
    "estimator = SVC(kernel = 'linear', probability=True)\n",
    "hyperparams = {'C': np.geomspace(1e-8, 1e2, 6)}\n",
    "\n",
    "# RANDOM Train test splitting\n",
    "split_and_gs(library, library, estimator_name,\n",
    "             X, y, estimator, hyperparams,\n",
    "             splitting='random', test_size=0.25, \n",
    "             scaffold_series=None)"
   ]
  },
  {
   "cell_type": "code",
   "execution_count": null,
   "metadata": {
    "cell_style": "split"
   },
   "outputs": [],
   "source": [
    "%%time\n",
    "# from sklearn.svm import SVC\n",
    "\n",
    "estimator_name = 'LinearSVC'\n",
    "estimator = SVC(kernel = 'linear', probability=True)\n",
    "hyperparams = {'C': np.geomspace(1e-8, 1e2, 6)}\n",
    "\n",
    "# SCAFFOLD Train test splitting\n",
    "split_and_gs(library, library, estimator_name,\n",
    "             X, y, estimator, hyperparams,\n",
    "             splitting='scaffold', test_size=0.25, \n",
    "             scaffold_series=scaffold_series)"
   ]
  },
  {
   "cell_type": "markdown",
   "metadata": {},
   "source": [
    "<h3 style='color: #F84122; padding: 0px;; margin: 0px'>GS: Radial Basis Function SVM</h3>\n",
    "<b>Merged Libraries</b>"
   ]
  },
  {
   "cell_type": "code",
   "execution_count": null,
   "metadata": {
    "cell_style": "split"
   },
   "outputs": [],
   "source": [
    "%%time\n",
    "from sklearn.svm import SVC\n",
    "\n",
    "estimator_name = 'rbfSVC'\n",
    "estimator = SVC(kernel = 'rbf', probability=True)\n",
    "hyperparams = {'C':np.geomspace(1e-8, 1e2, 6), \n",
    "               'gamma': np.geomspace(1e-8, 1e4, 7)}\n",
    "\n",
    "# RANDOM Train test splitting\n",
    "split_and_gs(library, library, estimator_name,\n",
    "             X, y, estimator, hyperparams,\n",
    "             splitting='random', test_size=0.25, \n",
    "             scaffold_series=None)"
   ]
  },
  {
   "cell_type": "code",
   "execution_count": null,
   "metadata": {
    "cell_style": "split"
   },
   "outputs": [],
   "source": [
    "%%time\n",
    "\n",
    "estimator_name = 'rbfSVC'\n",
    "estimator = SVC(kernel = 'rbf', probability=True)\n",
    "hyperparams = {'C': np.geomspace(1e-8, 1e2, 6), \n",
    "               'gamma': np.geomspace(1e-8, 1e2, 6)}\n",
    "\n",
    "# SCAFFOLD Train test splitting\n",
    "split_and_gs(library, library, estimator_name,\n",
    "             X, y, estimator, hyperparams,\n",
    "             splitting='scaffold', test_size=0.25, \n",
    "             scaffold_series=scaffold_series)"
   ]
  },
  {
   "cell_type": "markdown",
   "metadata": {},
   "source": [
    "<h3 style='color: #F84122; padding: 0px;; margin: 0px'>GS: Logistic Regression</h3>\n",
    "<b>Merged Libraries</b>"
   ]
  },
  {
   "cell_type": "code",
   "execution_count": null,
   "metadata": {
    "cell_style": "split"
   },
   "outputs": [],
   "source": [
    "%%time\n",
    "from sklearn.linear_model import LogisticRegression\n",
    "\n",
    "estimator_name = 'LogReg'\n",
    "estimator = LogisticRegression(max_iter=150)\n",
    "hyperparams = {'C': np.geomspace(1e-8, 1e2, 6), \n",
    "               'penalty': ['l1', 'l2'], \n",
    "               'solver': ['lbfgs', 'liblinear']}\n",
    "\n",
    "# RANDOM Train test splitting\n",
    "split_and_gs(library, library, estimator_name,\n",
    "             X, y, estimator, hyperparams,\n",
    "             splitting='random', test_size=0.25, \n",
    "             scaffold_series=None)"
   ]
  },
  {
   "cell_type": "code",
   "execution_count": null,
   "metadata": {
    "cell_style": "split"
   },
   "outputs": [],
   "source": [
    "%%time\n",
    "# from sklearn.linear_model import LogisticRegression\n",
    "\n",
    "estimator_name = 'LogReg'\n",
    "estimator = LogisticRegression(max_iter=150)\n",
    "hyperparams = {'C': np.geomspace(1e-8, 1e2, 6), \n",
    "               'penalty': ['l1', 'l2'], \n",
    "               'solver': ['lbfgs', 'liblinear']}\n",
    "\n",
    "# SCAFFOLD Train test splitting\n",
    "split_and_gs(library, library, estimator_name,\n",
    "             X, y, estimator, hyperparams,\n",
    "             splitting='scaffold', test_size=0.25, \n",
    "             scaffold_series=scaffold_series)"
   ]
  },
  {
   "cell_type": "markdown",
   "metadata": {},
   "source": [
    "<h3 style='color: #F84122; padding: 0px;; margin: 0px'>GS: Decision Tree Classifier</h3>\n",
    "<b>Merged Libraries</b>"
   ]
  },
  {
   "cell_type": "code",
   "execution_count": null,
   "metadata": {
    "cell_style": "split"
   },
   "outputs": [],
   "source": [
    "%%time\n",
    "from sklearn.tree import DecisionTreeClassifier\n",
    "\n",
    "estimator_name = 'DTree'\n",
    "estimator = DecisionTreeClassifier(splitter='best')\n",
    "hyperparams = {'criterion': ['gini', 'entropy'], \n",
    "               'max_depth': [2, 3, 5],\n",
    "               'min_samples_split': [0.2,  0.3],\n",
    "               'min_samples_leaf': [0.02, 0.05, 0.1],\n",
    "               'max_features': [None, 'sqrt', 'log2']}\n",
    "\n",
    "# RANDOM Train test splitting\n",
    "split_and_gs(library, library, estimator_name,\n",
    "             X, y, estimator, hyperparams,\n",
    "             splitting='random', test_size=0.25, \n",
    "             scaffold_series=None)"
   ]
  },
  {
   "cell_type": "code",
   "execution_count": null,
   "metadata": {
    "cell_style": "split"
   },
   "outputs": [],
   "source": [
    "%%time\n",
    "from sklearn.tree import DecisionTreeClassifier\n",
    "\n",
    "estimator_name = 'DTree'\n",
    "estimator = DecisionTreeClassifier(splitter='best')\n",
    "hyperparams = {'criterion': ['gini', 'entropy'], \n",
    "               'max_depth': [2, 3, 5],\n",
    "               'min_samples_split': [0.2,  0.3],\n",
    "               'min_samples_leaf': [0.02, 0.05, 0.1],\n",
    "               'max_features': [None, 'sqrt', 'log2']}\n",
    "\n",
    "# SCAFFOLD Train test splitting\n",
    "split_and_gs(library, library, estimator_name,\n",
    "             X, y, estimator, hyperparams,\n",
    "             splitting='scaffold', test_size=0.25, \n",
    "             scaffold_series=scaffold_series)"
   ]
  },
  {
   "cell_type": "markdown",
   "metadata": {},
   "source": [
    "<h3 style='color: #F84122; padding: 0px;; margin: 0px'>GS: KKN - 1-NN as reference estimator </h3>\n",
    "<b>Merged Libraries</b>"
   ]
  },
  {
   "cell_type": "code",
   "execution_count": null,
   "metadata": {
    "cell_style": "split"
   },
   "outputs": [],
   "source": [
    "%%time\n",
    "from sklearn.neighbors import KNeighborsClassifier \n",
    "\n",
    "estimator_name = '1-NN'\n",
    "estimator = KNeighborsClassifier()\n",
    "hyperparams = {'n_neighbors': [1], \n",
    "               'p': [1, 2]\n",
    "             }\n",
    "\n",
    "# RANDOM Train test splitting\n",
    "split_and_gs(library, library, estimator_name,\n",
    "             X, y, estimator, hyperparams,\n",
    "             splitting='random', test_size=0.25, \n",
    "             scaffold_series=None)"
   ]
  },
  {
   "cell_type": "code",
   "execution_count": null,
   "metadata": {
    "cell_style": "split"
   },
   "outputs": [],
   "source": [
    "%%time\n",
    "from sklearn.neighbors import KNeighborsClassifier \n",
    "\n",
    "estimator_name = '1-NN'\n",
    "estimator = KNeighborsClassifier()\n",
    "hyperparams = {'n_neighbors': [1], \n",
    "               'p': [1, 2]\n",
    "             }\n",
    "\n",
    "# RANDOM Train test splitting\n",
    "split_and_gs(library, library, estimator_name,\n",
    "             X, y, estimator, hyperparams,\n",
    "             splitting='random', test_size=0.25, \n",
    "             scaffold_series=scaffold_series)"
   ]
  },
  {
   "cell_type": "markdown",
   "metadata": {},
   "source": [
    "<h3 style='color: #F84122; padding: 0px;; margin: 0px'>GS: Random Forest </h3>\n",
    "<b>Merged Libraries</b>"
   ]
  },
  {
   "cell_type": "code",
   "execution_count": null,
   "metadata": {
    "cell_style": "split"
   },
   "outputs": [],
   "source": [
    "%%time\n",
    "from sklearn.ensemble import RandomForestClassifier\n",
    "\n",
    "estimator_name = 'RandForest'\n",
    "estimator = RandomForestClassifier()\n",
    "hyperparams = {'n_estimators': [300, 400],\n",
    "               'max_depth': [2, 3],\n",
    "               'min_samples_split': [0.1,  0.3],\n",
    "               'min_samples_leaf': [0.02, 0.05],\n",
    "               'max_features': ['sqrt']\n",
    "            }\n",
    "\n",
    "# RANDOM Train test splitting\n",
    "split_and_gs(library, library, estimator_name,\n",
    "             X, y, estimator, hyperparams,\n",
    "             splitting='random', test_size=0.25, \n",
    "             scaffold_series=None)"
   ]
  },
  {
   "cell_type": "code",
   "execution_count": null,
   "metadata": {
    "cell_style": "split"
   },
   "outputs": [],
   "source": [
    "%%time\n",
    "from sklearn.ensemble import RandomForestClassifier\n",
    "\n",
    "estimator_name = 'RandForest'\n",
    "estimator = RandomForestClassifier()\n",
    "hyperparams = {'n_estimators': [300, 400],\n",
    "               'max_depth': [2, 3],\n",
    "               'min_samples_split': [0.1,  0.3],\n",
    "               'min_samples_leaf': [0.02, 0.05],\n",
    "               'max_features': ['sqrt']\n",
    "            }\n",
    "\n",
    "# SCAFFOLD Train test splitting\n",
    "split_and_gs(library, library, estimator_name,\n",
    "             X, y, estimator, hyperparams,\n",
    "             splitting='scaffold', test_size=0.25, \n",
    "             scaffold_series=scaffold_series)"
   ]
  },
  {
   "cell_type": "markdown",
   "metadata": {},
   "source": [
    "<h3 style='color: #F84122; padding: 0px;; margin: 0px'>GS: X Gradient Boosting</h3>\n",
    "<b>Merged Libraries</b>"
   ]
  },
  {
   "cell_type": "code",
   "execution_count": null,
   "metadata": {
    "cell_style": "split"
   },
   "outputs": [],
   "source": [
    "%%time\n",
    "\n",
    "from xgboost import XGBClassifier\n",
    "\n",
    "estimator_name = 'XGB_tree'\n",
    "estimator = XGBClassifier()\n",
    "hyperparams = {'n_estimators': [200, 300],\n",
    "               'max_depth': [2, 3, 10, 20],\n",
    "               'learning_rate': [0.05, 0.1],\n",
    "               'gamma': [0.01, 0.1, 0.5, 1],\n",
    "               'alpha': [0.01, 0.1, 0.5, 1],\n",
    "               'subsample': [0.3, 0.5],\n",
    "               'colsample_bytree': [0.3, 0.5, 1]\n",
    "            }\n",
    "\n",
    "# RANDOM Train test splitting\n",
    "split_and_gs(library, library, estimator_name,\n",
    "             X, y, estimator, hyperparams,\n",
    "             splitting='random', test_size=0.25, \n",
    "             scaffold_series=None,\n",
    "             # RandomizedGS\n",
    "            randomGS=True, n_iter=50)"
   ]
  },
  {
   "cell_type": "code",
   "execution_count": null,
   "metadata": {
    "cell_style": "split"
   },
   "outputs": [],
   "source": [
    "%%time\n",
    "\n",
    "from xgboost import XGBClassifier\n",
    "\n",
    "estimator_name = 'XGB_tree'\n",
    "estimator = XGBClassifier()\n",
    "hyperparams = {'n_estimators': [200, 300],\n",
    "               'max_depth': [2, 3, 10],\n",
    "               'learning_rate': [0.05, 0.1],\n",
    "               'gamma': [0.01, 0.1, 0.5, 1],\n",
    "               'alpha': [0.01, 0.1, 0.5, 1],\n",
    "               'subsample': [0.3, 0.5],\n",
    "               'colsample_bytree': [0.3, 0.5, 1]\n",
    "            }\n",
    "\n",
    "# RANDOM Train test splitting\n",
    "split_and_gs(library, library, estimator_name,\n",
    "             X, y, estimator, hyperparams,\n",
    "             splitting='scaffold', test_size=0.25, \n",
    "             scaffold_series=scaffold_series,\n",
    "             # RandomizedGS\n",
    "             randomGS=True, n_iter=50)"
   ]
  },
  {
   "cell_type": "markdown",
   "metadata": {},
   "source": [
    "## Get, Format, and Save the Results"
   ]
  },
  {
   "cell_type": "code",
   "execution_count": null,
   "metadata": {},
   "outputs": [],
   "source": [
    "### Save Results\n",
    "row_names = ['Train_set', 'Test_set', 'Model name', 'Split', \n",
    "             'N_actives_train', 'N_actives_test', 'N_mols_train', 'Num_mols_test',\n",
    "            'Mean-CV-ROC', 'ROC-AUC_train', 'ROC-AUC_test', 'best_params',\n",
    "            'DkS_max_ROC_train',  'DkSc_med_ROC_train', 'DkSc_mean_ROC_train', \n",
    "            'DkS_max_ROC_test',  'DkSc_med_ROC_test', 'DkSc_mean_ROC_test']\n",
    "\n",
    "\n",
    "# Load or save\n",
    "save=True\n",
    "filename='./GRID_SEARCH_CV_results.csv'\n",
    "if save:\n",
    "    results_df = pd.DataFrame(results_dict, index=row_names).T.reset_index().drop('index', axis=1)\n",
    "    results_df.to_csv(filename)\n",
    "else:\n",
    "    results_df = pd.read_csv(filename)\n",
    "    \n",
    "results_df"
   ]
  },
  {
   "cell_type": "markdown",
   "metadata": {},
   "source": [
    "***\n",
    "<h2 style='background-color: #F9E5AB; padding: 5px;'>\n",
    "    Merged libraries: Shuffle *y* target values in the train set\n",
    "</h2>\n",
    "<div style='background-color: #FE8460; min-height: 5px'></div>\n",
    "\n",
    "#### DEKOIS, DUD and COCRYS are  treated as one unique library"
   ]
  },
  {
   "cell_type": "code",
   "execution_count": null,
   "metadata": {},
   "outputs": [],
   "source": [
    "# Train and test over \n",
    "X = X_merged_dksc\n",
    "# ***** Permutate y values *****\n",
    "y = y_true_merged.sample(frac=1)\n",
    "\n",
    "library = 'Merged'\n",
    "scaffold_series = df_scff_murcko['scff_generic']\n"
   ]
  },
  {
   "cell_type": "markdown",
   "metadata": {
    "cell_style": "center"
   },
   "source": [
    "<h3 style='color: #F84122; padding: 0px;; margin: 0px'>GS: Linear SVM </h3>\n",
    "<b>Merged Libraries</b>"
   ]
  },
  {
   "cell_type": "code",
   "execution_count": null,
   "metadata": {
    "cell_style": "split",
    "scrolled": true
   },
   "outputs": [],
   "source": [
    "%%time\n",
    "from sklearn.svm import SVC\n",
    "\n",
    "estimator_name = 'LinearSVC'\n",
    "estimator = SVC(kernel = 'linear', probability=True)\n",
    "hyperparams = {'C': np.geomspace(1e-15, 1e-9, 3)}\n",
    "\n",
    "# RANDOM Train test splitting\n",
    "# split_and_gs(library, library, estimator_name,\n",
    "#              X, y, estimator, hyperparams,\n",
    "#              splitting='random', test_size=0.25, \n",
    "#              scaffold_series=None)"
   ]
  },
  {
   "cell_type": "code",
   "execution_count": null,
   "metadata": {
    "cell_style": "split"
   },
   "outputs": [],
   "source": [
    "%%time\n",
    "# from sklearn.svm import SVC\n",
    "\n",
    "estimator_name = 'LinearSVC'\n",
    "estimator = SVC(kernel = 'linear', probability=True)\n",
    "hyperparams = {'C': np.geomspace(1e-15, 1e-9, 3)}\n",
    "\n",
    "# SCAFFOLD Train test splitting\n",
    "# split_and_gs(library, library, estimator_name,\n",
    "#              X, y, estimator, hyperparams,\n",
    "#              splitting='scaffold', test_size=0.25, \n",
    "#              scaffold_series=scaffold_series)"
   ]
  },
  {
   "cell_type": "markdown",
   "metadata": {},
   "source": [
    "<h3 style='color: #F84122; padding: 0px;; margin: 0px'>GS: Radial Basis Function SVM</h3>\n",
    "<b>Merged Libraries</b>"
   ]
  },
  {
   "cell_type": "code",
   "execution_count": null,
   "metadata": {
    "cell_style": "split"
   },
   "outputs": [],
   "source": [
    "%%time\n",
    "from sklearn.svm import SVC\n",
    "\n",
    "estimator_name = 'rbfSVC'\n",
    "estimator = SVC(kernel = 'rbf', probability=True)\n",
    "hyperparams = {'C': np.geomspace(1e0, 1e2, 3), \n",
    "               'gamma': np.geomspace(1e-4, 1e0, 3)}\n",
    "\n",
    "# RANDOM Train test splitting\n",
    "# split_and_gs(library, library, estimator_name,\n",
    "#              X, y, estimator, hyperparams,\n",
    "#              splitting='random', test_size=0.25, \n",
    "#              scaffold_series=None)"
   ]
  },
  {
   "cell_type": "code",
   "execution_count": null,
   "metadata": {
    "cell_style": "split"
   },
   "outputs": [],
   "source": [
    "%%time\n",
    "\n",
    "estimator_name = 'rbfSVC'\n",
    "estimator = SVC(kernel = 'rbf', probability=True)\n",
    "hyperparams = {'C': np.geomspace(1e0, 1e2, 3), \n",
    "               'gamma': np.geomspace(1e-4, 1e0, 3)}\n",
    "\n",
    "# SCAFFOLD Train test splitting\n",
    "# split_and_gs(library, library, estimator_name,\n",
    "#              X, y, estimator, hyperparams,\n",
    "#              splitting='scaffold', test_size=0.25, \n",
    "#              scaffold_series=scaffold_series)"
   ]
  },
  {
   "cell_type": "markdown",
   "metadata": {},
   "source": [
    "<h3 style='color: #F84122; padding: 0px;; margin: 0px'>GS: Logistic Regression</h3>\n",
    "<b>Merged Libraries</b>"
   ]
  },
  {
   "cell_type": "code",
   "execution_count": null,
   "metadata": {
    "cell_style": "split"
   },
   "outputs": [],
   "source": [
    "%%time\n",
    "from sklearn.linear_model import LogisticRegression\n",
    "\n",
    "estimator_name = 'LogReg'\n",
    "estimator = LogisticRegression()\n",
    "hyperparams = {'C': np.geomspace(1e-4, 1e4, 3), \n",
    "               'penalty': ['l1', 'l2'], \n",
    "               'solver': ['lbfgs', 'liblinear']}\n",
    "\n",
    "# RANDOM Train test splitting\n",
    "# split_and_gs(library, library, estimator_name,\n",
    "#              X, y, estimator, hyperparams,\n",
    "#              splitting='random', test_size=0.25, \n",
    "#              scaffold_series=None)"
   ]
  },
  {
   "cell_type": "code",
   "execution_count": null,
   "metadata": {
    "cell_style": "split"
   },
   "outputs": [],
   "source": [
    "%%time\n",
    "# from sklearn.linear_model import LogisticRegression\n",
    "\n",
    "estimator_name = 'LogReg'\n",
    "estimator = LogisticRegression()\n",
    "hyperparams = {'C': np.geomspace(1e-4, 1e5, 4), \n",
    "               'penalty': ['l1', 'l2'], \n",
    "               'solver': ['lbfgs', 'liblinear']}\n",
    "\n",
    "# SCAFFOLD Train test splitting\n",
    "# split_and_gs(library, library, estimator_name,\n",
    "#              X, y, estimator, hyperparams,\n",
    "#              splitting='scaffold', test_size=0.25, \n",
    "#              scaffold_series=scaffold_series)"
   ]
  },
  {
   "cell_type": "code",
   "execution_count": null,
   "metadata": {},
   "outputs": [],
   "source": []
  },
  {
   "cell_type": "code",
   "execution_count": null,
   "metadata": {},
   "outputs": [],
   "source": []
  }
 ],
 "metadata": {
  "kernelspec": {
   "display_name": "Python 3.7.6 64-bit ('mds': conda)",
   "language": "python",
   "name": "python37664bitmdsconda8fcfe9b6c3484566880235af88776fef"
  }
 },
 "nbformat": 4,
 "nbformat_minor": 4
}
