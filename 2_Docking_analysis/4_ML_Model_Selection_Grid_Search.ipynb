{
 "cells": [
  {
   "cell_type": "markdown",
   "metadata": {},
   "source": [
    "# FXa: Model Selection"
   ]
  },
  {
   "cell_type": "code",
   "execution_count": 1,
   "metadata": {},
   "outputs": [],
   "source": [
    "import pandas as pd\n",
    "import numpy as np\n",
    "import glob, sys, os\n",
    "sys.path.append('..')"
   ]
  },
  {
   "cell_type": "code",
   "execution_count": 2,
   "metadata": {},
   "outputs": [],
   "source": [
    "from modules.plotting_metrics import PlotMetric\n",
    "import matplotlib.pyplot as plt\n",
    "import seaborn as sns\n",
    "sns.set(style='white', context='talk', font_scale=0.8)"
   ]
  },
  {
   "cell_type": "code",
   "execution_count": 3,
   "metadata": {},
   "outputs": [
    {
     "data": {
      "text/plain": [
       "40"
      ]
     },
     "execution_count": 3,
     "metadata": {},
     "output_type": "execute_result"
    }
   ],
   "source": [
    "file_name = './df_DkSc_results_COCRYS_DEKOIS_DUD.pkl'\n",
    "X_merged_dksc = pd.read_pickle(file_name)\n",
    "# Extract activity column\n",
    "y_true_merged = X_merged_dksc['activity']\n",
    "# Drop column from merged_dkksc\n",
    "X_merged_dksc = X_merged_dksc.drop('activity', axis=1)\n",
    "X_merged_dksc.shape\n",
    "y_true_merged.loc['DEKOIS'].sum()"
   ]
  },
  {
   "cell_type": "markdown",
   "metadata": {},
   "source": [
    "### Timeout Decorator"
   ]
  },
  {
   "cell_type": "code",
   "execution_count": 4,
   "metadata": {},
   "outputs": [],
   "source": [
    "import signal\n",
    "from functools import wraps\n",
    "\n",
    "def timeout(n_seconds=300):\n",
    "    '''Stops a function execution after n seconds'''\n",
    "    def decorator(func):\n",
    "        @wraps(func)\n",
    "        def wrapper(*args, **kwargs):\n",
    "            # Set alarm for n seconds\n",
    "            signal.alarm(n_seconds)\n",
    "            try:\n",
    "                # Call decorated func\n",
    "                return func(*args, **kwargs)\n",
    "#             except TimeoutError as e:\n",
    "                print(f'Execution finished after {n_seconds}:', e)\n",
    "            finally:\n",
    "                # Cancel Alarm\n",
    "                signal.alarm(0)\n",
    "        return wrapper\n",
    "    return decorator"
   ]
  },
  {
   "cell_type": "markdown",
   "metadata": {},
   "source": [
    "## Scaffold Splitting"
   ]
  },
  {
   "cell_type": "code",
   "execution_count": 5,
   "metadata": {},
   "outputs": [],
   "source": [
    "#*************************************************\n",
    "# Functions to compute stratify scaffold splitting\n",
    "#*************************************************\n",
    "from scaffold_splitter import train_test_scaffold_split"
   ]
  },
  {
   "cell_type": "code",
   "execution_count": 6,
   "metadata": {},
   "outputs": [],
   "source": [
    "# Compute or load the dataframe containing the Generic Murcko Scaffolds\n",
    "file = './df_COCRYS_DUD_DEKOIS_Murcko_Scaffolds_SMILES.obj'\n",
    "\n",
    "df_scff_murcko = pd.read_pickle(file)"
   ]
  },
  {
   "cell_type": "markdown",
   "metadata": {},
   "source": [
    "## Train/test on the same dataset "
   ]
  },
  {
   "cell_type": "markdown",
   "metadata": {},
   "source": [
    "### Learning Curves"
   ]
  },
  {
   "cell_type": "code",
   "execution_count": 96,
   "metadata": {},
   "outputs": [],
   "source": [
    "from sklearn.model_selection import GridSearchCV, RandomizedSearchCV, train_test_split, cross_val_score\n",
    "from sklearn.preprocessing import StandardScaler\n",
    "from sklearn.metrics import roc_auc_score\n",
    "from sklearn.pipeline import Pipeline\n",
    "from sklearn.model_selection import learning_curve"
   ]
  },
  {
   "cell_type": "code",
   "execution_count": 8,
   "metadata": {},
   "outputs": [],
   "source": [
    "def plot_learning_curves(estimator, X, y, title, ylim=[0.5,1], axes=None,\n",
    "                         cv=3, train_sizes=np.linspace(0.1, 1.0, 10), \n",
    "                         scoring='roc_auc', n_jobs=4):\n",
    "    '''\n",
    "    Plot estimator performance on the training and validation\n",
    "    sets as a function of the training set size.\n",
    "\n",
    "    Parameters\n",
    "    ----------\n",
    "    estimator: sklearn estimator object type\n",
    "       Object type that implements the \"fit\" and \"predict method\"\n",
    "\n",
    "    X: array-like, shape (m_samples, n_features)\n",
    "        Training array with m_samples and n_features.\n",
    "    y: array-like, shape (m_samples)\n",
    "        Target array relative to X with m labels.\n",
    "    axes: array of 3 axes\n",
    "        matplotlib axes array to append the generated plot\n",
    "    ylim: array\n",
    "       \n",
    "    '''\n",
    "    if axes == None:\n",
    "        _, axes = plt.subplots(1, 1, figsize=(5, 5))\n",
    "        \n",
    "    axes.set(title=title, ylim=ylim, xlabel='Training examples', ylabel=f'Metric: {scoring}')\n",
    "    # Use learning_curve function from sklearn\n",
    "    train_sizes, train_scores, test_scores, fit_times, _ = \\\n",
    "       learning_curve(estimator, X, y, scoring=scoring, return_times = True,\n",
    "                      cv=cv, n_jobs=n_jobs, train_sizes=train_sizes)\n",
    "    # Compute useful metrics\n",
    "    train_scores_mean = np.mean(train_scores, axis=1)\n",
    "    train_scores_std = np.std(train_scores, axis=1)\n",
    "    test_scores_mean = np.mean(test_scores, axis=1)\n",
    "    test_scores_std = np.std(test_scores, axis=1)\n",
    "#     fit_times_mean = np.mean(fit_times, axis=1)\n",
    "#     fit_times_std = np.std(fit_times, axis=1)\n",
    "    # Plot the learning curve\n",
    "    axes.grid()\n",
    "    axes.fill_between(train_sizes, train_scores_mean - train_scores_std,\n",
    "                        train_scores_mean + train_scores_std, alpha=0.1, color='r')\n",
    "    axes.fill_between(train_sizes, test_scores_mean - test_scores_std,\n",
    "                        test_scores_mean + test_scores_std, alpha=0.1, color='g')\n",
    "    axes.plot(train_sizes, train_scores_mean, 'o-', color='r',\n",
    "                label='Train score')\n",
    "    axes.plot(train_sizes, test_scores_mean, 'o-', color='g',\n",
    "                label='Cross-validation score')\n",
    "    axes.legend(loc='lower right')\n",
    "    "
   ]
  },
  {
   "cell_type": "markdown",
   "metadata": {},
   "source": [
    "### Hyperparameters tunning: Grid Search"
   ]
  },
  {
   "cell_type": "code",
   "execution_count": 93,
   "metadata": {},
   "outputs": [],
   "source": [
    "def run_grid_search(estimator, X_train, y_train, X_test, y_test, hyperparams,  cv_value=5, \n",
    "                    scoring='roc_auc', splitting='random', std_scale=False,\n",
    "                   randomGS = True, n_iter=10):\n",
    "    # Format the hyperparms\n",
    "    hyperparams_dict = {'estimator__' + key: val for key, val in hyperparams.items()}\n",
    "    \n",
    "    if std_scale:\n",
    "        # Create the Pipe\n",
    "        scaler = StandardScaler()\n",
    "        pipe = Pipeline([('scaler', scaler),\n",
    "                         ('estimator', estimator)])\n",
    "    else:\n",
    "        pipe = estimator\n",
    "    \n",
    "    # Do Grid Search\n",
    "    if randomGS:\n",
    "        gs = RandomizedSearchCV(estimator = pipe,  param_distributions = hyperparams,\n",
    "                     cv = cv_value, scoring = scoring, n_jobs = 6, refit = True, n_iter=n_iter)\n",
    "    else:\n",
    "        gs = GridSearchCV(estimator = pipe, param_grid = hyperparams,\n",
    "                     cv = cv_value, scoring = scoring, n_jobs = 6, refit = Tirue)\n",
    "    # Train the model\n",
    "    gs.fit(X_train, y_train) \n",
    "\n",
    "    # Predictions\n",
    "    y_train_predict = gs.predict_proba(X_train)\n",
    "    y_test_predict = gs.predict_proba(X_test)\n",
    "    \n",
    "    # Values to return\n",
    "    n_train_mols    = y_train.shape[0]\n",
    "    n_train_actives = y_train.sum()\n",
    "    n_test_mols     = y_test.shape[0]\n",
    "    n_test_actives  = y_test.sum()\n",
    "    mean_cv_roc     = gs.best_score_\n",
    "    train_roc       = roc_auc_score(y_train, y_train_predict[:, 1])\n",
    "    test_roc        = roc_auc_score(y_test, y_test_predict[:, 1])\n",
    "    best_params     = gs.best_params_\n",
    "\n",
    "    # Print some values\n",
    "    print(f'No. of molecules in train set: {n_train_mols}, with {n_train_actives} actives.')\n",
    "    print(f'No. of molecules in test set: {n_test_mols}, with {n_test_actives} actives.')\n",
    "    print('')\n",
    "    print('*'*10, 'GRID SEARCH RESULTS', '*'*10)\n",
    "    print('- Mean CV ROC-AUC:\\t{:.3f}'.format(mean_cv_roc))\n",
    "    print('- Train ROC-AUC:  \\t{:.3f}'.format(train_roc))\n",
    "    print('- Test ROC-AUC:   \\t{:.3f}'.format(test_roc))\n",
    "    print('- Best hyperparameters', best_params)\n",
    "    print('**'*21)\n",
    "    print('')\n",
    "    \n",
    "    return [n_train_mols, n_train_actives, n_test_mols, n_test_actives,\n",
    "            mean_cv_roc, train_roc, test_roc, best_params]"
   ]
  },
  {
   "cell_type": "markdown",
   "metadata": {},
   "source": [
    "### Function to report the Best Conformation's ROC-AUC for a given subset of samples"
   ]
  },
  {
   "cell_type": "code",
   "execution_count": 10,
   "metadata": {},
   "outputs": [],
   "source": [
    "#************************************************************************\n",
    "# Returns the best conformatio's ROC-AUC value of a given subset X and y\n",
    "#************************************************************************\n",
    "\n",
    "def get_roc_auc_DkSc(X_train, y_train, X_test, y_test, verbose=True):\n",
    "    roc_auc_train = X_train.apply(\n",
    "        lambda x: roc_auc_score(y_true= y_train, y_score= -x), axis=0)\n",
    "    roc_auc_test = X_test.apply(\n",
    "        lambda x: roc_auc_score(y_true= y_test, y_score= -x), axis=0)\n",
    "    # Values to return\n",
    "    train_best_roc = roc_auc_train.max()\n",
    "    train_median   = roc_auc_train.median()\n",
    "    train_mean     = roc_auc_train.mean()\n",
    "    test_best_roc = roc_auc_test.max()\n",
    "    test_median   = roc_auc_test.median()\n",
    "    test_mean     = roc_auc_test.mean()\n",
    "    \n",
    "    if verbose:\n",
    "        print(\"***** Best Conformation's ROC-AUC using docking scores *****\")\n",
    "        \n",
    "        print(\"> Train best conf. ROC-AUC: {:.3f}\".format(train_best_roc) +\n",
    "              \" \\t> median: {:.3f}\".format(train_median) +\n",
    "              ', mean: {:.3f}'.format(train_mean))\n",
    "        \n",
    "        print(\"> Test best conf. ROC-AUC: {:.3f}\".format(test_best_roc) +\n",
    "              \" \\t> median: {:.3f}\".format(test_median) +\n",
    "              ', mean: {:.3f}'.format(test_mean))\n",
    "        print('**'*32)\n",
    "    # return a list of results to capture by the  wrapper function\n",
    "    return [train_best_roc, train_median, train_mean,\n",
    "            test_best_roc, test_median, test_mean]\n",
    "        "
   ]
  },
  {
   "cell_type": "code",
   "execution_count": null,
   "metadata": {},
   "outputs": [],
   "source": []
  },
  {
   "cell_type": "code",
   "execution_count": 11,
   "metadata": {},
   "outputs": [],
   "source": [
    "#******************************************\n",
    "# Decorator functions to capture GS results\n",
    "#******************************************\n",
    "from functools import wraps\n",
    "\n",
    "def capture_GS_results(results_dict=None, capture=True):\n",
    "    def decorator(func):\n",
    "        @wraps(func)\n",
    "        def wrapper(*args, **kwargs):\n",
    "            if results_dict != None and capture:\n",
    "                results = func(*args, **kwargs)\n",
    "                # Create a key with the first four values\n",
    "                key = '_'.join(results[:4])\n",
    "                # Append results to the results dictionary\n",
    "                results_dict[key] = results\n",
    "            else:\n",
    "                return func(*args, **kwargs)\n",
    "        return wrapper\n",
    "    return decorator\n",
    "            \n",
    "#******************************************************\n",
    "# Dictionary to capture GS results using the decorator \n",
    "#******************************************************\n",
    "results_dict = {}\n",
    "\n",
    "#******************************************************\n",
    "# Function to Split and run Grid Search\n",
    "#******************************************************\n",
    "@capture_GS_results(results_dict)\n",
    "def split_and_gs(train_name, test_name, estimator_name,\n",
    "                 X, y, estimator, hyperparams, splitting='random', \n",
    "                 test_size=0.25, scaffold_series=None, **kwargs):\n",
    "    '''Given a X and y sets, a sklean estimator and an splitting method, \n",
    "    performs Grid Search CV using the parsed hyperparams'''\n",
    "    #**************\n",
    "    # Do the split\n",
    "    #**************\n",
    "    if splitting == 'scaffold':\n",
    "        X_train, X_test, y_train, y_test = \\\n",
    "            train_test_scaffold_split(X, y, scaffold_series = scaffold_series,\n",
    "                test_size=test_size, stratify=y)\n",
    "    elif splitting == 'random':\n",
    "        X_train, X_test, y_train, y_test = \\\n",
    "            train_test_split(X, y, test_size=test_size, stratify=y)\n",
    "        \n",
    "    # Verbose\n",
    "    print(f'{estimator_name} => Train: {train_name}; Test: {test_name}; split: {splitting}')\n",
    "    \n",
    "    # Function to run Grid Search\n",
    "    #----------------------------\n",
    "    gs_results = run_grid_search(estimator, \n",
    "                    X_train, y_train, X_test, y_test, \n",
    "                    hyperparams = hyperparams,  **kwargs)\n",
    "\n",
    "    # Function to extract ROC results from DkSc values \n",
    "    #-------------------------------------------------\n",
    "    dksc_results = get_roc_auc_DkSc(X_train, y_train, X_test, y_test)\n",
    "    \n",
    "    # Return both list of results to captured by the decorador function\n",
    "    return [train_name, test_name, estimator_name, splitting] + gs_results + dksc_results"
   ]
  },
  {
   "cell_type": "code",
   "execution_count": 12,
   "metadata": {},
   "outputs": [
    {
     "data": {
      "text/plain": [
       "{}"
      ]
     },
     "execution_count": 12,
     "metadata": {},
     "output_type": "execute_result"
    }
   ],
   "source": [
    "results_dict"
   ]
  },
  {
   "cell_type": "markdown",
   "metadata": {},
   "source": [
    "#  Hyperparameter Tunning: Grid Search\n",
    "<h2 style='background-color: #F9E5AB; padding: 5px;'>\n",
    "    Train-Test with DEKOIS Library\n",
    "</h2>\n",
    "<div style='background-color: #FE8460; min-height: 5px'></div>"
   ]
  },
  {
   "cell_type": "code",
   "execution_count": 13,
   "metadata": {},
   "outputs": [],
   "source": [
    "#### library = 'DEKOIS'\n",
    "library = 'DEKOIS'\n",
    "\n",
    "# Train and test over DEKOIS\n",
    "X = X_merged_dksc.loc[library]\n",
    "y = y_true_merged.loc[library]\n",
    "scaffold_series = df_scff_murcko['scff_generic'].loc[library]"
   ]
  },
  {
   "cell_type": "markdown",
   "metadata": {
    "cell_style": "center"
   },
   "source": [
    "<h3 style='color: #F84122; padding: 0px;; margin: 0px'>GS: Linear SVM </h3>\n",
    "<b>DEKOIS  - Random and Stratified Scaffold Splitting</b>"
   ]
  },
  {
   "cell_type": "code",
   "execution_count": 14,
   "metadata": {
    "cell_style": "split"
   },
   "outputs": [
    {
     "name": "stdout",
     "output_type": "stream",
     "text": [
      "LinearSVC => Train: DEKOIS; Test: DEKOIS; split: random\n",
      "No. of molecules in train set: 915, with 30 actives.\n",
      "No. of molecules in test set: 306, with 10 actives.\n",
      "\n",
      "********** GRID SEARCH RESULTS **********\n",
      "- Mean CV ROC-AUC:\t0.900\n",
      "- Train ROC-AUC:  \t0.943\n",
      "- Test ROC-AUC:   \t0.833\n",
      "- Best hyperparameters {'C': 0.01}\n",
      "******************************************\n",
      "\n",
      "***** Best Conformation's ROC-AUC using docking scores *****\n",
      "> Train best conf. ROC-AUC: 0.910 \t> median: 0.844, mean: 0.842\n",
      "> Test best conf. ROC-AUC: 0.892 \t> median: 0.801, mean: 0.799\n",
      "****************************************************************\n",
      "CPU times: user 1.05 s, sys: 447 ms, total: 1.49 s\n",
      "Wall time: 6.24 s\n"
     ]
    }
   ],
   "source": [
    "%%time\n",
    "from sklearn.svm import SVC\n",
    "\n",
    "estimator_name = 'LinearSVC'\n",
    "estimator = SVC(kernel = 'linear', probability=True)\n",
    "hyperparams = {'C': np.geomspace(1e-8, 1e4, 7)}\n",
    "\n",
    "# RANDOM Train test splitting\n",
    "split_and_gs(library, library, estimator_name,\n",
    "             X, y, estimator, hyperparams, \n",
    "             splitting='random', test_size=0.25, \n",
    "             scaffold_series=None)"
   ]
  },
  {
   "cell_type": "code",
   "execution_count": 15,
   "metadata": {
    "cell_style": "split"
   },
   "outputs": [
    {
     "name": "stdout",
     "output_type": "stream",
     "text": [
      "LinearSVC => Train: DEKOIS; Test: DEKOIS; split: scaffold\n",
      "No. of molecules in train set: 885, with 30 actives.\n",
      "No. of molecules in test set: 336, with 10 actives.\n",
      "\n",
      "********** GRID SEARCH RESULTS **********\n",
      "- Mean CV ROC-AUC:\t0.847\n",
      "- Train ROC-AUC:  \t0.875\n",
      "- Test ROC-AUC:   \t0.956\n",
      "- Best hyperparameters {'C': 1e-08}\n",
      "******************************************\n",
      "\n",
      "***** Best Conformation's ROC-AUC using docking scores *****\n",
      "> Train best conf. ROC-AUC: 0.884 \t> median: 0.816, mean: 0.812\n",
      "> Test best conf. ROC-AUC: 0.965 \t> median: 0.897, mean: 0.893\n",
      "****************************************************************\n",
      "CPU times: user 636 ms, sys: 93.5 ms, total: 729 ms\n",
      "Wall time: 1.2 s\n"
     ]
    }
   ],
   "source": [
    "%%time\n",
    "# from sklearn.svm import SVC\n",
    "\n",
    "estimator_name = 'LinearSVC'\n",
    "estimator = SVC(kernel = 'linear', probability=True)\n",
    "hyperparams = {'C': np.geomspace(1e-8, 1e4, 7)}\n",
    "\n",
    "# SCAFFOLD Train test splitting\n",
    "split_and_gs(library, library, estimator_name,\n",
    "              X, y, estimator, hyperparams, \n",
    "             splitting='scaffold', test_size=0.25, \n",
    "             scaffold_series=scaffold_series)"
   ]
  },
  {
   "cell_type": "markdown",
   "metadata": {},
   "source": [
    "<h3 style='color: #F84122; padding: 0px;; margin: 0px'>GS: Radial Basis Function SVM </h3>\n",
    "<b>DEKOIS  - Random and Stratified Scaffold Splitting</b>"
   ]
  },
  {
   "cell_type": "code",
   "execution_count": 16,
   "metadata": {
    "cell_style": "split"
   },
   "outputs": [
    {
     "name": "stdout",
     "output_type": "stream",
     "text": [
      "rbfSVC => Train: DEKOIS; Test: DEKOIS; split: random\n",
      "No. of molecules in train set: 915, with 30 actives.\n",
      "No. of molecules in test set: 306, with 10 actives.\n",
      "\n",
      "********** GRID SEARCH RESULTS **********\n",
      "- Mean CV ROC-AUC:\t0.879\n",
      "- Train ROC-AUC:  \t0.888\n",
      "- Test ROC-AUC:   \t0.914\n",
      "- Best hyperparameters {'C': 1e-08, 'gamma': 0.0001}\n",
      "******************************************\n",
      "\n",
      "***** Best Conformation's ROC-AUC using docking scores *****\n",
      "> Train best conf. ROC-AUC: 0.887 \t> median: 0.830, mean: 0.828\n",
      "> Test best conf. ROC-AUC: 0.941 \t> median: 0.853, mean: 0.841\n",
      "****************************************************************\n",
      "CPU times: user 1.57 s, sys: 407 ms, total: 1.98 s\n",
      "Wall time: 11.5 s\n"
     ]
    }
   ],
   "source": [
    "%%time\n",
    "estimator_name = 'rbfSVC'\n",
    "estimator = SVC(kernel = 'rbf', probability=True)\n",
    "hyperparams = {'C': np.geomspace(1e-8, 1e4, 7), \n",
    "               'gamma': np.geomspace(1e-8, 1e4, 7)}\n",
    "\n",
    "# RANDOM Train test splitting\n",
    "split_and_gs(library, library, estimator_name,\n",
    "             X, y, estimator, hyperparams, \n",
    "             splitting='random', test_size=0.25, \n",
    "             scaffold_series=None)"
   ]
  },
  {
   "cell_type": "code",
   "execution_count": 17,
   "metadata": {
    "cell_style": "split"
   },
   "outputs": [
    {
     "name": "stdout",
     "output_type": "stream",
     "text": [
      "rbfSVC => Train: DEKOIS; Test: DEKOIS; split: scaffold\n",
      "No. of molecules in train set: 885, with 30 actives.\n",
      "No. of molecules in test set: 336, with 10 actives.\n",
      "\n",
      "********** GRID SEARCH RESULTS **********\n",
      "- Mean CV ROC-AUC:\t0.846\n",
      "- Train ROC-AUC:  \t0.875\n",
      "- Test ROC-AUC:   \t0.953\n",
      "- Best hyperparameters {'C': 1e-08, 'gamma': 1e-06}\n",
      "******************************************\n",
      "\n",
      "***** Best Conformation's ROC-AUC using docking scores *****\n",
      "> Train best conf. ROC-AUC: 0.884 \t> median: 0.816, mean: 0.812\n",
      "> Test best conf. ROC-AUC: 0.965 \t> median: 0.897, mean: 0.893\n",
      "****************************************************************\n",
      "CPU times: user 1.69 s, sys: 313 ms, total: 2 s\n",
      "Wall time: 10.7 s\n"
     ]
    }
   ],
   "source": [
    "%%time\n",
    "estimator_name = 'rbfSVC'\n",
    "estimator = SVC(kernel = 'rbf', probability=True)\n",
    "hyperparams = {'C': np.geomspace(1e-8, 1e4, 7), \n",
    "               'gamma': np.geomspace(1e-8, 1e4, 7)}\n",
    "\n",
    "# SCAFFOLD Train test splitting\n",
    "split_and_gs(library, library, estimator_name,\n",
    "             X, y, estimator, hyperparams, \n",
    "             splitting='scaffold', test_size=0.25, \n",
    "             scaffold_series=scaffold_series)"
   ]
  },
  {
   "cell_type": "markdown",
   "metadata": {},
   "source": [
    "<h3 style='color: #F84122; padding: 0px;; margin: 0px'> GS: Logistic Regression </h3>\n",
    "<b>DEKOIS  - Random and Stratified Scaffold Splitting</b>"
   ]
  },
  {
   "cell_type": "code",
   "execution_count": 18,
   "metadata": {
    "cell_style": "split"
   },
   "outputs": [
    {
     "name": "stdout",
     "output_type": "stream",
     "text": [
      "LogReg => Train: DEKOIS; Test: DEKOIS; split: random\n",
      "No. of molecules in train set: 915, with 30 actives.\n",
      "No. of molecules in test set: 306, with 10 actives.\n",
      "\n",
      "********** GRID SEARCH RESULTS **********\n",
      "- Mean CV ROC-AUC:\t0.886\n",
      "- Train ROC-AUC:  \t0.912\n",
      "- Test ROC-AUC:   \t0.918\n",
      "- Best hyperparameters {'C': 0.01, 'penalty': 'l2', 'solver': 'lbfgs'}\n",
      "******************************************\n",
      "\n",
      "***** Best Conformation's ROC-AUC using docking scores *****\n",
      "> Train best conf. ROC-AUC: 0.903 \t> median: 0.834, mean: 0.830\n",
      "> Test best conf. ROC-AUC: 0.944 \t> median: 0.834, mean: 0.832\n",
      "****************************************************************\n",
      "CPU times: user 1.5 s, sys: 723 ms, total: 2.22 s\n",
      "Wall time: 10 s\n"
     ]
    }
   ],
   "source": [
    "%%time\n",
    "from sklearn.linear_model import LogisticRegression\n",
    "\n",
    "estimator_name = 'LogReg'\n",
    "estimator = LogisticRegression(max_iter=150)\n",
    "hyperparams = {'C': np.geomspace(1e-8, 1e4, 7), \n",
    "               'penalty': ['l1', 'l2'], \n",
    "               'solver': ['lbfgs', 'liblinear']}\n",
    "\n",
    "# RANDOM Train test splitting\n",
    "split_and_gs(library, library, estimator_name,\n",
    "             X, y, estimator, hyperparams, \n",
    "             splitting='random', test_size=0.25, \n",
    "             scaffold_series=None)"
   ]
  },
  {
   "cell_type": "code",
   "execution_count": 19,
   "metadata": {
    "cell_style": "split"
   },
   "outputs": [
    {
     "name": "stdout",
     "output_type": "stream",
     "text": [
      "LogReg => Train: DEKOIS; Test: DEKOIS; split: scaffold\n",
      "No. of molecules in train set: 885, with 30 actives.\n",
      "No. of molecules in test set: 336, with 10 actives.\n",
      "\n",
      "********** GRID SEARCH RESULTS **********\n",
      "- Mean CV ROC-AUC:\t0.863\n",
      "- Train ROC-AUC:  \t0.869\n",
      "- Test ROC-AUC:   \t0.953\n",
      "- Best hyperparameters {'C': 1e-08, 'penalty': 'l2', 'solver': 'lbfgs'}\n",
      "******************************************\n",
      "\n",
      "***** Best Conformation's ROC-AUC using docking scores *****\n",
      "> Train best conf. ROC-AUC: 0.884 \t> median: 0.816, mean: 0.812\n",
      "> Test best conf. ROC-AUC: 0.965 \t> median: 0.897, mean: 0.893\n",
      "****************************************************************\n",
      "CPU times: user 1.46 s, sys: 579 ms, total: 2.04 s\n",
      "Wall time: 8.55 s\n"
     ]
    }
   ],
   "source": [
    "%%time\n",
    "# from sklearn.linear_model import LogisticRegression\n",
    "\n",
    "estimator_name = 'LogReg'\n",
    "estimator = LogisticRegression(max_iter=150)\n",
    "hyperparams = {'C': np.geomspace(1e-8, 1e4, 7), \n",
    "               'penalty': ['l1', 'l2'], \n",
    "               'solver': ['lbfgs', 'liblinear']}\n",
    "\n",
    "# SCAFFOLD Train test splitting\n",
    "split_and_gs(library, library, estimator_name,\n",
    "             X, y, estimator, hyperparams,\n",
    "             splitting='scaffold', test_size=0.25, \n",
    "             scaffold_series=scaffold_series)"
   ]
  },
  {
   "cell_type": "markdown",
   "metadata": {},
   "source": [
    "<h3 style='color: #F84122; padding: 0px;; margin: 0px'>GS: K-Neighbors Classifier</h3>\n",
    "<b>DEKOIS  - Random and Stratified Scaffold Splitting</b>"
   ]
  },
  {
   "cell_type": "code",
   "execution_count": 20,
   "metadata": {
    "cell_style": "split"
   },
   "outputs": [
    {
     "name": "stdout",
     "output_type": "stream",
     "text": [
      "kNN => Train: DEKOIS; Test: DEKOIS; split: random\n",
      "No. of molecules in train set: 915, with 30 actives.\n",
      "No. of molecules in test set: 306, with 10 actives.\n",
      "\n",
      "********** GRID SEARCH RESULTS **********\n",
      "- Mean CV ROC-AUC:\t0.883\n",
      "- Train ROC-AUC:  \t0.891\n",
      "- Test ROC-AUC:   \t0.849\n",
      "- Best hyperparameters {'n_neighbors': 225, 'p': 1}\n",
      "******************************************\n",
      "\n",
      "***** Best Conformation's ROC-AUC using docking scores *****\n",
      "> Train best conf. ROC-AUC: 0.909 \t> median: 0.844, mean: 0.839\n",
      "> Test best conf. ROC-AUC: 0.934 \t> median: 0.807, mean: 0.807\n",
      "****************************************************************\n",
      "CPU times: user 896 ms, sys: 142 ms, total: 1.04 s\n",
      "Wall time: 1.87 s\n"
     ]
    }
   ],
   "source": [
    "%%time\n",
    "from sklearn.neighbors import KNeighborsClassifier \n",
    "\n",
    "estimator_name = 'kNN'\n",
    "estimator = KNeighborsClassifier()\n",
    "hyperparams = {'n_neighbors': [25, 55, 125, 225], \n",
    "               'p': [1, 2]\n",
    "             }\n",
    "\n",
    "# RANDOM Train test splitting\n",
    "split_and_gs(library, library, estimator_name,\n",
    "             X, y, estimator, hyperparams,\n",
    "             splitting='random', test_size=0.25, \n",
    "             scaffold_series=None)"
   ]
  },
  {
   "cell_type": "code",
   "execution_count": 21,
   "metadata": {
    "cell_style": "split"
   },
   "outputs": [
    {
     "name": "stdout",
     "output_type": "stream",
     "text": [
      "kNN => Train: DEKOIS; Test: DEKOIS; split: scaffold\n",
      "No. of molecules in train set: 885, with 30 actives.\n",
      "No. of molecules in test set: 336, with 10 actives.\n",
      "\n",
      "********** GRID SEARCH RESULTS **********\n",
      "- Mean CV ROC-AUC:\t0.839\n",
      "- Train ROC-AUC:  \t0.871\n",
      "- Test ROC-AUC:   \t0.953\n",
      "- Best hyperparameters {'n_neighbors': 225, 'p': 2}\n",
      "******************************************\n",
      "\n",
      "***** Best Conformation's ROC-AUC using docking scores *****\n",
      "> Train best conf. ROC-AUC: 0.884 \t> median: 0.816, mean: 0.812\n",
      "> Test best conf. ROC-AUC: 0.965 \t> median: 0.897, mean: 0.893\n",
      "****************************************************************\n",
      "CPU times: user 826 ms, sys: 101 ms, total: 927 ms\n",
      "Wall time: 1.31 s\n"
     ]
    }
   ],
   "source": [
    "%%time\n",
    "from sklearn.neighbors import KNeighborsClassifier \n",
    "\n",
    "estimator_name = 'kNN'\n",
    "estimator = KNeighborsClassifier()\n",
    "hyperparams = {'n_neighbors': [25, 55, 125, 225], \n",
    "               'p': [1, 2]\n",
    "             }\n",
    "\n",
    "# SCAFFOLD Train test splitting\n",
    "split_and_gs(library, library, estimator_name,\n",
    "             X, y, estimator, hyperparams,\n",
    "             splitting='scaffold', test_size=0.25, \n",
    "             scaffold_series=scaffold_series)"
   ]
  },
  {
   "cell_type": "markdown",
   "metadata": {},
   "source": [
    "<h3 style='color: #F84122; padding: 0px;; margin: 0px'>GS: Decision Tree Classifier</h3>\n",
    "<b>DEKOIS  - Random and Stratified Scaffold Splitting</b>"
   ]
  },
  {
   "cell_type": "code",
   "execution_count": 22,
   "metadata": {
    "cell_style": "split"
   },
   "outputs": [
    {
     "name": "stdout",
     "output_type": "stream",
     "text": [
      "DTree => Train: DEKOIS; Test: DEKOIS; split: random\n",
      "No. of molecules in train set: 915, with 30 actives.\n",
      "No. of molecules in test set: 306, with 10 actives.\n",
      "\n",
      "********** GRID SEARCH RESULTS **********\n",
      "- Mean CV ROC-AUC:\t0.816\n",
      "- Train ROC-AUC:  \t0.902\n",
      "- Test ROC-AUC:   \t0.807\n",
      "- Best hyperparameters {'criterion': 'gini', 'max_depth': 5, 'max_features': 'log2', 'min_samples_split': 0.3}\n",
      "******************************************\n",
      "\n",
      "***** Best Conformation's ROC-AUC using docking scores *****\n",
      "> Train best conf. ROC-AUC: 0.896 \t> median: 0.829, mean: 0.822\n",
      "> Test best conf. ROC-AUC: 0.949 \t> median: 0.861, mean: 0.857\n",
      "****************************************************************\n",
      "CPU times: user 1.43 s, sys: 363 ms, total: 1.79 s\n",
      "Wall time: 2.51 s\n"
     ]
    }
   ],
   "source": [
    "%%time\n",
    "from sklearn.tree import DecisionTreeClassifier\n",
    "\n",
    "estimator_name = 'DTree'\n",
    "estimator = DecisionTreeClassifier(splitter='best')\n",
    "hyperparams = {'criterion': ['gini', 'entropy'], \n",
    "               'max_depth': [2, 3, 5],\n",
    "               'min_samples_split': [0.2, 0.25, 0.3],\n",
    "               'max_features': [None, 'sqrt', 'log2']}\n",
    "\n",
    "# RANDOM Train test splitting\n",
    "split_and_gs(library, library, estimator_name,\n",
    "             X, y, estimator, hyperparams,\n",
    "             splitting='random', test_size=0.25, \n",
    "             scaffold_series=None)"
   ]
  },
  {
   "cell_type": "code",
   "execution_count": 23,
   "metadata": {
    "cell_style": "split"
   },
   "outputs": [
    {
     "name": "stdout",
     "output_type": "stream",
     "text": [
      "DTree => Train: DEKOIS; Test: DEKOIS; split: scaffold\n",
      "No. of molecules in train set: 885, with 30 actives.\n",
      "No. of molecules in test set: 336, with 10 actives.\n",
      "\n",
      "********** GRID SEARCH RESULTS **********\n",
      "- Mean CV ROC-AUC:\t0.851\n",
      "- Train ROC-AUC:  \t0.848\n",
      "- Test ROC-AUC:   \t0.759\n",
      "- Best hyperparameters {'criterion': 'gini', 'max_depth': 5, 'max_features': 'sqrt', 'min_samples_split': 0.25}\n",
      "******************************************\n",
      "\n",
      "***** Best Conformation's ROC-AUC using docking scores *****\n",
      "> Train best conf. ROC-AUC: 0.884 \t> median: 0.816, mean: 0.812\n",
      "> Test best conf. ROC-AUC: 0.965 \t> median: 0.897, mean: 0.893\n",
      "****************************************************************\n",
      "CPU times: user 1.15 s, sys: 223 ms, total: 1.38 s\n",
      "Wall time: 1.59 s\n"
     ]
    }
   ],
   "source": [
    "%%time\n",
    "from sklearn.tree import DecisionTreeClassifier\n",
    "\n",
    "estimator_name = 'DTree'\n",
    "estimator = DecisionTreeClassifier(splitter='best')\n",
    "hyperparams = {'criterion': ['gini', 'entropy'], \n",
    "               'max_depth': [2, 3, 5],\n",
    "               'min_samples_split': [0.2, 0.25, 0.3],\n",
    "               'max_features': [None, 'sqrt', 'log2']}\n",
    "\n",
    "# SCAFFOLD Train test splitting\n",
    "split_and_gs(library, library, estimator_name,\n",
    "             X, y, estimator, hyperparams,\n",
    "             splitting='scaffold', test_size=0.25, \n",
    "             scaffold_series=scaffold_series)"
   ]
  },
  {
   "cell_type": "markdown",
   "metadata": {},
   "source": [
    "<h3 style='color: #F84122; padding: 0px;; margin: 0px'>GS: Bagging Classifier (k-NN as base estimator) </h3>\n",
    "<b>DEKOIS  - Random and Stratified Scaffold Splitting</b>"
   ]
  },
  {
   "cell_type": "code",
   "execution_count": 24,
   "metadata": {
    "cell_style": "split"
   },
   "outputs": [
    {
     "name": "stdout",
     "output_type": "stream",
     "text": [
      "CPU times: user 87.4 ms, sys: 62.4 ms, total: 150 ms\n",
      "Wall time: 462 ms\n"
     ]
    }
   ],
   "source": [
    "%%time\n",
    "from sklearn.ensemble import BaggingClassifier\n",
    "\n",
    "estimator_name = 'BagClf-kNN'\n",
    "knn = KNeighborsClassifier(n_neighbors=125, p=1, \n",
    "                           weights='distance')\n",
    "estimator = BaggingClassifier(base_estimator=knn, \n",
    "                              n_jobs=6, oob_score=True)\n",
    "\n",
    "hyperparams = {'n_estimators': [300]}\n",
    "\n",
    "# RANDOM Train test splitting\n",
    "# split_and_gs(X, y, estimator, hyperparams, \n",
    "#              splitting='random', test_size=0.25, \n",
    "#              scaffold_series=None)"
   ]
  },
  {
   "cell_type": "code",
   "execution_count": 25,
   "metadata": {
    "cell_style": "split"
   },
   "outputs": [
    {
     "name": "stdout",
     "output_type": "stream",
     "text": [
      "CPU times: user 38 µs, sys: 9 µs, total: 47 µs\n",
      "Wall time: 54.4 µs\n"
     ]
    }
   ],
   "source": [
    "%%time\n",
    "# from sklearn.ensemble import BaggingClassifier\n",
    "\n",
    "estimator_name = 'BagClf-kNN'\n",
    "knn = KNeighborsClassifier(n_neighbors=125, p=1, \n",
    "                           weights='distance')\n",
    "estimator = BaggingClassifier(base_estimator=knn, \n",
    "                              n_jobs=6, oob_score=True)\n",
    "\n",
    "hyperparams = {'n_estimators': [300]}\n",
    "\n",
    "# SCAFFOLD Train test splitting\n",
    "# split_and_gs(X, y, estimator, hyperparams, \n",
    "#              splitting='scaffold', test_size=0.25, \n",
    "#              scaffold_series=scaffold_series)"
   ]
  },
  {
   "cell_type": "markdown",
   "metadata": {},
   "source": [
    "<h3 style='color: #F84122; padding: 0px;; margin: 0px'>GS:Random Forest </h3>\n",
    "<b>DEKOIS  - Random and Stratified Scaffold Splitting</b>"
   ]
  },
  {
   "cell_type": "code",
   "execution_count": 26,
   "metadata": {
    "cell_style": "split"
   },
   "outputs": [
    {
     "name": "stdout",
     "output_type": "stream",
     "text": [
      "RandForest => Train: DEKOIS; Test: DEKOIS; split: random\n",
      "No. of molecules in train set: 915, with 30 actives.\n",
      "No. of molecules in test set: 306, with 10 actives.\n",
      "\n",
      "********** GRID SEARCH RESULTS **********\n",
      "- Mean CV ROC-AUC:\t0.871\n",
      "- Train ROC-AUC:  \t0.904\n",
      "- Test ROC-AUC:   \t0.938\n",
      "- Best hyperparameters {'max_depth': 2, 'max_features': 'sqrt', 'min_samples_leaf': 0.2, 'n_estimators': 300}\n",
      "******************************************\n",
      "\n",
      "***** Best Conformation's ROC-AUC using docking scores *****\n",
      "> Train best conf. ROC-AUC: 0.883 \t> median: 0.821, mean: 0.816\n",
      "> Test best conf. ROC-AUC: 0.960 \t> median: 0.876, mean: 0.874\n",
      "****************************************************************\n",
      "CPU times: user 1.64 s, sys: 191 ms, total: 1.83 s\n",
      "Wall time: 18.2 s\n"
     ]
    }
   ],
   "source": [
    "%%time\n",
    "from sklearn.ensemble import RandomForestClassifier\n",
    "\n",
    "estimator_name = 'RandForest'\n",
    "estimator = RandomForestClassifier()\n",
    "hyperparams = {'n_estimators': [300, 500],\n",
    "             'max_depth': [2,  5],\n",
    "             'min_samples_leaf': [0.1, 0.2],\n",
    "             'max_features': ['log2', 'sqrt']\n",
    "            }\n",
    "\n",
    "# RANDOM Train test splitting\n",
    "split_and_gs(library, library, estimator_name,\n",
    "             X, y, estimator, hyperparams,\n",
    "             splitting='random', test_size=0.25, \n",
    "             scaffold_series=None)"
   ]
  },
  {
   "cell_type": "code",
   "execution_count": 27,
   "metadata": {
    "cell_style": "split",
    "scrolled": true
   },
   "outputs": [
    {
     "name": "stdout",
     "output_type": "stream",
     "text": [
      "RandForest => Train: DEKOIS; Test: DEKOIS; split: scaffold\n",
      "No. of molecules in train set: 885, with 30 actives.\n",
      "No. of molecules in test set: 336, with 10 actives.\n",
      "\n",
      "********** GRID SEARCH RESULTS **********\n",
      "- Mean CV ROC-AUC:\t0.856\n",
      "- Train ROC-AUC:  \t0.897\n",
      "- Test ROC-AUC:   \t0.945\n",
      "- Best hyperparameters {'max_depth': 2, 'max_features': 'log2', 'min_samples_leaf': 0.2, 'n_estimators': 500}\n",
      "******************************************\n",
      "\n",
      "***** Best Conformation's ROC-AUC using docking scores *****\n",
      "> Train best conf. ROC-AUC: 0.884 \t> median: 0.816, mean: 0.812\n",
      "> Test best conf. ROC-AUC: 0.965 \t> median: 0.897, mean: 0.893\n",
      "****************************************************************\n",
      "CPU times: user 1.96 s, sys: 221 ms, total: 2.18 s\n",
      "Wall time: 20.7 s\n"
     ]
    }
   ],
   "source": [
    "%%time\n",
    "from sklearn.ensemble import RandomForestClassifier\n",
    "\n",
    "estimator_name = 'RandForest'\n",
    "estimator = RandomForestClassifier()\n",
    "hyperparams = {'n_estimators': [300, 500],\n",
    "             'max_depth': [2,  5],\n",
    "             'min_samples_leaf': [0.1, 0.2],\n",
    "             'max_features': ['log2', 'sqrt']\n",
    "            }\n",
    "\n",
    "# SCAFFOLD Train test splitting\n",
    "split_and_gs(library, library, estimator_name,\n",
    "             X, y, estimator, hyperparams, \n",
    "             splitting='scaffold', test_size=0.25, \n",
    "             scaffold_series=scaffold_series)"
   ]
  },
  {
   "cell_type": "markdown",
   "metadata": {},
   "source": [
    "***\n",
    "<h2 style='background-color: #F9E5AB; padding: 5px;'>\n",
    "    Train-Test with DUD Library\n",
    "</h2>\n",
    "<div style='background-color: #FE8460; min-height: 5px'></div>"
   ]
  },
  {
   "cell_type": "code",
   "execution_count": 28,
   "metadata": {},
   "outputs": [],
   "source": [
    "library = 'DUD'\n",
    "\n",
    "# Train and test over DUDU\n",
    "X = X_merged_dksc.loc[library]\n",
    "y = y_true_merged.loc[library]\n",
    "scaffold_series = df_scff_murcko['scff_generic'].loc[library]"
   ]
  },
  {
   "cell_type": "markdown",
   "metadata": {
    "cell_style": "center"
   },
   "source": [
    "<h3 style='color: #F84122; padding: 0px;; margin: 0px'>GS: Linear SVM </h3>\n",
    "<b>DUD  - Random and Stratified Scaffold Splitting</b>"
   ]
  },
  {
   "cell_type": "code",
   "execution_count": 30,
   "metadata": {
    "cell_style": "split"
   },
   "outputs": [
    {
     "name": "stdout",
     "output_type": "stream",
     "text": [
      "LinearSVC => Train: DUD; Test: DUD; split: random\n",
      "No. of molecules in train set: 3669, with 106 actives.\n",
      "No. of molecules in test set: 1224, with 35 actives.\n",
      "\n",
      "********** GRID SEARCH RESULTS **********\n",
      "- Mean CV ROC-AUC:\t0.834\n",
      "- Train ROC-AUC:  \t0.873\n",
      "- Test ROC-AUC:   \t0.826\n",
      "- Best hyperparameters {'C': 0.001}\n",
      "******************************************\n",
      "\n",
      "***** Best Conformation's ROC-AUC using docking scores *****\n",
      "> Train best conf. ROC-AUC: 0.733 \t> median: 0.578, mean: 0.577\n",
      "> Test best conf. ROC-AUC: 0.753 \t> median: 0.552, mean: 0.551\n",
      "****************************************************************\n",
      "CPU times: user 1.92 s, sys: 122 ms, total: 2.04 s\n",
      "Wall time: 9min 14s\n"
     ]
    }
   ],
   "source": [
    "%%time\n",
    "from sklearn.svm import SVC\n",
    "\n",
    "estimator_name = 'LinearSVC'\n",
    "estimator = SVC(kernel = 'linear', probability=True)\n",
    "hyperparams = {'C': np.geomspace(1e-8, 1e2, 6)}\n",
    "\n",
    "# RANDOM Train test splitting\n",
    "split_and_gs(library, library, estimator_name,\n",
    "             X, y, estimator, hyperparams,\n",
    "             splitting='random', test_size=0.25, \n",
    "             scaffold_series=None)"
   ]
  },
  {
   "cell_type": "code",
   "execution_count": 31,
   "metadata": {
    "cell_style": "split"
   },
   "outputs": [
    {
     "name": "stdout",
     "output_type": "stream",
     "text": [
      "LinearSVC => Train: DUD; Test: DUD; split: scaffold\n",
      "No. of molecules in train set: 3564, with 105 actives.\n",
      "No. of molecules in test set: 1329, with 36 actives.\n",
      "\n",
      "********** GRID SEARCH RESULTS **********\n",
      "- Mean CV ROC-AUC:\t0.882\n",
      "- Train ROC-AUC:  \t0.911\n",
      "- Test ROC-AUC:   \t0.630\n",
      "- Best hyperparameters {'C': 3.162277660168379e-06}\n",
      "******************************************\n",
      "\n",
      "***** Best Conformation's ROC-AUC using docking scores *****\n",
      "> Train best conf. ROC-AUC: 0.747 \t> median: 0.545, mean: 0.547\n",
      "> Test best conf. ROC-AUC: 0.719 \t> median: 0.640, mean: 0.638\n",
      "****************************************************************\n",
      "CPU times: user 1.63 s, sys: 140 ms, total: 1.77 s\n",
      "Wall time: 4min 10s\n"
     ]
    }
   ],
   "source": [
    "%%time\n",
    "# from sklearn.svm import SVC\n",
    "\n",
    "estimator_name = 'LinearSVC'\n",
    "estimator = SVC(kernel = 'linear', probability=True)\n",
    "hyperparams = {'C': np.geomspace(1e-8, 1e2, 6)}\n",
    "\n",
    "# SCAFFOLD Train test splitting\n",
    "split_and_gs(library, library, estimator_name,\n",
    "             X, y, estimator, hyperparams,\n",
    "             splitting='scaffold', test_size=0.25, \n",
    "             scaffold_series=scaffold_series)"
   ]
  },
  {
   "cell_type": "markdown",
   "metadata": {},
   "source": [
    "<h3 style='color: #F84122; padding: 0px;; margin: 0px'>GS: Radial Basis Function SVM </h3>\n",
    "<b>DUD  - Random and Stratified Scaffold Splitting</b>"
   ]
  },
  {
   "cell_type": "code",
   "execution_count": 41,
   "metadata": {
    "cell_style": "split"
   },
   "outputs": [
    {
     "name": "stdout",
     "output_type": "stream",
     "text": [
      "rbfSVC => Train: DUD; Test: DUD; split: random\n",
      "No. of molecules in train set: 3669, with 106 actives.\n",
      "No. of molecules in test set: 1224, with 35 actives.\n",
      "\n",
      "********** GRID SEARCH RESULTS **********\n",
      "- Mean CV ROC-AUC:\t0.893\n",
      "- Train ROC-AUC:  \t0.988\n",
      "- Test ROC-AUC:   \t0.853\n",
      "- Best hyperparameters {'C': 0.01, 'gamma': 0.01}\n",
      "******************************************\n",
      "\n",
      "***** Best Conformation's ROC-AUC using docking scores *****\n",
      "> Train best conf. ROC-AUC: 0.722 \t> median: 0.579, mean: 0.578\n",
      "> Test best conf. ROC-AUC: 0.729 \t> median: 0.544, mean: 0.548\n",
      "****************************************************************\n",
      "CPU times: user 3.78 s, sys: 528 ms, total: 4.31 s\n",
      "Wall time: 42.6 s\n"
     ]
    }
   ],
   "source": [
    "%%time\n",
    "\n",
    "estimator_name = 'rbfSVC'\n",
    "estimator = SVC(kernel = 'rbf', probability=True)\n",
    "hyperparams = {'C': np.geomspace(1e-8, 1e-2, 4), \n",
    "               'gamma': np.geomspace(1e-6, 1e0, 4)}\n",
    "\n",
    "# RANDOM Train test splitting\n",
    "split_and_gs(library, library, estimator_name,\n",
    "             X, y, estimator, hyperparams,\n",
    "             splitting='random', test_size=0.25, \n",
    "             scaffold_series=None)"
   ]
  },
  {
   "cell_type": "code",
   "execution_count": 42,
   "metadata": {
    "cell_style": "split"
   },
   "outputs": [
    {
     "name": "stdout",
     "output_type": "stream",
     "text": [
      "rbfSVC => Train: DUD; Test: DUD; split: scaffold\n",
      "No. of molecules in train set: 3564, with 105 actives.\n",
      "No. of molecules in test set: 1329, with 36 actives.\n",
      "\n",
      "********** GRID SEARCH RESULTS **********\n",
      "- Mean CV ROC-AUC:\t0.941\n",
      "- Train ROC-AUC:  \t0.997\n",
      "- Test ROC-AUC:   \t0.587\n",
      "- Best hyperparameters {'C': 0.01, 'gamma': 0.01}\n",
      "******************************************\n",
      "\n",
      "***** Best Conformation's ROC-AUC using docking scores *****\n",
      "> Train best conf. ROC-AUC: 0.747 \t> median: 0.545, mean: 0.547\n",
      "> Test best conf. ROC-AUC: 0.719 \t> median: 0.640, mean: 0.638\n",
      "****************************************************************\n",
      "CPU times: user 3.31 s, sys: 171 ms, total: 3.48 s\n",
      "Wall time: 38.5 s\n"
     ]
    }
   ],
   "source": [
    "%%time\n",
    "\n",
    "estimator_name = 'rbfSVC'\n",
    "estimator = SVC(kernel = 'rbf', probability=True)\n",
    "hyperparams = {'C': np.geomspace(1e-8, 1e-2, 4), \n",
    "               'gamma': np.geomspace(1e-6, 1e0, 4)}\n",
    "\n",
    "# SCAFFOLD Train test splitting\n",
    "split_and_gs(library, library, estimator_name,\n",
    "             X, y, estimator, hyperparams,\n",
    "             splitting='scaffold', test_size=0.25, \n",
    "             scaffold_series=scaffold_series)"
   ]
  },
  {
   "cell_type": "markdown",
   "metadata": {},
   "source": [
    "<h3 style='color: #F84122; padding: 0px;; margin: 0px'> GS: Logistic Regression </h3>\n",
    "<b>DUD  - Random and Stratified Scaffold Splitting</b>"
   ]
  },
  {
   "cell_type": "code",
   "execution_count": 43,
   "metadata": {
    "cell_style": "split"
   },
   "outputs": [
    {
     "name": "stdout",
     "output_type": "stream",
     "text": [
      "LogReg => Train: DUD; Test: DUD; split: random\n",
      "No. of molecules in train set: 3669, with 106 actives.\n",
      "No. of molecules in test set: 1224, with 35 actives.\n",
      "\n",
      "********** GRID SEARCH RESULTS **********\n",
      "- Mean CV ROC-AUC:\t0.860\n",
      "- Train ROC-AUC:  \t0.929\n",
      "- Test ROC-AUC:   \t0.858\n",
      "- Best hyperparameters {'C': 1.0, 'penalty': 'l1', 'solver': 'liblinear'}\n",
      "******************************************\n",
      "\n",
      "***** Best Conformation's ROC-AUC using docking scores *****\n",
      "> Train best conf. ROC-AUC: 0.724 \t> median: 0.569, mean: 0.570\n",
      "> Test best conf. ROC-AUC: 0.726 \t> median: 0.570, mean: 0.574\n",
      "****************************************************************\n",
      "CPU times: user 5.24 s, sys: 508 ms, total: 5.74 s\n",
      "Wall time: 41.3 s\n"
     ]
    }
   ],
   "source": [
    "%%time\n",
    "from sklearn.linear_model import LogisticRegression\n",
    "\n",
    "estimator_name = 'LogReg'\n",
    "estimator = LogisticRegression(max_iter=150)\n",
    "hyperparams = {'C': np.geomspace(1e-8, 1e2, 6), \n",
    "               'penalty': ['l1', 'l2'], \n",
    "               'solver': ['lbfgs', 'liblinear']}\n",
    "\n",
    "# RANDOM Train test splitting\n",
    "split_and_gs(library, library, estimator_name,\n",
    "             X, y, estimator, hyperparams,\n",
    "             splitting='random', test_size=0.25, \n",
    "             scaffold_series=None)"
   ]
  },
  {
   "cell_type": "code",
   "execution_count": 44,
   "metadata": {
    "cell_style": "split"
   },
   "outputs": [
    {
     "name": "stdout",
     "output_type": "stream",
     "text": [
      "LogReg => Train: DUD; Test: DUD; split: scaffold\n",
      "No. of molecules in train set: 3564, with 105 actives.\n",
      "No. of molecules in test set: 1329, with 36 actives.\n",
      "\n",
      "********** GRID SEARCH RESULTS **********\n",
      "- Mean CV ROC-AUC:\t0.887\n",
      "- Train ROC-AUC:  \t0.967\n",
      "- Test ROC-AUC:   \t0.620\n",
      "- Best hyperparameters {'C': 1.0, 'penalty': 'l1', 'solver': 'liblinear'}\n",
      "******************************************\n",
      "\n",
      "***** Best Conformation's ROC-AUC using docking scores *****\n",
      "> Train best conf. ROC-AUC: 0.747 \t> median: 0.545, mean: 0.547\n",
      "> Test best conf. ROC-AUC: 0.719 \t> median: 0.640, mean: 0.638\n",
      "****************************************************************\n",
      "CPU times: user 5.48 s, sys: 483 ms, total: 5.97 s\n",
      "Wall time: 1min 3s\n"
     ]
    }
   ],
   "source": [
    "%%time\n",
    "# from sklearn.linear_model import LogisticRegression\n",
    "\n",
    "estimator_name = 'LogReg'\n",
    "estimator = LogisticRegression(max_iter=150)\n",
    "hyperparams = {'C': np.geomspace(1e-8, 1e2, 6), \n",
    "               'penalty': ['l1', 'l2'], \n",
    "               'solver': ['lbfgs', 'liblinear']}\n",
    "\n",
    "# SCAFFOLD Train test splitting\n",
    "split_and_gs(library, library, estimator_name,\n",
    "             X, y, estimator, hyperparams,\n",
    "             splitting='scaffold', test_size=0.25, \n",
    "             scaffold_series=scaffold_series)"
   ]
  },
  {
   "cell_type": "markdown",
   "metadata": {},
   "source": [
    "<h3 style='color: #F84122; padding: 0px;; margin: 0px'>GS: K-Neighbors Classifier</h3>\n",
    "<b>DUD  - Random and Stratified Scaffold Splitting</b>"
   ]
  },
  {
   "cell_type": "code",
   "execution_count": 45,
   "metadata": {
    "cell_style": "split"
   },
   "outputs": [
    {
     "name": "stdout",
     "output_type": "stream",
     "text": [
      "kNN => Train: DUD; Test: DUD; split: random\n",
      "No. of molecules in train set: 3669, with 106 actives.\n",
      "No. of molecules in test set: 1224, with 35 actives.\n",
      "\n",
      "********** GRID SEARCH RESULTS **********\n",
      "- Mean CV ROC-AUC:\t0.811\n",
      "- Train ROC-AUC:  \t0.862\n",
      "- Test ROC-AUC:   \t0.877\n",
      "- Best hyperparameters {'n_neighbors': 225, 'p': 1}\n",
      "******************************************\n",
      "\n",
      "***** Best Conformation's ROC-AUC using docking scores *****\n",
      "> Train best conf. ROC-AUC: 0.739 \t> median: 0.572, mean: 0.573\n",
      "> Test best conf. ROC-AUC: 0.747 \t> median: 0.560, mean: 0.563\n",
      "****************************************************************\n",
      "CPU times: user 5.9 s, sys: 180 ms, total: 6.08 s\n",
      "Wall time: 22.3 s\n"
     ]
    }
   ],
   "source": [
    "%%time\n",
    "from sklearn.neighbors import KNeighborsClassifier \n",
    "\n",
    "estimator_name = 'kNN'\n",
    "estimator = KNeighborsClassifier()\n",
    "hyperparams = {'n_neighbors': [25, 55, 125, 225], \n",
    "               'p': [1, 2]\n",
    "             }\n",
    "\n",
    "# RANDOM Train test splitting\n",
    "split_and_gs(library, library, estimator_name,\n",
    "             X, y, estimator, hyperparams,\n",
    "             splitting='random', test_size=0.25, \n",
    "             scaffold_series=None)"
   ]
  },
  {
   "cell_type": "code",
   "execution_count": 46,
   "metadata": {
    "cell_style": "split"
   },
   "outputs": [
    {
     "name": "stdout",
     "output_type": "stream",
     "text": [
      "kNN => Train: DUD; Test: DUD; split: scaffold\n",
      "No. of molecules in train set: 3564, with 105 actives.\n",
      "No. of molecules in test set: 1329, with 36 actives.\n",
      "\n",
      "********** GRID SEARCH RESULTS **********\n",
      "- Mean CV ROC-AUC:\t0.827\n",
      "- Train ROC-AUC:  \t0.951\n",
      "- Test ROC-AUC:   \t0.596\n",
      "- Best hyperparameters {'n_neighbors': 55, 'p': 1}\n",
      "******************************************\n",
      "\n",
      "***** Best Conformation's ROC-AUC using docking scores *****\n",
      "> Train best conf. ROC-AUC: 0.747 \t> median: 0.545, mean: 0.547\n",
      "> Test best conf. ROC-AUC: 0.719 \t> median: 0.640, mean: 0.638\n",
      "****************************************************************\n",
      "CPU times: user 5.67 s, sys: 134 ms, total: 5.8 s\n",
      "Wall time: 20.8 s\n"
     ]
    }
   ],
   "source": [
    "%%time\n",
    "from sklearn.neighbors import KNeighborsClassifier \n",
    "\n",
    "estimator_name = 'kNN'\n",
    "estimator = KNeighborsClassifier()\n",
    "hyperparams = {'n_neighbors': [25, 55, 125, 225], \n",
    "               'p': [1, 2]\n",
    "             }\n",
    "\n",
    "# SCAFFOLD Train test splitting\n",
    "split_and_gs(library, library, estimator_name,\n",
    "             X, y, estimator, hyperparams,\n",
    "             splitting='scaffold', test_size=0.25, \n",
    "             scaffold_series=scaffold_series)"
   ]
  },
  {
   "cell_type": "markdown",
   "metadata": {},
   "source": [
    "<h3 style='color: #F84122; padding: 0px;; margin: 0px'>GS: Decision Tree Classifier</h3>\n",
    "<b>DUD  - Random and Stratified Scaffold Splitting</b>"
   ]
  },
  {
   "cell_type": "code",
   "execution_count": 47,
   "metadata": {
    "cell_style": "split"
   },
   "outputs": [
    {
     "name": "stdout",
     "output_type": "stream",
     "text": [
      "DTree => Train: DUD; Test: DUD; split: random\n",
      "No. of molecules in train set: 3669, with 106 actives.\n",
      "No. of molecules in test set: 1224, with 35 actives.\n",
      "\n",
      "********** GRID SEARCH RESULTS **********\n",
      "- Mean CV ROC-AUC:\t0.771\n",
      "- Train ROC-AUC:  \t0.842\n",
      "- Test ROC-AUC:   \t0.813\n",
      "- Best hyperparameters {'criterion': 'entropy', 'max_depth': 5, 'max_features': None, 'min_samples_split': 0.25}\n",
      "******************************************\n",
      "\n",
      "***** Best Conformation's ROC-AUC using docking scores *****\n",
      "> Train best conf. ROC-AUC: 0.727 \t> median: 0.573, mean: 0.574\n",
      "> Test best conf. ROC-AUC: 0.765 \t> median: 0.561, mean: 0.562\n",
      "****************************************************************\n",
      "CPU times: user 1.62 s, sys: 202 ms, total: 1.82 s\n",
      "Wall time: 3.38 s\n"
     ]
    }
   ],
   "source": [
    "%%time\n",
    "from sklearn.tree import DecisionTreeClassifier\n",
    "\n",
    "estimator_name = 'DTree'\n",
    "estimator = DecisionTreeClassifier(splitter='best')\n",
    "hyperparams = {'criterion': ['gini', 'entropy'], \n",
    "               'max_depth': [2, 3, 5],\n",
    "               'min_samples_split': [0.2, 0.25, 0.3],\n",
    "               'max_features': [None, 'sqrt', 'log2']}\n",
    "\n",
    "# RANDOM Train test splitting\n",
    "split_and_gs(library, library, estimator_name,\n",
    "             X, y, estimator, hyperparams,\n",
    "             splitting='random', test_size=0.25, \n",
    "             scaffold_series=None)"
   ]
  },
  {
   "cell_type": "code",
   "execution_count": 48,
   "metadata": {
    "cell_style": "split"
   },
   "outputs": [
    {
     "name": "stdout",
     "output_type": "stream",
     "text": [
      "DTree => Train: DUD; Test: DUD; split: scaffold\n",
      "No. of molecules in train set: 3564, with 105 actives.\n",
      "No. of molecules in test set: 1329, with 36 actives.\n",
      "\n",
      "********** GRID SEARCH RESULTS **********\n",
      "- Mean CV ROC-AUC:\t0.825\n",
      "- Train ROC-AUC:  \t0.875\n",
      "- Test ROC-AUC:   \t0.578\n",
      "- Best hyperparameters {'criterion': 'gini', 'max_depth': 5, 'max_features': None, 'min_samples_split': 0.2}\n",
      "******************************************\n",
      "\n",
      "***** Best Conformation's ROC-AUC using docking scores *****\n",
      "> Train best conf. ROC-AUC: 0.747 \t> median: 0.545, mean: 0.547\n",
      "> Test best conf. ROC-AUC: 0.719 \t> median: 0.640, mean: 0.638\n",
      "****************************************************************\n",
      "CPU times: user 1.71 s, sys: 142 ms, total: 1.86 s\n",
      "Wall time: 3.33 s\n"
     ]
    }
   ],
   "source": [
    "%%time\n",
    "from sklearn.tree import DecisionTreeClassifier\n",
    "\n",
    "estimator_name = 'DTree'\n",
    "estimator = DecisionTreeClassifier(splitter='best')\n",
    "hyperparams = {'criterion': ['gini', 'entropy'], \n",
    "               'max_depth': [2, 3, 5],\n",
    "               'min_samples_split': [0.2, 0.25, 0.3],\n",
    "               'max_features': [None, 'sqrt', 'log2']}\n",
    "\n",
    "# SCAFFOLD Train test splitting\n",
    "split_and_gs(library, library, estimator_name,\n",
    "             X, y, estimator, hyperparams,\n",
    "             splitting='scaffold', test_size=0.25, \n",
    "             scaffold_series=scaffold_series)"
   ]
  },
  {
   "cell_type": "markdown",
   "metadata": {},
   "source": [
    "<h3 style='color: #F84122; padding: 0px;; margin: 0px'>GS: Bagging Classifier (k-NN as base estimator) </h3>\n",
    "<b>DUD  - Random and Stratified Scaffold Splitting</b>"
   ]
  },
  {
   "cell_type": "code",
   "execution_count": 49,
   "metadata": {
    "cell_style": "split"
   },
   "outputs": [
    {
     "name": "stdout",
     "output_type": "stream",
     "text": [
      "CPU times: user 233 µs, sys: 33 µs, total: 266 µs\n",
      "Wall time: 279 µs\n"
     ]
    }
   ],
   "source": [
    "%%time\n",
    "from sklearn.ensemble import BaggingClassifier\n",
    "\n",
    "estimator_name = 'BagClf-kNN'\n",
    "knn = KNeighborsClassifier(n_neighbors=125, p=1, \n",
    "                           weights='distance')\n",
    "estimator = BaggingClassifier(base_estimator=knn, \n",
    "                              n_jobs=6, oob_score=True)\n",
    "\n",
    "hyperparams = {'n_estimators': [300]}\n",
    "\n",
    "# RANDOM Train test splitting\n",
    "# split_and_gs(X, y, estimator, hyperparams, \n",
    "#              splitting='random', test_size=0.25, \n",
    "#              scaffold_series=None)"
   ]
  },
  {
   "cell_type": "code",
   "execution_count": 50,
   "metadata": {
    "cell_style": "split"
   },
   "outputs": [
    {
     "name": "stdout",
     "output_type": "stream",
     "text": [
      "CPU times: user 43 µs, sys: 6 µs, total: 49 µs\n",
      "Wall time: 57.9 µs\n"
     ]
    }
   ],
   "source": [
    "%%time\n",
    "# from sklearn.ensemble import BaggingClassifier\n",
    "\n",
    "estimator_name = 'BagClf-kNN'\n",
    "knn = KNeighborsClassifier(n_neighbors=125, p=1, \n",
    "                           weights='distance')\n",
    "estimator = BaggingClassifier(base_estimator=knn, \n",
    "                              n_jobs=6, oob_score=True)\n",
    "\n",
    "hyperparams = {'n_estimators': [300]}\n",
    "\n",
    "# SCAFFOLD Train test splitting\n",
    "# split_and_gs(X, y, estimator, hyperparams, \n",
    "#              splitting='scaffold', test_size=0.25, \n",
    "#              scaffold_series=scaffold_series)"
   ]
  },
  {
   "cell_type": "markdown",
   "metadata": {},
   "source": [
    "<h3 style='color: #F84122; padding: 0px;; margin: 0px'>GS:Random Forest </h3>\n",
    "<b>DUD  - Random and Stratified Scaffold Splitting</b>"
   ]
  },
  {
   "cell_type": "code",
   "execution_count": 51,
   "metadata": {
    "cell_style": "split"
   },
   "outputs": [
    {
     "name": "stdout",
     "output_type": "stream",
     "text": [
      "RandForest => Train: DUD; Test: DUD; split: random\n",
      "No. of molecules in train set: 3669, with 106 actives.\n",
      "No. of molecules in test set: 1224, with 35 actives.\n",
      "\n",
      "********** GRID SEARCH RESULTS **********\n",
      "- Mean CV ROC-AUC:\t0.777\n",
      "- Train ROC-AUC:  \t0.838\n",
      "- Test ROC-AUC:   \t0.810\n",
      "- Best hyperparameters {'max_depth': 5, 'max_features': 'sqrt', 'min_samples_leaf': 0.1, 'n_estimators': 500}\n",
      "******************************************\n",
      "\n",
      "***** Best Conformation's ROC-AUC using docking scores *****\n",
      "> Train best conf. ROC-AUC: 0.713 \t> median: 0.568, mean: 0.568\n",
      "> Test best conf. ROC-AUC: 0.754 \t> median: 0.575, mean: 0.578\n",
      "****************************************************************\n",
      "CPU times: user 3.77 s, sys: 166 ms, total: 3.93 s\n",
      "Wall time: 36.8 s\n"
     ]
    }
   ],
   "source": [
    "%%time\n",
    "from sklearn.ensemble import RandomForestClassifier\n",
    "\n",
    "estimator_name = 'RandForest'\n",
    "estimator = RandomForestClassifier()\n",
    "hyperparams = {'n_estimators': [300, 500],\n",
    "             'max_depth': [2,  5],\n",
    "             'min_samples_leaf': [0.1, 0.2],\n",
    "             'max_features': ['log2', 'sqrt']\n",
    "            }\n",
    "\n",
    "# RANDOM Train test splitting\n",
    "split_and_gs(library, library, estimator_name,\n",
    "             X, y, estimator, hyperparams,\n",
    "             splitting='random', test_size=0.25, \n",
    "             scaffold_series=None)"
   ]
  },
  {
   "cell_type": "code",
   "execution_count": 52,
   "metadata": {
    "cell_style": "split",
    "scrolled": true
   },
   "outputs": [
    {
     "name": "stdout",
     "output_type": "stream",
     "text": [
      "RandForest => Train: DUD; Test: DUD; split: scaffold\n",
      "No. of molecules in train set: 3564, with 105 actives.\n",
      "No. of molecules in test set: 1329, with 36 actives.\n",
      "\n",
      "********** GRID SEARCH RESULTS **********\n",
      "- Mean CV ROC-AUC:\t0.809\n",
      "- Train ROC-AUC:  \t0.888\n",
      "- Test ROC-AUC:   \t0.646\n",
      "- Best hyperparameters {'max_depth': 5, 'max_features': 'sqrt', 'min_samples_leaf': 0.1, 'n_estimators': 500}\n",
      "******************************************\n",
      "\n",
      "***** Best Conformation's ROC-AUC using docking scores *****\n",
      "> Train best conf. ROC-AUC: 0.747 \t> median: 0.545, mean: 0.547\n",
      "> Test best conf. ROC-AUC: 0.719 \t> median: 0.640, mean: 0.638\n",
      "****************************************************************\n",
      "CPU times: user 3.27 s, sys: 105 ms, total: 3.38 s\n",
      "Wall time: 32.7 s\n"
     ]
    }
   ],
   "source": [
    "%%time\n",
    "from sklearn.ensemble import RandomForestClassifier\n",
    "\n",
    "estimator_name = 'RandForest'\n",
    "estimator = RandomForestClassifier()\n",
    "hyperparams = {'n_estimators': [300, 500],\n",
    "             'max_depth': [2,  5],\n",
    "             'min_samples_leaf': [0.1, 0.2],\n",
    "             'max_features': ['log2', 'sqrt']\n",
    "            }\n",
    "\n",
    "# SCAFFOLD Train test splitting\n",
    "split_and_gs(library, library, estimator_name,\n",
    "             X, y, estimator, hyperparams,\n",
    "             splitting='scaffold', test_size=0.25, \n",
    "             scaffold_series=scaffold_series)"
   ]
  },
  {
   "cell_type": "markdown",
   "metadata": {},
   "source": [
    "***\n",
    "\n",
    "<h2 style='background-color: #F9E5AB; padding: 5px;'>\n",
    "    Train-Test with different libraries \n",
    "</h2>\n",
    "<div style='background-color: #FE8460; min-height: 5px'></div>\n",
    "\n",
    "##### Here, Random or Scaffold Splitting are not used"
   ]
  },
  {
   "cell_type": "code",
   "execution_count": 53,
   "metadata": {},
   "outputs": [],
   "source": [
    "# Train DEKOIS, test DUD\n",
    "@capture_GS_results(results_dict)\n",
    "def split_by_library_and_gs(train_name, test_name, estimator_name,\n",
    "                            X, y, lib_train_name, lib_test_name, **kwargs):\n",
    "    '''Train-Test \"split\" by library, and run Grid Search. Splits the main dataframe by library\n",
    "    using different molecular libraries for Training and Testing.'''\n",
    "    splitting='by_library'\n",
    "    \n",
    "    X_train = X.loc[lib_train_name]\n",
    "    y_train = y.loc[lib_train_name]\n",
    "\n",
    "    X_test = X.loc[lib_test_name]\n",
    "    y_test = y.loc[lib_test_name]\n",
    "\n",
    "    # Verbose\n",
    "    print(f'{estimator_name} => Train: {train_name}; Test: {test_name}; split: {splitting}')\n",
    "    \n",
    "    # Function to run Grid Search\n",
    "    #----------------------------\n",
    "    gs_results = run_grid_search(estimator, \n",
    "                    X_train, y_train, X_test, y_test, \n",
    "                    hyperparams = hyperparams,  **kwargs)\n",
    "\n",
    "    # Function to extract ROC results from DkSc values \n",
    "    #-------------------------------------------------\n",
    "    dksc_results = get_roc_auc_DkSc(X_train, y_train, X_test, y_test)\n",
    "    \n",
    "    # Return both list of results to captured by the decorador function\n",
    "    return [train_name, test_name, estimator_name, splitting] + gs_results + dksc_results"
   ]
  },
  {
   "cell_type": "code",
   "execution_count": 54,
   "metadata": {},
   "outputs": [],
   "source": [
    "# **********************************************\n",
    "# Train and Test sets from diferent libraries\n",
    "# **********************************************\n",
    "X = X_merged_dksc\n",
    "y = y_true_merged"
   ]
  },
  {
   "cell_type": "markdown",
   "metadata": {
    "cell_style": "center"
   },
   "source": [
    "<h3 style='color: #F84122; padding: 0px;; margin: 0px'>GS: Linear SVM  </h3>\n",
    "<b>Train and Test with different libraries</b>"
   ]
  },
  {
   "cell_type": "code",
   "execution_count": 55,
   "metadata": {
    "cell_style": "split"
   },
   "outputs": [
    {
     "name": "stdout",
     "output_type": "stream",
     "text": [
      "LinearSVC => Train: DEKOIS; Test: DUD; split: by_library\n",
      "No. of molecules in train set: 1221, with 40 actives.\n",
      "No. of molecules in test set: 4893, with 141 actives.\n",
      "\n",
      "********** GRID SEARCH RESULTS **********\n",
      "- Mean CV ROC-AUC:\t0.889\n",
      "- Train ROC-AUC:  \t0.894\n",
      "- Test ROC-AUC:   \t0.607\n",
      "- Best hyperparameters {'C': 1e-08}\n",
      "******************************************\n",
      "\n",
      "***** Best Conformation's ROC-AUC using docking scores *****\n",
      "> Train best conf. ROC-AUC: 0.894 \t> median: 0.833, mean: 0.831\n",
      "> Test best conf. ROC-AUC: 0.720 \t> median: 0.571, mean: 0.571\n",
      "****************************************************************\n",
      "CPU times: user 705 ms, sys: 43.6 ms, total: 749 ms\n",
      "Wall time: 1.75 s\n"
     ]
    }
   ],
   "source": [
    "%%time\n",
    "from sklearn.svm import SVC\n",
    "\n",
    "estimator_name = 'LinearSVC'\n",
    "estimator = SVC(kernel = 'linear', probability=True)\n",
    "hyperparams = {'C': np.geomspace(1e-8, 1e2, 6)}\n",
    "# Train DEKOIS, test DUD\n",
    "\n",
    "train_lib = 'DEKOIS'\n",
    "test_lib = 'DUD'\n",
    "split_by_library_and_gs(\n",
    "    train_lib, test_lib, estimator_name,\n",
    "    X, y, train_lib, test_lib)"
   ]
  },
  {
   "cell_type": "code",
   "execution_count": 56,
   "metadata": {
    "cell_style": "split",
    "scrolled": true
   },
   "outputs": [
    {
     "name": "stdout",
     "output_type": "stream",
     "text": [
      "LinearSVC => Train: DUD; Test: DEKOIS; split: by_library\n",
      "No. of molecules in train set: 4893, with 141 actives.\n",
      "No. of molecules in test set: 1221, with 40 actives.\n",
      "\n",
      "********** GRID SEARCH RESULTS **********\n",
      "- Mean CV ROC-AUC:\t0.821\n",
      "- Train ROC-AUC:  \t0.871\n",
      "- Test ROC-AUC:   \t0.716\n",
      "- Best hyperparameters {'C': 0.0001}\n",
      "******************************************\n",
      "\n",
      "***** Best Conformation's ROC-AUC using docking scores *****\n",
      "> Train best conf. ROC-AUC: 0.720 \t> median: 0.571, mean: 0.571\n",
      "> Test best conf. ROC-AUC: 0.894 \t> median: 0.833, mean: 0.831\n",
      "****************************************************************\n",
      "CPU times: user 2.74 s, sys: 135 ms, total: 2.88 s\n",
      "Wall time: 14min 44s\n"
     ]
    }
   ],
   "source": [
    "%%time\n",
    "# from sklearn.svm import SVC\n",
    "\n",
    "estimator_name = 'LinearSVC'\n",
    "estimator = SVC(kernel = 'linear', probability=True)\n",
    "hyperparams = {'C': np.geomspace(1e-8, 1e2, 6)}\n",
    "\n",
    "# Train DEKOIS, test DUD\n",
    "train_lib = 'DUD'\n",
    "test_lib = 'DEKOIS'\n",
    "split_by_library_and_gs(\n",
    "    train_lib, test_lib, estimator_name,\n",
    "    X, y, train_lib, test_lib)"
   ]
  },
  {
   "cell_type": "markdown",
   "metadata": {},
   "source": [
    "<h3 style='color: #F84122; padding: 0px;; margin: 0px'>GS: Radial Basis Function SVM </h3>\n",
    "<b>Train and Test with different libraries</b>"
   ]
  },
  {
   "cell_type": "code",
   "execution_count": 57,
   "metadata": {
    "cell_style": "split"
   },
   "outputs": [
    {
     "name": "stdout",
     "output_type": "stream",
     "text": [
      "rbfSVC => Train: DEKOIS; Test: DUD; split: by_library\n",
      "No. of molecules in train set: 1221, with 40 actives.\n",
      "No. of molecules in test set: 4893, with 141 actives.\n",
      "\n",
      "********** GRID SEARCH RESULTS **********\n",
      "- Mean CV ROC-AUC:\t0.891\n",
      "- Train ROC-AUC:  \t0.895\n",
      "- Test ROC-AUC:   \t0.604\n",
      "- Best hyperparameters {'C': 1e-06, 'gamma': 1e-08}\n",
      "******************************************\n",
      "\n",
      "***** Best Conformation's ROC-AUC using docking scores *****\n",
      "> Train best conf. ROC-AUC: 0.894 \t> median: 0.833, mean: 0.831\n",
      "> Test best conf. ROC-AUC: 0.720 \t> median: 0.571, mean: 0.571\n",
      "****************************************************************\n",
      "CPU times: user 1.74 s, sys: 168 ms, total: 1.9 s\n",
      "Wall time: 15.4 s\n"
     ]
    }
   ],
   "source": [
    "%%time\n",
    "estimator = SVC(kernel = 'rbf', probability=True)\n",
    "\n",
    "estimator_name = 'rbfSVC'\n",
    "hyperparams = {'C': np.geomspace(1e-8, 1e2, 6), \n",
    "               'gamma': np.geomspace(1e-8, 1e2, 6)}\n",
    "\n",
    "# Train DEKOIS, test DUD\n",
    "train_lib = 'DEKOIS'\n",
    "test_lib = 'DUD'\n",
    "split_by_library_and_gs(\n",
    "    train_lib, test_lib, estimator_name,\n",
    "    X, y, train_lib, test_lib)"
   ]
  },
  {
   "cell_type": "code",
   "execution_count": 58,
   "metadata": {
    "cell_style": "split"
   },
   "outputs": [
    {
     "name": "stdout",
     "output_type": "stream",
     "text": [
      "rbfSVC => Train: DUD; Test: DEKOIS; split: by_library\n",
      "No. of molecules in train set: 4893, with 141 actives.\n",
      "No. of molecules in test set: 1221, with 40 actives.\n",
      "\n",
      "********** GRID SEARCH RESULTS **********\n",
      "- Mean CV ROC-AUC:\t0.869\n",
      "- Train ROC-AUC:  \t0.986\n",
      "- Test ROC-AUC:   \t0.658\n",
      "- Best hyperparameters {'C': 1.0, 'gamma': 0.01}\n",
      "******************************************\n",
      "\n",
      "***** Best Conformation's ROC-AUC using docking scores *****\n",
      "> Train best conf. ROC-AUC: 0.720 \t> median: 0.571, mean: 0.571\n",
      "> Test best conf. ROC-AUC: 0.894 \t> median: 0.833, mean: 0.831\n",
      "****************************************************************\n",
      "CPU times: user 8.89 s, sys: 475 ms, total: 9.36 s\n",
      "Wall time: 6min 52s\n"
     ]
    }
   ],
   "source": [
    "%%time\n",
    "estimator = SVC(kernel = 'rbf', probability=True)\n",
    "\n",
    "estimator_name = 'rbfSVC'\n",
    "hyperparams = {'C': np.geomspace(1e-8, 1e2, 6), \n",
    "               'gamma': np.geomspace(1e-8, 1e2, 6)}\n",
    "\n",
    "# Train DEKOIS, test DUD\n",
    "train_lib = 'DUD'\n",
    "test_lib = 'DEKOIS'\n",
    "split_by_library_and_gs(\n",
    "    train_lib, test_lib, estimator_name,\n",
    "    X, y, train_lib, test_lib)"
   ]
  },
  {
   "cell_type": "markdown",
   "metadata": {},
   "source": [
    "<h3 style='color: #F84122; padding: 0px;; margin: 0px'>GS: Logistic Regression</h3>\n",
    "<b>Train and Test with different libraries</b>"
   ]
  },
  {
   "cell_type": "code",
   "execution_count": 66,
   "metadata": {
    "cell_style": "split"
   },
   "outputs": [
    {
     "name": "stdout",
     "output_type": "stream",
     "text": [
      "LogReg => Train: DEKOIS; Test: DUD; split: by_library\n",
      "No. of molecules in train set: 1221, with 40 actives.\n",
      "No. of molecules in test set: 4893, with 141 actives.\n",
      "\n",
      "********** GRID SEARCH RESULTS **********\n",
      "- Mean CV ROC-AUC:\t0.891\n",
      "- Train ROC-AUC:  \t0.890\n",
      "- Test ROC-AUC:   \t0.603\n",
      "- Best hyperparameters {'C': 0.0001, 'penalty': 'l2', 'solver': 'lbfgs'}\n",
      "******************************************\n",
      "\n",
      "***** Best Conformation's ROC-AUC using docking scores *****\n",
      "> Train best conf. ROC-AUC: 0.894 \t> median: 0.833, mean: 0.831\n",
      "> Test best conf. ROC-AUC: 0.720 \t> median: 0.571, mean: 0.571\n",
      "****************************************************************\n",
      "CPU times: user 1.49 s, sys: 670 ms, total: 2.16 s\n",
      "Wall time: 21 s\n"
     ]
    }
   ],
   "source": [
    "%%time\n",
    "from sklearn.linear_model import LogisticRegression\n",
    "\n",
    "estimator_name = 'LogReg'\n",
    "estimator = LogisticRegression(max_iter=150)\n",
    "hyperparams = {'C': np.geomspace(1e-8, 1e2, 6),\n",
    "               'penalty': ['l1', 'l2'], \n",
    "               'solver': ['lbfgs', 'liblinear']}\n",
    "\n",
    "# Train DEKOIS, test DUD\n",
    "train_lib = 'DEKOIS'\n",
    "test_lib = 'DUD'\n",
    "split_by_library_and_gs(\n",
    "    train_lib, test_lib, estimator_name,\n",
    "    X, y, train_lib, test_lib)"
   ]
  },
  {
   "cell_type": "code",
   "execution_count": 67,
   "metadata": {
    "cell_style": "split"
   },
   "outputs": [
    {
     "name": "stdout",
     "output_type": "stream",
     "text": [
      "LogReg => Train: DUD; Test: DEKOIS; split: by_library\n",
      "No. of molecules in train set: 4893, with 141 actives.\n",
      "No. of molecules in test set: 1221, with 40 actives.\n",
      "\n",
      "********** GRID SEARCH RESULTS **********\n",
      "- Mean CV ROC-AUC:\t0.815\n",
      "- Train ROC-AUC:  \t0.922\n",
      "- Test ROC-AUC:   \t0.758\n",
      "- Best hyperparameters {'C': 100.0, 'penalty': 'l2', 'solver': 'liblinear'}\n",
      "******************************************\n",
      "\n",
      "***** Best Conformation's ROC-AUC using docking scores *****\n",
      "> Train best conf. ROC-AUC: 0.720 \t> median: 0.571, mean: 0.571\n",
      "> Test best conf. ROC-AUC: 0.894 \t> median: 0.833, mean: 0.831\n",
      "****************************************************************\n",
      "CPU times: user 2.19 s, sys: 532 ms, total: 2.72 s\n",
      "Wall time: 49.5 s\n"
     ]
    }
   ],
   "source": [
    "%%time\n",
    "# from sklearn.linear_model import LogisticRegression\n",
    "\n",
    "estimator_name = 'LogReg'\n",
    "estimator = LogisticRegression(max_iter=150)\n",
    "hyperparams = {'C': np.geomspace(1e-8, 1e2, 6), \n",
    "               'penalty': ['l1', 'l2'], \n",
    "               'solver': ['lbfgs', 'liblinear']}\n",
    "\n",
    "# Train DEKOIS, test DUD\n",
    "train_lib = 'DUD'\n",
    "test_lib = 'DEKOIS'\n",
    "split_by_library_and_gs(\n",
    "    train_lib, test_lib, estimator_name,\n",
    "    X, y, train_lib, test_lib)"
   ]
  },
  {
   "cell_type": "markdown",
   "metadata": {},
   "source": [
    "<h3 style='color: #F84122; padding: 0px;; margin: 0px'>GS:Random Forest  </h3>\n",
    "<b>Train and Test with different libraries</b>"
   ]
  },
  {
   "cell_type": "code",
   "execution_count": 68,
   "metadata": {
    "cell_style": "split"
   },
   "outputs": [
    {
     "name": "stdout",
     "output_type": "stream",
     "text": [
      "RandForest => Train: DEKOIS; Test: DUD; split: by_library\n",
      "No. of molecules in train set: 1221, with 40 actives.\n",
      "No. of molecules in test set: 4893, with 141 actives.\n",
      "\n",
      "********** GRID SEARCH RESULTS **********\n",
      "- Mean CV ROC-AUC:\t0.881\n",
      "- Train ROC-AUC:  \t0.929\n",
      "- Test ROC-AUC:   \t0.573\n",
      "- Best hyperparameters {'max_depth': 3, 'max_features': 'sqrt', 'min_samples_leaf': 0.03, 'min_samples_split': 0.3, 'n_estimators': 300}\n",
      "******************************************\n",
      "\n",
      "***** Best Conformation's ROC-AUC using docking scores *****\n",
      "> Train best conf. ROC-AUC: 0.894 \t> median: 0.833, mean: 0.831\n",
      "> Test best conf. ROC-AUC: 0.720 \t> median: 0.571, mean: 0.571\n",
      "****************************************************************\n",
      "CPU times: user 2.64 s, sys: 106 ms, total: 2.75 s\n",
      "Wall time: 44.1 s\n"
     ]
    }
   ],
   "source": [
    "%%time\n",
    "from sklearn.ensemble import RandomForestClassifier\n",
    "\n",
    "estimator_name = 'RandForest'\n",
    "estimator = RandomForestClassifier()\n",
    "hyperparams = {'n_estimators': [300, 500],\n",
    "             'max_depth': [3,  5, 7],\n",
    "             'min_samples_leaf': [0.03, 0.05],\n",
    "               'min_samples_split': [0.2,  0.3],\n",
    "             'max_features': ['sqrt']\n",
    "            }\n",
    "\n",
    "# Train DEKOIS, test DUD\n",
    "train_lib = 'DEKOIS'\n",
    "test_lib = 'DUD'\n",
    "split_by_library_and_gs(\n",
    "    train_lib, test_lib, estimator_name,\n",
    "    X, y, train_lib, test_lib)"
   ]
  },
  {
   "cell_type": "code",
   "execution_count": 69,
   "metadata": {
    "cell_style": "split"
   },
   "outputs": [
    {
     "name": "stdout",
     "output_type": "stream",
     "text": [
      "RandForest => Train: DUD; Test: DEKOIS; split: by_library\n",
      "No. of molecules in train set: 4893, with 141 actives.\n",
      "No. of molecules in test set: 1221, with 40 actives.\n",
      "\n",
      "********** GRID SEARCH RESULTS **********\n",
      "- Mean CV ROC-AUC:\t0.802\n",
      "- Train ROC-AUC:  \t0.863\n",
      "- Test ROC-AUC:   \t0.675\n",
      "- Best hyperparameters {'max_depth': 7, 'max_features': 'sqrt', 'min_samples_leaf': 0.03, 'min_samples_split': 0.2, 'n_estimators': 300}\n",
      "******************************************\n",
      "\n",
      "***** Best Conformation's ROC-AUC using docking scores *****\n",
      "> Train best conf. ROC-AUC: 0.720 \t> median: 0.571, mean: 0.571\n",
      "> Test best conf. ROC-AUC: 0.894 \t> median: 0.833, mean: 0.831\n",
      "****************************************************************\n",
      "CPU times: user 4.36 s, sys: 147 ms, total: 4.5 s\n",
      "Wall time: 1min 31s\n"
     ]
    }
   ],
   "source": [
    "%%time\n",
    "from sklearn.ensemble import RandomForestClassifier\n",
    "\n",
    "estimator_name = 'RandForest'\n",
    "estimator = RandomForestClassifier()\n",
    "hyperparams = {'n_estimators': [300, 500],\n",
    "             'max_depth': [3,  5, 7],\n",
    "             'min_samples_leaf': [0.03, 0.05],\n",
    "               'min_samples_split': [0.2,  0.3],\n",
    "             'max_features': ['sqrt']\n",
    "            }\n",
    "\n",
    "# Train DEKOIS, test DUD\n",
    "train_lib = 'DUD'\n",
    "test_lib = 'DEKOIS'\n",
    "split_by_library_and_gs(\n",
    "    train_lib, test_lib, estimator_name,\n",
    "    X, y, train_lib, test_lib)"
   ]
  },
  {
   "cell_type": "markdown",
   "metadata": {},
   "source": [
    "***\n",
    "<h2 style='background-color: #F9E5AB; padding: 5px;'>\n",
    "    Merged libraries \n",
    "</h2>\n",
    "<div style='background-color: #FE8460; min-height: 5px'></div>\n",
    "\n",
    "#### DEKOIS, DUD and COCRYS are  treated as one unique library"
   ]
  },
  {
   "cell_type": "code",
   "execution_count": 94,
   "metadata": {},
   "outputs": [],
   "source": [
    "# Train and test over \n",
    "X = X_merged_dksc\n",
    "y = y_true_merged\n",
    "library = 'Merged'\n",
    "scaffold_series = df_scff_murcko['scff_generic']"
   ]
  },
  {
   "cell_type": "markdown",
   "metadata": {
    "cell_style": "center"
   },
   "source": [
    "<h3 style='color: #F84122; padding: 0px;; margin: 0px'>GS: Linear SVM </h3>\n",
    "<b>Merged Libraries</b>"
   ]
  },
  {
   "cell_type": "code",
   "execution_count": 71,
   "metadata": {
    "cell_style": "split",
    "scrolled": true
   },
   "outputs": [
    {
     "name": "stdout",
     "output_type": "stream",
     "text": [
      "LinearSVC => Train: Merged; Test: Merged; split: random\n",
      "No. of molecules in train set: 4674, with 225 actives.\n",
      "No. of molecules in test set: 1559, with 75 actives.\n",
      "\n",
      "********** GRID SEARCH RESULTS **********\n",
      "- Mean CV ROC-AUC:\t0.828\n",
      "- Train ROC-AUC:  \t0.870\n",
      "- Test ROC-AUC:   \t0.782\n",
      "- Best hyperparameters {'C': 100.0}\n",
      "******************************************\n",
      "\n",
      "***** Best Conformation's ROC-AUC using docking scores *****\n",
      "> Train best conf. ROC-AUC: 0.692 \t> median: 0.614, mean: 0.612\n",
      "> Test best conf. ROC-AUC: 0.668 \t> median: 0.599, mean: 0.593\n",
      "****************************************************************\n",
      "CPU times: user 30min 38s, sys: 1.39 s, total: 30min 39s\n",
      "Wall time: 1h 43s\n"
     ]
    }
   ],
   "source": [
    "%%time\n",
    "from sklearn.svm import SVC\n",
    "\n",
    "estimator_name = 'LinearSVC'\n",
    "estimator = SVC(kernel = 'linear', probability=True)\n",
    "hyperparams = {'C': np.geomspace(1e-8, 1e2, 6)}\n",
    "\n",
    "# RANDOM Train test splitting\n",
    "split_and_gs(library, library, estimator_name,\n",
    "             X, y, estimator, hyperparams,\n",
    "             splitting='random', test_size=0.25, \n",
    "             scaffold_series=None)"
   ]
  },
  {
   "cell_type": "code",
   "execution_count": 72,
   "metadata": {
    "cell_style": "split"
   },
   "outputs": [
    {
     "name": "stdout",
     "output_type": "stream",
     "text": [
      "LinearSVC => Train: Merged; Test: Merged; split: scaffold\n",
      "No. of molecules in train set: 4449, with 225 actives.\n",
      "No. of molecules in test set: 1784, with 75 actives.\n",
      "\n",
      "********** GRID SEARCH RESULTS **********\n",
      "- Mean CV ROC-AUC:\t0.809\n",
      "- Train ROC-AUC:  \t0.868\n",
      "- Test ROC-AUC:   \t0.724\n",
      "- Best hyperparameters {'C': 1.0}\n",
      "******************************************\n",
      "\n",
      "***** Best Conformation's ROC-AUC using docking scores *****\n",
      "> Train best conf. ROC-AUC: 0.686 \t> median: 0.593, mean: 0.590\n",
      "> Test best conf. ROC-AUC: 0.716 \t> median: 0.650, mean: 0.645\n",
      "****************************************************************\n",
      "CPU times: user 14.6 s, sys: 481 ms, total: 15.1 s\n",
      "Wall time: 26min 37s\n"
     ]
    }
   ],
   "source": [
    "%%time\n",
    "# from sklearn.svm import SVC\n",
    "\n",
    "estimator_name = 'LinearSVC'\n",
    "estimator = SVC(kernel = 'linear', probability=True)\n",
    "hyperparams = {'C': np.geomspace(1e-8, 1e2, 6)}\n",
    "\n",
    "# SCAFFOLD Train test splitting\n",
    "split_and_gs(library, library, estimator_name,\n",
    "             X, y, estimator, hyperparams,\n",
    "             splitting='scaffold', test_size=0.25, \n",
    "             scaffold_series=scaffold_series)"
   ]
  },
  {
   "cell_type": "markdown",
   "metadata": {},
   "source": [
    "<h3 style='color: #F84122; padding: 0px;; margin: 0px'>GS: Radial Basis Function SVM</h3>\n",
    "<b>Merged Libraries</b>"
   ]
  },
  {
   "cell_type": "code",
   "execution_count": 73,
   "metadata": {
    "cell_style": "split"
   },
   "outputs": [
    {
     "name": "stdout",
     "output_type": "stream",
     "text": [
      "rbfSVC => Train: Merged; Test: Merged; split: random\n",
      "No. of molecules in train set: 4674, with 225 actives.\n",
      "No. of molecules in test set: 1559, with 75 actives.\n",
      "\n",
      "********** GRID SEARCH RESULTS **********\n",
      "- Mean CV ROC-AUC:\t0.864\n",
      "- Train ROC-AUC:  \t1.000\n",
      "- Test ROC-AUC:   \t0.865\n",
      "- Best hyperparameters {'C': 100.0, 'gamma': 0.01}\n",
      "******************************************\n",
      "\n",
      "***** Best Conformation's ROC-AUC using docking scores *****\n",
      "> Train best conf. ROC-AUC: 0.689 \t> median: 0.621, mean: 0.618\n",
      "> Test best conf. ROC-AUC: 0.689 \t> median: 0.573, mean: 0.574\n",
      "****************************************************************\n",
      "CPU times: user 10.6 s, sys: 545 ms, total: 11.1 s\n",
      "Wall time: 9min 12s\n"
     ]
    }
   ],
   "source": [
    "%%time\n",
    "from sklearn.svm import SVC\n",
    "\n",
    "estimator_name = 'rbfSVC'\n",
    "estimator = SVC(kernel = 'rbf', probability=True)\n",
    "hyperparams = {'C':np.geomspace(1e-8, 1e2, 6), \n",
    "               'gamma': np.geomspace(1e-8, 1e4, 7)}\n",
    "\n",
    "# RANDOM Train test splitting\n",
    "split_and_gs(library, library, estimator_name,\n",
    "             X, y, estimator, hyperparams,\n",
    "             splitting='random', test_size=0.25, \n",
    "             scaffold_series=None)"
   ]
  },
  {
   "cell_type": "code",
   "execution_count": 74,
   "metadata": {
    "cell_style": "split"
   },
   "outputs": [
    {
     "name": "stdout",
     "output_type": "stream",
     "text": [
      "rbfSVC => Train: Merged; Test: Merged; split: scaffold\n",
      "No. of molecules in train set: 4449, with 225 actives.\n",
      "No. of molecules in test set: 1784, with 75 actives.\n",
      "\n",
      "********** GRID SEARCH RESULTS **********\n",
      "- Mean CV ROC-AUC:\t0.853\n",
      "- Train ROC-AUC:  \t1.000\n",
      "- Test ROC-AUC:   \t0.774\n",
      "- Best hyperparameters {'C': 100.0, 'gamma': 0.01}\n",
      "******************************************\n",
      "\n",
      "***** Best Conformation's ROC-AUC using docking scores *****\n",
      "> Train best conf. ROC-AUC: 0.686 \t> median: 0.593, mean: 0.590\n",
      "> Test best conf. ROC-AUC: 0.716 \t> median: 0.650, mean: 0.645\n",
      "****************************************************************\n",
      "CPU times: user 9.19 s, sys: 341 ms, total: 9.53 s\n",
      "Wall time: 6min 22s\n"
     ]
    }
   ],
   "source": [
    "%%time\n",
    "\n",
    "estimator_name = 'rbfSVC'\n",
    "estimator = SVC(kernel = 'rbf', probability=True)\n",
    "hyperparams = {'C': np.geomspace(1e-8, 1e2, 6), \n",
    "               'gamma': np.geomspace(1e-8, 1e2, 6)}\n",
    "\n",
    "# SCAFFOLD Train test splitting\n",
    "split_and_gs(library, library, estimator_name,\n",
    "             X, y, estimator, hyperparams,\n",
    "             splitting='scaffold', test_size=0.25, \n",
    "             scaffold_series=scaffold_series)"
   ]
  },
  {
   "cell_type": "markdown",
   "metadata": {},
   "source": [
    "<h3 style='color: #F84122; padding: 0px;; margin: 0px'>GS: Logistic Regression</h3>\n",
    "<b>Merged Libraries</b>"
   ]
  },
  {
   "cell_type": "code",
   "execution_count": 99,
   "metadata": {
    "cell_style": "split"
   },
   "outputs": [
    {
     "name": "stdout",
     "output_type": "stream",
     "text": [
      "LogReg => Train: Merged; Test: Merged; split: random\n",
      "No. of molecules in train set: 4674, with 225 actives.\n",
      "No. of molecules in test set: 1559, with 75 actives.\n",
      "\n",
      "********** GRID SEARCH RESULTS **********\n",
      "- Mean CV ROC-AUC:\t0.837\n",
      "- Train ROC-AUC:  \t0.896\n",
      "- Test ROC-AUC:   \t0.810\n",
      "- Best hyperparameters {'solver': 'liblinear', 'penalty': 'l1', 'C': 1.0}\n",
      "******************************************\n",
      "\n",
      "***** Best Conformation's ROC-AUC using docking scores *****\n",
      "> Train best conf. ROC-AUC: 0.703 \t> median: 0.628, mean: 0.626\n",
      "> Test best conf. ROC-AUC: 0.630 \t> median: 0.550, mean: 0.549\n",
      "****************************************************************\n",
      "CPU times: user 6.71 s, sys: 431 ms, total: 7.14 s\n",
      "Wall time: 20.6 s\n"
     ]
    }
   ],
   "source": [
    "%%time\n",
    "from sklearn.linear_model import LogisticRegression\n",
    "\n",
    "estimator_name = 'LogReg'\n",
    "estimator = LogisticRegression(max_iter=150)\n",
    "hyperparams = {'C': np.geomspace(1e-8, 1e2, 6), \n",
    "               'penalty': ['l1', 'l2'], \n",
    "               'solver': ['lbfgs', 'liblinear']}\n",
    "\n",
    "# RANDOM Train test splitting\n",
    "split_and_gs(library, library, estimator_name,\n",
    "             X, y, estimator, hyperparams,\n",
    "             splitting='random', test_size=0.25, \n",
    "             scaffold_series=None)"
   ]
  },
  {
   "cell_type": "code",
   "execution_count": 76,
   "metadata": {
    "cell_style": "split"
   },
   "outputs": [
    {
     "name": "stdout",
     "output_type": "stream",
     "text": [
      "LogReg => Train: Merged; Test: Merged; split: scaffold\n",
      "No. of molecules in train set: 4449, with 225 actives.\n",
      "No. of molecules in test set: 1784, with 75 actives.\n",
      "\n",
      "********** GRID SEARCH RESULTS **********\n",
      "- Mean CV ROC-AUC:\t0.817\n",
      "- Train ROC-AUC:  \t0.904\n",
      "- Test ROC-AUC:   \t0.749\n",
      "- Best hyperparameters {'C': 1.0, 'penalty': 'l1', 'solver': 'liblinear'}\n",
      "******************************************\n",
      "\n",
      "***** Best Conformation's ROC-AUC using docking scores *****\n",
      "> Train best conf. ROC-AUC: 0.686 \t> median: 0.593, mean: 0.590\n",
      "> Test best conf. ROC-AUC: 0.716 \t> median: 0.650, mean: 0.645\n",
      "****************************************************************\n",
      "CPU times: user 7.16 s, sys: 456 ms, total: 7.62 s\n",
      "Wall time: 45.7 s\n"
     ]
    }
   ],
   "source": [
    "%%time\n",
    "# from sklearn.linear_model import LogisticRegression\n",
    "\n",
    "estimator_name = 'LogReg'\n",
    "estimator = LogisticRegression(max_iter=150)\n",
    "hyperparams = {'C': np.geomspace(1e-8, 1e2, 6), \n",
    "               'penalty': ['l1', 'l2'], \n",
    "               'solver': ['lbfgs', 'liblinear']}\n",
    "\n",
    "# SCAFFOLD Train test splitting\n",
    "split_and_gs(library, library, estimator_name,\n",
    "             X, y, estimator, hyperparams,\n",
    "             splitting='scaffold', test_size=0.25, \n",
    "             scaffold_series=scaffold_series)"
   ]
  },
  {
   "cell_type": "markdown",
   "metadata": {},
   "source": [
    "<h3 style='color: #F84122; padding: 0px;; margin: 0px'>GS: Decision Tree Classifier</h3>\n",
    "<b>Merged Libraries</b>"
   ]
  },
  {
   "cell_type": "code",
   "execution_count": 77,
   "metadata": {
    "cell_style": "split"
   },
   "outputs": [
    {
     "name": "stdout",
     "output_type": "stream",
     "text": [
      "DTree => Train: Merged; Test: Merged; split: random\n",
      "No. of molecules in train set: 4674, with 225 actives.\n",
      "No. of molecules in test set: 1559, with 75 actives.\n",
      "\n",
      "********** GRID SEARCH RESULTS **********\n",
      "- Mean CV ROC-AUC:\t0.731\n",
      "- Train ROC-AUC:  \t0.795\n",
      "- Test ROC-AUC:   \t0.731\n",
      "- Best hyperparameters {'criterion': 'entropy', 'max_depth': 5, 'max_features': None, 'min_samples_leaf': 0.05, 'min_samples_split': 0.2}\n",
      "******************************************\n",
      "\n",
      "***** Best Conformation's ROC-AUC using docking scores *****\n",
      "> Train best conf. ROC-AUC: 0.702 \t> median: 0.620, mean: 0.618\n",
      "> Test best conf. ROC-AUC: 0.682 \t> median: 0.578, mean: 0.575\n",
      "****************************************************************\n",
      "CPU times: user 2.75 s, sys: 264 ms, total: 3.01 s\n",
      "Wall time: 6.43 s\n"
     ]
    }
   ],
   "source": [
    "%%time\n",
    "from sklearn.tree import DecisionTreeClassifier\n",
    "\n",
    "estimator_name = 'DTree'\n",
    "estimator = DecisionTreeClassifier(splitter='best')\n",
    "hyperparams = {'criterion': ['gini', 'entropy'], \n",
    "               'max_depth': [2, 3, 5],\n",
    "               'min_samples_split': [0.2,  0.3],\n",
    "               'min_samples_leaf': [0.02, 0.05, 0.1],\n",
    "               'max_features': [None, 'sqrt', 'log2']}\n",
    "\n",
    "# RANDOM Train test splitting\n",
    "split_and_gs(library, library, estimator_name,\n",
    "             X, y, estimator, hyperparams,\n",
    "             splitting='random', test_size=0.25, \n",
    "             scaffold_series=None)"
   ]
  },
  {
   "cell_type": "code",
   "execution_count": 78,
   "metadata": {
    "cell_style": "split"
   },
   "outputs": [
    {
     "name": "stdout",
     "output_type": "stream",
     "text": [
      "DTree => Train: Merged; Test: Merged; split: scaffold\n",
      "No. of molecules in train set: 4449, with 225 actives.\n",
      "No. of molecules in test set: 1784, with 75 actives.\n",
      "\n",
      "********** GRID SEARCH RESULTS **********\n",
      "- Mean CV ROC-AUC:\t0.727\n",
      "- Train ROC-AUC:  \t0.798\n",
      "- Test ROC-AUC:   \t0.653\n",
      "- Best hyperparameters {'criterion': 'gini', 'max_depth': 5, 'max_features': None, 'min_samples_leaf': 0.05, 'min_samples_split': 0.3}\n",
      "******************************************\n",
      "\n",
      "***** Best Conformation's ROC-AUC using docking scores *****\n",
      "> Train best conf. ROC-AUC: 0.686 \t> median: 0.593, mean: 0.590\n",
      "> Test best conf. ROC-AUC: 0.716 \t> median: 0.650, mean: 0.645\n",
      "****************************************************************\n",
      "CPU times: user 2.71 s, sys: 276 ms, total: 2.99 s\n",
      "Wall time: 6.36 s\n"
     ]
    }
   ],
   "source": [
    "%%time\n",
    "from sklearn.tree import DecisionTreeClassifier\n",
    "\n",
    "estimator_name = 'DTree'\n",
    "estimator = DecisionTreeClassifier(splitter='best')\n",
    "hyperparams = {'criterion': ['gini', 'entropy'], \n",
    "               'max_depth': [2, 3, 5],\n",
    "               'min_samples_split': [0.2,  0.3],\n",
    "               'min_samples_leaf': [0.02, 0.05, 0.1],\n",
    "               'max_features': [None, 'sqrt', 'log2']}\n",
    "\n",
    "# SCAFFOLD Train test splitting\n",
    "split_and_gs(library, library, estimator_name,\n",
    "             X, y, estimator, hyperparams,\n",
    "             splitting='scaffold', test_size=0.25, \n",
    "             scaffold_series=scaffold_series)"
   ]
  },
  {
   "cell_type": "markdown",
   "metadata": {},
   "source": [
    "<h3 style='color: #F84122; padding: 0px;; margin: 0px'>GS: Bagging Classifier (k-NN as base estimator) </h3>\n",
    "<b>Merged Libraries</b>"
   ]
  },
  {
   "cell_type": "code",
   "execution_count": 79,
   "metadata": {
    "cell_style": "split"
   },
   "outputs": [
    {
     "name": "stdout",
     "output_type": "stream",
     "text": [
      "CPU times: user 236 µs, sys: 2 µs, total: 238 µs\n",
      "Wall time: 246 µs\n"
     ]
    }
   ],
   "source": [
    "%%time\n",
    "from sklearn.ensemble import BaggingClassifier\n",
    "\n",
    "estimator_name = 'kNN'\n",
    "knn = KNeighborsClassifier(n_neighbors=125, p=1, \n",
    "                           weights='distance')\n",
    "estimator = BaggingClassifier(base_estimator=knn, \n",
    "                              n_jobs=3, oob_score=True)\n",
    "\n",
    "hyperparams = {'n_estimators': [300]}\n",
    "\n",
    "# RANDOM Train test splitting\n",
    "# split_and_gs(X, y, estimator, hyperparams, \n",
    "#              splitting='random', test_size=0.25, \n",
    "#              scaffold_series=None)"
   ]
  },
  {
   "cell_type": "code",
   "execution_count": 80,
   "metadata": {
    "cell_style": "split"
   },
   "outputs": [
    {
     "name": "stdout",
     "output_type": "stream",
     "text": [
      "CPU times: user 50 µs, sys: 0 ns, total: 50 µs\n",
      "Wall time: 58.7 µs\n"
     ]
    }
   ],
   "source": [
    "%%time\n",
    "# from sklearn.ensemble import BaggingClassifier\n",
    "\n",
    "estimator_name = 'kNN'\n",
    "knn = KNeighborsClassifier(n_neighbors=125, p=1, \n",
    "                           weights='distance')\n",
    "estimator = BaggingClassifier(base_estimator=knn, \n",
    "                              n_jobs=3, oob_score=True)\n",
    "\n",
    "hyperparams = {'n_estimators': [300]}\n",
    "\n",
    "# SCAFFOLD Train test splitting\n",
    "# split_and_gs(X, y, estimator, hyperparams, \n",
    "#              splitting='scaffold', test_size=0.25, \n",
    "#              scaffold_series=scaffold_series)"
   ]
  },
  {
   "cell_type": "markdown",
   "metadata": {},
   "source": [
    "<h3 style='color: #F84122; padding: 0px;; margin: 0px'>GS: Random Forest </h3>\n",
    "<b>Merged Libraries</b>"
   ]
  },
  {
   "cell_type": "code",
   "execution_count": 81,
   "metadata": {
    "cell_style": "split"
   },
   "outputs": [
    {
     "name": "stdout",
     "output_type": "stream",
     "text": [
      "RandForest => Train: Merged; Test: Merged; split: random\n",
      "No. of molecules in train set: 4674, with 225 actives.\n",
      "No. of molecules in test set: 1559, with 75 actives.\n",
      "\n",
      "********** GRID SEARCH RESULTS **********\n",
      "- Mean CV ROC-AUC:\t0.749\n",
      "- Train ROC-AUC:  \t0.791\n",
      "- Test ROC-AUC:   \t0.746\n",
      "- Best hyperparameters {'max_depth': 3, 'max_features': 'sqrt', 'min_samples_leaf': 0.02, 'min_samples_split': 0.1, 'n_estimators': 300}\n",
      "******************************************\n",
      "\n",
      "***** Best Conformation's ROC-AUC using docking scores *****\n",
      "> Train best conf. ROC-AUC: 0.678 \t> median: 0.604, mean: 0.603\n",
      "> Test best conf. ROC-AUC: 0.708 \t> median: 0.622, mean: 0.619\n",
      "****************************************************************\n",
      "CPU times: user 2.98 s, sys: 76.4 ms, total: 3.06 s\n",
      "Wall time: 37.2 s\n"
     ]
    }
   ],
   "source": [
    "%%time\n",
    "from sklearn.ensemble import RandomForestClassifier\n",
    "\n",
    "estimator_name = 'RandForest'\n",
    "estimator = RandomForestClassifier()\n",
    "hyperparams = {'n_estimators': [300, 400],\n",
    "               'max_depth': [2, 3],\n",
    "               'min_samples_split': [0.1,  0.3],\n",
    "               'min_samples_leaf': [0.02, 0.05],\n",
    "               'max_features': ['sqrt']\n",
    "            }\n",
    "\n",
    "# RANDOM Train test splitting\n",
    "split_and_gs(library, library, estimator_name,\n",
    "             X, y, estimator, hyperparams,\n",
    "             splitting='random', test_size=0.25, \n",
    "             scaffold_series=None)"
   ]
  },
  {
   "cell_type": "code",
   "execution_count": 82,
   "metadata": {
    "cell_style": "split"
   },
   "outputs": [
    {
     "name": "stdout",
     "output_type": "stream",
     "text": [
      "RandForest => Train: Merged; Test: Merged; split: scaffold\n",
      "No. of molecules in train set: 4449, with 225 actives.\n",
      "No. of molecules in test set: 1784, with 75 actives.\n",
      "\n",
      "********** GRID SEARCH RESULTS **********\n",
      "- Mean CV ROC-AUC:\t0.742\n",
      "- Train ROC-AUC:  \t0.799\n",
      "- Test ROC-AUC:   \t0.660\n",
      "- Best hyperparameters {'max_depth': 3, 'max_features': 'sqrt', 'min_samples_leaf': 0.02, 'min_samples_split': 0.1, 'n_estimators': 300}\n",
      "******************************************\n",
      "\n",
      "***** Best Conformation's ROC-AUC using docking scores *****\n",
      "> Train best conf. ROC-AUC: 0.686 \t> median: 0.593, mean: 0.590\n",
      "> Test best conf. ROC-AUC: 0.716 \t> median: 0.650, mean: 0.645\n",
      "****************************************************************\n",
      "CPU times: user 3.01 s, sys: 212 ms, total: 3.22 s\n",
      "Wall time: 37 s\n"
     ]
    }
   ],
   "source": [
    "%%time\n",
    "from sklearn.ensemble import RandomForestClassifier\n",
    "\n",
    "estimator_name = 'RandForest'\n",
    "estimator = RandomForestClassifier()\n",
    "hyperparams = {'n_estimators': [300, 400],\n",
    "               'max_depth': [2, 3],\n",
    "               'min_samples_split': [0.1,  0.3],\n",
    "               'min_samples_leaf': [0.02, 0.05],\n",
    "               'max_features': ['sqrt']\n",
    "            }\n",
    "\n",
    "# SCAFFOLD Train test splitting\n",
    "split_and_gs(library, library, estimator_name,\n",
    "             X, y, estimator, hyperparams,\n",
    "             splitting='scaffold', test_size=0.25, \n",
    "             scaffold_series=scaffold_series)"
   ]
  },
  {
   "cell_type": "markdown",
   "metadata": {},
   "source": [
    "<h3 style='color: #F84122; padding: 0px;; margin: 0px'>GS: X Gradient Boosting</h3>\n",
    "<b>Merged Libraries</b>"
   ]
  },
  {
   "cell_type": "code",
   "execution_count": 97,
   "metadata": {
    "cell_style": "split"
   },
   "outputs": [
    {
     "name": "stdout",
     "output_type": "stream",
     "text": [
      "XGB_tree => Train: Merged; Test: Merged; split: random\n",
      "No. of molecules in train set: 4674, with 225 actives.\n",
      "No. of molecules in test set: 1559, with 75 actives.\n",
      "\n",
      "********** GRID SEARCH RESULTS **********\n",
      "- Mean CV ROC-AUC:\t0.870\n",
      "- Train ROC-AUC:  \t1.000\n",
      "- Test ROC-AUC:   \t0.889\n",
      "- Best hyperparameters {'subsample': 0.5, 'n_estimators': 200, 'max_depth': 10, 'learning_rate': 0.1, 'gamma': 1, 'colsample_bytree': 0.5, 'alpha': 0.5}\n",
      "******************************************\n",
      "\n",
      "***** Best Conformation's ROC-AUC using docking scores *****\n",
      "> Train best conf. ROC-AUC: 0.670 \t> median: 0.602, mean: 0.599\n",
      "> Test best conf. ROC-AUC: 0.728 \t> median: 0.632, mean: 0.631\n",
      "****************************************************************\n",
      "CPU times: user 19 s, sys: 10.8 s, total: 29.7 s\n",
      "Wall time: 3min 55s\n"
     ]
    }
   ],
   "source": [
    "%%time\n",
    "\n",
    "from xgboost import XGBClassifier\n",
    "\n",
    "estimator_name = 'XGB_tree'\n",
    "estimator = XGBClassifier()\n",
    "hyperparams = {'n_estimators': [200, 300],\n",
    "               'max_depth': [2, 3, 10, 20],\n",
    "               'learning_rate': [0.05, 0.1],\n",
    "               'gamma': [0.01, 0.1, 0.5, 1],\n",
    "               'alpha': [0.01, 0.1, 0.5, 1],\n",
    "               'subsample': [0.3, 0.5],\n",
    "               'colsample_bytree': [0.3, 0.5, 1]\n",
    "            }\n",
    "\n",
    "# RANDOM Train test splitting\n",
    "split_and_gs(library, library, estimator_name,\n",
    "             X, y, estimator, hyperparams,\n",
    "             splitting='random', test_size=0.25, \n",
    "             scaffold_series=None,\n",
    "             # RandomizedGS\n",
    "            randomGS=True, n_iter=50)"
   ]
  },
  {
   "cell_type": "code",
   "execution_count": 98,
   "metadata": {
    "cell_style": "split"
   },
   "outputs": [
    {
     "name": "stdout",
     "output_type": "stream",
     "text": [
      "XGB_tree => Train: Merged; Test: Merged; split: scaffold\n",
      "No. of molecules in train set: 4449, with 225 actives.\n",
      "No. of molecules in test set: 1784, with 75 actives.\n",
      "\n",
      "********** GRID SEARCH RESULTS **********\n",
      "- Mean CV ROC-AUC:\t0.834\n",
      "- Train ROC-AUC:  \t1.000\n",
      "- Test ROC-AUC:   \t0.774\n",
      "- Best hyperparameters {'subsample': 0.5, 'n_estimators': 300, 'max_depth': 10, 'learning_rate': 0.05, 'gamma': 0.1, 'colsample_bytree': 0.3, 'alpha': 0.5}\n",
      "******************************************\n",
      "\n",
      "***** Best Conformation's ROC-AUC using docking scores *****\n",
      "> Train best conf. ROC-AUC: 0.686 \t> median: 0.593, mean: 0.590\n",
      "> Test best conf. ROC-AUC: 0.716 \t> median: 0.650, mean: 0.645\n",
      "****************************************************************\n",
      "CPU times: user 14.6 s, sys: 2.42 s, total: 17 s\n",
      "Wall time: 3min 50s\n"
     ]
    }
   ],
   "source": [
    "%%time\n",
    "\n",
    "from xgboost import XGBClassifier\n",
    "\n",
    "estimator_name = 'XGB_tree'\n",
    "estimator = XGBClassifier()\n",
    "hyperparams = {'n_estimators': [200, 300],\n",
    "               'max_depth': [2, 3, 10],\n",
    "               'learning_rate': [0.05, 0.1],\n",
    "               'gamma': [0.01, 0.1, 0.5, 1],\n",
    "               'alpha': [0.01, 0.1, 0.5, 1],\n",
    "               'subsample': [0.3, 0.5],\n",
    "               'colsample_bytree': [0.3, 0.5, 1]\n",
    "            }\n",
    "\n",
    "# RANDOM Train test splitting\n",
    "split_and_gs(library, library, estimator_name,\n",
    "             X, y, estimator, hyperparams,\n",
    "             splitting='scaffold', test_size=0.25, \n",
    "             scaffold_series=scaffold_series,\n",
    "             # RandomizedGS\n",
    "             randomGS=True, n_iter=50)"
   ]
  },
  {
   "cell_type": "markdown",
   "metadata": {},
   "source": [
    "## Get, Format, and Save the Results"
   ]
  },
  {
   "cell_type": "code",
   "execution_count": 101,
   "metadata": {},
   "outputs": [
    {
     "data": {
      "text/html": [
       "<div>\n",
       "<style scoped>\n",
       "    .dataframe tbody tr th:only-of-type {\n",
       "        vertical-align: middle;\n",
       "    }\n",
       "\n",
       "    .dataframe tbody tr th {\n",
       "        vertical-align: top;\n",
       "    }\n",
       "\n",
       "    .dataframe thead th {\n",
       "        text-align: right;\n",
       "    }\n",
       "</style>\n",
       "<table border=\"1\" class=\"dataframe\">\n",
       "  <thead>\n",
       "    <tr style=\"text-align: right;\">\n",
       "      <th></th>\n",
       "      <th>Train_set</th>\n",
       "      <th>Test_set</th>\n",
       "      <th>Model name</th>\n",
       "      <th>Split</th>\n",
       "      <th>N_actives_train</th>\n",
       "      <th>N_actives_test</th>\n",
       "      <th>N_mols_train</th>\n",
       "      <th>Num_mols_test</th>\n",
       "      <th>Mean-CV-ROC</th>\n",
       "      <th>ROC-AUC_train</th>\n",
       "      <th>ROC-AUC_test</th>\n",
       "      <th>best_params</th>\n",
       "      <th>DkS_max_ROC_train</th>\n",
       "      <th>DkSc_med_ROC_train</th>\n",
       "      <th>DkSc_mean_ROC_train</th>\n",
       "      <th>DkS_max_ROC_test</th>\n",
       "      <th>DkSc_med_ROC_test</th>\n",
       "      <th>DkSc_mean_ROC_test</th>\n",
       "    </tr>\n",
       "  </thead>\n",
       "  <tbody>\n",
       "    <tr>\n",
       "      <th>0</th>\n",
       "      <td>DEKOIS</td>\n",
       "      <td>DEKOIS</td>\n",
       "      <td>LinearSVC</td>\n",
       "      <td>random</td>\n",
       "      <td>915</td>\n",
       "      <td>30</td>\n",
       "      <td>306</td>\n",
       "      <td>10</td>\n",
       "      <td>0.900377</td>\n",
       "      <td>0.942599</td>\n",
       "      <td>0.833446</td>\n",
       "      <td>{'C': 0.01}</td>\n",
       "      <td>0.910471</td>\n",
       "      <td>0.843785</td>\n",
       "      <td>0.841723</td>\n",
       "      <td>0.891554</td>\n",
       "      <td>0.801436</td>\n",
       "      <td>0.798631</td>\n",
       "    </tr>\n",
       "    <tr>\n",
       "      <th>1</th>\n",
       "      <td>DEKOIS</td>\n",
       "      <td>DEKOIS</td>\n",
       "      <td>LinearSVC</td>\n",
       "      <td>scaffold</td>\n",
       "      <td>885</td>\n",
       "      <td>30</td>\n",
       "      <td>336</td>\n",
       "      <td>10</td>\n",
       "      <td>0.847173</td>\n",
       "      <td>0.874542</td>\n",
       "      <td>0.956442</td>\n",
       "      <td>{'C': 1e-08}</td>\n",
       "      <td>0.883938</td>\n",
       "      <td>0.816355</td>\n",
       "      <td>0.81151</td>\n",
       "      <td>0.965491</td>\n",
       "      <td>0.896933</td>\n",
       "      <td>0.892571</td>\n",
       "    </tr>\n",
       "    <tr>\n",
       "      <th>2</th>\n",
       "      <td>DEKOIS</td>\n",
       "      <td>DEKOIS</td>\n",
       "      <td>rbfSVC</td>\n",
       "      <td>random</td>\n",
       "      <td>915</td>\n",
       "      <td>30</td>\n",
       "      <td>306</td>\n",
       "      <td>10</td>\n",
       "      <td>0.878908</td>\n",
       "      <td>0.887608</td>\n",
       "      <td>0.914189</td>\n",
       "      <td>{'C': 1e-08, 'gamma': 0.0001}</td>\n",
       "      <td>0.886573</td>\n",
       "      <td>0.830169</td>\n",
       "      <td>0.827543</td>\n",
       "      <td>0.941047</td>\n",
       "      <td>0.853378</td>\n",
       "      <td>0.841224</td>\n",
       "    </tr>\n",
       "    <tr>\n",
       "      <th>3</th>\n",
       "      <td>DEKOIS</td>\n",
       "      <td>DEKOIS</td>\n",
       "      <td>rbfSVC</td>\n",
       "      <td>scaffold</td>\n",
       "      <td>885</td>\n",
       "      <td>30</td>\n",
       "      <td>336</td>\n",
       "      <td>10</td>\n",
       "      <td>0.846394</td>\n",
       "      <td>0.875127</td>\n",
       "      <td>0.952761</td>\n",
       "      <td>{'C': 1e-08, 'gamma': 1e-06}</td>\n",
       "      <td>0.883938</td>\n",
       "      <td>0.816355</td>\n",
       "      <td>0.81151</td>\n",
       "      <td>0.965491</td>\n",
       "      <td>0.896933</td>\n",
       "      <td>0.892571</td>\n",
       "    </tr>\n",
       "    <tr>\n",
       "      <th>4</th>\n",
       "      <td>DEKOIS</td>\n",
       "      <td>DEKOIS</td>\n",
       "      <td>LogReg</td>\n",
       "      <td>random</td>\n",
       "      <td>915</td>\n",
       "      <td>30</td>\n",
       "      <td>306</td>\n",
       "      <td>10</td>\n",
       "      <td>0.886252</td>\n",
       "      <td>0.912354</td>\n",
       "      <td>0.918243</td>\n",
       "      <td>{'C': 0.01, 'penalty': 'l2', 'solver': 'lbfgs'}</td>\n",
       "      <td>0.902881</td>\n",
       "      <td>0.834444</td>\n",
       "      <td>0.830249</td>\n",
       "      <td>0.943581</td>\n",
       "      <td>0.833868</td>\n",
       "      <td>0.832065</td>\n",
       "    </tr>\n",
       "    <tr>\n",
       "      <th>5</th>\n",
       "      <td>DEKOIS</td>\n",
       "      <td>DEKOIS</td>\n",
       "      <td>LogReg</td>\n",
       "      <td>scaffold</td>\n",
       "      <td>885</td>\n",
       "      <td>30</td>\n",
       "      <td>336</td>\n",
       "      <td>10</td>\n",
       "      <td>0.863158</td>\n",
       "      <td>0.868928</td>\n",
       "      <td>0.953374</td>\n",
       "      <td>{'C': 1e-08, 'penalty': 'l2', 'solver': 'lbfgs'}</td>\n",
       "      <td>0.883938</td>\n",
       "      <td>0.816355</td>\n",
       "      <td>0.81151</td>\n",
       "      <td>0.965491</td>\n",
       "      <td>0.896933</td>\n",
       "      <td>0.892571</td>\n",
       "    </tr>\n",
       "    <tr>\n",
       "      <th>6</th>\n",
       "      <td>DEKOIS</td>\n",
       "      <td>DEKOIS</td>\n",
       "      <td>kNN</td>\n",
       "      <td>random</td>\n",
       "      <td>915</td>\n",
       "      <td>30</td>\n",
       "      <td>306</td>\n",
       "      <td>10</td>\n",
       "      <td>0.883145</td>\n",
       "      <td>0.890923</td>\n",
       "      <td>0.848986</td>\n",
       "      <td>{'n_neighbors': 225, 'p': 1}</td>\n",
       "      <td>0.908644</td>\n",
       "      <td>0.843738</td>\n",
       "      <td>0.839167</td>\n",
       "      <td>0.933615</td>\n",
       "      <td>0.807264</td>\n",
       "      <td>0.807009</td>\n",
       "    </tr>\n",
       "    <tr>\n",
       "      <th>7</th>\n",
       "      <td>DEKOIS</td>\n",
       "      <td>DEKOIS</td>\n",
       "      <td>kNN</td>\n",
       "      <td>scaffold</td>\n",
       "      <td>885</td>\n",
       "      <td>30</td>\n",
       "      <td>336</td>\n",
       "      <td>10</td>\n",
       "      <td>0.839474</td>\n",
       "      <td>0.870643</td>\n",
       "      <td>0.953374</td>\n",
       "      <td>{'n_neighbors': 225, 'p': 2}</td>\n",
       "      <td>0.883938</td>\n",
       "      <td>0.816355</td>\n",
       "      <td>0.81151</td>\n",
       "      <td>0.965491</td>\n",
       "      <td>0.896933</td>\n",
       "      <td>0.892571</td>\n",
       "    </tr>\n",
       "    <tr>\n",
       "      <th>8</th>\n",
       "      <td>DEKOIS</td>\n",
       "      <td>DEKOIS</td>\n",
       "      <td>DTree</td>\n",
       "      <td>random</td>\n",
       "      <td>915</td>\n",
       "      <td>30</td>\n",
       "      <td>306</td>\n",
       "      <td>10</td>\n",
       "      <td>0.815631</td>\n",
       "      <td>0.901883</td>\n",
       "      <td>0.807095</td>\n",
       "      <td>{'criterion': 'gini', 'max_depth': 5, 'max_fea...</td>\n",
       "      <td>0.895518</td>\n",
       "      <td>0.829181</td>\n",
       "      <td>0.821594</td>\n",
       "      <td>0.948818</td>\n",
       "      <td>0.86098</td>\n",
       "      <td>0.85728</td>\n",
       "    </tr>\n",
       "    <tr>\n",
       "      <th>9</th>\n",
       "      <td>DEKOIS</td>\n",
       "      <td>DEKOIS</td>\n",
       "      <td>DTree</td>\n",
       "      <td>scaffold</td>\n",
       "      <td>885</td>\n",
       "      <td>30</td>\n",
       "      <td>336</td>\n",
       "      <td>10</td>\n",
       "      <td>0.85117</td>\n",
       "      <td>0.847797</td>\n",
       "      <td>0.759202</td>\n",
       "      <td>{'criterion': 'gini', 'max_depth': 5, 'max_fea...</td>\n",
       "      <td>0.883938</td>\n",
       "      <td>0.816355</td>\n",
       "      <td>0.81151</td>\n",
       "      <td>0.965491</td>\n",
       "      <td>0.896933</td>\n",
       "      <td>0.892571</td>\n",
       "    </tr>\n",
       "    <tr>\n",
       "      <th>10</th>\n",
       "      <td>DEKOIS</td>\n",
       "      <td>DEKOIS</td>\n",
       "      <td>RandForest</td>\n",
       "      <td>random</td>\n",
       "      <td>915</td>\n",
       "      <td>30</td>\n",
       "      <td>306</td>\n",
       "      <td>10</td>\n",
       "      <td>0.871186</td>\n",
       "      <td>0.904369</td>\n",
       "      <td>0.937838</td>\n",
       "      <td>{'max_depth': 2, 'max_features': 'sqrt', 'min_...</td>\n",
       "      <td>0.88322</td>\n",
       "      <td>0.821252</td>\n",
       "      <td>0.816355</td>\n",
       "      <td>0.959628</td>\n",
       "      <td>0.876098</td>\n",
       "      <td>0.873868</td>\n",
       "    </tr>\n",
       "    <tr>\n",
       "      <th>11</th>\n",
       "      <td>DEKOIS</td>\n",
       "      <td>DEKOIS</td>\n",
       "      <td>RandForest</td>\n",
       "      <td>scaffold</td>\n",
       "      <td>885</td>\n",
       "      <td>30</td>\n",
       "      <td>336</td>\n",
       "      <td>10</td>\n",
       "      <td>0.856043</td>\n",
       "      <td>0.89653</td>\n",
       "      <td>0.945092</td>\n",
       "      <td>{'max_depth': 2, 'max_features': 'log2', 'min_...</td>\n",
       "      <td>0.883938</td>\n",
       "      <td>0.816355</td>\n",
       "      <td>0.81151</td>\n",
       "      <td>0.965491</td>\n",
       "      <td>0.896933</td>\n",
       "      <td>0.892571</td>\n",
       "    </tr>\n",
       "    <tr>\n",
       "      <th>12</th>\n",
       "      <td>DUD</td>\n",
       "      <td>DUD</td>\n",
       "      <td>LinearSVC</td>\n",
       "      <td>random</td>\n",
       "      <td>3669</td>\n",
       "      <td>106</td>\n",
       "      <td>1224</td>\n",
       "      <td>35</td>\n",
       "      <td>0.833569</td>\n",
       "      <td>0.87281</td>\n",
       "      <td>0.826024</td>\n",
       "      <td>{'C': 0.001}</td>\n",
       "      <td>0.733383</td>\n",
       "      <td>0.577768</td>\n",
       "      <td>0.577159</td>\n",
       "      <td>0.75319</td>\n",
       "      <td>0.551892</td>\n",
       "      <td>0.551499</td>\n",
       "    </tr>\n",
       "    <tr>\n",
       "      <th>13</th>\n",
       "      <td>DUD</td>\n",
       "      <td>DUD</td>\n",
       "      <td>LinearSVC</td>\n",
       "      <td>scaffold</td>\n",
       "      <td>3564</td>\n",
       "      <td>105</td>\n",
       "      <td>1329</td>\n",
       "      <td>36</td>\n",
       "      <td>0.881686</td>\n",
       "      <td>0.911136</td>\n",
       "      <td>0.630274</td>\n",
       "      <td>{'C': 3.162277660168379e-06}</td>\n",
       "      <td>0.746781</td>\n",
       "      <td>0.544994</td>\n",
       "      <td>0.547037</td>\n",
       "      <td>0.719279</td>\n",
       "      <td>0.639743</td>\n",
       "      <td>0.638041</td>\n",
       "    </tr>\n",
       "    <tr>\n",
       "      <th>14</th>\n",
       "      <td>DUD</td>\n",
       "      <td>DUD</td>\n",
       "      <td>rbfSVC</td>\n",
       "      <td>random</td>\n",
       "      <td>3669</td>\n",
       "      <td>106</td>\n",
       "      <td>1224</td>\n",
       "      <td>35</td>\n",
       "      <td>0.892844</td>\n",
       "      <td>0.988109</td>\n",
       "      <td>0.853226</td>\n",
       "      <td>{'C': 0.01, 'gamma': 0.01}</td>\n",
       "      <td>0.721858</td>\n",
       "      <td>0.5794</td>\n",
       "      <td>0.578323</td>\n",
       "      <td>0.728788</td>\n",
       "      <td>0.544389</td>\n",
       "      <td>0.547793</td>\n",
       "    </tr>\n",
       "    <tr>\n",
       "      <th>15</th>\n",
       "      <td>DUD</td>\n",
       "      <td>DUD</td>\n",
       "      <td>rbfSVC</td>\n",
       "      <td>scaffold</td>\n",
       "      <td>3564</td>\n",
       "      <td>105</td>\n",
       "      <td>1329</td>\n",
       "      <td>36</td>\n",
       "      <td>0.941172</td>\n",
       "      <td>0.996814</td>\n",
       "      <td>0.586943</td>\n",
       "      <td>{'C': 0.01, 'gamma': 0.01}</td>\n",
       "      <td>0.746781</td>\n",
       "      <td>0.544994</td>\n",
       "      <td>0.547037</td>\n",
       "      <td>0.719279</td>\n",
       "      <td>0.639743</td>\n",
       "      <td>0.638041</td>\n",
       "    </tr>\n",
       "    <tr>\n",
       "      <th>16</th>\n",
       "      <td>DUD</td>\n",
       "      <td>DUD</td>\n",
       "      <td>LogReg</td>\n",
       "      <td>random</td>\n",
       "      <td>3669</td>\n",
       "      <td>106</td>\n",
       "      <td>1224</td>\n",
       "      <td>35</td>\n",
       "      <td>0.860059</td>\n",
       "      <td>0.929</td>\n",
       "      <td>0.85844</td>\n",
       "      <td>{'C': 1.0, 'penalty': 'l1', 'solver': 'libline...</td>\n",
       "      <td>0.723914</td>\n",
       "      <td>0.569477</td>\n",
       "      <td>0.56974</td>\n",
       "      <td>0.726132</td>\n",
       "      <td>0.570191</td>\n",
       "      <td>0.573672</td>\n",
       "    </tr>\n",
       "    <tr>\n",
       "      <th>17</th>\n",
       "      <td>DUD</td>\n",
       "      <td>DUD</td>\n",
       "      <td>LogReg</td>\n",
       "      <td>scaffold</td>\n",
       "      <td>3564</td>\n",
       "      <td>105</td>\n",
       "      <td>1329</td>\n",
       "      <td>36</td>\n",
       "      <td>0.887113</td>\n",
       "      <td>0.966795</td>\n",
       "      <td>0.620392</td>\n",
       "      <td>{'C': 1.0, 'penalty': 'l1', 'solver': 'libline...</td>\n",
       "      <td>0.746781</td>\n",
       "      <td>0.544994</td>\n",
       "      <td>0.547037</td>\n",
       "      <td>0.719279</td>\n",
       "      <td>0.639743</td>\n",
       "      <td>0.638041</td>\n",
       "    </tr>\n",
       "    <tr>\n",
       "      <th>18</th>\n",
       "      <td>DUD</td>\n",
       "      <td>DUD</td>\n",
       "      <td>kNN</td>\n",
       "      <td>random</td>\n",
       "      <td>3669</td>\n",
       "      <td>106</td>\n",
       "      <td>1224</td>\n",
       "      <td>35</td>\n",
       "      <td>0.811173</td>\n",
       "      <td>0.862469</td>\n",
       "      <td>0.877244</td>\n",
       "      <td>{'n_neighbors': 225, 'p': 1}</td>\n",
       "      <td>0.738875</td>\n",
       "      <td>0.572449</td>\n",
       "      <td>0.573052</td>\n",
       "      <td>0.746738</td>\n",
       "      <td>0.560399</td>\n",
       "      <td>0.562975</td>\n",
       "    </tr>\n",
       "    <tr>\n",
       "      <th>19</th>\n",
       "      <td>DUD</td>\n",
       "      <td>DUD</td>\n",
       "      <td>kNN</td>\n",
       "      <td>scaffold</td>\n",
       "      <td>3564</td>\n",
       "      <td>105</td>\n",
       "      <td>1329</td>\n",
       "      <td>36</td>\n",
       "      <td>0.827344</td>\n",
       "      <td>0.951022</td>\n",
       "      <td>0.595965</td>\n",
       "      <td>{'n_neighbors': 55, 'p': 1}</td>\n",
       "      <td>0.746781</td>\n",
       "      <td>0.544994</td>\n",
       "      <td>0.547037</td>\n",
       "      <td>0.719279</td>\n",
       "      <td>0.639743</td>\n",
       "      <td>0.638041</td>\n",
       "    </tr>\n",
       "    <tr>\n",
       "      <th>20</th>\n",
       "      <td>DUD</td>\n",
       "      <td>DUD</td>\n",
       "      <td>DTree</td>\n",
       "      <td>random</td>\n",
       "      <td>3669</td>\n",
       "      <td>106</td>\n",
       "      <td>1224</td>\n",
       "      <td>35</td>\n",
       "      <td>0.771443</td>\n",
       "      <td>0.842157</td>\n",
       "      <td>0.81264</td>\n",
       "      <td>{'criterion': 'entropy', 'max_depth': 5, 'max_...</td>\n",
       "      <td>0.726901</td>\n",
       "      <td>0.573224</td>\n",
       "      <td>0.573553</td>\n",
       "      <td>0.764676</td>\n",
       "      <td>0.560579</td>\n",
       "      <td>0.561698</td>\n",
       "    </tr>\n",
       "    <tr>\n",
       "      <th>21</th>\n",
       "      <td>DUD</td>\n",
       "      <td>DUD</td>\n",
       "      <td>DTree</td>\n",
       "      <td>scaffold</td>\n",
       "      <td>3564</td>\n",
       "      <td>105</td>\n",
       "      <td>1329</td>\n",
       "      <td>36</td>\n",
       "      <td>0.825389</td>\n",
       "      <td>0.87506</td>\n",
       "      <td>0.578081</td>\n",
       "      <td>{'criterion': 'gini', 'max_depth': 5, 'max_fea...</td>\n",
       "      <td>0.746781</td>\n",
       "      <td>0.544994</td>\n",
       "      <td>0.547037</td>\n",
       "      <td>0.719279</td>\n",
       "      <td>0.639743</td>\n",
       "      <td>0.638041</td>\n",
       "    </tr>\n",
       "    <tr>\n",
       "      <th>22</th>\n",
       "      <td>DUD</td>\n",
       "      <td>DUD</td>\n",
       "      <td>RandForest</td>\n",
       "      <td>random</td>\n",
       "      <td>3669</td>\n",
       "      <td>106</td>\n",
       "      <td>1224</td>\n",
       "      <td>35</td>\n",
       "      <td>0.777202</td>\n",
       "      <td>0.838286</td>\n",
       "      <td>0.809588</td>\n",
       "      <td>{'max_depth': 5, 'max_features': 'sqrt', 'min_...</td>\n",
       "      <td>0.713032</td>\n",
       "      <td>0.567521</td>\n",
       "      <td>0.568199</td>\n",
       "      <td>0.754403</td>\n",
       "      <td>0.574697</td>\n",
       "      <td>0.578473</td>\n",
       "    </tr>\n",
       "    <tr>\n",
       "      <th>23</th>\n",
       "      <td>DUD</td>\n",
       "      <td>DUD</td>\n",
       "      <td>RandForest</td>\n",
       "      <td>scaffold</td>\n",
       "      <td>3564</td>\n",
       "      <td>105</td>\n",
       "      <td>1329</td>\n",
       "      <td>36</td>\n",
       "      <td>0.808792</td>\n",
       "      <td>0.887686</td>\n",
       "      <td>0.645914</td>\n",
       "      <td>{'max_depth': 5, 'max_features': 'sqrt', 'min_...</td>\n",
       "      <td>0.746781</td>\n",
       "      <td>0.544994</td>\n",
       "      <td>0.547037</td>\n",
       "      <td>0.719279</td>\n",
       "      <td>0.639743</td>\n",
       "      <td>0.638041</td>\n",
       "    </tr>\n",
       "    <tr>\n",
       "      <th>24</th>\n",
       "      <td>DEKOIS</td>\n",
       "      <td>DUD</td>\n",
       "      <td>LinearSVC</td>\n",
       "      <td>by_library</td>\n",
       "      <td>1221</td>\n",
       "      <td>40</td>\n",
       "      <td>4893</td>\n",
       "      <td>141</td>\n",
       "      <td>0.888844</td>\n",
       "      <td>0.893628</td>\n",
       "      <td>0.607091</td>\n",
       "      <td>{'C': 1e-08}</td>\n",
       "      <td>0.894083</td>\n",
       "      <td>0.833272</td>\n",
       "      <td>0.830917</td>\n",
       "      <td>0.719772</td>\n",
       "      <td>0.570682</td>\n",
       "      <td>0.57074</td>\n",
       "    </tr>\n",
       "    <tr>\n",
       "      <th>25</th>\n",
       "      <td>DUD</td>\n",
       "      <td>DEKOIS</td>\n",
       "      <td>LinearSVC</td>\n",
       "      <td>by_library</td>\n",
       "      <td>4893</td>\n",
       "      <td>141</td>\n",
       "      <td>1221</td>\n",
       "      <td>40</td>\n",
       "      <td>0.821095</td>\n",
       "      <td>0.871158</td>\n",
       "      <td>0.71613</td>\n",
       "      <td>{'C': 0.0001}</td>\n",
       "      <td>0.719772</td>\n",
       "      <td>0.570682</td>\n",
       "      <td>0.57074</td>\n",
       "      <td>0.894083</td>\n",
       "      <td>0.833272</td>\n",
       "      <td>0.830917</td>\n",
       "    </tr>\n",
       "    <tr>\n",
       "      <th>26</th>\n",
       "      <td>DEKOIS</td>\n",
       "      <td>DUD</td>\n",
       "      <td>rbfSVC</td>\n",
       "      <td>by_library</td>\n",
       "      <td>1221</td>\n",
       "      <td>40</td>\n",
       "      <td>4893</td>\n",
       "      <td>141</td>\n",
       "      <td>0.891169</td>\n",
       "      <td>0.895385</td>\n",
       "      <td>0.604067</td>\n",
       "      <td>{'C': 1e-06, 'gamma': 1e-08}</td>\n",
       "      <td>0.894083</td>\n",
       "      <td>0.833272</td>\n",
       "      <td>0.830917</td>\n",
       "      <td>0.719772</td>\n",
       "      <td>0.570682</td>\n",
       "      <td>0.57074</td>\n",
       "    </tr>\n",
       "    <tr>\n",
       "      <th>27</th>\n",
       "      <td>DUD</td>\n",
       "      <td>DEKOIS</td>\n",
       "      <td>rbfSVC</td>\n",
       "      <td>by_library</td>\n",
       "      <td>4893</td>\n",
       "      <td>141</td>\n",
       "      <td>1221</td>\n",
       "      <td>40</td>\n",
       "      <td>0.868731</td>\n",
       "      <td>0.985966</td>\n",
       "      <td>0.657515</td>\n",
       "      <td>{'C': 1.0, 'gamma': 0.01}</td>\n",
       "      <td>0.719772</td>\n",
       "      <td>0.570682</td>\n",
       "      <td>0.57074</td>\n",
       "      <td>0.894083</td>\n",
       "      <td>0.833272</td>\n",
       "      <td>0.830917</td>\n",
       "    </tr>\n",
       "    <tr>\n",
       "      <th>28</th>\n",
       "      <td>DEKOIS</td>\n",
       "      <td>DUD</td>\n",
       "      <td>LogReg</td>\n",
       "      <td>by_library</td>\n",
       "      <td>1221</td>\n",
       "      <td>40</td>\n",
       "      <td>4893</td>\n",
       "      <td>141</td>\n",
       "      <td>0.891065</td>\n",
       "      <td>0.88967</td>\n",
       "      <td>0.603053</td>\n",
       "      <td>{'C': 0.0001, 'penalty': 'l2', 'solver': 'lbfgs'}</td>\n",
       "      <td>0.894083</td>\n",
       "      <td>0.833272</td>\n",
       "      <td>0.830917</td>\n",
       "      <td>0.719772</td>\n",
       "      <td>0.570682</td>\n",
       "      <td>0.57074</td>\n",
       "    </tr>\n",
       "    <tr>\n",
       "      <th>29</th>\n",
       "      <td>DUD</td>\n",
       "      <td>DEKOIS</td>\n",
       "      <td>LogReg</td>\n",
       "      <td>by_library</td>\n",
       "      <td>4893</td>\n",
       "      <td>141</td>\n",
       "      <td>1221</td>\n",
       "      <td>40</td>\n",
       "      <td>0.815492</td>\n",
       "      <td>0.921692</td>\n",
       "      <td>0.758235</td>\n",
       "      <td>{'C': 100.0, 'penalty': 'l2', 'solver': 'libli...</td>\n",
       "      <td>0.719772</td>\n",
       "      <td>0.570682</td>\n",
       "      <td>0.57074</td>\n",
       "      <td>0.894083</td>\n",
       "      <td>0.833272</td>\n",
       "      <td>0.830917</td>\n",
       "    </tr>\n",
       "    <tr>\n",
       "      <th>30</th>\n",
       "      <td>DEKOIS</td>\n",
       "      <td>DUD</td>\n",
       "      <td>RandForest</td>\n",
       "      <td>by_library</td>\n",
       "      <td>1221</td>\n",
       "      <td>40</td>\n",
       "      <td>4893</td>\n",
       "      <td>141</td>\n",
       "      <td>0.88119</td>\n",
       "      <td>0.928789</td>\n",
       "      <td>0.573097</td>\n",
       "      <td>{'max_depth': 3, 'max_features': 'sqrt', 'min_...</td>\n",
       "      <td>0.894083</td>\n",
       "      <td>0.833272</td>\n",
       "      <td>0.830917</td>\n",
       "      <td>0.719772</td>\n",
       "      <td>0.570682</td>\n",
       "      <td>0.57074</td>\n",
       "    </tr>\n",
       "    <tr>\n",
       "      <th>31</th>\n",
       "      <td>DUD</td>\n",
       "      <td>DEKOIS</td>\n",
       "      <td>RandForest</td>\n",
       "      <td>by_library</td>\n",
       "      <td>4893</td>\n",
       "      <td>141</td>\n",
       "      <td>1221</td>\n",
       "      <td>40</td>\n",
       "      <td>0.801519</td>\n",
       "      <td>0.862844</td>\n",
       "      <td>0.674852</td>\n",
       "      <td>{'max_depth': 7, 'max_features': 'sqrt', 'min_...</td>\n",
       "      <td>0.719772</td>\n",
       "      <td>0.570682</td>\n",
       "      <td>0.57074</td>\n",
       "      <td>0.894083</td>\n",
       "      <td>0.833272</td>\n",
       "      <td>0.830917</td>\n",
       "    </tr>\n",
       "    <tr>\n",
       "      <th>32</th>\n",
       "      <td>Merged</td>\n",
       "      <td>Merged</td>\n",
       "      <td>LinearSVC</td>\n",
       "      <td>random</td>\n",
       "      <td>4674</td>\n",
       "      <td>225</td>\n",
       "      <td>1559</td>\n",
       "      <td>75</td>\n",
       "      <td>0.827979</td>\n",
       "      <td>0.870314</td>\n",
       "      <td>0.781959</td>\n",
       "      <td>{'C': 100.0}</td>\n",
       "      <td>0.692112</td>\n",
       "      <td>0.613547</td>\n",
       "      <td>0.611936</td>\n",
       "      <td>0.668086</td>\n",
       "      <td>0.598574</td>\n",
       "      <td>0.592649</td>\n",
       "    </tr>\n",
       "    <tr>\n",
       "      <th>33</th>\n",
       "      <td>Merged</td>\n",
       "      <td>Merged</td>\n",
       "      <td>LinearSVC</td>\n",
       "      <td>scaffold</td>\n",
       "      <td>4449</td>\n",
       "      <td>225</td>\n",
       "      <td>1784</td>\n",
       "      <td>75</td>\n",
       "      <td>0.808644</td>\n",
       "      <td>0.86799</td>\n",
       "      <td>0.723807</td>\n",
       "      <td>{'C': 1.0}</td>\n",
       "      <td>0.685735</td>\n",
       "      <td>0.592685</td>\n",
       "      <td>0.590494</td>\n",
       "      <td>0.715885</td>\n",
       "      <td>0.650215</td>\n",
       "      <td>0.645064</td>\n",
       "    </tr>\n",
       "    <tr>\n",
       "      <th>34</th>\n",
       "      <td>Merged</td>\n",
       "      <td>Merged</td>\n",
       "      <td>rbfSVC</td>\n",
       "      <td>random</td>\n",
       "      <td>4674</td>\n",
       "      <td>225</td>\n",
       "      <td>1559</td>\n",
       "      <td>75</td>\n",
       "      <td>0.864485</td>\n",
       "      <td>1</td>\n",
       "      <td>0.865202</td>\n",
       "      <td>{'C': 100.0, 'gamma': 0.01}</td>\n",
       "      <td>0.688963</td>\n",
       "      <td>0.620888</td>\n",
       "      <td>0.617772</td>\n",
       "      <td>0.689084</td>\n",
       "      <td>0.572543</td>\n",
       "      <td>0.574456</td>\n",
       "    </tr>\n",
       "    <tr>\n",
       "      <th>35</th>\n",
       "      <td>Merged</td>\n",
       "      <td>Merged</td>\n",
       "      <td>rbfSVC</td>\n",
       "      <td>scaffold</td>\n",
       "      <td>4449</td>\n",
       "      <td>225</td>\n",
       "      <td>1784</td>\n",
       "      <td>75</td>\n",
       "      <td>0.853007</td>\n",
       "      <td>1</td>\n",
       "      <td>0.774277</td>\n",
       "      <td>{'C': 100.0, 'gamma': 0.01}</td>\n",
       "      <td>0.685735</td>\n",
       "      <td>0.592685</td>\n",
       "      <td>0.590494</td>\n",
       "      <td>0.715885</td>\n",
       "      <td>0.650215</td>\n",
       "      <td>0.645064</td>\n",
       "    </tr>\n",
       "    <tr>\n",
       "      <th>36</th>\n",
       "      <td>Merged</td>\n",
       "      <td>Merged</td>\n",
       "      <td>LogReg</td>\n",
       "      <td>scaffold</td>\n",
       "      <td>4449</td>\n",
       "      <td>225</td>\n",
       "      <td>1784</td>\n",
       "      <td>75</td>\n",
       "      <td>0.817459</td>\n",
       "      <td>0.903986</td>\n",
       "      <td>0.749116</td>\n",
       "      <td>{'C': 1.0, 'penalty': 'l1', 'solver': 'libline...</td>\n",
       "      <td>0.685735</td>\n",
       "      <td>0.592685</td>\n",
       "      <td>0.590494</td>\n",
       "      <td>0.715885</td>\n",
       "      <td>0.650215</td>\n",
       "      <td>0.645064</td>\n",
       "    </tr>\n",
       "    <tr>\n",
       "      <th>37</th>\n",
       "      <td>Merged</td>\n",
       "      <td>Merged</td>\n",
       "      <td>DTree</td>\n",
       "      <td>random</td>\n",
       "      <td>4674</td>\n",
       "      <td>225</td>\n",
       "      <td>1559</td>\n",
       "      <td>75</td>\n",
       "      <td>0.730548</td>\n",
       "      <td>0.794722</td>\n",
       "      <td>0.730606</td>\n",
       "      <td>{'criterion': 'entropy', 'max_depth': 5, 'max_...</td>\n",
       "      <td>0.702057</td>\n",
       "      <td>0.619867</td>\n",
       "      <td>0.618233</td>\n",
       "      <td>0.681505</td>\n",
       "      <td>0.57801</td>\n",
       "      <td>0.574533</td>\n",
       "    </tr>\n",
       "    <tr>\n",
       "      <th>38</th>\n",
       "      <td>Merged</td>\n",
       "      <td>Merged</td>\n",
       "      <td>DTree</td>\n",
       "      <td>scaffold</td>\n",
       "      <td>4449</td>\n",
       "      <td>225</td>\n",
       "      <td>1784</td>\n",
       "      <td>75</td>\n",
       "      <td>0.727008</td>\n",
       "      <td>0.798328</td>\n",
       "      <td>0.653443</td>\n",
       "      <td>{'criterion': 'gini', 'max_depth': 5, 'max_fea...</td>\n",
       "      <td>0.685735</td>\n",
       "      <td>0.592685</td>\n",
       "      <td>0.590494</td>\n",
       "      <td>0.715885</td>\n",
       "      <td>0.650215</td>\n",
       "      <td>0.645064</td>\n",
       "    </tr>\n",
       "    <tr>\n",
       "      <th>39</th>\n",
       "      <td>Merged</td>\n",
       "      <td>Merged</td>\n",
       "      <td>RandForest</td>\n",
       "      <td>random</td>\n",
       "      <td>4674</td>\n",
       "      <td>225</td>\n",
       "      <td>1559</td>\n",
       "      <td>75</td>\n",
       "      <td>0.749382</td>\n",
       "      <td>0.791354</td>\n",
       "      <td>0.746074</td>\n",
       "      <td>{'max_depth': 3, 'max_features': 'sqrt', 'min_...</td>\n",
       "      <td>0.677662</td>\n",
       "      <td>0.603621</td>\n",
       "      <td>0.60297</td>\n",
       "      <td>0.707709</td>\n",
       "      <td>0.622367</td>\n",
       "      <td>0.619414</td>\n",
       "    </tr>\n",
       "    <tr>\n",
       "      <th>40</th>\n",
       "      <td>Merged</td>\n",
       "      <td>Merged</td>\n",
       "      <td>RandForest</td>\n",
       "      <td>scaffold</td>\n",
       "      <td>4449</td>\n",
       "      <td>225</td>\n",
       "      <td>1784</td>\n",
       "      <td>75</td>\n",
       "      <td>0.741637</td>\n",
       "      <td>0.798528</td>\n",
       "      <td>0.660296</td>\n",
       "      <td>{'max_depth': 3, 'max_features': 'sqrt', 'min_...</td>\n",
       "      <td>0.685735</td>\n",
       "      <td>0.592685</td>\n",
       "      <td>0.590494</td>\n",
       "      <td>0.715885</td>\n",
       "      <td>0.650215</td>\n",
       "      <td>0.645064</td>\n",
       "    </tr>\n",
       "    <tr>\n",
       "      <th>41</th>\n",
       "      <td>Merged</td>\n",
       "      <td>Merged</td>\n",
       "      <td>LogReg</td>\n",
       "      <td>random</td>\n",
       "      <td>4674</td>\n",
       "      <td>225</td>\n",
       "      <td>1559</td>\n",
       "      <td>75</td>\n",
       "      <td>0.836788</td>\n",
       "      <td>0.895637</td>\n",
       "      <td>0.809793</td>\n",
       "      <td>{'solver': 'liblinear', 'penalty': 'l1', 'C': ...</td>\n",
       "      <td>0.702918</td>\n",
       "      <td>0.627917</td>\n",
       "      <td>0.626123</td>\n",
       "      <td>0.630027</td>\n",
       "      <td>0.549501</td>\n",
       "      <td>0.549316</td>\n",
       "    </tr>\n",
       "    <tr>\n",
       "      <th>42</th>\n",
       "      <td>Merged</td>\n",
       "      <td>Merged</td>\n",
       "      <td>XGB_tree</td>\n",
       "      <td>random</td>\n",
       "      <td>4674</td>\n",
       "      <td>225</td>\n",
       "      <td>1559</td>\n",
       "      <td>75</td>\n",
       "      <td>0.870431</td>\n",
       "      <td>1</td>\n",
       "      <td>0.888958</td>\n",
       "      <td>{'subsample': 0.5, 'n_estimators': 200, 'max_d...</td>\n",
       "      <td>0.669987</td>\n",
       "      <td>0.601834</td>\n",
       "      <td>0.599108</td>\n",
       "      <td>0.727875</td>\n",
       "      <td>0.63168</td>\n",
       "      <td>0.631025</td>\n",
       "    </tr>\n",
       "    <tr>\n",
       "      <th>43</th>\n",
       "      <td>Merged</td>\n",
       "      <td>Merged</td>\n",
       "      <td>XGB_tree</td>\n",
       "      <td>scaffold</td>\n",
       "      <td>4449</td>\n",
       "      <td>225</td>\n",
       "      <td>1784</td>\n",
       "      <td>75</td>\n",
       "      <td>0.833935</td>\n",
       "      <td>1</td>\n",
       "      <td>0.77402</td>\n",
       "      <td>{'subsample': 0.5, 'n_estimators': 300, 'max_d...</td>\n",
       "      <td>0.685735</td>\n",
       "      <td>0.592685</td>\n",
       "      <td>0.590494</td>\n",
       "      <td>0.715885</td>\n",
       "      <td>0.650215</td>\n",
       "      <td>0.645064</td>\n",
       "    </tr>\n",
       "  </tbody>\n",
       "</table>\n",
       "</div>"
      ],
      "text/plain": [
       "   Train_set Test_set  Model name       Split N_actives_train N_actives_test  \\\n",
       "0     DEKOIS   DEKOIS   LinearSVC      random             915             30   \n",
       "1     DEKOIS   DEKOIS   LinearSVC    scaffold             885             30   \n",
       "2     DEKOIS   DEKOIS      rbfSVC      random             915             30   \n",
       "3     DEKOIS   DEKOIS      rbfSVC    scaffold             885             30   \n",
       "4     DEKOIS   DEKOIS      LogReg      random             915             30   \n",
       "5     DEKOIS   DEKOIS      LogReg    scaffold             885             30   \n",
       "6     DEKOIS   DEKOIS         kNN      random             915             30   \n",
       "7     DEKOIS   DEKOIS         kNN    scaffold             885             30   \n",
       "8     DEKOIS   DEKOIS       DTree      random             915             30   \n",
       "9     DEKOIS   DEKOIS       DTree    scaffold             885             30   \n",
       "10    DEKOIS   DEKOIS  RandForest      random             915             30   \n",
       "11    DEKOIS   DEKOIS  RandForest    scaffold             885             30   \n",
       "12       DUD      DUD   LinearSVC      random            3669            106   \n",
       "13       DUD      DUD   LinearSVC    scaffold            3564            105   \n",
       "14       DUD      DUD      rbfSVC      random            3669            106   \n",
       "15       DUD      DUD      rbfSVC    scaffold            3564            105   \n",
       "16       DUD      DUD      LogReg      random            3669            106   \n",
       "17       DUD      DUD      LogReg    scaffold            3564            105   \n",
       "18       DUD      DUD         kNN      random            3669            106   \n",
       "19       DUD      DUD         kNN    scaffold            3564            105   \n",
       "20       DUD      DUD       DTree      random            3669            106   \n",
       "21       DUD      DUD       DTree    scaffold            3564            105   \n",
       "22       DUD      DUD  RandForest      random            3669            106   \n",
       "23       DUD      DUD  RandForest    scaffold            3564            105   \n",
       "24    DEKOIS      DUD   LinearSVC  by_library            1221             40   \n",
       "25       DUD   DEKOIS   LinearSVC  by_library            4893            141   \n",
       "26    DEKOIS      DUD      rbfSVC  by_library            1221             40   \n",
       "27       DUD   DEKOIS      rbfSVC  by_library            4893            141   \n",
       "28    DEKOIS      DUD      LogReg  by_library            1221             40   \n",
       "29       DUD   DEKOIS      LogReg  by_library            4893            141   \n",
       "30    DEKOIS      DUD  RandForest  by_library            1221             40   \n",
       "31       DUD   DEKOIS  RandForest  by_library            4893            141   \n",
       "32    Merged   Merged   LinearSVC      random            4674            225   \n",
       "33    Merged   Merged   LinearSVC    scaffold            4449            225   \n",
       "34    Merged   Merged      rbfSVC      random            4674            225   \n",
       "35    Merged   Merged      rbfSVC    scaffold            4449            225   \n",
       "36    Merged   Merged      LogReg    scaffold            4449            225   \n",
       "37    Merged   Merged       DTree      random            4674            225   \n",
       "38    Merged   Merged       DTree    scaffold            4449            225   \n",
       "39    Merged   Merged  RandForest      random            4674            225   \n",
       "40    Merged   Merged  RandForest    scaffold            4449            225   \n",
       "41    Merged   Merged      LogReg      random            4674            225   \n",
       "42    Merged   Merged    XGB_tree      random            4674            225   \n",
       "43    Merged   Merged    XGB_tree    scaffold            4449            225   \n",
       "\n",
       "   N_mols_train Num_mols_test Mean-CV-ROC ROC-AUC_train ROC-AUC_test  \\\n",
       "0           306            10    0.900377      0.942599     0.833446   \n",
       "1           336            10    0.847173      0.874542     0.956442   \n",
       "2           306            10    0.878908      0.887608     0.914189   \n",
       "3           336            10    0.846394      0.875127     0.952761   \n",
       "4           306            10    0.886252      0.912354     0.918243   \n",
       "5           336            10    0.863158      0.868928     0.953374   \n",
       "6           306            10    0.883145      0.890923     0.848986   \n",
       "7           336            10    0.839474      0.870643     0.953374   \n",
       "8           306            10    0.815631      0.901883     0.807095   \n",
       "9           336            10     0.85117      0.847797     0.759202   \n",
       "10          306            10    0.871186      0.904369     0.937838   \n",
       "11          336            10    0.856043       0.89653     0.945092   \n",
       "12         1224            35    0.833569       0.87281     0.826024   \n",
       "13         1329            36    0.881686      0.911136     0.630274   \n",
       "14         1224            35    0.892844      0.988109     0.853226   \n",
       "15         1329            36    0.941172      0.996814     0.586943   \n",
       "16         1224            35    0.860059         0.929      0.85844   \n",
       "17         1329            36    0.887113      0.966795     0.620392   \n",
       "18         1224            35    0.811173      0.862469     0.877244   \n",
       "19         1329            36    0.827344      0.951022     0.595965   \n",
       "20         1224            35    0.771443      0.842157      0.81264   \n",
       "21         1329            36    0.825389       0.87506     0.578081   \n",
       "22         1224            35    0.777202      0.838286     0.809588   \n",
       "23         1329            36    0.808792      0.887686     0.645914   \n",
       "24         4893           141    0.888844      0.893628     0.607091   \n",
       "25         1221            40    0.821095      0.871158      0.71613   \n",
       "26         4893           141    0.891169      0.895385     0.604067   \n",
       "27         1221            40    0.868731      0.985966     0.657515   \n",
       "28         4893           141    0.891065       0.88967     0.603053   \n",
       "29         1221            40    0.815492      0.921692     0.758235   \n",
       "30         4893           141     0.88119      0.928789     0.573097   \n",
       "31         1221            40    0.801519      0.862844     0.674852   \n",
       "32         1559            75    0.827979      0.870314     0.781959   \n",
       "33         1784            75    0.808644       0.86799     0.723807   \n",
       "34         1559            75    0.864485             1     0.865202   \n",
       "35         1784            75    0.853007             1     0.774277   \n",
       "36         1784            75    0.817459      0.903986     0.749116   \n",
       "37         1559            75    0.730548      0.794722     0.730606   \n",
       "38         1784            75    0.727008      0.798328     0.653443   \n",
       "39         1559            75    0.749382      0.791354     0.746074   \n",
       "40         1784            75    0.741637      0.798528     0.660296   \n",
       "41         1559            75    0.836788      0.895637     0.809793   \n",
       "42         1559            75    0.870431             1     0.888958   \n",
       "43         1784            75    0.833935             1      0.77402   \n",
       "\n",
       "                                          best_params DkS_max_ROC_train  \\\n",
       "0                                         {'C': 0.01}          0.910471   \n",
       "1                                        {'C': 1e-08}          0.883938   \n",
       "2                       {'C': 1e-08, 'gamma': 0.0001}          0.886573   \n",
       "3                        {'C': 1e-08, 'gamma': 1e-06}          0.883938   \n",
       "4     {'C': 0.01, 'penalty': 'l2', 'solver': 'lbfgs'}          0.902881   \n",
       "5    {'C': 1e-08, 'penalty': 'l2', 'solver': 'lbfgs'}          0.883938   \n",
       "6                        {'n_neighbors': 225, 'p': 1}          0.908644   \n",
       "7                        {'n_neighbors': 225, 'p': 2}          0.883938   \n",
       "8   {'criterion': 'gini', 'max_depth': 5, 'max_fea...          0.895518   \n",
       "9   {'criterion': 'gini', 'max_depth': 5, 'max_fea...          0.883938   \n",
       "10  {'max_depth': 2, 'max_features': 'sqrt', 'min_...           0.88322   \n",
       "11  {'max_depth': 2, 'max_features': 'log2', 'min_...          0.883938   \n",
       "12                                       {'C': 0.001}          0.733383   \n",
       "13                       {'C': 3.162277660168379e-06}          0.746781   \n",
       "14                         {'C': 0.01, 'gamma': 0.01}          0.721858   \n",
       "15                         {'C': 0.01, 'gamma': 0.01}          0.746781   \n",
       "16  {'C': 1.0, 'penalty': 'l1', 'solver': 'libline...          0.723914   \n",
       "17  {'C': 1.0, 'penalty': 'l1', 'solver': 'libline...          0.746781   \n",
       "18                       {'n_neighbors': 225, 'p': 1}          0.738875   \n",
       "19                        {'n_neighbors': 55, 'p': 1}          0.746781   \n",
       "20  {'criterion': 'entropy', 'max_depth': 5, 'max_...          0.726901   \n",
       "21  {'criterion': 'gini', 'max_depth': 5, 'max_fea...          0.746781   \n",
       "22  {'max_depth': 5, 'max_features': 'sqrt', 'min_...          0.713032   \n",
       "23  {'max_depth': 5, 'max_features': 'sqrt', 'min_...          0.746781   \n",
       "24                                       {'C': 1e-08}          0.894083   \n",
       "25                                      {'C': 0.0001}          0.719772   \n",
       "26                       {'C': 1e-06, 'gamma': 1e-08}          0.894083   \n",
       "27                          {'C': 1.0, 'gamma': 0.01}          0.719772   \n",
       "28  {'C': 0.0001, 'penalty': 'l2', 'solver': 'lbfgs'}          0.894083   \n",
       "29  {'C': 100.0, 'penalty': 'l2', 'solver': 'libli...          0.719772   \n",
       "30  {'max_depth': 3, 'max_features': 'sqrt', 'min_...          0.894083   \n",
       "31  {'max_depth': 7, 'max_features': 'sqrt', 'min_...          0.719772   \n",
       "32                                       {'C': 100.0}          0.692112   \n",
       "33                                         {'C': 1.0}          0.685735   \n",
       "34                        {'C': 100.0, 'gamma': 0.01}          0.688963   \n",
       "35                        {'C': 100.0, 'gamma': 0.01}          0.685735   \n",
       "36  {'C': 1.0, 'penalty': 'l1', 'solver': 'libline...          0.685735   \n",
       "37  {'criterion': 'entropy', 'max_depth': 5, 'max_...          0.702057   \n",
       "38  {'criterion': 'gini', 'max_depth': 5, 'max_fea...          0.685735   \n",
       "39  {'max_depth': 3, 'max_features': 'sqrt', 'min_...          0.677662   \n",
       "40  {'max_depth': 3, 'max_features': 'sqrt', 'min_...          0.685735   \n",
       "41  {'solver': 'liblinear', 'penalty': 'l1', 'C': ...          0.702918   \n",
       "42  {'subsample': 0.5, 'n_estimators': 200, 'max_d...          0.669987   \n",
       "43  {'subsample': 0.5, 'n_estimators': 300, 'max_d...          0.685735   \n",
       "\n",
       "   DkSc_med_ROC_train DkSc_mean_ROC_train DkS_max_ROC_test DkSc_med_ROC_test  \\\n",
       "0            0.843785            0.841723         0.891554          0.801436   \n",
       "1            0.816355             0.81151         0.965491          0.896933   \n",
       "2            0.830169            0.827543         0.941047          0.853378   \n",
       "3            0.816355             0.81151         0.965491          0.896933   \n",
       "4            0.834444            0.830249         0.943581          0.833868   \n",
       "5            0.816355             0.81151         0.965491          0.896933   \n",
       "6            0.843738            0.839167         0.933615          0.807264   \n",
       "7            0.816355             0.81151         0.965491          0.896933   \n",
       "8            0.829181            0.821594         0.948818           0.86098   \n",
       "9            0.816355             0.81151         0.965491          0.896933   \n",
       "10           0.821252            0.816355         0.959628          0.876098   \n",
       "11           0.816355             0.81151         0.965491          0.896933   \n",
       "12           0.577768            0.577159          0.75319          0.551892   \n",
       "13           0.544994            0.547037         0.719279          0.639743   \n",
       "14             0.5794            0.578323         0.728788          0.544389   \n",
       "15           0.544994            0.547037         0.719279          0.639743   \n",
       "16           0.569477             0.56974         0.726132          0.570191   \n",
       "17           0.544994            0.547037         0.719279          0.639743   \n",
       "18           0.572449            0.573052         0.746738          0.560399   \n",
       "19           0.544994            0.547037         0.719279          0.639743   \n",
       "20           0.573224            0.573553         0.764676          0.560579   \n",
       "21           0.544994            0.547037         0.719279          0.639743   \n",
       "22           0.567521            0.568199         0.754403          0.574697   \n",
       "23           0.544994            0.547037         0.719279          0.639743   \n",
       "24           0.833272            0.830917         0.719772          0.570682   \n",
       "25           0.570682             0.57074         0.894083          0.833272   \n",
       "26           0.833272            0.830917         0.719772          0.570682   \n",
       "27           0.570682             0.57074         0.894083          0.833272   \n",
       "28           0.833272            0.830917         0.719772          0.570682   \n",
       "29           0.570682             0.57074         0.894083          0.833272   \n",
       "30           0.833272            0.830917         0.719772          0.570682   \n",
       "31           0.570682             0.57074         0.894083          0.833272   \n",
       "32           0.613547            0.611936         0.668086          0.598574   \n",
       "33           0.592685            0.590494         0.715885          0.650215   \n",
       "34           0.620888            0.617772         0.689084          0.572543   \n",
       "35           0.592685            0.590494         0.715885          0.650215   \n",
       "36           0.592685            0.590494         0.715885          0.650215   \n",
       "37           0.619867            0.618233         0.681505           0.57801   \n",
       "38           0.592685            0.590494         0.715885          0.650215   \n",
       "39           0.603621             0.60297         0.707709          0.622367   \n",
       "40           0.592685            0.590494         0.715885          0.650215   \n",
       "41           0.627917            0.626123         0.630027          0.549501   \n",
       "42           0.601834            0.599108         0.727875           0.63168   \n",
       "43           0.592685            0.590494         0.715885          0.650215   \n",
       "\n",
       "   DkSc_mean_ROC_test  \n",
       "0            0.798631  \n",
       "1            0.892571  \n",
       "2            0.841224  \n",
       "3            0.892571  \n",
       "4            0.832065  \n",
       "5            0.892571  \n",
       "6            0.807009  \n",
       "7            0.892571  \n",
       "8             0.85728  \n",
       "9            0.892571  \n",
       "10           0.873868  \n",
       "11           0.892571  \n",
       "12           0.551499  \n",
       "13           0.638041  \n",
       "14           0.547793  \n",
       "15           0.638041  \n",
       "16           0.573672  \n",
       "17           0.638041  \n",
       "18           0.562975  \n",
       "19           0.638041  \n",
       "20           0.561698  \n",
       "21           0.638041  \n",
       "22           0.578473  \n",
       "23           0.638041  \n",
       "24            0.57074  \n",
       "25           0.830917  \n",
       "26            0.57074  \n",
       "27           0.830917  \n",
       "28            0.57074  \n",
       "29           0.830917  \n",
       "30            0.57074  \n",
       "31           0.830917  \n",
       "32           0.592649  \n",
       "33           0.645064  \n",
       "34           0.574456  \n",
       "35           0.645064  \n",
       "36           0.645064  \n",
       "37           0.574533  \n",
       "38           0.645064  \n",
       "39           0.619414  \n",
       "40           0.645064  \n",
       "41           0.549316  \n",
       "42           0.631025  \n",
       "43           0.645064  "
      ]
     },
     "execution_count": 101,
     "metadata": {},
     "output_type": "execute_result"
    }
   ],
   "source": [
    "### Save Results\n",
    "row_names = ['Train_set', 'Test_set', 'Model name', 'Split', \n",
    "             'N_actives_train', 'N_actives_test', 'N_mols_train', 'Num_mols_test',\n",
    "            'Mean-CV-ROC', 'ROC-AUC_train', 'ROC-AUC_test', 'best_params',\n",
    "            'DkS_max_ROC_train',  'DkSc_med_ROC_train', 'DkSc_mean_ROC_train', \n",
    "            'DkS_max_ROC_test',  'DkSc_med_ROC_test', 'DkSc_mean_ROC_test']\n",
    "\n",
    "\n",
    "# Load or save\n",
    "save=False\n",
    "filename='./GRID_SEARCH_CV_results.csv'\n",
    "if save:\n",
    "    results_df = pd.DataFrame(results_dict, index=row_names).T.reset_index().drop('index', axis=1)\n",
    "    results_df.to_csv(filename)\n",
    "else:\n",
    "    results_df = pd.read_csv(filename)\n",
    "    \n",
    "results_df"
   ]
  },
  {
   "cell_type": "markdown",
   "metadata": {},
   "source": [
    "***\n",
    "<h2 style='background-color: #F9E5AB; padding: 5px;'>\n",
    "    Merged libraries: Shuffle *y* target values in the train set\n",
    "</h2>\n",
    "<div style='background-color: #FE8460; min-height: 5px'></div>\n",
    "\n",
    "#### DEKOIS, DUD and COCRYS are  treated as one unique library"
   ]
  },
  {
   "cell_type": "code",
   "execution_count": 84,
   "metadata": {},
   "outputs": [],
   "source": [
    "# Train and test over \n",
    "X = X_merged_dksc\n",
    "# ***** Permutate y values *****\n",
    "y = y_true_merged.sample(frac=1)\n",
    "\n",
    "library = 'Merged'\n",
    "scaffold_series = df_scff_murcko['scff_generic']\n"
   ]
  },
  {
   "cell_type": "markdown",
   "metadata": {
    "cell_style": "center"
   },
   "source": [
    "<h3 style='color: #F84122; padding: 0px;; margin: 0px'>GS: Linear SVM </h3>\n",
    "<b>Merged Libraries</b>"
   ]
  },
  {
   "cell_type": "code",
   "execution_count": 85,
   "metadata": {
    "cell_style": "split",
    "scrolled": true
   },
   "outputs": [
    {
     "name": "stdout",
     "output_type": "stream",
     "text": [
      "CPU times: user 300 µs, sys: 3 µs, total: 303 µs\n",
      "Wall time: 262 µs\n"
     ]
    }
   ],
   "source": [
    "%%time\n",
    "from sklearn.svm import SVC\n",
    "\n",
    "estimator_name = 'LinearSVC'\n",
    "estimator = SVC(kernel = 'linear', probability=True)\n",
    "hyperparams = {'C': np.geomspace(1e-15, 1e-9, 3)}\n",
    "\n",
    "# RANDOM Train test splitting\n",
    "# split_and_gs(library, library, estimator_name,\n",
    "#              X, y, estimator, hyperparams,\n",
    "#              splitting='random', test_size=0.25, \n",
    "#              scaffold_series=None)"
   ]
  },
  {
   "cell_type": "code",
   "execution_count": 86,
   "metadata": {
    "cell_style": "split"
   },
   "outputs": [
    {
     "name": "stdout",
     "output_type": "stream",
     "text": [
      "CPU times: user 310 µs, sys: 3 µs, total: 313 µs\n",
      "Wall time: 270 µs\n"
     ]
    }
   ],
   "source": [
    "%%time\n",
    "# from sklearn.svm import SVC\n",
    "\n",
    "estimator_name = 'LinearSVC'\n",
    "estimator = SVC(kernel = 'linear', probability=True)\n",
    "hyperparams = {'C': np.geomspace(1e-15, 1e-9, 3)}\n",
    "\n",
    "# SCAFFOLD Train test splitting\n",
    "# split_and_gs(library, library, estimator_name,\n",
    "#              X, y, estimator, hyperparams,\n",
    "#              splitting='scaffold', test_size=0.25, \n",
    "#              scaffold_series=scaffold_series)"
   ]
  },
  {
   "cell_type": "markdown",
   "metadata": {},
   "source": [
    "<h3 style='color: #F84122; padding: 0px;; margin: 0px'>GS: Radial Basis Function SVM</h3>\n",
    "<b>Merged Libraries</b>"
   ]
  },
  {
   "cell_type": "code",
   "execution_count": 87,
   "metadata": {
    "cell_style": "split"
   },
   "outputs": [
    {
     "name": "stdout",
     "output_type": "stream",
     "text": [
      "CPU times: user 505 µs, sys: 5 µs, total: 510 µs\n",
      "Wall time: 429 µs\n"
     ]
    }
   ],
   "source": [
    "%%time\n",
    "from sklearn.svm import SVC\n",
    "\n",
    "estimator_name = 'rbfSVC'\n",
    "estimator = SVC(kernel = 'rbf', probability=True)\n",
    "hyperparams = {'C': np.geomspace(1e0, 1e2, 3), \n",
    "               'gamma': np.geomspace(1e-4, 1e0, 3)}\n",
    "\n",
    "# RANDOM Train test splitting\n",
    "# split_and_gs(library, library, estimator_name,\n",
    "#              X, y, estimator, hyperparams,\n",
    "#              splitting='random', test_size=0.25, \n",
    "#              scaffold_series=None)"
   ]
  },
  {
   "cell_type": "code",
   "execution_count": 88,
   "metadata": {
    "cell_style": "split"
   },
   "outputs": [
    {
     "name": "stdout",
     "output_type": "stream",
     "text": [
      "CPU times: user 540 µs, sys: 0 ns, total: 540 µs\n",
      "Wall time: 446 µs\n"
     ]
    }
   ],
   "source": [
    "%%time\n",
    "\n",
    "estimator_name = 'rbfSVC'\n",
    "estimator = SVC(kernel = 'rbf', probability=True)\n",
    "hyperparams = {'C': np.geomspace(1e0, 1e2, 3), \n",
    "               'gamma': np.geomspace(1e-4, 1e0, 3)}\n",
    "\n",
    "# SCAFFOLD Train test splitting\n",
    "# split_and_gs(library, library, estimator_name,\n",
    "#              X, y, estimator, hyperparams,\n",
    "#              splitting='scaffold', test_size=0.25, \n",
    "#              scaffold_series=scaffold_series)"
   ]
  },
  {
   "cell_type": "markdown",
   "metadata": {},
   "source": [
    "<h3 style='color: #F84122; padding: 0px;; margin: 0px'>GS: Logistic Regression</h3>\n",
    "<b>Merged Libraries</b>"
   ]
  },
  {
   "cell_type": "code",
   "execution_count": 89,
   "metadata": {
    "cell_style": "split"
   },
   "outputs": [
    {
     "name": "stdout",
     "output_type": "stream",
     "text": [
      "CPU times: user 329 µs, sys: 3 µs, total: 332 µs\n",
      "Wall time: 293 µs\n"
     ]
    }
   ],
   "source": [
    "%%time\n",
    "from sklearn.linear_model import LogisticRegression\n",
    "\n",
    "estimator_name = 'LogReg'\n",
    "estimator = LogisticRegression()\n",
    "hyperparams = {'C': np.geomspace(1e-4, 1e4, 3), \n",
    "               'penalty': ['l1', 'l2'], \n",
    "               'solver': ['lbfgs', 'liblinear']}\n",
    "\n",
    "# RANDOM Train test splitting\n",
    "# split_and_gs(library, library, estimator_name,\n",
    "#              X, y, estimator, hyperparams,\n",
    "#              splitting='random', test_size=0.25, \n",
    "#              scaffold_series=None)"
   ]
  },
  {
   "cell_type": "code",
   "execution_count": 90,
   "metadata": {
    "cell_style": "split"
   },
   "outputs": [
    {
     "name": "stdout",
     "output_type": "stream",
     "text": [
      "CPU times: user 346 µs, sys: 3 µs, total: 349 µs\n",
      "Wall time: 305 µs\n"
     ]
    }
   ],
   "source": [
    "%%time\n",
    "# from sklearn.linear_model import LogisticRegression\n",
    "\n",
    "estimator_name = 'LogReg'\n",
    "estimator = LogisticRegression()\n",
    "hyperparams = {'C': np.geomspace(1e-4, 1e5, 4), \n",
    "               'penalty': ['l1', 'l2'], \n",
    "               'solver': ['lbfgs', 'liblinear']}\n",
    "\n",
    "# SCAFFOLD Train test splitting\n",
    "# split_and_gs(library, library, estimator_name,\n",
    "#              X, y, estimator, hyperparams,\n",
    "#              splitting='scaffold', test_size=0.25, \n",
    "#              scaffold_series=scaffold_series)"
   ]
  },
  {
   "cell_type": "code",
   "execution_count": null,
   "metadata": {},
   "outputs": [],
   "source": []
  },
  {
   "cell_type": "code",
   "execution_count": null,
   "metadata": {},
   "outputs": [],
   "source": []
  }
 ],
 "metadata": {
  "kernelspec": {
   "display_name": "Python 3.7.6 64-bit ('mds': conda)",
   "language": "python",
   "name": "python37664bitmdsconda8fcfe9b6c3484566880235af88776fef"
  },
  "language_info": {
   "codemirror_mode": {
    "name": "ipython",
    "version": 3
   },
   "file_extension": ".py",
   "mimetype": "text/x-python",
   "name": "python",
   "nbconvert_exporter": "python",
   "pygments_lexer": "ipython3",
   "version": "3.7.6"
  }
 },
 "nbformat": 4,
 "nbformat_minor": 4
}
