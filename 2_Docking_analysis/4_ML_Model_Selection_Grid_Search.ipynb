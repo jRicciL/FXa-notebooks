{
 "cells": [
  {
   "cell_type": "markdown",
   "metadata": {},
   "source": [
    "# Model Selection"
   ]
  },
  {
   "cell_type": "code",
   "execution_count": 1,
   "metadata": {},
   "outputs": [],
   "source": [
    "import pandas as pd\n",
    "import numpy as np\n",
    "import glob, sys, os\n",
    "sys.path.append('..')"
   ]
  },
  {
   "cell_type": "code",
   "execution_count": 2,
   "metadata": {},
   "outputs": [],
   "source": [
    "from modules.plotting_metrics import PlotMetric\n",
    "import matplotlib.pyplot as plt\n",
    "import seaborn as sns\n",
    "sns.set(style='white', context='talk', font_scale=0.8)"
   ]
  },
  {
   "cell_type": "code",
   "execution_count": 3,
   "metadata": {},
   "outputs": [
    {
     "data": {
      "text/plain": [
       "40"
      ]
     },
     "execution_count": 3,
     "metadata": {},
     "output_type": "execute_result"
    }
   ],
   "source": [
    "file_name = './df_DkSc_results_COCRYS_DEKOIS_DUD.pkl'\n",
    "X_merged_dksc = pd.read_pickle(file_name)\n",
    "# Extract activity column\n",
    "y_true_merged = X_merged_dksc['activity']\n",
    "# Drop column from merged_dkksc\n",
    "X_merged_dksc = X_merged_dksc.drop('activity', axis=1)\n",
    "X_merged_dksc.shape\n",
    "y_true_merged.loc['DEKOIS'].sum()"
   ]
  },
  {
   "cell_type": "markdown",
   "metadata": {},
   "source": [
    "### Timeout Decorator"
   ]
  },
  {
   "cell_type": "code",
   "execution_count": 4,
   "metadata": {},
   "outputs": [],
   "source": [
    "import signal\n",
    "from functools import wraps\n",
    "\n",
    "def timeout(n_seconds=300):\n",
    "    '''Stops a function execution after n seconds'''\n",
    "    def decorator(func):\n",
    "        @wraps(func)\n",
    "        def wrapper(*args, **kwargs):\n",
    "            # Set alarm for n seconds\n",
    "            signal.alarm(n_seconds)\n",
    "            try:\n",
    "                # Call decorated func\n",
    "                return func(*args, **kwargs)\n",
    "#             except TimeoutError as e:\n",
    "                print(f'Execution finished after {n_seconds}:', e)\n",
    "            finally:\n",
    "                # Cancel Alarm\n",
    "                signal.alarm(0)\n",
    "        return wrapper\n",
    "    return decorator"
   ]
  },
  {
   "cell_type": "markdown",
   "metadata": {},
   "source": [
    "## Scaffold Splitting"
   ]
  },
  {
   "cell_type": "code",
   "execution_count": 5,
   "metadata": {},
   "outputs": [],
   "source": [
    "#*************************************************\n",
    "# Functions to compute stratify scaffold splitting\n",
    "#*************************************************\n",
    "from scaffold_splitter import train_test_scaffold_split"
   ]
  },
  {
   "cell_type": "code",
   "execution_count": 6,
   "metadata": {},
   "outputs": [],
   "source": [
    "# Compute or load the dataframe containing the Generic Murcko Scaffolds\n",
    "file = './df_COCRYS_DUD_DEKOIS_Murcko_Scaffolds_SMILES.obj'\n",
    "\n",
    "df_scff_murcko = pd.read_pickle(file)"
   ]
  },
  {
   "cell_type": "markdown",
   "metadata": {},
   "source": [
    "## Train/test on the same dataset "
   ]
  },
  {
   "cell_type": "markdown",
   "metadata": {},
   "source": [
    "### Learning Curves"
   ]
  },
  {
   "cell_type": "code",
   "execution_count": 7,
   "metadata": {},
   "outputs": [],
   "source": [
    "from sklearn.model_selection import GridSearchCV, train_test_split, cross_val_score\n",
    "from sklearn.preprocessing import StandardScaler\n",
    "from sklearn.metrics import roc_auc_score\n",
    "from sklearn.pipeline import Pipeline\n",
    "from sklearn.model_selection import learning_curve"
   ]
  },
  {
   "cell_type": "code",
   "execution_count": 8,
   "metadata": {},
   "outputs": [],
   "source": [
    "def plot_learning_curves(estimator, X, y, title, ylim=[0.5,1], axes=None,\n",
    "                         cv=3, train_sizes=np.linspace(0.1, 1.0, 10), \n",
    "                         scoring='roc_auc', n_jobs=4):\n",
    "    '''\n",
    "    Plot estimator performance on the training and validation\n",
    "    sets as a function of the training set size.\n",
    "\n",
    "    Parameters\n",
    "    ----------\n",
    "    estimator: sklearn estimator object type\n",
    "       Object type that implements the \"fit\" and \"predict method\"\n",
    "\n",
    "    X: array-like, shape (m_samples, n_features)\n",
    "        Training array with m_samples and n_features.\n",
    "    y: array-like, shape (m_samples)\n",
    "        Target array relative to X with m labels.\n",
    "    axes: array of 3 axes\n",
    "        matplotlib axes array to append the generated plot\n",
    "    ylim: array\n",
    "       \n",
    "    '''\n",
    "    if axes == None:\n",
    "        _, axes = plt.subplots(1, 1, figsize=(5, 5))\n",
    "        \n",
    "    axes.set(title=title, ylim=ylim, xlabel='Training examples', ylabel=f'Metric: {scoring}')\n",
    "    # Use learning_curve function from sklearn\n",
    "    train_sizes, train_scores, test_scores, fit_times, _ = \\\n",
    "       learning_curve(estimator, X, y, scoring=scoring, return_times = True,\n",
    "                      cv=cv, n_jobs=n_jobs, train_sizes=train_sizes)\n",
    "    # Compute useful metrics\n",
    "    train_scores_mean = np.mean(train_scores, axis=1)\n",
    "    train_scores_std = np.std(train_scores, axis=1)\n",
    "    test_scores_mean = np.mean(test_scores, axis=1)\n",
    "    test_scores_std = np.std(test_scores, axis=1)\n",
    "#     fit_times_mean = np.mean(fit_times, axis=1)\n",
    "#     fit_times_std = np.std(fit_times, axis=1)\n",
    "    # Plot the learning curve\n",
    "    axes.grid()\n",
    "    axes.fill_between(train_sizes, train_scores_mean - train_scores_std,\n",
    "                        train_scores_mean + train_scores_std, alpha=0.1, color='r')\n",
    "    axes.fill_between(train_sizes, test_scores_mean - test_scores_std,\n",
    "                        test_scores_mean + test_scores_std, alpha=0.1, color='g')\n",
    "    axes.plot(train_sizes, train_scores_mean, 'o-', color='r',\n",
    "                label='Train score')\n",
    "    axes.plot(train_sizes, test_scores_mean, 'o-', color='g',\n",
    "                label='Cross-validation score')\n",
    "    axes.legend(loc='lower right')\n",
    "    "
   ]
  },
  {
   "cell_type": "markdown",
   "metadata": {},
   "source": [
    "### Hyperparameters tunning: Grid Search"
   ]
  },
  {
   "cell_type": "code",
   "execution_count": 9,
   "metadata": {},
   "outputs": [],
   "source": [
    "def run_grid_search(estimator, X_train, y_train, X_test, y_test, hyperparams,  cv_value=5, \n",
    "                    scoring='roc_auc', splitting='random', std_scale=False):\n",
    "    # Format the hyperparms\n",
    "    hyperparams_dict = {'estimator__' + key: val for key, val in hyperparams.items()}\n",
    "    \n",
    "    if std_scale:\n",
    "        # Create the Pipe\n",
    "        scaler = StandardScaler()\n",
    "        pipe = Pipeline([('scaler', scaler),\n",
    "                         ('estimator', estimator)])\n",
    "    else:\n",
    "        pipe = estimator\n",
    "    \n",
    "    # Do Grid Search\n",
    "    gs = GridSearchCV(estimator = pipe, param_grid = hyperparams,\n",
    "                     cv = cv_value, scoring = scoring, n_jobs = 6, refit = True)\n",
    "\n",
    "    # Train the model\n",
    "    gs.fit(X_train, y_train) \n",
    "\n",
    "    # Predictions\n",
    "    y_train_predict = gs.predict_proba(X_train)\n",
    "    y_test_predict = gs.predict_proba(X_test)\n",
    "    \n",
    "    # Values to return\n",
    "    n_train_mols    = y_train.shape[0]\n",
    "    n_train_actives = y_train.sum()\n",
    "    n_test_mols     = y_test.shape[0]\n",
    "    n_test_actives  = y_test.sum()\n",
    "    mean_cv_roc     = gs.best_score_\n",
    "    train_roc       = roc_auc_score(y_train, y_train_predict[:, 1])\n",
    "    test_roc        = roc_auc_score(y_test, y_test_predict[:, 1])\n",
    "    best_params     = gs.best_params_\n",
    "\n",
    "    # Print some values\n",
    "    print(f'No. of molecules in train set: {n_train_mols}, with {n_train_actives} actives.')\n",
    "    print(f'No. of molecules in test set: {n_test_mols}, with {n_test_actives} actives.')\n",
    "    print('')\n",
    "    print('*'*10, 'GRID SEARCH RESULTS', '*'*10)\n",
    "    print('- Mean CV ROC-AUC:\\t{:.3f}'.format(mean_cv_roc))\n",
    "    print('- Train ROC-AUC:  \\t{:.3f}'.format(train_roc))\n",
    "    print('- Test ROC-AUC:   \\t{:.3f}'.format(test_roc))\n",
    "    print('- Best hyperparameters', best_params)\n",
    "    print('**'*21)\n",
    "    print('')\n",
    "    \n",
    "    return [n_train_mols, n_train_actives, n_test_mols, n_test_actives,\n",
    "            mean_cv_roc, train_roc, test_roc, best_params]"
   ]
  },
  {
   "cell_type": "markdown",
   "metadata": {},
   "source": [
    "### Function to report the Best Conformation's ROC-AUC for a given subset of samples"
   ]
  },
  {
   "cell_type": "code",
   "execution_count": 10,
   "metadata": {},
   "outputs": [],
   "source": [
    "#************************************************************************\n",
    "# Returns the best conformatio's ROC-AUC value of a given subset X and y\n",
    "#************************************************************************\n",
    "\n",
    "def get_roc_auc_DkSc(X_train, y_train, X_test, y_test, verbose=True):\n",
    "    roc_auc_train = X_train.apply(\n",
    "        lambda x: roc_auc_score(y_true= y_train, y_score= -x), axis=0)\n",
    "    roc_auc_test = X_test.apply(\n",
    "        lambda x: roc_auc_score(y_true= y_test, y_score= -x), axis=0)\n",
    "    # Values to return\n",
    "    train_best_roc = roc_auc_train.max()\n",
    "    train_median   = roc_auc_train.median()\n",
    "    train_mean     = roc_auc_train.mean()\n",
    "    test_best_roc = roc_auc_test.max()\n",
    "    test_median   = roc_auc_test.median()\n",
    "    test_mean     = roc_auc_test.mean()\n",
    "    \n",
    "    if verbose:\n",
    "        print(\"***** Best Conformation's ROC-AUC using docking scores *****\")\n",
    "        \n",
    "        print(\"> Train best conf. ROC-AUC: {:.3f}\".format(train_best_roc) +\n",
    "              \" \\t> median: {:.3f}\".format(train_median) +\n",
    "              ', mean: {:.3f}'.format(train_mean))\n",
    "        \n",
    "        print(\"> Test best conf. ROC-AUC: {:.3f}\".format(test_best_roc) +\n",
    "              \" \\t> median: {:.3f}\".format(test_median) +\n",
    "              ', mean: {:.3f}'.format(test_mean))\n",
    "        print('**'*32)\n",
    "    # return a list of results to capture by the  wrapper function\n",
    "    return [train_best_roc, train_median, train_mean,\n",
    "            test_best_roc, test_median, test_mean]\n",
    "        "
   ]
  },
  {
   "cell_type": "code",
   "execution_count": null,
   "metadata": {},
   "outputs": [],
   "source": []
  },
  {
   "cell_type": "code",
   "execution_count": 11,
   "metadata": {},
   "outputs": [],
   "source": [
    "#******************************************\n",
    "# Decorator functions to capture GS results\n",
    "#******************************************\n",
    "from functools import wraps\n",
    "\n",
    "def capture_GS_results(results_dict=None, capture=True):\n",
    "    def decorator(func):\n",
    "        @wraps(func)\n",
    "        def wrapper(*args, **kwargs):\n",
    "            if results_dict != None and capture:\n",
    "                results = func(*args, **kwargs)\n",
    "                # Create a key with the first four values\n",
    "                key = '_'.join(results[:4])\n",
    "                # Append results to the results dictionary\n",
    "                results_dict[key] = results\n",
    "            else:\n",
    "                return func(*args, **kwargs)\n",
    "        return wrapper\n",
    "    return decorator\n",
    "            \n",
    "#******************************************************\n",
    "# Dictionary to capture GS results using the decorator \n",
    "#******************************************************\n",
    "results_dict = {}\n",
    "\n",
    "#******************************************************\n",
    "# Function to Split and run Grid Search\n",
    "#******************************************************\n",
    "@capture_GS_results(results_dict)\n",
    "def split_and_gs(train_name, test_name, estimator_name,\n",
    "                 X, y, estimator, hyperparams, splitting='random', \n",
    "                 test_size=0.25, scaffold_series=None, **kwargs):\n",
    "    '''Given a X and y sets, a sklean estimator and an splitting method, \n",
    "    performs Grid Search CV using the parsed hyperparams'''\n",
    "    #**************\n",
    "    # Do the split\n",
    "    #**************\n",
    "    if splitting == 'scaffold':\n",
    "        X_train, X_test, y_train, y_test = \\\n",
    "            train_test_scaffold_split(X, y, scaffold_series = scaffold_series,\n",
    "                test_size=test_size, stratify=y)\n",
    "    elif splitting == 'random':\n",
    "        X_train, X_test, y_train, y_test = \\\n",
    "            train_test_split(X, y, test_size=test_size, stratify=y)\n",
    "        \n",
    "    # Verbose\n",
    "    print(f'{estimator_name} => Train: {train_name}; Test: {test_name}; split: {splitting}')\n",
    "    \n",
    "    # Function to run Grid Search\n",
    "    #----------------------------\n",
    "    gs_results = run_grid_search(estimator, \n",
    "                    X_train, y_train, X_test, y_test, \n",
    "                    hyperparams = hyperparams,  **kwargs)\n",
    "\n",
    "    # Function to extract ROC results from DkSc values \n",
    "    #-------------------------------------------------\n",
    "    dksc_results = get_roc_auc_DkSc(X_train, y_train, X_test, y_test)\n",
    "    \n",
    "    # Return both list of results to captured by the decorador function\n",
    "    return [train_name, test_name, estimator_name, splitting] + gs_results + dksc_results"
   ]
  },
  {
   "cell_type": "code",
   "execution_count": 12,
   "metadata": {},
   "outputs": [
    {
     "data": {
      "text/plain": [
       "{}"
      ]
     },
     "execution_count": 12,
     "metadata": {},
     "output_type": "execute_result"
    }
   ],
   "source": [
    "results_dict"
   ]
  },
  {
   "cell_type": "markdown",
   "metadata": {},
   "source": [
    "#  Hyperparameter Tunning: Grid Search\n",
    "<h2 style='background-color: #F9E5AB; padding: 5px;'>\n",
    "    Train-Test with DEKOIS Library\n",
    "</h2>\n",
    "<div style='background-color: #FE8460; min-height: 5px'></div>"
   ]
  },
  {
   "cell_type": "code",
   "execution_count": 13,
   "metadata": {},
   "outputs": [],
   "source": [
    "#### library = 'DEKOIS'\n",
    "library = 'DEKOIS'\n",
    "\n",
    "# Train and test over DEKOIS\n",
    "X = X_merged_dksc.loc[library]\n",
    "y = y_true_merged.loc[library]\n",
    "scaffold_series = df_scff_murcko['scff_generic'].loc[library]"
   ]
  },
  {
   "cell_type": "markdown",
   "metadata": {
    "cell_style": "center"
   },
   "source": [
    "<h3 style='color: #F84122; padding: 0px;; margin: 0px'>GS: Linear SVM </h3>\n",
    "<b>DEKOIS  - Random and Stratified Scaffold Splitting</b>"
   ]
  },
  {
   "cell_type": "code",
   "execution_count": 14,
   "metadata": {
    "cell_style": "split"
   },
   "outputs": [
    {
     "name": "stdout",
     "output_type": "stream",
     "text": [
      "LinearSVC => Train: DEKOIS; Test: DEKOIS; split: random\n",
      "No. of molecules in train set: 915, with 30 actives.\n",
      "No. of molecules in test set: 306, with 10 actives.\n",
      "\n",
      "********** GRID SEARCH RESULTS **********\n",
      "- Mean CV ROC-AUC:\t0.829\n",
      "- Train ROC-AUC:  \t1.000\n",
      "- Test ROC-AUC:   \t0.886\n",
      "- Best hyperparameters {'C': 1}\n",
      "******************************************\n",
      "\n",
      "***** Best Conformation's ROC-AUC using docking scores *****\n",
      "> Train best conf. ROC-AUC: 0.923 \t> median: 0.851, mean: 0.848\n",
      "> Test best conf. ROC-AUC: 0.877 \t> median: 0.785, mean: 0.781\n",
      "****************************************************************\n",
      "CPU times: user 718 ms, sys: 302 ms, total: 1.02 s\n",
      "Wall time: 2.82 s\n"
     ]
    }
   ],
   "source": [
    "%%time\n",
    "from sklearn.svm import SVC\n",
    "\n",
    "estimator_name = 'LinearSVC'\n",
    "estimator = SVC(kernel = 'linear', probability=True)\n",
    "hyperparams = {'C': [1]}\n",
    "\n",
    "# RANDOM Train test splitting\n",
    "split_and_gs(library, library, estimator_name,\n",
    "             X, y, estimator, hyperparams, \n",
    "             splitting='random', test_size=0.25, \n",
    "             scaffold_series=None)"
   ]
  },
  {
   "cell_type": "code",
   "execution_count": 15,
   "metadata": {
    "cell_style": "split"
   },
   "outputs": [
    {
     "name": "stdout",
     "output_type": "stream",
     "text": [
      "LinearSVC => Train: DEKOIS; Test: DEKOIS; split: scaffold\n",
      "No. of molecules in train set: 885, with 30 actives.\n",
      "No. of molecules in test set: 336, with 10 actives.\n",
      "\n",
      "********** GRID SEARCH RESULTS **********\n",
      "- Mean CV ROC-AUC:\t0.847\n",
      "- Train ROC-AUC:  \t0.875\n",
      "- Test ROC-AUC:   \t0.956\n",
      "- Best hyperparameters {'C': 1e-15}\n",
      "******************************************\n",
      "\n",
      "***** Best Conformation's ROC-AUC using docking scores *****\n",
      "> Train best conf. ROC-AUC: 0.884 \t> median: 0.816, mean: 0.812\n",
      "> Test best conf. ROC-AUC: 0.965 \t> median: 0.897, mean: 0.893\n",
      "****************************************************************\n",
      "CPU times: user 625 ms, sys: 62.1 ms, total: 687 ms\n",
      "Wall time: 1.3 s\n"
     ]
    }
   ],
   "source": [
    "%%time\n",
    "# from sklearn.svm import SVC\n",
    "\n",
    "estimator_name = 'LinearSVC'\n",
    "estimator = SVC(kernel = 'linear', probability=True)\n",
    "hyperparams = {'C': np.geomspace(1e-15, 1e-6, 4)}\n",
    "\n",
    "# SCAFFOLD Train test splitting\n",
    "split_and_gs(library, library, estimator_name,\n",
    "              X, y, estimator, hyperparams, \n",
    "             splitting='scaffold', test_size=0.25, \n",
    "             scaffold_series=scaffold_series)"
   ]
  },
  {
   "cell_type": "markdown",
   "metadata": {},
   "source": [
    "<h3 style='color: #F84122; padding: 0px;; margin: 0px'>GS: Radial Basis Function SVM </h3>\n",
    "<b>DEKOIS  - Random and Stratified Scaffold Splitting</b>"
   ]
  },
  {
   "cell_type": "code",
   "execution_count": 16,
   "metadata": {
    "cell_style": "split"
   },
   "outputs": [
    {
     "name": "stdout",
     "output_type": "stream",
     "text": [
      "rbfSVC => Train: DEKOIS; Test: DEKOIS; split: random\n",
      "No. of molecules in train set: 915, with 30 actives.\n",
      "No. of molecules in test set: 306, with 10 actives.\n",
      "\n",
      "********** GRID SEARCH RESULTS **********\n",
      "- Mean CV ROC-AUC:\t0.873\n",
      "- Train ROC-AUC:  \t0.875\n",
      "- Test ROC-AUC:   \t0.943\n",
      "- Best hyperparameters {'C': 1e-08, 'gamma': 1e-06}\n",
      "******************************************\n",
      "\n",
      "***** Best Conformation's ROC-AUC using docking scores *****\n",
      "> Train best conf. ROC-AUC: 0.888 \t> median: 0.818, mean: 0.815\n",
      "> Test best conf. ROC-AUC: 0.944 \t> median: 0.880, mean: 0.878\n",
      "****************************************************************\n",
      "CPU times: user 931 ms, sys: 154 ms, total: 1.09 s\n",
      "Wall time: 2.48 s\n"
     ]
    }
   ],
   "source": [
    "%%time\n",
    "estimator_name = 'rbfSVC'\n",
    "estimator = SVC(kernel = 'rbf', probability=True)\n",
    "hyperparams = {'C': np.geomspace(1e-8, 1e-2, 4), \n",
    "               'gamma': np.geomspace(1e-6, 1e0, 4)}\n",
    "\n",
    "# RANDOM Train test splitting\n",
    "split_and_gs(library, library, estimator_name,\n",
    "             X, y, estimator, hyperparams, \n",
    "             splitting='random', test_size=0.25, \n",
    "             scaffold_series=None)"
   ]
  },
  {
   "cell_type": "code",
   "execution_count": 17,
   "metadata": {
    "cell_style": "split"
   },
   "outputs": [
    {
     "name": "stdout",
     "output_type": "stream",
     "text": [
      "rbfSVC => Train: DEKOIS; Test: DEKOIS; split: scaffold\n",
      "No. of molecules in train set: 885, with 30 actives.\n",
      "No. of molecules in test set: 336, with 10 actives.\n",
      "\n",
      "********** GRID SEARCH RESULTS **********\n",
      "- Mean CV ROC-AUC:\t0.846\n",
      "- Train ROC-AUC:  \t0.875\n",
      "- Test ROC-AUC:   \t0.953\n",
      "- Best hyperparameters {'C': 1e-08, 'gamma': 1e-06}\n",
      "******************************************\n",
      "\n",
      "***** Best Conformation's ROC-AUC using docking scores *****\n",
      "> Train best conf. ROC-AUC: 0.884 \t> median: 0.816, mean: 0.812\n",
      "> Test best conf. ROC-AUC: 0.965 \t> median: 0.897, mean: 0.893\n",
      "****************************************************************\n",
      "CPU times: user 918 ms, sys: 136 ms, total: 1.05 s\n",
      "Wall time: 2.36 s\n"
     ]
    }
   ],
   "source": [
    "%%time\n",
    "estimator_name = 'rbfSVC'\n",
    "estimator = SVC(kernel = 'rbf', probability=True)\n",
    "hyperparams = {'C': np.geomspace(1e-8, 1e-2, 4), \n",
    "               'gamma': np.geomspace(1e-6, 1e0, 4)}\n",
    "\n",
    "# SCAFFOLD Train test splitting\n",
    "split_and_gs(library, library, estimator_name,\n",
    "             X, y, estimator, hyperparams, \n",
    "             splitting='scaffold', test_size=0.25, \n",
    "             scaffold_series=scaffold_series)"
   ]
  },
  {
   "cell_type": "markdown",
   "metadata": {},
   "source": [
    "<h3 style='color: #F84122; padding: 0px;; margin: 0px'> GS: Logistic Regression </h3>\n",
    "<b>DEKOIS  - Random and Stratified Scaffold Splitting</b>"
   ]
  },
  {
   "cell_type": "code",
   "execution_count": 18,
   "metadata": {
    "cell_style": "split"
   },
   "outputs": [
    {
     "name": "stdout",
     "output_type": "stream",
     "text": [
      "LogReg => Train: DEKOIS; Test: DEKOIS; split: random\n"
     ]
    },
    {
     "name": "stderr",
     "output_type": "stream",
     "text": [
      "/home/joel/anaconda3/envs/mds/lib/python3.7/site-packages/sklearn/linear_model/_logistic.py:940: ConvergenceWarning: lbfgs failed to converge (status=1):\n",
      "STOP: TOTAL NO. of ITERATIONS REACHED LIMIT.\n",
      "\n",
      "Increase the number of iterations (max_iter) or scale the data as shown in:\n",
      "    https://scikit-learn.org/stable/modules/preprocessing.html\n",
      "Please also refer to the documentation for alternative solver options:\n",
      "    https://scikit-learn.org/stable/modules/linear_model.html#logistic-regression\n",
      "  extra_warning_msg=_LOGISTIC_SOLVER_CONVERGENCE_MSG)\n"
     ]
    },
    {
     "name": "stdout",
     "output_type": "stream",
     "text": [
      "No. of molecules in train set: 915, with 30 actives.\n",
      "No. of molecules in test set: 306, with 10 actives.\n",
      "\n",
      "********** GRID SEARCH RESULTS **********\n",
      "- Mean CV ROC-AUC:\t0.922\n",
      "- Train ROC-AUC:  \t0.950\n",
      "- Test ROC-AUC:   \t0.805\n",
      "- Best hyperparameters {'C': 0.01, 'penalty': 'l2', 'solver': 'lbfgs'}\n",
      "******************************************\n",
      "\n",
      "***** Best Conformation's ROC-AUC using docking scores *****\n",
      "> Train best conf. ROC-AUC: 0.929 \t> median: 0.867, mean: 0.860\n",
      "> Test best conf. ROC-AUC: 0.857 \t> median: 0.747, mean: 0.744\n",
      "****************************************************************\n",
      "CPU times: user 1.23 s, sys: 601 ms, total: 1.83 s\n",
      "Wall time: 1.84 s\n"
     ]
    }
   ],
   "source": [
    "%%time\n",
    "from sklearn.linear_model import LogisticRegression\n",
    "\n",
    "estimator_name = 'LogReg'\n",
    "estimator = LogisticRegression()\n",
    "hyperparams = {'C': [0.00001, 0.0001, 0.001, 0.01, 0.1], \n",
    "               'penalty': ['l1', 'l2'], \n",
    "               'solver': ['lbfgs', 'liblinear']}\n",
    "\n",
    "# RANDOM Train test splitting\n",
    "split_and_gs(library, library, estimator_name,\n",
    "             X, y, estimator, hyperparams, \n",
    "             splitting='random', test_size=0.25, \n",
    "             scaffold_series=None)"
   ]
  },
  {
   "cell_type": "code",
   "execution_count": 19,
   "metadata": {
    "cell_style": "split"
   },
   "outputs": [
    {
     "name": "stdout",
     "output_type": "stream",
     "text": [
      "LogReg => Train: DEKOIS; Test: DEKOIS; split: scaffold\n",
      "No. of molecules in train set: 885, with 30 actives.\n",
      "No. of molecules in test set: 336, with 10 actives.\n",
      "\n",
      "********** GRID SEARCH RESULTS **********\n",
      "- Mean CV ROC-AUC:\t0.864\n",
      "- Train ROC-AUC:  \t0.876\n",
      "- Test ROC-AUC:   \t0.956\n",
      "- Best hyperparameters {'C': 0.001, 'penalty': 'l2', 'solver': 'lbfgs'}\n",
      "******************************************\n",
      "\n",
      "***** Best Conformation's ROC-AUC using docking scores *****\n",
      "> Train best conf. ROC-AUC: 0.884 \t> median: 0.816, mean: 0.812\n",
      "> Test best conf. ROC-AUC: 0.965 \t> median: 0.897, mean: 0.893\n",
      "****************************************************************\n",
      "CPU times: user 1.18 s, sys: 581 ms, total: 1.76 s\n",
      "Wall time: 1.55 s\n"
     ]
    }
   ],
   "source": [
    "%%time\n",
    "# from sklearn.linear_model import LogisticRegression\n",
    "\n",
    "estimator_name = 'LogReg'\n",
    "estimator = LogisticRegression()\n",
    "hyperparams = {'C': [0.00001, 0.0001, 0.001, 0.01, 0.1], \n",
    "               'penalty': ['l1', 'l2'], \n",
    "               'solver': ['lbfgs', 'liblinear']}\n",
    "\n",
    "# SCAFFOLD Train test splitting\n",
    "split_and_gs(library, library, estimator_name,\n",
    "             X, y, estimator, hyperparams,\n",
    "             splitting='scaffold', test_size=0.25, \n",
    "             scaffold_series=scaffold_series)"
   ]
  },
  {
   "cell_type": "markdown",
   "metadata": {},
   "source": [
    "<h3 style='color: #F84122; padding: 0px;; margin: 0px'>GS: K-Neighbors Classifier</h3>\n",
    "<b>DEKOIS  - Random and Stratified Scaffold Splitting</b>"
   ]
  },
  {
   "cell_type": "code",
   "execution_count": 20,
   "metadata": {
    "cell_style": "split"
   },
   "outputs": [
    {
     "name": "stdout",
     "output_type": "stream",
     "text": [
      "kNN => Train: DEKOIS; Test: DEKOIS; split: random\n",
      "No. of molecules in train set: 915, with 30 actives.\n",
      "No. of molecules in test set: 306, with 10 actives.\n",
      "\n",
      "********** GRID SEARCH RESULTS **********\n",
      "- Mean CV ROC-AUC:\t0.923\n",
      "- Train ROC-AUC:  \t0.944\n",
      "- Test ROC-AUC:   \t0.837\n",
      "- Best hyperparameters {'n_neighbors': 55, 'p': 2}\n",
      "******************************************\n",
      "\n",
      "***** Best Conformation's ROC-AUC using docking scores *****\n",
      "> Train best conf. ROC-AUC: 0.908 \t> median: 0.841, mean: 0.833\n",
      "> Test best conf. ROC-AUC: 0.917 \t> median: 0.826, mean: 0.824\n",
      "****************************************************************\n",
      "CPU times: user 860 ms, sys: 88 ms, total: 948 ms\n",
      "Wall time: 2.26 s\n"
     ]
    }
   ],
   "source": [
    "%%time\n",
    "from sklearn.neighbors import KNeighborsClassifier \n",
    "\n",
    "estimator_name = 'kNN'\n",
    "estimator = KNeighborsClassifier()\n",
    "hyperparams = {'n_neighbors': [25, 55, 125, 225], \n",
    "               'p': [1, 2]\n",
    "             }\n",
    "\n",
    "# RANDOM Train test splitting\n",
    "split_and_gs(library, library, estimator_name,\n",
    "             X, y, estimator, hyperparams,\n",
    "             splitting='random', test_size=0.25, \n",
    "             scaffold_series=None)"
   ]
  },
  {
   "cell_type": "code",
   "execution_count": 21,
   "metadata": {
    "cell_style": "split"
   },
   "outputs": [
    {
     "name": "stdout",
     "output_type": "stream",
     "text": [
      "kNN => Train: DEKOIS; Test: DEKOIS; split: scaffold\n",
      "No. of molecules in train set: 885, with 30 actives.\n",
      "No. of molecules in test set: 336, with 10 actives.\n",
      "\n",
      "********** GRID SEARCH RESULTS **********\n",
      "- Mean CV ROC-AUC:\t0.839\n",
      "- Train ROC-AUC:  \t0.871\n",
      "- Test ROC-AUC:   \t0.953\n",
      "- Best hyperparameters {'n_neighbors': 225, 'p': 2}\n",
      "******************************************\n",
      "\n",
      "***** Best Conformation's ROC-AUC using docking scores *****\n",
      "> Train best conf. ROC-AUC: 0.884 \t> median: 0.816, mean: 0.812\n",
      "> Test best conf. ROC-AUC: 0.965 \t> median: 0.897, mean: 0.893\n",
      "****************************************************************\n",
      "CPU times: user 947 ms, sys: 85.4 ms, total: 1.03 s\n",
      "Wall time: 1.5 s\n"
     ]
    }
   ],
   "source": [
    "%%time\n",
    "from sklearn.neighbors import KNeighborsClassifier \n",
    "\n",
    "estimator_name = 'kNN'\n",
    "estimator = KNeighborsClassifier()\n",
    "hyperparams = {'n_neighbors': [25, 55, 125, 225], \n",
    "               'p': [1, 2]\n",
    "             }\n",
    "\n",
    "# SCAFFOLD Train test splitting\n",
    "split_and_gs(library, library, estimator_name,\n",
    "             X, y, estimator, hyperparams,\n",
    "             splitting='scaffold', test_size=0.25, \n",
    "             scaffold_series=scaffold_series)"
   ]
  },
  {
   "cell_type": "markdown",
   "metadata": {},
   "source": [
    "<h3 style='color: #F84122; padding: 0px;; margin: 0px'>GS: Decision Tree Classifier</h3>\n",
    "<b>DEKOIS  - Random and Stratified Scaffold Splitting</b>"
   ]
  },
  {
   "cell_type": "code",
   "execution_count": 22,
   "metadata": {
    "cell_style": "split"
   },
   "outputs": [
    {
     "name": "stdout",
     "output_type": "stream",
     "text": [
      "DTree => Train: DEKOIS; Test: DEKOIS; split: random\n",
      "No. of molecules in train set: 915, with 30 actives.\n",
      "No. of molecules in test set: 306, with 10 actives.\n",
      "\n",
      "********** GRID SEARCH RESULTS **********\n",
      "- Mean CV ROC-AUC:\t0.861\n",
      "- Train ROC-AUC:  \t0.933\n",
      "- Test ROC-AUC:   \t0.826\n",
      "- Best hyperparameters {'criterion': 'gini', 'max_depth': 5, 'max_features': 'sqrt', 'min_samples_split': 0.2}\n",
      "******************************************\n",
      "\n",
      "***** Best Conformation's ROC-AUC using docking scores *****\n",
      "> Train best conf. ROC-AUC: 0.903 \t> median: 0.827, mean: 0.827\n",
      "> Test best conf. ROC-AUC: 0.929 \t> median: 0.850, mean: 0.844\n",
      "****************************************************************\n",
      "CPU times: user 1.22 s, sys: 248 ms, total: 1.47 s\n",
      "Wall time: 2.06 s\n"
     ]
    }
   ],
   "source": [
    "%%time\n",
    "from sklearn.tree import DecisionTreeClassifier\n",
    "\n",
    "estimator_name = 'DTree'\n",
    "estimator = DecisionTreeClassifier(splitter='best')\n",
    "hyperparams = {'criterion': ['gini', 'entropy'], \n",
    "               'max_depth': [2, 3, 5],\n",
    "               'min_samples_split': [0.2, 0.25, 0.3],\n",
    "               'max_features': [None, 'sqrt', 'log2']}\n",
    "\n",
    "# RANDOM Train test splitting\n",
    "split_and_gs(library, library, estimator_name,\n",
    "             X, y, estimator, hyperparams,\n",
    "             splitting='random', test_size=0.25, \n",
    "             scaffold_series=None)"
   ]
  },
  {
   "cell_type": "code",
   "execution_count": 23,
   "metadata": {
    "cell_style": "split"
   },
   "outputs": [
    {
     "name": "stdout",
     "output_type": "stream",
     "text": [
      "DTree => Train: DEKOIS; Test: DEKOIS; split: scaffold\n",
      "No. of molecules in train set: 885, with 30 actives.\n",
      "No. of molecules in test set: 336, with 10 actives.\n",
      "\n",
      "********** GRID SEARCH RESULTS **********\n",
      "- Mean CV ROC-AUC:\t0.832\n",
      "- Train ROC-AUC:  \t0.869\n",
      "- Test ROC-AUC:   \t0.944\n",
      "- Best hyperparameters {'criterion': 'entropy', 'max_depth': 3, 'max_features': 'sqrt', 'min_samples_split': 0.25}\n",
      "******************************************\n",
      "\n",
      "***** Best Conformation's ROC-AUC using docking scores *****\n",
      "> Train best conf. ROC-AUC: 0.884 \t> median: 0.816, mean: 0.812\n",
      "> Test best conf. ROC-AUC: 0.965 \t> median: 0.897, mean: 0.893\n",
      "****************************************************************\n",
      "CPU times: user 1.23 s, sys: 249 ms, total: 1.48 s\n",
      "Wall time: 1.81 s\n"
     ]
    }
   ],
   "source": [
    "%%time\n",
    "from sklearn.tree import DecisionTreeClassifier\n",
    "\n",
    "estimator_name = 'DTree'\n",
    "estimator = DecisionTreeClassifier(splitter='best')\n",
    "hyperparams = {'criterion': ['gini', 'entropy'], \n",
    "               'max_depth': [2, 3, 5],\n",
    "               'min_samples_split': [0.2, 0.25, 0.3],\n",
    "               'max_features': [None, 'sqrt', 'log2']}\n",
    "\n",
    "# SCAFFOLD Train test splitting\n",
    "split_and_gs(library, library, estimator_name,\n",
    "             X, y, estimator, hyperparams,\n",
    "             splitting='scaffold', test_size=0.25, \n",
    "             scaffold_series=scaffold_series)"
   ]
  },
  {
   "cell_type": "markdown",
   "metadata": {},
   "source": [
    "<h3 style='color: #F84122; padding: 0px;; margin: 0px'>GS: Bagging Classifier (k-NN as base estimator) </h3>\n",
    "<b>DEKOIS  - Random and Stratified Scaffold Splitting</b>"
   ]
  },
  {
   "cell_type": "code",
   "execution_count": 24,
   "metadata": {
    "cell_style": "split"
   },
   "outputs": [
    {
     "name": "stdout",
     "output_type": "stream",
     "text": [
      "CPU times: user 15.5 ms, sys: 8.99 ms, total: 24.5 ms\n",
      "Wall time: 285 ms\n"
     ]
    }
   ],
   "source": [
    "%%time\n",
    "from sklearn.ensemble import BaggingClassifier\n",
    "\n",
    "estimator_name = 'BagClf-kNN'\n",
    "knn = KNeighborsClassifier(n_neighbors=125, p=1, \n",
    "                           weights='distance')\n",
    "estimator = BaggingClassifier(base_estimator=knn, \n",
    "                              n_jobs=6, oob_score=True)\n",
    "\n",
    "hyperparams = {'n_estimators': [300]}\n",
    "\n",
    "# RANDOM Train test splitting\n",
    "# split_and_gs(X, y, estimator, hyperparams, \n",
    "#              splitting='random', test_size=0.25, \n",
    "#              scaffold_series=None)"
   ]
  },
  {
   "cell_type": "code",
   "execution_count": 25,
   "metadata": {
    "cell_style": "split"
   },
   "outputs": [
    {
     "name": "stdout",
     "output_type": "stream",
     "text": [
      "CPU times: user 42 µs, sys: 15 µs, total: 57 µs\n",
      "Wall time: 65.6 µs\n"
     ]
    }
   ],
   "source": [
    "%%time\n",
    "# from sklearn.ensemble import BaggingClassifier\n",
    "\n",
    "estimator_name = 'BagClf-kNN'\n",
    "knn = KNeighborsClassifier(n_neighbors=125, p=1, \n",
    "                           weights='distance')\n",
    "estimator = BaggingClassifier(base_estimator=knn, \n",
    "                              n_jobs=6, oob_score=True)\n",
    "\n",
    "hyperparams = {'n_estimators': [300]}\n",
    "\n",
    "# SCAFFOLD Train test splitting\n",
    "# split_and_gs(X, y, estimator, hyperparams, \n",
    "#              splitting='scaffold', test_size=0.25, \n",
    "#              scaffold_series=scaffold_series)"
   ]
  },
  {
   "cell_type": "markdown",
   "metadata": {},
   "source": [
    "<h3 style='color: #F84122; padding: 0px;; margin: 0px'>GS:Random Forest </h3>\n",
    "<b>DEKOIS  - Random and Stratified Scaffold Splitting</b>"
   ]
  },
  {
   "cell_type": "code",
   "execution_count": 26,
   "metadata": {
    "cell_style": "split"
   },
   "outputs": [
    {
     "name": "stdout",
     "output_type": "stream",
     "text": [
      "RandForest => Train: DEKOIS; Test: DEKOIS; split: random\n",
      "No. of molecules in train set: 915, with 30 actives.\n",
      "No. of molecules in test set: 306, with 10 actives.\n",
      "\n",
      "********** GRID SEARCH RESULTS **********\n",
      "- Mean CV ROC-AUC:\t0.896\n",
      "- Train ROC-AUC:  \t0.918\n",
      "- Test ROC-AUC:   \t0.856\n",
      "- Best hyperparameters {'max_depth': 2, 'max_features': 'log2', 'min_samples_leaf': 0.2, 'n_estimators': 500}\n",
      "******************************************\n",
      "\n",
      "***** Best Conformation's ROC-AUC using docking scores *****\n",
      "> Train best conf. ROC-AUC: 0.904 \t> median: 0.842, mean: 0.835\n",
      "> Test best conf. ROC-AUC: 0.891 \t> median: 0.818, mean: 0.819\n",
      "****************************************************************\n",
      "CPU times: user 2.03 s, sys: 277 ms, total: 2.31 s\n",
      "Wall time: 21.3 s\n"
     ]
    }
   ],
   "source": [
    "%%time\n",
    "from sklearn.ensemble import RandomForestClassifier\n",
    "\n",
    "estimator_name = 'RandForest'\n",
    "estimator = RandomForestClassifier()\n",
    "hyperparams = {'n_estimators': [300, 500],\n",
    "             'max_depth': [2,  5],\n",
    "             'min_samples_leaf': [0.1, 0.2],\n",
    "             'max_features': ['log2', 'sqrt']\n",
    "            }\n",
    "\n",
    "# RANDOM Train test splitting\n",
    "split_and_gs(library, library, estimator_name,\n",
    "             X, y, estimator, hyperparams,\n",
    "             splitting='random', test_size=0.25, \n",
    "             scaffold_series=None)"
   ]
  },
  {
   "cell_type": "code",
   "execution_count": 27,
   "metadata": {
    "cell_style": "split",
    "scrolled": true
   },
   "outputs": [
    {
     "name": "stdout",
     "output_type": "stream",
     "text": [
      "RandForest => Train: DEKOIS; Test: DEKOIS; split: scaffold\n",
      "No. of molecules in train set: 885, with 30 actives.\n",
      "No. of molecules in test set: 336, with 10 actives.\n",
      "\n",
      "********** GRID SEARCH RESULTS **********\n",
      "- Mean CV ROC-AUC:\t0.855\n",
      "- Train ROC-AUC:  \t0.898\n",
      "- Test ROC-AUC:   \t0.949\n",
      "- Best hyperparameters {'max_depth': 2, 'max_features': 'log2', 'min_samples_leaf': 0.2, 'n_estimators': 300}\n",
      "******************************************\n",
      "\n",
      "***** Best Conformation's ROC-AUC using docking scores *****\n",
      "> Train best conf. ROC-AUC: 0.884 \t> median: 0.816, mean: 0.812\n",
      "> Test best conf. ROC-AUC: 0.965 \t> median: 0.897, mean: 0.893\n",
      "****************************************************************\n",
      "CPU times: user 1.82 s, sys: 235 ms, total: 2.05 s\n",
      "Wall time: 21.4 s\n"
     ]
    }
   ],
   "source": [
    "%%time\n",
    "from sklearn.ensemble import RandomForestClassifier\n",
    "\n",
    "estimator_name = 'RandForest'\n",
    "estimator = RandomForestClassifier()\n",
    "hyperparams = {'n_estimators': [300, 500],\n",
    "             'max_depth': [2,  5],\n",
    "             'min_samples_leaf': [0.1, 0.2],\n",
    "             'max_features': ['log2', 'sqrt']\n",
    "            }\n",
    "\n",
    "# SCAFFOLD Train test splitting\n",
    "split_and_gs(library, library, estimator_name,\n",
    "             X, y, estimator, hyperparams, \n",
    "             splitting='scaffold', test_size=0.25, \n",
    "             scaffold_series=scaffold_series)"
   ]
  },
  {
   "cell_type": "code",
   "execution_count": null,
   "metadata": {},
   "outputs": [],
   "source": []
  },
  {
   "cell_type": "markdown",
   "metadata": {},
   "source": [
    "***\n",
    "<h2 style='background-color: #F9E5AB; padding: 5px;'>\n",
    "    Train-Test with DUD Library\n",
    "</h2>\n",
    "<div style='background-color: #FE8460; min-height: 5px'></div>"
   ]
  },
  {
   "cell_type": "code",
   "execution_count": 28,
   "metadata": {},
   "outputs": [],
   "source": [
    "library = 'DUD'\n",
    "\n",
    "# Train and test over DUDU\n",
    "X = X_merged_dksc.loc[library]\n",
    "y = y_true_merged.loc[library]\n",
    "scaffold_series = df_scff_murcko['scff_generic'].loc[library]"
   ]
  },
  {
   "cell_type": "markdown",
   "metadata": {
    "cell_style": "center"
   },
   "source": [
    "<h3 style='color: #F84122; padding: 0px;; margin: 0px'>GS: Linear SVM </h3>\n",
    "<b>DUD  - Random and Stratified Scaffold Splitting</b>"
   ]
  },
  {
   "cell_type": "code",
   "execution_count": 29,
   "metadata": {
    "cell_style": "split"
   },
   "outputs": [
    {
     "name": "stdout",
     "output_type": "stream",
     "text": [
      "LinearSVC => Train: DUD; Test: DUD; split: random\n",
      "No. of molecules in train set: 3669, with 106 actives.\n",
      "No. of molecules in test set: 1224, with 35 actives.\n",
      "\n",
      "********** GRID SEARCH RESULTS **********\n",
      "- Mean CV ROC-AUC:\t0.764\n",
      "- Train ROC-AUC:  \t0.801\n",
      "- Test ROC-AUC:   \t0.744\n",
      "- Best hyperparameters {'C': 1e-15}\n",
      "******************************************\n",
      "\n",
      "***** Best Conformation's ROC-AUC using docking scores *****\n",
      "> Train best conf. ROC-AUC: 0.702 \t> median: 0.544, mean: 0.542\n",
      "> Test best conf. ROC-AUC: 0.804 \t> median: 0.654, mean: 0.657\n",
      "****************************************************************\n",
      "CPU times: user 2.17 s, sys: 80.4 ms, total: 2.25 s\n",
      "Wall time: 9.29 s\n"
     ]
    }
   ],
   "source": [
    "%%time\n",
    "from sklearn.svm import SVC\n",
    "\n",
    "estimator_name = 'LinearSVC'\n",
    "estimator = SVC(kernel = 'linear', probability=True)\n",
    "hyperparams = {'C': np.geomspace(1e-15, 1e-6, 4)}\n",
    "\n",
    "# RANDOM Train test splitting\n",
    "split_and_gs(library, library, estimator_name,\n",
    "             X, y, estimator, hyperparams,\n",
    "             splitting='random', test_size=0.25, \n",
    "             scaffold_series=None)"
   ]
  },
  {
   "cell_type": "code",
   "execution_count": 30,
   "metadata": {
    "cell_style": "split"
   },
   "outputs": [
    {
     "name": "stdout",
     "output_type": "stream",
     "text": [
      "LinearSVC => Train: DUD; Test: DUD; split: scaffold\n",
      "No. of molecules in train set: 3564, with 105 actives.\n",
      "No. of molecules in test set: 1329, with 36 actives.\n",
      "\n",
      "********** GRID SEARCH RESULTS **********\n",
      "- Mean CV ROC-AUC:\t0.883\n",
      "- Train ROC-AUC:  \t0.902\n",
      "- Test ROC-AUC:   \t0.546\n",
      "- Best hyperparameters {'C': 1e-06}\n",
      "******************************************\n",
      "\n",
      "***** Best Conformation's ROC-AUC using docking scores *****\n",
      "> Train best conf. ROC-AUC: 0.747 \t> median: 0.545, mean: 0.547\n",
      "> Test best conf. ROC-AUC: 0.719 \t> median: 0.640, mean: 0.638\n",
      "****************************************************************\n",
      "CPU times: user 1.62 s, sys: 37.7 ms, total: 1.66 s\n",
      "Wall time: 8.12 s\n"
     ]
    }
   ],
   "source": [
    "%%time\n",
    "# from sklearn.svm import SVC\n",
    "\n",
    "estimator_name = 'LinearSVC'\n",
    "estimator = SVC(kernel = 'linear', probability=True)\n",
    "hyperparams = {'C': np.geomspace(1e-15, 1e-6, 4)}\n",
    "\n",
    "# SCAFFOLD Train test splitting\n",
    "split_and_gs(library, library, estimator_name,\n",
    "             X, y, estimator, hyperparams,\n",
    "             splitting='scaffold', test_size=0.25, \n",
    "             scaffold_series=scaffold_series)"
   ]
  },
  {
   "cell_type": "markdown",
   "metadata": {},
   "source": [
    "<h3 style='color: #F84122; padding: 0px;; margin: 0px'>GS: Radial Basis Function SVM </h3>\n",
    "<b>DUD  - Random and Stratified Scaffold Splitting</b>"
   ]
  },
  {
   "cell_type": "code",
   "execution_count": 31,
   "metadata": {
    "cell_style": "split"
   },
   "outputs": [
    {
     "name": "stdout",
     "output_type": "stream",
     "text": [
      "rbfSVC => Train: DUD; Test: DUD; split: random\n",
      "No. of molecules in train set: 3669, with 106 actives.\n",
      "No. of molecules in test set: 1224, with 35 actives.\n",
      "\n",
      "********** GRID SEARCH RESULTS **********\n",
      "- Mean CV ROC-AUC:\t0.857\n",
      "- Train ROC-AUC:  \t0.992\n",
      "- Test ROC-AUC:   \t0.953\n",
      "- Best hyperparameters {'C': 0.01, 'gamma': 0.01}\n",
      "******************************************\n",
      "\n",
      "***** Best Conformation's ROC-AUC using docking scores *****\n",
      "> Train best conf. ROC-AUC: 0.708 \t> median: 0.574, mean: 0.576\n",
      "> Test best conf. ROC-AUC: 0.778 \t> median: 0.553, mean: 0.556\n",
      "****************************************************************\n",
      "CPU times: user 4.16 s, sys: 121 ms, total: 4.28 s\n",
      "Wall time: 42.1 s\n"
     ]
    }
   ],
   "source": [
    "%%time\n",
    "\n",
    "estimator_name = 'rbfSVC'\n",
    "estimator = SVC(kernel = 'rbf', probability=True)\n",
    "hyperparams = {'C': np.geomspace(1e-8, 1e-2, 4), \n",
    "               'gamma': np.geomspace(1e-6, 1e0, 4)}\n",
    "\n",
    "# RANDOM Train test splitting\n",
    "split_and_gs(library, library, estimator_name,\n",
    "             X, y, estimator, hyperparams,\n",
    "             splitting='random', test_size=0.25, \n",
    "             scaffold_series=None)"
   ]
  },
  {
   "cell_type": "code",
   "execution_count": 32,
   "metadata": {
    "cell_style": "split"
   },
   "outputs": [
    {
     "name": "stdout",
     "output_type": "stream",
     "text": [
      "rbfSVC => Train: DUD; Test: DUD; split: scaffold\n",
      "No. of molecules in train set: 3564, with 105 actives.\n",
      "No. of molecules in test set: 1329, with 36 actives.\n",
      "\n",
      "********** GRID SEARCH RESULTS **********\n",
      "- Mean CV ROC-AUC:\t0.941\n",
      "- Train ROC-AUC:  \t0.997\n",
      "- Test ROC-AUC:   \t0.587\n",
      "- Best hyperparameters {'C': 0.01, 'gamma': 0.01}\n",
      "******************************************\n",
      "\n",
      "***** Best Conformation's ROC-AUC using docking scores *****\n",
      "> Train best conf. ROC-AUC: 0.747 \t> median: 0.545, mean: 0.547\n",
      "> Test best conf. ROC-AUC: 0.719 \t> median: 0.640, mean: 0.638\n",
      "****************************************************************\n",
      "CPU times: user 3.69 s, sys: 148 ms, total: 3.84 s\n",
      "Wall time: 42.9 s\n"
     ]
    }
   ],
   "source": [
    "%%time\n",
    "\n",
    "estimator_name = 'rbfSVC'\n",
    "estimator = SVC(kernel = 'rbf', probability=True)\n",
    "hyperparams = {'C': np.geomspace(1e-8, 1e-2, 4), \n",
    "               'gamma': np.geomspace(1e-6, 1e0, 4)}\n",
    "\n",
    "# SCAFFOLD Train test splitting\n",
    "split_and_gs(library, library, estimator_name,\n",
    "             X, y, estimator, hyperparams,\n",
    "             splitting='scaffold', test_size=0.25, \n",
    "             scaffold_series=scaffold_series)"
   ]
  },
  {
   "cell_type": "markdown",
   "metadata": {},
   "source": [
    "<h3 style='color: #F84122; padding: 0px;; margin: 0px'> GS: Logistic Regression </h3>\n",
    "<b>DUD  - Random and Stratified Scaffold Splitting</b>"
   ]
  },
  {
   "cell_type": "code",
   "execution_count": 33,
   "metadata": {
    "cell_style": "split"
   },
   "outputs": [
    {
     "name": "stdout",
     "output_type": "stream",
     "text": [
      "LogReg => Train: DUD; Test: DUD; split: random\n",
      "No. of molecules in train set: 3669, with 106 actives.\n",
      "No. of molecules in test set: 1224, with 35 actives.\n",
      "\n",
      "********** GRID SEARCH RESULTS **********\n",
      "- Mean CV ROC-AUC:\t0.861\n",
      "- Train ROC-AUC:  \t0.922\n",
      "- Test ROC-AUC:   \t0.832\n",
      "- Best hyperparameters {'C': 0.1, 'penalty': 'l2', 'solver': 'liblinear'}\n",
      "******************************************\n",
      "\n",
      "***** Best Conformation's ROC-AUC using docking scores *****\n",
      "> Train best conf. ROC-AUC: 0.713 \t> median: 0.558, mean: 0.560\n",
      "> Test best conf. ROC-AUC: 0.814 \t> median: 0.604, mean: 0.604\n",
      "****************************************************************\n",
      "CPU times: user 1.57 s, sys: 508 ms, total: 2.08 s\n",
      "Wall time: 5.61 s\n"
     ]
    }
   ],
   "source": [
    "%%time\n",
    "from sklearn.linear_model import LogisticRegression\n",
    "\n",
    "estimator_name = 'LogReg'\n",
    "estimator = LogisticRegression()\n",
    "hyperparams = {'C': [0.00001, 0.0001, 0.001, 0.01, 0.1], \n",
    "               'penalty': ['l1', 'l2'], \n",
    "               'solver': ['lbfgs', 'liblinear']}\n",
    "\n",
    "# RANDOM Train test splitting\n",
    "split_and_gs(library, library, estimator_name,\n",
    "             X, y, estimator, hyperparams,\n",
    "             splitting='random', test_size=0.25, \n",
    "             scaffold_series=None)"
   ]
  },
  {
   "cell_type": "code",
   "execution_count": 34,
   "metadata": {
    "cell_style": "split"
   },
   "outputs": [
    {
     "name": "stdout",
     "output_type": "stream",
     "text": [
      "LogReg => Train: DUD; Test: DUD; split: scaffold\n",
      "No. of molecules in train set: 3564, with 105 actives.\n",
      "No. of molecules in test set: 1329, with 36 actives.\n",
      "\n",
      "********** GRID SEARCH RESULTS **********\n",
      "- Mean CV ROC-AUC:\t0.890\n",
      "- Train ROC-AUC:  \t0.962\n",
      "- Test ROC-AUC:   \t0.618\n",
      "- Best hyperparameters {'C': 0.1, 'penalty': 'l2', 'solver': 'liblinear'}\n",
      "******************************************\n",
      "\n",
      "***** Best Conformation's ROC-AUC using docking scores *****\n",
      "> Train best conf. ROC-AUC: 0.747 \t> median: 0.545, mean: 0.547\n",
      "> Test best conf. ROC-AUC: 0.719 \t> median: 0.640, mean: 0.638\n",
      "****************************************************************\n",
      "CPU times: user 1.55 s, sys: 441 ms, total: 1.99 s\n",
      "Wall time: 5.14 s\n"
     ]
    }
   ],
   "source": [
    "%%time\n",
    "# from sklearn.linear_model import LogisticRegression\n",
    "\n",
    "estimator_name = 'LogReg'\n",
    "estimator = LogisticRegression()\n",
    "hyperparams = {'C': [0.00001, 0.0001, 0.001, 0.01, 0.1], \n",
    "               'penalty': ['l1', 'l2'], \n",
    "               'solver': ['lbfgs', 'liblinear']}\n",
    "\n",
    "# SCAFFOLD Train test splitting\n",
    "split_and_gs(library, library, estimator_name,\n",
    "             X, y, estimator, hyperparams,\n",
    "             splitting='scaffold', test_size=0.25, \n",
    "             scaffold_series=scaffold_series)"
   ]
  },
  {
   "cell_type": "markdown",
   "metadata": {},
   "source": [
    "<h3 style='color: #F84122; padding: 0px;; margin: 0px'>GS: K-Neighbors Classifier</h3>\n",
    "<b>DUD  - Random and Stratified Scaffold Splitting</b>"
   ]
  },
  {
   "cell_type": "code",
   "execution_count": 35,
   "metadata": {
    "cell_style": "split"
   },
   "outputs": [
    {
     "name": "stdout",
     "output_type": "stream",
     "text": [
      "kNN => Train: DUD; Test: DUD; split: random\n",
      "No. of molecules in train set: 3669, with 106 actives.\n",
      "No. of molecules in test set: 1224, with 35 actives.\n",
      "\n",
      "********** GRID SEARCH RESULTS **********\n",
      "- Mean CV ROC-AUC:\t0.810\n",
      "- Train ROC-AUC:  \t0.883\n",
      "- Test ROC-AUC:   \t0.793\n",
      "- Best hyperparameters {'n_neighbors': 125, 'p': 1}\n",
      "******************************************\n",
      "\n",
      "***** Best Conformation's ROC-AUC using docking scores *****\n",
      "> Train best conf. ROC-AUC: 0.714 \t> median: 0.563, mean: 0.564\n",
      "> Test best conf. ROC-AUC: 0.764 \t> median: 0.587, mean: 0.592\n",
      "****************************************************************\n",
      "CPU times: user 5.38 s, sys: 177 ms, total: 5.56 s\n",
      "Wall time: 18.4 s\n"
     ]
    }
   ],
   "source": [
    "%%time\n",
    "from sklearn.neighbors import KNeighborsClassifier \n",
    "\n",
    "estimator_name = 'kNN'\n",
    "estimator = KNeighborsClassifier()\n",
    "hyperparams = {'n_neighbors': [25, 55, 125, 225], \n",
    "               'p': [1, 2]\n",
    "             }\n",
    "\n",
    "# RANDOM Train test splitting\n",
    "split_and_gs(library, library, estimator_name,\n",
    "             X, y, estimator, hyperparams,\n",
    "             splitting='random', test_size=0.25, \n",
    "             scaffold_series=None)"
   ]
  },
  {
   "cell_type": "code",
   "execution_count": 36,
   "metadata": {
    "cell_style": "split"
   },
   "outputs": [
    {
     "name": "stdout",
     "output_type": "stream",
     "text": [
      "kNN => Train: DUD; Test: DUD; split: scaffold\n",
      "No. of molecules in train set: 3564, with 105 actives.\n",
      "No. of molecules in test set: 1329, with 36 actives.\n",
      "\n",
      "********** GRID SEARCH RESULTS **********\n",
      "- Mean CV ROC-AUC:\t0.827\n",
      "- Train ROC-AUC:  \t0.951\n",
      "- Test ROC-AUC:   \t0.596\n",
      "- Best hyperparameters {'n_neighbors': 55, 'p': 1}\n",
      "******************************************\n",
      "\n",
      "***** Best Conformation's ROC-AUC using docking scores *****\n",
      "> Train best conf. ROC-AUC: 0.747 \t> median: 0.545, mean: 0.547\n",
      "> Test best conf. ROC-AUC: 0.719 \t> median: 0.640, mean: 0.638\n",
      "****************************************************************\n",
      "CPU times: user 5.35 s, sys: 92.3 ms, total: 5.44 s\n",
      "Wall time: 17 s\n"
     ]
    }
   ],
   "source": [
    "%%time\n",
    "from sklearn.neighbors import KNeighborsClassifier \n",
    "\n",
    "estimator_name = 'kNN'\n",
    "estimator = KNeighborsClassifier()\n",
    "hyperparams = {'n_neighbors': [25, 55, 125, 225], \n",
    "               'p': [1, 2]\n",
    "             }\n",
    "\n",
    "# SCAFFOLD Train test splitting\n",
    "split_and_gs(library, library, estimator_name,\n",
    "             X, y, estimator, hyperparams,\n",
    "             splitting='scaffold', test_size=0.25, \n",
    "             scaffold_series=scaffold_series)"
   ]
  },
  {
   "cell_type": "markdown",
   "metadata": {},
   "source": [
    "<h3 style='color: #F84122; padding: 0px;; margin: 0px'>GS: Decision Tree Classifier</h3>\n",
    "<b>DUD  - Random and Stratified Scaffold Splitting</b>"
   ]
  },
  {
   "cell_type": "code",
   "execution_count": 37,
   "metadata": {
    "cell_style": "split"
   },
   "outputs": [
    {
     "name": "stdout",
     "output_type": "stream",
     "text": [
      "DTree => Train: DUD; Test: DUD; split: random\n",
      "No. of molecules in train set: 3669, with 106 actives.\n",
      "No. of molecules in test set: 1224, with 35 actives.\n",
      "\n",
      "********** GRID SEARCH RESULTS **********\n",
      "- Mean CV ROC-AUC:\t0.788\n",
      "- Train ROC-AUC:  \t0.842\n",
      "- Test ROC-AUC:   \t0.765\n",
      "- Best hyperparameters {'criterion': 'gini', 'max_depth': 5, 'max_features': None, 'min_samples_split': 0.2}\n",
      "******************************************\n",
      "\n",
      "***** Best Conformation's ROC-AUC using docking scores *****\n",
      "> Train best conf. ROC-AUC: 0.720 \t> median: 0.572, mean: 0.573\n",
      "> Test best conf. ROC-AUC: 0.721 \t> median: 0.565, mean: 0.563\n",
      "****************************************************************\n",
      "CPU times: user 1.57 s, sys: 157 ms, total: 1.73 s\n",
      "Wall time: 3.18 s\n"
     ]
    }
   ],
   "source": [
    "%%time\n",
    "from sklearn.tree import DecisionTreeClassifier\n",
    "\n",
    "estimator_name = 'DTree'\n",
    "estimator = DecisionTreeClassifier(splitter='best')\n",
    "hyperparams = {'criterion': ['gini', 'entropy'], \n",
    "               'max_depth': [2, 3, 5],\n",
    "               'min_samples_split': [0.2, 0.25, 0.3],\n",
    "               'max_features': [None, 'sqrt', 'log2']}\n",
    "\n",
    "# RANDOM Train test splitting\n",
    "split_and_gs(library, library, estimator_name,\n",
    "             X, y, estimator, hyperparams,\n",
    "             splitting='random', test_size=0.25, \n",
    "             scaffold_series=None)"
   ]
  },
  {
   "cell_type": "code",
   "execution_count": 38,
   "metadata": {
    "cell_style": "split"
   },
   "outputs": [
    {
     "name": "stdout",
     "output_type": "stream",
     "text": [
      "DTree => Train: DUD; Test: DUD; split: scaffold\n",
      "No. of molecules in train set: 3564, with 105 actives.\n",
      "No. of molecules in test set: 1329, with 36 actives.\n",
      "\n",
      "********** GRID SEARCH RESULTS **********\n",
      "- Mean CV ROC-AUC:\t0.825\n",
      "- Train ROC-AUC:  \t0.875\n",
      "- Test ROC-AUC:   \t0.578\n",
      "- Best hyperparameters {'criterion': 'gini', 'max_depth': 5, 'max_features': None, 'min_samples_split': 0.3}\n",
      "******************************************\n",
      "\n",
      "***** Best Conformation's ROC-AUC using docking scores *****\n",
      "> Train best conf. ROC-AUC: 0.747 \t> median: 0.545, mean: 0.547\n",
      "> Test best conf. ROC-AUC: 0.719 \t> median: 0.640, mean: 0.638\n",
      "****************************************************************\n",
      "CPU times: user 1.73 s, sys: 122 ms, total: 1.85 s\n",
      "Wall time: 3.19 s\n"
     ]
    }
   ],
   "source": [
    "%%time\n",
    "from sklearn.tree import DecisionTreeClassifier\n",
    "\n",
    "estimator_name = 'DTree'\n",
    "estimator = DecisionTreeClassifier(splitter='best')\n",
    "hyperparams = {'criterion': ['gini', 'entropy'], \n",
    "               'max_depth': [2, 3, 5],\n",
    "               'min_samples_split': [0.2, 0.25, 0.3],\n",
    "               'max_features': [None, 'sqrt', 'log2']}\n",
    "\n",
    "# SCAFFOLD Train test splitting\n",
    "split_and_gs(library, library, estimator_name,\n",
    "             X, y, estimator, hyperparams,\n",
    "             splitting='scaffold', test_size=0.25, \n",
    "             scaffold_series=scaffold_series)"
   ]
  },
  {
   "cell_type": "markdown",
   "metadata": {},
   "source": [
    "<h3 style='color: #F84122; padding: 0px;; margin: 0px'>GS: Bagging Classifier (k-NN as base estimator) </h3>\n",
    "<b>DUD  - Random and Stratified Scaffold Splitting</b>"
   ]
  },
  {
   "cell_type": "code",
   "execution_count": 39,
   "metadata": {
    "cell_style": "split"
   },
   "outputs": [
    {
     "name": "stdout",
     "output_type": "stream",
     "text": [
      "CPU times: user 48 µs, sys: 7 µs, total: 55 µs\n",
      "Wall time: 62.9 µs\n"
     ]
    }
   ],
   "source": [
    "%%time\n",
    "from sklearn.ensemble import BaggingClassifier\n",
    "\n",
    "estimator_name = 'BagClf-kNN'\n",
    "knn = KNeighborsClassifier(n_neighbors=125, p=1, \n",
    "                           weights='distance')\n",
    "estimator = BaggingClassifier(base_estimator=knn, \n",
    "                              n_jobs=6, oob_score=True)\n",
    "\n",
    "hyperparams = {'n_estimators': [300]}\n",
    "\n",
    "# RANDOM Train test splitting\n",
    "# split_and_gs(X, y, estimator, hyperparams, \n",
    "#              splitting='random', test_size=0.25, \n",
    "#              scaffold_series=None)"
   ]
  },
  {
   "cell_type": "code",
   "execution_count": 40,
   "metadata": {
    "cell_style": "split"
   },
   "outputs": [
    {
     "name": "stdout",
     "output_type": "stream",
     "text": [
      "CPU times: user 35 µs, sys: 6 µs, total: 41 µs\n",
      "Wall time: 47.7 µs\n"
     ]
    }
   ],
   "source": [
    "%%time\n",
    "# from sklearn.ensemble import BaggingClassifier\n",
    "\n",
    "estimator_name = 'BagClf-kNN'\n",
    "knn = KNeighborsClassifier(n_neighbors=125, p=1, \n",
    "                           weights='distance')\n",
    "estimator = BaggingClassifier(base_estimator=knn, \n",
    "                              n_jobs=6, oob_score=True)\n",
    "\n",
    "hyperparams = {'n_estimators': [300]}\n",
    "\n",
    "# SCAFFOLD Train test splitting\n",
    "# split_and_gs(X, y, estimator, hyperparams, \n",
    "#              splitting='scaffold', test_size=0.25, \n",
    "#              scaffold_series=scaffold_series)"
   ]
  },
  {
   "cell_type": "markdown",
   "metadata": {},
   "source": [
    "<h3 style='color: #F84122; padding: 0px;; margin: 0px'>GS:Random Forest </h3>\n",
    "<b>DUD  - Random and Stratified Scaffold Splitting</b>"
   ]
  },
  {
   "cell_type": "code",
   "execution_count": 41,
   "metadata": {
    "cell_style": "split"
   },
   "outputs": [
    {
     "name": "stdout",
     "output_type": "stream",
     "text": [
      "RandForest => Train: DUD; Test: DUD; split: random\n",
      "No. of molecules in train set: 3669, with 106 actives.\n",
      "No. of molecules in test set: 1224, with 35 actives.\n",
      "\n",
      "********** GRID SEARCH RESULTS **********\n",
      "- Mean CV ROC-AUC:\t0.764\n",
      "- Train ROC-AUC:  \t0.823\n",
      "- Test ROC-AUC:   \t0.778\n",
      "- Best hyperparameters {'max_depth': 5, 'max_features': 'sqrt', 'min_samples_leaf': 0.1, 'n_estimators': 300}\n",
      "******************************************\n",
      "\n",
      "***** Best Conformation's ROC-AUC using docking scores *****\n",
      "> Train best conf. ROC-AUC: 0.735 \t> median: 0.583, mean: 0.583\n",
      "> Test best conf. ROC-AUC: 0.687 \t> median: 0.537, mean: 0.535\n",
      "****************************************************************\n",
      "CPU times: user 2.6 s, sys: 99.3 ms, total: 2.7 s\n",
      "Wall time: 35.6 s\n"
     ]
    }
   ],
   "source": [
    "%%time\n",
    "from sklearn.ensemble import RandomForestClassifier\n",
    "\n",
    "estimator_name = 'RandForest'\n",
    "estimator = RandomForestClassifier()\n",
    "hyperparams = {'n_estimators': [300, 500],\n",
    "             'max_depth': [2,  5],\n",
    "             'min_samples_leaf': [0.1, 0.2],\n",
    "             'max_features': ['log2', 'sqrt']\n",
    "            }\n",
    "\n",
    "# RANDOM Train test splitting\n",
    "split_and_gs(library, library, estimator_name,\n",
    "             X, y, estimator, hyperparams,\n",
    "             splitting='random', test_size=0.25, \n",
    "             scaffold_series=None)"
   ]
  },
  {
   "cell_type": "code",
   "execution_count": 42,
   "metadata": {
    "cell_style": "split",
    "scrolled": true
   },
   "outputs": [
    {
     "name": "stdout",
     "output_type": "stream",
     "text": [
      "RandForest => Train: DUD; Test: DUD; split: scaffold\n",
      "No. of molecules in train set: 3564, with 105 actives.\n",
      "No. of molecules in test set: 1329, with 36 actives.\n",
      "\n",
      "********** GRID SEARCH RESULTS **********\n",
      "- Mean CV ROC-AUC:\t0.812\n",
      "- Train ROC-AUC:  \t0.892\n",
      "- Test ROC-AUC:   \t0.642\n",
      "- Best hyperparameters {'max_depth': 5, 'max_features': 'sqrt', 'min_samples_leaf': 0.1, 'n_estimators': 300}\n",
      "******************************************\n",
      "\n",
      "***** Best Conformation's ROC-AUC using docking scores *****\n",
      "> Train best conf. ROC-AUC: 0.747 \t> median: 0.545, mean: 0.547\n",
      "> Test best conf. ROC-AUC: 0.719 \t> median: 0.640, mean: 0.638\n",
      "****************************************************************\n",
      "CPU times: user 2.54 s, sys: 65.2 ms, total: 2.61 s\n",
      "Wall time: 32.7 s\n"
     ]
    }
   ],
   "source": [
    "%%time\n",
    "from sklearn.ensemble import RandomForestClassifier\n",
    "\n",
    "estimator_name = 'RandForest'\n",
    "estimator = RandomForestClassifier()\n",
    "hyperparams = {'n_estimators': [300, 500],\n",
    "             'max_depth': [2,  5],\n",
    "             'min_samples_leaf': [0.1, 0.2],\n",
    "             'max_features': ['log2', 'sqrt']\n",
    "            }\n",
    "\n",
    "# SCAFFOLD Train test splitting\n",
    "split_and_gs(library, library, estimator_name,\n",
    "             X, y, estimator, hyperparams,\n",
    "             splitting='scaffold', test_size=0.25, \n",
    "             scaffold_series=scaffold_series)"
   ]
  },
  {
   "cell_type": "markdown",
   "metadata": {},
   "source": [
    "***\n",
    "\n",
    "<h2 style='background-color: #F9E5AB; padding: 5px;'>\n",
    "    Train-Test with different libraries \n",
    "</h2>\n",
    "<div style='background-color: #FE8460; min-height: 5px'></div>\n",
    "\n",
    "##### Here, Random or Scaffold Splitting are not used"
   ]
  },
  {
   "cell_type": "code",
   "execution_count": 43,
   "metadata": {},
   "outputs": [],
   "source": [
    "# Train DEKOIS, test DUD\n",
    "@capture_GS_results(results_dict)\n",
    "def split_by_library_and_gs(train_name, test_name, estimator_name,\n",
    "                            X, y, lib_train_name, lib_test_name, **kwargs):\n",
    "    '''Train-Test \"split\" by library, and run Grid Search. Splits the main dataframe by library\n",
    "    using different molecular libraries for Training and Testing.'''\n",
    "    splitting='by_library'\n",
    "    \n",
    "    X_train = X.loc[lib_train_name]\n",
    "    y_train = y.loc[lib_train_name]\n",
    "\n",
    "    X_test = X.loc[lib_test_name]\n",
    "    y_test = y.loc[lib_test_name]\n",
    "\n",
    "    # Verbose\n",
    "    print(f'{estimator_name} => Train: {train_name}; Test: {test_name}; split: {splitting}')\n",
    "    \n",
    "    # Function to run Grid Search\n",
    "    #----------------------------\n",
    "    gs_results = run_grid_search(estimator, \n",
    "                    X_train, y_train, X_test, y_test, \n",
    "                    hyperparams = hyperparams,  **kwargs)\n",
    "\n",
    "    # Function to extract ROC results from DkSc values \n",
    "    #-------------------------------------------------\n",
    "    dksc_results = get_roc_auc_DkSc(X_train, y_train, X_test, y_test)\n",
    "    \n",
    "    # Return both list of results to captured by the decorador function\n",
    "    return [train_name, test_name, estimator_name, splitting] + gs_results + dksc_results"
   ]
  },
  {
   "cell_type": "code",
   "execution_count": 44,
   "metadata": {},
   "outputs": [],
   "source": [
    "# **********************************************\n",
    "# Train and Test sets from diferent libraries\n",
    "# **********************************************\n",
    "X = X_merged_dksc\n",
    "y = y_true_merged"
   ]
  },
  {
   "cell_type": "markdown",
   "metadata": {
    "cell_style": "center"
   },
   "source": [
    "<h3 style='color: #F84122; padding: 0px;; margin: 0px'>GS: Linear SVM  </h3>\n",
    "<b>Train and Test with different libraries</b>"
   ]
  },
  {
   "cell_type": "code",
   "execution_count": 45,
   "metadata": {
    "cell_style": "split"
   },
   "outputs": [
    {
     "name": "stdout",
     "output_type": "stream",
     "text": [
      "LinearSVC => Train: DEKOIS; Test: DUD; split: by_library\n",
      "No. of molecules in train set: 1221, with 40 actives.\n",
      "No. of molecules in test set: 4893, with 141 actives.\n",
      "\n",
      "********** GRID SEARCH RESULTS **********\n",
      "- Mean CV ROC-AUC:\t0.889\n",
      "- Train ROC-AUC:  \t0.894\n",
      "- Test ROC-AUC:   \t0.607\n",
      "- Best hyperparameters {'C': 1e-15}\n",
      "******************************************\n",
      "\n",
      "***** Best Conformation's ROC-AUC using docking scores *****\n",
      "> Train best conf. ROC-AUC: 0.894 \t> median: 0.833, mean: 0.831\n",
      "> Test best conf. ROC-AUC: 0.720 \t> median: 0.571, mean: 0.571\n",
      "****************************************************************\n",
      "CPU times: user 818 ms, sys: 15.9 ms, total: 834 ms\n",
      "Wall time: 1.31 s\n"
     ]
    }
   ],
   "source": [
    "%%time\n",
    "from sklearn.svm import SVC\n",
    "\n",
    "estimator_name = 'LinearSVC'\n",
    "estimator = SVC(kernel = 'linear', probability=True)\n",
    "hyperparams = {'C': np.geomspace(1e-15, 1e-6, 4)}\n",
    "\n",
    "# Train DEKOIS, test DUD\n",
    "train_lib = 'DEKOIS'\n",
    "test_lib = 'DUD'\n",
    "split_by_library_and_gs(\n",
    "    train_lib, test_lib, estimator_name,\n",
    "    X, y, train_lib, test_lib)"
   ]
  },
  {
   "cell_type": "code",
   "execution_count": 46,
   "metadata": {
    "cell_style": "split",
    "scrolled": true
   },
   "outputs": [
    {
     "name": "stdout",
     "output_type": "stream",
     "text": [
      "LinearSVC => Train: DUD; Test: DEKOIS; split: by_library\n",
      "No. of molecules in train set: 4893, with 141 actives.\n",
      "No. of molecules in test set: 1221, with 40 actives.\n",
      "\n",
      "********** GRID SEARCH RESULTS **********\n",
      "- Mean CV ROC-AUC:\t0.782\n",
      "- Train ROC-AUC:  \t0.800\n",
      "- Test ROC-AUC:   \t0.870\n",
      "- Best hyperparameters {'C': 1e-15}\n",
      "******************************************\n",
      "\n",
      "***** Best Conformation's ROC-AUC using docking scores *****\n",
      "> Train best conf. ROC-AUC: 0.720 \t> median: 0.571, mean: 0.571\n",
      "> Test best conf. ROC-AUC: 0.894 \t> median: 0.833, mean: 0.831\n",
      "****************************************************************\n",
      "CPU times: user 2.39 s, sys: 78.3 ms, total: 2.46 s\n",
      "Wall time: 11.3 s\n"
     ]
    }
   ],
   "source": [
    "%%time\n",
    "# from sklearn.svm import SVC\n",
    "\n",
    "estimator_name = 'LinearSVC'\n",
    "estimator = SVC(kernel = 'linear', probability=True)\n",
    "hyperparams = {'C': np.geomspace(1e-15, 1e-6, 4)}\n",
    "\n",
    "# Train DEKOIS, test DUD\n",
    "train_lib = 'DUD'\n",
    "test_lib = 'DEKOIS'\n",
    "split_by_library_and_gs(\n",
    "    train_lib, test_lib, estimator_name,\n",
    "    X, y, train_lib, test_lib)"
   ]
  },
  {
   "cell_type": "markdown",
   "metadata": {},
   "source": [
    "<h3 style='color: #F84122; padding: 0px;; margin: 0px'>GS: Radial Basis Function SVM </h3>\n",
    "<b>Train and Test with different libraries</b>"
   ]
  },
  {
   "cell_type": "code",
   "execution_count": 47,
   "metadata": {
    "cell_style": "split"
   },
   "outputs": [
    {
     "name": "stdout",
     "output_type": "stream",
     "text": [
      "rbfSVC => Train: DEKOIS; Test: DUD; split: by_library\n",
      "No. of molecules in train set: 1221, with 40 actives.\n",
      "No. of molecules in test set: 4893, with 141 actives.\n",
      "\n",
      "********** GRID SEARCH RESULTS **********\n",
      "- Mean CV ROC-AUC:\t0.888\n",
      "- Train ROC-AUC:  \t0.893\n",
      "- Test ROC-AUC:   \t0.613\n",
      "- Best hyperparameters {'C': 1e-08, 'gamma': 1e-06}\n",
      "******************************************\n",
      "\n",
      "***** Best Conformation's ROC-AUC using docking scores *****\n",
      "> Train best conf. ROC-AUC: 0.894 \t> median: 0.833, mean: 0.831\n",
      "> Test best conf. ROC-AUC: 0.720 \t> median: 0.571, mean: 0.571\n",
      "****************************************************************\n",
      "CPU times: user 1.14 s, sys: 81.5 ms, total: 1.22 s\n",
      "Wall time: 4.13 s\n"
     ]
    }
   ],
   "source": [
    "%%time\n",
    "estimator = SVC(kernel = 'rbf', probability=True)\n",
    "\n",
    "estimator_name = 'rbfSVC'\n",
    "hyperparams = {'C': np.geomspace(1e-8, 1e-2, 4), \n",
    "               'gamma': np.geomspace(1e-6, 1e0, 4)}\n",
    "\n",
    "# Train DEKOIS, test DUD\n",
    "train_lib = 'DEKOIS'\n",
    "test_lib = 'DUD'\n",
    "split_by_library_and_gs(\n",
    "    train_lib, test_lib, estimator_name,\n",
    "    X, y, train_lib, test_lib)"
   ]
  },
  {
   "cell_type": "code",
   "execution_count": 48,
   "metadata": {
    "cell_style": "split"
   },
   "outputs": [
    {
     "name": "stdout",
     "output_type": "stream",
     "text": [
      "rbfSVC => Train: DUD; Test: DEKOIS; split: by_library\n",
      "No. of molecules in train set: 4893, with 141 actives.\n",
      "No. of molecules in test set: 1221, with 40 actives.\n",
      "\n",
      "********** GRID SEARCH RESULTS **********\n",
      "- Mean CV ROC-AUC:\t0.867\n",
      "- Train ROC-AUC:  \t0.977\n",
      "- Test ROC-AUC:   \t0.638\n",
      "- Best hyperparameters {'C': 0.01, 'gamma': 0.01}\n",
      "******************************************\n",
      "\n",
      "***** Best Conformation's ROC-AUC using docking scores *****\n",
      "> Train best conf. ROC-AUC: 0.720 \t> median: 0.571, mean: 0.571\n",
      "> Test best conf. ROC-AUC: 0.894 \t> median: 0.833, mean: 0.831\n",
      "****************************************************************\n",
      "CPU times: user 5.83 s, sys: 186 ms, total: 6.01 s\n",
      "Wall time: 1min 10s\n"
     ]
    }
   ],
   "source": [
    "%%time\n",
    "estimator = SVC(kernel = 'rbf', probability=True)\n",
    "\n",
    "estimator_name = 'rbfSVC'\n",
    "hyperparams = {'C': np.geomspace(1e-8, 1e-2, 4), \n",
    "               'gamma': np.geomspace(1e-6, 1e0, 4)}\n",
    "\n",
    "# Train DEKOIS, test DUD\n",
    "train_lib = 'DUD'\n",
    "test_lib = 'DEKOIS'\n",
    "split_by_library_and_gs(\n",
    "    train_lib, test_lib, estimator_name,\n",
    "    X, y, train_lib, test_lib)"
   ]
  },
  {
   "cell_type": "markdown",
   "metadata": {},
   "source": [
    "<h3 style='color: #F84122; padding: 0px;; margin: 0px'>GS: Logistic Regression</h3>\n",
    "<b>Train and Test with different libraries</b>"
   ]
  },
  {
   "cell_type": "code",
   "execution_count": 49,
   "metadata": {
    "cell_style": "split"
   },
   "outputs": [
    {
     "name": "stdout",
     "output_type": "stream",
     "text": [
      "LogReg => Train: DEKOIS; Test: DUD; split: by_library\n",
      "No. of molecules in train set: 1221, with 40 actives.\n",
      "No. of molecules in test set: 4893, with 141 actives.\n",
      "\n",
      "********** GRID SEARCH RESULTS **********\n",
      "- Mean CV ROC-AUC:\t0.891\n",
      "- Train ROC-AUC:  \t0.890\n",
      "- Test ROC-AUC:   \t0.603\n",
      "- Best hyperparameters {'C': 0.0001, 'penalty': 'l2', 'solver': 'lbfgs'}\n",
      "******************************************\n",
      "\n",
      "***** Best Conformation's ROC-AUC using docking scores *****\n",
      "> Train best conf. ROC-AUC: 0.894 \t> median: 0.833, mean: 0.831\n",
      "> Test best conf. ROC-AUC: 0.720 \t> median: 0.571, mean: 0.571\n",
      "****************************************************************\n",
      "CPU times: user 1.23 s, sys: 435 ms, total: 1.66 s\n",
      "Wall time: 21.8 s\n"
     ]
    }
   ],
   "source": [
    "%%time\n",
    "from sklearn.linear_model import LogisticRegression\n",
    "\n",
    "estimator_name = 'LogReg'\n",
    "estimator = LogisticRegression()\n",
    "hyperparams = {'C': np.geomspace(1e-4, 1e5, 4),\n",
    "               'penalty': ['l1', 'l2'], \n",
    "               'solver': ['lbfgs', 'liblinear']}\n",
    "\n",
    "# Train DEKOIS, test DUD\n",
    "train_lib = 'DEKOIS'\n",
    "test_lib = 'DUD'\n",
    "split_by_library_and_gs(\n",
    "    train_lib, test_lib, estimator_name,\n",
    "    X, y, train_lib, test_lib)"
   ]
  },
  {
   "cell_type": "code",
   "execution_count": 50,
   "metadata": {
    "cell_style": "split"
   },
   "outputs": [
    {
     "name": "stdout",
     "output_type": "stream",
     "text": [
      "LogReg => Train: DUD; Test: DEKOIS; split: by_library\n",
      "No. of molecules in train set: 4893, with 141 actives.\n",
      "No. of molecules in test set: 1221, with 40 actives.\n",
      "\n",
      "********** GRID SEARCH RESULTS **********\n",
      "- Mean CV ROC-AUC:\t0.815\n",
      "- Train ROC-AUC:  \t0.922\n",
      "- Test ROC-AUC:   \t0.758\n",
      "- Best hyperparameters {'C': 100.0, 'penalty': 'l2', 'solver': 'liblinear'}\n",
      "******************************************\n",
      "\n",
      "***** Best Conformation's ROC-AUC using docking scores *****\n",
      "> Train best conf. ROC-AUC: 0.720 \t> median: 0.571, mean: 0.571\n",
      "> Test best conf. ROC-AUC: 0.894 \t> median: 0.833, mean: 0.831\n",
      "****************************************************************\n",
      "CPU times: user 1.98 s, sys: 480 ms, total: 2.46 s\n",
      "Wall time: 45.5 s\n"
     ]
    }
   ],
   "source": [
    "%%time\n",
    "# from sklearn.linear_model import LogisticRegression\n",
    "\n",
    "estimator_name = 'LogReg'\n",
    "estimator = LogisticRegression()\n",
    "hyperparams = {'C': np.geomspace(1e-4, 1e5, 4), \n",
    "               'penalty': ['l1', 'l2'], \n",
    "               'solver': ['lbfgs', 'liblinear']}\n",
    "\n",
    "# Train DEKOIS, test DUD\n",
    "train_lib = 'DUD'\n",
    "test_lib = 'DEKOIS'\n",
    "split_by_library_and_gs(\n",
    "    train_lib, test_lib, estimator_name,\n",
    "    X, y, train_lib, test_lib)"
   ]
  },
  {
   "cell_type": "markdown",
   "metadata": {},
   "source": [
    "<h3 style='color: #F84122; padding: 0px;; margin: 0px'>GS:Random Forest  </h3>\n",
    "<b>Train and Test with different libraries</b>"
   ]
  },
  {
   "cell_type": "code",
   "execution_count": 51,
   "metadata": {
    "cell_style": "split"
   },
   "outputs": [
    {
     "name": "stdout",
     "output_type": "stream",
     "text": [
      "RandForest => Train: DEKOIS; Test: DUD; split: by_library\n",
      "No. of molecules in train set: 1221, with 40 actives.\n",
      "No. of molecules in test set: 4893, with 141 actives.\n",
      "\n",
      "********** GRID SEARCH RESULTS **********\n",
      "- Mean CV ROC-AUC:\t0.883\n",
      "- Train ROC-AUC:  \t0.930\n",
      "- Test ROC-AUC:   \t0.584\n",
      "- Best hyperparameters {'max_depth': 3, 'max_features': 'sqrt', 'min_samples_leaf': 0.03, 'min_samples_split': 0.3, 'n_estimators': 300}\n",
      "******************************************\n",
      "\n",
      "***** Best Conformation's ROC-AUC using docking scores *****\n",
      "> Train best conf. ROC-AUC: 0.894 \t> median: 0.833, mean: 0.831\n",
      "> Test best conf. ROC-AUC: 0.720 \t> median: 0.571, mean: 0.571\n",
      "****************************************************************\n",
      "CPU times: user 2.3 s, sys: 91.9 ms, total: 2.39 s\n",
      "Wall time: 42 s\n"
     ]
    }
   ],
   "source": [
    "%%time\n",
    "from sklearn.ensemble import RandomForestClassifier\n",
    "\n",
    "estimator_name = 'RandForest'\n",
    "estimator = RandomForestClassifier()\n",
    "hyperparams = {'n_estimators': [300, 500],\n",
    "             'max_depth': [3,  5, 7],\n",
    "             'min_samples_leaf': [0.03, 0.05],\n",
    "               'min_samples_split': [0.2,  0.3],\n",
    "             'max_features': ['sqrt']\n",
    "            }\n",
    "\n",
    "# Train DEKOIS, test DUD\n",
    "train_lib = 'DEKOIS'\n",
    "test_lib = 'DUD'\n",
    "split_by_library_and_gs(\n",
    "    train_lib, test_lib, estimator_name,\n",
    "    X, y, train_lib, test_lib)"
   ]
  },
  {
   "cell_type": "code",
   "execution_count": 52,
   "metadata": {
    "cell_style": "split"
   },
   "outputs": [
    {
     "name": "stdout",
     "output_type": "stream",
     "text": [
      "RandForest => Train: DUD; Test: DEKOIS; split: by_library\n",
      "No. of molecules in train set: 4893, with 141 actives.\n",
      "No. of molecules in test set: 1221, with 40 actives.\n",
      "\n",
      "********** GRID SEARCH RESULTS **********\n",
      "- Mean CV ROC-AUC:\t0.802\n",
      "- Train ROC-AUC:  \t0.866\n",
      "- Test ROC-AUC:   \t0.675\n",
      "- Best hyperparameters {'max_depth': 7, 'max_features': 'sqrt', 'min_samples_leaf': 0.03, 'min_samples_split': 0.2, 'n_estimators': 500}\n",
      "******************************************\n",
      "\n",
      "***** Best Conformation's ROC-AUC using docking scores *****\n",
      "> Train best conf. ROC-AUC: 0.720 \t> median: 0.571, mean: 0.571\n",
      "> Test best conf. ROC-AUC: 0.894 \t> median: 0.833, mean: 0.831\n",
      "****************************************************************\n",
      "CPU times: user 6.2 s, sys: 182 ms, total: 6.38 s\n",
      "Wall time: 1min 31s\n"
     ]
    }
   ],
   "source": [
    "%%time\n",
    "from sklearn.ensemble import RandomForestClassifier\n",
    "\n",
    "estimator_name = 'RandForest'\n",
    "estimator = RandomForestClassifier()\n",
    "hyperparams = {'n_estimators': [300, 500],\n",
    "             'max_depth': [3,  5, 7],\n",
    "             'min_samples_leaf': [0.03, 0.05],\n",
    "               'min_samples_split': [0.2,  0.3],\n",
    "             'max_features': ['sqrt']\n",
    "            }\n",
    "\n",
    "# Train DEKOIS, test DUD\n",
    "train_lib = 'DUD'\n",
    "test_lib = 'DEKOIS'\n",
    "split_by_library_and_gs(\n",
    "    train_lib, test_lib, estimator_name,\n",
    "    X, y, train_lib, test_lib)"
   ]
  },
  {
   "cell_type": "markdown",
   "metadata": {},
   "source": [
    "***\n",
    "<h2 style='background-color: #F9E5AB; padding: 5px;'>\n",
    "    Merged libraries \n",
    "</h2>\n",
    "<div style='background-color: #FE8460; min-height: 5px'></div>\n",
    "\n",
    "#### DEKOIS, DUD and COCRYS are  treated as one unique library"
   ]
  },
  {
   "cell_type": "code",
   "execution_count": 53,
   "metadata": {},
   "outputs": [],
   "source": [
    "# Train and test over \n",
    "X = X_merged_dksc\n",
    "y = y_true_merged\n",
    "library = 'Merged'\n",
    "scaffold_series = df_scff_murcko['scff_generic']"
   ]
  },
  {
   "cell_type": "markdown",
   "metadata": {
    "cell_style": "center"
   },
   "source": [
    "<h3 style='color: #F84122; padding: 0px;; margin: 0px'>GS: Linear SVM </h3>\n",
    "<b>Merged Libraries</b>"
   ]
  },
  {
   "cell_type": "code",
   "execution_count": 54,
   "metadata": {
    "cell_style": "split",
    "scrolled": true
   },
   "outputs": [
    {
     "name": "stdout",
     "output_type": "stream",
     "text": [
      "LinearSVC => Train: Merged; Test: Merged; split: random\n",
      "No. of molecules in train set: 4674, with 225 actives.\n",
      "No. of molecules in test set: 1559, with 75 actives.\n",
      "\n",
      "********** GRID SEARCH RESULTS **********\n",
      "- Mean CV ROC-AUC:\t0.723\n",
      "- Train ROC-AUC:  \t0.815\n",
      "- Test ROC-AUC:   \t0.745\n",
      "- Best hyperparameters {'C': 1e-12}\n",
      "******************************************\n",
      "\n",
      "***** Best Conformation's ROC-AUC using docking scores *****\n",
      "> Train best conf. ROC-AUC: 0.696 \t> median: 0.629, mean: 0.624\n",
      "> Test best conf. ROC-AUC: 0.648 \t> median: 0.551, mean: 0.555\n",
      "****************************************************************\n",
      "CPU times: user 3.01 s, sys: 77.1 ms, total: 3.09 s\n",
      "Wall time: 15.5 s\n"
     ]
    }
   ],
   "source": [
    "%%time\n",
    "from sklearn.svm import SVC\n",
    "\n",
    "estimator_name = 'LinearSVC'\n",
    "estimator = SVC(kernel = 'linear', probability=True)\n",
    "hyperparams = {'C': np.geomspace(1e-15, 1e-9, 3)}\n",
    "\n",
    "# RANDOM Train test splitting\n",
    "split_and_gs(library, library, estimator_name,\n",
    "             X, y, estimator, hyperparams,\n",
    "             splitting='random', test_size=0.25, \n",
    "             scaffold_series=None)"
   ]
  },
  {
   "cell_type": "code",
   "execution_count": 55,
   "metadata": {
    "cell_style": "split"
   },
   "outputs": [
    {
     "name": "stdout",
     "output_type": "stream",
     "text": [
      "LinearSVC => Train: Merged; Test: Merged; split: scaffold\n",
      "No. of molecules in train set: 4449, with 225 actives.\n",
      "No. of molecules in test set: 1784, with 75 actives.\n",
      "\n",
      "********** GRID SEARCH RESULTS **********\n",
      "- Mean CV ROC-AUC:\t0.695\n",
      "- Train ROC-AUC:  \t0.685\n",
      "- Test ROC-AUC:   \t0.688\n",
      "- Best hyperparameters {'C': 1e-12}\n",
      "******************************************\n",
      "\n",
      "***** Best Conformation's ROC-AUC using docking scores *****\n",
      "> Train best conf. ROC-AUC: 0.686 \t> median: 0.593, mean: 0.590\n",
      "> Test best conf. ROC-AUC: 0.716 \t> median: 0.650, mean: 0.645\n",
      "****************************************************************\n",
      "CPU times: user 3.02 s, sys: 38.2 ms, total: 3.06 s\n",
      "Wall time: 12.5 s\n"
     ]
    }
   ],
   "source": [
    "%%time\n",
    "# from sklearn.svm import SVC\n",
    "\n",
    "estimator_name = 'LinearSVC'\n",
    "estimator = SVC(kernel = 'linear', probability=True)\n",
    "hyperparams = {'C': np.geomspace(1e-15, 1e-9, 3)}\n",
    "\n",
    "# SCAFFOLD Train test splitting\n",
    "split_and_gs(library, library, estimator_name,\n",
    "             X, y, estimator, hyperparams,\n",
    "             splitting='scaffold', test_size=0.25, \n",
    "             scaffold_series=scaffold_series)"
   ]
  },
  {
   "cell_type": "markdown",
   "metadata": {},
   "source": [
    "<h3 style='color: #F84122; padding: 0px;; margin: 0px'>GS: Radial Basis Function SVM</h3>\n",
    "<b>Merged Libraries</b>"
   ]
  },
  {
   "cell_type": "code",
   "execution_count": 56,
   "metadata": {
    "cell_style": "split"
   },
   "outputs": [
    {
     "name": "stdout",
     "output_type": "stream",
     "text": [
      "rbfSVC => Train: Merged; Test: Merged; split: random\n",
      "No. of molecules in train set: 4674, with 225 actives.\n",
      "No. of molecules in test set: 1559, with 75 actives.\n",
      "\n",
      "********** GRID SEARCH RESULTS **********\n",
      "- Mean CV ROC-AUC:\t0.858\n",
      "- Train ROC-AUC:  \t1.000\n",
      "- Test ROC-AUC:   \t0.912\n",
      "- Best hyperparameters {'C': 10.0, 'gamma': 0.01}\n",
      "******************************************\n",
      "\n",
      "***** Best Conformation's ROC-AUC using docking scores *****\n",
      "> Train best conf. ROC-AUC: 0.673 \t> median: 0.599, mean: 0.599\n",
      "> Test best conf. ROC-AUC: 0.718 \t> median: 0.633, mean: 0.631\n",
      "****************************************************************\n",
      "CPU times: user 9.33 s, sys: 183 ms, total: 9.51 s\n",
      "Wall time: 3min 30s\n"
     ]
    }
   ],
   "source": [
    "%%time\n",
    "from sklearn.svm import SVC\n",
    "\n",
    "estimator_name = 'rbfSVC'\n",
    "estimator = SVC(kernel = 'rbf', probability=True)\n",
    "hyperparams = {'C': np.geomspace(1e0, 1e2, 3), \n",
    "               'gamma': np.geomspace(1e-4, 1e0, 3)}\n",
    "\n",
    "# RANDOM Train test splitting\n",
    "split_and_gs(library, library, estimator_name,\n",
    "             X, y, estimator, hyperparams,\n",
    "             splitting='random', test_size=0.25, \n",
    "             scaffold_series=None)"
   ]
  },
  {
   "cell_type": "code",
   "execution_count": 57,
   "metadata": {
    "cell_style": "split"
   },
   "outputs": [
    {
     "name": "stdout",
     "output_type": "stream",
     "text": [
      "rbfSVC => Train: Merged; Test: Merged; split: scaffold\n",
      "No. of molecules in train set: 4449, with 225 actives.\n",
      "No. of molecules in test set: 1784, with 75 actives.\n",
      "\n",
      "********** GRID SEARCH RESULTS **********\n",
      "- Mean CV ROC-AUC:\t0.854\n",
      "- Train ROC-AUC:  \t1.000\n",
      "- Test ROC-AUC:   \t0.773\n",
      "- Best hyperparameters {'C': 10.0, 'gamma': 0.01}\n",
      "******************************************\n",
      "\n",
      "***** Best Conformation's ROC-AUC using docking scores *****\n",
      "> Train best conf. ROC-AUC: 0.686 \t> median: 0.593, mean: 0.590\n",
      "> Test best conf. ROC-AUC: 0.716 \t> median: 0.650, mean: 0.645\n",
      "****************************************************************\n",
      "CPU times: user 7.83 s, sys: 196 ms, total: 8.03 s\n",
      "Wall time: 3min 5s\n"
     ]
    }
   ],
   "source": [
    "%%time\n",
    "\n",
    "estimator_name = 'rbfSVC'\n",
    "estimator = SVC(kernel = 'rbf', probability=True)\n",
    "hyperparams = {'C': np.geomspace(1e0, 1e2, 3), \n",
    "               'gamma': np.geomspace(1e-4, 1e0, 3)}\n",
    "\n",
    "# SCAFFOLD Train test splitting\n",
    "split_and_gs(library, library, estimator_name,\n",
    "             X, y, estimator, hyperparams,\n",
    "             splitting='scaffold', test_size=0.25, \n",
    "             scaffold_series=scaffold_series)"
   ]
  },
  {
   "cell_type": "markdown",
   "metadata": {},
   "source": [
    "<h3 style='color: #F84122; padding: 0px;; margin: 0px'>GS: Logistic Regression</h3>\n",
    "<b>Merged Libraries</b>"
   ]
  },
  {
   "cell_type": "code",
   "execution_count": 58,
   "metadata": {
    "cell_style": "split"
   },
   "outputs": [
    {
     "name": "stdout",
     "output_type": "stream",
     "text": [
      "LogReg => Train: Merged; Test: Merged; split: random\n",
      "No. of molecules in train set: 4674, with 225 actives.\n",
      "No. of molecules in test set: 1559, with 75 actives.\n",
      "\n",
      "********** GRID SEARCH RESULTS **********\n",
      "- Mean CV ROC-AUC:\t0.824\n",
      "- Train ROC-AUC:  \t0.885\n",
      "- Test ROC-AUC:   \t0.852\n",
      "- Best hyperparameters {'C': 1.0, 'penalty': 'l1', 'solver': 'liblinear'}\n",
      "******************************************\n",
      "\n",
      "***** Best Conformation's ROC-AUC using docking scores *****\n",
      "> Train best conf. ROC-AUC: 0.682 \t> median: 0.608, mean: 0.605\n",
      "> Test best conf. ROC-AUC: 0.707 \t> median: 0.614, mean: 0.612\n",
      "****************************************************************\n",
      "CPU times: user 7.14 s, sys: 510 ms, total: 7.65 s\n",
      "Wall time: 35.7 s\n"
     ]
    }
   ],
   "source": [
    "%%time\n",
    "from sklearn.linear_model import LogisticRegression\n",
    "\n",
    "estimator_name = 'LogReg'\n",
    "estimator = LogisticRegression()\n",
    "hyperparams = {'C': np.geomspace(1e-4, 1e4, 3), \n",
    "               'penalty': ['l1', 'l2'], \n",
    "               'solver': ['lbfgs', 'liblinear']}\n",
    "\n",
    "# RANDOM Train test splitting\n",
    "split_and_gs(library, library, estimator_name,\n",
    "             X, y, estimator, hyperparams,\n",
    "             splitting='random', test_size=0.25, \n",
    "             scaffold_series=None)"
   ]
  },
  {
   "cell_type": "code",
   "execution_count": 59,
   "metadata": {
    "cell_style": "split"
   },
   "outputs": [
    {
     "name": "stdout",
     "output_type": "stream",
     "text": [
      "LogReg => Train: Merged; Test: Merged; split: scaffold\n",
      "No. of molecules in train set: 4449, with 225 actives.\n",
      "No. of molecules in test set: 1784, with 75 actives.\n",
      "\n",
      "********** GRID SEARCH RESULTS **********\n",
      "- Mean CV ROC-AUC:\t0.817\n",
      "- Train ROC-AUC:  \t0.905\n",
      "- Test ROC-AUC:   \t0.746\n",
      "- Best hyperparameters {'C': 100.0, 'penalty': 'l1', 'solver': 'liblinear'}\n",
      "******************************************\n",
      "\n",
      "***** Best Conformation's ROC-AUC using docking scores *****\n",
      "> Train best conf. ROC-AUC: 0.686 \t> median: 0.593, mean: 0.590\n",
      "> Test best conf. ROC-AUC: 0.716 \t> median: 0.650, mean: 0.645\n",
      "****************************************************************\n",
      "CPU times: user 9.66 s, sys: 608 ms, total: 10.3 s\n",
      "Wall time: 51.2 s\n"
     ]
    }
   ],
   "source": [
    "%%time\n",
    "# from sklearn.linear_model import LogisticRegression\n",
    "\n",
    "estimator_name = 'LogReg'\n",
    "estimator = LogisticRegression()\n",
    "hyperparams = {'C': np.geomspace(1e-4, 1e5, 4), \n",
    "               'penalty': ['l1', 'l2'], \n",
    "               'solver': ['lbfgs', 'liblinear']}\n",
    "\n",
    "# SCAFFOLD Train test splitting\n",
    "split_and_gs(library, library, estimator_name,\n",
    "             X, y, estimator, hyperparams,\n",
    "             splitting='scaffold', test_size=0.25, \n",
    "             scaffold_series=scaffold_series)"
   ]
  },
  {
   "cell_type": "markdown",
   "metadata": {},
   "source": [
    "<h3 style='color: #F84122; padding: 0px;; margin: 0px'>GS: Decision Tree Classifier</h3>\n",
    "<b>Merged Libraries</b>"
   ]
  },
  {
   "cell_type": "code",
   "execution_count": 60,
   "metadata": {
    "cell_style": "split"
   },
   "outputs": [
    {
     "name": "stdout",
     "output_type": "stream",
     "text": [
      "DTree => Train: Merged; Test: Merged; split: random\n",
      "No. of molecules in train set: 4674, with 225 actives.\n",
      "No. of molecules in test set: 1559, with 75 actives.\n",
      "\n",
      "********** GRID SEARCH RESULTS **********\n",
      "- Mean CV ROC-AUC:\t0.752\n",
      "- Train ROC-AUC:  \t0.790\n",
      "- Test ROC-AUC:   \t0.737\n",
      "- Best hyperparameters {'criterion': 'entropy', 'max_depth': 5, 'max_features': None, 'min_samples_leaf': 0.05, 'min_samples_split': 0.2}\n",
      "******************************************\n",
      "\n",
      "***** Best Conformation's ROC-AUC using docking scores *****\n",
      "> Train best conf. ROC-AUC: 0.674 \t> median: 0.599, mean: 0.597\n",
      "> Test best conf. ROC-AUC: 0.729 \t> median: 0.636, mean: 0.637\n",
      "****************************************************************\n",
      "CPU times: user 2.85 s, sys: 335 ms, total: 3.18 s\n",
      "Wall time: 6.7 s\n"
     ]
    }
   ],
   "source": [
    "%%time\n",
    "from sklearn.tree import DecisionTreeClassifier\n",
    "\n",
    "estimator_name = 'DTree'\n",
    "estimator = DecisionTreeClassifier(splitter='best')\n",
    "hyperparams = {'criterion': ['gini', 'entropy'], \n",
    "               'max_depth': [2, 3, 5],\n",
    "               'min_samples_split': [0.2,  0.3],\n",
    "               'min_samples_leaf': [0.02, 0.05, 0.1],\n",
    "               'max_features': [None, 'sqrt', 'log2']}\n",
    "\n",
    "# RANDOM Train test splitting\n",
    "split_and_gs(library, library, estimator_name,\n",
    "             X, y, estimator, hyperparams,\n",
    "             splitting='random', test_size=0.25, \n",
    "             scaffold_series=None)"
   ]
  },
  {
   "cell_type": "code",
   "execution_count": 61,
   "metadata": {
    "cell_style": "split"
   },
   "outputs": [
    {
     "name": "stdout",
     "output_type": "stream",
     "text": [
      "DTree => Train: Merged; Test: Merged; split: scaffold\n",
      "No. of molecules in train set: 4449, with 225 actives.\n",
      "No. of molecules in test set: 1784, with 75 actives.\n",
      "\n",
      "********** GRID SEARCH RESULTS **********\n",
      "- Mean CV ROC-AUC:\t0.727\n",
      "- Train ROC-AUC:  \t0.798\n",
      "- Test ROC-AUC:   \t0.653\n",
      "- Best hyperparameters {'criterion': 'gini', 'max_depth': 5, 'max_features': None, 'min_samples_leaf': 0.05, 'min_samples_split': 0.3}\n",
      "******************************************\n",
      "\n",
      "***** Best Conformation's ROC-AUC using docking scores *****\n",
      "> Train best conf. ROC-AUC: 0.686 \t> median: 0.593, mean: 0.590\n",
      "> Test best conf. ROC-AUC: 0.716 \t> median: 0.650, mean: 0.645\n",
      "****************************************************************\n",
      "CPU times: user 2.62 s, sys: 323 ms, total: 2.95 s\n",
      "Wall time: 6.45 s\n"
     ]
    }
   ],
   "source": [
    "%%time\n",
    "from sklearn.tree import DecisionTreeClassifier\n",
    "\n",
    "estimator_name = 'DTree'\n",
    "estimator = DecisionTreeClassifier(splitter='best')\n",
    "hyperparams = {'criterion': ['gini', 'entropy'], \n",
    "               'max_depth': [2, 3, 5],\n",
    "               'min_samples_split': [0.2,  0.3],\n",
    "               'min_samples_leaf': [0.02, 0.05, 0.1],\n",
    "               'max_features': [None, 'sqrt', 'log2']}\n",
    "\n",
    "# SCAFFOLD Train test splitting\n",
    "split_and_gs(library, library, estimator_name,\n",
    "             X, y, estimator, hyperparams,\n",
    "             splitting='scaffold', test_size=0.25, \n",
    "             scaffold_series=scaffold_series)"
   ]
  },
  {
   "cell_type": "markdown",
   "metadata": {},
   "source": [
    "<h3 style='color: #F84122; padding: 0px;; margin: 0px'>GS: Bagging Classifier (k-NN as base estimator) </h3>\n",
    "<b>Merged Libraries</b>"
   ]
  },
  {
   "cell_type": "code",
   "execution_count": 62,
   "metadata": {
    "cell_style": "split"
   },
   "outputs": [
    {
     "name": "stdout",
     "output_type": "stream",
     "text": [
      "CPU times: user 58 µs, sys: 5 µs, total: 63 µs\n",
      "Wall time: 72.2 µs\n"
     ]
    }
   ],
   "source": [
    "%%time\n",
    "from sklearn.ensemble import BaggingClassifier\n",
    "\n",
    "estimator_name = 'kNN'\n",
    "knn = KNeighborsClassifier(n_neighbors=125, p=1, \n",
    "                           weights='distance')\n",
    "estimator = BaggingClassifier(base_estimator=knn, \n",
    "                              n_jobs=3, oob_score=True)\n",
    "\n",
    "hyperparams = {'n_estimators': [300]}\n",
    "\n",
    "# RANDOM Train test splitting\n",
    "# split_and_gs(X, y, estimator, hyperparams, \n",
    "#              splitting='random', test_size=0.25, \n",
    "#              scaffold_series=None)"
   ]
  },
  {
   "cell_type": "code",
   "execution_count": 63,
   "metadata": {
    "cell_style": "split"
   },
   "outputs": [
    {
     "name": "stdout",
     "output_type": "stream",
     "text": [
      "CPU times: user 51 µs, sys: 5 µs, total: 56 µs\n",
      "Wall time: 64.6 µs\n"
     ]
    }
   ],
   "source": [
    "%%time\n",
    "# from sklearn.ensemble import BaggingClassifier\n",
    "\n",
    "estimator_name = 'kNN'\n",
    "knn = KNeighborsClassifier(n_neighbors=125, p=1, \n",
    "                           weights='distance')\n",
    "estimator = BaggingClassifier(base_estimator=knn, \n",
    "                              n_jobs=3, oob_score=True)\n",
    "\n",
    "hyperparams = {'n_estimators': [300]}\n",
    "\n",
    "# SCAFFOLD Train test splitting\n",
    "# split_and_gs(X, y, estimator, hyperparams, \n",
    "#              splitting='scaffold', test_size=0.25, \n",
    "#              scaffold_series=scaffold_series)"
   ]
  },
  {
   "cell_type": "markdown",
   "metadata": {},
   "source": [
    "<h3 style='color: #F84122; padding: 0px;; margin: 0px'>GS: Random Forest </h3>\n",
    "<b>Merged Libraries</b>"
   ]
  },
  {
   "cell_type": "code",
   "execution_count": 64,
   "metadata": {
    "cell_style": "split"
   },
   "outputs": [
    {
     "name": "stdout",
     "output_type": "stream",
     "text": [
      "RandForest => Train: Merged; Test: Merged; split: random\n",
      "No. of molecules in train set: 4674, with 225 actives.\n",
      "No. of molecules in test set: 1559, with 75 actives.\n",
      "\n",
      "********** GRID SEARCH RESULTS **********\n",
      "- Mean CV ROC-AUC:\t0.733\n",
      "- Train ROC-AUC:  \t0.775\n",
      "- Test ROC-AUC:   \t0.757\n",
      "- Best hyperparameters {'max_depth': 3, 'max_features': 'sqrt', 'min_samples_leaf': 0.05, 'min_samples_split': 0.1, 'n_estimators': 300}\n",
      "******************************************\n",
      "\n",
      "***** Best Conformation's ROC-AUC using docking scores *****\n",
      "> Train best conf. ROC-AUC: 0.693 \t> median: 0.610, mean: 0.610\n",
      "> Test best conf. ROC-AUC: 0.686 \t> median: 0.598, mean: 0.598\n",
      "****************************************************************\n",
      "CPU times: user 3.29 s, sys: 107 ms, total: 3.4 s\n",
      "Wall time: 41.7 s\n"
     ]
    }
   ],
   "source": [
    "%%time\n",
    "from sklearn.ensemble import RandomForestClassifier\n",
    "\n",
    "estimator_name = 'RandForest'\n",
    "estimator = RandomForestClassifier()\n",
    "hyperparams = {'n_estimators': [300, 400],\n",
    "               'max_depth': [2, 3],\n",
    "               'min_samples_split': [0.1,  0.3],\n",
    "               'min_samples_leaf': [0.02, 0.05],\n",
    "               'max_features': ['sqrt']\n",
    "            }\n",
    "\n",
    "# RANDOM Train test splitting\n",
    "split_and_gs(library, library, estimator_name,\n",
    "             X, y, estimator, hyperparams,\n",
    "             splitting='random', test_size=0.25, \n",
    "             scaffold_series=None)"
   ]
  },
  {
   "cell_type": "code",
   "execution_count": 65,
   "metadata": {
    "cell_style": "split"
   },
   "outputs": [
    {
     "name": "stdout",
     "output_type": "stream",
     "text": [
      "RandForest => Train: Merged; Test: Merged; split: scaffold\n",
      "No. of molecules in train set: 4449, with 225 actives.\n",
      "No. of molecules in test set: 1784, with 75 actives.\n",
      "\n",
      "********** GRID SEARCH RESULTS **********\n",
      "- Mean CV ROC-AUC:\t0.736\n",
      "- Train ROC-AUC:  \t0.805\n",
      "- Test ROC-AUC:   \t0.660\n",
      "- Best hyperparameters {'max_depth': 3, 'max_features': 'sqrt', 'min_samples_leaf': 0.02, 'min_samples_split': 0.1, 'n_estimators': 400}\n",
      "******************************************\n",
      "\n",
      "***** Best Conformation's ROC-AUC using docking scores *****\n",
      "> Train best conf. ROC-AUC: 0.686 \t> median: 0.593, mean: 0.590\n",
      "> Test best conf. ROC-AUC: 0.716 \t> median: 0.650, mean: 0.645\n",
      "****************************************************************\n",
      "CPU times: user 3.91 s, sys: 111 ms, total: 4.02 s\n",
      "Wall time: 40.7 s\n"
     ]
    }
   ],
   "source": [
    "%%time\n",
    "from sklearn.ensemble import RandomForestClassifier\n",
    "\n",
    "estimator_name = 'RandForest'\n",
    "estimator = RandomForestClassifier()\n",
    "hyperparams = {'n_estimators': [300, 400],\n",
    "               'max_depth': [2, 3],\n",
    "               'min_samples_split': [0.1,  0.3],\n",
    "               'min_samples_leaf': [0.02, 0.05],\n",
    "               'max_features': ['sqrt']\n",
    "            }\n",
    "\n",
    "# SCAFFOLD Train test splitting\n",
    "split_and_gs(library, library, estimator_name,\n",
    "             X, y, estimator, hyperparams,\n",
    "             splitting='scaffold', test_size=0.25, \n",
    "             scaffold_series=scaffold_series)"
   ]
  },
  {
   "cell_type": "markdown",
   "metadata": {},
   "source": [
    "## Get, Format, and Save the Results"
   ]
  },
  {
   "cell_type": "code",
   "execution_count": 66,
   "metadata": {},
   "outputs": [
    {
     "data": {
      "text/html": [
       "<div>\n",
       "<style scoped>\n",
       "    .dataframe tbody tr th:only-of-type {\n",
       "        vertical-align: middle;\n",
       "    }\n",
       "\n",
       "    .dataframe tbody tr th {\n",
       "        vertical-align: top;\n",
       "    }\n",
       "\n",
       "    .dataframe thead th {\n",
       "        text-align: right;\n",
       "    }\n",
       "</style>\n",
       "<table border=\"1\" class=\"dataframe\">\n",
       "  <thead>\n",
       "    <tr style=\"text-align: right;\">\n",
       "      <th></th>\n",
       "      <th>Train_set</th>\n",
       "      <th>Test_set</th>\n",
       "      <th>Model name</th>\n",
       "      <th>Split</th>\n",
       "      <th>N_actives_train</th>\n",
       "      <th>N_actives_test</th>\n",
       "      <th>N_mols_train</th>\n",
       "      <th>Num_mols_test</th>\n",
       "      <th>Mean-CV-ROC</th>\n",
       "      <th>ROC-AUC_train</th>\n",
       "      <th>ROC-AUC_test</th>\n",
       "      <th>best_params</th>\n",
       "      <th>DkS_max_ROC_train</th>\n",
       "      <th>DkSc_med_ROC_train</th>\n",
       "      <th>DkSc_mean_ROC_train</th>\n",
       "      <th>DkS_max_ROC_test</th>\n",
       "      <th>DkSc_med_ROC_test</th>\n",
       "      <th>DkSc_mean_ROC_test</th>\n",
       "    </tr>\n",
       "  </thead>\n",
       "  <tbody>\n",
       "    <tr>\n",
       "      <th>0</th>\n",
       "      <td>DEKOIS</td>\n",
       "      <td>DEKOIS</td>\n",
       "      <td>LinearSVC</td>\n",
       "      <td>random</td>\n",
       "      <td>915</td>\n",
       "      <td>30</td>\n",
       "      <td>306</td>\n",
       "      <td>10</td>\n",
       "      <td>0.82919</td>\n",
       "      <td>1</td>\n",
       "      <td>0.885811</td>\n",
       "      <td>{'C': 1}</td>\n",
       "      <td>0.923183</td>\n",
       "      <td>0.850979</td>\n",
       "      <td>0.847989</td>\n",
       "      <td>0.877365</td>\n",
       "      <td>0.785304</td>\n",
       "      <td>0.780507</td>\n",
       "    </tr>\n",
       "    <tr>\n",
       "      <th>1</th>\n",
       "      <td>DEKOIS</td>\n",
       "      <td>DEKOIS</td>\n",
       "      <td>LinearSVC</td>\n",
       "      <td>scaffold</td>\n",
       "      <td>885</td>\n",
       "      <td>30</td>\n",
       "      <td>336</td>\n",
       "      <td>10</td>\n",
       "      <td>0.847271</td>\n",
       "      <td>0.874522</td>\n",
       "      <td>0.956442</td>\n",
       "      <td>{'C': 1e-15}</td>\n",
       "      <td>0.883938</td>\n",
       "      <td>0.816355</td>\n",
       "      <td>0.81151</td>\n",
       "      <td>0.965491</td>\n",
       "      <td>0.896933</td>\n",
       "      <td>0.892571</td>\n",
       "    </tr>\n",
       "    <tr>\n",
       "      <th>2</th>\n",
       "      <td>DEKOIS</td>\n",
       "      <td>DEKOIS</td>\n",
       "      <td>rbfSVC</td>\n",
       "      <td>random</td>\n",
       "      <td>915</td>\n",
       "      <td>30</td>\n",
       "      <td>306</td>\n",
       "      <td>10</td>\n",
       "      <td>0.87307</td>\n",
       "      <td>0.87484</td>\n",
       "      <td>0.942905</td>\n",
       "      <td>{'C': 1e-08, 'gamma': 1e-06}</td>\n",
       "      <td>0.88791</td>\n",
       "      <td>0.817834</td>\n",
       "      <td>0.814639</td>\n",
       "      <td>0.944426</td>\n",
       "      <td>0.88049</td>\n",
       "      <td>0.877574</td>\n",
       "    </tr>\n",
       "    <tr>\n",
       "      <th>3</th>\n",
       "      <td>DEKOIS</td>\n",
       "      <td>DEKOIS</td>\n",
       "      <td>rbfSVC</td>\n",
       "      <td>scaffold</td>\n",
       "      <td>885</td>\n",
       "      <td>30</td>\n",
       "      <td>336</td>\n",
       "      <td>10</td>\n",
       "      <td>0.846394</td>\n",
       "      <td>0.875127</td>\n",
       "      <td>0.952761</td>\n",
       "      <td>{'C': 1e-08, 'gamma': 1e-06}</td>\n",
       "      <td>0.883938</td>\n",
       "      <td>0.816355</td>\n",
       "      <td>0.81151</td>\n",
       "      <td>0.965491</td>\n",
       "      <td>0.896933</td>\n",
       "      <td>0.892571</td>\n",
       "    </tr>\n",
       "    <tr>\n",
       "      <th>4</th>\n",
       "      <td>DEKOIS</td>\n",
       "      <td>DEKOIS</td>\n",
       "      <td>LogReg</td>\n",
       "      <td>random</td>\n",
       "      <td>915</td>\n",
       "      <td>30</td>\n",
       "      <td>306</td>\n",
       "      <td>10</td>\n",
       "      <td>0.922222</td>\n",
       "      <td>0.950132</td>\n",
       "      <td>0.805068</td>\n",
       "      <td>{'C': 0.01, 'penalty': 'l2', 'solver': 'lbfgs'}</td>\n",
       "      <td>0.92904</td>\n",
       "      <td>0.866582</td>\n",
       "      <td>0.859682</td>\n",
       "      <td>0.857264</td>\n",
       "      <td>0.747213</td>\n",
       "      <td>0.744238</td>\n",
       "    </tr>\n",
       "    <tr>\n",
       "      <th>5</th>\n",
       "      <td>DEKOIS</td>\n",
       "      <td>DEKOIS</td>\n",
       "      <td>LogReg</td>\n",
       "      <td>scaffold</td>\n",
       "      <td>885</td>\n",
       "      <td>30</td>\n",
       "      <td>336</td>\n",
       "      <td>10</td>\n",
       "      <td>0.863548</td>\n",
       "      <td>0.875634</td>\n",
       "      <td>0.955828</td>\n",
       "      <td>{'C': 0.001, 'penalty': 'l2', 'solver': 'lbfgs'}</td>\n",
       "      <td>0.883938</td>\n",
       "      <td>0.816355</td>\n",
       "      <td>0.81151</td>\n",
       "      <td>0.965491</td>\n",
       "      <td>0.896933</td>\n",
       "      <td>0.892571</td>\n",
       "    </tr>\n",
       "    <tr>\n",
       "      <th>6</th>\n",
       "      <td>DEKOIS</td>\n",
       "      <td>DEKOIS</td>\n",
       "      <td>kNN</td>\n",
       "      <td>random</td>\n",
       "      <td>915</td>\n",
       "      <td>30</td>\n",
       "      <td>306</td>\n",
       "      <td>10</td>\n",
       "      <td>0.922881</td>\n",
       "      <td>0.943955</td>\n",
       "      <td>0.836993</td>\n",
       "      <td>{'n_neighbors': 55, 'p': 2}</td>\n",
       "      <td>0.907665</td>\n",
       "      <td>0.84064</td>\n",
       "      <td>0.833498</td>\n",
       "      <td>0.91723</td>\n",
       "      <td>0.825845</td>\n",
       "      <td>0.824364</td>\n",
       "    </tr>\n",
       "    <tr>\n",
       "      <th>7</th>\n",
       "      <td>DEKOIS</td>\n",
       "      <td>DEKOIS</td>\n",
       "      <td>kNN</td>\n",
       "      <td>scaffold</td>\n",
       "      <td>885</td>\n",
       "      <td>30</td>\n",
       "      <td>336</td>\n",
       "      <td>10</td>\n",
       "      <td>0.839474</td>\n",
       "      <td>0.870643</td>\n",
       "      <td>0.953374</td>\n",
       "      <td>{'n_neighbors': 225, 'p': 2}</td>\n",
       "      <td>0.883938</td>\n",
       "      <td>0.816355</td>\n",
       "      <td>0.81151</td>\n",
       "      <td>0.965491</td>\n",
       "      <td>0.896933</td>\n",
       "      <td>0.892571</td>\n",
       "    </tr>\n",
       "    <tr>\n",
       "      <th>8</th>\n",
       "      <td>DEKOIS</td>\n",
       "      <td>DEKOIS</td>\n",
       "      <td>DTree</td>\n",
       "      <td>random</td>\n",
       "      <td>915</td>\n",
       "      <td>30</td>\n",
       "      <td>306</td>\n",
       "      <td>10</td>\n",
       "      <td>0.860546</td>\n",
       "      <td>0.933202</td>\n",
       "      <td>0.825676</td>\n",
       "      <td>{'criterion': 'gini', 'max_depth': 5, 'max_fea...</td>\n",
       "      <td>0.903051</td>\n",
       "      <td>0.827053</td>\n",
       "      <td>0.826696</td>\n",
       "      <td>0.929054</td>\n",
       "      <td>0.849831</td>\n",
       "      <td>0.843931</td>\n",
       "    </tr>\n",
       "    <tr>\n",
       "      <th>9</th>\n",
       "      <td>DEKOIS</td>\n",
       "      <td>DEKOIS</td>\n",
       "      <td>DTree</td>\n",
       "      <td>scaffold</td>\n",
       "      <td>885</td>\n",
       "      <td>30</td>\n",
       "      <td>336</td>\n",
       "      <td>10</td>\n",
       "      <td>0.831969</td>\n",
       "      <td>0.868713</td>\n",
       "      <td>0.944479</td>\n",
       "      <td>{'criterion': 'entropy', 'max_depth': 3, 'max_...</td>\n",
       "      <td>0.883938</td>\n",
       "      <td>0.816355</td>\n",
       "      <td>0.81151</td>\n",
       "      <td>0.965491</td>\n",
       "      <td>0.896933</td>\n",
       "      <td>0.892571</td>\n",
       "    </tr>\n",
       "    <tr>\n",
       "      <th>10</th>\n",
       "      <td>DEKOIS</td>\n",
       "      <td>DEKOIS</td>\n",
       "      <td>RandForest</td>\n",
       "      <td>random</td>\n",
       "      <td>915</td>\n",
       "      <td>30</td>\n",
       "      <td>306</td>\n",
       "      <td>10</td>\n",
       "      <td>0.896422</td>\n",
       "      <td>0.918286</td>\n",
       "      <td>0.855912</td>\n",
       "      <td>{'max_depth': 2, 'max_features': 'log2', 'min_...</td>\n",
       "      <td>0.904275</td>\n",
       "      <td>0.841685</td>\n",
       "      <td>0.834774</td>\n",
       "      <td>0.890878</td>\n",
       "      <td>0.81799</td>\n",
       "      <td>0.818954</td>\n",
       "    </tr>\n",
       "    <tr>\n",
       "      <th>11</th>\n",
       "      <td>DEKOIS</td>\n",
       "      <td>DEKOIS</td>\n",
       "      <td>RandForest</td>\n",
       "      <td>scaffold</td>\n",
       "      <td>885</td>\n",
       "      <td>30</td>\n",
       "      <td>336</td>\n",
       "      <td>10</td>\n",
       "      <td>0.854971</td>\n",
       "      <td>0.898285</td>\n",
       "      <td>0.949233</td>\n",
       "      <td>{'max_depth': 2, 'max_features': 'log2', 'min_...</td>\n",
       "      <td>0.883938</td>\n",
       "      <td>0.816355</td>\n",
       "      <td>0.81151</td>\n",
       "      <td>0.965491</td>\n",
       "      <td>0.896933</td>\n",
       "      <td>0.892571</td>\n",
       "    </tr>\n",
       "    <tr>\n",
       "      <th>12</th>\n",
       "      <td>DUD</td>\n",
       "      <td>DUD</td>\n",
       "      <td>LinearSVC</td>\n",
       "      <td>random</td>\n",
       "      <td>3669</td>\n",
       "      <td>106</td>\n",
       "      <td>1224</td>\n",
       "      <td>35</td>\n",
       "      <td>0.763909</td>\n",
       "      <td>0.80081</td>\n",
       "      <td>0.744443</td>\n",
       "      <td>{'C': 1e-15}</td>\n",
       "      <td>0.702058</td>\n",
       "      <td>0.544052</td>\n",
       "      <td>0.542372</td>\n",
       "      <td>0.804313</td>\n",
       "      <td>0.654433</td>\n",
       "      <td>0.656566</td>\n",
       "    </tr>\n",
       "    <tr>\n",
       "      <th>13</th>\n",
       "      <td>DUD</td>\n",
       "      <td>DUD</td>\n",
       "      <td>LinearSVC</td>\n",
       "      <td>scaffold</td>\n",
       "      <td>3564</td>\n",
       "      <td>105</td>\n",
       "      <td>1329</td>\n",
       "      <td>36</td>\n",
       "      <td>0.883472</td>\n",
       "      <td>0.902402</td>\n",
       "      <td>0.545738</td>\n",
       "      <td>{'C': 1e-06}</td>\n",
       "      <td>0.746781</td>\n",
       "      <td>0.544994</td>\n",
       "      <td>0.547037</td>\n",
       "      <td>0.719279</td>\n",
       "      <td>0.639743</td>\n",
       "      <td>0.638041</td>\n",
       "    </tr>\n",
       "    <tr>\n",
       "      <th>14</th>\n",
       "      <td>DUD</td>\n",
       "      <td>DUD</td>\n",
       "      <td>rbfSVC</td>\n",
       "      <td>random</td>\n",
       "      <td>3669</td>\n",
       "      <td>106</td>\n",
       "      <td>1224</td>\n",
       "      <td>35</td>\n",
       "      <td>0.857147</td>\n",
       "      <td>0.991959</td>\n",
       "      <td>0.953142</td>\n",
       "      <td>{'C': 0.01, 'gamma': 0.01}</td>\n",
       "      <td>0.708209</td>\n",
       "      <td>0.574351</td>\n",
       "      <td>0.575696</td>\n",
       "      <td>0.778289</td>\n",
       "      <td>0.552727</td>\n",
       "      <td>0.55573</td>\n",
       "    </tr>\n",
       "    <tr>\n",
       "      <th>15</th>\n",
       "      <td>DUD</td>\n",
       "      <td>DUD</td>\n",
       "      <td>rbfSVC</td>\n",
       "      <td>scaffold</td>\n",
       "      <td>3564</td>\n",
       "      <td>105</td>\n",
       "      <td>1329</td>\n",
       "      <td>36</td>\n",
       "      <td>0.941172</td>\n",
       "      <td>0.996814</td>\n",
       "      <td>0.586964</td>\n",
       "      <td>{'C': 0.01, 'gamma': 0.01}</td>\n",
       "      <td>0.746781</td>\n",
       "      <td>0.544994</td>\n",
       "      <td>0.547037</td>\n",
       "      <td>0.719279</td>\n",
       "      <td>0.639743</td>\n",
       "      <td>0.638041</td>\n",
       "    </tr>\n",
       "    <tr>\n",
       "      <th>16</th>\n",
       "      <td>DUD</td>\n",
       "      <td>DUD</td>\n",
       "      <td>LogReg</td>\n",
       "      <td>random</td>\n",
       "      <td>3669</td>\n",
       "      <td>106</td>\n",
       "      <td>1224</td>\n",
       "      <td>35</td>\n",
       "      <td>0.861276</td>\n",
       "      <td>0.921894</td>\n",
       "      <td>0.831984</td>\n",
       "      <td>{'C': 0.1, 'penalty': 'l2', 'solver': 'libline...</td>\n",
       "      <td>0.713288</td>\n",
       "      <td>0.557893</td>\n",
       "      <td>0.559833</td>\n",
       "      <td>0.813625</td>\n",
       "      <td>0.603809</td>\n",
       "      <td>0.603541</td>\n",
       "    </tr>\n",
       "    <tr>\n",
       "      <th>17</th>\n",
       "      <td>DUD</td>\n",
       "      <td>DUD</td>\n",
       "      <td>LogReg</td>\n",
       "      <td>scaffold</td>\n",
       "      <td>3564</td>\n",
       "      <td>105</td>\n",
       "      <td>1329</td>\n",
       "      <td>36</td>\n",
       "      <td>0.890397</td>\n",
       "      <td>0.96191</td>\n",
       "      <td>0.618415</td>\n",
       "      <td>{'C': 0.1, 'penalty': 'l2', 'solver': 'libline...</td>\n",
       "      <td>0.746781</td>\n",
       "      <td>0.544994</td>\n",
       "      <td>0.547037</td>\n",
       "      <td>0.719279</td>\n",
       "      <td>0.639743</td>\n",
       "      <td>0.638041</td>\n",
       "    </tr>\n",
       "    <tr>\n",
       "      <th>18</th>\n",
       "      <td>DUD</td>\n",
       "      <td>DUD</td>\n",
       "      <td>kNN</td>\n",
       "      <td>random</td>\n",
       "      <td>3669</td>\n",
       "      <td>106</td>\n",
       "      <td>1224</td>\n",
       "      <td>35</td>\n",
       "      <td>0.810261</td>\n",
       "      <td>0.883213</td>\n",
       "      <td>0.792539</td>\n",
       "      <td>{'n_neighbors': 125, 'p': 1}</td>\n",
       "      <td>0.714393</td>\n",
       "      <td>0.56291</td>\n",
       "      <td>0.563867</td>\n",
       "      <td>0.764352</td>\n",
       "      <td>0.587348</td>\n",
       "      <td>0.591582</td>\n",
       "    </tr>\n",
       "    <tr>\n",
       "      <th>19</th>\n",
       "      <td>DUD</td>\n",
       "      <td>DUD</td>\n",
       "      <td>kNN</td>\n",
       "      <td>scaffold</td>\n",
       "      <td>3564</td>\n",
       "      <td>105</td>\n",
       "      <td>1329</td>\n",
       "      <td>36</td>\n",
       "      <td>0.827344</td>\n",
       "      <td>0.951022</td>\n",
       "      <td>0.595965</td>\n",
       "      <td>{'n_neighbors': 55, 'p': 1}</td>\n",
       "      <td>0.746781</td>\n",
       "      <td>0.544994</td>\n",
       "      <td>0.547037</td>\n",
       "      <td>0.719279</td>\n",
       "      <td>0.639743</td>\n",
       "      <td>0.638041</td>\n",
       "    </tr>\n",
       "    <tr>\n",
       "      <th>20</th>\n",
       "      <td>DUD</td>\n",
       "      <td>DUD</td>\n",
       "      <td>DTree</td>\n",
       "      <td>random</td>\n",
       "      <td>3669</td>\n",
       "      <td>106</td>\n",
       "      <td>1224</td>\n",
       "      <td>35</td>\n",
       "      <td>0.787636</td>\n",
       "      <td>0.842265</td>\n",
       "      <td>0.765241</td>\n",
       "      <td>{'criterion': 'gini', 'max_depth': 5, 'max_fea...</td>\n",
       "      <td>0.719884</td>\n",
       "      <td>0.571896</td>\n",
       "      <td>0.573435</td>\n",
       "      <td>0.72057</td>\n",
       "      <td>0.565157</td>\n",
       "      <td>0.562659</td>\n",
       "    </tr>\n",
       "    <tr>\n",
       "      <th>21</th>\n",
       "      <td>DUD</td>\n",
       "      <td>DUD</td>\n",
       "      <td>DTree</td>\n",
       "      <td>scaffold</td>\n",
       "      <td>3564</td>\n",
       "      <td>105</td>\n",
       "      <td>1329</td>\n",
       "      <td>36</td>\n",
       "      <td>0.825389</td>\n",
       "      <td>0.87506</td>\n",
       "      <td>0.578081</td>\n",
       "      <td>{'criterion': 'gini', 'max_depth': 5, 'max_fea...</td>\n",
       "      <td>0.746781</td>\n",
       "      <td>0.544994</td>\n",
       "      <td>0.547037</td>\n",
       "      <td>0.719279</td>\n",
       "      <td>0.639743</td>\n",
       "      <td>0.638041</td>\n",
       "    </tr>\n",
       "    <tr>\n",
       "      <th>22</th>\n",
       "      <td>DUD</td>\n",
       "      <td>DUD</td>\n",
       "      <td>RandForest</td>\n",
       "      <td>random</td>\n",
       "      <td>3669</td>\n",
       "      <td>106</td>\n",
       "      <td>1224</td>\n",
       "      <td>35</td>\n",
       "      <td>0.764056</td>\n",
       "      <td>0.822948</td>\n",
       "      <td>0.777724</td>\n",
       "      <td>{'max_depth': 5, 'max_features': 'sqrt', 'min_...</td>\n",
       "      <td>0.734541</td>\n",
       "      <td>0.583073</td>\n",
       "      <td>0.582612</td>\n",
       "      <td>0.686904</td>\n",
       "      <td>0.537234</td>\n",
       "      <td>0.534609</td>\n",
       "    </tr>\n",
       "    <tr>\n",
       "      <th>23</th>\n",
       "      <td>DUD</td>\n",
       "      <td>DUD</td>\n",
       "      <td>RandForest</td>\n",
       "      <td>scaffold</td>\n",
       "      <td>3564</td>\n",
       "      <td>105</td>\n",
       "      <td>1329</td>\n",
       "      <td>36</td>\n",
       "      <td>0.812449</td>\n",
       "      <td>0.891769</td>\n",
       "      <td>0.642391</td>\n",
       "      <td>{'max_depth': 5, 'max_features': 'sqrt', 'min_...</td>\n",
       "      <td>0.746781</td>\n",
       "      <td>0.544994</td>\n",
       "      <td>0.547037</td>\n",
       "      <td>0.719279</td>\n",
       "      <td>0.639743</td>\n",
       "      <td>0.638041</td>\n",
       "    </tr>\n",
       "    <tr>\n",
       "      <th>24</th>\n",
       "      <td>DEKOIS</td>\n",
       "      <td>DUD</td>\n",
       "      <td>LinearSVC</td>\n",
       "      <td>by_library</td>\n",
       "      <td>1221</td>\n",
       "      <td>40</td>\n",
       "      <td>4893</td>\n",
       "      <td>141</td>\n",
       "      <td>0.88948</td>\n",
       "      <td>0.893628</td>\n",
       "      <td>0.607093</td>\n",
       "      <td>{'C': 1e-15}</td>\n",
       "      <td>0.894083</td>\n",
       "      <td>0.833272</td>\n",
       "      <td>0.830917</td>\n",
       "      <td>0.719772</td>\n",
       "      <td>0.570682</td>\n",
       "      <td>0.57074</td>\n",
       "    </tr>\n",
       "    <tr>\n",
       "      <th>25</th>\n",
       "      <td>DUD</td>\n",
       "      <td>DEKOIS</td>\n",
       "      <td>LinearSVC</td>\n",
       "      <td>by_library</td>\n",
       "      <td>4893</td>\n",
       "      <td>141</td>\n",
       "      <td>1221</td>\n",
       "      <td>40</td>\n",
       "      <td>0.781573</td>\n",
       "      <td>0.799563</td>\n",
       "      <td>0.869782</td>\n",
       "      <td>{'C': 1e-15}</td>\n",
       "      <td>0.719772</td>\n",
       "      <td>0.570682</td>\n",
       "      <td>0.57074</td>\n",
       "      <td>0.894083</td>\n",
       "      <td>0.833272</td>\n",
       "      <td>0.830917</td>\n",
       "    </tr>\n",
       "    <tr>\n",
       "      <th>26</th>\n",
       "      <td>DEKOIS</td>\n",
       "      <td>DUD</td>\n",
       "      <td>rbfSVC</td>\n",
       "      <td>by_library</td>\n",
       "      <td>1221</td>\n",
       "      <td>40</td>\n",
       "      <td>4893</td>\n",
       "      <td>141</td>\n",
       "      <td>0.888</td>\n",
       "      <td>0.892834</td>\n",
       "      <td>0.613498</td>\n",
       "      <td>{'C': 1e-08, 'gamma': 1e-06}</td>\n",
       "      <td>0.894083</td>\n",
       "      <td>0.833272</td>\n",
       "      <td>0.830917</td>\n",
       "      <td>0.719772</td>\n",
       "      <td>0.570682</td>\n",
       "      <td>0.57074</td>\n",
       "    </tr>\n",
       "    <tr>\n",
       "      <th>27</th>\n",
       "      <td>DUD</td>\n",
       "      <td>DEKOIS</td>\n",
       "      <td>rbfSVC</td>\n",
       "      <td>by_library</td>\n",
       "      <td>4893</td>\n",
       "      <td>141</td>\n",
       "      <td>1221</td>\n",
       "      <td>40</td>\n",
       "      <td>0.866823</td>\n",
       "      <td>0.977122</td>\n",
       "      <td>0.638209</td>\n",
       "      <td>{'C': 0.01, 'gamma': 0.01}</td>\n",
       "      <td>0.719772</td>\n",
       "      <td>0.570682</td>\n",
       "      <td>0.57074</td>\n",
       "      <td>0.894083</td>\n",
       "      <td>0.833272</td>\n",
       "      <td>0.830917</td>\n",
       "    </tr>\n",
       "    <tr>\n",
       "      <th>28</th>\n",
       "      <td>DEKOIS</td>\n",
       "      <td>DUD</td>\n",
       "      <td>LogReg</td>\n",
       "      <td>by_library</td>\n",
       "      <td>1221</td>\n",
       "      <td>40</td>\n",
       "      <td>4893</td>\n",
       "      <td>141</td>\n",
       "      <td>0.891065</td>\n",
       "      <td>0.88967</td>\n",
       "      <td>0.603053</td>\n",
       "      <td>{'C': 0.0001, 'penalty': 'l2', 'solver': 'lbfgs'}</td>\n",
       "      <td>0.894083</td>\n",
       "      <td>0.833272</td>\n",
       "      <td>0.830917</td>\n",
       "      <td>0.719772</td>\n",
       "      <td>0.570682</td>\n",
       "      <td>0.57074</td>\n",
       "    </tr>\n",
       "    <tr>\n",
       "      <th>29</th>\n",
       "      <td>DUD</td>\n",
       "      <td>DEKOIS</td>\n",
       "      <td>LogReg</td>\n",
       "      <td>by_library</td>\n",
       "      <td>4893</td>\n",
       "      <td>141</td>\n",
       "      <td>1221</td>\n",
       "      <td>40</td>\n",
       "      <td>0.815492</td>\n",
       "      <td>0.921692</td>\n",
       "      <td>0.758235</td>\n",
       "      <td>{'C': 100.0, 'penalty': 'l2', 'solver': 'libli...</td>\n",
       "      <td>0.719772</td>\n",
       "      <td>0.570682</td>\n",
       "      <td>0.57074</td>\n",
       "      <td>0.894083</td>\n",
       "      <td>0.833272</td>\n",
       "      <td>0.830917</td>\n",
       "    </tr>\n",
       "    <tr>\n",
       "      <th>30</th>\n",
       "      <td>DEKOIS</td>\n",
       "      <td>DUD</td>\n",
       "      <td>RandForest</td>\n",
       "      <td>by_library</td>\n",
       "      <td>1221</td>\n",
       "      <td>40</td>\n",
       "      <td>4893</td>\n",
       "      <td>141</td>\n",
       "      <td>0.882831</td>\n",
       "      <td>0.93008</td>\n",
       "      <td>0.583536</td>\n",
       "      <td>{'max_depth': 3, 'max_features': 'sqrt', 'min_...</td>\n",
       "      <td>0.894083</td>\n",
       "      <td>0.833272</td>\n",
       "      <td>0.830917</td>\n",
       "      <td>0.719772</td>\n",
       "      <td>0.570682</td>\n",
       "      <td>0.57074</td>\n",
       "    </tr>\n",
       "    <tr>\n",
       "      <th>31</th>\n",
       "      <td>DUD</td>\n",
       "      <td>DEKOIS</td>\n",
       "      <td>RandForest</td>\n",
       "      <td>by_library</td>\n",
       "      <td>4893</td>\n",
       "      <td>141</td>\n",
       "      <td>1221</td>\n",
       "      <td>40</td>\n",
       "      <td>0.802107</td>\n",
       "      <td>0.866302</td>\n",
       "      <td>0.675127</td>\n",
       "      <td>{'max_depth': 7, 'max_features': 'sqrt', 'min_...</td>\n",
       "      <td>0.719772</td>\n",
       "      <td>0.570682</td>\n",
       "      <td>0.57074</td>\n",
       "      <td>0.894083</td>\n",
       "      <td>0.833272</td>\n",
       "      <td>0.830917</td>\n",
       "    </tr>\n",
       "    <tr>\n",
       "      <th>32</th>\n",
       "      <td>Merged</td>\n",
       "      <td>Merged</td>\n",
       "      <td>LinearSVC</td>\n",
       "      <td>random</td>\n",
       "      <td>4674</td>\n",
       "      <td>225</td>\n",
       "      <td>1559</td>\n",
       "      <td>75</td>\n",
       "      <td>0.722869</td>\n",
       "      <td>0.815399</td>\n",
       "      <td>0.745076</td>\n",
       "      <td>{'C': 1e-12}</td>\n",
       "      <td>0.695617</td>\n",
       "      <td>0.629439</td>\n",
       "      <td>0.624217</td>\n",
       "      <td>0.648333</td>\n",
       "      <td>0.551031</td>\n",
       "      <td>0.555163</td>\n",
       "    </tr>\n",
       "    <tr>\n",
       "      <th>33</th>\n",
       "      <td>Merged</td>\n",
       "      <td>Merged</td>\n",
       "      <td>LinearSVC</td>\n",
       "      <td>scaffold</td>\n",
       "      <td>4449</td>\n",
       "      <td>225</td>\n",
       "      <td>1784</td>\n",
       "      <td>75</td>\n",
       "      <td>0.694691</td>\n",
       "      <td>0.685296</td>\n",
       "      <td>0.688496</td>\n",
       "      <td>{'C': 1e-12}</td>\n",
       "      <td>0.685735</td>\n",
       "      <td>0.592685</td>\n",
       "      <td>0.590494</td>\n",
       "      <td>0.715885</td>\n",
       "      <td>0.650215</td>\n",
       "      <td>0.645064</td>\n",
       "    </tr>\n",
       "    <tr>\n",
       "      <th>34</th>\n",
       "      <td>Merged</td>\n",
       "      <td>Merged</td>\n",
       "      <td>rbfSVC</td>\n",
       "      <td>random</td>\n",
       "      <td>4674</td>\n",
       "      <td>225</td>\n",
       "      <td>1559</td>\n",
       "      <td>75</td>\n",
       "      <td>0.85804</td>\n",
       "      <td>1</td>\n",
       "      <td>0.911671</td>\n",
       "      <td>{'C': 10.0, 'gamma': 0.01}</td>\n",
       "      <td>0.673413</td>\n",
       "      <td>0.598722</td>\n",
       "      <td>0.599032</td>\n",
       "      <td>0.717529</td>\n",
       "      <td>0.633104</td>\n",
       "      <td>0.631001</td>\n",
       "    </tr>\n",
       "    <tr>\n",
       "      <th>35</th>\n",
       "      <td>Merged</td>\n",
       "      <td>Merged</td>\n",
       "      <td>rbfSVC</td>\n",
       "      <td>scaffold</td>\n",
       "      <td>4449</td>\n",
       "      <td>225</td>\n",
       "      <td>1784</td>\n",
       "      <td>75</td>\n",
       "      <td>0.853659</td>\n",
       "      <td>1</td>\n",
       "      <td>0.772865</td>\n",
       "      <td>{'C': 10.0, 'gamma': 0.01}</td>\n",
       "      <td>0.685735</td>\n",
       "      <td>0.592685</td>\n",
       "      <td>0.590494</td>\n",
       "      <td>0.715885</td>\n",
       "      <td>0.650215</td>\n",
       "      <td>0.645064</td>\n",
       "    </tr>\n",
       "    <tr>\n",
       "      <th>36</th>\n",
       "      <td>Merged</td>\n",
       "      <td>Merged</td>\n",
       "      <td>LogReg</td>\n",
       "      <td>random</td>\n",
       "      <td>4674</td>\n",
       "      <td>225</td>\n",
       "      <td>1559</td>\n",
       "      <td>75</td>\n",
       "      <td>0.82411</td>\n",
       "      <td>0.885077</td>\n",
       "      <td>0.851869</td>\n",
       "      <td>{'C': 1.0, 'penalty': 'l1', 'solver': 'libline...</td>\n",
       "      <td>0.682338</td>\n",
       "      <td>0.607994</td>\n",
       "      <td>0.60546</td>\n",
       "      <td>0.706725</td>\n",
       "      <td>0.613971</td>\n",
       "      <td>0.611984</td>\n",
       "    </tr>\n",
       "    <tr>\n",
       "      <th>37</th>\n",
       "      <td>Merged</td>\n",
       "      <td>Merged</td>\n",
       "      <td>LogReg</td>\n",
       "      <td>scaffold</td>\n",
       "      <td>4449</td>\n",
       "      <td>225</td>\n",
       "      <td>1784</td>\n",
       "      <td>75</td>\n",
       "      <td>0.817374</td>\n",
       "      <td>0.905297</td>\n",
       "      <td>0.746401</td>\n",
       "      <td>{'C': 100.0, 'penalty': 'l1', 'solver': 'libli...</td>\n",
       "      <td>0.685735</td>\n",
       "      <td>0.592685</td>\n",
       "      <td>0.590494</td>\n",
       "      <td>0.715885</td>\n",
       "      <td>0.650215</td>\n",
       "      <td>0.645064</td>\n",
       "    </tr>\n",
       "    <tr>\n",
       "      <th>38</th>\n",
       "      <td>Merged</td>\n",
       "      <td>Merged</td>\n",
       "      <td>DTree</td>\n",
       "      <td>random</td>\n",
       "      <td>4674</td>\n",
       "      <td>225</td>\n",
       "      <td>1559</td>\n",
       "      <td>75</td>\n",
       "      <td>0.751951</td>\n",
       "      <td>0.790159</td>\n",
       "      <td>0.736667</td>\n",
       "      <td>{'criterion': 'entropy', 'max_depth': 5, 'max_...</td>\n",
       "      <td>0.674093</td>\n",
       "      <td>0.599452</td>\n",
       "      <td>0.596955</td>\n",
       "      <td>0.729412</td>\n",
       "      <td>0.636224</td>\n",
       "      <td>0.637408</td>\n",
       "    </tr>\n",
       "    <tr>\n",
       "      <th>39</th>\n",
       "      <td>Merged</td>\n",
       "      <td>Merged</td>\n",
       "      <td>DTree</td>\n",
       "      <td>scaffold</td>\n",
       "      <td>4449</td>\n",
       "      <td>225</td>\n",
       "      <td>1784</td>\n",
       "      <td>75</td>\n",
       "      <td>0.727008</td>\n",
       "      <td>0.798328</td>\n",
       "      <td>0.653443</td>\n",
       "      <td>{'criterion': 'gini', 'max_depth': 5, 'max_fea...</td>\n",
       "      <td>0.685735</td>\n",
       "      <td>0.592685</td>\n",
       "      <td>0.590494</td>\n",
       "      <td>0.715885</td>\n",
       "      <td>0.650215</td>\n",
       "      <td>0.645064</td>\n",
       "    </tr>\n",
       "    <tr>\n",
       "      <th>40</th>\n",
       "      <td>Merged</td>\n",
       "      <td>Merged</td>\n",
       "      <td>RandForest</td>\n",
       "      <td>random</td>\n",
       "      <td>4674</td>\n",
       "      <td>225</td>\n",
       "      <td>1559</td>\n",
       "      <td>75</td>\n",
       "      <td>0.73252</td>\n",
       "      <td>0.775044</td>\n",
       "      <td>0.757385</td>\n",
       "      <td>{'max_depth': 3, 'max_features': 'sqrt', 'min_...</td>\n",
       "      <td>0.692889</td>\n",
       "      <td>0.610065</td>\n",
       "      <td>0.610214</td>\n",
       "      <td>0.686312</td>\n",
       "      <td>0.598028</td>\n",
       "      <td>0.597942</td>\n",
       "    </tr>\n",
       "    <tr>\n",
       "      <th>41</th>\n",
       "      <td>Merged</td>\n",
       "      <td>Merged</td>\n",
       "      <td>RandForest</td>\n",
       "      <td>scaffold</td>\n",
       "      <td>4449</td>\n",
       "      <td>225</td>\n",
       "      <td>1784</td>\n",
       "      <td>75</td>\n",
       "      <td>0.736384</td>\n",
       "      <td>0.804693</td>\n",
       "      <td>0.659567</td>\n",
       "      <td>{'max_depth': 3, 'max_features': 'sqrt', 'min_...</td>\n",
       "      <td>0.685735</td>\n",
       "      <td>0.592685</td>\n",
       "      <td>0.590494</td>\n",
       "      <td>0.715885</td>\n",
       "      <td>0.650215</td>\n",
       "      <td>0.645064</td>\n",
       "    </tr>\n",
       "  </tbody>\n",
       "</table>\n",
       "</div>"
      ],
      "text/plain": [
       "   Train_set Test_set  Model name       Split N_actives_train N_actives_test  \\\n",
       "0     DEKOIS   DEKOIS   LinearSVC      random             915             30   \n",
       "1     DEKOIS   DEKOIS   LinearSVC    scaffold             885             30   \n",
       "2     DEKOIS   DEKOIS      rbfSVC      random             915             30   \n",
       "3     DEKOIS   DEKOIS      rbfSVC    scaffold             885             30   \n",
       "4     DEKOIS   DEKOIS      LogReg      random             915             30   \n",
       "5     DEKOIS   DEKOIS      LogReg    scaffold             885             30   \n",
       "6     DEKOIS   DEKOIS         kNN      random             915             30   \n",
       "7     DEKOIS   DEKOIS         kNN    scaffold             885             30   \n",
       "8     DEKOIS   DEKOIS       DTree      random             915             30   \n",
       "9     DEKOIS   DEKOIS       DTree    scaffold             885             30   \n",
       "10    DEKOIS   DEKOIS  RandForest      random             915             30   \n",
       "11    DEKOIS   DEKOIS  RandForest    scaffold             885             30   \n",
       "12       DUD      DUD   LinearSVC      random            3669            106   \n",
       "13       DUD      DUD   LinearSVC    scaffold            3564            105   \n",
       "14       DUD      DUD      rbfSVC      random            3669            106   \n",
       "15       DUD      DUD      rbfSVC    scaffold            3564            105   \n",
       "16       DUD      DUD      LogReg      random            3669            106   \n",
       "17       DUD      DUD      LogReg    scaffold            3564            105   \n",
       "18       DUD      DUD         kNN      random            3669            106   \n",
       "19       DUD      DUD         kNN    scaffold            3564            105   \n",
       "20       DUD      DUD       DTree      random            3669            106   \n",
       "21       DUD      DUD       DTree    scaffold            3564            105   \n",
       "22       DUD      DUD  RandForest      random            3669            106   \n",
       "23       DUD      DUD  RandForest    scaffold            3564            105   \n",
       "24    DEKOIS      DUD   LinearSVC  by_library            1221             40   \n",
       "25       DUD   DEKOIS   LinearSVC  by_library            4893            141   \n",
       "26    DEKOIS      DUD      rbfSVC  by_library            1221             40   \n",
       "27       DUD   DEKOIS      rbfSVC  by_library            4893            141   \n",
       "28    DEKOIS      DUD      LogReg  by_library            1221             40   \n",
       "29       DUD   DEKOIS      LogReg  by_library            4893            141   \n",
       "30    DEKOIS      DUD  RandForest  by_library            1221             40   \n",
       "31       DUD   DEKOIS  RandForest  by_library            4893            141   \n",
       "32    Merged   Merged   LinearSVC      random            4674            225   \n",
       "33    Merged   Merged   LinearSVC    scaffold            4449            225   \n",
       "34    Merged   Merged      rbfSVC      random            4674            225   \n",
       "35    Merged   Merged      rbfSVC    scaffold            4449            225   \n",
       "36    Merged   Merged      LogReg      random            4674            225   \n",
       "37    Merged   Merged      LogReg    scaffold            4449            225   \n",
       "38    Merged   Merged       DTree      random            4674            225   \n",
       "39    Merged   Merged       DTree    scaffold            4449            225   \n",
       "40    Merged   Merged  RandForest      random            4674            225   \n",
       "41    Merged   Merged  RandForest    scaffold            4449            225   \n",
       "\n",
       "   N_mols_train Num_mols_test Mean-CV-ROC ROC-AUC_train ROC-AUC_test  \\\n",
       "0           306            10     0.82919             1     0.885811   \n",
       "1           336            10    0.847271      0.874522     0.956442   \n",
       "2           306            10     0.87307       0.87484     0.942905   \n",
       "3           336            10    0.846394      0.875127     0.952761   \n",
       "4           306            10    0.922222      0.950132     0.805068   \n",
       "5           336            10    0.863548      0.875634     0.955828   \n",
       "6           306            10    0.922881      0.943955     0.836993   \n",
       "7           336            10    0.839474      0.870643     0.953374   \n",
       "8           306            10    0.860546      0.933202     0.825676   \n",
       "9           336            10    0.831969      0.868713     0.944479   \n",
       "10          306            10    0.896422      0.918286     0.855912   \n",
       "11          336            10    0.854971      0.898285     0.949233   \n",
       "12         1224            35    0.763909       0.80081     0.744443   \n",
       "13         1329            36    0.883472      0.902402     0.545738   \n",
       "14         1224            35    0.857147      0.991959     0.953142   \n",
       "15         1329            36    0.941172      0.996814     0.586964   \n",
       "16         1224            35    0.861276      0.921894     0.831984   \n",
       "17         1329            36    0.890397       0.96191     0.618415   \n",
       "18         1224            35    0.810261      0.883213     0.792539   \n",
       "19         1329            36    0.827344      0.951022     0.595965   \n",
       "20         1224            35    0.787636      0.842265     0.765241   \n",
       "21         1329            36    0.825389       0.87506     0.578081   \n",
       "22         1224            35    0.764056      0.822948     0.777724   \n",
       "23         1329            36    0.812449      0.891769     0.642391   \n",
       "24         4893           141     0.88948      0.893628     0.607093   \n",
       "25         1221            40    0.781573      0.799563     0.869782   \n",
       "26         4893           141       0.888      0.892834     0.613498   \n",
       "27         1221            40    0.866823      0.977122     0.638209   \n",
       "28         4893           141    0.891065       0.88967     0.603053   \n",
       "29         1221            40    0.815492      0.921692     0.758235   \n",
       "30         4893           141    0.882831       0.93008     0.583536   \n",
       "31         1221            40    0.802107      0.866302     0.675127   \n",
       "32         1559            75    0.722869      0.815399     0.745076   \n",
       "33         1784            75    0.694691      0.685296     0.688496   \n",
       "34         1559            75     0.85804             1     0.911671   \n",
       "35         1784            75    0.853659             1     0.772865   \n",
       "36         1559            75     0.82411      0.885077     0.851869   \n",
       "37         1784            75    0.817374      0.905297     0.746401   \n",
       "38         1559            75    0.751951      0.790159     0.736667   \n",
       "39         1784            75    0.727008      0.798328     0.653443   \n",
       "40         1559            75     0.73252      0.775044     0.757385   \n",
       "41         1784            75    0.736384      0.804693     0.659567   \n",
       "\n",
       "                                          best_params DkS_max_ROC_train  \\\n",
       "0                                            {'C': 1}          0.923183   \n",
       "1                                        {'C': 1e-15}          0.883938   \n",
       "2                        {'C': 1e-08, 'gamma': 1e-06}           0.88791   \n",
       "3                        {'C': 1e-08, 'gamma': 1e-06}          0.883938   \n",
       "4     {'C': 0.01, 'penalty': 'l2', 'solver': 'lbfgs'}           0.92904   \n",
       "5    {'C': 0.001, 'penalty': 'l2', 'solver': 'lbfgs'}          0.883938   \n",
       "6                         {'n_neighbors': 55, 'p': 2}          0.907665   \n",
       "7                        {'n_neighbors': 225, 'p': 2}          0.883938   \n",
       "8   {'criterion': 'gini', 'max_depth': 5, 'max_fea...          0.903051   \n",
       "9   {'criterion': 'entropy', 'max_depth': 3, 'max_...          0.883938   \n",
       "10  {'max_depth': 2, 'max_features': 'log2', 'min_...          0.904275   \n",
       "11  {'max_depth': 2, 'max_features': 'log2', 'min_...          0.883938   \n",
       "12                                       {'C': 1e-15}          0.702058   \n",
       "13                                       {'C': 1e-06}          0.746781   \n",
       "14                         {'C': 0.01, 'gamma': 0.01}          0.708209   \n",
       "15                         {'C': 0.01, 'gamma': 0.01}          0.746781   \n",
       "16  {'C': 0.1, 'penalty': 'l2', 'solver': 'libline...          0.713288   \n",
       "17  {'C': 0.1, 'penalty': 'l2', 'solver': 'libline...          0.746781   \n",
       "18                       {'n_neighbors': 125, 'p': 1}          0.714393   \n",
       "19                        {'n_neighbors': 55, 'p': 1}          0.746781   \n",
       "20  {'criterion': 'gini', 'max_depth': 5, 'max_fea...          0.719884   \n",
       "21  {'criterion': 'gini', 'max_depth': 5, 'max_fea...          0.746781   \n",
       "22  {'max_depth': 5, 'max_features': 'sqrt', 'min_...          0.734541   \n",
       "23  {'max_depth': 5, 'max_features': 'sqrt', 'min_...          0.746781   \n",
       "24                                       {'C': 1e-15}          0.894083   \n",
       "25                                       {'C': 1e-15}          0.719772   \n",
       "26                       {'C': 1e-08, 'gamma': 1e-06}          0.894083   \n",
       "27                         {'C': 0.01, 'gamma': 0.01}          0.719772   \n",
       "28  {'C': 0.0001, 'penalty': 'l2', 'solver': 'lbfgs'}          0.894083   \n",
       "29  {'C': 100.0, 'penalty': 'l2', 'solver': 'libli...          0.719772   \n",
       "30  {'max_depth': 3, 'max_features': 'sqrt', 'min_...          0.894083   \n",
       "31  {'max_depth': 7, 'max_features': 'sqrt', 'min_...          0.719772   \n",
       "32                                       {'C': 1e-12}          0.695617   \n",
       "33                                       {'C': 1e-12}          0.685735   \n",
       "34                         {'C': 10.0, 'gamma': 0.01}          0.673413   \n",
       "35                         {'C': 10.0, 'gamma': 0.01}          0.685735   \n",
       "36  {'C': 1.0, 'penalty': 'l1', 'solver': 'libline...          0.682338   \n",
       "37  {'C': 100.0, 'penalty': 'l1', 'solver': 'libli...          0.685735   \n",
       "38  {'criterion': 'entropy', 'max_depth': 5, 'max_...          0.674093   \n",
       "39  {'criterion': 'gini', 'max_depth': 5, 'max_fea...          0.685735   \n",
       "40  {'max_depth': 3, 'max_features': 'sqrt', 'min_...          0.692889   \n",
       "41  {'max_depth': 3, 'max_features': 'sqrt', 'min_...          0.685735   \n",
       "\n",
       "   DkSc_med_ROC_train DkSc_mean_ROC_train DkS_max_ROC_test DkSc_med_ROC_test  \\\n",
       "0            0.850979            0.847989         0.877365          0.785304   \n",
       "1            0.816355             0.81151         0.965491          0.896933   \n",
       "2            0.817834            0.814639         0.944426           0.88049   \n",
       "3            0.816355             0.81151         0.965491          0.896933   \n",
       "4            0.866582            0.859682         0.857264          0.747213   \n",
       "5            0.816355             0.81151         0.965491          0.896933   \n",
       "6             0.84064            0.833498          0.91723          0.825845   \n",
       "7            0.816355             0.81151         0.965491          0.896933   \n",
       "8            0.827053            0.826696         0.929054          0.849831   \n",
       "9            0.816355             0.81151         0.965491          0.896933   \n",
       "10           0.841685            0.834774         0.890878           0.81799   \n",
       "11           0.816355             0.81151         0.965491          0.896933   \n",
       "12           0.544052            0.542372         0.804313          0.654433   \n",
       "13           0.544994            0.547037         0.719279          0.639743   \n",
       "14           0.574351            0.575696         0.778289          0.552727   \n",
       "15           0.544994            0.547037         0.719279          0.639743   \n",
       "16           0.557893            0.559833         0.813625          0.603809   \n",
       "17           0.544994            0.547037         0.719279          0.639743   \n",
       "18            0.56291            0.563867         0.764352          0.587348   \n",
       "19           0.544994            0.547037         0.719279          0.639743   \n",
       "20           0.571896            0.573435          0.72057          0.565157   \n",
       "21           0.544994            0.547037         0.719279          0.639743   \n",
       "22           0.583073            0.582612         0.686904          0.537234   \n",
       "23           0.544994            0.547037         0.719279          0.639743   \n",
       "24           0.833272            0.830917         0.719772          0.570682   \n",
       "25           0.570682             0.57074         0.894083          0.833272   \n",
       "26           0.833272            0.830917         0.719772          0.570682   \n",
       "27           0.570682             0.57074         0.894083          0.833272   \n",
       "28           0.833272            0.830917         0.719772          0.570682   \n",
       "29           0.570682             0.57074         0.894083          0.833272   \n",
       "30           0.833272            0.830917         0.719772          0.570682   \n",
       "31           0.570682             0.57074         0.894083          0.833272   \n",
       "32           0.629439            0.624217         0.648333          0.551031   \n",
       "33           0.592685            0.590494         0.715885          0.650215   \n",
       "34           0.598722            0.599032         0.717529          0.633104   \n",
       "35           0.592685            0.590494         0.715885          0.650215   \n",
       "36           0.607994             0.60546         0.706725          0.613971   \n",
       "37           0.592685            0.590494         0.715885          0.650215   \n",
       "38           0.599452            0.596955         0.729412          0.636224   \n",
       "39           0.592685            0.590494         0.715885          0.650215   \n",
       "40           0.610065            0.610214         0.686312          0.598028   \n",
       "41           0.592685            0.590494         0.715885          0.650215   \n",
       "\n",
       "   DkSc_mean_ROC_test  \n",
       "0            0.780507  \n",
       "1            0.892571  \n",
       "2            0.877574  \n",
       "3            0.892571  \n",
       "4            0.744238  \n",
       "5            0.892571  \n",
       "6            0.824364  \n",
       "7            0.892571  \n",
       "8            0.843931  \n",
       "9            0.892571  \n",
       "10           0.818954  \n",
       "11           0.892571  \n",
       "12           0.656566  \n",
       "13           0.638041  \n",
       "14            0.55573  \n",
       "15           0.638041  \n",
       "16           0.603541  \n",
       "17           0.638041  \n",
       "18           0.591582  \n",
       "19           0.638041  \n",
       "20           0.562659  \n",
       "21           0.638041  \n",
       "22           0.534609  \n",
       "23           0.638041  \n",
       "24            0.57074  \n",
       "25           0.830917  \n",
       "26            0.57074  \n",
       "27           0.830917  \n",
       "28            0.57074  \n",
       "29           0.830917  \n",
       "30            0.57074  \n",
       "31           0.830917  \n",
       "32           0.555163  \n",
       "33           0.645064  \n",
       "34           0.631001  \n",
       "35           0.645064  \n",
       "36           0.611984  \n",
       "37           0.645064  \n",
       "38           0.637408  \n",
       "39           0.645064  \n",
       "40           0.597942  \n",
       "41           0.645064  "
      ]
     },
     "execution_count": 66,
     "metadata": {},
     "output_type": "execute_result"
    }
   ],
   "source": [
    "### Save Results\n",
    "row_names = ['Train_set', 'Test_set', 'Model name', 'Split', \n",
    "             'N_actives_train', 'N_actives_test', 'N_mols_train', 'Num_mols_test',\n",
    "            'Mean-CV-ROC', 'ROC-AUC_train', 'ROC-AUC_test', 'best_params',\n",
    "            'DkS_max_ROC_train',  'DkSc_med_ROC_train', 'DkSc_mean_ROC_train', \n",
    "            'DkS_max_ROC_test',  'DkSc_med_ROC_test', 'DkSc_mean_ROC_test']\n",
    "results_df = pd.DataFrame(results_dict, index=row_names).T.reset_index().drop('index', axis=1)\n",
    "results_df.to_csv('./GRID_SEARCH_CV_results.csv')\n",
    "results_df"
   ]
  },
  {
   "cell_type": "markdown",
   "metadata": {},
   "source": [
    "***\n",
    "<h2 style='background-color: #F9E5AB; padding: 5px;'>\n",
    "    Merged libraries: Random y target values in the train set\n",
    "</h2>\n",
    "<div style='background-color: #FE8460; min-height: 5px'></div>\n",
    "\n",
    "#### DEKOIS, DUD and COCRYS are  treated as one unique library"
   ]
  },
  {
   "cell_type": "code",
   "execution_count": 67,
   "metadata": {},
   "outputs": [],
   "source": [
    "# Train and test over \n",
    "X = X_merged_dksc\n",
    "# ***** Permutate y values *****\n",
    "y = y_true_merged.sample(frac=1)\n",
    "\n",
    "library = 'Merged'\n",
    "scaffold_series = df_scff_murcko['scff_generic']\n"
   ]
  },
  {
   "cell_type": "markdown",
   "metadata": {
    "cell_style": "center"
   },
   "source": [
    "<h3 style='color: #F84122; padding: 0px;; margin: 0px'>GS: Linear SVM </h3>\n",
    "<b>Merged Libraries</b>"
   ]
  },
  {
   "cell_type": "code",
   "execution_count": 68,
   "metadata": {
    "cell_style": "split",
    "scrolled": true
   },
   "outputs": [
    {
     "name": "stdout",
     "output_type": "stream",
     "text": [
      "CPU times: user 303 µs, sys: 27 µs, total: 330 µs\n",
      "Wall time: 287 µs\n"
     ]
    }
   ],
   "source": [
    "%%time\n",
    "from sklearn.svm import SVC\n",
    "\n",
    "estimator_name = 'LinearSVC'\n",
    "estimator = SVC(kernel = 'linear', probability=True)\n",
    "hyperparams = {'C': np.geomspace(1e-15, 1e-9, 3)}\n",
    "\n",
    "# RANDOM Train test splitting\n",
    "# split_and_gs(library, library, estimator_name,\n",
    "#              X, y, estimator, hyperparams,\n",
    "#              splitting='random', test_size=0.25, \n",
    "#              scaffold_series=None)"
   ]
  },
  {
   "cell_type": "code",
   "execution_count": 69,
   "metadata": {
    "cell_style": "split"
   },
   "outputs": [
    {
     "name": "stdout",
     "output_type": "stream",
     "text": [
      "CPU times: user 325 µs, sys: 29 µs, total: 354 µs\n",
      "Wall time: 312 µs\n"
     ]
    }
   ],
   "source": [
    "%%time\n",
    "# from sklearn.svm import SVC\n",
    "\n",
    "estimator_name = 'LinearSVC'\n",
    "estimator = SVC(kernel = 'linear', probability=True)\n",
    "hyperparams = {'C': np.geomspace(1e-15, 1e-9, 3)}\n",
    "\n",
    "# SCAFFOLD Train test splitting\n",
    "# split_and_gs(library, library, estimator_name,\n",
    "#              X, y, estimator, hyperparams,\n",
    "#              splitting='scaffold', test_size=0.25, \n",
    "#              scaffold_series=scaffold_series)"
   ]
  },
  {
   "cell_type": "markdown",
   "metadata": {},
   "source": [
    "<h3 style='color: #F84122; padding: 0px;; margin: 0px'>GS: Radial Basis Function SVM</h3>\n",
    "<b>Merged Libraries</b>"
   ]
  },
  {
   "cell_type": "code",
   "execution_count": 70,
   "metadata": {
    "cell_style": "split"
   },
   "outputs": [
    {
     "name": "stdout",
     "output_type": "stream",
     "text": [
      "CPU times: user 391 µs, sys: 36 µs, total: 427 µs\n",
      "Wall time: 379 µs\n"
     ]
    }
   ],
   "source": [
    "%%time\n",
    "from sklearn.svm import SVC\n",
    "\n",
    "estimator_name = 'rbfSVC'\n",
    "estimator = SVC(kernel = 'rbf', probability=True)\n",
    "hyperparams = {'C': np.geomspace(1e0, 1e2, 3), \n",
    "               'gamma': np.geomspace(1e-4, 1e0, 3)}\n",
    "\n",
    "# RANDOM Train test splitting\n",
    "# split_and_gs(library, library, estimator_name,\n",
    "#              X, y, estimator, hyperparams,\n",
    "#              splitting='random', test_size=0.25, \n",
    "#              scaffold_series=None)"
   ]
  },
  {
   "cell_type": "code",
   "execution_count": 71,
   "metadata": {
    "cell_style": "split"
   },
   "outputs": [
    {
     "name": "stdout",
     "output_type": "stream",
     "text": [
      "CPU times: user 411 µs, sys: 37 µs, total: 448 µs\n",
      "Wall time: 381 µs\n"
     ]
    }
   ],
   "source": [
    "%%time\n",
    "\n",
    "estimator_name = 'rbfSVC'\n",
    "estimator = SVC(kernel = 'rbf', probability=True)\n",
    "hyperparams = {'C': np.geomspace(1e0, 1e2, 3), \n",
    "               'gamma': np.geomspace(1e-4, 1e0, 3)}\n",
    "\n",
    "# SCAFFOLD Train test splitting\n",
    "# split_and_gs(library, library, estimator_name,\n",
    "#              X, y, estimator, hyperparams,\n",
    "#              splitting='scaffold', test_size=0.25, \n",
    "#              scaffold_series=scaffold_series)"
   ]
  },
  {
   "cell_type": "markdown",
   "metadata": {},
   "source": [
    "<h3 style='color: #F84122; padding: 0px;; margin: 0px'>GS: Logistic Regression</h3>\n",
    "<b>Merged Libraries</b>"
   ]
  },
  {
   "cell_type": "code",
   "execution_count": 72,
   "metadata": {
    "cell_style": "split"
   },
   "outputs": [
    {
     "name": "stdout",
     "output_type": "stream",
     "text": [
      "CPU times: user 349 µs, sys: 0 ns, total: 349 µs\n",
      "Wall time: 313 µs\n"
     ]
    }
   ],
   "source": [
    "%%time\n",
    "from sklearn.linear_model import LogisticRegression\n",
    "\n",
    "estimator_name = 'LogReg'\n",
    "estimator = LogisticRegression()\n",
    "hyperparams = {'C': np.geomspace(1e-4, 1e4, 3), \n",
    "               'penalty': ['l1', 'l2'], \n",
    "               'solver': ['lbfgs', 'liblinear']}\n",
    "\n",
    "# RANDOM Train test splitting\n",
    "# split_and_gs(library, library, estimator_name,\n",
    "#              X, y, estimator, hyperparams,\n",
    "#              splitting='random', test_size=0.25, \n",
    "#              scaffold_series=None)"
   ]
  },
  {
   "cell_type": "code",
   "execution_count": 73,
   "metadata": {
    "cell_style": "split"
   },
   "outputs": [
    {
     "name": "stdout",
     "output_type": "stream",
     "text": [
      "CPU times: user 302 µs, sys: 27 µs, total: 329 µs\n",
      "Wall time: 294 µs\n"
     ]
    }
   ],
   "source": [
    "%%time\n",
    "# from sklearn.linear_model import LogisticRegression\n",
    "\n",
    "estimator_name = 'LogReg'\n",
    "estimator = LogisticRegression()\n",
    "hyperparams = {'C': np.geomspace(1e-4, 1e5, 4), \n",
    "               'penalty': ['l1', 'l2'], \n",
    "               'solver': ['lbfgs', 'liblinear']}\n",
    "\n",
    "# SCAFFOLD Train test splitting\n",
    "# split_and_gs(library, library, estimator_name,\n",
    "#              X, y, estimator, hyperparams,\n",
    "#              splitting='scaffold', test_size=0.25, \n",
    "#              scaffold_series=scaffold_series)"
   ]
  },
  {
   "cell_type": "code",
   "execution_count": null,
   "metadata": {},
   "outputs": [],
   "source": []
  },
  {
   "cell_type": "code",
   "execution_count": null,
   "metadata": {},
   "outputs": [],
   "source": []
  }
 ],
 "metadata": {
  "kernelspec": {
   "display_name": "Python 3.7.6 64-bit ('mds': conda)",
   "language": "python",
   "name": "python37664bitmdsconda8fcfe9b6c3484566880235af88776fef"
  },
  "language_info": {
   "codemirror_mode": {
    "name": "ipython",
    "version": 3
   },
   "file_extension": ".py",
   "mimetype": "text/x-python",
   "name": "python",
   "nbconvert_exporter": "python",
   "pygments_lexer": "ipython3",
   "version": "3.7.6"
  }
 },
 "nbformat": 4,
 "nbformat_minor": 4
}
