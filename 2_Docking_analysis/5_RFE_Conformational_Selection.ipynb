{
 "cells": [
  {
   "cell_type": "markdown",
   "metadata": {},
   "source": [
    "## Conformational Selection using Recursive Feature Elimination"
   ]
  },
  {
   "cell_type": "code",
   "execution_count": 2,
   "metadata": {},
   "outputs": [],
   "source": [
    "import pandas as pd\n",
    "import numpy as np\n",
    "import sys\n",
    "sys.path.append('..')"
   ]
  },
  {
   "cell_type": "markdown",
   "metadata": {},
   "source": [
    "### Load the data"
   ]
  },
  {
   "cell_type": "code",
   "execution_count": 3,
   "metadata": {},
   "outputs": [
    {
     "data": {
      "text/plain": [
       "(6233, 136)"
      ]
     },
     "execution_count": 3,
     "metadata": {},
     "output_type": "execute_result"
    }
   ],
   "source": [
    "file_name = './df_DkSc_results_COCRYS_DEKOIS_DUD.pkl'\n",
    "X_merged_dksc = pd.read_pickle(file_name)\n",
    "# Extract activity column\n",
    "y_true_merged = X_merged_dksc['activity']\n",
    "# Drop column from merged_dkksc\n",
    "X_merged_dksc = X_merged_dksc.drop('activity', axis=1)\n",
    "X_merged_dksc.shape"
   ]
  },
  {
   "cell_type": "markdown",
   "metadata": {},
   "source": [
    "#### Function and data to perform Scaffold Train-Test splitting"
   ]
  },
  {
   "cell_type": "code",
   "execution_count": 4,
   "metadata": {},
   "outputs": [],
   "source": [
    "from scaffold_splitter import train_test_scaffold_split\n",
    "\n",
    "# Compute or load the dataframe containing the Generic Murcko Scaffolds\n",
    "file = './df_COCRYS_DUD_DEKOIS_Murcko_Scaffolds_SMILES.obj'\n",
    "\n",
    "df_scff_murcko = pd.read_pickle(file)"
   ]
  },
  {
   "cell_type": "code",
   "execution_count": null,
   "metadata": {},
   "outputs": [],
   "source": []
  },
  {
   "cell_type": "code",
   "execution_count": 5,
   "metadata": {},
   "outputs": [],
   "source": [
    "# Run or load decorador\n",
    "from modules.run_or_load_decorator import run_or_load_joblib"
   ]
  },
  {
   "cell_type": "markdown",
   "metadata": {},
   "source": [
    "### Function to perform RFE with cross Validation"
   ]
  },
  {
   "cell_type": "code",
   "execution_count": 6,
   "metadata": {},
   "outputs": [],
   "source": [
    "from sklearn.feature_selection import RFECV\n",
    "\n",
    "import joblib\n",
    "import os\n",
    "\n",
    "def _run_RFECV(estimator, X_train, y_train, cv=5, scoring='roc_auc', **kwargs):\n",
    "    '''Simply runs a RFECV procedure'''\n",
    "    # Intance and fit the rfe selector\n",
    "    selector = RFECV(estimator,  cv = cv,\n",
    "                     scoring = scoring, **kwargs)\n",
    "    \n",
    "    selector = selector.fit(X_train, y_train)\n",
    "    return selector\n",
    "\n",
    "def get_selected_features_per_step(fitted_selector, X):\n",
    "    # Get the features ranking\n",
    "    df_ = pd.DataFrame({'pdb_id': X.columns, 'rfe_ranking': fitted_selector.ranking_})\n",
    "    # Sort features by ranking\n",
    "    df_.sort_values('rfe_ranking', inplace = True)\n",
    "    # Create a list of ranked features from size 1 to n\n",
    "    list_of_confs_per_k = [ df_.index[:i+1].tolist() for i in range(len(df_))]\n",
    "    # Create a dataframe indicating which features belong to a k subset\n",
    "    df_confs_per_k = pd.DataFrame({'list_of_confs_rfe': list_of_confs_per_k})\n",
    "    return df_confs_per_k\n",
    "\n",
    "@run_or_load_joblib\n",
    "def REFCV_wrapper(filename, estimator, X_train, y_train,\n",
    "                  cv=5, scoring='roc_auc', **kwargs):\n",
    "    estimator = _run_RFECV(estimator, X_train, y_train, cv=5, scoring='roc_auc', **kwargs)\n",
    "    return estimator\n"
   ]
  },
  {
   "cell_type": "code",
   "execution_count": 7,
   "metadata": {},
   "outputs": [],
   "source": [
    "from sklearn.model_selection import train_test_split\n",
    "from scaffold_splitter import train_test_scaffold_split\n",
    "from sklearn.metrics import roc_auc_score"
   ]
  },
  {
   "cell_type": "markdown",
   "metadata": {},
   "source": [
    "#### Define X and y"
   ]
  },
  {
   "cell_type": "code",
   "execution_count": 8,
   "metadata": {},
   "outputs": [],
   "source": [
    "# Train and test sets\n",
    "X = X_merged_dksc\n",
    "y = y_true_merged"
   ]
  },
  {
   "cell_type": "markdown",
   "metadata": {},
   "source": [
    "## Random Splitting"
   ]
  },
  {
   "cell_type": "markdown",
   "metadata": {},
   "source": [
    "#### RANDOM split: Logistic Regression as  base estimator"
   ]
  },
  {
   "cell_type": "code",
   "execution_count": 9,
   "metadata": {},
   "outputs": [
    {
     "name": "stdout",
     "output_type": "stream",
     "text": [
      "File loaded: ./ml_models/RFECV_selector_LogReg_MERGED_random_split.joblib\n",
      "CPU times: user 31.2 ms, sys: 0 ns, total: 31.2 ms\n",
      "Wall time: 53.5 ms\n"
     ]
    }
   ],
   "source": [
    "%%time\n",
    "from sklearn.linear_model import LogisticRegression\n",
    "\n",
    "# RFECV object to be save \n",
    "dataset = 'MERGED'\n",
    "model_name = 'LogReg'\n",
    "split = 'random'\n",
    "filename = f'./ml_models/RFECV_selector_{model_name}_{dataset}_{split}_split.joblib'\n",
    "# Base Estimator Parameters\n",
    "hyparams = {'C': 1.0, 'penalty': 'l1', 'solver': 'liblinear', 'max_iter': 150}\n",
    "estimator = LogisticRegression(**hyparams)\n",
    "\n",
    "#*********************************************************************************\n",
    "# Do the RANDOM splitting\n",
    "X_train, X_test, y_train, y_test = train_test_split(X, y, test_size=0.25, stratify=y)\n",
    "\n",
    "#*********************************************************************************\n",
    "# Run RFE\n",
    "selector = REFCV_wrapper(filename, estimator, X_train, y_train, \n",
    "                         cv=5, step=1, min_features_to_select=1, n_jobs=4)\n",
    "\n",
    "# selector.grid_scores_"
   ]
  },
  {
   "cell_type": "markdown",
   "metadata": {},
   "source": [
    "#### RANDOM split: Random Forest as base estimator "
   ]
  },
  {
   "cell_type": "code",
   "execution_count": 10,
   "metadata": {},
   "outputs": [
    {
     "name": "stdout",
     "output_type": "stream",
     "text": [
      "File loaded: ./ml_models/RFECV_selector_RandomForest_MERGED_random_split.joblib\n",
      "CPU times: user 254 ms, sys: 0 ns, total: 254 ms\n",
      "Wall time: 617 ms\n"
     ]
    }
   ],
   "source": [
    "%%time\n",
    "from sklearn.ensemble import RandomForestClassifier\n",
    "\n",
    "# RFECV object to be save \n",
    "dataset = 'MERGED'\n",
    "model_name = 'RandomForest'\n",
    "split = 'random'\n",
    "filename = f'./ml_models/RFECV_selector_{model_name}_{dataset}_{split}_split.joblib'\n",
    "# Base Estimator Parameters\n",
    "hyparams = {'max_depth': 3, 'max_features': 'sqrt', 'min_samples_leaf': 0.02, \n",
    "            'min_samples_split': 0.1, 'n_estimators': 300}\n",
    "estimator = RandomForestClassifier(**hyparams)\n",
    "\n",
    "#*********************************************************************************\n",
    "# Do the RANDOM splitting\n",
    "X_train, X_test, y_train, y_test = train_test_split(X, y, test_size=0.25, stratify=y)\n",
    "\n",
    "#*********************************************************************************\n",
    "# Run RFE\n",
    "selector = REFCV_wrapper(filename, estimator, X_train, y_train, \n",
    "                         cv=5, step=1, min_features_to_select=1, n_jobs=4)\n",
    "\n",
    "# selector.grid_scores_"
   ]
  },
  {
   "cell_type": "markdown",
   "metadata": {},
   "source": [
    "#### RANDOM split: XGBoost Classifier as base estimator "
   ]
  },
  {
   "cell_type": "code",
   "execution_count": 11,
   "metadata": {},
   "outputs": [
    {
     "name": "stdout",
     "output_type": "stream",
     "text": [
      "File saved: ./ml_models/RFECV_selector_XGB_tree_MERGED_random_split.joblib\n",
      "CPU times: user 1min 38s, sys: 9.54 s, total: 1min 47s\n",
      "Wall time: 10min 29s\n"
     ]
    }
   ],
   "source": [
    "%%time\n",
    "from xgboost import XGBClassifier \n",
    "\n",
    "# RFECV object to be save \n",
    "dataset = 'MERGED'\n",
    "model_name = 'XGB_tree'\n",
    "split = 'random'\n",
    "filename = f'./ml_models/RFECV_selector_{model_name}_{dataset}_{split}_split.joblib'\n",
    "# Base Estimator Parameters\n",
    "hyparams = {'subsample': 0.3, 'n_estimators': 200, 'max_depth': 10, 'learning_rate': 0.1, \n",
    "            'gamma': 0.5, 'colsample_bytree': 1, 'alpha': 1}\n",
    "estimator = XGBClassifier(**hyparams)\n",
    "\n",
    "#*********************************************************************************\n",
    "# Do the RANDOM splitting\n",
    "X_train, X_test, y_train, y_test = train_test_split(X, y, test_size=0.25, stratify=y)\n",
    "\n",
    "#*********************************************************************************\n",
    "# Run RFE\n",
    "selector = REFCV_wrapper(filename, estimator, X_train, y_train, \n",
    "                         cv=5, step=1, min_features_to_select=1, n_jobs=4)\n",
    "\n",
    "# selector.grid_scores_"
   ]
  },
  {
   "cell_type": "markdown",
   "metadata": {},
   "source": [
    "## Scaffold Splitting"
   ]
  },
  {
   "cell_type": "markdown",
   "metadata": {},
   "source": [
    "#### Define X and y"
   ]
  },
  {
   "cell_type": "code",
   "execution_count": 13,
   "metadata": {},
   "outputs": [],
   "source": [
    "# Train and test sets\n",
    "X = X_merged_dksc\n",
    "y = y_true_merged\n",
    "scaffold_series = df_scff_murcko['scff_generic']"
   ]
  },
  {
   "cell_type": "markdown",
   "metadata": {},
   "source": [
    "#### SCAFFOLD split: Logistic Regression as  estimator"
   ]
  },
  {
   "cell_type": "code",
   "execution_count": 21,
   "metadata": {},
   "outputs": [
    {
     "name": "stdout",
     "output_type": "stream",
     "text": [
      "File saved: ./ml_models/RFECV_selector_LogReg_MERGED_scaffold_split.joblib\n",
      "CPU times: user 1min 21s, sys: 1.3 s, total: 1min 23s\n",
      "Wall time: 20min 3s\n"
     ]
    },
    {
     "data": {
      "text/plain": [
       "array([0.66428692, 0.66549177, 0.6993898 , 0.70941584, 0.7192033 ,\n",
       "       0.74192861, 0.73487809, 0.73388821, 0.74811534, 0.74278356,\n",
       "       0.75642433, 0.75178342, 0.75878336, 0.75366434, 0.75811005,\n",
       "       0.76068315, 0.77266108, 0.77099344, 0.77757806, 0.77607828,\n",
       "       0.77768882, 0.77807311, 0.77899918, 0.77992081, 0.78022081,\n",
       "       0.78243483, 0.78260477, 0.78473415, 0.78886859, 0.79369802,\n",
       "       0.79307664, 0.79235934, 0.79586249, 0.79229095, 0.7903834 ,\n",
       "       0.79031039, 0.79256823, 0.79133774, 0.79514669, 0.79556705,\n",
       "       0.7958663 , 0.79754487, 0.79856415, 0.79976898, 0.80050597,\n",
       "       0.79930084, 0.79876064, 0.80068526, 0.80212661, 0.80344725,\n",
       "       0.80305814, 0.80240535, 0.80176369, 0.80318348, 0.80201042,\n",
       "       0.80154713, 0.80378967, 0.80419501, 0.8036534 , 0.80326458,\n",
       "       0.80455309, 0.80510083, 0.80484228, 0.80443207, 0.80516801,\n",
       "       0.8058352 , 0.80673495, 0.80654478, 0.80878567, 0.8086385 ,\n",
       "       0.8086391 , 0.80990669, 0.81064812, 0.81032194, 0.81012756,\n",
       "       0.81116919, 0.81045381, 0.81072169, 0.81084258, 0.81108456,\n",
       "       0.81233688, 0.81177936, 0.81291046, 0.81263116, 0.81291521,\n",
       "       0.81341021, 0.81372561, 0.81342049, 0.81233144, 0.81163669,\n",
       "       0.81236274, 0.81144814, 0.81289006, 0.81327922, 0.81256977,\n",
       "       0.8127381 , 0.81248029, 0.81334863, 0.81383792, 0.81422202,\n",
       "       0.81407481, 0.81439   , 0.8154527 , 0.81517365, 0.81452196,\n",
       "       0.81489027, 0.81496398, 0.81478515, 0.81482714, 0.81520053,\n",
       "       0.81490596, 0.81472715, 0.81515333, 0.81560036, 0.81552124,\n",
       "       0.81611036, 0.8158735 , 0.8165049 , 0.81672091, 0.81696831,\n",
       "       0.81705264, 0.81701061, 0.81733675, 0.81760492, 0.81772066,\n",
       "       0.81799427, 0.81777339, 0.81755778, 0.81715804, 0.81732113,\n",
       "       0.81728427, 0.81723693, 0.81736856, 0.81725271, 0.81732107,\n",
       "       0.81732108])"
      ]
     },
     "execution_count": 21,
     "metadata": {},
     "output_type": "execute_result"
    }
   ],
   "source": [
    "%%time\n",
    "from sklearn.linear_model import LogisticRegression\n",
    "\n",
    "# RFECV object to be save \n",
    "dataset = 'MERGED'\n",
    "model_name = 'LogReg'\n",
    "split = 'scaffold'\n",
    "filename = f'./ml_models/RFECV_selector_{model_name}_{dataset}_{split}_split.joblib'\n",
    "# Base Estimator Parameters\n",
    "hyparams = {'C': 100, 'penalty': 'l1', 'solver': 'liblinear', 'max_iter': 150}\n",
    "estimator = LogisticRegression(**hyparams)\n",
    "\n",
    "#*********************************************************************************\n",
    "# Do the RANDOM splitting\n",
    "X_train, X_test, y_train, y_test = train_test_scaffold_split(X, y, \n",
    "                                    scaffold_series = scaffold_series,\n",
    "                                    test_size=0.25, stratify=y)\n",
    "\n",
    "#*********************************************************************************\n",
    "# Run RFE\n",
    "selector = REFCV_wrapper(filename, estimator, X_train, y_train, \n",
    "                         cv=5, step=1, min_features_to_select=1, n_jobs=4)\n",
    "selector.grid_scores_"
   ]
  },
  {
   "cell_type": "markdown",
   "metadata": {},
   "source": [
    "#### SCAFFOLD split: Random Forest as estimator "
   ]
  },
  {
   "cell_type": "code",
   "execution_count": 19,
   "metadata": {},
   "outputs": [
    {
     "name": "stdout",
     "output_type": "stream",
     "text": [
      "File loaded: ./ml_models/RFECV_selector_RandomForest_MERGED_scaffold_split.joblib\n",
      "CPU times: user 373 ms, sys: 16 ms, total: 389 ms\n",
      "Wall time: 426 ms\n"
     ]
    },
    {
     "data": {
      "text/plain": [
       "array([0.62807247, 0.65434801, 0.68180049, 0.71914251, 0.70185898,\n",
       "       0.70949886, 0.71749916, 0.7168106 , 0.71777319, 0.73021456,\n",
       "       0.73064559, 0.73845956, 0.73222367, 0.73472117, 0.73014669,\n",
       "       0.7303391 , 0.73304695, 0.73231804, 0.73266971, 0.7320845 ,\n",
       "       0.73012843, 0.73215795, 0.73131385, 0.74233804, 0.74040013,\n",
       "       0.74264437, 0.73952067, 0.74240573, 0.74052518, 0.7428915 ,\n",
       "       0.74201735, 0.74108235, 0.73729055, 0.7396859 , 0.74209018,\n",
       "       0.74045662, 0.73914572, 0.73733552, 0.73797667, 0.7341799 ,\n",
       "       0.73532397, 0.73809966, 0.74164115, 0.73717583, 0.73732063,\n",
       "       0.73850945, 0.74305161, 0.74007098, 0.73950101, 0.73785406,\n",
       "       0.73780903, 0.73992409, 0.7355391 , 0.74218836, 0.74176609,\n",
       "       0.73612555, 0.7408378 , 0.74455828, 0.73729774, 0.73457117,\n",
       "       0.73558999, 0.74013687, 0.73814917, 0.74163249, 0.73870498,\n",
       "       0.73937818, 0.74002351, 0.74002363, 0.73821912, 0.73507202,\n",
       "       0.73543098, 0.74156108, 0.7385141 , 0.74026242, 0.73733247,\n",
       "       0.73728443, 0.73715495, 0.73806722, 0.73762254, 0.73946893,\n",
       "       0.73606381, 0.73751008, 0.73764183, 0.73712698, 0.7375647 ,\n",
       "       0.73972168, 0.7343757 , 0.73671985, 0.74254544, 0.74015661,\n",
       "       0.73752948, 0.73618197, 0.7337673 , 0.73334473, 0.73569556,\n",
       "       0.73596686, 0.73862292, 0.7325706 , 0.73673115, 0.73648787,\n",
       "       0.73284533, 0.73606746, 0.73725409, 0.73594464, 0.73419797,\n",
       "       0.73099943, 0.73544704, 0.73708923, 0.73561107, 0.72965153,\n",
       "       0.73469502, 0.7338815 , 0.73487603, 0.73507029, 0.73357599,\n",
       "       0.73569215, 0.73503767, 0.73299034, 0.73439624, 0.73238876,\n",
       "       0.73665806, 0.73376662, 0.73387597, 0.73217117, 0.73226618,\n",
       "       0.73490398, 0.73282158, 0.7317137 , 0.73377287, 0.73247205,\n",
       "       0.73174169, 0.73476008, 0.73329297, 0.73307391, 0.72906584,\n",
       "       0.732081  ])"
      ]
     },
     "execution_count": 19,
     "metadata": {},
     "output_type": "execute_result"
    }
   ],
   "source": [
    "%%time\n",
    "from sklearn.ensemble import RandomForestClassifier\n",
    "\n",
    "# RFECV object to be save \n",
    "dataset = 'MERGED'\n",
    "model_name = 'RandomForest'\n",
    "split = 'scaffold'\n",
    "filename = f'./ml_models/RFECV_selector_{model_name}_{dataset}_{split}_split.joblib'\n",
    "# Base Estimator Parameters\n",
    "hyparams = {'max_depth': 3, 'max_features': 'sqrt', 'min_samples_leaf': 0.02, \n",
    "            'min_samples_split': 0.1, 'n_estimators': 400}\n",
    "estimator = RandomForestClassifier(**hyparams)\n",
    "\n",
    "#*********************************************************************************\n",
    "# Do the SCAFFOLD splitting\n",
    "X_train, X_test, y_train, y_test = train_test_scaffold_split(X, y, \n",
    "                                    scaffold_series = scaffold_series,\n",
    "                                    test_size=0.25, stratify=y)\n",
    "\n",
    "#*********************************************************************************\n",
    "# Run RFE\n",
    "selector = REFCV_wrapper(filename, estimator, X_train, y_train, \n",
    "                         cv=5, step=1, min_features_to_select=1, n_jobs=4)\n",
    "selector.grid_scores_"
   ]
  },
  {
   "cell_type": "code",
   "execution_count": null,
   "metadata": {},
   "outputs": [],
   "source": [
    "#### SCAFFOLD split: XGBoost Classifier as base estimator "
   ]
  },
  {
   "cell_type": "code",
   "execution_count": 14,
   "metadata": {},
   "outputs": [
    {
     "name": "stdout",
     "output_type": "stream",
     "text": [
      "File saved: ./ml_models/RFECV_selector_XGB_tree_MERGED_scaffold_split.joblib\n",
      "CPU times: user 1min 19s, sys: 24.9 s, total: 1min 44s\n",
      "Wall time: 3min 44s\n"
     ]
    }
   ],
   "source": [
    "%%time\n",
    "from xgboost import XGBClassifier \n",
    "\n",
    "# RFECV object to be save \n",
    "dataset = 'MERGED'\n",
    "model_name = 'XGB_tree'\n",
    "split = 'scaffold'\n",
    "filename = f'./ml_models/RFECV_selector_{model_name}_{dataset}_{split}_split.joblib'\n",
    "# Base Estimator Parameters\n",
    "hyparams = {'subsample': 0.3, 'n_estimators': 200, 'max_depth': 10, 'learning_rate': 0.1, \n",
    "            'gamma': 0.1, 'colsample_bytree': 0.3, 'alpha': 1}\n",
    "estimator = XGBClassifier(**hyparams)\n",
    "\n",
    "#*********************************************************************************\n",
    "# Do the SCAFFOLD splitting\n",
    "X_train, X_test, y_train, y_test = train_test_scaffold_split(X, y, \n",
    "                                    scaffold_series = scaffold_series,\n",
    "                                    test_size=0.25, stratify=y)\n",
    "\n",
    "#*********************************************************************************\n",
    "# Run RFE\n",
    "selector = REFCV_wrapper(filename, estimator, X_train, y_train, \n",
    "                         cv=5, step=1, min_features_to_select=1, n_jobs=6)\n",
    "\n",
    "# selector.grid_scores_"
   ]
  },
  {
   "cell_type": "code",
   "execution_count": 13,
   "metadata": {},
   "outputs": [
    {
     "data": {
      "text/html": [
       "<div>\n",
       "<style scoped>\n",
       "    .dataframe tbody tr th:only-of-type {\n",
       "        vertical-align: middle;\n",
       "    }\n",
       "\n",
       "    .dataframe tbody tr th {\n",
       "        vertical-align: top;\n",
       "    }\n",
       "\n",
       "    .dataframe thead th {\n",
       "        text-align: right;\n",
       "    }\n",
       "</style>\n",
       "<table border=\"1\" class=\"dataframe\">\n",
       "  <thead>\n",
       "    <tr style=\"text-align: right;\">\n",
       "      <th></th>\n",
       "      <th>list_of_confs_rfe</th>\n",
       "    </tr>\n",
       "  </thead>\n",
       "  <tbody>\n",
       "    <tr>\n",
       "      <th>0</th>\n",
       "      <td>[135]</td>\n",
       "    </tr>\n",
       "    <tr>\n",
       "      <th>1</th>\n",
       "      <td>[135, 61]</td>\n",
       "    </tr>\n",
       "    <tr>\n",
       "      <th>2</th>\n",
       "      <td>[135, 61, 60]</td>\n",
       "    </tr>\n",
       "    <tr>\n",
       "      <th>3</th>\n",
       "      <td>[135, 61, 60, 58]</td>\n",
       "    </tr>\n",
       "    <tr>\n",
       "      <th>4</th>\n",
       "      <td>[135, 61, 60, 58, 57]</td>\n",
       "    </tr>\n",
       "    <tr>\n",
       "      <th>...</th>\n",
       "      <td>...</td>\n",
       "    </tr>\n",
       "    <tr>\n",
       "      <th>131</th>\n",
       "      <td>[135, 61, 60, 58, 57, 56, 55, 62, 54, 50, 113,...</td>\n",
       "    </tr>\n",
       "    <tr>\n",
       "      <th>132</th>\n",
       "      <td>[135, 61, 60, 58, 57, 56, 55, 62, 54, 50, 113,...</td>\n",
       "    </tr>\n",
       "    <tr>\n",
       "      <th>133</th>\n",
       "      <td>[135, 61, 60, 58, 57, 56, 55, 62, 54, 50, 113,...</td>\n",
       "    </tr>\n",
       "    <tr>\n",
       "      <th>134</th>\n",
       "      <td>[135, 61, 60, 58, 57, 56, 55, 62, 54, 50, 113,...</td>\n",
       "    </tr>\n",
       "    <tr>\n",
       "      <th>135</th>\n",
       "      <td>[135, 61, 60, 58, 57, 56, 55, 62, 54, 50, 113,...</td>\n",
       "    </tr>\n",
       "  </tbody>\n",
       "</table>\n",
       "<p>136 rows × 1 columns</p>\n",
       "</div>"
      ],
      "text/plain": [
       "                                     list_of_confs_rfe\n",
       "0                                                [135]\n",
       "1                                            [135, 61]\n",
       "2                                        [135, 61, 60]\n",
       "3                                    [135, 61, 60, 58]\n",
       "4                                [135, 61, 60, 58, 57]\n",
       "..                                                 ...\n",
       "131  [135, 61, 60, 58, 57, 56, 55, 62, 54, 50, 113,...\n",
       "132  [135, 61, 60, 58, 57, 56, 55, 62, 54, 50, 113,...\n",
       "133  [135, 61, 60, 58, 57, 56, 55, 62, 54, 50, 113,...\n",
       "134  [135, 61, 60, 58, 57, 56, 55, 62, 54, 50, 113,...\n",
       "135  [135, 61, 60, 58, 57, 56, 55, 62, 54, 50, 113,...\n",
       "\n",
       "[136 rows x 1 columns]"
      ]
     },
     "execution_count": 13,
     "metadata": {},
     "output_type": "execute_result"
    }
   ],
   "source": [
    "# Get the features ranking\n",
    "df_ = pd.DataFrame({'pdb_id': X.columns, 'rfe_ranking': selector.ranking_})\n",
    "# Sort features by ranking\n",
    "df_.sort_values('rfe_ranking', inplace = True)\n",
    "#\n",
    "list_of_confs_per_k = [ df_.index[:i+1].tolist() for i in range(len(df_))]\n",
    "df_confs_per_k = pd.DataFrame({'list_of_confs_rfe': list_of_confs_per_k})\n",
    "df_confs_per_k"
   ]
  },
  {
   "cell_type": "code",
   "execution_count": null,
   "metadata": {},
   "outputs": [],
   "source": []
  }
 ],
 "metadata": {
  "kernelspec": {
   "display_name": "Python 3.7.6 64-bit ('mds': conda)",
   "language": "python",
   "name": "python37664bitmdsconda8fcfe9b6c3484566880235af88776fef"
  },
  "language_info": {
   "codemirror_mode": {
    "name": "ipython",
    "version": 3
   },
   "file_extension": ".py",
   "mimetype": "text/x-python",
   "name": "python",
   "nbconvert_exporter": "python",
   "pygments_lexer": "ipython3",
   "version": "3.7.6"
  }
 },
 "nbformat": 4,
 "nbformat_minor": 4
}
