{
 "cells": [
  {
   "cell_type": "markdown",
   "metadata": {},
   "source": [
    "## Conformational Selection using Recursive Feature Elimination"
   ]
  },
  {
   "cell_type": "code",
   "execution_count": 1,
   "metadata": {},
   "outputs": [],
   "source": [
    "import pandas as pd\n",
    "import numpy as np\n",
    "import sys"
   ]
  },
  {
   "cell_type": "markdown",
   "metadata": {},
   "source": [
    "### Load the data"
   ]
  },
  {
   "cell_type": "code",
   "execution_count": 2,
   "metadata": {},
   "outputs": [
    {
     "data": {
      "text/plain": [
       "(5839, 136)"
      ]
     },
     "execution_count": 2,
     "metadata": {},
     "output_type": "execute_result"
    }
   ],
   "source": [
    "file_name = './df_DkSc_results_COCRYS_DEKOIS_DUD.pkl'\n",
    "X_merged_dksc = pd.read_pickle(file_name)\n",
    "# Extract activity column\n",
    "y_true_merged = X_merged_dksc['activity']\n",
    "# Drop column from merged_dkksc\n",
    "X_merged_dksc = X_merged_dksc.drop('activity', axis=1)\n",
    "X_merged_dksc.shape"
   ]
  },
  {
   "cell_type": "markdown",
   "metadata": {},
   "source": [
    "#### Function and data to perform Scaffold Train-Test splitting"
   ]
  },
  {
   "cell_type": "code",
   "execution_count": 4,
   "metadata": {},
   "outputs": [],
   "source": [
    "from scaffold_splitter import train_test_scaffold_split\n",
    "\n",
    "# Compute or load the dataframe containing the Generic Murcko Scaffolds\n",
    "file = './df_COCRYS_DUD_DEKOIS_Murcko_Scaffolds_SMILES.pkl'\n",
    "\n",
    "df_scff_murcko = pd.read_pickle(file)"
   ]
  },
  {
   "cell_type": "markdown",
   "metadata": {},
   "source": [
    "### Funtion to perform RFE with cross Validation"
   ]
  },
  {
   "cell_type": "code",
   "execution_count": 62,
   "metadata": {},
   "outputs": [],
   "source": [
    "from sklearn.feature_selection import RFECV\n",
    "from functools import wraps\n",
    "import joblib\n",
    "import os\n",
    "\n",
    "def _run_RFECV(estimator, X_train, y_train, cv=5, scoring='roc_auc', \n",
    "                  filename=None, **kwargs):\n",
    "    '''Simply runs a RFECV procedure'''\n",
    "    # Intance and fit the rfe selector\n",
    "    selector = RFECV(estimator,  cv = cv,\n",
    "                     scoring = scoring, **kwargs)\n",
    "    \n",
    "    selector = selector.fit(X_train, y_train)\n",
    "    return selector\n",
    "\n",
    "def get_selected_features_per_step(fitted_selector, X):\n",
    "    # Get the features ranking\n",
    "    df_ = pd.DataFrame({'pdb_id': X.columns, 'rfe_ranking': fitted_selector.ranking_})\n",
    "    # Sort features by ranking\n",
    "    df_.sort_values('rfe_ranking', inplace = True)\n",
    "    # Create a list of ranked features from size 1 to n\n",
    "    list_of_confs_per_k = [ df_.index[:i+1].tolist() for i in range(len(df_))]\n",
    "    # Create a dataframe indicating which features belong to a k subset\n",
    "    df_confs_per_k = pd.DataFrame({'list_of_confs_rfe': list_of_confs_per_k})\n",
    "    return df_confs_per_k\n",
    "        \n",
    "def REFCV_wrapper(estimator, X_train, y_train, filename, \n",
    "                  cv=5, scoring='roc_auc', **kwargs):\n",
    "    if os.path.isfile(filename):\n",
    "        # Load estimator from disk\n",
    "        estimator = joblib.load(filename)\n",
    "    else:\n",
    "        estimator = _run_RFECV(estimator, X_train, y_train, cv=5, scoring='roc_auc', \n",
    "                    filename=None, **kwargs)\n",
    "        # save to disk\n",
    "        dump(estimator, filename)\n",
    "    return estimator\n"
   ]
  },
  {
   "cell_type": "code",
   "execution_count": 88,
   "metadata": {},
   "outputs": [],
   "source": [
    "from sklearn.model_selection import train_test_split\n",
    "from scaffold_splitter import train_test_scaffold_split\n",
    "from sklearn.metrics import roc_auc_score"
   ]
  },
  {
   "cell_type": "markdown",
   "metadata": {},
   "source": [
    "#### Define X and y"
   ]
  },
  {
   "cell_type": "code",
   "execution_count": 63,
   "metadata": {},
   "outputs": [
    {
     "data": {
      "text/plain": [
       "(5839, 136)"
      ]
     },
     "execution_count": 63,
     "metadata": {},
     "output_type": "execute_result"
    }
   ],
   "source": [
    "# Train and test sets\n",
    "X = X_merged_dksc\n",
    "y = y_true_merged"
   ]
  },
  {
   "cell_type": "markdown",
   "metadata": {},
   "source": [
    "## Random Splitting"
   ]
  },
  {
   "cell_type": "markdown",
   "metadata": {},
   "source": [
    "#### RANDOM split: Logistic Regression as  estimator"
   ]
  },
  {
   "cell_type": "code",
   "execution_count": 100,
   "metadata": {},
   "outputs": [
    {
     "name": "stdout",
     "output_type": "stream",
     "text": [
      "CPU times: user 13.7 ms, sys: 4.27 ms, total: 17.9 ms\n",
      "Wall time: 14.4 ms\n"
     ]
    },
    {
     "data": {
      "text/plain": [
       "array([0.62716433, 0.64917252, 0.68705849, 0.70946982, 0.72798752,\n",
       "       0.73703063, 0.75010978, 0.75391707, 0.7597195 , 0.76207597,\n",
       "       0.76611985, 0.77098865, 0.77256657, 0.77546558, 0.77558032,\n",
       "       0.77879425, 0.77893427, 0.77867573, 0.78100244, 0.78564726,\n",
       "       0.79028027, 0.79185206, 0.7928754 , 0.7916826 , 0.79488738,\n",
       "       0.79490302, 0.79831524, 0.80043408, 0.80380874, 0.80172766,\n",
       "       0.80036368, 0.80193767, 0.80491196, 0.80604662, 0.80752347,\n",
       "       0.80795042, 0.80722439, 0.81157952, 0.81014592, 0.81078167,\n",
       "       0.80964124, 0.81018151, 0.81324093, 0.81332715, 0.81592818,\n",
       "       0.81697687, 0.81698715, 0.81639278, 0.8165272 , 0.81550482,\n",
       "       0.81755424, 0.8192236 , 0.81942178, 0.82023568, 0.82015542,\n",
       "       0.81967402, 0.81977549, 0.81951307, 0.81944866, 0.81996167,\n",
       "       0.82074363, 0.82058367, 0.82022013, 0.81987756, 0.81927803,\n",
       "       0.81829346, 0.81631373, 0.81592847, 0.81612072, 0.8160681 ,\n",
       "       0.8159877 , 0.81706812, 0.81692374, 0.81689676, 0.81770992,\n",
       "       0.81714304, 0.81680628, 0.81691339, 0.81654426, 0.81678513,\n",
       "       0.81732019, 0.81710064, 0.81700928, 0.81732994, 0.81719629,\n",
       "       0.81704164, 0.81698804, 0.81770509, 0.81844304, 0.81848066,\n",
       "       0.81907478, 0.81910726, 0.81933172, 0.81944912, 0.81947599,\n",
       "       0.81909103, 0.81857213, 0.81854003, 0.81832057, 0.81835284,\n",
       "       0.81828328, 0.81870073, 0.8187647 , 0.81896813, 0.81870081,\n",
       "       0.81856701, 0.81855634, 0.81903768, 0.81960461, 0.81972214,\n",
       "       0.8200378 , 0.81997365, 0.82010196, 0.82032121, 0.82013403,\n",
       "       0.82036942, 0.82014477, 0.82018218, 0.82022498, 0.82018216,\n",
       "       0.820241  , 0.8203159 , 0.82026776, 0.82025705, 0.82023565,\n",
       "       0.8202731 , 0.82023564, 0.82026771, 0.82028381, 0.82026776,\n",
       "       0.82018207, 0.82029984, 0.82032125, 0.82021427, 0.82033732,\n",
       "       0.82026776])"
      ]
     },
     "execution_count": 100,
     "metadata": {},
     "output_type": "execute_result"
    }
   ],
   "source": [
    "%%time\n",
    "from sklearn.linear_model import LogisticRegression\n",
    "\n",
    "# RFECV object to be save \n",
    "dataset = 'MERGED'\n",
    "model_name = 'LogReg'\n",
    "split = 'random'\n",
    "filename = f'./ml_models/RFECV_selector_{model_name}_{dataset}_{split}_split.joblib'\n",
    "# Base Estimator Parameters\n",
    "hyparams = {'C': 1.0, 'penalty': 'l1', 'solver': 'liblinear', 'max_iter': 150}\n",
    "estimator = LogisticRegression(**hyparams)\n",
    "\n",
    "#*********************************************************************************\n",
    "# Do the RANDOM splitting\n",
    "X_train, X_test, y_train, y_test = train_test_split(X, y, test_size=0.25, stratify=y)\n",
    "\n",
    "#*********************************************************************************\n",
    "# Run RFE\n",
    "selector = REFCV_wrapper(estimator, X_train, y_train, \n",
    "                         filename=filename,\n",
    "                         cv=5, step=1, min_features_to_select=1, n_jobs=4)\n",
    "\n",
    "selector.grid_scores_"
   ]
  },
  {
   "cell_type": "markdown",
   "metadata": {},
   "source": [
    "#### RANDOM split: Random Forest as estimator "
   ]
  },
  {
   "cell_type": "code",
   "execution_count": 85,
   "metadata": {},
   "outputs": [
    {
     "name": "stdout",
     "output_type": "stream",
     "text": [
      "CPU times: user 1min 58s, sys: 772 ms, total: 1min 59s\n",
      "Wall time: 7min 28s\n"
     ]
    }
   ],
   "source": [
    "%%time\n",
    "from sklearn.ensemble import RandomForestClassifier\n",
    "\n",
    "# RFECV object to be save \n",
    "dataset = 'MERGED'\n",
    "model_name = 'RandomForest'\n",
    "split = 'random'\n",
    "filename = f'./ml_models/RFECV_selector_{model_name}_{dataset}_{split}_split.joblib'\n",
    "# Base Estimator Parameters\n",
    "hyparams = {'max_depth': 3, 'max_features': 'sqrt', 'min_samples_leaf': 0.02, \n",
    "            'min_samples_split': 0.1, 'n_estimators': 300}\n",
    "estimator = RandomForestClassifier(**hyparams)\n",
    "\n",
    "#*********************************************************************************\n",
    "# Do the RANDOM splitting\n",
    "X_train, X_test, y_train, y_test = train_test_split(X, y, test_size=0.25, stratify=y)\n",
    "\n",
    "#*********************************************************************************\n",
    "# Run RFE\n",
    "selector = REFCV_wrapper(estimator, X_train, y_train, \n",
    "                         filename=filename,\n",
    "                         cv=5, step=1, min_features_to_select=1, n_jobs=4)"
   ]
  },
  {
   "cell_type": "markdown",
   "metadata": {},
   "source": [
    "## Scaffold Splitting"
   ]
  },
  {
   "cell_type": "markdown",
   "metadata": {},
   "source": [
    "#### Define X and y"
   ]
  },
  {
   "cell_type": "code",
   "execution_count": 90,
   "metadata": {},
   "outputs": [],
   "source": [
    "# Train and test sets\n",
    "X = X_merged_dksc\n",
    "y = y_true_merged\n",
    "scaffold_series = df_scff_murcko['scff_generic']"
   ]
  },
  {
   "cell_type": "markdown",
   "metadata": {},
   "source": [
    "#### SCAFFOLD split: Logistic Regression as  estimator"
   ]
  },
  {
   "cell_type": "code",
   "execution_count": 95,
   "metadata": {},
   "outputs": [
    {
     "name": "stdout",
     "output_type": "stream",
     "text": [
      "CPU times: user 241 ms, sys: 83.5 ms, total: 324 ms\n",
      "Wall time: 320 ms\n"
     ]
    }
   ],
   "source": [
    "%%time\n",
    "from sklearn.linear_model import LogisticRegression\n",
    "\n",
    "# RFECV object to be save \n",
    "dataset = 'MERGED'\n",
    "model_name = 'LogReg'\n",
    "split = 'scaffold'\n",
    "filename = f'./ml_models/RFECV_selector_{model_name}_{dataset}_{split}_split.joblib'\n",
    "# Base Estimator Parameters\n",
    "hyparams = {'C': 0.1, 'penalty': 'l2', 'solver': 'liblinear', 'max_iter': 150}\n",
    "estimator = LogisticRegression(**hyparams)\n",
    "\n",
    "#*********************************************************************************\n",
    "# Do the RANDOM splitting\n",
    "X_train, X_test, y_train, y_test = train_test_scaffold_split(X, y, \n",
    "                                    scaffold_series = scaffold_series,\n",
    "                                    test_size=0.25, stratify=y)\n",
    "\n",
    "#*********************************************************************************\n",
    "# Run RFE\n",
    "selector = REFCV_wrapper(estimator, X_train, y_train, \n",
    "                         filename=filename,\n",
    "                         cv=5, step=1, min_features_to_select=1, n_jobs=4)"
   ]
  },
  {
   "cell_type": "markdown",
   "metadata": {},
   "source": [
    "#### SCAFFOLD split: Random Forest as estimator "
   ]
  },
  {
   "cell_type": "code",
   "execution_count": 97,
   "metadata": {},
   "outputs": [
    {
     "name": "stdout",
     "output_type": "stream",
     "text": [
      "CPU times: user 2min 11s, sys: 799 ms, total: 2min 12s\n",
      "Wall time: 10min 7s\n"
     ]
    }
   ],
   "source": [
    "%%time\n",
    "from sklearn.ensemble import RandomForestClassifier\n",
    "\n",
    "# RFECV object to be save \n",
    "dataset = 'MERGED'\n",
    "model_name = 'RandomForest'\n",
    "split = 'scaffold'\n",
    "filename = f'./ml_models/RFECV_selector_{model_name}_{dataset}_{split}_split.joblib'\n",
    "# Base Estimator Parameters\n",
    "hyparams = {'max_depth': 3, 'max_features': 'sqrt', 'min_samples_leaf': 0.02, \n",
    "            'min_samples_split': 0.1, 'n_estimators': 400}\n",
    "estimator = RandomForestClassifier(**hyparams)\n",
    "\n",
    "#*********************************************************************************\n",
    "# Do the SCAFFOLD splitting\n",
    "X_train, X_test, y_train, y_test = train_test_scaffold_split(X, y, \n",
    "                                    scaffold_series = scaffold_series,\n",
    "                                    test_size=0.25, stratify=y)\n",
    "\n",
    "#*********************************************************************************\n",
    "# Run RFE\n",
    "selector = REFCV_wrapper(estimator, X_train, y_train, \n",
    "                         filename=filename,\n",
    "                         cv=5, step=1, min_features_to_select=1, n_jobs=4)"
   ]
  },
  {
   "cell_type": "code",
   "execution_count": 98,
   "metadata": {},
   "outputs": [
    {
     "data": {
      "text/plain": [
       "array([0.62807247, 0.65434801, 0.68180049, 0.71914251, 0.70185898,\n",
       "       0.70949886, 0.71749916, 0.7168106 , 0.71777319, 0.73021456,\n",
       "       0.73064559, 0.73845956, 0.73222367, 0.73472117, 0.73014669,\n",
       "       0.7303391 , 0.73304695, 0.73231804, 0.73266971, 0.7320845 ,\n",
       "       0.73012843, 0.73215795, 0.73131385, 0.74233804, 0.74040013,\n",
       "       0.74264437, 0.73952067, 0.74240573, 0.74052518, 0.7428915 ,\n",
       "       0.74201735, 0.74108235, 0.73729055, 0.7396859 , 0.74209018,\n",
       "       0.74045662, 0.73914572, 0.73733552, 0.73797667, 0.7341799 ,\n",
       "       0.73532397, 0.73809966, 0.74164115, 0.73717583, 0.73732063,\n",
       "       0.73850945, 0.74305161, 0.74007098, 0.73950101, 0.73785406,\n",
       "       0.73780903, 0.73992409, 0.7355391 , 0.74218836, 0.74176609,\n",
       "       0.73612555, 0.7408378 , 0.74455828, 0.73729774, 0.73457117,\n",
       "       0.73558999, 0.74013687, 0.73814917, 0.74163249, 0.73870498,\n",
       "       0.73937818, 0.74002351, 0.74002363, 0.73821912, 0.73507202,\n",
       "       0.73543098, 0.74156108, 0.7385141 , 0.74026242, 0.73733247,\n",
       "       0.73728443, 0.73715495, 0.73806722, 0.73762254, 0.73946893,\n",
       "       0.73606381, 0.73751008, 0.73764183, 0.73712698, 0.7375647 ,\n",
       "       0.73972168, 0.7343757 , 0.73671985, 0.74254544, 0.74015661,\n",
       "       0.73752948, 0.73618197, 0.7337673 , 0.73334473, 0.73569556,\n",
       "       0.73596686, 0.73862292, 0.7325706 , 0.73673115, 0.73648787,\n",
       "       0.73284533, 0.73606746, 0.73725409, 0.73594464, 0.73419797,\n",
       "       0.73099943, 0.73544704, 0.73708923, 0.73561107, 0.72965153,\n",
       "       0.73469502, 0.7338815 , 0.73487603, 0.73507029, 0.73357599,\n",
       "       0.73569215, 0.73503767, 0.73299034, 0.73439624, 0.73238876,\n",
       "       0.73665806, 0.73376662, 0.73387597, 0.73217117, 0.73226618,\n",
       "       0.73490398, 0.73282158, 0.7317137 , 0.73377287, 0.73247205,\n",
       "       0.73174169, 0.73476008, 0.73329297, 0.73307391, 0.72906584,\n",
       "       0.732081  ])"
      ]
     },
     "execution_count": 98,
     "metadata": {},
     "output_type": "execute_result"
    }
   ],
   "source": [
    "selector.grid_scores_"
   ]
  },
  {
   "cell_type": "code",
   "execution_count": 76,
   "metadata": {},
   "outputs": [
    {
     "data": {
      "text/html": [
       "<div>\n",
       "<style scoped>\n",
       "    .dataframe tbody tr th:only-of-type {\n",
       "        vertical-align: middle;\n",
       "    }\n",
       "\n",
       "    .dataframe tbody tr th {\n",
       "        vertical-align: top;\n",
       "    }\n",
       "\n",
       "    .dataframe thead th {\n",
       "        text-align: right;\n",
       "    }\n",
       "</style>\n",
       "<table border=\"1\" class=\"dataframe\">\n",
       "  <thead>\n",
       "    <tr style=\"text-align: right;\">\n",
       "      <th></th>\n",
       "      <th>list_of_confs_rfe</th>\n",
       "    </tr>\n",
       "  </thead>\n",
       "  <tbody>\n",
       "    <tr>\n",
       "      <th>0</th>\n",
       "      <td>[32]</td>\n",
       "    </tr>\n",
       "    <tr>\n",
       "      <th>1</th>\n",
       "      <td>[32, 113]</td>\n",
       "    </tr>\n",
       "    <tr>\n",
       "      <th>2</th>\n",
       "      <td>[32, 113, 73]</td>\n",
       "    </tr>\n",
       "    <tr>\n",
       "      <th>3</th>\n",
       "      <td>[32, 113, 73, 31]</td>\n",
       "    </tr>\n",
       "    <tr>\n",
       "      <th>4</th>\n",
       "      <td>[32, 113, 73, 31, 98]</td>\n",
       "    </tr>\n",
       "    <tr>\n",
       "      <th>...</th>\n",
       "      <td>...</td>\n",
       "    </tr>\n",
       "    <tr>\n",
       "      <th>131</th>\n",
       "      <td>[32, 113, 73, 31, 98, 33, 34, 58, 36, 37, 92, ...</td>\n",
       "    </tr>\n",
       "    <tr>\n",
       "      <th>132</th>\n",
       "      <td>[32, 113, 73, 31, 98, 33, 34, 58, 36, 37, 92, ...</td>\n",
       "    </tr>\n",
       "    <tr>\n",
       "      <th>133</th>\n",
       "      <td>[32, 113, 73, 31, 98, 33, 34, 58, 36, 37, 92, ...</td>\n",
       "    </tr>\n",
       "    <tr>\n",
       "      <th>134</th>\n",
       "      <td>[32, 113, 73, 31, 98, 33, 34, 58, 36, 37, 92, ...</td>\n",
       "    </tr>\n",
       "    <tr>\n",
       "      <th>135</th>\n",
       "      <td>[32, 113, 73, 31, 98, 33, 34, 58, 36, 37, 92, ...</td>\n",
       "    </tr>\n",
       "  </tbody>\n",
       "</table>\n",
       "<p>136 rows × 1 columns</p>\n",
       "</div>"
      ],
      "text/plain": [
       "                                     list_of_confs_rfe\n",
       "0                                                 [32]\n",
       "1                                            [32, 113]\n",
       "2                                        [32, 113, 73]\n",
       "3                                    [32, 113, 73, 31]\n",
       "4                                [32, 113, 73, 31, 98]\n",
       "..                                                 ...\n",
       "131  [32, 113, 73, 31, 98, 33, 34, 58, 36, 37, 92, ...\n",
       "132  [32, 113, 73, 31, 98, 33, 34, 58, 36, 37, 92, ...\n",
       "133  [32, 113, 73, 31, 98, 33, 34, 58, 36, 37, 92, ...\n",
       "134  [32, 113, 73, 31, 98, 33, 34, 58, 36, 37, 92, ...\n",
       "135  [32, 113, 73, 31, 98, 33, 34, 58, 36, 37, 92, ...\n",
       "\n",
       "[136 rows x 1 columns]"
      ]
     },
     "execution_count": 76,
     "metadata": {},
     "output_type": "execute_result"
    }
   ],
   "source": [
    "# Get the features ranking\n",
    "df_ = pd.DataFrame({'pdb_id': X.columns, 'rfe_ranking': selector.ranking_})\n",
    "# Sort features by ranking\n",
    "df_.sort_values('rfe_ranking', inplace = True)\n",
    "#\n",
    "list_of_confs_per_k = [ df_.index[:i+1].tolist() for i in range(len(df_))]\n",
    "df_confs_per_k = pd.DataFrame({'list_of_confs_rfe': list_of_confs_per_k})\n",
    "df_confs_per_k"
   ]
  },
  {
   "cell_type": "code",
   "execution_count": null,
   "metadata": {},
   "outputs": [],
   "source": []
  }
 ],
 "metadata": {
  "kernelspec": {
   "display_name": "Python 3.7.6 64-bit ('mds': conda)",
   "language": "python",
   "name": "python37664bitmdsconda8fcfe9b6c3484566880235af88776fef"
  },
  "language_info": {
   "codemirror_mode": {
    "name": "ipython",
    "version": 3
   },
   "file_extension": ".py",
   "mimetype": "text/x-python",
   "name": "python",
   "nbconvert_exporter": "python",
   "pygments_lexer": "ipython3",
   "version": "3.7.6"
  }
 },
 "nbformat": 4,
 "nbformat_minor": 4
}
