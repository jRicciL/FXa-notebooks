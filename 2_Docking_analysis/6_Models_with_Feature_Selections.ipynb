{
 "cells": [
  {
   "cell_type": "code",
   "execution_count": 23,
   "metadata": {},
   "outputs": [],
   "source": [
    "import pandas as pd\n",
    "import numpy as np\n",
    "import joblib\n",
    "import seaborn as sns"
   ]
  },
  {
   "cell_type": "code",
   "execution_count": 2,
   "metadata": {},
   "outputs": [
    {
     "data": {
      "text/plain": [
       "(6233, 136)"
      ]
     },
     "execution_count": 2,
     "metadata": {},
     "output_type": "execute_result"
    }
   ],
   "source": [
    "file_name = './df_DkSc_results_COCRYS_DEKOIS_DUD.pkl'\n",
    "X_merged_dksc = pd.read_pickle(file_name)\n",
    "# Extract activity column\n",
    "y_true_merged = X_merged_dksc['activity']\n",
    "# Drop column from merged_dkksc\n",
    "X_merged_dksc = X_merged_dksc.drop('activity', axis=1)\n",
    "X_merged_dksc.shape"
   ]
  },
  {
   "cell_type": "code",
   "execution_count": 3,
   "metadata": {},
   "outputs": [],
   "source": [
    "# RFE Evaluation"
   ]
  },
  {
   "cell_type": "code",
   "execution_count": 4,
   "metadata": {},
   "outputs": [
    {
     "name": "stdout",
     "output_type": "stream",
     "text": [
      "conf_selection\r\n",
      "RFECV_selector_LogReg_MERGED_random_split.joblib\r\n",
      "RFECV_selector_LogReg_MERGED_scaffold_split.joblib\r\n",
      "RFECV_selector_RandomForest_MERGED_random_split.joblib\r\n",
      "RFECV_selector_RandomForest_MERGED_scaffold_split.joblib\r\n"
     ]
    }
   ],
   "source": [
    "!ls ml_models/"
   ]
  },
  {
   "cell_type": "code",
   "execution_count": 5,
   "metadata": {},
   "outputs": [],
   "source": [
    "# Funtion to get the dataframe with selected k conformations using RFE\n",
    "def selected_confs_from_RFE(rfe_selector, X):\n",
    "    '''Returns a Data Frame with n rows (n = num of protein conformations) and one\n",
    "       column where each cell contains a list of k indices indicating the selected conformations.\n",
    "       Selected conformatios are obtained from an rfe_selector estimator and the X matrix.'''\n",
    "    # Get the features ranking\n",
    "    df_ranks = pd.DataFrame({'pdb_id': X.columns, 'rfe_ranking': rfe_selector.ranking_})\n",
    "    # Sort features by ranking\n",
    "    df_ranks.sort_values('rfe_ranking', inplace = True)\n",
    "    # Get the dataframe with the list of conf indices per k conformations\n",
    "    confs_per_k = [ df_ranks.index[:i + 1].tolist() for i in range(len(df_ranks))]\n",
    "    df_sel_confs = pd.DataFrame({'confs_idx_per_k': confs_per_k})\n",
    "    return df_sel_confs"
   ]
  },
  {
   "cell_type": "code",
   "execution_count": 6,
   "metadata": {},
   "outputs": [],
   "source": [
    "X = X_merged_dksc\n",
    "y = y_true_merged"
   ]
  },
  {
   "cell_type": "code",
   "execution_count": 7,
   "metadata": {},
   "outputs": [],
   "source": [
    "# Open RFE_estimator\n",
    "dataset = 'MERGED'\n",
    "model_name = 'LogReg'\n",
    "split = 'random'\n",
    "filename = f'./ml_models/RFECV_selector_{model_name}_{dataset}_{split}_split.joblib'\n",
    "# RFE selector LogReg Random split\n",
    "rfe_selector_LR_rd = joblib.load(filename)\n",
    "\n",
    "#**************************\n",
    "# Get the features ranking\n",
    "df_sel_confs_RFE_LR_rd = selected_confs_from_RFE(rfe_selector_LR_rd, X)"
   ]
  },
  {
   "cell_type": "code",
   "execution_count": 8,
   "metadata": {},
   "outputs": [],
   "source": [
    "# Open RFE_estimator\n",
    "dataset = 'MERGED'\n",
    "model_name = 'RandomForest'\n",
    "split = 'random'\n",
    "filename = f'./ml_models/RFECV_selector_{model_name}_{dataset}_{split}_split.joblib'\n",
    "# RFE selector LogReg Random split\n",
    "rfe_selector_RF_rd = joblib.load(filename)\n",
    "\n",
    "#**************************\n",
    "# Get the features ranking\n",
    "df_sel_confs_RFE_RF_rd = selected_confs_from_RFE(rfe_selector_RF_rd, X)"
   ]
  },
  {
   "cell_type": "code",
   "execution_count": 9,
   "metadata": {},
   "outputs": [],
   "source": [
    "from sklearn.model_selection import train_test_split\n",
    "from sklearn.preprocessing import StandardScaler\n",
    "from sklearn.pipeline import Pipeline\n",
    "from sklearn.metrics import roc_auc_score"
   ]
  },
  {
   "cell_type": "code",
   "execution_count": 13,
   "metadata": {},
   "outputs": [],
   "source": [
    "# Entradas:"
   ]
  },
  {
   "cell_type": "code",
   "execution_count": 12,
   "metadata": {},
   "outputs": [],
   "source": [
    "import os\n",
    "import sys\n",
    "import pickle\n",
    "sys.path.append('..')\n",
    "from modules.run_or_load_decorator import run_or_load"
   ]
  },
  {
   "cell_type": "code",
   "execution_count": 15,
   "metadata": {},
   "outputs": [],
   "source": [
    "#*************************************************\n",
    "# Functions to compute stratify scaffold splitting\n",
    "#*************************************************\n",
    "from scaffold_splitter import train_test_scaffold_split\n",
    "\n",
    "# Compute or load the dataframe containing the Generic Murcko Scaffolds\n",
    "file = './df_COCRYS_DUD_DEKOIS_Murcko_Scaffolds_SMILES.obj'\n",
    "\n",
    "df_scff_murcko = pd.read_pickle(file)"
   ]
  },
  {
   "cell_type": "code",
   "execution_count": 31,
   "metadata": {},
   "outputs": [],
   "source": [
    "# ********************\n",
    "def conf_picking_ML(estimator, X_train, X_test, y_train, y_test, df_preselected_confs):\n",
    "    roc_auc_values = []\n",
    "    for k in df_preselected_confs['confs_idx_per_k']:\n",
    "        # 1) Substract X_train and X_test\n",
    "        X_train_sub = X_train.iloc[:, k]\n",
    "        X_test_sub = X_test.iloc[:, k]\n",
    "\n",
    "        # 2) Entrenamiento del modelo\n",
    "        pipe = Pipeline([('scaler', StandardScaler()), ('estimator', estimator)])\n",
    "        pipe.fit(X_train_sub, y_train)\n",
    "\n",
    "        # 3) Prediction\n",
    "        y_pred_proba = pipe.predict_proba(X_test_sub)[:, 1]\n",
    "\n",
    "        # 4) Evaluation\n",
    "        roc_auc = roc_auc_score(y_test, y_pred_proba)\n",
    "\n",
    "        # 5) Append the ROC-AUC to the list\n",
    "        roc_auc_values.append(roc_auc)\n",
    "        \n",
    "    return(roc_auc_values)\n",
    "\n",
    "@run_or_load\n",
    "def randsel_ML(filename, estimator, X, y, \n",
    "                       split_type='randSplit', scaffold_series=None,\n",
    "                       test_size=0.25, nreps=10, verbose=False):\n",
    "    n_confs = X.shape[1]\n",
    "    dic_roc_auc_reps = {}\n",
    "    \n",
    "    if split_type == 'scffSplit' and scaffold_series is not None:\n",
    "        #** If scaffold splitting: just do once!\n",
    "        X_train, X_test, y_train, y_test = \\\n",
    "            train_test_scaffold_split(X, y, \n",
    "            scaffold_series=scaffold_series, test_size=test_size, stratify=y)\n",
    "    \n",
    "    for rep in range(nreps):\n",
    "        # ***** Select conformations randomly \n",
    "        confs_per_k = [np.random.choice(a = range(n_confs), size=k, replace = False) \n",
    "                       for k in range(1, n_confs + 1)]\n",
    "        df_preselected_confs = pd.DataFrame({'confs_idx_per_k': confs_per_k})\n",
    "        # ***** \n",
    "        roc_auc_values = []\n",
    "        #** If random split: Randomly split on each rep\n",
    "        if split_type == 'randSplit':\n",
    "            X_train, X_test, y_train, y_test = train_test_split(X, y, test_size=test_size, stratify=y)\n",
    "            \n",
    "        roc_auc_values = conf_picking_ML(estimator, X_train, X_test, y_train, y_test, df_preselected_confs)\n",
    "        dic_roc_auc_reps[f'rep_{rep}'] = roc_auc_values\n",
    "        \n",
    "        if verbose:\n",
    "            print(f'rep: {rep}')\n",
    "            \n",
    "    df = pd.DataFrame(dic_roc_auc_reps)\n",
    "    return(df)\n",
    "        \n",
    "@run_or_load     \n",
    "def presel_ML(filename, estimator, X, y, df_preselected_confs, \n",
    "                       split_type='randSplit', scaffold_series=None,\n",
    "                       test_size=0.25, nreps=5, verbose=False):\n",
    "    dic_roc_auc_reps = {}\n",
    "    if split_type == 'scffSplit' and scaffold_series is not None:\n",
    "        #** If scaffold splitting: just do once!\n",
    "        X_train, X_test, y_train, y_test = \\\n",
    "            train_test_scaffold_split(X, y, \n",
    "            scaffold_series=scaffold_series, test_size=test_size, stratify=y)\n",
    "        #**\n",
    "        # override nreps\n",
    "        nreps = 1 # Only for preselected features\n",
    "   \n",
    "    for rep in range(nreps): \n",
    "        \n",
    "        roc_auc_values = []\n",
    "        \n",
    "        #** If random split: Randomly split on each rep\n",
    "        if split_type == 'randSplit':\n",
    "            X_train, X_test, y_train, y_test = train_test_split(X, y, test_size=test_size, stratify=y)\n",
    "            \n",
    "        roc_auc_values = conf_picking_ML(estimator, X_train, X_test, y_train, y_test, df_preselected_confs)\n",
    "        dic_roc_auc_reps[f'rep_{rep}'] = roc_auc_values\n",
    "        \n",
    "        if verbose:\n",
    "            print(f'rep: {rep}')\n",
    "            \n",
    "    df = pd.DataFrame(dic_roc_auc_reps)\n",
    "    return(df)\n"
   ]
  },
  {
   "cell_type": "code",
   "execution_count": 18,
   "metadata": {},
   "outputs": [],
   "source": [
    "### File naming pattern\n",
    "# {Score type}_{Train}-{Test}_{split type}__{estimator}_{selection method}"
   ]
  },
  {
   "cell_type": "code",
   "execution_count": 19,
   "metadata": {},
   "outputs": [],
   "source": [
    "TRAIN_DB = 'MergedDB'\n",
    "TEST_DB = 'MergedDB'\n",
    "SCORE_TYPE = 'DkSc'\n",
    "scaffold_series = df_scff_murcko['scff_generic']\n",
    "\n",
    "FILEPATH = f'./ml_models/conf_selection/{SCORE_TYPE}_{TRAIN_DB}-{TRAIN_DB}'\n",
    "\n",
    "def format_filename(*args):\n",
    "    return '_'.join([*args] ) + '.obj'"
   ]
  },
  {
   "cell_type": "code",
   "execution_count": 36,
   "metadata": {},
   "outputs": [
    {
     "name": "stdout",
     "output_type": "stream",
     "text": [
      "File loaded: ./ml_models/conf_selection/DkSc_MergedDB-MergedDB_randSplit_LogReg_randSel_nreps15.obj\n",
      "File loaded: ./ml_models/conf_selection/DkSc_MergedDB-MergedDB_randSplit_LogReg_rfeSel-LR_nreps15.obj\n",
      "File loaded: ./ml_models/conf_selection/DkSc_MergedDB-MergedDB_randSplit_LogReg_rfeSel-RF_nreps15.obj\n",
      "File loaded: ./ml_models/conf_selection/DkSc_MergedDB-MergedDB_scffSplit_LogReg_randSel_nreps15.obj\n",
      "File loaded: ./ml_models/conf_selection/DkSc_MergedDB-MergedDB_scffSplit_LogReg_rfeSel-LR_nreps15.obj\n",
      "File loaded: ./ml_models/conf_selection/DkSc_MergedDB-MergedDB_scffSplit_LogReg_rfeSel-RF_nreps15.obj\n",
      "CPU times: user 266 ms, sys: 18.5 ms, total: 284 ms\n",
      "Wall time: 285 ms\n"
     ]
    },
    {
     "data": {
      "text/plain": [
       "<matplotlib.axes._subplots.AxesSubplot at 0x7fe203840c50>"
      ]
     },
     "execution_count": 36,
     "metadata": {},
     "output_type": "execute_result"
    },
    {
     "data": {
      "image/png": "[encoded data removed]",
      "text/plain": [
       "<Figure size 432x288 with 1 Axes>"
      ]
     },
     "metadata": {
      "needs_background": "light"
     },
     "output_type": "display_data"
    }
   ],
   "source": [
    "%%time\n",
    "from sklearn.linear_model import LogisticRegression\n",
    "\n",
    "estimator_name = 'LogReg'\n",
    "hyparams = {'C': 1.0, 'penalty': 'l1', 'solver': 'liblinear', 'max_iter': 150}\n",
    "estimator = LogisticRegression(**hyparams)\n",
    "nreps=15\n",
    "\n",
    "#*******************\n",
    "# Splitting: Random\n",
    "#*******************\n",
    "split_type = 'randSplit'\n",
    "#------------------\n",
    "# Random Selection\n",
    "#------------------\n",
    "selection_type = 'randSel'\n",
    "filename = format_filename(FILEPATH, split_type, estimator_name, selection_type, f'nreps{nreps}') \n",
    "randSel_res_rds = randsel_ML(filename, estimator, X, y, nreps=nreps, verbose = True)\n",
    "#-------------------------\n",
    "# RFE Selection (Log. Reg selector)\n",
    "#-------------------------\n",
    "selection_type = 'rfeSel-LR'\n",
    "df_preselected_confs = df_sel_confs_RFE_LR_rd\n",
    "filename = format_filename(FILEPATH, split_type, estimator_name, selection_type, f'nreps{nreps}') \n",
    "rfe_LR_res_rds = presel_ML(filename, estimator, X, y, df_preselected_confs, nreps=nreps, verbose=True)\n",
    "#-------------------------\n",
    "# RFE Selection (Rand. Forest selector)\n",
    "#-------------------------\n",
    "selection_type = 'rfeSel-RF'\n",
    "df_preselected_confs = df_sel_confs_RFE_RF_rd\n",
    "filename = format_filename(FILEPATH, split_type, estimator_name, selection_type, f'nreps{nreps}') \n",
    "rfe_RF_res_rds = presel_ML(filename, estimator, X, y, df_preselected_confs, nreps=nreps, verbose=True)\n",
    "\n",
    "\n",
    "\n",
    "#*********************\n",
    "# Splitting: Scaffold\n",
    "#*********************\n",
    "split_type = 'scffSplit'\n",
    "hyparams = {'C': 100, 'penalty': 'l1', 'solver': 'lbfgs', 'max_iter': 150}\n",
    "#------------------\n",
    "# Random Selection\n",
    "#------------------\n",
    "selection_type = 'randSel'\n",
    "filename = format_filename(FILEPATH, split_type, estimator_name, selection_type, f'nreps{nreps}') \n",
    "randSel_res_scff = randsel_ML(filename, estimator, X, y, \n",
    "                   split_type=split_type, scaffold_series=scaffold_series, nreps=nreps, verbose=True)\n",
    "#-------------------------\n",
    "# RFE Selection (Log. Reg selector)\n",
    "#-------------------------\n",
    "selection_type = 'rfeSel-LR'\n",
    "df_preselected_confs = df_sel_confs_RFE_LR_rd\n",
    "filename = format_filename(FILEPATH, split_type, estimator_name, selection_type, f'nreps{nreps}') \n",
    "rfe_LR_res_scff = presel_ML(filename, estimator, X, y, df_preselected_confs, \n",
    "                                split_type=split_type, scaffold_series=scaffold_series, verbose=True)\n",
    "#-------------------------\n",
    "# RFE Selection (Rand. Forest selector)\n",
    "#-------------------------\n",
    "selection_type = 'rfeSel-RF'\n",
    "df_preselected_confs = df_sel_confs_RFE_RF_rd # Confs selected by RFE with RandForest base estimator\n",
    "filename = format_filename(FILEPATH, split_type, estimator_name, selection_type, f'nreps{nreps}') \n",
    "rfe_RF_res_scff = presel_ML(filename, estimator, X, y, df_preselected_confs, \n",
    "                                split_type=split_type, scaffold_series=scaffold_series, verbose=True)\n",
    "\n",
    "\n",
    "sns.lineplot(range(136), randSel_res_rds.mean(axis=1), label='Aleatorio-SplitAleatorio')\n",
    "sns.lineplot(range(136), rfe_LR_res_rds.mean(axis=1), label='RFE-RL_Splitaleatorio')\n",
    "# sns.lineplot(range(136), rfe_RF_res_rds.mean(axis=1), label='RFE-RF_SplitAleatorio')\n",
    "sns.lineplot(range(136), randSel_res_scff.mean(axis=1), label='Aleatorio-SplitScff')\n",
    "sns.lineplot(range(136), rfe_LR_res_scff.mean(axis=1), label='RFE-RL_SplitScff')\n",
    "# sns.lineplot(range(136), rfe_RF_res_scff.mean(axis=1), label='RFE-RF_SplitScff')"
   ]
  },
  {
   "cell_type": "code",
   "execution_count": 34,
   "metadata": {},
   "outputs": [
    {
     "name": "stdout",
     "output_type": "stream",
     "text": [
      "File loaded: ./ml_models/conf_selection/DkSc_MergedDB-MergedDB_randSplit_rbfSVC_randSel_nreps15.obj\n",
      "File loaded: ./ml_models/conf_selection/DkSc_MergedDB-MergedDB_randSplit_rbfSVC_rfeSel-LR_nreps15.obj\n",
      "File loaded: ./ml_models/conf_selection/DkSc_MergedDB-MergedDB_randSplit_rbfSVC_rfeSel-RF_nreps15.obj\n",
      "File loaded: ./ml_models/conf_selection/DkSc_MergedDB-MergedDB_scffSplit_rbfSVC_randSel_nreps15.obj\n",
      "File loaded: ./ml_models/conf_selection/DkSc_MergedDB-MergedDB_scffSplit_rbfSVC_rfeSel-LR_nreps15.obj\n",
      "File loaded: ./ml_models/conf_selection/DkSc_MergedDB-MergedDB_scffSplit_rbfSVC_rfeSel-RF_nreps15.obj\n",
      "CPU times: user 206 ms, sys: 8.22 ms, total: 214 ms\n",
      "Wall time: 292 ms\n"
     ]
    },
    {
     "data": {
      "text/plain": [
       "<matplotlib.axes._subplots.AxesSubplot at 0x7fe20371fe90>"
      ]
     },
     "execution_count": 34,
     "metadata": {},
     "output_type": "execute_result"
    },
    {
     "data": {
      "image/png": "[encoded data removed]",
      "text/plain": [
       "<Figure size 432x288 with 1 Axes>"
      ]
     },
     "metadata": {
      "needs_background": "light"
     },
     "output_type": "display_data"
    }
   ],
   "source": [
    "%%time\n",
    "from sklearn.svm import SVC\n",
    "\n",
    "estimator_name = 'rbfSVC'\n",
    "hyparams = {'kernel': 'rbf', 'probability': True, 'C': 10.0, 'gamma': 0.01}\n",
    "estimator = SVC(**hyparams)\n",
    "nreps=15\n",
    "\n",
    "#*******************\n",
    "# Splitting: Random\n",
    "#*******************\n",
    "split_type = 'randSplit'\n",
    "#------------------\n",
    "# Random Selection\n",
    "#------------------\n",
    "selection_type = 'randSel'\n",
    "filename = format_filename(FILEPATH, split_type, estimator_name, selection_type, f'nreps{nreps}') \n",
    "randSel_res_rds = randsel_ML(filename, estimator, X, y, nreps=nreps, verbose = True)\n",
    "#-------------------------\n",
    "# RFE Selection (Log. Reg base estimator)\n",
    "#-------------------------\n",
    "selection_type = 'rfeSel-LR'\n",
    "df_preselected_confs = df_sel_confs_RFE_LR_rd\n",
    "filename = format_filename(FILEPATH, split_type, estimator_name, selection_type, f'nreps{nreps}') \n",
    "rfe_LR_res_rds = presel_ML(filename, estimator, X, y, df_preselected_confs, nreps=nreps, verbose=True)\n",
    "#-------------------------\n",
    "# RFE Selection (Rand. Forest base estimator)\n",
    "#-------------------------\n",
    "selection_type = 'rfeSel-RF'\n",
    "df_preselected_confs = df_sel_confs_RFE_RF_rd\n",
    "filename = format_filename(FILEPATH, split_type, estimator_name, selection_type, f'nreps{nreps}') \n",
    "rfe_RF_res_rds = presel_ML(filename, estimator, X, y, df_preselected_confs, nreps=nreps, verbose=True)\n",
    "\n",
    "\n",
    "\n",
    "#*********************\n",
    "# Splitting: Scaffold\n",
    "#*********************\n",
    "split_type = 'scffSplit'\n",
    "hyparams = {'C': 100, 'penalty': 'l1', 'solver': 'lbfgs', 'max_iter': 150}\n",
    "#------------------\n",
    "# Random Selection\n",
    "#------------------\n",
    "selection_type = 'randSel'\n",
    "filename = format_filename(FILEPATH, split_type, estimator_name, selection_type, f'nreps{nreps}') \n",
    "randSel_res_scff = randsel_ML(filename, estimator, X, y, \n",
    "                   split_type=split_type, scaffold_series=scaffold_series, nreps=nreps, verbose=True)\n",
    "#-------------------------\n",
    "# RFE Selection (Log. Reg base estimator)\n",
    "#-------------------------\n",
    "selection_type = 'rfeSel-LR'\n",
    "df_preselected_confs = df_sel_confs_RFE_LR_rd\n",
    "filename = format_filename(FILEPATH, split_type, estimator_name, selection_type, f'nreps{nreps}') \n",
    "rfe_LR_res_scff = presel_ML(filename, estimator, X, y, df_preselected_confs, \n",
    "                                split_type=split_type, scaffold_series=scaffold_series, verbose=True)\n",
    "#-------------------------\n",
    "# RFE Selection (Rand. Forest base estimator)\n",
    "#-------------------------\n",
    "selection_type = 'rfeSel-RF'\n",
    "df_preselected_confs = df_sel_confs_RFE_RF_rd # Confs selected by RFE with RandForest base estimator\n",
    "filename = format_filename(FILEPATH, split_type, estimator_name, selection_type, f'nreps{nreps}') \n",
    "rfe_RF_res_scff = presel_ML(filename, estimator, X, y, df_preselected_confs, \n",
    "                                split_type=split_type, scaffold_series=scaffold_series, verbose=True)\n",
    "\n",
    "\n",
    "sns.lineplot(range(136), randSel_res_rds.mean(axis=1), label='a')\n",
    "sns.lineplot(range(136), rfe_LR_res_rds.mean(axis=1), label='b')\n",
    "sns.lineplot(range(136), rfe_RF_res_rds.mean(axis=1), label='c')\n",
    "sns.lineplot(range(136), randSel_res_scff.mean(axis=1), label='d')\n",
    "sns.lineplot(range(136), rfe_LR_res_scff.mean(axis=1), label='e')\n",
    "sns.lineplot(range(136), rfe_RF_res_scff.mean(axis=1), label='f')"
   ]
  },
  {
   "cell_type": "code",
   "execution_count": 33,
   "metadata": {},
   "outputs": [
    {
     "name": "stdout",
     "output_type": "stream",
     "text": [
      "CPU times: user 61 µs, sys: 6 µs, total: 67 µs\n",
      "Wall time: 73.4 µs\n"
     ]
    }
   ],
   "source": [
    "%%time\n",
    "from sklearn.ensemble import RandomForestClassifier\n",
    "\n",
    "estimator_name = 'RandomForest'\n",
    "hyparams = {'max_depth': 3, 'max_features': 'sqrt', \n",
    "            'min_samples_leaf': 0.02, 'min_samples_split': 0.1, \n",
    "            'n_estimators': 400}\n",
    "estimator = RandomForestClassifier(**hyparams)\n",
    "nreps=15\n"
   ]
  },
  {
   "cell_type": "code",
   "execution_count": null,
   "metadata": {},
   "outputs": [],
   "source": []
  }
 ],
 "metadata": {
  "kernelspec": {
   "display_name": "Python 3.7.6 64-bit ('mds': conda)",
   "language": "python",
   "name": "python37664bitmdsconda8fcfe9b6c3484566880235af88776fef"
  },
  "language_info": {
   "codemirror_mode": {
    "name": "ipython",
    "version": 3
   },
   "file_extension": ".py",
   "mimetype": "text/x-python",
   "name": "python",
   "nbconvert_exporter": "python",
   "pygments_lexer": "ipython3",
   "version": "3.7.6"
  }
 },
 "nbformat": 4,
 "nbformat_minor": 4
}
