{
 "cells": [
  {
   "cell_type": "markdown",
   "metadata": {},
   "source": [
    "# Helper Notebook 1\n",
    "### Load data"
   ]
  },
  {
   "cell_type": "code",
   "execution_count": 1,
   "metadata": {},
   "outputs": [],
   "source": [
    "import pandas as pd\n",
    "import numpy as np\n",
    "import glob, sys, os\n",
    "sys.path.append('..')"
   ]
  },
  {
   "cell_type": "code",
   "execution_count": 2,
   "metadata": {},
   "outputs": [],
   "source": [
    "from modules.plotting_metrics import PlotMetric\n",
    "import matplotlib.pyplot as plt\n",
    "import seaborn as sns\n",
    "sns.set(style='white', context='talk', font_scale=0.8)"
   ]
  },
  {
   "cell_type": "code",
   "execution_count": 10,
   "metadata": {},
   "outputs": [],
   "source": []
  },
  {
   "cell_type": "markdown",
   "metadata": {},
   "source": [
    "## Load the data"
   ]
  },
  {
   "cell_type": "code",
   "execution_count": 41,
   "metadata": {},
   "outputs": [],
   "source": [
    "def open_results(path, index_col='ligand', activity_col ='activity'):\n",
    "    df = pd.read_csv(path, index_col=index_col)\n",
    "    y = df[activity_col]\n",
    "    X = df.drop(activity_col, axis=1)\n",
    "    return X, y"
   ]
  },
  {
   "cell_type": "markdown",
   "metadata": {},
   "source": [
    "### DEKOIS"
   ]
  },
  {
   "cell_type": "code",
   "execution_count": 60,
   "metadata": {},
   "outputs": [],
   "source": [
    "# Vinardo Docking Scores (dksc) DEKOIS\n",
    "X_dksc_DEKOIS, y_dksc_DEKOIS = open_results('./DEKOIS2_VINARDO_137_prots_1240_mols.csv', index_col='ligand')"
   ]
  },
  {
   "cell_type": "code",
   "execution_count": 58,
   "metadata": {},
   "outputs": [],
   "source": [
    "# Vinardo Ligand Efficiency (dkef) DEKOIS\n",
    "X_dkef_DEKOIS, y_dkef_DEKOIS = open_results('./DEKOIS2_VINARDO_137_prots_1240_mols_LigEff.csv', index_col='ligand')"
   ]
  },
  {
   "cell_type": "markdown",
   "metadata": {},
   "source": [
    "### DUD"
   ]
  },
  {
   "cell_type": "code",
   "execution_count": 62,
   "metadata": {},
   "outputs": [],
   "source": [
    "# Vinardo Docking Scores (dksc) DUD\n",
    "X_dksc_DUD, y_dksc_DUD = open_results('./DUD2006_VINARDO_137_prots_5891_mols.csv', index_col='ligand')"
   ]
  },
  {
   "cell_type": "code",
   "execution_count": 64,
   "metadata": {},
   "outputs": [],
   "source": [
    "# Vinardo Ligand Efficiency (dkef) DEKOIS]\n",
    "X_dkef_DUD, y_dkef_DUD = open_results('./DUD2006_VINARDO_137_prots_5891_mols_LigEff.csv', index_col='ligand')"
   ]
  },
  {
   "cell_type": "markdown",
   "metadata": {},
   "source": [
    "### Merge to a dictionary"
   ]
  },
  {
   "cell_type": "code",
   "execution_count": 53,
   "metadata": {},
   "outputs": [],
   "source": [
    "# Finally we create adictionary that we will use to combine different approaches\n",
    "scores_dic = {\n",
    "              'DUD':  {'Dk_sc':    {'X': X_dksc_DUD,  'y': y_dksc_DUD}, \n",
    "                       'Dk_lef':   {'X': X_dkef_DUD,  'y': y_dkef_DUD} },\n",
    "              'DEKOIS': {'Dk_sc':  {'X': X_dksc_DEKOIS,  'y': y_dksc_DEKOIS}, \n",
    "                         'Dk_lef': {'X': X_dkef_DEKOIS,  'y': y_dkef_DEKOIS} },\n",
    "             }"
   ]
  }
 ],
 "metadata": {
  "kernelspec": {
   "display_name": "Python 3.7.6 64-bit ('mds': conda)",
   "language": "python",
   "name": "python37664bitmdsconda8fcfe9b6c3484566880235af88776fef"
  },
  "language_info": {
   "codemirror_mode": {
    "name": "ipython",
    "version": 3
   },
   "file_extension": ".py",
   "mimetype": "text/x-python",
   "name": "python",
   "nbconvert_exporter": "python",
   "pygments_lexer": "ipython3",
   "version": "3.7.6"
  }
 },
 "nbformat": 4,
 "nbformat_minor": 4
}
