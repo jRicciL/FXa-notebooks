{
 "cells": [
  {
   "cell_type": "markdown",
   "metadata": {},
   "source": [
    "# CDK2: Model Selection - y values shuffled\n",
    "### Validation Method"
   ]
  },
  {
   "cell_type": "code",
   "execution_count": null,
   "metadata": {},
   "outputs": [],
   "source": [
    "import pandas as pd\n",
    "import numpy as np\n",
    "import glob, sys, os\n",
    "sys.path.append('..')"
   ]
  },
  {
   "cell_type": "code",
   "execution_count": null,
   "metadata": {},
   "outputs": [],
   "source": [
    "from modules.plotting_metrics import PlotMetric\n",
    "import matplotlib.pyplot as plt\n",
    "import seaborn as sns\n",
    "sns.set(style='white', context='talk', font_scale=0.8)"
   ]
  },
  {
   "cell_type": "code",
   "execution_count": null,
   "metadata": {
    "scrolled": true
   },
   "outputs": [],
   "source": [
    "file_name = './df_DkSc_results_COCRYS_DEKOIS_DUD.pkl'\n",
    "X_merged_dksc = pd.read_pickle(file_name)\n",
    "# Extract activity column\n",
    "y_true_merged = X_merged_dksc['activity']\n",
    "# Drop column from merged_dkksc\n",
    "X_merged_dksc = X_merged_dksc.drop('activity', axis=1)\n",
    "X_merged_dksc.shape\n",
    "y_true_merged.loc['DEKOIS'].sum()"
   ]
  },
  {
   "cell_type": "markdown",
   "metadata": {},
   "source": [
    "## Scaffold Splitting"
   ]
  },
  {
   "cell_type": "code",
   "execution_count": null,
   "metadata": {},
   "outputs": [],
   "source": [
    "#*************************************************\n",
    "# Functions to compute stratify scaffold splitting\n",
    "#*************************************************\n",
    "sys.path.append('../2_Docking_analysis/')\n",
    "from scaffold_splitter import train_test_scaffold_split"
   ]
  },
  {
   "cell_type": "code",
   "execution_count": null,
   "metadata": {},
   "outputs": [],
   "source": [
    "# Compute or load the dataframe containing the Generic Murcko Scaffolds\n",
    "file = '../2_Docking_analysis/df_COCRYS_DUD_DEKOIS_Murcko_Scaffolds_SMILES.obj'\n",
    "\n",
    "df_scff_murcko = pd.read_pickle(file)\n",
    "df_scff_murcko.shape"
   ]
  },
  {
   "cell_type": "code",
   "execution_count": null,
   "metadata": {},
   "outputs": [],
   "source": [
    "%run 4_Helper_Functions_Model_Selection_Grid_Search.ipynb"
   ]
  },
  {
   "cell_type": "markdown",
   "metadata": {},
   "source": [
    "#  Hyperparameter Tunning: Grid Search"
   ]
  },
  {
   "cell_type": "code",
   "execution_count": null,
   "metadata": {},
   "outputs": [],
   "source": [
    "def randomize_y_labels(y_target, random_chi=0.1):\n",
    "    '''Función para distribuir de forma aleatoria una fracción \n",
    "    chi del vector de etiquetas, de forma estratificada'''\n",
    "    \n",
    "    # Make a copy of the original vector\n",
    "    y_copy = y.copy()\n",
    "    \n",
    "    # Get the number of actives inside the y_target vector\n",
    "    n_actives = y_target.sum()\n",
    "    random_size = np.floor(random_chi * n_actives)\n",
    "    # Initialize the counters\n",
    "    act_count = random_size\n",
    "    inact_count = random_size\n",
    "    \n",
    "    # Create the randomized list of idexes\n",
    "    idx_shuffled = np.random.choice(range(len(y)), len(y), replace=False)\n",
    "    # iterate over idx_shuffled until act and inact counters == 0\n",
    "    for l in idx_shuffled:\n",
    "        if act_count > 0:\n",
    "            if y_copy[l] == 1: # Is active, then change it to inactive\n",
    "                y_copy[l] = 0\n",
    "                act_count = act_count - 1\n",
    "                continue\n",
    "            if inact_count > 0: # If is inactive, change it to active\n",
    "                y_copy[l] = 1\n",
    "                inact_count = inact_count - 1\n",
    "                continue\n",
    "        else:\n",
    "            break\n",
    "    return(y_copy)\n",
    "    "
   ]
  },
  {
   "cell_type": "markdown",
   "metadata": {},
   "source": [
    "***\n",
    "<h2 style='background-color: #F9E5AB; padding: 5px;'>\n",
    "    Merged libraries: Shuffle *y* target values in the train set\n",
    "</h2>\n",
    "<div style='background-color: #FE8460; min-height: 5px'></div>\n",
    "\n",
    "#### DEKOIS, DUD and COCRYS are  treated as one unique library\n",
    "#### Target values (y) will be shuffled"
   ]
  },
  {
   "cell_type": "code",
   "execution_count": null,
   "metadata": {},
   "outputs": [],
   "source": [
    "# Train and test over \n",
    "X = X_merged_dksc\n",
    "# ***** Permutate y values *****\n",
    "y = y_true_merged#.sample(frac=1, replace=False)\n",
    "\n",
    "library = 'Merged'\n",
    "scaffold_series = df_scff_murcko['scff_generic']\n",
    "\n",
    "# Create an empty dictionary to save results"
   ]
  },
  {
   "cell_type": "markdown",
   "metadata": {},
   "source": [
    "<h3 style='color: #F84122; padding: 0px;; margin: 0px'>GS: Logistic Regression</h3>\n",
    "<b>Merged Libraries</b>"
   ]
  },
  {
   "cell_type": "code",
   "execution_count": null,
   "metadata": {
    "cell_style": "split",
    "scrolled": false
   },
   "outputs": [],
   "source": [
    "%%time\n",
    "from sklearn.linear_model import LogisticRegression\n",
    "\n",
    "chi_values = [0, 0.1, 0.2, 0.3, 0.4, 0.5, 1]\n",
    "\n",
    "for chi in chi_values:\n",
    "    print('valor chi:', chi)\n",
    "    for rep in range(10):\n",
    "        print('rep', rep)\n",
    "        y_rd = randomize_y_labels(y, chi)\n",
    "\n",
    "        estimator_name = 'LogReg'\n",
    "        estimator_name = estimator_name + '_chi' + str(chi) + '_rep' + str(rep)\n",
    "        hyperparams = {'C': 1, \n",
    "                       'penalty': 'l1', \n",
    "                       'solver': 'liblinear', \n",
    "                       'max_iter': 150} \n",
    "        estimator = LogisticRegression(**hyperparams)\n",
    "        \n",
    "        # RANDOM Train test splitting\n",
    "        split_and_gs(library, library, estimator_name,\n",
    "                     X, y_rd, estimator, {},\n",
    "                     splitting='random', test_size=0.25, \n",
    "                     scaffold_series=None, verbose=False)"
   ]
  },
  {
   "cell_type": "code",
   "execution_count": null,
   "metadata": {
    "cell_style": "split",
    "scrolled": false
   },
   "outputs": [],
   "source": [
    "%%time\n",
    "from sklearn.linear_model import LogisticRegression\n",
    "\n",
    "chi_values = [0, 0.1, 0.2, 0.3, 0.4, 0.5, 1]\n",
    "\n",
    "for chi in chi_values:\n",
    "    print('valor chi:', chi)\n",
    "    for rep in range(10):\n",
    "        print('rep', rep)\n",
    "        y_rd = randomize_y_labels(y, chi)\n",
    "\n",
    "        estimator_name = 'LogReg'\n",
    "        estimator_name = estimator_name + '_chi' + str(chi) + '_rep' + str(rep)\n",
    "        hyperparams = {'C': 1.0, \n",
    "                       'penalty': 'l1', \n",
    "                       'solver': 'liblinear', \n",
    "                       'max_iter': 150}\n",
    "        estimator = LogisticRegression(**hyperparams)\n",
    "\n",
    "        # SCAFFOLD Train test splitting\n",
    "        split_and_gs(library, library, estimator_name,\n",
    "                     X, y_rd, estimator, {},\n",
    "                     splitting='scaffold', test_size=0.25, \n",
    "                     scaffold_series=scaffold_series, verbose=False)"
   ]
  },
  {
   "cell_type": "markdown",
   "metadata": {},
   "source": [
    "<h3 style='color: #F84122; padding: 0px;; margin: 0px'>GS: X Gradient Boosting </h3>\n",
    "<b>Merged Libraries</b>"
   ]
  },
  {
   "cell_type": "code",
   "execution_count": null,
   "metadata": {
    "cell_style": "split",
    "scrolled": false
   },
   "outputs": [],
   "source": [
    "%%time\n",
    "\n",
    "from xgboost import XGBClassifier\n",
    "\n",
    "chi_values = [0, 0.1, 0.2, 0.3, 0.4, 0.5, 1]\n",
    "\n",
    "for chi in chi_values:\n",
    "    print('valor chi:', chi)\n",
    "    for rep in range(10):\n",
    "        print('rep', rep)\n",
    "        y_rd = randomize_y_labels(y, chi)\n",
    "\n",
    "        estimator_name = 'XGB_tree'\n",
    "        estimator_name = estimator_name + '_chi' + str(chi) + '_rep' + str(rep)\n",
    "        estimator = XGBClassifier()\n",
    "        hyperparams = {'subsample': 0.5, \n",
    "                       'n_estimators': 200, 'max_depth': 10,\n",
    "                       'learning_rate': 0.1, 'gamma': 1, \n",
    "                       'colsample_bytree': 0.5, 'alpha': 0.5}\n",
    "\n",
    "        # RANDOM Train test splitting\n",
    "        split_and_gs(library, library, estimator_name,\n",
    "                     X, y_rd, estimator, {},\n",
    "                     splitting='random', test_size=0.25, \n",
    "                     scaffold_series=None, verbose=False)"
   ]
  },
  {
   "cell_type": "code",
   "execution_count": null,
   "metadata": {
    "cell_style": "split",
    "scrolled": false
   },
   "outputs": [],
   "source": [
    "%%time\n",
    "\n",
    "from xgboost import XGBClassifier\n",
    "\n",
    "chi_values = [0, 0.1, 0.2, 0.3, 0.4, 0.5, 1]\n",
    "\n",
    "for chi in chi_values:\n",
    "    print('valor chi:', chi)\n",
    "    for rep in range(10):\n",
    "        print('rep', rep)\n",
    "        y_rd = randomize_y_labels(y, chi)\n",
    "\n",
    "        estimator_name = 'XGB_tree'\n",
    "        estimator_name = estimator_name + '_chi' + str(chi) + '_rep' + str(rep)\n",
    "        estimator = XGBClassifier()\n",
    "        hyperparams = {'subsample': 0.5, \n",
    "                       'n_estimators': 200, 'max_depth': 10,\n",
    "                       'learning_rate': 0.1, 'gamma': 1, \n",
    "                       'colsample_bytree': 0.5, 'alpha': 0.5}\n",
    "\n",
    "        # RANDOM Train test splitting\n",
    "        split_and_gs(library, library, estimator_name,\n",
    "                     X, y_rd, estimator, {},\n",
    "                     splitting='scaffold', test_size=0.25, \n",
    "                     scaffold_series=scaffold_series, verbose=False) "
   ]
  },
  {
   "cell_type": "markdown",
   "metadata": {},
   "source": [
    "<h3 style='color: #F84122; padding: 0px;; margin: 0px'>GS: Radial Basis Function SVM</h3>\n",
    "<b>Merged Libraries</b>"
   ]
  },
  {
   "cell_type": "code",
   "execution_count": null,
   "metadata": {
    "cell_style": "split",
    "scrolled": false
   },
   "outputs": [],
   "source": [
    "%%time\n",
    "from sklearn.svm import SVC\n",
    "chi_values = [0, 0.1, 0.2, 0.3, 0.4, 0.5, 1]\n",
    "\n",
    "for chi in chi_values:\n",
    "    print('valor chi:', chi)\n",
    "    for rep in range(10):\n",
    "        print('rep', rep)\n",
    "        y_rd = randomize_y_labels(y, chi)\n",
    "    \n",
    "        estimator_name = 'rbfSVC'\n",
    "        estimator_name = estimator_name + '_chi' + str(chi)\n",
    "        estimator = SVC(kernel = 'rbf', probability=True)\n",
    "        hyperparams = {'kernel': 'rbf', \n",
    "                       'probability': True, \n",
    "                       'C': 10.0, 'gamma': 0.01} \n",
    "\n",
    "        # RANDOM Train test splitting\n",
    "        split_and_gs(library, library, estimator_name,\n",
    "                     X, y_rd, estimator, {},\n",
    "                     splitting='random', test_size=0.25, \n",
    "                     scaffold_series=None, verbose=False)"
   ]
  },
  {
   "cell_type": "code",
   "execution_count": null,
   "metadata": {
    "cell_style": "split",
    "scrolled": false
   },
   "outputs": [],
   "source": [
    "%%time\n",
    "from sklearn.svm import SVC\n",
    "chi_values = [0, 0.1, 0.2, 0.3, 0.4, 0.5, 1]\n",
    "\n",
    "for chi in chi_values:\n",
    "    print('valor chi:', chi)\n",
    "    for rep in range(10):\n",
    "        print('rep', rep)\n",
    "        y_rd = randomize_y_labels(y, chi)\n",
    "    \n",
    "        estimator_name = 'rbfSVC'\n",
    "        estimator_name = estimator_name + '_chi' + str(chi)\n",
    "        estimator = SVC(kernel = 'rbf', probability=True)\n",
    "        hyperparams = {'kernel': 'rbf', \n",
    "                       'probability': True, \n",
    "                       'C': 10.0, 'gamma': 0.01} \n",
    "    \n",
    "        # SCAFFOLD Train test splitting\n",
    "        split_and_gs(library, library, estimator_name,\n",
    "                     X, y_rd, estimator, hyperparams,\n",
    "                     splitting='scaffold', test_size=0.25, \n",
    "                     scaffold_series=scaffold_series, verbose=False)"
   ]
  },
  {
   "cell_type": "markdown",
   "metadata": {},
   "source": [
    "***\n",
    "<h2 style='background-color: #F9E5AB; padding: 5px;'>\n",
    "    DEKOIS: Shuffle *y* target values in the train set\n",
    "</h2>\n",
    "<div style='background-color: #FE8460; min-height: 5px'></div>\n",
    "\n",
    "#### DEKOIS \n",
    "#### Target values (y) will be shuffled"
   ]
  },
  {
   "cell_type": "code",
   "execution_count": null,
   "metadata": {},
   "outputs": [],
   "source": [
    "library = 'DEKOIS'\n",
    "\n",
    "# Train and test over DUDU\n",
    "X = X_merged_dksc.loc[library]\n",
    "y = y_true_merged.loc[library]\n",
    "scaffold_series = df_scff_murcko['scff_generic'].loc[library]"
   ]
  },
  {
   "cell_type": "markdown",
   "metadata": {},
   "source": [
    "<h3 style='color: #F84122; padding: 0px;; margin: 0px'>GS: Logistic Regression</h3>\n",
    "<b>Merged Libraries</b>"
   ]
  },
  {
   "cell_type": "code",
   "execution_count": null,
   "metadata": {
    "cell_style": "split",
    "scrolled": false
   },
   "outputs": [],
   "source": [
    "%%time\n",
    "from sklearn.linear_model import LogisticRegression\n",
    "\n",
    "chi_values = [0, 0.1, 0.2, 0.3, 0.4, 0.5, 1]\n",
    "\n",
    "for chi in chi_values:\n",
    "    print('valor chi:', chi)\n",
    "    for rep in range(10):\n",
    "        print('rep', rep)\n",
    "        y_rd = randomize_y_labels(y, chi)\n",
    "\n",
    "        estimator_name = 'LogReg'\n",
    "        estimator_name = estimator_name + '_chi' + str(chi) + '_rep' + str(rep)\n",
    "        hyperparams = {'C': 1, \n",
    "                       'penalty': 'l1', \n",
    "                       'solver': 'liblinear', \n",
    "                       'max_iter': 150} \n",
    "        estimator = LogisticRegression(**hyperparams)\n",
    "        \n",
    "        # RANDOM Train test splitting\n",
    "        split_and_gs(library, library, estimator_name,\n",
    "                     X, y_rd, estimator, {},\n",
    "                     splitting='random', test_size=0.25, \n",
    "                     scaffold_series=None, verbose=False)"
   ]
  },
  {
   "cell_type": "code",
   "execution_count": null,
   "metadata": {
    "cell_style": "split",
    "scrolled": false
   },
   "outputs": [],
   "source": [
    "%%time\n",
    "from sklearn.linear_model import LogisticRegression\n",
    "\n",
    "chi_values = [0, 0.1, 0.2, 0.3, 0.4, 0.5, 1]\n",
    "\n",
    "for chi in chi_values:\n",
    "    print('valor chi:', chi)\n",
    "    for rep in range(10):\n",
    "        print('rep', rep)\n",
    "        y_rd = randomize_y_labels(y, chi)\n",
    "\n",
    "        estimator_name = 'LogReg'\n",
    "        estimator_name = estimator_name + '_chi' + str(chi) + '_rep' + str(rep)\n",
    "        hyperparams = {'C': 1.0, \n",
    "                       'penalty': 'l1', \n",
    "                       'solver': 'liblinear', \n",
    "                       'max_iter': 150}\n",
    "        estimator = LogisticRegression(**hyperparams)\n",
    "\n",
    "        # SCAFFOLD Train test splitting\n",
    "        split_and_gs(library, library, estimator_name,\n",
    "                     X, y_rd, estimator, {},\n",
    "                     splitting='scaffold', test_size=0.25, \n",
    "                     scaffold_series=scaffold_series, verbose=False)"
   ]
  },
  {
   "cell_type": "markdown",
   "metadata": {},
   "source": [
    "***\n",
    "<h2 style='background-color: #F9E5AB; padding: 5px;'>\n",
    "    DUD: Shuffle *y* target values in the train set\n",
    "</h2>\n",
    "<div style='background-color: #FE8460; min-height: 5px'></div>\n",
    "\n",
    "#### DUD \n",
    "#### Target values (y) will be shuffled"
   ]
  },
  {
   "cell_type": "code",
   "execution_count": null,
   "metadata": {},
   "outputs": [],
   "source": [
    "library = 'DUD'\n",
    "\n",
    "# Train and test over DUDU\n",
    "X = X_merged_dksc.loc[library]\n",
    "y = y_true_merged.loc[library]\n",
    "scaffold_series = df_scff_murcko['scff_generic'].loc[library]"
   ]
  },
  {
   "cell_type": "markdown",
   "metadata": {},
   "source": [
    "<h3 style='color: #F84122; padding: 0px;; margin: 0px'>GS: Logistic Regression</h3>\n",
    "<b>Merged Libraries</b>"
   ]
  },
  {
   "cell_type": "code",
   "execution_count": null,
   "metadata": {
    "cell_style": "split",
    "scrolled": false
   },
   "outputs": [],
   "source": [
    "%%time\n",
    "from sklearn.linear_model import LogisticRegression\n",
    "\n",
    "chi_values = [0, 0.1, 0.2, 0.3, 0.4, 0.5, 1]\n",
    "\n",
    "for chi in chi_values:\n",
    "    print('valor chi:', chi)\n",
    "    for rep in range(10):\n",
    "        print('rep', rep)\n",
    "        y_rd = randomize_y_labels(y, chi)\n",
    "\n",
    "        estimator_name = 'LogReg'\n",
    "        estimator_name = estimator_name + '_chi' + str(chi) + '_rep' + str(rep)\n",
    "        hyperparams = {'C': 1, \n",
    "                       'penalty': 'l1', \n",
    "                       'solver': 'liblinear', \n",
    "                       'max_iter': 150} \n",
    "        estimator = LogisticRegression(**hyperparams)\n",
    "        \n",
    "        # RANDOM Train test splitting\n",
    "        split_and_gs(library, library, estimator_name,\n",
    "                     X, y_rd, estimator, {},\n",
    "                     splitting='random', test_size=0.25, \n",
    "                     scaffold_series=None, verbose=False)"
   ]
  },
  {
   "cell_type": "code",
   "execution_count": null,
   "metadata": {
    "cell_style": "split",
    "scrolled": false
   },
   "outputs": [],
   "source": [
    "%%time\n",
    "from sklearn.linear_model import LogisticRegression\n",
    "\n",
    "chi_values = [0, 0.1, 0.2, 0.3, 0.4, 0.5, 1]\n",
    "\n",
    "for chi in chi_values:\n",
    "    print('valor chi:', chi)\n",
    "    for rep in range(10):\n",
    "        print('rep', rep)\n",
    "        y_rd = randomize_y_labels(y, chi)\n",
    "\n",
    "        estimator_name = 'LogReg'\n",
    "        estimator_name = estimator_name + '_chi' + str(chi) + '_rep' + str(rep)\n",
    "        hyperparams = {'C': 1.0, \n",
    "                       'penalty': 'l1', \n",
    "                       'solver': 'liblinear', \n",
    "                       'max_iter': 150}\n",
    "        estimator = LogisticRegression(**hyperparams)\n",
    "\n",
    "        # SCAFFOLD Train test splitting\n",
    "        split_and_gs(library, library, estimator_name,\n",
    "                     X, y_rd, estimator, {},\n",
    "                     splitting='scaffold', test_size=0.25, \n",
    "                     scaffold_series=scaffold_series, verbose=False)"
   ]
  },
  {
   "cell_type": "markdown",
   "metadata": {},
   "source": [
    "# Results"
   ]
  },
  {
   "cell_type": "code",
   "execution_count": null,
   "metadata": {},
   "outputs": [],
   "source": [
    "\n",
    "row_names = ['Train_set', 'Test_set', 'Model name', 'Split', \n",
    "             'N_actives_train', 'N_actives_test', 'N_mols_train', 'Num_mols_test',\n",
    "            'Mean-CV-ROC', 'ROC-AUC_train', 'ROC-AUC_test', 'best_params',\n",
    "            'DkS_max_ROC_train',  'DkSc_med_ROC_train', 'DkSc_mean_ROC_train', \n",
    "            'DkS_max_ROC_test',  'DkSc_med_ROC_test', 'DkSc_mean_ROC_test'\n",
    "            ]\n",
    "\n",
    "\n",
    "y_shuffled_ml_model_selecion = pd.DataFrame(results_dict, index = row_names).T\n",
    "y_shuffled_ml_model_selecion.to_pickle('df_y_shuffled_ml_model_selecion.pkl')"
   ]
  },
  {
   "cell_type": "code",
   "execution_count": null,
   "metadata": {},
   "outputs": [],
   "source": [
    "# y_shuffled_ml_model_selecion"
   ]
  },
  {
   "cell_type": "markdown",
   "metadata": {},
   "source": [
    "## Analysis"
   ]
  },
  {
   "cell_type": "code",
   "execution_count": null,
   "metadata": {},
   "outputs": [],
   "source": [
    "import pandas as pd\n",
    "import matplotlib.pyplot as plt\n",
    "import seaborn as sns\n",
    "sns.set(context='talk', style=None, font_scale=0.8)\n",
    "import warnings\n",
    "warnings.filterwarnings(\"ignore\")\n",
    "y_shuffled_ml_model_selecion = pd.read_pickle('./df_y_shuffled_ml_model_selecion.pkl')\n",
    "\n",
    "# Create a column to indicate the chi value\n",
    "df = y_shuffled_ml_model_selecion\n",
    "df['chi'] =  df['Model name'].str.split('_chi').str[1]\n",
    "df['Model name'] = df['Model name'].str.split('_').str[0]\n",
    "df = df.reset_index(drop=True)\n",
    "df.set_index(['Train_set', 'Test_set', 'Model name', 'Split'], inplace=True)\n",
    "df = df.sort_index(level=1, axis=1)"
   ]
  },
  {
   "cell_type": "code",
   "execution_count": null,
   "metadata": {},
   "outputs": [],
   "source": [
    "def plot_results(db, split):\n",
    "    for ml_clf in df.index.get_level_values(2).unique():\n",
    "        idx = (db, db, ml_clf, split)\n",
    "        roc_cols = ['Mean-CV-ROC', 'ROC-AUC_train', 'ROC-AUC_test']\n",
    "        try:\n",
    "            df.loc[idx].plot(x='chi', \n",
    "                             y=roc_cols, \n",
    "                             figsize=(10,6),\n",
    "                             ylim=(0.2, 1.01), \n",
    "                             title=db + '-' + split + '-' + ml_clf)\n",
    "            plt.xlabel('Randomized fraction')\n",
    "            plt.ylabel('ROC-AUC')\n",
    "            plt.grid(True)\n",
    "            plt.axhline(y=0.5, color='black', linestyle=':')\n",
    "        except: None"
   ]
  },
  {
   "cell_type": "code",
   "execution_count": null,
   "metadata": {},
   "outputs": [],
   "source": [
    "plot_results('Merged', 'random')"
   ]
  },
  {
   "cell_type": "code",
   "execution_count": null,
   "metadata": {},
   "outputs": [],
   "source": [
    "plot_results('Merged', 'scaffold')"
   ]
  },
  {
   "cell_type": "code",
   "execution_count": null,
   "metadata": {},
   "outputs": [],
   "source": [
    "plot_results('DUD', 'scaffold')"
   ]
  },
  {
   "cell_type": "code",
   "execution_count": null,
   "metadata": {},
   "outputs": [],
   "source": [
    "plot_results('DEKOIS', 'scaffold')"
   ]
  },
  {
   "cell_type": "code",
   "execution_count": null,
   "metadata": {},
   "outputs": [],
   "source": []
  }
 ],
 "metadata": {
  "kernelspec": {
   "display_name": "Python 3",
   "language": "python",
   "name": "python3"
  },
  "language_info": {
   "codemirror_mode": {
    "name": "ipython",
    "version": 3
   },
   "file_extension": ".py",
   "mimetype": "text/x-python",
   "name": "python",
   "nbconvert_exporter": "python",
   "pygments_lexer": "ipython3",
   "version": "3.7.6"
  }
 },
 "nbformat": 4,
 "nbformat_minor": 4
}
