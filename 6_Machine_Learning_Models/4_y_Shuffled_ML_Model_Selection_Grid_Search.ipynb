{
 "cells": [
  {
   "cell_type": "markdown",
   "metadata": {},
   "source": [
    "# CDK2: Model Selection - y values shuffled\n",
    "### Validation Method"
   ]
  },
  {
   "cell_type": "code",
   "execution_count": null,
   "metadata": {},
   "outputs": [],
   "source": [
    "import pandas as pd\n",
    "import numpy as np\n",
    "import glob, sys, os\n",
    "sys.path.append('..')"
   ]
  },
  {
   "cell_type": "code",
   "execution_count": null,
   "metadata": {},
   "outputs": [],
   "source": [
    "from modules.plotting_metrics import PlotMetric\n",
    "import matplotlib.pyplot as plt\n",
    "import seaborn as sns\n",
    "sns.set(style='white', context='talk', font_scale=0.8)"
   ]
  },
  {
   "cell_type": "code",
   "execution_count": null,
   "metadata": {
    "scrolled": true
   },
   "outputs": [],
   "source": [
    "file_name = './df_DkSc_results_COCRYS_DEKOIS_DUD.pkl'\n",
    "X_merged_dksc = pd.read_pickle(file_name)\n",
    "# Extract activity column\n",
    "y_true_merged = X_merged_dksc['activity']\n",
    "# Drop column from merged_dkksc\n",
    "X_merged_dksc = X_merged_dksc.drop('activity', axis=1)\n",
    "X_merged_dksc.shape\n",
    "y_true_merged.loc['DEKOIS'].sum()"
   ]
  },
  {
   "cell_type": "markdown",
   "metadata": {},
   "source": [
    "## Scaffold Splitting"
   ]
  },
  {
   "cell_type": "code",
   "execution_count": null,
   "metadata": {},
   "outputs": [],
   "source": [
    "#*************************************************\n",
    "# Functions to compute stratify scaffold splitting\n",
    "#*************************************************\n",
    "sys.path.append('../2_Docking_analysis/')\n",
    "from scaffold_splitter import train_test_scaffold_split"
   ]
  },
  {
   "cell_type": "code",
   "execution_count": null,
   "metadata": {},
   "outputs": [],
   "source": [
    "# Compute or load the dataframe containing the Generic Murcko Scaffolds\n",
    "file = '../2_Docking_analysis/df_COCRYS_DUD_DEKOIS_Murcko_Scaffolds_SMILES.obj'\n",
    "\n",
    "df_scff_murcko = pd.read_pickle(file)\n",
    "df_scff_murcko.shape"
   ]
  },
  {
   "cell_type": "code",
   "execution_count": null,
   "metadata": {},
   "outputs": [],
   "source": [
    "%run 4_Helper_Functions_Model_Selection_Grid_Search.ipynb"
   ]
  },
  {
   "cell_type": "markdown",
   "metadata": {},
   "source": [
    "#  Hyperparameter Tunning: Grid Search"
   ]
  },
  {
   "cell_type": "code",
   "execution_count": null,
   "metadata": {},
   "outputs": [],
   "source": [
    "def randomize_y_labels(y_target, random_chi=0.1):\n",
    "    '''Función para distribuir de forma aleatoria una fracción \n",
    "    chi del vector de etiquetas, de forma estratificada'''\n",
    "    \n",
    "    # Make a copy of the original vector\n",
    "    y_copy = y.copy()\n",
    "    \n",
    "    # Get the number of actives inside the y_target vector\n",
    "    n_actives = y_target.sum()\n",
    "    random_size = np.floor(random_chi * n_actives)\n",
    "    # Initialize the counters\n",
    "    act_count = random_size\n",
    "    inact_count = random_size\n",
    "    \n",
    "    # Create the randomized list of idexes\n",
    "    idx_shuffled = np.random.choice(range(len(y)), len(y), replace=False)\n",
    "    # iterate over idx_shuffled until act and inact counters == 0\n",
    "    for l in idx_shuffled:\n",
    "        if act_count > 0:\n",
    "            if y_copy[l] == 1: # Is active, then change it to inactive\n",
    "                y_copy[l] = 0\n",
    "                act_count = act_count - 1\n",
    "                continue\n",
    "            if inact_count > 0: # If is inactive, change it to active\n",
    "                y_copy[l] = 1\n",
    "                inact_count = inact_count - 1\n",
    "                continue\n",
    "        else:\n",
    "            break\n",
    "    return(y_copy)\n",
    "    "
   ]
  },
  {
   "cell_type": "markdown",
   "metadata": {},
   "source": [
    "***\n",
    "<h2 style='background-color: #F9E5AB; padding: 5px;'>\n",
    "    Merged libraries: Shuffle *y* target values in the train set\n",
    "</h2>\n",
    "<div style='background-color: #FE8460; min-height: 5px'></div>\n",
    "\n",
    "#### DEKOIS, DUD and COCRYS are  treated as one unique library\n",
    "#### Target values (y) will be shuffled"
   ]
  },
  {
   "cell_type": "code",
   "execution_count": null,
   "metadata": {},
   "outputs": [],
   "source": [
    "# Train and test over \n",
    "X = X_merged_dksc\n",
    "# ***** Permutate y values *****\n",
    "y = y_true_merged#.sample(frac=1, replace=False)\n",
    "\n",
    "library = 'Merged'\n",
    "scaffold_series = df_scff_murcko['scff_generic']\n",
    "\n",
    "# Create an empty dictionary to save results"
   ]
  },
  {
   "cell_type": "markdown",
   "metadata": {},
   "source": [
    "<h3 style='color: #F84122; padding: 0px;; margin: 0px'>GS: Logistic Regression</h3>\n",
    "<b>Merged Libraries</b>"
   ]
  },
  {
   "cell_type": "code",
   "execution_count": null,
   "metadata": {
    "cell_style": "split",
    "scrolled": false
   },
   "outputs": [],
   "source": [
    "%%time\n",
    "from sklearn.linear_model import LogisticRegression\n",
    "\n",
    "chi_values = [0, 0.1, 0.2, 0.3, 0.4, 0.5, 1]\n",
    "\n",
    "for chi in chi_values:\n",
    "    y_rd = randomize_y_labels(y, chi)\n",
    "    \n",
    "    print('*'*60, '\\n', 'Randomized y fraction (actives):', chi)\n",
    "    print('Number of actives/inactives shuffled:', chi*y.sum())\n",
    "    print('*'*60)\n",
    "\n",
    "    estimator_name = 'LogReg'\n",
    "    estimator_name = estimator_name + '_chi' + str(chi)\n",
    "    estimator = LogisticRegression(max_iter=300)\n",
    "    hyperparams = {'C':  np.geomspace(1e-8, 1e2, 6),\n",
    "                   'penalty': ['l1', 'l2'], \n",
    "                   'solver': ['lbfgs', 'liblinear']}\n",
    "\n",
    "    # RANDOM Train test splitting\n",
    "    split_and_gs(library, library, estimator_name,\n",
    "                 X, y_rd, estimator, hyperparams,\n",
    "                 splitting='random', test_size=0.25, \n",
    "                 scaffold_series=None)\n",
    "    \n",
    "    print('\\n')"
   ]
  },
  {
   "cell_type": "code",
   "execution_count": null,
   "metadata": {
    "cell_style": "split",
    "scrolled": false
   },
   "outputs": [],
   "source": [
    "%%time\n",
    "from sklearn.linear_model import LogisticRegression\n",
    "\n",
    "chi_values = [0, 0.1, 0.2, 0.3, 0.4, 0.5, 1]\n",
    "\n",
    "for chi in chi_values:\n",
    "    y_rd = randomize_y_labels(y, chi)\n",
    "    \n",
    "    print('*'*60, '\\n', 'Randomized y fraction (actives):', chi)\n",
    "    print('Number of actives/inactives shuffled:', chi*y.sum())\n",
    "    print('*'*60)\n",
    "\n",
    "    estimator_name = 'LogReg'\n",
    "    estimator_name = estimator_name + '_chi' + str(chi)\n",
    "    estimator = LogisticRegression(max_iter=300)\n",
    "    hyperparams = {'C':  np.geomspace(1e-8, 1e2, 6),\n",
    "                   'penalty': ['l1', 'l2'], \n",
    "                   'solver': ['lbfgs', 'liblinear']}\n",
    "\n",
    "    # SCAFFOLD Train test splitting\n",
    "    split_and_gs(library, library, estimator_name,\n",
    "                 X, y_rd, estimator, hyperparams,\n",
    "                 splitting='scaffold', test_size=0.25, \n",
    "                 scaffold_series=scaffold_series)"
   ]
  },
  {
   "cell_type": "markdown",
   "metadata": {},
   "source": [
    "<h3 style='color: #F84122; padding: 0px;; margin: 0px'>GS: X Gradient Boosting </h3>\n",
    "<b>Merged Libraries</b>"
   ]
  },
  {
   "cell_type": "code",
   "execution_count": null,
   "metadata": {
    "cell_style": "split"
   },
   "outputs": [],
   "source": [
    "%%time\n",
    "\n",
    "from xgboost import XGBClassifier\n",
    "\n",
    "chi_values = [0, 0.1, 0.2, 0.3, 0.4, 0.5, 1]\n",
    "\n",
    "for chi in chi_values:\n",
    "    y_rd = randomize_y_labels(y, chi)\n",
    "    \n",
    "    print('*'*80, '\\n', 'Randomized y fraction (actives):', chi)\n",
    "    print('Number of actives/inactives shuffled:', chi*y.sum())\n",
    "    print('*'*80)\n",
    "    \n",
    "    estimator_name = 'XGB_tree'\n",
    "    estimator_name = estimator_name + '_chi' + str(chi)\n",
    "    estimator = XGBClassifier()\n",
    "    hyperparams = {'n_estimators': [200, 300],\n",
    "                   'max_depth': [2, 3, 10, 20],\n",
    "                   'learning_rate': [0.05, 0.1],\n",
    "                   'gamma': [0.01, 0.1, 0.5, 1],\n",
    "                   'alpha': [0.01, 0.1, 0.5, 1],\n",
    "                   'subsample': [0.3, 0.5],\n",
    "                   'colsample_bytree': [0.3, 0.5, 1]\n",
    "                }\n",
    "\n",
    "    # RANDOM Train test splitting\n",
    "    split_and_gs(library, library, estimator_name,\n",
    "                 X, y_rd, estimator, hyperparams,\n",
    "                 splitting='random', test_size=0.25, \n",
    "                 scaffold_series=None,\n",
    "                 # RandomizedGS\n",
    "                 randomGS=True, n_iter=30)\n",
    "    \n",
    "    print('\\n')"
   ]
  },
  {
   "cell_type": "markdown",
   "metadata": {},
   "source": [
    "<h3 style='color: #F84122; padding: 0px;; margin: 0px'>GS: Radial Basis Function SVM</h3>\n",
    "<b>Merged Libraries</b>"
   ]
  },
  {
   "cell_type": "code",
   "execution_count": null,
   "metadata": {
    "cell_style": "split",
    "scrolled": false
   },
   "outputs": [],
   "source": [
    "%%time\n",
    "from sklearn.svm import SVC\n",
    "\n",
    "chi_values = [0, 0.1, 0.2, 0.3, 0.4, 0.5, 1]\n",
    "\n",
    "for chi in chi_values:\n",
    "    y_rd = randomize_y_labels(y, chi)\n",
    "    \n",
    "    estimator_name = 'rbfSVC'\n",
    "    estimator_name = estimator_name + '_chi' + str(chi)\n",
    "    estimator = SVC(kernel = 'rbf', probability=True)\n",
    "    hyperparams = {'C': [1]} #{'C': np.geomspace(1e0, 1e2, 3), 'gamma': np.geomspace(1e-4, 1e0, 3)}\n",
    "\n",
    "    \n",
    "    print('*'*80, '\\n', 'Randomized y fraction (actives):', chi)\n",
    "    print('Number of actives/inactives shuffled:', chi*y.sum())\n",
    "    print('*'*80)\n",
    "\n",
    "    # RANDOM Train test splitting\n",
    "    split_and_gs(library, library, estimator_name,\n",
    "                 X, y_rd, estimator, hyperparams,\n",
    "                 splitting='random', test_size=0.25, \n",
    "                 scaffold_series=None)\n",
    "    \n",
    "    print('\\n')"
   ]
  },
  {
   "cell_type": "code",
   "execution_count": null,
   "metadata": {
    "cell_style": "split",
    "scrolled": false
   },
   "outputs": [],
   "source": [
    "%%time\n",
    "\n",
    "for chi in chi_values:\n",
    "    y_rd = randomize_y_labels(y, chi)\n",
    "    \n",
    "    estimator_name = 'rbfSVC'\n",
    "    estimator_name = estimator_name + '_chi' + str(chi)\n",
    "    estimator = SVC(kernel = 'rbf', probability=True)\n",
    "    hyperparams = {'C': [1]} #{'C': np.geomspace(1e0, 1e2, 3), 'gamma': np.geomspace(1e-4, 1e0, 3)}\n",
    "    \n",
    "    print('*'*80, '\\n', 'Randomized y fraction (actives):', chi)\n",
    "    print('Number of actives/inactives shuffled:', chi*y.sum())\n",
    "    print('*'*80)\n",
    "    \n",
    "    # SCAFFOLD Train test splitting\n",
    "    split_and_gs(library, library, estimator_name,\n",
    "                 X, y_rd, estimator, hyperparams,\n",
    "                 splitting='scaffold', test_size=0.25, \n",
    "                 scaffold_series=scaffold_series)\n",
    "    \n",
    "    print('\\n')"
   ]
  },
  {
   "cell_type": "markdown",
   "metadata": {
    "cell_style": "center"
   },
   "source": [
    "<h3 style='color: #F84122; padding: 0px;; margin:ade0px'>GS: kNN Calssifier </h3>\n",
    "<b>Merged Libraries</b>"
   ]
  },
  {
   "cell_type": "code",
   "execution_count": null,
   "metadata": {
    "cell_style": "split",
    "scrolled": false
   },
   "outputs": [],
   "source": [
    "%%time\n",
    "from sklearn.neighbors import KNeighborsClassifier \n",
    "\n",
    "\n",
    "for chi in chi_values:\n",
    "    y_rd = randomize_y_labels(y, chi)\n",
    "    \n",
    "    estimator_name = '1-NN'\n",
    "    estimator_name = estimator_name + '_chi' + str(chi)\n",
    "    estimator = KNeighborsClassifier()\n",
    "    hyperparams = {'n_neighbors': [1], \n",
    "                   'p': [1, 2]\n",
    "                     }\n",
    "    \n",
    "    print('*'*80, '\\n', 'Randomized y fraction (actives):', chi)\n",
    "    print('Number of actives/inactives shuffled:', chi*y.sum())\n",
    "    print('*'*80)\n",
    "\n",
    "    # RANDOM Train test splitting\n",
    "    split_and_gs(library, library, estimator_name,\n",
    "                 X, y_rd, estimator, hyperparams,\n",
    "                 splitting='random', test_size=0.25, \n",
    "                 scaffold_series=None)\n",
    "    print('\\n')"
   ]
  },
  {
   "cell_type": "code",
   "execution_count": null,
   "metadata": {
    "cell_style": "split",
    "scrolled": false
   },
   "outputs": [],
   "source": [
    "%%time\n",
    "from sklearn.neighbors import KNeighborsClassifier \n",
    "\n",
    "\n",
    "for chi in chi_values:\n",
    "    y_rd = randomize_y_labels(y, chi)\n",
    "    \n",
    "    estimator_name = '1-NN'\n",
    "    estimator_name = estimator_name + '_chi' + str(chi)\n",
    "    estimator = KNeighborsClassifier()\n",
    "    hyperparams = {'n_neighbors': [1], \n",
    "                   'p': [1, 2]\n",
    "                     }\n",
    "    \n",
    "    print('*'*80, '\\n', 'Randomized y fraction (actives):', chi)\n",
    "    print('Number of actives/inactives shuffled:', chi*y.sum())\n",
    "    print('*'*80)\n",
    "\n",
    "    # RANDOM Train test splitting\n",
    "    split_and_gs(library, library, estimator_name,\n",
    "                 X, y_rd, estimator, hyperparams,\n",
    "                splitting='scaffold', test_size=0.25, \n",
    "                 scaffold_series=scaffold_series) \n",
    "    print('\\n')"
   ]
  },
  {
   "cell_type": "markdown",
   "metadata": {},
   "source": [
    "***\n",
    "<h2 style='background-color: #F9E5AB; padding: 5px;'>\n",
    "    DEKOIS: Shuffle *y* target values in the train set\n",
    "</h2>\n",
    "<div style='background-color: #FE8460; min-height: 5px'></div>\n",
    "\n",
    "#### DEKOIS \n",
    "#### Target values (y) will be shuffled"
   ]
  },
  {
   "cell_type": "code",
   "execution_count": null,
   "metadata": {},
   "outputs": [],
   "source": [
    "library = 'DEKOIS'\n",
    "\n",
    "# Train and test over DUDU\n",
    "X = X_merged_dksc.loc[library]\n",
    "y = y_true_merged.loc[library]\n",
    "scaffold_series = df_scff_murcko['scff_generic'].loc[library]"
   ]
  },
  {
   "cell_type": "markdown",
   "metadata": {},
   "source": [
    "<h3 style='color: #F84122; padding: 0px;; margin: 0px'>GS: Logistic Regression</h3>\n",
    "<b>Merged Libraries</b>"
   ]
  },
  {
   "cell_type": "code",
   "execution_count": null,
   "metadata": {
    "cell_style": "split",
    "scrolled": false
   },
   "outputs": [],
   "source": [
    "%%time\n",
    "from sklearn.linear_model import LogisticRegression\n",
    "\n",
    "chi_values = [0, 0.1, 0.2, 0.3, 0.4, 0.5, 1]\n",
    "\n",
    "for chi in chi_values:\n",
    "    y_rd = randomize_y_labels(y, chi)\n",
    "    \n",
    "    print('*'*80, '\\n', 'Randomized y fraction (actives):', chi)\n",
    "    print('Number of actives/inactives shuffled:', chi*y.sum())\n",
    "    print('*'*80)\n",
    "\n",
    "    estimator_name = 'LogReg'\n",
    "    estimator_name = estimator_name + '_chi' + str(chi)\n",
    "    estimator = LogisticRegression(max_iter=300)\n",
    "    hyperparams = {'C':  np.geomspace(1e-8, 1e2, 6),\n",
    "                   'penalty': ['l1', 'l2'], \n",
    "                   'solver': ['lbfgs', 'liblinear']}\n",
    "\n",
    "    # RANDOM Train test splitting\n",
    "    split_and_gs(library, library, estimator_name,\n",
    "                 X, y_rd, estimator, hyperparams,\n",
    "                 splitting='random', test_size=0.25, \n",
    "                 scaffold_series=None)\n",
    "    \n",
    "    print('\\n')"
   ]
  },
  {
   "cell_type": "code",
   "execution_count": null,
   "metadata": {
    "cell_style": "split",
    "scrolled": false
   },
   "outputs": [],
   "source": [
    "%%time\n",
    "from sklearn.linear_model import LogisticRegression\n",
    "\n",
    "chi_values = [0, 0.1, 0.2, 0.3, 0.4, 0.5, 1]\n",
    "\n",
    "for chi in chi_values:\n",
    "    y_rd = randomize_y_labels(y, chi)\n",
    "    \n",
    "    print('*'*80, '\\n', 'Randomized y fraction (actives):', chi)\n",
    "    print('Number of actives/inactives shuffled:', chi*y.sum())\n",
    "    print('*'*80)\n",
    "\n",
    "    estimator_name = 'LogReg'\n",
    "    estimator_name = estimator_name + '_chi' + str(chi)\n",
    "    estimator = LogisticRegression(max_iter=300)\n",
    "    hyperparams = {'C':  np.geomspace(1e-8, 1e2, 6),\n",
    "                   'penalty': ['l1', 'l2'], \n",
    "                   'solver': ['lbfgs', 'liblinear']}\n",
    "\n",
    "    # SCAFFOLD Train test splitting\n",
    "    split_and_gs(library, library, estimator_name,\n",
    "                 X, y_rd, estimator, hyperparams,\n",
    "                 splitting='scaffold', test_size=0.25, \n",
    "                 scaffold_series=scaffold_series)"
   ]
  },
  {
   "cell_type": "markdown",
   "metadata": {},
   "source": [
    "***\n",
    "<h2 style='background-color: #F9E5AB; padding: 5px;'>\n",
    "    DUD: Shuffle *y* target values in the train set\n",
    "</h2>\n",
    "<div style='background-color: #FE8460; min-height: 5px'></div>\n",
    "\n",
    "#### DUD \n",
    "#### Target values (y) will be shuffled"
   ]
  },
  {
   "cell_type": "code",
   "execution_count": null,
   "metadata": {},
   "outputs": [],
   "source": [
    "library = 'DUD'\n",
    "\n",
    "# Train and test over DUDU\n",
    "X = X_merged_dksc.loc[library]\n",
    "y = y_true_merged.loc[library]\n",
    "scaffold_series = df_scff_murcko['scff_generic'].loc[library]"
   ]
  },
  {
   "cell_type": "markdown",
   "metadata": {},
   "source": [
    "<h3 style='color: #F84122; padding: 0px;; margin: 0px'>GS: Logistic Regression</h3>\n",
    "<b>Merged Libraries</b>"
   ]
  },
  {
   "cell_type": "code",
   "execution_count": null,
   "metadata": {
    "cell_style": "split",
    "scrolled": false
   },
   "outputs": [],
   "source": [
    "%%time\n",
    "from sklearn.linear_model import LogisticRegression\n",
    "\n",
    "chi_values = [0, 0.1, 0.2, 0.3, 0.4, 0.5, 1]\n",
    "\n",
    "for chi in chi_values:\n",
    "    y_rd = randomize_y_labels(y, chi)\n",
    "    \n",
    "    print('*'*80, '\\n', 'Randomized y fraction (actives):', chi)\n",
    "    print('Number of actives/inactives shuffled:', chi*y.sum())\n",
    "    print('*'*80)\n",
    "\n",
    "    estimator_name = 'LogReg'\n",
    "    estimator_name = estimator_name + '_chi' + str(chi)\n",
    "    estimator = LogisticRegression(max_iter=300)\n",
    "    hyperparams = {'C':  np.geomspace(1e-8, 1e2, 6),\n",
    "                   'penalty': ['l1', 'l2'], \n",
    "                   'solver': ['lbfgs', 'liblinear']}\n",
    "\n",
    "    # RANDOM Train test splitting\n",
    "    split_and_gs(library, library, estimator_name,\n",
    "                 X, y_rd, estimator, hyperparams,\n",
    "                 splitting='random', test_size=0.25, \n",
    "                 scaffold_series=None)\n",
    "    \n",
    "    print('\\n')"
   ]
  },
  {
   "cell_type": "code",
   "execution_count": null,
   "metadata": {
    "cell_style": "split",
    "scrolled": false
   },
   "outputs": [],
   "source": [
    "%%time\n",
    "from sklearn.linear_model import LogisticRegression\n",
    "\n",
    "chi_values = [0, 0.1, 0.2, 0.3, 0.4, 0.5, 1]\n",
    "\n",
    "for chi in chi_values:\n",
    "    y_rd = randomize_y_labels(y, chi)\n",
    "    \n",
    "    print('*'*80, '\\n', 'Randomized y fraction (actives):', chi)\n",
    "    print('Number of actives/inactives shuffled:', chi*y.sum())\n",
    "    print('*'*80)\n",
    "\n",
    "    estimator_name = 'LogReg'\n",
    "    estimator_name = estimator_name + '_chi' + str(chi)\n",
    "    estimator = LogisticRegression(max_iter=300)\n",
    "    hyperparams = {'C':  np.geomspace(1e-8, 1e2, 6),\n",
    "                   'penalty': ['l1', 'l2'], \n",
    "                   'solver': ['lbfgs', 'liblinear']}\n",
    "\n",
    "    # SCAFFOLD Train test splitting\n",
    "    split_and_gs(library, library, estimator_name,\n",
    "                 X, y_rd, estimator, hyperparams,\n",
    "                 splitting='scaffold', test_size=0.25, \n",
    "                 scaffold_series=scaffold_series)"
   ]
  },
  {
   "cell_type": "markdown",
   "metadata": {},
   "source": [
    "***\n",
    "<h2 style='background-color: #F9E5AB; padding: 5px;'>\n",
    "    CSAR: Shuffle *y* target values in the train set\n",
    "</h2>\n",
    "<div style='background-color: #FE8460; min-height: 5px'></div>\n",
    "\n",
    "#### CSAR \n",
    "#### Target values (y) will be shuffled"
   ]
  },
  {
   "cell_type": "code",
   "execution_count": null,
   "metadata": {},
   "outputs": [],
   "source": [
    "library = 'CSAR'\n",
    "\n",
    "# Train and test over DUDU\n",
    "X = X_merged_dksc.loc[library]\n",
    "y = y_true_merged.loc[library]\n",
    "scaffold_series = df_scff_murcko['scff_generic'].loc[library]"
   ]
  },
  {
   "cell_type": "markdown",
   "metadata": {},
   "source": [
    "<h3 style='color: #F84122; padding: 0px;; margin: 0px'>GS: Logistic Regression</h3>\n",
    "<b>Merged Libraries</b>"
   ]
  },
  {
   "cell_type": "code",
   "execution_count": null,
   "metadata": {
    "cell_style": "split",
    "scrolled": false
   },
   "outputs": [],
   "source": [
    "%%time\n",
    "from sklearn.linear_model import LogisticRegression\n",
    "\n",
    "chi_values = [0, 0.1, 0.2, 0.3, 0.4, 0.5, 1]\n",
    "\n",
    "for chi in chi_values:\n",
    "    y_rd = randomize_y_labels(y, chi)\n",
    "    \n",
    "    print('*'*80, '\\n', 'Randomized y fraction (actives):', chi)\n",
    "    print('Number of actives/inactives shuffled:', chi*y.sum())\n",
    "    print('*'*80)\n",
    "\n",
    "    estimator_name = 'LogReg'\n",
    "    estimator_name = estimator_name + '_chi' + str(chi)\n",
    "    estimator = LogisticRegression(max_iter=300)\n",
    "    hyperparams = {'C':  np.geomspace(1e-8, 1e2, 6),\n",
    "                   'penalty': ['l1', 'l2'], \n",
    "                   'solver': ['lbfgs', 'liblinear']}\n",
    "\n",
    "    # RANDOM Train test splitting\n",
    "    split_and_gs(library, library, estimator_name,\n",
    "                 X, y_rd, estimator, hyperparams,\n",
    "                 splitting='random', test_size=0.25, \n",
    "                 scaffold_series=None)\n",
    "    \n",
    "    print('\\n')"
   ]
  },
  {
   "cell_type": "code",
   "execution_count": null,
   "metadata": {
    "cell_style": "split",
    "scrolled": false
   },
   "outputs": [],
   "source": [
    "%%time\n",
    "from sklearn.linear_model import LogisticRegression\n",
    "\n",
    "chi_values = [0, 0.1, 0.2, 0.3, 0.4, 0.5, 1]\n",
    "\n",
    "for chi in chi_values:\n",
    "    y_rd = randomize_y_labels(y, chi)\n",
    "    \n",
    "    print('*'*80, '\\n', 'Randomized y fraction (actives):', chi)\n",
    "    print('Number of actives/inactives shuffled:', chi*y.sum())\n",
    "    print('*'*80)\n",
    "\n",
    "    estimator_name = 'LogReg'\n",
    "    estimator_name = estimator_name + '_chi' + str(chi)\n",
    "    estimator = LogisticRegression(max_iter=300)\n",
    "    hyperparams = {'C':  np.geomspace(1e-8, 1e2, 6),\n",
    "                   'penalty': ['l1', 'l2'], \n",
    "                   'solver': ['lbfgs', 'liblinear']}\n",
    "\n",
    "    # SCAFFOLD Train test splitting\n",
    "    split_and_gs(library, library, estimator_name,\n",
    "                 X, y_rd, estimator, hyperparams,\n",
    "                 splitting='scaffold', test_size=0.25, \n",
    "                 scaffold_series=scaffold_series)"
   ]
  },
  {
   "cell_type": "markdown",
   "metadata": {},
   "source": [
    "# Results"
   ]
  },
  {
   "cell_type": "code",
   "execution_count": null,
   "metadata": {},
   "outputs": [],
   "source": [
    "\n",
    "row_names = ['Train_set', 'Test_set', 'Model name', 'Split', \n",
    "             'N_actives_train', 'N_actives_test', 'N_mols_train', 'Num_mols_test',\n",
    "            'Mean-CV-ROC', 'ROC-AUC_train', 'ROC-AUC_test', 'best_params',\n",
    "            'DkS_max_ROC_train',  'DkSc_med_ROC_train', 'DkSc_mean_ROC_train', \n",
    "            'DkS_max_ROC_test',  'DkSc_med_ROC_test', 'DkSc_mean_ROC_test'\n",
    "            ]\n",
    "\n",
    "pd.DataFrame(results_dict, index = row_names).T\n"
   ]
  },
  {
   "cell_type": "code",
   "execution_count": null,
   "metadata": {},
   "outputs": [],
   "source": []
  }
 ],
 "metadata": {
  "kernelspec": {
   "display_name": "Python 3",
   "language": "python",
   "name": "python3"
  },
  "language_info": {
   "codemirror_mode": {
    "name": "ipython",
    "version": 3
   },
   "file_extension": ".py",
   "mimetype": "text/x-python",
   "name": "python",
   "nbconvert_exporter": "python",
   "pygments_lexer": "ipython3",
   "version": "3.7.6"
  }
 },
 "nbformat": 4,
 "nbformat_minor": 4
}
