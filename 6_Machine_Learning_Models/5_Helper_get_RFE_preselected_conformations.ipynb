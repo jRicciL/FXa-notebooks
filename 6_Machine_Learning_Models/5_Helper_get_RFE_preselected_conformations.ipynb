{
 "cells": [
  {
   "cell_type": "markdown",
   "metadata": {},
   "source": [
    "# Get preselected conformations from RFE objects"
   ]
  },
  {
   "cell_type": "code",
   "execution_count": 1,
   "metadata": {},
   "outputs": [],
   "source": [
    "import pandas as pd\n",
    "import numpy as np\n",
    "import joblib\n",
    "import seaborn as sns\n",
    "import warnings\n",
    "warnings.filterwarnings('ignore')"
   ]
  },
  {
   "cell_type": "code",
   "execution_count": 2,
   "metadata": {},
   "outputs": [],
   "source": [
    "file_name = './df_DkSc_results_COCRYS_DEKOIS_DUD.pkl'\n",
    "X_merged_dksc = pd.read_pickle(file_name)\n",
    "# Extract activity column\n",
    "y_true_merged = X_merged_dksc['activity']\n",
    "# Drop column from merged_dkksc\n",
    "X_merged_dksc = X_merged_dksc.drop('activity', axis=1)"
   ]
  },
  {
   "cell_type": "code",
   "execution_count": 3,
   "metadata": {},
   "outputs": [],
   "source": [
    "# RFE Evaluation"
   ]
  },
  {
   "cell_type": "code",
   "execution_count": 4,
   "metadata": {},
   "outputs": [],
   "source": [
    "# Funtion to get the dataframe with selected k conformations using RFE\n",
    "def selected_confs_from_RFE(rfe_selector, X):\n",
    "    '''Returns a Data Frame with n rows (n = num of protein conformations) and one\n",
    "       column where each cell contains a list of k indices indicating the selected conformations.\n",
    "       Selected conformatios are obtained from an rfe_selector estimator and the X matrix.'''\n",
    "    # Get the features ranking\n",
    "    df_ranks = pd.DataFrame({'pdb_id': X.columns, 'rfe_ranking': rfe_selector.ranking_})\n",
    "    # Sort features by ranking\n",
    "    df_ranks.sort_values('rfe_ranking', inplace = True)\n",
    "    # Get the dataframe with the list of conf indices per k conformations\n",
    "    confs_per_k = [ df_ranks.index[:i + 1].tolist() for i in range(len(df_ranks))]\n",
    "    df_sel_confs = pd.DataFrame({'confs_idx_per_k': confs_per_k})\n",
    "    return df_sel_confs"
   ]
  },
  {
   "cell_type": "code",
   "execution_count": 5,
   "metadata": {},
   "outputs": [],
   "source": [
    "X = X_merged_dksc\n",
    "y = y_true_merged"
   ]
  },
  {
   "cell_type": "markdown",
   "metadata": {},
   "source": [
    "## Read the RFE Selectors"
   ]
  },
  {
   "cell_type": "code",
   "execution_count": 12,
   "metadata": {},
   "outputs": [],
   "source": [
    "# This dictionary is used for consensus scoring computation\n",
    "rfe_preselections = {}"
   ]
  },
  {
   "cell_type": "markdown",
   "metadata": {},
   "source": [
    "### Random Splitting"
   ]
  },
  {
   "cell_type": "code",
   "execution_count": 6,
   "metadata": {},
   "outputs": [],
   "source": [
    "# Open RFE_estimator\n",
    "dataset = 'MERGED'\n",
    "model_name = 'LogReg'\n",
    "split = 'random'\n",
    "filename = f'./ml_models/RFECV_selector_{model_name}_{dataset}_{split}_split.joblib'\n",
    "# RFE selector LogReg Random split\n",
    "rfe_selector_LR_rd = joblib.load(filename)\n",
    "\n",
    "#**************************\n",
    "# Get the features ranking\n",
    "df_sel_confs_RFE_LR_rd = selected_confs_from_RFE(rfe_selector_LR_rd, X)\n",
    "\n",
    "# Add the last row to dict\n",
    "key_name = ''.join([c for c in model_name if c.isupper()]) + '_rand'\n",
    "rfe_preselections[key_name] = df_sel_confs_RFE_LR_rd.iloc[-1].values[0]"
   ]
  },
  {
   "cell_type": "code",
   "execution_count": 7,
   "metadata": {},
   "outputs": [],
   "source": [
    "# Open RFE_estimator\n",
    "dataset = 'MERGED'\n",
    "model_name = 'RandomForest'\n",
    "split = 'random'\n",
    "filename = f'./ml_models/RFECV_selector_{model_name}_{dataset}_{split}_split.joblib'\n",
    "# RFE selector LogReg Random split\n",
    "rfe_selector_RF_rd = joblib.load(filename)\n",
    "\n",
    "#**************************\n",
    "# Get the features ranking\n",
    "df_sel_confs_RFE_RF_rd = selected_confs_from_RFE(rfe_selector_RF_rd, X)\n",
    "\n",
    "# Add the last row to dict\n",
    "key_name = ''.join([c for c in model_name if c.isupper()]) + '_rand'\n",
    "rfe_preselections[key_name] = df_sel_confs_RFE_RF_rd.iloc[-1].values[0]"
   ]
  },
  {
   "cell_type": "code",
   "execution_count": 8,
   "metadata": {},
   "outputs": [],
   "source": [
    "# Open RFE_estimator\n",
    "dataset = 'MERGED'\n",
    "model_name = 'XGB_tree'\n",
    "split = 'random'\n",
    "filename = f'./ml_models/RFECV_selector_{model_name}_{dataset}_{split}_split.joblib'\n",
    "# RFE selector LogReg Random split\n",
    "rfe_selector_XGB_rd = joblib.load(filename)\n",
    "\n",
    "#**************************\n",
    "# Get the features ranking\n",
    "df_sel_confs_RFE_XGB_rd = selected_confs_from_RFE(rfe_selector_XGB_rd, X)\n",
    "\n",
    "# Add the last row to dict\n",
    "key_name = ''.join([c for c in model_name if c.isupper()]) + '_rand'\n",
    "rfe_preselections[key_name] = df_sel_confs_RFE_XGB_rd.iloc[-1].values[0]"
   ]
  },
  {
   "cell_type": "markdown",
   "metadata": {},
   "source": [
    "### Scaffold Splitting"
   ]
  },
  {
   "cell_type": "code",
   "execution_count": 9,
   "metadata": {},
   "outputs": [],
   "source": [
    "# Open RFE_estimator\n",
    "dataset = 'MERGED'\n",
    "model_name = 'LogReg'\n",
    "split = 'scaffold'\n",
    "filename = f'./ml_models/RFECV_selector_{model_name}_{dataset}_{split}_split.joblib'\n",
    "# RFE selector LogReg Random split\n",
    "rfe_selector_LR_rd = joblib.load(filename)\n",
    "\n",
    "#**************************\n",
    "# Get the features ranking\n",
    "df_sel_confs_RFE_LR_scff = selected_confs_from_RFE(rfe_selector_LR_rd, X)\n",
    "\n",
    "# Add the last row to dict\n",
    "key_name = ''.join([c for c in model_name if c.isupper()]) + '_scff'\n",
    "rfe_preselections[key_name] = df_sel_confs_RFE_LR_scff.iloc[-1].values[0]"
   ]
  },
  {
   "cell_type": "code",
   "execution_count": 10,
   "metadata": {},
   "outputs": [],
   "source": [
    "# Open RFE_estimator\n",
    "dataset = 'MERGED'\n",
    "model_name = 'RandomForest'\n",
    "split = 'scaffold'\n",
    "filename = f'./ml_models/RFECV_selector_{model_name}_{dataset}_{split}_split.joblib'\n",
    "# RFE selector LogReg Random split\n",
    "rfe_selector_RF_rd = joblib.load(filename)\n",
    "\n",
    "#**************************\n",
    "# Get the features ranking\n",
    "df_sel_confs_RFE_RF_scff = selected_confs_from_RFE(rfe_selector_RF_rd, X)\n",
    "\n",
    "# Add the last row to dict\n",
    "key_name = ''.join([c for c in model_name if c.isupper()]) + '_scff'\n",
    "rfe_preselections[key_name] = df_sel_confs_RFE_RF_scff.iloc[-1].values[0]"
   ]
  },
  {
   "cell_type": "code",
   "execution_count": 11,
   "metadata": {},
   "outputs": [],
   "source": [
    "# Open RFE_estimator\n",
    "dataset = 'MERGED'\n",
    "model_name = 'XGB_tree'\n",
    "split = 'scaffold'\n",
    "filename = f'./ml_models/RFECV_selector_{model_name}_{dataset}_{split}_split.joblib'\n",
    "# RFE selector LogReg Random split\n",
    "rfe_selector_XGB_rd = joblib.load(filename)\n",
    "\n",
    "#**************************\n",
    "# Get the features ranking\n",
    "df_sel_confs_RFE_XGB_scff = selected_confs_from_RFE(rfe_selector_XGB_rd, X)\n",
    "\n",
    "# Add the last row to dict\n",
    "key_name = ''.join([c for c in model_name if c.isupper()]) + '_scff'\n",
    "rfe_preselections[key_name] = df_sel_confs_RFE_XGB_scff.iloc[-1].values[0]"
   ]
  },
  {
   "cell_type": "code",
   "execution_count": 13,
   "metadata": {
    "scrolled": true
   },
   "outputs": [],
   "source": [
    "# Consensus Scoting Functions"
   ]
  },
  {
   "cell_type": "code",
   "execution_count": null,
   "metadata": {},
   "outputs": [],
   "source": []
  }
 ],
 "metadata": {
  "kernelspec": {
   "display_name": "Python 3",
   "language": "python",
   "name": "python3"
  },
  "language_info": {
   "codemirror_mode": {
    "name": "ipython",
    "version": 3
   },
   "file_extension": ".py",
   "mimetype": "text/x-python",
   "name": "python",
   "nbconvert_exporter": "python",
   "pygments_lexer": "ipython3",
   "version": "3.7.6"
  }
 },
 "nbformat": 4,
 "nbformat_minor": 4
}
