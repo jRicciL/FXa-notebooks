{
 "cells": [
  {
   "cell_type": "markdown",
   "metadata": {},
   "source": [
    "# FXAvs CDK2: Model Selection"
   ]
  },
  {
   "cell_type": "code",
   "execution_count": 8,
   "metadata": {},
   "outputs": [],
   "source": [
    "import pandas as pd\n",
    "import numpy as np\n",
    "import glob, sys, os\n",
    "sys.path.append('..')"
   ]
  },
  {
   "cell_type": "code",
   "execution_count": 9,
   "metadata": {},
   "outputs": [],
   "source": [
    "from modules.plotting_metrics import PlotMetric\n",
    "import matplotlib.pyplot as plt\n",
    "import seaborn as sns\n",
    "sns.set(style='white', context='talk', font_scale=0.8)"
   ]
  },
  {
   "cell_type": "code",
   "execution_count": 10,
   "metadata": {},
   "outputs": [
    {
     "data": {
      "text/plain": [
       "(3420, 136)"
      ]
     },
     "execution_count": 10,
     "metadata": {},
     "output_type": "execute_result"
    }
   ],
   "source": [
    "file_name = './df_DkSc_resultsFXAvsCSARligs_COCRYS_CSAR_DEKOIS_DUD.pkl' # Created in 3_Calculating metrics...\n",
    "X_merged_dksc = pd.read_pickle(file_name)\n",
    "# Extract activity column\n",
    "y_true_merged = X_merged_dksc['activity']\n",
    "# Drop column from merged_dkksc\n",
    "X_merged_dksc = X_merged_dksc.drop('activity', axis=1)\n",
    "X_merged_dksc.shape\n"
   ]
  },
  {
   "cell_type": "code",
   "execution_count": 11,
   "metadata": {
    "scrolled": true
   },
   "outputs": [
    {
     "data": {
      "text/plain": [
       "array([1.e-08, 1.e-06, 1.e-04, 1.e-02, 1.e+00, 1.e+02, 1.e+04])"
      ]
     },
     "execution_count": 11,
     "metadata": {},
     "output_type": "execute_result"
    }
   ],
   "source": [
    "np.geomspace(1e-8, 1e4, 7)"
   ]
  },
  {
   "cell_type": "markdown",
   "metadata": {},
   "source": [
    "### Timeout Decorator"
   ]
  },
  {
   "cell_type": "code",
   "execution_count": 12,
   "metadata": {},
   "outputs": [],
   "source": [
    "import signal\n",
    "from functools import wraps\n",
    "\n",
    "def timeout(n_seconds=300):\n",
    "    '''Stops a function execution after n seconds'''\n",
    "    def decorator(func):\n",
    "        @wraps(func)\n",
    "        def wrapper(*args, **kwargs):\n",
    "            # Set alarm for n seconds\n",
    "            signal.alarm(n_seconds)\n",
    "            try:\n",
    "                # Call decorated func\n",
    "                return func(*args, **kwargs)\n",
    "#             except TimeoutError as e:\n",
    "                print(f'Execution finished after {n_seconds}:', e)\n",
    "            finally:\n",
    "                # Cancel Alarm\n",
    "                signal.alarm(0)\n",
    "        return wrapper\n",
    "    return decorator"
   ]
  },
  {
   "cell_type": "markdown",
   "metadata": {},
   "source": [
    "## Scaffold Splitting"
   ]
  },
  {
   "cell_type": "code",
   "execution_count": 13,
   "metadata": {},
   "outputs": [],
   "source": [
    "#*************************************************\n",
    "# Functions to compute stratify scaffold splitting\n",
    "#*************************************************\n",
    "sys.path.append('../2_Docking_analysis/')\n",
    "from scaffold_splitter import train_test_scaffold_split"
   ]
  },
  {
   "cell_type": "code",
   "execution_count": 14,
   "metadata": {},
   "outputs": [
    {
     "data": {
      "text/plain": [
       "(3466, 3)"
      ]
     },
     "execution_count": 14,
     "metadata": {},
     "output_type": "execute_result"
    }
   ],
   "source": [
    "# Compute or load the dataframe containing the Generic Murcko Scaffolds\n",
    "file = '../../../CDK2/ANALISIS/2_Docking_analysis/df_COCRYS_CSAR_DUD_DEKOIS_Murcko_Scaffolds_SMILES.obj'\n",
    "\n",
    "df_scff_murcko = pd.read_pickle(file)\n",
    "df_scff_murcko.shape"
   ]
  },
  {
   "cell_type": "markdown",
   "metadata": {},
   "source": [
    "## Train/test on the same dataset "
   ]
  },
  {
   "cell_type": "markdown",
   "metadata": {},
   "source": [
    "### Learning Curves"
   ]
  },
  {
   "cell_type": "code",
   "execution_count": 15,
   "metadata": {},
   "outputs": [],
   "source": [
    "from sklearn.model_selection import GridSearchCV, RandomizedSearchCV, train_test_split, cross_val_score\n",
    "from sklearn.preprocessing import StandardScaler\n",
    "from sklearn.metrics import roc_auc_score\n",
    "from sklearn.pipeline import Pipeline\n",
    "from sklearn.model_selection import learning_curve"
   ]
  },
  {
   "cell_type": "code",
   "execution_count": 16,
   "metadata": {},
   "outputs": [],
   "source": [
    "def plot_learning_curves(estimator, X, y, title, ylim=[0.5,1], axes=None,\n",
    "                         cv=3, train_sizes=np.linspace(0.1, 1.0, 10), \n",
    "                         scoring='roc_auc', n_jobs=4):\n",
    "    '''\n",
    "    Plot estimator performance on the training and validation\n",
    "    sets as a function of the training set size.\n",
    "\n",
    "    Parameters\n",
    "    ----------\n",
    "    estimator: sklearn estimator object type\n",
    "       Object type that implements the \"fit\" and \"predict method\"\n",
    "\n",
    "    X: array-like, shape (m_samples, n_features)\n",
    "        Training array with m_samples and n_features.\n",
    "    y: array-like, shape (m_samples)\n",
    "        Target array relative to X with m labels.\n",
    "    axes: array of 3 axes\n",
    "        matplotlib axes array to append the generated plot\n",
    "    ylim: array\n",
    "       \n",
    "    '''\n",
    "    if axes == None:\n",
    "        _, axes = plt.subplots(1, 1, figsize=(5, 5))\n",
    "        \n",
    "    axes.set(title=title, ylim=ylim, xlabel='Training examples', ylabel=f'Metric: {scoring}')\n",
    "    # Use learning_curve function from sklearn\n",
    "    train_sizes, train_scores, test_scores, fit_times, _ = \\\n",
    "       learning_curve(estimator, X, y, scoring=scoring, return_times = True,\n",
    "                      cv=cv, n_jobs=n_jobs, train_sizes=train_sizes)\n",
    "    # Compute useful metrics\n",
    "    train_scores_mean = np.mean(train_scores, axis=1)\n",
    "    train_scores_std = np.std(train_scores, axis=1)\n",
    "    test_scores_mean = np.mean(test_scores, axis=1)\n",
    "    test_scores_std = np.std(test_scores, axis=1)\n",
    "#     fit_times_mean = np.mean(fit_times, axis=1)\n",
    "#     fit_times_std = np.std(fit_times, axis=1)\n",
    "    # Plot the learning curve\n",
    "    axes.grid()\n",
    "    axes.fill_between(train_sizes, train_scores_mean - train_scores_std,\n",
    "                        train_scores_mean + train_scores_std, alpha=0.1, color='r')\n",
    "    axes.fill_between(train_sizes, test_scores_mean - test_scores_std,\n",
    "                        test_scores_mean + test_scores_std, alpha=0.1, color='g')\n",
    "    axes.plot(train_sizes, train_scores_mean, 'o-', color='r',\n",
    "                label='Train score')\n",
    "    axes.plot(train_sizes, test_scores_mean, 'o-', color='g',\n",
    "                label='Cross-validation score')\n",
    "    axes.legend(loc='lower right')\n",
    "    "
   ]
  },
  {
   "cell_type": "markdown",
   "metadata": {},
   "source": [
    "### Hyperparameters tunning: Grid Search"
   ]
  },
  {
   "cell_type": "code",
   "execution_count": 17,
   "metadata": {},
   "outputs": [],
   "source": [
    "def run_grid_search(estimator, X_train, y_train, X_test, y_test, hyperparams,  cv_value=5, \n",
    "                    scoring='roc_auc', splitting='random', std_scale=False,\n",
    "                   randomGS = False, n_iter=10):\n",
    "    # Format the hyperparms\n",
    "    hyperparams_dict = {'estimator__' + key: val for key, val in hyperparams.items()}\n",
    "    \n",
    "    if std_scale:\n",
    "        # Create the Pipe\n",
    "        scaler = StandardScaler()\n",
    "        pipe = Pipeline([('scaler', scaler),\n",
    "                         ('estimator', estimator)])\n",
    "    else:\n",
    "        pipe = estimator\n",
    "    \n",
    "    # Do Grid Search\n",
    "    if randomGS:\n",
    "        gs = RandomizedSearchCV(estimator = pipe,  param_distributions = hyperparams,\n",
    "                     cv = cv_value, scoring = scoring, n_jobs = 6, refit = True, n_iter=n_iter)\n",
    "    else:\n",
    "        gs = GridSearchCV(estimator = pipe, param_grid = hyperparams,\n",
    "                     cv = cv_value, scoring = scoring, n_jobs = 6, refit = True)\n",
    "    # Train the model\n",
    "    gs.fit(X_train, y_train) \n",
    "\n",
    "    # Predictions\n",
    "    y_train_predict = gs.predict_proba(X_train)\n",
    "    y_test_predict = gs.predict_proba(X_test)\n",
    "    \n",
    "    # Values to return\n",
    "    n_train_mols    = y_train.shape[0]\n",
    "    n_train_actives = y_train.sum()\n",
    "    n_test_mols     = y_test.shape[0]\n",
    "    n_test_actives  = y_test.sum()\n",
    "    mean_cv_roc     = gs.best_score_\n",
    "    train_roc       = roc_auc_score(y_train, y_train_predict[:, 1])\n",
    "    test_roc        = roc_auc_score(y_test, y_test_predict[:, 1])\n",
    "    best_params     = gs.best_params_\n",
    "\n",
    "    # Print some values\n",
    "    print(f'No. of molecules in train set: {n_train_mols}, with {n_train_actives} actives.')\n",
    "    print(f'No. of molecules in test set: {n_test_mols}, with {n_test_actives} actives.')\n",
    "    print('')\n",
    "    print('*'*10, 'GRID SEARCH RESULTS', '*'*10)\n",
    "    print('- Mean CV ROC-AUC:\\t{:.3f}'.format(mean_cv_roc))\n",
    "    print('- Train ROC-AUC:  \\t{:.3f}'.format(train_roc))\n",
    "    print('- Test ROC-AUC:   \\t{:.3f}'.format(test_roc))\n",
    "    print('- Best hyperparameters', best_params)\n",
    "    print('**'*21)\n",
    "    print('')\n",
    "    \n",
    "    return [n_train_mols, n_train_actives, n_test_mols, n_test_actives,\n",
    "            mean_cv_roc, train_roc, test_roc, best_params]"
   ]
  },
  {
   "cell_type": "code",
   "execution_count": 62,
   "metadata": {},
   "outputs": [],
   "source": [
    "def gs_cv(estimator, X_train, y_train,hyperparams,  cv_value=5, \n",
    "                    scoring='roc_auc', splitting='random', std_scale=True,\n",
    "                   randomGS = False, n_iter=10):\n",
    "    # Format the hyperparms\n",
    "    \n",
    "    if std_scale:\n",
    "        # Create the Pipe\n",
    "        hyperparams_dict = {'estimator__' + key: val for key, val in hyperparams.items()}\n",
    "        scaler = StandardScaler()\n",
    "        pipe = Pipeline([('scaler', scaler),\n",
    "                         ('estimator', estimator)])\n",
    "    else:\n",
    "        pipe = estimator\n",
    "    \n",
    "    # Do Grid Search\n",
    "    if randomGS:\n",
    "        gs = RandomizedSearchCV(estimator = pipe,  param_distributions = hyperparams_dict,\n",
    "                     cv = cv_value, scoring = scoring, n_jobs = 6, refit = True, n_iter=n_iter)\n",
    "    else:\n",
    "        gs = GridSearchCV(estimator = pipe, param_grid = hyperparams_dict,\n",
    "                     cv = cv_value, scoring = scoring, n_jobs = 6, refit = True)\n",
    "    # Train the model\n",
    "    gs.fit(X_train, y_train) \n",
    "    y_train_predict = gs.predict_proba(X_train)\n",
    "\n",
    "\n",
    "    # Values to return\n",
    "    n_train_mols    = y_train.shape[0]\n",
    "    n_train_actives = y_train.sum()\n",
    "\n",
    "    mean_cv_roc     = gs.best_score_\n",
    "    train_roc       = roc_auc_score(y_train, y_train_predict[:, 1])\n",
    "    \n",
    "    best_params     = gs.best_params_\n",
    "\n",
    "    # Print some values\n",
    "    print(f'No. of molecules in train set: {n_train_mols}, with {n_train_actives} actives.')\n",
    "    #print(f'No. of molecules in test set: {n_test_mols}, with {n_test_actives} actives.')\n",
    "    print('')\n",
    "    print('*'*10, 'GRID SEARCH RESULTS', '*'*10)\n",
    "    print('- Mean CV ROC-AUC:\\t{:.3f}'.format(mean_cv_roc))\n",
    "    print('- Train ROC-AUC:  \\t{:.3f}'.format(train_roc))\n",
    "    #print('- Test ROC-AUC:   \\t{:.3f}'.format(test_roc))\n",
    "    print('- Best hyperparameters', best_params)\n",
    "    print('**'*21)\n",
    "    print('')\n",
    "    \n",
    "    return gs "
   ]
  },
  {
   "cell_type": "markdown",
   "metadata": {},
   "source": [
    "### Function to report the Best Conformation's ROC-AUC for a given subset of samples"
   ]
  },
  {
   "cell_type": "code",
   "execution_count": 18,
   "metadata": {},
   "outputs": [],
   "source": [
    "#************************************************************************\n",
    "# Returns the best conformatio's ROC-AUC value of a given subset X and y\n",
    "#************************************************************************\n",
    "\n",
    "def get_roc_auc_DkSc(X_train, y_train, X_test, y_test, verbose=True):\n",
    "    roc_auc_train = X_train.apply(\n",
    "        lambda x: roc_auc_score(y_true= y_train, y_score= -x), axis=0)\n",
    "    roc_auc_test = X_test.apply(\n",
    "        lambda x: roc_auc_score(y_true= y_test, y_score= -x), axis=0)\n",
    "    # Values to return\n",
    "    train_best_roc = roc_auc_train.max()\n",
    "    train_median   = roc_auc_train.median()\n",
    "    train_mean     = roc_auc_train.mean()\n",
    "    test_best_roc = roc_auc_test.max()\n",
    "    test_median   = roc_auc_test.median()\n",
    "    test_mean     = roc_auc_test.mean()\n",
    "    \n",
    "    if verbose:\n",
    "        print(\"***** Best Conformation's ROC-AUC using docking scores *****\")\n",
    "        \n",
    "        print(\"> Train best conf. ROC-AUC: {:.3f}\".format(train_best_roc) +\n",
    "              \" \\t> median: {:.3f}\".format(train_median) +\n",
    "              ', mean: {:.3f}'.format(train_mean))\n",
    "        \n",
    "        print(\"> Test best conf. ROC-AUC: {:.3f}\".format(test_best_roc) +\n",
    "              \" \\t> median: {:.3f}\".format(test_median) +\n",
    "              ', mean: {:.3f}'.format(test_mean))\n",
    "        print('**'*32)\n",
    "    # return a list of results to capture by the  wrapper function\n",
    "    return [train_best_roc, train_median, train_mean,\n",
    "            test_best_roc, test_median, test_mean]\n",
    "        "
   ]
  },
  {
   "cell_type": "code",
   "execution_count": null,
   "metadata": {},
   "outputs": [],
   "source": []
  },
  {
   "cell_type": "code",
   "execution_count": 32,
   "metadata": {},
   "outputs": [],
   "source": [
    "#******************************************\n",
    "# Decorator functions to capture GS results\n",
    "#******************************************\n",
    "from functools import wraps\n",
    "\n",
    "def capture_GS_results(results_dict=None, capture=True):\n",
    "    def decorator(func):\n",
    "        @wraps(func)\n",
    "        def wrapper(*args, **kwargs):\n",
    "            if results_dict != None and capture:\n",
    "                results = func(*args, **kwargs)\n",
    "                # Create a key with the first four values\n",
    "                key = '_'.join(results[:4])\n",
    "                # Append results to the results dictionary\n",
    "                results_dict[key] = results\n",
    "            else:\n",
    "                return func(*args, **kwargs)\n",
    "        return wrapper\n",
    "    return decorator\n",
    "            \n",
    "#******************************************************\n",
    "# Dictionary to capture GS results using the decorator \n",
    "#******************************************************\n",
    "results_dict = {}\n",
    "\n",
    "#******************************************************\n",
    "# Function to Split and run Grid Search\n",
    "#******************************************************\n",
    "@capture_GS_results(results_dict)\n",
    "def split_and_gs(train_name, test_name, estimator_name,\n",
    "                 X, y, estimator, hyperparams, splitting='random', \n",
    "                 test_size=0.25, scaffold_series=None, random_state=None, **kwargs):\n",
    "    '''Given a X and y sets, a sklean estimator and an splitting method, \n",
    "    performs Grid Search CV using the parsed hyperparams'''\n",
    "    #**************\n",
    "    # Do the split\n",
    "    #**************\n",
    "    if splitting == 'scaffold':\n",
    "        X_train, X_test, y_train, y_test = \\\n",
    "            train_test_scaffold_split(X, y, scaffold_series = scaffold_series,\n",
    "                test_size=test_size, stratify=y)\n",
    "    elif splitting == 'random':\n",
    "        X_train, X_test, y_train, y_test = \\\n",
    "            train_test_split(X, y, test_size=test_size, stratify=y, random_state=random_state)\n",
    "        \n",
    "    # Verbose\n",
    "    print(f'{estimator_name} => Train: {train_name}; Test: {test_name}; split: {splitting}')\n",
    "    \n",
    "    # Function to run Grid Search\n",
    "    #----------------------------\n",
    "    gs_results = run_grid_search(estimator, \n",
    "                    X_train, y_train, X_test, y_test, \n",
    "                    hyperparams = hyperparams,  **kwargs)\n",
    "\n",
    "    # Function to extract ROC results from DkSc values \n",
    "    #-------------------------------------------------\n",
    "    dksc_results = get_roc_auc_DkSc(X_train, y_train, X_test, y_test)\n",
    "    \n",
    "    # Return both list of results to captured by the decorador function\n",
    "    return [train_name, test_name, estimator_name, splitting] + gs_results + dksc_results"
   ]
  },
  {
   "cell_type": "code",
   "execution_count": 13,
   "metadata": {},
   "outputs": [
    {
     "data": {
      "text/plain": [
       "{}"
      ]
     },
     "execution_count": 13,
     "metadata": {},
     "output_type": "execute_result"
    }
   ],
   "source": [
    "results_dict"
   ]
  },
  {
   "cell_type": "markdown",
   "metadata": {},
   "source": [
    "#  Hyperparameter Tunning: Grid Search\n",
    "<h2 style='background-color: #F9E5AB; padding: 5px;'>\n",
    "    Train-Test with DEKOIS Library\n",
    "</h2>\n",
    "<div style='background-color: #FE8460; min-height: 5px'></div>"
   ]
  },
  {
   "cell_type": "code",
   "execution_count": 20,
   "metadata": {},
   "outputs": [],
   "source": [
    "#### library = 'DEKOIS'\n",
    "library = 'DEKOIS'\n",
    "\n",
    "# Train and test over DEKOIS\n",
    "X = X_merged_dksc.loc[library]\n",
    "y = y_true_merged.loc[library]\n",
    "scaffold_series = df_scff_murcko['scff_generic'].loc[library]"
   ]
  },
  {
   "cell_type": "markdown",
   "metadata": {
    "cell_style": "center"
   },
   "source": [
    "<h3 style='color: #F84122; padding: 0px;; margin: 0px'>GS: Linear SVM </h3>\n",
    "<b>DEKOIS  - Random and Stratified Scaffold Splitting</b>"
   ]
  },
  {
   "cell_type": "code",
   "execution_count": 21,
   "metadata": {
    "cell_style": "split"
   },
   "outputs": [
    {
     "name": "stdout",
     "output_type": "stream",
     "text": [
      "LinearSVC => Train: DEKOIS; Test: DEKOIS; split: random\n",
      "No. of molecules in train set: 929, with 30.0 actives.\n",
      "No. of molecules in test set: 310, with 10.0 actives.\n",
      "\n",
      "********** GRID SEARCH RESULTS **********\n",
      "- Mean CV ROC-AUC:\t0.692\n",
      "- Train ROC-AUC:  \t0.889\n",
      "- Test ROC-AUC:   \t0.601\n",
      "- Best hyperparameters {'C': 0.0001}\n",
      "******************************************\n",
      "\n",
      "***** Best Conformation's ROC-AUC using docking scores *****\n",
      "> Train best conf. ROC-AUC: 0.677 \t> median: 0.575, mean: 0.575\n",
      "> Test best conf. ROC-AUC: 0.852 \t> median: 0.729, mean: 0.725\n",
      "****************************************************************\n",
      "CPU times: user 828 ms, sys: 114 ms, total: 942 ms\n",
      "Wall time: 2.95 s\n"
     ]
    }
   ],
   "source": [
    "%%time\n",
    "from sklearn.svm import SVC\n",
    "\n",
    "estimator_name = 'LinearSVC'\n",
    "estimator = SVC(kernel = 'linear', probability=True)\n",
    "hyperparams = {'C': np.geomspace(1e-8, 1e2, 6)}\n",
    "\n",
    "# RANDOM Train test splitting\n",
    "split_and_gs(library, library, estimator_name,\n",
    "             X, y, estimator, hyperparams, \n",
    "             splitting='random', test_size=0.25, \n",
    "             scaffold_series=None)"
   ]
  },
  {
   "cell_type": "code",
   "execution_count": 25,
   "metadata": {
    "cell_style": "split"
   },
   "outputs": [
    {
     "ename": "ValueError",
     "evalue": "Lengths must match to compare",
     "output_type": "error",
     "traceback": [
      "\u001b[0;31m---------------------------------------------------------------------------\u001b[0m",
      "\u001b[0;31mValueError\u001b[0m                                Traceback (most recent call last)",
      "\u001b[0;32m<timed exec>\u001b[0m in \u001b[0;36m<module>\u001b[0;34m\u001b[0m\n",
      "\u001b[0;32m<ipython-input-19-4caa2332f3ec>\u001b[0m in \u001b[0;36mwrapper\u001b[0;34m(*args, **kwargs)\u001b[0m\n\u001b[1;32m      9\u001b[0m         \u001b[0;32mdef\u001b[0m \u001b[0mwrapper\u001b[0m\u001b[0;34m(\u001b[0m\u001b[0;34m*\u001b[0m\u001b[0margs\u001b[0m\u001b[0;34m,\u001b[0m \u001b[0;34m**\u001b[0m\u001b[0mkwargs\u001b[0m\u001b[0;34m)\u001b[0m\u001b[0;34m:\u001b[0m\u001b[0;34m\u001b[0m\u001b[0;34m\u001b[0m\u001b[0m\n\u001b[1;32m     10\u001b[0m             \u001b[0;32mif\u001b[0m \u001b[0mresults_dict\u001b[0m \u001b[0;34m!=\u001b[0m \u001b[0;32mNone\u001b[0m \u001b[0;32mand\u001b[0m \u001b[0mcapture\u001b[0m\u001b[0;34m:\u001b[0m\u001b[0;34m\u001b[0m\u001b[0;34m\u001b[0m\u001b[0m\n\u001b[0;32m---> 11\u001b[0;31m                 \u001b[0mresults\u001b[0m \u001b[0;34m=\u001b[0m \u001b[0mfunc\u001b[0m\u001b[0;34m(\u001b[0m\u001b[0;34m*\u001b[0m\u001b[0margs\u001b[0m\u001b[0;34m,\u001b[0m \u001b[0;34m**\u001b[0m\u001b[0mkwargs\u001b[0m\u001b[0;34m)\u001b[0m\u001b[0;34m\u001b[0m\u001b[0;34m\u001b[0m\u001b[0m\n\u001b[0m\u001b[1;32m     12\u001b[0m                 \u001b[0;31m# Create a key with the first four values\u001b[0m\u001b[0;34m\u001b[0m\u001b[0;34m\u001b[0m\u001b[0;34m\u001b[0m\u001b[0m\n\u001b[1;32m     13\u001b[0m                 \u001b[0mkey\u001b[0m \u001b[0;34m=\u001b[0m \u001b[0;34m'_'\u001b[0m\u001b[0;34m.\u001b[0m\u001b[0mjoin\u001b[0m\u001b[0;34m(\u001b[0m\u001b[0mresults\u001b[0m\u001b[0;34m[\u001b[0m\u001b[0;34m:\u001b[0m\u001b[0;36m4\u001b[0m\u001b[0;34m]\u001b[0m\u001b[0;34m)\u001b[0m\u001b[0;34m\u001b[0m\u001b[0;34m\u001b[0m\u001b[0m\n",
      "\u001b[0;32m<ipython-input-19-4caa2332f3ec>\u001b[0m in \u001b[0;36msplit_and_gs\u001b[0;34m(train_name, test_name, estimator_name, X, y, estimator, hyperparams, splitting, test_size, scaffold_series, **kwargs)\u001b[0m\n\u001b[1;32m     39\u001b[0m         \u001b[0mX_train\u001b[0m\u001b[0;34m,\u001b[0m \u001b[0mX_test\u001b[0m\u001b[0;34m,\u001b[0m \u001b[0my_train\u001b[0m\u001b[0;34m,\u001b[0m \u001b[0my_test\u001b[0m \u001b[0;34m=\u001b[0m\u001b[0;31m \u001b[0m\u001b[0;31m\\\u001b[0m\u001b[0;34m\u001b[0m\u001b[0;34m\u001b[0m\u001b[0m\n\u001b[1;32m     40\u001b[0m             train_test_scaffold_split(X, y, scaffold_series = scaffold_series,\n\u001b[0;32m---> 41\u001b[0;31m                 test_size=test_size, stratify=y)\n\u001b[0m\u001b[1;32m     42\u001b[0m     \u001b[0;32melif\u001b[0m \u001b[0msplitting\u001b[0m \u001b[0;34m==\u001b[0m \u001b[0;34m'random'\u001b[0m\u001b[0;34m:\u001b[0m\u001b[0;34m\u001b[0m\u001b[0;34m\u001b[0m\u001b[0m\n\u001b[1;32m     43\u001b[0m         \u001b[0mX_train\u001b[0m\u001b[0;34m,\u001b[0m \u001b[0mX_test\u001b[0m\u001b[0;34m,\u001b[0m \u001b[0my_train\u001b[0m\u001b[0;34m,\u001b[0m \u001b[0my_test\u001b[0m \u001b[0;34m=\u001b[0m\u001b[0;31m \u001b[0m\u001b[0;31m\\\u001b[0m\u001b[0;34m\u001b[0m\u001b[0;34m\u001b[0m\u001b[0m\n",
      "\u001b[0;32m~/Documentos/Doctorado/DOCTO_TESIS/Proteinas_Modelo/CDK2/FXa/ANALISIS/2_Docking_analysis/scaffold_splitter.py\u001b[0m in \u001b[0;36mtrain_test_scaffold_split\u001b[0;34m(X, y, scaffold_series, test_size, stratify)\u001b[0m\n\u001b[1;32m    120\u001b[0m     '''\n\u001b[1;32m    121\u001b[0m \u001b[0;34m\u001b[0m\u001b[0m\n\u001b[0;32m--> 122\u001b[0;31m     \u001b[0;32massert\u001b[0m \u001b[0;34m(\u001b[0m\u001b[0mX\u001b[0m\u001b[0;34m.\u001b[0m\u001b[0mindex\u001b[0m \u001b[0;34m==\u001b[0m \u001b[0mscaffold_series\u001b[0m\u001b[0;34m.\u001b[0m\u001b[0mindex\u001b[0m\u001b[0;34m)\u001b[0m\u001b[0;34m.\u001b[0m\u001b[0mall\u001b[0m\u001b[0;34m(\u001b[0m\u001b[0;34m)\u001b[0m\u001b[0;34m,\u001b[0m \u001b[0;34m'Index should be the same between X and rdk_mols_series'\u001b[0m\u001b[0;34m\u001b[0m\u001b[0;34m\u001b[0m\u001b[0m\n\u001b[0m\u001b[1;32m    123\u001b[0m     \u001b[0;32massert\u001b[0m \u001b[0mlen\u001b[0m\u001b[0;34m(\u001b[0m\u001b[0mX\u001b[0m\u001b[0;34m)\u001b[0m \u001b[0;34m==\u001b[0m \u001b[0mlen\u001b[0m\u001b[0;34m(\u001b[0m\u001b[0my\u001b[0m\u001b[0;34m)\u001b[0m\u001b[0;34m,\u001b[0m \u001b[0;34m'Numer of observations in X and y is not the same.'\u001b[0m\u001b[0;34m\u001b[0m\u001b[0;34m\u001b[0m\u001b[0m\n\u001b[1;32m    124\u001b[0m \u001b[0;34m\u001b[0m\u001b[0m\n",
      "\u001b[0;32m~/miniconda3/envs/mds/lib/python3.7/site-packages/pandas/core/indexes/base.py\u001b[0m in \u001b[0;36mcmp_method\u001b[0;34m(self, other)\u001b[0m\n\u001b[1;32m    103\u001b[0m         \u001b[0;32mif\u001b[0m \u001b[0misinstance\u001b[0m\u001b[0;34m(\u001b[0m\u001b[0mother\u001b[0m\u001b[0;34m,\u001b[0m \u001b[0;34m(\u001b[0m\u001b[0mnp\u001b[0m\u001b[0;34m.\u001b[0m\u001b[0mndarray\u001b[0m\u001b[0;34m,\u001b[0m \u001b[0mIndex\u001b[0m\u001b[0;34m,\u001b[0m \u001b[0mABCSeries\u001b[0m\u001b[0;34m,\u001b[0m \u001b[0mExtensionArray\u001b[0m\u001b[0;34m)\u001b[0m\u001b[0;34m)\u001b[0m\u001b[0;34m:\u001b[0m\u001b[0;34m\u001b[0m\u001b[0;34m\u001b[0m\u001b[0m\n\u001b[1;32m    104\u001b[0m             \u001b[0;32mif\u001b[0m \u001b[0mother\u001b[0m\u001b[0;34m.\u001b[0m\u001b[0mndim\u001b[0m \u001b[0;34m>\u001b[0m \u001b[0;36m0\u001b[0m \u001b[0;32mand\u001b[0m \u001b[0mlen\u001b[0m\u001b[0;34m(\u001b[0m\u001b[0mself\u001b[0m\u001b[0;34m)\u001b[0m \u001b[0;34m!=\u001b[0m \u001b[0mlen\u001b[0m\u001b[0;34m(\u001b[0m\u001b[0mother\u001b[0m\u001b[0;34m)\u001b[0m\u001b[0;34m:\u001b[0m\u001b[0;34m\u001b[0m\u001b[0;34m\u001b[0m\u001b[0m\n\u001b[0;32m--> 105\u001b[0;31m                 \u001b[0;32mraise\u001b[0m \u001b[0mValueError\u001b[0m\u001b[0;34m(\u001b[0m\u001b[0;34m\"Lengths must match to compare\"\u001b[0m\u001b[0;34m)\u001b[0m\u001b[0;34m\u001b[0m\u001b[0;34m\u001b[0m\u001b[0m\n\u001b[0m\u001b[1;32m    106\u001b[0m \u001b[0;34m\u001b[0m\u001b[0m\n\u001b[1;32m    107\u001b[0m         \u001b[0;32mif\u001b[0m \u001b[0mis_object_dtype\u001b[0m\u001b[0;34m(\u001b[0m\u001b[0mself\u001b[0m\u001b[0;34m)\u001b[0m \u001b[0;32mand\u001b[0m \u001b[0misinstance\u001b[0m\u001b[0;34m(\u001b[0m\u001b[0mother\u001b[0m\u001b[0;34m,\u001b[0m \u001b[0mABCCategorical\u001b[0m\u001b[0;34m)\u001b[0m\u001b[0;34m:\u001b[0m\u001b[0;34m\u001b[0m\u001b[0;34m\u001b[0m\u001b[0m\n",
      "\u001b[0;31mValueError\u001b[0m: Lengths must match to compare"
     ]
    }
   ],
   "source": [
    "%%time\n",
    "# from sklearn.svm import SVC\n",
    "\n",
    "estimator_name = 'LinearSVC'\n",
    "estimator = SVC(kernel = 'linear', probability=True)\n",
    "hyperparams = {'C': np.geomspace(1e-8, 1e2, 6)}\n",
    "\n",
    "# SCAFFOLD Train test splitting\n",
    "split_and_gs(library, library, estimator_name,\n",
    "              X, y, estimator, hyperparams, \n",
    "             splitting='scaffold', test_size=0.25, \n",
    "             scaffold_series=scaffold_series)"
   ]
  },
  {
   "cell_type": "markdown",
   "metadata": {},
   "source": [
    "<h3 style='color: #F84122; padding: 0px;; margin: 0px'>GS: Radial Basis Function SVM </h3>\n",
    "<b>DEKOIS  - Random and Stratified Scaffold Splitting</b>"
   ]
  },
  {
   "cell_type": "code",
   "execution_count": 23,
   "metadata": {
    "cell_style": "split"
   },
   "outputs": [
    {
     "name": "stdout",
     "output_type": "stream",
     "text": [
      "rbfSVC => Train: DEKOIS; Test: DEKOIS; split: random\n",
      "No. of molecules in train set: 929, with 30.0 actives.\n",
      "No. of molecules in test set: 310, with 10.0 actives.\n",
      "\n",
      "********** GRID SEARCH RESULTS **********\n",
      "- Mean CV ROC-AUC:\t0.698\n",
      "- Train ROC-AUC:  \t1.000\n",
      "- Test ROC-AUC:   \t0.706\n",
      "- Best hyperparameters {'C': 100.0, 'gamma': 0.01}\n",
      "******************************************\n",
      "\n",
      "***** Best Conformation's ROC-AUC using docking scores *****\n",
      "> Train best conf. ROC-AUC: 0.699 \t> median: 0.569, mean: 0.573\n",
      "> Test best conf. ROC-AUC: 0.820 \t> median: 0.739, mean: 0.736\n",
      "****************************************************************\n",
      "CPU times: user 1.39 s, sys: 80.2 ms, total: 1.47 s\n",
      "Wall time: 5.85 s\n"
     ]
    }
   ],
   "source": [
    "%%time\n",
    "estimator_name = 'rbfSVC'\n",
    "estimator = SVC(kernel = 'rbf', probability=True)\n",
    "hyperparams = {'C': np.geomspace(1e-8, 1e2, 6), \n",
    "               'gamma': np.geomspace(1e-8, 1e2, 6)}\n",
    "\n",
    "# RANDOM Train test splitting\n",
    "split_and_gs(library, library, estimator_name,\n",
    "             X, y, estimator, hyperparams, \n",
    "             splitting='random', test_size=0.25, \n",
    "             scaffold_series=None)"
   ]
  },
  {
   "cell_type": "code",
   "execution_count": 18,
   "metadata": {
    "cell_style": "split"
   },
   "outputs": [
    {
     "name": "stdout",
     "output_type": "stream",
     "text": [
      "rbfSVC => Train: DEKOIS; Test: DEKOIS; split: scaffold\n",
      "No. of molecules in train set: 929, with 30 actives.\n",
      "No. of molecules in test set: 310, with 10 actives.\n",
      "\n",
      "********** GRID SEARCH RESULTS **********\n",
      "- Mean CV ROC-AUC:\t0.857\n",
      "- Train ROC-AUC:  \t0.876\n",
      "- Test ROC-AUC:   \t0.723\n",
      "- Best hyperparameters {'C': 0.0001, 'gamma': 1e-08}\n",
      "******************************************\n",
      "\n",
      "***** Best Conformation's ROC-AUC using docking scores *****\n",
      "> Train best conf. ROC-AUC: 0.827 \t> median: 0.728, mean: 0.726\n",
      "> Test best conf. ROC-AUC: 0.810 \t> median: 0.601, mean: 0.603\n",
      "****************************************************************\n",
      "CPU times: user 2.65 s, sys: 108 ms, total: 2.75 s\n",
      "Wall time: 26.1 s\n"
     ]
    }
   ],
   "source": [
    "%%time\n",
    "estimator_name = 'rbfSVC'\n",
    "estimator = SVC(kernel = 'rbf', probability=True)\n",
    "hyperparams = {'C': np.geomspace(1e-8, 1e2, 6), \n",
    "               'gamma': np.geomspace(1e-8, 1e2, 6)}\n",
    "\n",
    "# SCAFFOLD Train test splitting\n",
    "split_and_gs(library, library, estimator_name,\n",
    "             X, y, estimator, hyperparams, \n",
    "             splitting='scaffold', test_size=0.25, \n",
    "             scaffold_series=scaffold_series)"
   ]
  },
  {
   "cell_type": "markdown",
   "metadata": {},
   "source": [
    "<h3 style='color: #F84122; padding: 0px;; margin: 0px'> GS: Logistic Regression </h3>\n",
    "<b>DEKOIS  - Random and Stratified Scaffold Splitting</b>"
   ]
  },
  {
   "cell_type": "code",
   "execution_count": 26,
   "metadata": {
    "cell_style": "split"
   },
   "outputs": [
    {
     "name": "stdout",
     "output_type": "stream",
     "text": [
      "LogReg => Train: Merged; Test: Merged; split: random\n",
      "No. of molecules in train set: 2565, with 277.0 actives.\n",
      "No. of molecules in test set: 855, with 92.0 actives.\n",
      "\n",
      "********** GRID SEARCH RESULTS **********\n",
      "- Mean CV ROC-AUC:\t0.706\n",
      "- Train ROC-AUC:  \t0.803\n",
      "- Test ROC-AUC:   \t0.644\n",
      "- Best hyperparameters {'C': 1.0, 'penalty': 'l1', 'solver': 'liblinear'}\n",
      "******************************************\n",
      "\n",
      "***** Best Conformation's ROC-AUC using docking scores *****\n",
      "> Train best conf. ROC-AUC: 0.518 \t> median: 0.462, mean: 0.463\n",
      "> Test best conf. ROC-AUC: 0.577 \t> median: 0.501, mean: 0.501\n",
      "****************************************************************\n",
      "CPU times: user 5.55 s, sys: 457 ms, total: 6 s\n",
      "Wall time: 29.1 s\n"
     ]
    }
   ],
   "source": [
    "%%time\n",
    "from sklearn.linear_model import LogisticRegression\n",
    "\n",
    "estimator_name = 'LogReg'\n",
    "estimator = LogisticRegression(max_iter=150)\n",
    "hyperparams = {'C': np.geomspace(1e-8, 1e2, 6), \n",
    "               'penalty': ['l1', 'l2'], \n",
    "               'solver': ['lbfgs', 'liblinear']}\n",
    "\n",
    "# RANDOM Train test splitting\n",
    "split_and_gs(library, library, estimator_name,\n",
    "             X, y, estimator, hyperparams, \n",
    "             splitting='random', test_size=0.25, \n",
    "             scaffold_series=None)"
   ]
  },
  {
   "cell_type": "code",
   "execution_count": 20,
   "metadata": {
    "cell_style": "split"
   },
   "outputs": [
    {
     "name": "stdout",
     "output_type": "stream",
     "text": [
      "LogReg => Train: DEKOIS; Test: DEKOIS; split: scaffold\n"
     ]
    },
    {
     "name": "stderr",
     "output_type": "stream",
     "text": [
      "/home/joel/anaconda3/envs/mds/lib/python3.7/site-packages/sklearn/linear_model/_logistic.py:940: ConvergenceWarning: lbfgs failed to converge (status=1):\n",
      "STOP: TOTAL NO. of ITERATIONS REACHED LIMIT.\n",
      "\n",
      "Increase the number of iterations (max_iter) or scale the data as shown in:\n",
      "    https://scikit-learn.org/stable/modules/preprocessing.html\n",
      "Please also refer to the documentation for alternative solver options:\n",
      "    https://scikit-learn.org/stable/modules/linear_model.html#logistic-regression\n",
      "  extra_warning_msg=_LOGISTIC_SOLVER_CONVERGENCE_MSG)\n"
     ]
    },
    {
     "name": "stdout",
     "output_type": "stream",
     "text": [
      "No. of molecules in train set: 929, with 30 actives.\n",
      "No. of molecules in test set: 310, with 10 actives.\n",
      "\n",
      "********** GRID SEARCH RESULTS **********\n",
      "- Mean CV ROC-AUC:\t0.832\n",
      "- Train ROC-AUC:  \t0.936\n",
      "- Test ROC-AUC:   \t0.831\n",
      "- Best hyperparameters {'C': 0.01, 'penalty': 'l2', 'solver': 'lbfgs'}\n",
      "******************************************\n",
      "\n",
      "***** Best Conformation's ROC-AUC using docking scores *****\n",
      "> Train best conf. ROC-AUC: 0.827 \t> median: 0.728, mean: 0.726\n",
      "> Test best conf. ROC-AUC: 0.810 \t> median: 0.601, mean: 0.603\n",
      "****************************************************************\n",
      "CPU times: user 2.23 s, sys: 644 ms, total: 2.88 s\n",
      "Wall time: 6.96 s\n"
     ]
    }
   ],
   "source": [
    "%%time\n",
    "# from sklearn.linear_model import LogisticRegression\n",
    "\n",
    "estimator_name = 'LogReg'\n",
    "estimator = LogisticRegression(max_iter=150)\n",
    "hyperparams = {'C': np.geomspace(1e-8, 1e2, 6), \n",
    "               'penalty': ['l1', 'l2'], \n",
    "               'solver': ['lbfgs', 'liblinear']}\n",
    "\n",
    "# SCAFFOLD Train test splitting\n",
    "split_and_gs(library, library, estimator_name,\n",
    "             X, y, estimator, hyperparams,\n",
    "             splitting='scaffold', test_size=0.25, \n",
    "             scaffold_series=scaffold_series)"
   ]
  },
  {
   "cell_type": "markdown",
   "metadata": {},
   "source": [
    "<h3 style='color: #F84122; padding: 0px;; margin: 0px'>GS: K-Neighbors Classifier</h3>\n",
    "<b>DEKOIS  - Random and Stratified Scaffold Splitting</b>"
   ]
  },
  {
   "cell_type": "code",
   "execution_count": 21,
   "metadata": {
    "cell_style": "split"
   },
   "outputs": [
    {
     "name": "stdout",
     "output_type": "stream",
     "text": [
      "kNN => Train: DEKOIS; Test: DEKOIS; split: random\n",
      "No. of molecules in train set: 929, with 30 actives.\n",
      "No. of molecules in test set: 310, with 10 actives.\n",
      "\n",
      "********** GRID SEARCH RESULTS **********\n",
      "- Mean CV ROC-AUC:\t0.780\n",
      "- Train ROC-AUC:  \t0.805\n",
      "- Test ROC-AUC:   \t0.791\n",
      "- Best hyperparameters {'n_neighbors': 125, 'p': 2}\n",
      "******************************************\n",
      "\n",
      "***** Best Conformation's ROC-AUC using docking scores *****\n",
      "> Train best conf. ROC-AUC: 0.775 \t> median: 0.669, mean: 0.670\n",
      "> Test best conf. ROC-AUC: 0.888 \t> median: 0.771, mean: 0.769\n",
      "****************************************************************\n",
      "CPU times: user 2.02 s, sys: 56.4 ms, total: 2.07 s\n",
      "Wall time: 3.67 s\n"
     ]
    }
   ],
   "source": [
    "%%time\n",
    "from sklearn.neighbors import KNeighborsClassifier \n",
    "\n",
    "estimator_name = 'kNN'\n",
    "estimator = KNeighborsClassifier()\n",
    "hyperparams = {'n_neighbors': [25, 55, 125, 225], \n",
    "               'p': [1, 2]\n",
    "             }\n",
    "\n",
    "# RANDOM Train test splitting\n",
    "split_and_gs(library, library, estimator_name,\n",
    "             X, y, estimator, hyperparams,\n",
    "             splitting='random', test_size=0.25, \n",
    "             scaffold_series=None)"
   ]
  },
  {
   "cell_type": "code",
   "execution_count": 22,
   "metadata": {
    "cell_style": "split"
   },
   "outputs": [
    {
     "name": "stdout",
     "output_type": "stream",
     "text": [
      "kNN => Train: DEKOIS; Test: DEKOIS; split: scaffold\n",
      "No. of molecules in train set: 929, with 30 actives.\n",
      "No. of molecules in test set: 310, with 10 actives.\n",
      "\n",
      "********** GRID SEARCH RESULTS **********\n",
      "- Mean CV ROC-AUC:\t0.806\n",
      "- Train ROC-AUC:  \t0.823\n",
      "- Test ROC-AUC:   \t0.643\n",
      "- Best hyperparameters {'n_neighbors': 125, 'p': 2}\n",
      "******************************************\n",
      "\n",
      "***** Best Conformation's ROC-AUC using docking scores *****\n",
      "> Train best conf. ROC-AUC: 0.827 \t> median: 0.728, mean: 0.726\n",
      "> Test best conf. ROC-AUC: 0.810 \t> median: 0.601, mean: 0.603\n",
      "****************************************************************\n",
      "CPU times: user 1.86 s, sys: 40.2 ms, total: 1.9 s\n",
      "Wall time: 3.39 s\n"
     ]
    }
   ],
   "source": [
    "%%time\n",
    "from sklearn.neighbors import KNeighborsClassifier \n",
    "\n",
    "estimator_name = 'kNN'\n",
    "estimator = KNeighborsClassifier()\n",
    "hyperparams = {'n_neighbors': [25, 55, 125, 225], \n",
    "               'p': [1, 2]\n",
    "             }\n",
    "\n",
    "# SCAFFOLD Train test splitting\n",
    "split_and_gs(library, library, estimator_name,\n",
    "             X, y, estimator, hyperparams,\n",
    "             splitting='scaffold', test_size=0.25, \n",
    "             scaffold_series=scaffold_series)"
   ]
  },
  {
   "cell_type": "markdown",
   "metadata": {},
   "source": [
    "<h3 style='color: #F84122; padding: 0px;; margin: 0px'>GS: Decision Tree Classifier</h3>\n",
    "<b>DEKOIS  - Random and Stratified Scaffold Splitting</b>"
   ]
  },
  {
   "cell_type": "code",
   "execution_count": 23,
   "metadata": {
    "cell_style": "split"
   },
   "outputs": [
    {
     "name": "stdout",
     "output_type": "stream",
     "text": [
      "DTree => Train: DEKOIS; Test: DEKOIS; split: random\n",
      "No. of molecules in train set: 929, with 30 actives.\n",
      "No. of molecules in test set: 310, with 10 actives.\n",
      "\n",
      "********** GRID SEARCH RESULTS **********\n",
      "- Mean CV ROC-AUC:\t0.758\n",
      "- Train ROC-AUC:  \t0.857\n",
      "- Test ROC-AUC:   \t0.535\n",
      "- Best hyperparameters {'criterion': 'gini', 'max_depth': 5, 'max_features': 'sqrt', 'min_samples_split': 0.3}\n",
      "******************************************\n",
      "\n",
      "***** Best Conformation's ROC-AUC using docking scores *****\n",
      "> Train best conf. ROC-AUC: 0.806 \t> median: 0.702, mean: 0.703\n",
      "> Test best conf. ROC-AUC: 0.823 \t> median: 0.671, mean: 0.669\n",
      "****************************************************************\n",
      "CPU times: user 1.79 s, sys: 74.6 ms, total: 1.86 s\n",
      "Wall time: 2.95 s\n"
     ]
    }
   ],
   "source": [
    "%%time\n",
    "from sklearn.tree import DecisionTreeClassifier\n",
    "\n",
    "estimator_name = 'DTree'\n",
    "estimator = DecisionTreeClassifier(splitter='best')\n",
    "hyperparams = {'criterion': ['gini', 'entropy'], \n",
    "               'max_depth': [2, 3, 5],\n",
    "               'min_samples_split': [0.2, 0.25, 0.3],\n",
    "               'max_features': [None, 'sqrt', 'log2']}\n",
    "\n",
    "# RANDOM Train test splitting\n",
    "split_and_gs(library, library, estimator_name,\n",
    "             X, y, estimator, hyperparams,\n",
    "             splitting='random', test_size=0.25, \n",
    "             scaffold_series=None)"
   ]
  },
  {
   "cell_type": "code",
   "execution_count": 24,
   "metadata": {
    "cell_style": "split"
   },
   "outputs": [
    {
     "name": "stdout",
     "output_type": "stream",
     "text": [
      "DTree => Train: DEKOIS; Test: DEKOIS; split: scaffold\n",
      "No. of molecules in train set: 929, with 30 actives.\n",
      "No. of molecules in test set: 310, with 10 actives.\n",
      "\n",
      "********** GRID SEARCH RESULTS **********\n",
      "- Mean CV ROC-AUC:\t0.748\n",
      "- Train ROC-AUC:  \t0.911\n",
      "- Test ROC-AUC:   \t0.634\n",
      "- Best hyperparameters {'criterion': 'entropy', 'max_depth': 5, 'max_features': None, 'min_samples_split': 0.2}\n",
      "******************************************\n",
      "\n",
      "***** Best Conformation's ROC-AUC using docking scores *****\n",
      "> Train best conf. ROC-AUC: 0.827 \t> median: 0.728, mean: 0.726\n",
      "> Test best conf. ROC-AUC: 0.810 \t> median: 0.601, mean: 0.603\n",
      "****************************************************************\n",
      "CPU times: user 1.7 s, sys: 63.8 ms, total: 1.76 s\n",
      "Wall time: 2.82 s\n"
     ]
    }
   ],
   "source": [
    "%%time\n",
    "from sklearn.tree import DecisionTreeClassifier\n",
    "\n",
    "estimator_name = 'DTree'\n",
    "estimator = DecisionTreeClassifier(splitter='best')\n",
    "hyperparams = {'criterion': ['gini', 'entropy'], \n",
    "               'max_depth': [2, 3, 5],\n",
    "               'min_samples_split': [0.2, 0.25, 0.3],\n",
    "               'max_features': [None, 'sqrt', 'log2']}\n",
    "\n",
    "# SCAFFOLD Train test splitting\n",
    "split_and_gs(library, library, estimator_name,\n",
    "             X, y, estimator, hyperparams,\n",
    "             splitting='scaffold', test_size=0.25, \n",
    "             scaffold_series=scaffold_series)"
   ]
  },
  {
   "cell_type": "markdown",
   "metadata": {},
   "source": [
    "<h3 style='color: #F84122; padding: 0px;; margin: 0px'>GS: Bagging Classifier (k-NN as base estimator) </h3>\n",
    "<b>DEKOIS  - Random and Stratified Scaffold Splitting</b>"
   ]
  },
  {
   "cell_type": "code",
   "execution_count": 25,
   "metadata": {
    "cell_style": "split"
   },
   "outputs": [
    {
     "name": "stdout",
     "output_type": "stream",
     "text": [
      "CPU times: user 21.4 ms, sys: 7.76 ms, total: 29.2 ms\n",
      "Wall time: 25 ms\n"
     ]
    }
   ],
   "source": [
    "%%time\n",
    "from sklearn.ensemble import BaggingClassifier\n",
    "\n",
    "estimator_name = 'BagClf-kNN'\n",
    "knn = KNeighborsClassifier(n_neighbors=125, p=1, \n",
    "                           weights='distance')\n",
    "estimator = BaggingClassifier(base_estimator=knn, \n",
    "                              n_jobs=6, oob_score=True)\n",
    "\n",
    "hyperparams = {'n_estimators': [300]}\n",
    "\n",
    "# RANDOM Train test splitting\n",
    "# split_and_gs(X, y, estimator, hyperparams, \n",
    "#              splitting='random', test_size=0.25, \n",
    "#              scaffold_series=None)"
   ]
  },
  {
   "cell_type": "code",
   "execution_count": 26,
   "metadata": {
    "cell_style": "split"
   },
   "outputs": [
    {
     "name": "stdout",
     "output_type": "stream",
     "text": [
      "CPU times: user 52 µs, sys: 6 µs, total: 58 µs\n",
      "Wall time: 68.2 µs\n"
     ]
    }
   ],
   "source": [
    "%%time\n",
    "# from sklearn.ensemble import BaggingClassifier\n",
    "\n",
    "estimator_name = 'BagClf-kNN'\n",
    "knn = KNeighborsClassifier(n_neighbors=125, p=1, \n",
    "                           weights='distance')\n",
    "estimator = BaggingClassifier(base_estimator=knn, \n",
    "                              n_jobs=6, oob_score=True)\n",
    "\n",
    "hyperparams = {'n_estimators': [300]}\n",
    "\n",
    "# SCAFFOLD Train test splitting\n",
    "# split_and_gs(X, y, estimator, hyperparams, \n",
    "#              splitting='scaffold', test_size=0.25, \n",
    "#              scaffold_series=scaffold_series)"
   ]
  },
  {
   "cell_type": "markdown",
   "metadata": {},
   "source": [
    "<h3 style='color: #F84122; padding: 0px;; margin: 0px'>GS:Random Forest </h3>\n",
    "<b>DEKOIS  - Random and Stratified Scaffold Splitting</b>"
   ]
  },
  {
   "cell_type": "code",
   "execution_count": 27,
   "metadata": {
    "cell_style": "split"
   },
   "outputs": [
    {
     "name": "stdout",
     "output_type": "stream",
     "text": [
      "RandForest => Train: DEKOIS; Test: DEKOIS; split: random\n",
      "No. of molecules in train set: 929, with 30 actives.\n",
      "No. of molecules in test set: 310, with 10 actives.\n",
      "\n",
      "********** GRID SEARCH RESULTS **********\n",
      "- Mean CV ROC-AUC:\t0.780\n",
      "- Train ROC-AUC:  \t0.875\n",
      "- Test ROC-AUC:   \t0.694\n",
      "- Best hyperparameters {'max_depth': 5, 'max_features': 'sqrt', 'min_samples_leaf': 0.1, 'n_estimators': 300}\n",
      "******************************************\n",
      "\n",
      "***** Best Conformation's ROC-AUC using docking scores *****\n",
      "> Train best conf. ROC-AUC: 0.812 \t> median: 0.703, mean: 0.703\n",
      "> Test best conf. ROC-AUC: 0.808 \t> median: 0.669, mean: 0.670\n",
      "****************************************************************\n",
      "CPU times: user 2.41 s, sys: 114 ms, total: 2.52 s\n",
      "Wall time: 23.6 s\n"
     ]
    }
   ],
   "source": [
    "%%time\n",
    "from sklearn.ensemble import RandomForestClassifier\n",
    "\n",
    "estimator_name = 'RandForest'\n",
    "estimator = RandomForestClassifier()\n",
    "hyperparams = {'n_estimators': [300, 500],\n",
    "             'max_depth': [2,  5],\n",
    "             'min_samples_leaf': [0.1, 0.2],\n",
    "             'max_features': ['log2', 'sqrt']\n",
    "            }\n",
    "\n",
    "# RANDOM Train test splitting\n",
    "split_and_gs(library, library, estimator_name,\n",
    "             X, y, estimator, hyperparams,\n",
    "             splitting='random', test_size=0.25, \n",
    "             scaffold_series=None)"
   ]
  },
  {
   "cell_type": "code",
   "execution_count": 28,
   "metadata": {
    "cell_style": "split",
    "scrolled": true
   },
   "outputs": [
    {
     "name": "stdout",
     "output_type": "stream",
     "text": [
      "RandForest => Train: DEKOIS; Test: DEKOIS; split: scaffold\n",
      "No. of molecules in train set: 929, with 30 actives.\n",
      "No. of molecules in test set: 310, with 10 actives.\n",
      "\n",
      "********** GRID SEARCH RESULTS **********\n",
      "- Mean CV ROC-AUC:\t0.774\n",
      "- Train ROC-AUC:  \t0.835\n",
      "- Test ROC-AUC:   \t0.673\n",
      "- Best hyperparameters {'max_depth': 5, 'max_features': 'log2', 'min_samples_leaf': 0.2, 'n_estimators': 500}\n",
      "******************************************\n",
      "\n",
      "***** Best Conformation's ROC-AUC using docking scores *****\n",
      "> Train best conf. ROC-AUC: 0.827 \t> median: 0.728, mean: 0.726\n",
      "> Test best conf. ROC-AUC: 0.810 \t> median: 0.601, mean: 0.603\n",
      "****************************************************************\n",
      "CPU times: user 2.3 s, sys: 58.8 ms, total: 2.36 s\n",
      "Wall time: 20.9 s\n"
     ]
    }
   ],
   "source": [
    "%%time\n",
    "from sklearn.ensemble import RandomForestClassifier\n",
    "\n",
    "estimator_name = 'RandForest'\n",
    "estimator = RandomForestClassifier()\n",
    "hyperparams = {'n_estimators': [300, 500],\n",
    "             'max_depth': [2,  5],\n",
    "             'min_samples_leaf': [0.1, 0.2],\n",
    "             'max_features': ['log2', 'sqrt']\n",
    "            }\n",
    "\n",
    "# SCAFFOLD Train test splitting\n",
    "split_and_gs(library, library, estimator_name,\n",
    "             X, y, estimator, hyperparams, \n",
    "             splitting='scaffold', test_size=0.25, \n",
    "             scaffold_series=scaffold_series)"
   ]
  },
  {
   "cell_type": "code",
   "execution_count": null,
   "metadata": {},
   "outputs": [],
   "source": []
  },
  {
   "cell_type": "markdown",
   "metadata": {},
   "source": [
    "***\n",
    "<h2 style='background-color: #F9E5AB; padding: 5px;'>\n",
    "    Train-Test with DUD Library\n",
    "</h2>\n",
    "<div style='background-color: #FE8460; min-height: 5px'></div>"
   ]
  },
  {
   "cell_type": "code",
   "execution_count": 29,
   "metadata": {},
   "outputs": [],
   "source": [
    "library = 'DUD'\n",
    "\n",
    "# Train and test over DUDU\n",
    "X = X_merged_dksc.loc[library]\n",
    "y = y_true_merged.loc[library]\n",
    "scaffold_series = df_scff_murcko['scff_generic'].loc[library]"
   ]
  },
  {
   "cell_type": "markdown",
   "metadata": {
    "cell_style": "center"
   },
   "source": [
    "<h3 style='color: #F84122; padding: 0px;; margin: 0px'>GS: Linear SVM </h3>\n",
    "<b>DUD  - Random and Stratified Scaffold Splitting</b>"
   ]
  },
  {
   "cell_type": "code",
   "execution_count": 30,
   "metadata": {
    "cell_style": "split"
   },
   "outputs": [
    {
     "name": "stdout",
     "output_type": "stream",
     "text": [
      "LinearSVC => Train: DUD; Test: DUD; split: random\n",
      "No. of molecules in train set: 1368, with 43 actives.\n",
      "No. of molecules in test set: 457, with 15 actives.\n",
      "\n",
      "********** GRID SEARCH RESULTS **********\n",
      "- Mean CV ROC-AUC:\t0.927\n",
      "- Train ROC-AUC:  \t0.999\n",
      "- Test ROC-AUC:   \t0.931\n",
      "- Best hyperparameters {'C': 0.01}\n",
      "******************************************\n",
      "\n",
      "***** Best Conformation's ROC-AUC using docking scores *****\n",
      "> Train best conf. ROC-AUC: 0.747 \t> median: 0.650, mean: 0.630\n",
      "> Test best conf. ROC-AUC: 0.567 \t> median: 0.394, mean: 0.393\n",
      "****************************************************************\n",
      "CPU times: user 1.93 s, sys: 4.71 s, total: 6.64 s\n",
      "Wall time: 11.4 s\n"
     ]
    }
   ],
   "source": [
    "%%time\n",
    "from sklearn.svm import SVC\n",
    "\n",
    "estimator_name = 'LinearSVC'\n",
    "estimator = SVC(kernel = 'linear', probability=True)\n",
    "hyperparams = {'C':  np.geomspace(1e-8, 1e2, 6)}\n",
    "\n",
    "# RANDOM Train test splitting\n",
    "split_and_gs(library, library, estimator_name,\n",
    "             X, y, estimator, hyperparams,\n",
    "             splitting='random', test_size=0.25, \n",
    "             scaffold_series=None)"
   ]
  },
  {
   "cell_type": "code",
   "execution_count": 31,
   "metadata": {
    "cell_style": "split"
   },
   "outputs": [
    {
     "name": "stdout",
     "output_type": "stream",
     "text": [
      "LinearSVC => Train: DUD; Test: DUD; split: scaffold\n",
      "No. of molecules in train set: 1368, with 43 actives.\n",
      "No. of molecules in test set: 457, with 15 actives.\n",
      "\n",
      "********** GRID SEARCH RESULTS **********\n",
      "- Mean CV ROC-AUC:\t0.907\n",
      "- Train ROC-AUC:  \t1.000\n",
      "- Test ROC-AUC:   \t0.906\n",
      "- Best hyperparameters {'C': 1.0}\n",
      "******************************************\n",
      "\n",
      "***** Best Conformation's ROC-AUC using docking scores *****\n",
      "> Train best conf. ROC-AUC: 0.644 \t> median: 0.528, mean: 0.517\n",
      "> Test best conf. ROC-AUC: 0.844 \t> median: 0.734, mean: 0.716\n",
      "****************************************************************\n",
      "CPU times: user 1.95 s, sys: 29.9 ms, total: 1.98 s\n",
      "Wall time: 6.98 s\n"
     ]
    }
   ],
   "source": [
    "%%time\n",
    "# from sklearn.svm import SVC\n",
    "\n",
    "estimator_name = 'LinearSVC'\n",
    "estimator = SVC(kernel = 'linear', probability=True)\n",
    "hyperparams = {'C':  np.geomspace(1e-8, 1e2, 6)}\n",
    "\n",
    "# SCAFFOLD Train test splitting\n",
    "split_and_gs(library, library, estimator_name,\n",
    "             X, y, estimator, hyperparams,\n",
    "             splitting='scaffold', test_size=0.25, \n",
    "             scaffold_series=scaffold_series)"
   ]
  },
  {
   "cell_type": "markdown",
   "metadata": {},
   "source": [
    "<h3 style='color: #F84122; padding: 0px;; margin: 0px'>GS: Radial Basis Function SVM </h3>\n",
    "<b>DUD  - Random and Stratified Scaffold Splitting</b>"
   ]
  },
  {
   "cell_type": "code",
   "execution_count": 32,
   "metadata": {
    "cell_style": "split"
   },
   "outputs": [
    {
     "name": "stdout",
     "output_type": "stream",
     "text": [
      "rbfSVC => Train: DUD; Test: DUD; split: random\n",
      "No. of molecules in train set: 1368, with 43 actives.\n",
      "No. of molecules in test set: 457, with 15 actives.\n",
      "\n",
      "********** GRID SEARCH RESULTS **********\n",
      "- Mean CV ROC-AUC:\t0.953\n",
      "- Train ROC-AUC:  \t1.000\n",
      "- Test ROC-AUC:   \t0.992\n",
      "- Best hyperparameters {'C': 100.0, 'gamma': 0.0001}\n",
      "******************************************\n",
      "\n",
      "***** Best Conformation's ROC-AUC using docking scores *****\n",
      "> Train best conf. ROC-AUC: 0.713 \t> median: 0.599, mean: 0.581\n",
      "> Test best conf. ROC-AUC: 0.683 \t> median: 0.539, mean: 0.532\n",
      "****************************************************************\n",
      "CPU times: user 3.91 s, sys: 176 ms, total: 4.09 s\n",
      "Wall time: 1min 4s\n"
     ]
    }
   ],
   "source": [
    "%%time\n",
    "\n",
    "estimator_name = 'rbfSVC'\n",
    "estimator = SVC(kernel = 'rbf', probability=True)\n",
    "hyperparams = {'C':  np.geomspace(1e-8, 1e2, 6), \n",
    "               'gamma':  np.geomspace(1e-8, 1e2, 6)}\n",
    "\n",
    "# RANDOM Train test splitting\n",
    "split_and_gs(library, library, estimator_name,\n",
    "             X, y, estimator, hyperparams,\n",
    "             splitting='random', test_size=0.25, \n",
    "             scaffold_series=None)"
   ]
  },
  {
   "cell_type": "code",
   "execution_count": 33,
   "metadata": {
    "cell_style": "split"
   },
   "outputs": [
    {
     "name": "stdout",
     "output_type": "stream",
     "text": [
      "rbfSVC => Train: DUD; Test: DUD; split: scaffold\n",
      "No. of molecules in train set: 1368, with 43 actives.\n",
      "No. of molecules in test set: 457, with 15 actives.\n",
      "\n",
      "********** GRID SEARCH RESULTS **********\n",
      "- Mean CV ROC-AUC:\t0.919\n",
      "- Train ROC-AUC:  \t1.000\n",
      "- Test ROC-AUC:   \t0.935\n",
      "- Best hyperparameters {'C': 100.0, 'gamma': 0.0001}\n",
      "******************************************\n",
      "\n",
      "***** Best Conformation's ROC-AUC using docking scores *****\n",
      "> Train best conf. ROC-AUC: 0.644 \t> median: 0.528, mean: 0.517\n",
      "> Test best conf. ROC-AUC: 0.844 \t> median: 0.734, mean: 0.716\n",
      "****************************************************************\n",
      "CPU times: user 3.87 s, sys: 204 ms, total: 4.07 s\n",
      "Wall time: 1min 1s\n"
     ]
    }
   ],
   "source": [
    "%%time\n",
    "\n",
    "estimator_name = 'rbfSVC'\n",
    "estimator = SVC(kernel = 'rbf', probability=True)\n",
    "hyperparams = {'C':  np.geomspace(1e-8, 1e2, 6), \n",
    "               'gamma':  np.geomspace(1e-8, 1e2, 6)}\n",
    "\n",
    "# SCAFFOLD Train test splitting\n",
    "split_and_gs(library, library, estimator_name,\n",
    "             X, y, estimator, hyperparams,\n",
    "             splitting='scaffold', test_size=0.25, \n",
    "             scaffold_series=scaffold_series)"
   ]
  },
  {
   "cell_type": "markdown",
   "metadata": {},
   "source": [
    "<h3 style='color: #F84122; padding: 0px;; margin: 0px'> GS: Logistic Regression </h3>\n",
    "<b>DUD  - Random and Stratified Scaffold Splitting</b>"
   ]
  },
  {
   "cell_type": "code",
   "execution_count": 34,
   "metadata": {
    "cell_style": "split"
   },
   "outputs": [
    {
     "name": "stdout",
     "output_type": "stream",
     "text": [
      "LogReg => Train: DUD; Test: DUD; split: random\n",
      "No. of molecules in train set: 1368, with 43 actives.\n",
      "No. of molecules in test set: 457, with 15 actives.\n",
      "\n",
      "********** GRID SEARCH RESULTS **********\n",
      "- Mean CV ROC-AUC:\t0.944\n",
      "- Train ROC-AUC:  \t1.000\n",
      "- Test ROC-AUC:   \t0.983\n",
      "- Best hyperparameters {'C': 1.0, 'penalty': 'l2', 'solver': 'liblinear'}\n",
      "******************************************\n",
      "\n",
      "***** Best Conformation's ROC-AUC using docking scores *****\n",
      "> Train best conf. ROC-AUC: 0.691 \t> median: 0.586, mean: 0.572\n",
      "> Test best conf. ROC-AUC: 0.685 \t> median: 0.569, mean: 0.560\n",
      "****************************************************************\n",
      "CPU times: user 2.36 s, sys: 538 ms, total: 2.9 s\n",
      "Wall time: 11.3 s\n"
     ]
    }
   ],
   "source": [
    "%%time\n",
    "from sklearn.linear_model import LogisticRegression\n",
    "\n",
    "estimator_name = 'LogReg'\n",
    "estimator = LogisticRegression()\n",
    "hyperparams = {'C':  np.geomspace(1e-8, 1e2, 6), \n",
    "               'penalty': ['l1', 'l2'], \n",
    "               'solver': ['lbfgs', 'liblinear']}\n",
    "\n",
    "# RANDOM Train test splitting\n",
    "split_and_gs(library, library, estimator_name,\n",
    "             X, y, estimator, hyperparams,\n",
    "             splitting='random', test_size=0.25, \n",
    "             scaffold_series=None)"
   ]
  },
  {
   "cell_type": "code",
   "execution_count": 35,
   "metadata": {
    "cell_style": "split"
   },
   "outputs": [
    {
     "name": "stdout",
     "output_type": "stream",
     "text": [
      "LogReg => Train: DUD; Test: DUD; split: scaffold\n",
      "No. of molecules in train set: 1368, with 43 actives.\n",
      "No. of molecules in test set: 457, with 15 actives.\n",
      "\n",
      "********** GRID SEARCH RESULTS **********\n",
      "- Mean CV ROC-AUC:\t0.910\n",
      "- Train ROC-AUC:  \t1.000\n",
      "- Test ROC-AUC:   \t0.908\n",
      "- Best hyperparameters {'C': 100.0, 'penalty': 'l1', 'solver': 'liblinear'}\n",
      "******************************************\n",
      "\n",
      "***** Best Conformation's ROC-AUC using docking scores *****\n",
      "> Train best conf. ROC-AUC: 0.644 \t> median: 0.528, mean: 0.517\n",
      "> Test best conf. ROC-AUC: 0.844 \t> median: 0.734, mean: 0.716\n",
      "****************************************************************\n",
      "CPU times: user 3.33 s, sys: 520 ms, total: 3.85 s\n",
      "Wall time: 11.3 s\n"
     ]
    }
   ],
   "source": [
    "%%time\n",
    "# from sklearn.linear_model import LogisticRegression\n",
    "\n",
    "estimator_name = 'LogReg'\n",
    "estimator = LogisticRegression()\n",
    "hyperparams = {'C':  np.geomspace(1e-8, 1e2, 6), \n",
    "               'penalty': ['l1', 'l2'], \n",
    "               'solver': ['lbfgs', 'liblinear']}\n",
    "\n",
    "# SCAFFOLD Train test splitting\n",
    "split_and_gs(library, library, estimator_name,\n",
    "             X, y, estimator, hyperparams,\n",
    "             splitting='scaffold', test_size=0.25, \n",
    "             scaffold_series=scaffold_series)"
   ]
  },
  {
   "cell_type": "markdown",
   "metadata": {},
   "source": [
    "<h3 style='color: #F84122; padding: 0px;; margin: 0px'>GS: K-Neighbors Classifier</h3>\n",
    "<b>DUD  - Random and Stratified Scaffold Splitting</b>"
   ]
  },
  {
   "cell_type": "code",
   "execution_count": 36,
   "metadata": {
    "cell_style": "split"
   },
   "outputs": [
    {
     "name": "stdout",
     "output_type": "stream",
     "text": [
      "kNN => Train: DUD; Test: DUD; split: random\n",
      "No. of molecules in train set: 1368, with 43 actives.\n",
      "No. of molecules in test set: 457, with 15 actives.\n",
      "\n",
      "********** GRID SEARCH RESULTS **********\n",
      "- Mean CV ROC-AUC:\t0.861\n",
      "- Train ROC-AUC:  \t0.946\n",
      "- Test ROC-AUC:   \t0.751\n",
      "- Best hyperparameters {'n_neighbors': 25, 'p': 2}\n",
      "******************************************\n",
      "\n",
      "***** Best Conformation's ROC-AUC using docking scores *****\n",
      "> Train best conf. ROC-AUC: 0.699 \t> median: 0.588, mean: 0.571\n",
      "> Test best conf. ROC-AUC: 0.710 \t> median: 0.564, mean: 0.562\n",
      "****************************************************************\n",
      "CPU times: user 3.1 s, sys: 90.1 ms, total: 3.19 s\n",
      "Wall time: 7.58 s\n"
     ]
    }
   ],
   "source": [
    "%%time\n",
    "from sklearn.neighbors import KNeighborsClassifier \n",
    "\n",
    "estimator_name = 'kNN'\n",
    "estimator = KNeighborsClassifier()\n",
    "hyperparams = {'n_neighbors': [25, 55, 125, 225], \n",
    "               'p': [1, 2]\n",
    "             }\n",
    "\n",
    "# RANDOM Train test splitting\n",
    "split_and_gs(library, library, estimator_name,\n",
    "             X, y, estimator, hyperparams,\n",
    "             splitting='random', test_size=0.25, \n",
    "             scaffold_series=None)"
   ]
  },
  {
   "cell_type": "code",
   "execution_count": 37,
   "metadata": {
    "cell_style": "split"
   },
   "outputs": [
    {
     "name": "stdout",
     "output_type": "stream",
     "text": [
      "kNN => Train: DUD; Test: DUD; split: scaffold\n",
      "No. of molecules in train set: 1368, with 43 actives.\n",
      "No. of molecules in test set: 457, with 15 actives.\n",
      "\n",
      "********** GRID SEARCH RESULTS **********\n",
      "- Mean CV ROC-AUC:\t0.802\n",
      "- Train ROC-AUC:  \t0.939\n",
      "- Test ROC-AUC:   \t0.883\n",
      "- Best hyperparameters {'n_neighbors': 25, 'p': 1}\n",
      "******************************************\n",
      "\n",
      "***** Best Conformation's ROC-AUC using docking scores *****\n",
      "> Train best conf. ROC-AUC: 0.644 \t> median: 0.528, mean: 0.517\n",
      "> Test best conf. ROC-AUC: 0.844 \t> median: 0.734, mean: 0.716\n",
      "****************************************************************\n",
      "CPU times: user 3.06 s, sys: 40.2 ms, total: 3.1 s\n",
      "Wall time: 7.63 s\n"
     ]
    }
   ],
   "source": [
    "%%time\n",
    "from sklearn.neighbors import KNeighborsClassifier \n",
    "\n",
    "estimator_name = 'kNN'\n",
    "estimator = KNeighborsClassifier()\n",
    "hyperparams = {'n_neighbors': [25, 55, 125, 225], \n",
    "               'p': [1, 2]\n",
    "             }\n",
    "\n",
    "# SCAFFOLD Train test splitting\n",
    "split_and_gs(library, library, estimator_name,\n",
    "             X, y, estimator, hyperparams,\n",
    "             splitting='scaffold', test_size=0.25, \n",
    "             scaffold_series=scaffold_series)"
   ]
  },
  {
   "cell_type": "markdown",
   "metadata": {},
   "source": [
    "<h3 style='color: #F84122; padding: 0px;; margin: 0px'>GS: Decision Tree Classifier</h3>\n",
    "<b>DUD  - Random and Stratified Scaffold Splitting</b>"
   ]
  },
  {
   "cell_type": "code",
   "execution_count": 38,
   "metadata": {
    "cell_style": "split"
   },
   "outputs": [
    {
     "name": "stdout",
     "output_type": "stream",
     "text": [
      "DTree => Train: DUD; Test: DUD; split: random\n",
      "No. of molecules in train set: 1368, with 43 actives.\n",
      "No. of molecules in test set: 457, with 15 actives.\n",
      "\n",
      "********** GRID SEARCH RESULTS **********\n",
      "- Mean CV ROC-AUC:\t0.723\n",
      "- Train ROC-AUC:  \t0.779\n",
      "- Test ROC-AUC:   \t0.693\n",
      "- Best hyperparameters {'criterion': 'entropy', 'max_depth': 3, 'max_features': 'log2', 'min_samples_split': 0.2}\n",
      "******************************************\n",
      "\n",
      "***** Best Conformation's ROC-AUC using docking scores *****\n",
      "> Train best conf. ROC-AUC: 0.685 \t> median: 0.581, mean: 0.564\n",
      "> Test best conf. ROC-AUC: 0.734 \t> median: 0.588, mean: 0.581\n",
      "****************************************************************\n",
      "CPU times: user 1.82 s, sys: 114 ms, total: 1.94 s\n",
      "Wall time: 3.64 s\n"
     ]
    }
   ],
   "source": [
    "%%time\n",
    "from sklearn.tree import DecisionTreeClassifier\n",
    "\n",
    "estimator_name = 'DTree'\n",
    "estimator = DecisionTreeClassifier(splitter='best')\n",
    "hyperparams = {'criterion': ['gini', 'entropy'], \n",
    "               'max_depth': [2, 3, 5],\n",
    "               'min_samples_split': [0.2, 0.25, 0.3],\n",
    "               'max_features': [None, 'sqrt', 'log2']}\n",
    "\n",
    "# RANDOM Train test splitting\n",
    "split_and_gs(library, library, estimator_name,\n",
    "             X, y, estimator, hyperparams,\n",
    "             splitting='random', test_size=0.25, \n",
    "             scaffold_series=None)"
   ]
  },
  {
   "cell_type": "code",
   "execution_count": 39,
   "metadata": {
    "cell_style": "split"
   },
   "outputs": [
    {
     "name": "stdout",
     "output_type": "stream",
     "text": [
      "DTree => Train: DUD; Test: DUD; split: scaffold\n",
      "No. of molecules in train set: 1368, with 43 actives.\n",
      "No. of molecules in test set: 457, with 15 actives.\n",
      "\n",
      "********** GRID SEARCH RESULTS **********\n",
      "- Mean CV ROC-AUC:\t0.734\n",
      "- Train ROC-AUC:  \t0.876\n",
      "- Test ROC-AUC:   \t0.705\n",
      "- Best hyperparameters {'criterion': 'entropy', 'max_depth': 5, 'max_features': 'log2', 'min_samples_split': 0.3}\n",
      "******************************************\n",
      "\n",
      "***** Best Conformation's ROC-AUC using docking scores *****\n",
      "> Train best conf. ROC-AUC: 0.644 \t> median: 0.528, mean: 0.517\n",
      "> Test best conf. ROC-AUC: 0.844 \t> median: 0.734, mean: 0.716\n",
      "****************************************************************\n",
      "CPU times: user 2.01 s, sys: 108 ms, total: 2.12 s\n",
      "Wall time: 3.9 s\n"
     ]
    }
   ],
   "source": [
    "%%time\n",
    "from sklearn.tree import DecisionTreeClassifier\n",
    "\n",
    "estimator_name = 'DTree'\n",
    "estimator = DecisionTreeClassifier(splitter='best')\n",
    "hyperparams = {'criterion': ['gini', 'entropy'], \n",
    "               'max_depth': [2, 3, 5],\n",
    "               'min_samples_split': [0.2, 0.25, 0.3],\n",
    "               'max_features': [None, 'sqrt', 'log2']}\n",
    "\n",
    "# SCAFFOLD Train test splitting\n",
    "split_and_gs(library, library, estimator_name,\n",
    "             X, y, estimator, hyperparams,\n",
    "             splitting='scaffold', test_size=0.25, \n",
    "             scaffold_series=scaffold_series)"
   ]
  },
  {
   "cell_type": "markdown",
   "metadata": {},
   "source": [
    "<h3 style='color: #F84122; padding: 0px;; margin: 0px'>GS: Bagging Classifier (k-NN as base estimator) </h3>\n",
    "<b>DUD  - Random and Stratified Scaffold Splitting</b>"
   ]
  },
  {
   "cell_type": "code",
   "execution_count": 40,
   "metadata": {
    "cell_style": "split"
   },
   "outputs": [
    {
     "name": "stdout",
     "output_type": "stream",
     "text": [
      "CPU times: user 58 µs, sys: 10 µs, total: 68 µs\n",
      "Wall time: 76.5 µs\n"
     ]
    }
   ],
   "source": [
    "%%time\n",
    "from sklearn.ensemble import BaggingClassifier\n",
    "\n",
    "estimator_name = 'BagClf-kNN'\n",
    "knn = KNeighborsClassifier(n_neighbors=125, p=1, \n",
    "                           weights='distance')\n",
    "estimator = BaggingClassifier(base_estimator=knn, \n",
    "                              n_jobs=6, oob_score=True)\n",
    "\n",
    "hyperparams = {'n_estimators': [300]}\n",
    "\n",
    "# RANDOM Train test splitting\n",
    "# split_and_gs(X, y, estimator, hyperparams, \n",
    "#              splitting='random', test_size=0.25, \n",
    "#              scaffold_series=None)"
   ]
  },
  {
   "cell_type": "code",
   "execution_count": 41,
   "metadata": {
    "cell_style": "split"
   },
   "outputs": [
    {
     "name": "stdout",
     "output_type": "stream",
     "text": [
      "CPU times: user 48 µs, sys: 8 µs, total: 56 µs\n",
      "Wall time: 63.7 µs\n"
     ]
    }
   ],
   "source": [
    "%%time\n",
    "# from sklearn.ensemble import BaggingClassifier\n",
    "\n",
    "estimator_name = 'BagClf-kNN'\n",
    "knn = KNeighborsClassifier(n_neighbors=125, p=1, \n",
    "                           weights='distance')\n",
    "estimator = BaggingClassifier(base_estimator=knn, \n",
    "                              n_jobs=6, oob_score=True)\n",
    "\n",
    "hyperparams = {'n_estimators': [300]}\n",
    "\n",
    "# SCAFFOLD Train test splitting\n",
    "# split_and_gs(X, y, estimator, hyperparams, \n",
    "#              splitting='scaffold', test_size=0.25, \n",
    "#              scaffold_series=scaffold_series)"
   ]
  },
  {
   "cell_type": "markdown",
   "metadata": {},
   "source": [
    "<h3 style='color: #F84122; padding: 0px;; margin: 0px'>GS:Random Forest </h3>\n",
    "<b>DUD  - Random and Stratified Scaffold Splitting</b>"
   ]
  },
  {
   "cell_type": "code",
   "execution_count": 42,
   "metadata": {
    "cell_style": "split"
   },
   "outputs": [
    {
     "name": "stdout",
     "output_type": "stream",
     "text": [
      "RandForest => Train: DUD; Test: DUD; split: random\n",
      "No. of molecules in train set: 1368, with 43 actives.\n",
      "No. of molecules in test set: 457, with 15 actives.\n",
      "\n",
      "********** GRID SEARCH RESULTS **********\n",
      "- Mean CV ROC-AUC:\t0.855\n",
      "- Train ROC-AUC:  \t0.913\n",
      "- Test ROC-AUC:   \t0.782\n",
      "- Best hyperparameters {'max_depth': 2, 'max_features': 'sqrt', 'min_samples_leaf': 0.1, 'n_estimators': 300}\n",
      "******************************************\n",
      "\n",
      "***** Best Conformation's ROC-AUC using docking scores *****\n",
      "> Train best conf. ROC-AUC: 0.712 \t> median: 0.633, mean: 0.617\n",
      "> Test best conf. ROC-AUC: 0.635 \t> median: 0.438, mean: 0.433\n",
      "****************************************************************\n",
      "CPU times: user 2.42 s, sys: 75.7 ms, total: 2.5 s\n",
      "Wall time: 26.9 s\n"
     ]
    }
   ],
   "source": [
    "%%time\n",
    "from sklearn.ensemble import RandomForestClassifier\n",
    "\n",
    "estimator_name = 'RandForest'\n",
    "estimator = RandomForestClassifier()\n",
    "hyperparams = {'n_estimators': [300, 500],\n",
    "             'max_depth': [2,  5],\n",
    "             'min_samples_leaf': [0.1, 0.2],\n",
    "             'max_features': ['log2', 'sqrt']\n",
    "            }\n",
    "\n",
    "# RANDOM Train test splitting\n",
    "split_and_gs(library, library, estimator_name,\n",
    "             X, y, estimator, hyperparams,\n",
    "             splitting='random', test_size=0.25, \n",
    "             scaffold_series=None)"
   ]
  },
  {
   "cell_type": "code",
   "execution_count": 43,
   "metadata": {
    "cell_style": "split",
    "scrolled": true
   },
   "outputs": [
    {
     "name": "stdout",
     "output_type": "stream",
     "text": [
      "RandForest => Train: DUD; Test: DUD; split: scaffold\n",
      "No. of molecules in train set: 1368, with 43 actives.\n",
      "No. of molecules in test set: 457, with 15 actives.\n",
      "\n",
      "********** GRID SEARCH RESULTS **********\n",
      "- Mean CV ROC-AUC:\t0.797\n",
      "- Train ROC-AUC:  \t0.920\n",
      "- Test ROC-AUC:   \t0.888\n",
      "- Best hyperparameters {'max_depth': 5, 'max_features': 'log2', 'min_samples_leaf': 0.1, 'n_estimators': 500}\n",
      "******************************************\n",
      "\n",
      "***** Best Conformation's ROC-AUC using docking scores *****\n",
      "> Train best conf. ROC-AUC: 0.644 \t> median: 0.528, mean: 0.517\n",
      "> Test best conf. ROC-AUC: 0.844 \t> median: 0.734, mean: 0.716\n",
      "****************************************************************\n",
      "CPU times: user 2.8 s, sys: 98.2 ms, total: 2.9 s\n",
      "Wall time: 24.4 s\n"
     ]
    }
   ],
   "source": [
    "%%time\n",
    "from sklearn.ensemble import RandomForestClassifier\n",
    "\n",
    "estimator_name = 'RandForest'\n",
    "estimator = RandomForestClassifier()\n",
    "hyperparams = {'n_estimators': [300, 500],\n",
    "             'max_depth': [2,  5],\n",
    "             'min_samples_leaf': [0.1, 0.2],\n",
    "             'max_features': ['log2', 'sqrt']\n",
    "            }\n",
    "\n",
    "# SCAFFOLD Train test splitting\n",
    "split_and_gs(library, library, estimator_name,\n",
    "             X, y, estimator, hyperparams,\n",
    "             splitting='scaffold', test_size=0.25, \n",
    "             scaffold_series=scaffold_series)"
   ]
  },
  {
   "cell_type": "markdown",
   "metadata": {},
   "source": [
    "***\n",
    "\n",
    "<h2 style='background-color: #F9E5AB; padding: 5px;'>\n",
    "    Train-Test with different libraries \n",
    "</h2>\n",
    "<div style='background-color: #FE8460; min-height: 5px'></div>\n",
    "\n",
    "##### Here, Random or Scaffold Splitting are not used"
   ]
  },
  {
   "cell_type": "code",
   "execution_count": 44,
   "metadata": {},
   "outputs": [],
   "source": [
    "# Train DEKOIS, test DUD\n",
    "@capture_GS_results(results_dict)\n",
    "def split_by_library_and_gs(train_name, test_name, estimator_name,\n",
    "                            X, y, lib_train_name, lib_test_name, **kwargs):\n",
    "    '''Train-Test \"split\" by library, and run Grid Search. Splits the main dataframe by library\n",
    "    using different molecular libraries for Training and Testing.'''\n",
    "    splitting='by_library'\n",
    "    \n",
    "    X_train = X.loc[lib_train_name]\n",
    "    y_train = y.loc[lib_train_name]\n",
    "\n",
    "    X_test = X.loc[lib_test_name]\n",
    "    y_test = y.loc[lib_test_name]\n",
    "\n",
    "    # Verbose\n",
    "    print(f'{estimator_name} => Train: {train_name}; Test: {test_name}; split: {splitting}')\n",
    "    \n",
    "    # Function to run Grid Search\n",
    "    #----------------------------\n",
    "    gs_results = run_grid_search(estimator, \n",
    "                    X_train, y_train, X_test, y_test, \n",
    "                    hyperparams = hyperparams,  **kwargs)\n",
    "\n",
    "    # Function to extract ROC results from DkSc values \n",
    "    #-------------------------------------------------\n",
    "    dksc_results = get_roc_auc_DkSc(X_train, y_train, X_test, y_test)\n",
    "    \n",
    "    # Return both list of results to captured by the decorador function\n",
    "    return [train_name, test_name, estimator_name, splitting] + gs_results + dksc_results"
   ]
  },
  {
   "cell_type": "code",
   "execution_count": 45,
   "metadata": {},
   "outputs": [],
   "source": [
    "# **********************************************\n",
    "# Train and Test sets from diferent libraries\n",
    "# **********************************************\n",
    "X = X_merged_dksc\n",
    "y = y_true_merged"
   ]
  },
  {
   "cell_type": "markdown",
   "metadata": {
    "cell_style": "center"
   },
   "source": [
    "<h3 style='color: #F84122; padding: 0px;; margin: 0px'>GS: Linear SVM  </h3>\n",
    "<b>Train and Test with different libraries</b>"
   ]
  },
  {
   "cell_type": "code",
   "execution_count": 46,
   "metadata": {
    "cell_style": "split"
   },
   "outputs": [
    {
     "name": "stdout",
     "output_type": "stream",
     "text": [
      "LinearSVC => Train: DEKOIS; Test: DUD; split: by_library\n",
      "No. of molecules in train set: 1239, with 40 actives.\n",
      "No. of molecules in test set: 1825, with 58 actives.\n",
      "\n",
      "********** GRID SEARCH RESULTS **********\n",
      "- Mean CV ROC-AUC:\t0.875\n",
      "- Train ROC-AUC:  \t0.976\n",
      "- Test ROC-AUC:   \t0.730\n",
      "- Best hyperparameters {'C': 0.01}\n",
      "******************************************\n",
      "\n",
      "***** Best Conformation's ROC-AUC using docking scores *****\n",
      "> Train best conf. ROC-AUC: 0.790 \t> median: 0.696, mean: 0.695\n",
      "> Test best conf. ROC-AUC: 0.672 \t> median: 0.584, mean: 0.568\n",
      "****************************************************************\n",
      "CPU times: user 2.14 s, sys: 26.4 ms, total: 2.16 s\n",
      "Wall time: 7.15 s\n"
     ]
    }
   ],
   "source": [
    "%%time\n",
    "from sklearn.svm import SVC\n",
    "\n",
    "estimator_name = 'LinearSVC'\n",
    "estimator = SVC(kernel = 'linear', probability=True)\n",
    "hyperparams = {'C':  np.geomspace(1e-8, 1e2, 6)}\n",
    "\n",
    "# Train DEKOIS, test DUD\n",
    "train_lib = 'DEKOIS'\n",
    "test_lib = 'DUD'\n",
    "split_by_library_and_gs(\n",
    "    train_lib, test_lib, estimator_name,\n",
    "    X, y, train_lib, test_lib)"
   ]
  },
  {
   "cell_type": "code",
   "execution_count": 47,
   "metadata": {
    "cell_style": "split",
    "scrolled": true
   },
   "outputs": [
    {
     "name": "stdout",
     "output_type": "stream",
     "text": [
      "LinearSVC => Train: DUD; Test: DEKOIS; split: by_library\n",
      "No. of molecules in train set: 1825, with 58 actives.\n",
      "No. of molecules in test set: 1239, with 40 actives.\n",
      "\n",
      "********** GRID SEARCH RESULTS **********\n",
      "- Mean CV ROC-AUC:\t0.924\n",
      "- Train ROC-AUC:  \t1.000\n",
      "- Test ROC-AUC:   \t0.710\n",
      "- Best hyperparameters {'C': 1.0}\n",
      "******************************************\n",
      "\n",
      "***** Best Conformation's ROC-AUC using docking scores *****\n",
      "> Train best conf. ROC-AUC: 0.672 \t> median: 0.584, mean: 0.568\n",
      "> Test best conf. ROC-AUC: 0.790 \t> median: 0.696, mean: 0.695\n",
      "****************************************************************\n",
      "CPU times: user 2.87 s, sys: 32.6 ms, total: 2.91 s\n",
      "Wall time: 12.8 s\n"
     ]
    }
   ],
   "source": [
    "%%time\n",
    "# from sklearn.svm import SVC\n",
    "\n",
    "estimator_name = 'LinearSVC'\n",
    "estimator = SVC(kernel = 'linear', probability=True)\n",
    "hyperparams = {'C':  np.geomspace(1e-8, 1e2, 6)}\n",
    "\n",
    "# Train DEKOIS, test DUD\n",
    "train_lib = 'DUD'\n",
    "test_lib = 'DEKOIS'\n",
    "split_by_library_and_gs(\n",
    "    train_lib, test_lib, estimator_name,\n",
    "    X, y, train_lib, test_lib)"
   ]
  },
  {
   "cell_type": "markdown",
   "metadata": {},
   "source": [
    "<h3 style='color: #F84122; padding: 0px;; margin: 0px'>GS: Radial Basis Function SVM </h3>\n",
    "<b>Train and Test with different libraries</b>"
   ]
  },
  {
   "cell_type": "code",
   "execution_count": 48,
   "metadata": {
    "cell_style": "split"
   },
   "outputs": [
    {
     "name": "stdout",
     "output_type": "stream",
     "text": [
      "rbfSVC => Train: DEKOIS; Test: DUD; split: by_library\n",
      "No. of molecules in train set: 1239, with 40 actives.\n",
      "No. of molecules in test set: 1825, with 58 actives.\n",
      "\n",
      "********** GRID SEARCH RESULTS **********\n",
      "- Mean CV ROC-AUC:\t0.873\n",
      "- Train ROC-AUC:  \t0.976\n",
      "- Test ROC-AUC:   \t0.730\n",
      "- Best hyperparameters {'C': 100.0, 'gamma': 1e-06}\n",
      "******************************************\n",
      "\n",
      "***** Best Conformation's ROC-AUC using docking scores *****\n",
      "> Train best conf. ROC-AUC: 0.790 \t> median: 0.696, mean: 0.695\n",
      "> Test best conf. ROC-AUC: 0.672 \t> median: 0.584, mean: 0.568\n",
      "****************************************************************\n",
      "CPU times: user 4.08 s, sys: 197 ms, total: 4.28 s\n",
      "Wall time: 1min 11s\n"
     ]
    }
   ],
   "source": [
    "%%time\n",
    "estimator = SVC(kernel = 'rbf', probability=True)\n",
    "\n",
    "estimator_name = 'rbfSVC'\n",
    "hyperparams = {'C':  np.geomspace(1e-8, 1e2, 6), \n",
    "               'gamma':  np.geomspace(1e-8, 1e4, 7)}\n",
    "\n",
    "# Train DEKOIS, test DUD\n",
    "train_lib = 'DEKOIS'\n",
    "test_lib = 'DUD'\n",
    "split_by_library_and_gs(\n",
    "    train_lib, test_lib, estimator_name,\n",
    "    X, y, train_lib, test_lib)"
   ]
  },
  {
   "cell_type": "code",
   "execution_count": 49,
   "metadata": {
    "cell_style": "split"
   },
   "outputs": [
    {
     "name": "stdout",
     "output_type": "stream",
     "text": [
      "rbfSVC => Train: DUD; Test: DEKOIS; split: by_library\n",
      "No. of molecules in train set: 1825, with 58 actives.\n",
      "No. of molecules in test set: 1239, with 40 actives.\n",
      "\n",
      "********** GRID SEARCH RESULTS **********\n",
      "- Mean CV ROC-AUC:\t0.934\n",
      "- Train ROC-AUC:  \t1.000\n",
      "- Test ROC-AUC:   \t0.653\n",
      "- Best hyperparameters {'C': 100.0, 'gamma': 0.0001}\n",
      "******************************************\n",
      "\n",
      "***** Best Conformation's ROC-AUC using docking scores *****\n",
      "> Train best conf. ROC-AUC: 0.672 \t> median: 0.584, mean: 0.568\n",
      "> Test best conf. ROC-AUC: 0.790 \t> median: 0.696, mean: 0.695\n",
      "****************************************************************\n",
      "CPU times: user 4.71 s, sys: 192 ms, total: 4.9 s\n",
      "Wall time: 2min 33s\n"
     ]
    }
   ],
   "source": [
    "%%time\n",
    "estimator = SVC(kernel = 'rbf', probability=True)\n",
    "\n",
    "estimator_name = 'rbfSVC'\n",
    "hyperparams = {'C':  np.geomspace(1e-8, 1e2, 6), \n",
    "               'gamma':  np.geomspace(1e-8, 1e4, 7)}\n",
    "\n",
    "# Train DEKOIS, test DUD\n",
    "train_lib = 'DUD'\n",
    "test_lib = 'DEKOIS'\n",
    "split_by_library_and_gs(\n",
    "    train_lib, test_lib, estimator_name,\n",
    "    X, y, train_lib, test_lib)"
   ]
  },
  {
   "cell_type": "markdown",
   "metadata": {},
   "source": [
    "<h3 style='color: #F84122; padding: 0px;; margin: 0px'>GS: Logistic Regression</h3>\n",
    "<b>Train and Test with different libraries</b>"
   ]
  },
  {
   "cell_type": "code",
   "execution_count": 50,
   "metadata": {
    "cell_style": "split"
   },
   "outputs": [
    {
     "name": "stdout",
     "output_type": "stream",
     "text": [
      "LogReg => Train: DEKOIS; Test: DUD; split: by_library\n"
     ]
    },
    {
     "name": "stderr",
     "output_type": "stream",
     "text": [
      "/home/joel/anaconda3/envs/mds/lib/python3.7/site-packages/sklearn/linear_model/_logistic.py:940: ConvergenceWarning: lbfgs failed to converge (status=1):\n",
      "STOP: TOTAL NO. of ITERATIONS REACHED LIMIT.\n",
      "\n",
      "Increase the number of iterations (max_iter) or scale the data as shown in:\n",
      "    https://scikit-learn.org/stable/modules/preprocessing.html\n",
      "Please also refer to the documentation for alternative solver options:\n",
      "    https://scikit-learn.org/stable/modules/linear_model.html#logistic-regression\n",
      "  extra_warning_msg=_LOGISTIC_SOLVER_CONVERGENCE_MSG)\n"
     ]
    },
    {
     "name": "stdout",
     "output_type": "stream",
     "text": [
      "No. of molecules in train set: 1239, with 40 actives.\n",
      "No. of molecules in test set: 1825, with 58 actives.\n",
      "\n",
      "********** GRID SEARCH RESULTS **********\n",
      "- Mean CV ROC-AUC:\t0.874\n",
      "- Train ROC-AUC:  \t0.958\n",
      "- Test ROC-AUC:   \t0.722\n",
      "- Best hyperparameters {'C': 0.01, 'penalty': 'l2', 'solver': 'lbfgs'}\n",
      "******************************************\n",
      "\n",
      "***** Best Conformation's ROC-AUC using docking scores *****\n",
      "> Train best conf. ROC-AUC: 0.790 \t> median: 0.696, mean: 0.695\n",
      "> Test best conf. ROC-AUC: 0.672 \t> median: 0.584, mean: 0.568\n",
      "****************************************************************\n",
      "CPU times: user 2.22 s, sys: 491 ms, total: 2.71 s\n",
      "Wall time: 11.5 s\n"
     ]
    }
   ],
   "source": [
    "%%time\n",
    "from sklearn.linear_model import LogisticRegression\n",
    "\n",
    "estimator_name = 'LogReg'\n",
    "estimator = LogisticRegression()\n",
    "hyperparams = {'C':  np.geomspace(1e-8, 1e2, 6),\n",
    "               'penalty': ['l1', 'l2'], \n",
    "               'solver': ['lbfgs', 'liblinear']}\n",
    "\n",
    "# Train DEKOIS, test DUD\n",
    "train_lib = 'DEKOIS'\n",
    "test_lib = 'DUD'\n",
    "split_by_library_and_gs(\n",
    "    train_lib, test_lib, estimator_name,\n",
    "    X, y, train_lib, test_lib)"
   ]
  },
  {
   "cell_type": "code",
   "execution_count": 51,
   "metadata": {
    "cell_style": "split"
   },
   "outputs": [
    {
     "name": "stdout",
     "output_type": "stream",
     "text": [
      "LogReg => Train: DUD; Test: DEKOIS; split: by_library\n",
      "No. of molecules in train set: 1825, with 58 actives.\n",
      "No. of molecules in test set: 1239, with 40 actives.\n",
      "\n",
      "********** GRID SEARCH RESULTS **********\n",
      "- Mean CV ROC-AUC:\t0.930\n",
      "- Train ROC-AUC:  \t1.000\n",
      "- Test ROC-AUC:   \t0.718\n",
      "- Best hyperparameters {'C': 1.0, 'penalty': 'l2', 'solver': 'liblinear'}\n",
      "******************************************\n",
      "\n",
      "***** Best Conformation's ROC-AUC using docking scores *****\n",
      "> Train best conf. ROC-AUC: 0.672 \t> median: 0.584, mean: 0.568\n",
      "> Test best conf. ROC-AUC: 0.790 \t> median: 0.696, mean: 0.695\n",
      "****************************************************************\n",
      "CPU times: user 2.44 s, sys: 526 ms, total: 2.96 s\n",
      "Wall time: 15.5 s\n"
     ]
    }
   ],
   "source": [
    "%%time\n",
    "# from sklearn.linear_model import LogisticRegression\n",
    "\n",
    "estimator_name = 'LogReg'\n",
    "estimator = LogisticRegression()\n",
    "hyperparams = {'C':  np.geomspace(1e-8, 1e2, 6), \n",
    "               'penalty': ['l1', 'l2'], \n",
    "               'solver': ['lbfgs', 'liblinear']}\n",
    "\n",
    "# Train DEKOIS, test DUD\n",
    "train_lib = 'DUD'\n",
    "test_lib = 'DEKOIS'\n",
    "split_by_library_and_gs(\n",
    "    train_lib, test_lib, estimator_name,\n",
    "    X, y, train_lib, test_lib)"
   ]
  },
  {
   "cell_type": "markdown",
   "metadata": {},
   "source": [
    "<h3 style='color: #F84122; padding: 0px;; margin: 0px'>GS:Random Forest  </h3>\n",
    "<b>Train and Test with different libraries</b>"
   ]
  },
  {
   "cell_type": "code",
   "execution_count": 52,
   "metadata": {
    "cell_style": "split"
   },
   "outputs": [
    {
     "name": "stdout",
     "output_type": "stream",
     "text": [
      "RandForest => Train: DEKOIS; Test: DUD; split: by_library\n",
      "No. of molecules in train set: 1239, with 40 actives.\n",
      "No. of molecules in test set: 1825, with 58 actives.\n",
      "\n",
      "********** GRID SEARCH RESULTS **********\n",
      "- Mean CV ROC-AUC:\t0.775\n",
      "- Train ROC-AUC:  \t0.878\n",
      "- Test ROC-AUC:   \t0.712\n",
      "- Best hyperparameters {'max_depth': 5, 'max_features': 'sqrt', 'min_samples_leaf': 0.05, 'min_samples_split': 0.2, 'n_estimators': 300}\n",
      "******************************************\n",
      "\n",
      "***** Best Conformation's ROC-AUC using docking scores *****\n",
      "> Train best conf. ROC-AUC: 0.790 \t> median: 0.696, mean: 0.695\n",
      "> Test best conf. ROC-AUC: 0.672 \t> median: 0.584, mean: 0.568\n",
      "****************************************************************\n",
      "CPU times: user 3.16 s, sys: 71.8 ms, total: 3.23 s\n",
      "Wall time: 48.5 s\n"
     ]
    }
   ],
   "source": [
    "%%time\n",
    "from sklearn.ensemble import RandomForestClassifier\n",
    "\n",
    "estimator_name = 'RandForest'\n",
    "estimator = RandomForestClassifier()\n",
    "hyperparams = {'n_estimators': [300, 500],\n",
    "             'max_depth': [3,  5, 7],\n",
    "             'min_samples_leaf': [0.03, 0.05],\n",
    "               'min_samples_split': [0.2,  0.3],\n",
    "             'max_features': ['sqrt']\n",
    "            }\n",
    "\n",
    "# Train DEKOIS, test DUD\n",
    "train_lib = 'DEKOIS'\n",
    "test_lib = 'DUD'\n",
    "split_by_library_and_gs(\n",
    "    train_lib, test_lib, estimator_name,\n",
    "    X, y, train_lib, test_lib)"
   ]
  },
  {
   "cell_type": "code",
   "execution_count": 53,
   "metadata": {
    "cell_style": "split"
   },
   "outputs": [
    {
     "name": "stdout",
     "output_type": "stream",
     "text": [
      "RandForest => Train: DUD; Test: DEKOIS; split: by_library\n",
      "No. of molecules in train set: 1825, with 58 actives.\n",
      "No. of molecules in test set: 1239, with 40 actives.\n",
      "\n",
      "********** GRID SEARCH RESULTS **********\n",
      "- Mean CV ROC-AUC:\t0.822\n",
      "- Train ROC-AUC:  \t0.914\n",
      "- Test ROC-AUC:   \t0.662\n",
      "- Best hyperparameters {'max_depth': 5, 'max_features': 'sqrt', 'min_samples_leaf': 0.03, 'min_samples_split': 0.3, 'n_estimators': 500}\n",
      "******************************************\n",
      "\n",
      "***** Best Conformation's ROC-AUC using docking scores *****\n",
      "> Train best conf. ROC-AUC: 0.672 \t> median: 0.584, mean: 0.568\n",
      "> Test best conf. ROC-AUC: 0.790 \t> median: 0.696, mean: 0.695\n",
      "****************************************************************\n",
      "CPU times: user 4.55 s, sys: 80.5 ms, total: 4.63 s\n",
      "Wall time: 59.6 s\n"
     ]
    }
   ],
   "source": [
    "%%time\n",
    "from sklearn.ensemble import RandomForestClassifier\n",
    "\n",
    "estimator_name = 'RandForest'\n",
    "estimator = RandomForestClassifier()\n",
    "hyperparams = {'n_estimators': [300, 500],\n",
    "             'max_depth': [3,  5, 7],\n",
    "             'min_samples_leaf': [0.03, 0.05],\n",
    "               'min_samples_split': [0.2,  0.3],\n",
    "             'max_features': ['sqrt']\n",
    "            }\n",
    "\n",
    "# Train DEKOIS, test DUD\n",
    "train_lib = 'DUD'\n",
    "test_lib = 'DEKOIS'\n",
    "split_by_library_and_gs(\n",
    "    train_lib, test_lib, estimator_name,\n",
    "    X, y, train_lib, test_lib)"
   ]
  },
  {
   "cell_type": "markdown",
   "metadata": {},
   "source": [
    "***\n",
    "<h2 style='background-color: #F9E5AB; padding: 5px;'>\n",
    "    Merged libraries \n",
    "</h2>\n",
    "<div style='background-color: #FE8460; min-height: 5px'></div>\n",
    "\n",
    "#### DEKOIS, DUD, CSAR and COCRYS are  treated as one unique library"
   ]
  },
  {
   "cell_type": "code",
   "execution_count": 37,
   "metadata": {},
   "outputs": [],
   "source": [
    "# Train and test over \n",
    "X = X_merged_dksc.loc[['CSAR', 'DEKOIS', 'DUD']]\n",
    "y = y_true_merged.loc[['CSAR', 'DEKOIS', 'DUD']]\n",
    "library = 'Merged'\n",
    "scaffold_series = df_scff_murcko['scff_generic']\n",
    "# (scaffold_series.index == X.index).sum()"
   ]
  },
  {
   "cell_type": "markdown",
   "metadata": {
    "cell_style": "center"
   },
   "source": [
    "<h3 style='color: #F84122; padding: 0px;; margin: 0px'>GS: Linear SVM </h3>\n",
    "<b>Merged Libraries</b>"
   ]
  },
  {
   "cell_type": "code",
   "execution_count": 59,
   "metadata": {
    "cell_style": "split",
    "scrolled": true
   },
   "outputs": [
    {
     "name": "stdout",
     "output_type": "stream",
     "text": [
      "LinearSVC => Train: Merged; Test: Merged; split: random\n",
      "No. of molecules in train set: 2380, with 92.0 actives.\n",
      "No. of molecules in test set: 794, with 31.0 actives.\n",
      "\n",
      "********** GRID SEARCH RESULTS **********\n",
      "- Mean CV ROC-AUC:\t0.686\n",
      "- Train ROC-AUC:  \t0.809\n",
      "- Test ROC-AUC:   \t0.644\n",
      "- Best hyperparameters {'C': 0.0001}\n",
      "******************************************\n",
      "\n",
      "***** Best Conformation's ROC-AUC using docking scores *****\n",
      "> Train best conf. ROC-AUC: 0.630 \t> median: 0.517, mean: 0.526\n",
      "> Test best conf. ROC-AUC: 0.684 \t> median: 0.553, mean: 0.555\n",
      "****************************************************************\n",
      "CPU times: user 1.57 s, sys: 28 ms, total: 1.6 s\n",
      "Wall time: 8min 18s\n"
     ]
    }
   ],
   "source": [
    "%%time\n",
    "from sklearn.svm import SVC\n",
    "\n",
    "estimator_name = 'LinearSVC'\n",
    "estimator = SVC(kernel = 'linear', probability=True)\n",
    "hyperparams = {'C':  np.geomspace(1e-8, 1e2, 6)}\n",
    "\n",
    "# RANDOM Train test splitting\n",
    "split_and_gs(library, library, estimator_name,\n",
    "             X, y, estimator, hyperparams,\n",
    "             splitting='random', test_size=0.25, \n",
    "             random_state=2)"
   ]
  },
  {
   "cell_type": "code",
   "execution_count": 56,
   "metadata": {
    "cell_style": "split"
   },
   "outputs": [
    {
     "name": "stdout",
     "output_type": "stream",
     "text": [
      "LinearSVC => Train: Merged; Test: Merged; split: scaffold\n",
      "No. of molecules in train set: 2599, with 311 actives.\n",
      "No. of molecules in test set: 867, with 104 actives.\n",
      "\n",
      "********** GRID SEARCH RESULTS **********\n",
      "- Mean CV ROC-AUC:\t0.845\n",
      "- Train ROC-AUC:  \t0.958\n",
      "- Test ROC-AUC:   \t0.804\n",
      "- Best hyperparameters {'C': 0.01}\n",
      "******************************************\n",
      "\n",
      "***** Best Conformation's ROC-AUC using docking scores *****\n",
      "> Train best conf. ROC-AUC: 0.654 \t> median: 0.602, mean: 0.596\n",
      "> Test best conf. ROC-AUC: 0.746 \t> median: 0.642, mean: 0.640\n",
      "****************************************************************\n",
      "CPU times: user 7.26 s, sys: 93.5 ms, total: 7.36 s\n",
      "Wall time: 52.5 s\n"
     ]
    }
   ],
   "source": [
    "%%time\n",
    "# from sklearn.svm import SVC\n",
    "\n",
    "estimator_name = 'LinearSVC'\n",
    "estimator = SVC(kernel = 'linear', probability=True)\n",
    "hyperparams = {'C':  np.geomspace(1e-8, 1e2, 6)}\n",
    "\n",
    "# SCAFFOLD Train test splitting\n",
    "split_and_gs(library, library, estimator_name,\n",
    "             X, y, estimator, hyperparams,\n",
    "             splitting='scaffold', test_size=0.25, \n",
    "             scaffold_series=scaffold_series)"
   ]
  },
  {
   "cell_type": "markdown",
   "metadata": {},
   "source": [
    "<h3 style='color: #F84122; padding: 0px;; margin: 0px'>GS: Radial Basis Function SVM</h3>\n",
    "<b>Merged Libraries</b>"
   ]
  },
  {
   "cell_type": "code",
   "execution_count": 57,
   "metadata": {
    "cell_style": "split"
   },
   "outputs": [
    {
     "name": "stdout",
     "output_type": "stream",
     "text": [
      "rbfSVC => Train: Merged; Test: Merged; split: random\n",
      "No. of molecules in train set: 2599, with 311 actives.\n",
      "No. of molecules in test set: 867, with 104 actives.\n",
      "\n",
      "********** GRID SEARCH RESULTS **********\n",
      "- Mean CV ROC-AUC:\t0.922\n",
      "- Train ROC-AUC:  \t1.000\n",
      "- Test ROC-AUC:   \t0.943\n",
      "- Best hyperparameters {'C': 100.0, 'gamma': 0.01}\n",
      "******************************************\n",
      "\n",
      "***** Best Conformation's ROC-AUC using docking scores *****\n",
      "> Train best conf. ROC-AUC: 0.653 \t> median: 0.604, mean: 0.600\n",
      "> Test best conf. ROC-AUC: 0.720 \t> median: 0.642, mean: 0.636\n",
      "****************************************************************\n",
      "CPU times: user 20.3 s, sys: 335 ms, total: 20.6 s\n",
      "Wall time: 6min 22s\n"
     ]
    }
   ],
   "source": [
    "%%time\n",
    "from sklearn.svm import SVC\n",
    "\n",
    "estimator_name = 'rbfSVC'\n",
    "estimator = SVC(kernel = 'rbf', probability=True)\n",
    "hyperparams = {'C':  np.geomspace(1e-8, 1e2, 6), \n",
    "               'gamma':  np.geomspace(1e-8, 1e2, 6)}\n",
    "\n",
    "# RANDOM Train test splitting\n",
    "split_and_gs(library, library, estimator_name,\n",
    "             X, y, estimator, hyperparams,\n",
    "             splitting='random', test_size=0.25, \n",
    "             scaffold_series=None)"
   ]
  },
  {
   "cell_type": "code",
   "execution_count": 58,
   "metadata": {
    "cell_style": "split"
   },
   "outputs": [
    {
     "name": "stdout",
     "output_type": "stream",
     "text": [
      "rbfSVC => Train: Merged; Test: Merged; split: scaffold\n",
      "No. of molecules in train set: 2599, with 311 actives.\n",
      "No. of molecules in test set: 867, with 104 actives.\n",
      "\n",
      "********** GRID SEARCH RESULTS **********\n",
      "- Mean CV ROC-AUC:\t0.867\n",
      "- Train ROC-AUC:  \t0.953\n",
      "- Test ROC-AUC:   \t0.801\n",
      "- Best hyperparameters {'C': 1.0, 'gamma': 0.0001}\n",
      "******************************************\n",
      "\n",
      "***** Best Conformation's ROC-AUC using docking scores *****\n",
      "> Train best conf. ROC-AUC: 0.654 \t> median: 0.602, mean: 0.596\n",
      "> Test best conf. ROC-AUC: 0.746 \t> median: 0.642, mean: 0.640\n",
      "****************************************************************\n",
      "CPU times: user 10.2 s, sys: 228 ms, total: 10.4 s\n",
      "Wall time: 5min 58s\n"
     ]
    }
   ],
   "source": [
    "%%time\n",
    "\n",
    "estimator_name = 'rbfSVC'\n",
    "estimator = SVC(kernel = 'rbf', probability=True)\n",
    "hyperparams = {'C':  np.geomspace(1e-8, 1e2, 6), \n",
    "               'gamma': np.geomspace(1e-8, 1e2, 6)}\n",
    "\n",
    "# SCAFFOLD Train test splitting\n",
    "split_and_gs(library, library, estimator_name,\n",
    "             X, y, estimator, hyperparams,\n",
    "             splitting='scaffold', test_size=0.25, \n",
    "             scaffold_series=scaffold_series)"
   ]
  },
  {
   "cell_type": "markdown",
   "metadata": {},
   "source": [
    "<h3 style='color: #F84122; padding: 0px;; margin: 0px'>GS: Logistic Regression</h3>\n",
    "<b>Merged Libraries</b>"
   ]
  },
  {
   "cell_type": "code",
   "execution_count": 68,
   "metadata": {
    "cell_style": "split"
   },
   "outputs": [
    {
     "name": "stdout",
     "output_type": "stream",
     "text": [
      "LogReg => Train: Merged; Test: Merged; split: random\n",
      "No. of molecules in train set: 2380, with 92.0 actives.\n",
      "No. of molecules in test set: 794, with 31.0 actives.\n",
      "\n",
      "********** GRID SEARCH RESULTS **********\n",
      "- Mean CV ROC-AUC:\t0.683\n",
      "- Train ROC-AUC:  \t0.769\n",
      "- Test ROC-AUC:   \t0.764\n",
      "- Best hyperparameters {'C': 0.01, 'penalty': 'l2', 'solver': 'lbfgs'}\n",
      "******************************************\n",
      "\n",
      "***** Best Conformation's ROC-AUC using docking scores *****\n",
      "> Train best conf. ROC-AUC: 0.622 \t> median: 0.532, mean: 0.536\n",
      "> Test best conf. ROC-AUC: 0.709 \t> median: 0.517, mean: 0.527\n",
      "****************************************************************\n",
      "CPU times: user 3.54 s, sys: 1.34 s, total: 4.89 s\n",
      "Wall time: 42.8 s\n"
     ]
    }
   ],
   "source": [
    "%%time\n",
    "from sklearn.linear_model import LogisticRegression\n",
    "\n",
    "estimator_name = 'LogReg'\n",
    "estimator = LogisticRegression(max_iter=300)\n",
    "hyperparams = {'C':  np.geomspace(1e-8, 1e2, 6),\n",
    "               'penalty': ['l1', 'l2'], \n",
    "               'solver': ['lbfgs', 'liblinear']}\n",
    "\n",
    "# RANDOM Train test splitting\n",
    "split_and_gs(library, library, estimator_name,\n",
    "             X, y, estimator, hyperparams,\n",
    "             splitting='random', test_size=0.25, \n",
    "             random_state=12)"
   ]
  },
  {
   "cell_type": "code",
   "execution_count": 64,
   "metadata": {},
   "outputs": [
    {
     "name": "stdout",
     "output_type": "stream",
     "text": [
      "No. of molecules in train set: 3174, with 123.0 actives.\n",
      "\n",
      "********** GRID SEARCH RESULTS **********\n",
      "- Mean CV ROC-AUC:\t0.693\n",
      "- Train ROC-AUC:  \t0.817\n",
      "- Best hyperparameters {'estimator__C': 0.01, 'estimator__penalty': 'l2', 'estimator__solver': 'liblinear'}\n",
      "******************************************\n",
      "\n",
      "CPU times: user 1.13 s, sys: 47.7 ms, total: 1.18 s\n",
      "Wall time: 4.76 s\n"
     ]
    },
    {
     "data": {
      "text/plain": [
       "{'mean_fit_time': array([0.03210425, 0.06940932, 0.10548983, 0.07871046, 0.04290948,\n",
       "        0.08602986, 0.10635252, 0.08228636, 0.03610959, 0.08122382,\n",
       "        0.0865591 , 0.11002746, 0.04028935, 0.09281893, 0.09758973,\n",
       "        0.18442769, 0.04568377, 0.63279338, 0.36454682, 0.38802648,\n",
       "        0.04048753, 0.81760435, 0.40000796, 0.33465238]),\n",
       " 'std_fit_time': array([0.0025009 , 0.0071986 , 0.01195182, 0.00842724, 0.00535696,\n",
       "        0.0094051 , 0.02557682, 0.01057433, 0.00531844, 0.00349289,\n",
       "        0.00530141, 0.01910002, 0.00190868, 0.00986011, 0.0266615 ,\n",
       "        0.00636764, 0.00712556, 0.0580312 , 0.04169666, 0.04116125,\n",
       "        0.00458061, 0.16982457, 0.05843499, 0.06545853]),\n",
       " 'mean_score_time': array([0.        , 0.01059723, 0.01296558, 0.01207275, 0.        ,\n",
       "        0.01471772, 0.01285686, 0.01329708, 0.        , 0.01239939,\n",
       "        0.01468773, 0.01155343, 0.        , 0.01160197, 0.01121612,\n",
       "        0.0141902 , 0.        , 0.01381388, 0.01659951, 0.01457677,\n",
       "        0.        , 0.0095685 , 0.01445889, 0.01035466]),\n",
       " 'std_score_time': array([0.        , 0.00048162, 0.00285787, 0.00253222, 0.        ,\n",
       "        0.00641654, 0.00358588, 0.00261608, 0.        , 0.00150064,\n",
       "        0.00182968, 0.00147984, 0.        , 0.00184465, 0.0037259 ,\n",
       "        0.00411921, 0.        , 0.00367046, 0.00497091, 0.00398922,\n",
       "        0.        , 0.00436524, 0.00372154, 0.00260479]),\n",
       " 'param_estimator__C': masked_array(data=[1e-08, 1e-08, 1e-08, 1e-08, 1e-06, 1e-06, 1e-06, 1e-06,\n",
       "                    0.0001, 0.0001, 0.0001, 0.0001, 0.01, 0.01, 0.01, 0.01,\n",
       "                    1.0, 1.0, 1.0, 1.0, 100.0, 100.0, 100.0, 100.0],\n",
       "              mask=[False, False, False, False, False, False, False, False,\n",
       "                    False, False, False, False, False, False, False, False,\n",
       "                    False, False, False, False, False, False, False, False],\n",
       "        fill_value='?',\n",
       "             dtype=object),\n",
       " 'param_estimator__penalty': masked_array(data=['l1', 'l1', 'l2', 'l2', 'l1', 'l1', 'l2', 'l2', 'l1',\n",
       "                    'l1', 'l2', 'l2', 'l1', 'l1', 'l2', 'l2', 'l1', 'l1',\n",
       "                    'l2', 'l2', 'l1', 'l1', 'l2', 'l2'],\n",
       "              mask=[False, False, False, False, False, False, False, False,\n",
       "                    False, False, False, False, False, False, False, False,\n",
       "                    False, False, False, False, False, False, False, False],\n",
       "        fill_value='?',\n",
       "             dtype=object),\n",
       " 'param_estimator__solver': masked_array(data=['lbfgs', 'liblinear', 'lbfgs', 'liblinear', 'lbfgs',\n",
       "                    'liblinear', 'lbfgs', 'liblinear', 'lbfgs',\n",
       "                    'liblinear', 'lbfgs', 'liblinear', 'lbfgs',\n",
       "                    'liblinear', 'lbfgs', 'liblinear', 'lbfgs',\n",
       "                    'liblinear', 'lbfgs', 'liblinear', 'lbfgs',\n",
       "                    'liblinear', 'lbfgs', 'liblinear'],\n",
       "              mask=[False, False, False, False, False, False, False, False,\n",
       "                    False, False, False, False, False, False, False, False,\n",
       "                    False, False, False, False, False, False, False, False],\n",
       "        fill_value='?',\n",
       "             dtype=object),\n",
       " 'params': [{'estimator__C': 1e-08,\n",
       "   'estimator__penalty': 'l1',\n",
       "   'estimator__solver': 'lbfgs'},\n",
       "  {'estimator__C': 1e-08,\n",
       "   'estimator__penalty': 'l1',\n",
       "   'estimator__solver': 'liblinear'},\n",
       "  {'estimator__C': 1e-08,\n",
       "   'estimator__penalty': 'l2',\n",
       "   'estimator__solver': 'lbfgs'},\n",
       "  {'estimator__C': 1e-08,\n",
       "   'estimator__penalty': 'l2',\n",
       "   'estimator__solver': 'liblinear'},\n",
       "  {'estimator__C': 1e-06,\n",
       "   'estimator__penalty': 'l1',\n",
       "   'estimator__solver': 'lbfgs'},\n",
       "  {'estimator__C': 1e-06,\n",
       "   'estimator__penalty': 'l1',\n",
       "   'estimator__solver': 'liblinear'},\n",
       "  {'estimator__C': 1e-06,\n",
       "   'estimator__penalty': 'l2',\n",
       "   'estimator__solver': 'lbfgs'},\n",
       "  {'estimator__C': 1e-06,\n",
       "   'estimator__penalty': 'l2',\n",
       "   'estimator__solver': 'liblinear'},\n",
       "  {'estimator__C': 0.0001,\n",
       "   'estimator__penalty': 'l1',\n",
       "   'estimator__solver': 'lbfgs'},\n",
       "  {'estimator__C': 0.0001,\n",
       "   'estimator__penalty': 'l1',\n",
       "   'estimator__solver': 'liblinear'},\n",
       "  {'estimator__C': 0.0001,\n",
       "   'estimator__penalty': 'l2',\n",
       "   'estimator__solver': 'lbfgs'},\n",
       "  {'estimator__C': 0.0001,\n",
       "   'estimator__penalty': 'l2',\n",
       "   'estimator__solver': 'liblinear'},\n",
       "  {'estimator__C': 0.01,\n",
       "   'estimator__penalty': 'l1',\n",
       "   'estimator__solver': 'lbfgs'},\n",
       "  {'estimator__C': 0.01,\n",
       "   'estimator__penalty': 'l1',\n",
       "   'estimator__solver': 'liblinear'},\n",
       "  {'estimator__C': 0.01,\n",
       "   'estimator__penalty': 'l2',\n",
       "   'estimator__solver': 'lbfgs'},\n",
       "  {'estimator__C': 0.01,\n",
       "   'estimator__penalty': 'l2',\n",
       "   'estimator__solver': 'liblinear'},\n",
       "  {'estimator__C': 1.0,\n",
       "   'estimator__penalty': 'l1',\n",
       "   'estimator__solver': 'lbfgs'},\n",
       "  {'estimator__C': 1.0,\n",
       "   'estimator__penalty': 'l1',\n",
       "   'estimator__solver': 'liblinear'},\n",
       "  {'estimator__C': 1.0,\n",
       "   'estimator__penalty': 'l2',\n",
       "   'estimator__solver': 'lbfgs'},\n",
       "  {'estimator__C': 1.0,\n",
       "   'estimator__penalty': 'l2',\n",
       "   'estimator__solver': 'liblinear'},\n",
       "  {'estimator__C': 100.0,\n",
       "   'estimator__penalty': 'l1',\n",
       "   'estimator__solver': 'lbfgs'},\n",
       "  {'estimator__C': 100.0,\n",
       "   'estimator__penalty': 'l1',\n",
       "   'estimator__solver': 'liblinear'},\n",
       "  {'estimator__C': 100.0,\n",
       "   'estimator__penalty': 'l2',\n",
       "   'estimator__solver': 'lbfgs'},\n",
       "  {'estimator__C': 100.0,\n",
       "   'estimator__penalty': 'l2',\n",
       "   'estimator__solver': 'liblinear'}],\n",
       " 'split0_test_score': array([       nan, 0.5       , 0.64177049, 0.64177049,        nan,\n",
       "        0.5       , 0.6424918 , 0.64439344,        nan, 0.5       ,\n",
       "        0.66065574, 0.70321311,        nan, 0.5       , 0.76386885,\n",
       "        0.76452459,        nan, 0.71055738, 0.69101639, 0.69108197,\n",
       "               nan, 0.66537705, 0.66491803, 0.66511475]),\n",
       " 'split1_test_score': array([       nan, 0.5       , 0.58662295, 0.58668852,        nan,\n",
       "        0.5       , 0.58701639, 0.58747541,        nan, 0.5       ,\n",
       "        0.61114754, 0.66793443,        nan, 0.5       , 0.71232787,\n",
       "        0.72137705,        nan, 0.72668852, 0.71036066, 0.71055738,\n",
       "               nan, 0.7117377 , 0.71147541, 0.71147541]),\n",
       " 'split2_test_score': array([       nan, 0.5       , 0.32629508, 0.32629508,        nan,\n",
       "        0.5       , 0.32622951, 0.32609836,        nan, 0.5       ,\n",
       "        0.33678689, 0.37213115,        nan, 0.5       , 0.51003279,\n",
       "        0.56183607,        nan, 0.57029508, 0.57521311, 0.57501639,\n",
       "               nan, 0.57055738, 0.57095082, 0.57081967]),\n",
       " 'split3_test_score': array([       nan, 0.5       , 0.64764048, 0.64764048,        nan,\n",
       "        0.5       , 0.64784506, 0.6498227 ,        nan, 0.5       ,\n",
       "        0.68378342, 0.76786688,        nan, 0.5       , 0.80039553,\n",
       "        0.7912575 ,        nan, 0.76663939, 0.76459356, 0.76432079,\n",
       "               nan, 0.75968358, 0.75934261, 0.759479  ]),\n",
       " 'split4_test_score': array([       nan, 0.5       , 0.70751366, 0.70751366,        nan,\n",
       "        0.5       , 0.70737705, 0.70737705,        nan, 0.5       ,\n",
       "        0.70546448, 0.67752732,        nan, 0.5       , 0.63811475,\n",
       "        0.6272541 ,        nan, 0.59193989, 0.58811475, 0.5898224 ,\n",
       "               nan, 0.58217213, 0.58210383, 0.58217213]),\n",
       " 'mean_test_score': array([       nan, 0.5       , 0.58196853, 0.58198165,        nan,\n",
       "        0.5       , 0.58219196, 0.58303339,        nan, 0.5       ,\n",
       "        0.59956761, 0.63773458,        nan, 0.5       , 0.68494796,\n",
       "        0.69324986,        nan, 0.67322405, 0.6658597 , 0.66615979,\n",
       "               nan, 0.65790557, 0.65775814, 0.65781219]),\n",
       " 'std_test_score': array([       nan, 0.        , 0.13344754, 0.133448  ,        nan,\n",
       "        0.        , 0.13353483, 0.13395712,        nan, 0.        ,\n",
       "        0.1350748 , 0.13730443,        nan, 0.        , 0.10304851,\n",
       "        0.08614145,        nan, 0.07769188, 0.07296938, 0.07261179,\n",
       "               nan, 0.07304484, 0.07282211, 0.07288117]),\n",
       " 'rank_test_score': array([24, 15, 14, 13, 21, 15, 12, 11, 23, 15, 10,  9, 19, 15,  2,  1, 20,\n",
       "         3,  5,  4, 22,  6,  8,  7], dtype=int32)}"
      ]
     },
     "execution_count": 64,
     "metadata": {},
     "output_type": "execute_result"
    }
   ],
   "source": [
    "%%time\n",
    "from sklearn.linear_model import LogisticRegression\n",
    "\n",
    "estimator_name = 'LogReg'\n",
    "estimator = LogisticRegression(max_iter=200)\n",
    "hyperparams = {'C':  np.geomspace(1e-8, 1e2, 6),\n",
    "               'penalty': ['l1', 'l2'], \n",
    "               'solver': ['lbfgs', 'liblinear']}\n",
    "\n",
    "estimator = gs_cv(estimator, X, y, hyperparams,  cv_value=5, \n",
    "                scoring='roc_auc', splitting='random',\n",
    "                std_scale=True)\n",
    "\n",
    "estimator.cv_results_"
   ]
  },
  {
   "cell_type": "code",
   "execution_count": 60,
   "metadata": {
    "cell_style": "split"
   },
   "outputs": [
    {
     "name": "stdout",
     "output_type": "stream",
     "text": [
      "LogReg => Train: Merged; Test: Merged; split: scaffold\n",
      "No. of molecules in train set: 2599, with 311 actives.\n",
      "No. of molecules in test set: 867, with 104 actives.\n",
      "\n",
      "********** GRID SEARCH RESULTS **********\n",
      "- Mean CV ROC-AUC:\t0.860\n",
      "- Train ROC-AUC:  \t0.949\n",
      "- Test ROC-AUC:   \t0.821\n",
      "- Best hyperparameters {'C': 0.01, 'penalty': 'l2', 'solver': 'lbfgs'}\n",
      "******************************************\n",
      "\n",
      "***** Best Conformation's ROC-AUC using docking scores *****\n",
      "> Train best conf. ROC-AUC: 0.654 \t> median: 0.602, mean: 0.596\n",
      "> Test best conf. ROC-AUC: 0.746 \t> median: 0.642, mean: 0.640\n",
      "****************************************************************\n",
      "CPU times: user 3.12 s, sys: 824 ms, total: 3.95 s\n",
      "Wall time: 2min 30s\n"
     ]
    }
   ],
   "source": [
    "%%time\n",
    "# from sklearn.linear_model import LogisticRegression\n",
    "\n",
    "estimator_name = 'LogReg'\n",
    "estimator = LogisticRegression(max_iter=200)\n",
    "hyperparams = {'C':  np.geomspace(1e-8, 1e2, 6), \n",
    "               'penalty': ['l1', 'l2'], \n",
    "               'solver': ['lbfgs', 'liblinear']}\n",
    "\n",
    "# SCAFFOLD Train test splitting\n",
    "split_and_gs(library, library, estimator_name,\n",
    "             X, y, estimator, hyperparams,\n",
    "             splitting='scaffold', test_size=0.25, \n",
    "             scaffold_series=scaffold_series)"
   ]
  },
  {
   "cell_type": "markdown",
   "metadata": {},
   "source": [
    "<h3 style='color: #F84122; padding: 0px;; margin: 0px'>GS: Decision Tree Classifier</h3>\n",
    "<b>Merged Libraries</b>"
   ]
  },
  {
   "cell_type": "code",
   "execution_count": 44,
   "metadata": {
    "cell_style": "split"
   },
   "outputs": [
    {
     "name": "stdout",
     "output_type": "stream",
     "text": [
      "DTree => Train: Merged; Test: Merged; split: random\n",
      "No. of molecules in train set: 2856, with 111.0 actives.\n",
      "No. of molecules in test set: 318, with 12.0 actives.\n",
      "\n",
      "********** GRID SEARCH RESULTS **********\n",
      "- Mean CV ROC-AUC:\t0.717\n",
      "- Train ROC-AUC:  \t0.821\n",
      "- Test ROC-AUC:   \t0.682\n",
      "- Best hyperparameters {'criterion': 'entropy', 'max_depth': 5, 'max_features': None, 'min_samples_leaf': 0.02, 'min_samples_split': 0.2}\n",
      "******************************************\n",
      "\n",
      "***** Best Conformation's ROC-AUC using docking scores *****\n",
      "> Train best conf. ROC-AUC: 0.639 \t> median: 0.533, mean: 0.539\n",
      "> Test best conf. ROC-AUC: 0.680 \t> median: 0.470, mean: 0.478\n",
      "****************************************************************\n",
      "CPU times: user 1.78 s, sys: 62.7 ms, total: 1.85 s\n",
      "Wall time: 4.37 s\n"
     ]
    }
   ],
   "source": [
    "%%time\n",
    "from sklearn.tree import DecisionTreeClassifier\n",
    "\n",
    "estimator_name = 'DTree'\n",
    "estimator = DecisionTreeClassifier(splitter='best')\n",
    "hyperparams = {'criterion': ['gini', 'entropy'], \n",
    "               'max_depth': [2, 3, 5],\n",
    "               'min_samples_split': [0.2,  0.3],\n",
    "               'min_samples_leaf': [0.02, 0.05, 0.1],\n",
    "               'max_features': [None, 'sqrt', 'log2']}\n",
    "\n",
    "# RANDOM Train test splitting\n",
    "split_and_gs(library, library, estimator_name,\n",
    "             X, y, estimator, hyperparams,\n",
    "             splitting='random', test_size=0.1, \n",
    "             random_state=12)"
   ]
  },
  {
   "cell_type": "code",
   "execution_count": 62,
   "metadata": {
    "cell_style": "split"
   },
   "outputs": [
    {
     "name": "stdout",
     "output_type": "stream",
     "text": [
      "DTree => Train: Merged; Test: Merged; split: scaffold\n",
      "No. of molecules in train set: 2599, with 311 actives.\n",
      "No. of molecules in test set: 867, with 104 actives.\n",
      "\n",
      "********** GRID SEARCH RESULTS **********\n",
      "- Mean CV ROC-AUC:\t0.742\n",
      "- Train ROC-AUC:  \t0.768\n",
      "- Test ROC-AUC:   \t0.626\n",
      "- Best hyperparameters {'criterion': 'entropy', 'max_depth': 5, 'max_features': 'sqrt', 'min_samples_leaf': 0.02, 'min_samples_split': 0.3}\n",
      "******************************************\n",
      "\n",
      "***** Best Conformation's ROC-AUC using docking scores *****\n",
      "> Train best conf. ROC-AUC: 0.654 \t> median: 0.602, mean: 0.596\n",
      "> Test best conf. ROC-AUC: 0.746 \t> median: 0.642, mean: 0.640\n",
      "****************************************************************\n",
      "CPU times: user 2.93 s, sys: 158 ms, total: 3.09 s\n",
      "Wall time: 8.13 s\n"
     ]
    }
   ],
   "source": [
    "%%time\n",
    "from sklearn.tree import DecisionTreeClassifier\n",
    "\n",
    "estimator_name = 'DTree'\n",
    "estimator = DecisionTreeClassifier(splitter='best')\n",
    "hyperparams = {'criterion': ['gini', 'entropy'], \n",
    "               'max_depth': [2, 3, 5],\n",
    "               'min_samples_split': [0.2,  0.3],\n",
    "               'min_samples_leaf': [0.02, 0.05, 0.1],\n",
    "               'max_features': [None, 'sqrt', 'log2']}\n",
    "\n",
    "# SCAFFOLD Train test splitting\n",
    "split_and_gs(library, library, estimator_name,\n",
    "             X, y, estimator, hyperparams,\n",
    "             splitting='scaffold', test_size=0.25, \n",
    "             scaffold_series=scaffold_series)"
   ]
  },
  {
   "cell_type": "markdown",
   "metadata": {},
   "source": [
    "<h3 style='color: #F84122; padding: 0px;; margin: 0px'>GS: KKN - 1-NN as reference estimator </h3>\n",
    "<b>Merged Libraries</b>"
   ]
  },
  {
   "cell_type": "code",
   "execution_count": 65,
   "metadata": {
    "cell_style": "split"
   },
   "outputs": [
    {
     "name": "stdout",
     "output_type": "stream",
     "text": [
      "1-NN => Train: Merged; Test: Merged; split: random\n",
      "No. of molecules in train set: 2380, with 92.0 actives.\n",
      "No. of molecules in test set: 794, with 31.0 actives.\n",
      "\n",
      "********** GRID SEARCH RESULTS **********\n",
      "- Mean CV ROC-AUC:\t0.606\n",
      "- Train ROC-AUC:  \t1.000\n",
      "- Test ROC-AUC:   \t0.638\n",
      "- Best hyperparameters {'n_neighbors': 1, 'p': 1}\n",
      "******************************************\n",
      "\n",
      "***** Best Conformation's ROC-AUC using docking scores *****\n",
      "> Train best conf. ROC-AUC: 0.622 \t> median: 0.532, mean: 0.536\n",
      "> Test best conf. ROC-AUC: 0.709 \t> median: 0.517, mean: 0.527\n",
      "****************************************************************\n",
      "CPU times: user 1.16 s, sys: 11.5 ms, total: 1.17 s\n",
      "Wall time: 2.3 s\n"
     ]
    }
   ],
   "source": [
    "%%time\n",
    "from sklearn.neighbors import KNeighborsClassifier \n",
    "\n",
    "estimator_name = '1-NN'\n",
    "estimator = KNeighborsClassifier()\n",
    "hyperparams = {'n_neighbors': [1], \n",
    "               'p': [1, 2]\n",
    "             }\n",
    "\n",
    "# RANDOM Train test splitting\n",
    "split_and_gs(library, library, estimator_name,\n",
    "             X, y, estimator, hyperparams,\n",
    "             splitting='random', test_size=0.25, \n",
    "             random_state=12)"
   ]
  },
  {
   "cell_type": "code",
   "execution_count": 48,
   "metadata": {
    "cell_style": "split"
   },
   "outputs": [
    {
     "ename": "AttributeError",
     "evalue": "'NoneType' object has no attribute 'index'",
     "output_type": "error",
     "traceback": [
      "\u001b[0;31m---------------------------------------------------------------------------\u001b[0m",
      "\u001b[0;31mAttributeError\u001b[0m                            Traceback (most recent call last)",
      "\u001b[0;32m<timed exec>\u001b[0m in \u001b[0;36m<module>\u001b[0;34m\u001b[0m\n",
      "\u001b[0;32m<ipython-input-32-1178e784a670>\u001b[0m in \u001b[0;36mwrapper\u001b[0;34m(*args, **kwargs)\u001b[0m\n\u001b[1;32m      9\u001b[0m         \u001b[0;32mdef\u001b[0m \u001b[0mwrapper\u001b[0m\u001b[0;34m(\u001b[0m\u001b[0;34m*\u001b[0m\u001b[0margs\u001b[0m\u001b[0;34m,\u001b[0m \u001b[0;34m**\u001b[0m\u001b[0mkwargs\u001b[0m\u001b[0;34m)\u001b[0m\u001b[0;34m:\u001b[0m\u001b[0;34m\u001b[0m\u001b[0;34m\u001b[0m\u001b[0m\n\u001b[1;32m     10\u001b[0m             \u001b[0;32mif\u001b[0m \u001b[0mresults_dict\u001b[0m \u001b[0;34m!=\u001b[0m \u001b[0;32mNone\u001b[0m \u001b[0;32mand\u001b[0m \u001b[0mcapture\u001b[0m\u001b[0;34m:\u001b[0m\u001b[0;34m\u001b[0m\u001b[0;34m\u001b[0m\u001b[0m\n\u001b[0;32m---> 11\u001b[0;31m                 \u001b[0mresults\u001b[0m \u001b[0;34m=\u001b[0m \u001b[0mfunc\u001b[0m\u001b[0;34m(\u001b[0m\u001b[0;34m*\u001b[0m\u001b[0margs\u001b[0m\u001b[0;34m,\u001b[0m \u001b[0;34m**\u001b[0m\u001b[0mkwargs\u001b[0m\u001b[0;34m)\u001b[0m\u001b[0;34m\u001b[0m\u001b[0;34m\u001b[0m\u001b[0m\n\u001b[0m\u001b[1;32m     12\u001b[0m                 \u001b[0;31m# Create a key with the first four values\u001b[0m\u001b[0;34m\u001b[0m\u001b[0;34m\u001b[0m\u001b[0;34m\u001b[0m\u001b[0m\n\u001b[1;32m     13\u001b[0m                 \u001b[0mkey\u001b[0m \u001b[0;34m=\u001b[0m \u001b[0;34m'_'\u001b[0m\u001b[0;34m.\u001b[0m\u001b[0mjoin\u001b[0m\u001b[0;34m(\u001b[0m\u001b[0mresults\u001b[0m\u001b[0;34m[\u001b[0m\u001b[0;34m:\u001b[0m\u001b[0;36m4\u001b[0m\u001b[0;34m]\u001b[0m\u001b[0;34m)\u001b[0m\u001b[0;34m\u001b[0m\u001b[0;34m\u001b[0m\u001b[0m\n",
      "\u001b[0;32m<ipython-input-32-1178e784a670>\u001b[0m in \u001b[0;36msplit_and_gs\u001b[0;34m(train_name, test_name, estimator_name, X, y, estimator, hyperparams, splitting, test_size, scaffold_series, random_state, **kwargs)\u001b[0m\n\u001b[1;32m     39\u001b[0m         \u001b[0mX_train\u001b[0m\u001b[0;34m,\u001b[0m \u001b[0mX_test\u001b[0m\u001b[0;34m,\u001b[0m \u001b[0my_train\u001b[0m\u001b[0;34m,\u001b[0m \u001b[0my_test\u001b[0m \u001b[0;34m=\u001b[0m\u001b[0;31m \u001b[0m\u001b[0;31m\\\u001b[0m\u001b[0;34m\u001b[0m\u001b[0;34m\u001b[0m\u001b[0m\n\u001b[1;32m     40\u001b[0m             train_test_scaffold_split(X, y, scaffold_series = scaffold_series,\n\u001b[0;32m---> 41\u001b[0;31m                 test_size=test_size, stratify=y)\n\u001b[0m\u001b[1;32m     42\u001b[0m     \u001b[0;32melif\u001b[0m \u001b[0msplitting\u001b[0m \u001b[0;34m==\u001b[0m \u001b[0;34m'random'\u001b[0m\u001b[0;34m:\u001b[0m\u001b[0;34m\u001b[0m\u001b[0;34m\u001b[0m\u001b[0m\n\u001b[1;32m     43\u001b[0m         \u001b[0mX_train\u001b[0m\u001b[0;34m,\u001b[0m \u001b[0mX_test\u001b[0m\u001b[0;34m,\u001b[0m \u001b[0my_train\u001b[0m\u001b[0;34m,\u001b[0m \u001b[0my_test\u001b[0m \u001b[0;34m=\u001b[0m\u001b[0;31m \u001b[0m\u001b[0;31m\\\u001b[0m\u001b[0;34m\u001b[0m\u001b[0;34m\u001b[0m\u001b[0m\n",
      "\u001b[0;32m~/Documentos/Doctorado/DOCTO_TESIS/Proteinas_Modelo/CDK2/FXa/ANALISIS/2_Docking_analysis/scaffold_splitter.py\u001b[0m in \u001b[0;36mtrain_test_scaffold_split\u001b[0;34m(X, y, scaffold_series, test_size, stratify)\u001b[0m\n\u001b[1;32m    120\u001b[0m     '''\n\u001b[1;32m    121\u001b[0m \u001b[0;34m\u001b[0m\u001b[0m\n\u001b[0;32m--> 122\u001b[0;31m     \u001b[0;32massert\u001b[0m \u001b[0;34m(\u001b[0m\u001b[0mX\u001b[0m\u001b[0;34m.\u001b[0m\u001b[0mindex\u001b[0m \u001b[0;34m==\u001b[0m \u001b[0mscaffold_series\u001b[0m\u001b[0;34m.\u001b[0m\u001b[0mindex\u001b[0m\u001b[0;34m)\u001b[0m\u001b[0;34m.\u001b[0m\u001b[0mall\u001b[0m\u001b[0;34m(\u001b[0m\u001b[0;34m)\u001b[0m\u001b[0;34m,\u001b[0m \u001b[0;34m'Index should be the same between X and rdk_mols_series'\u001b[0m\u001b[0;34m\u001b[0m\u001b[0;34m\u001b[0m\u001b[0m\n\u001b[0m\u001b[1;32m    123\u001b[0m     \u001b[0;32massert\u001b[0m \u001b[0mlen\u001b[0m\u001b[0;34m(\u001b[0m\u001b[0mX\u001b[0m\u001b[0;34m)\u001b[0m \u001b[0;34m==\u001b[0m \u001b[0mlen\u001b[0m\u001b[0;34m(\u001b[0m\u001b[0my\u001b[0m\u001b[0;34m)\u001b[0m\u001b[0;34m,\u001b[0m \u001b[0;34m'Numer of observations in X and y is not the same.'\u001b[0m\u001b[0;34m\u001b[0m\u001b[0;34m\u001b[0m\u001b[0m\n\u001b[1;32m    124\u001b[0m \u001b[0;34m\u001b[0m\u001b[0m\n",
      "\u001b[0;31mAttributeError\u001b[0m: 'NoneType' object has no attribute 'index'"
     ]
    }
   ],
   "source": [
    "%%time\n",
    "from sklearn.neighbors import KNeighborsClassifier \n",
    "\n",
    "estimator_name = '1-NN'\n",
    "estimator = KNeighborsClassifier()\n",
    "hyperparams = {'n_neighbors': [1], \n",
    "               'p': [1, 2]\n",
    "             }\n",
    "\n",
    "# RANDOM Train test splitting\n",
    "split_and_gs(library, library, estimator_name,\n",
    "             X, y, estimator, hyperparams,\n",
    "             splitting='scaffold', test_size=0.1, \n",
    "             scaffold_series=scaffold_series)"
   ]
  },
  {
   "cell_type": "markdown",
   "metadata": {},
   "source": [
    "<h3 style='color: #F84122; padding: 0px;; margin: 0px'>GS: Random Forest </h3>\n",
    "<b>Merged Libraries</b>"
   ]
  },
  {
   "cell_type": "code",
   "execution_count": 65,
   "metadata": {
    "cell_style": "split"
   },
   "outputs": [
    {
     "name": "stdout",
     "output_type": "stream",
     "text": [
      "RandForest => Train: Merged; Test: Merged; split: random\n",
      "No. of molecules in train set: 2599, with 311 actives.\n",
      "No. of molecules in test set: 867, with 104 actives.\n",
      "\n",
      "********** GRID SEARCH RESULTS **********\n",
      "- Mean CV ROC-AUC:\t0.769\n",
      "- Train ROC-AUC:  \t0.808\n",
      "- Test ROC-AUC:   \t0.797\n",
      "- Best hyperparameters {'max_depth': 3, 'max_features': 'sqrt', 'min_samples_leaf': 0.05, 'min_samples_split': 0.1, 'n_estimators': 300}\n",
      "******************************************\n",
      "\n",
      "***** Best Conformation's ROC-AUC using docking scores *****\n",
      "> Train best conf. ROC-AUC: 0.673 \t> median: 0.615, mean: 0.610\n",
      "> Test best conf. ROC-AUC: 0.671 \t> median: 0.613, mean: 0.607\n",
      "****************************************************************\n",
      "CPU times: user 3.44 s, sys: 103 ms, total: 3.54 s\n",
      "Wall time: 38.5 s\n"
     ]
    }
   ],
   "source": [
    "%%time\n",
    "from sklearn.ensemble import RandomForestClassifier\n",
    "\n",
    "estimator_name = 'RandForest'\n",
    "estimator = RandomForestClassifier()\n",
    "hyperparams = {'n_estimators': [300, 400],\n",
    "               'max_depth': [2, 3],\n",
    "               'min_samples_split': [0.1,  0.3],\n",
    "               'min_samples_leaf': [0.02, 0.05],\n",
    "               'max_features': ['sqrt']\n",
    "            }\n",
    "\n",
    "# RANDOM Train test splitting\n",
    "split_and_gs(library, library, estimator_name,\n",
    "             X, y, estimator, hyperparams,\n",
    "             splitting='random', test_size=0.25, \n",
    "             scaffold_series=None)"
   ]
  },
  {
   "cell_type": "code",
   "execution_count": 66,
   "metadata": {
    "cell_style": "split"
   },
   "outputs": [
    {
     "name": "stdout",
     "output_type": "stream",
     "text": [
      "RandForest => Train: Merged; Test: Merged; split: scaffold\n",
      "No. of molecules in train set: 2599, with 311 actives.\n",
      "No. of molecules in test set: 867, with 104 actives.\n",
      "\n",
      "********** GRID SEARCH RESULTS **********\n",
      "- Mean CV ROC-AUC:\t0.768\n",
      "- Train ROC-AUC:  \t0.831\n",
      "- Test ROC-AUC:   \t0.680\n",
      "- Best hyperparameters {'max_depth': 3, 'max_features': 'sqrt', 'min_samples_leaf': 0.05, 'min_samples_split': 0.1, 'n_estimators': 300}\n",
      "******************************************\n",
      "\n",
      "***** Best Conformation's ROC-AUC using docking scores *****\n",
      "> Train best conf. ROC-AUC: 0.654 \t> median: 0.602, mean: 0.596\n",
      "> Test best conf. ROC-AUC: 0.746 \t> median: 0.642, mean: 0.640\n",
      "****************************************************************\n",
      "CPU times: user 3.36 s, sys: 80.5 ms, total: 3.44 s\n",
      "Wall time: 36.1 s\n"
     ]
    }
   ],
   "source": [
    "%%time\n",
    "from sklearn.ensemble import RandomForestClassifier\n",
    "\n",
    "estimator_name = 'RandForest'\n",
    "estimator = RandomForestClassifier()\n",
    "hyperparams = {'n_estimators': [300, 400],\n",
    "               'max_depth': [2, 3],\n",
    "               'min_samples_split': [0.1,  0.3],\n",
    "               'min_samples_leaf': [0.02, 0.05],\n",
    "               'max_features': ['sqrt']\n",
    "            }\n",
    "\n",
    "# SCAFFOLD Train test splitting\n",
    "split_and_gs(library, library, estimator_name,\n",
    "             X, y, estimator, hyperparams,\n",
    "             splitting='scaffold', test_size=0.25, \n",
    "             scaffold_series=scaffold_series)"
   ]
  },
  {
   "cell_type": "markdown",
   "metadata": {},
   "source": [
    "<h3 style='color: #F84122; padding: 0px;; margin: 0px'>GS: X Gradient Boosting </h3>\n",
    "<b>Merged Libraries</b>"
   ]
  },
  {
   "cell_type": "code",
   "execution_count": 91,
   "metadata": {
    "cell_style": "split"
   },
   "outputs": [
    {
     "name": "stdout",
     "output_type": "stream",
     "text": [
      "XGB_tree => Train: Merged; Test: Merged; split: random\n",
      "No. of molecules in train set: 2380, with 92.0 actives.\n",
      "No. of molecules in test set: 794, with 31.0 actives.\n",
      "\n",
      "********** GRID SEARCH RESULTS **********\n",
      "- Mean CV ROC-AUC:\t0.711\n",
      "- Train ROC-AUC:  \t0.975\n",
      "- Test ROC-AUC:   \t0.849\n",
      "- Best hyperparameters {'colsample_bytree': 0.4, 'gamma': 5, 'lambda': 5, 'max_depth': 5, 'subsample': 0.4}\n",
      "******************************************\n",
      "\n",
      "***** Best Conformation's ROC-AUC using docking scores *****\n",
      "> Train best conf. ROC-AUC: 0.622 \t> median: 0.532, mean: 0.536\n",
      "> Test best conf. ROC-AUC: 0.709 \t> median: 0.517, mean: 0.527\n",
      "****************************************************************\n",
      "CPU times: user 4min 34s, sys: 1.45 s, total: 4min 36s\n",
      "Wall time: 2min 17s\n"
     ]
    }
   ],
   "source": [
    "%%time\n",
    "\n",
    "from xgboost import XGBClassifier\n",
    "\n",
    "estimator_name = 'XGB_tree'\n",
    "estimator = XGBClassifier(n_estimators=300, learning_rate=0.2)\n",
    "hyperparams = {\n",
    "               'max_depth': [3, 5],\n",
    "               'gamma': [5, 8],\n",
    "               'lambda': [3, 5],\n",
    "               'subsample': [0.4],\n",
    "               'colsample_bytree': [0.4]\n",
    "            }\n",
    "\n",
    "# RANDOM Train test splitting\n",
    "split_and_gs(library, library, estimator_name,\n",
    "             X, y, estimator, hyperparams,\n",
    "             splitting='random', test_size=0.25, \n",
    "             scaffold_series=None,\n",
    "             # RandomizedGS\n",
    "             random_state=12)"
   ]
  },
  {
   "cell_type": "code",
   "execution_count": 68,
   "metadata": {
    "cell_style": "split"
   },
   "outputs": [
    {
     "name": "stdout",
     "output_type": "stream",
     "text": [
      "XGB_tree => Train: Merged; Test: Merged; split: scaffold\n",
      "No. of molecules in train set: 2599, with 311 actives.\n",
      "No. of molecules in test set: 867, with 104 actives.\n",
      "\n",
      "********** GRID SEARCH RESULTS **********\n",
      "- Mean CV ROC-AUC:\t0.854\n",
      "- Train ROC-AUC:  \t1.000\n",
      "- Test ROC-AUC:   \t0.778\n",
      "- Best hyperparameters {'subsample': 0.5, 'n_estimators': 200, 'max_depth': 10, 'learning_rate': 0.1, 'gamma': 0.1, 'colsample_bytree': 1, 'alpha': 1}\n",
      "******************************************\n",
      "\n",
      "***** Best Conformation's ROC-AUC using docking scores *****\n",
      "> Train best conf. ROC-AUC: 0.654 \t> median: 0.602, mean: 0.596\n",
      "> Test best conf. ROC-AUC: 0.746 \t> median: 0.642, mean: 0.640\n",
      "****************************************************************\n",
      "CPU times: user 31 s, sys: 3.33 s, total: 34.4 s\n",
      "Wall time: 4min 58s\n"
     ]
    }
   ],
   "source": [
    "%%time\n",
    "\n",
    "from xgboost import XGBClassifier\n",
    "\n",
    "estimator_name = 'XGB_tree'\n",
    "estimator = XGBClassifier()\n",
    "hyperparams = {'n_estimators': [200, 300],\n",
    "               'max_depth': [2, 3, 10],\n",
    "               'learning_rate': [0.05, 0.1],\n",
    "               'gamma': [0.01, 0.1, 0.5, 1],\n",
    "               'alpha': [0.01, 0.1, 0.5, 1],\n",
    "               'subsample': [0.3, 0.5],\n",
    "               'colsample_bytree': [0.3, 0.5, 1]\n",
    "            }\n",
    "\n",
    "# RANDOM Train test splitting\n",
    "split_and_gs(library, library, estimator_name,\n",
    "             X, y, estimator, hyperparams,\n",
    "             splitting='scaffold', test_size=0.25, \n",
    "             scaffold_series=scaffold_series,\n",
    "             # RandomizedGS\n",
    "             randomGS=True, n_iter=50)"
   ]
  },
  {
   "cell_type": "markdown",
   "metadata": {},
   "source": [
    "## Get, Format, and Save the Results"
   ]
  },
  {
   "cell_type": "code",
   "execution_count": 1,
   "metadata": {},
   "outputs": [
    {
     "data": {
      "text/html": [
       "<div>\n",
       "<style scoped>\n",
       "    .dataframe tbody tr th:only-of-type {\n",
       "        vertical-align: middle;\n",
       "    }\n",
       "\n",
       "    .dataframe tbody tr th {\n",
       "        vertical-align: top;\n",
       "    }\n",
       "\n",
       "    .dataframe thead th {\n",
       "        text-align: right;\n",
       "    }\n",
       "</style>\n",
       "<table border=\"1\" class=\"dataframe\">\n",
       "  <thead>\n",
       "    <tr style=\"text-align: right;\">\n",
       "      <th></th>\n",
       "      <th>Unnamed: 0</th>\n",
       "      <th>Train_set</th>\n",
       "      <th>Test_set</th>\n",
       "      <th>Model name</th>\n",
       "      <th>Split</th>\n",
       "      <th>N_actives_train</th>\n",
       "      <th>N_actives_test</th>\n",
       "      <th>N_mols_train</th>\n",
       "      <th>Num_mols_test</th>\n",
       "      <th>Mean-CV-ROC</th>\n",
       "      <th>ROC-AUC_train</th>\n",
       "      <th>ROC-AUC_test</th>\n",
       "      <th>best_params</th>\n",
       "      <th>DkS_max_ROC_train</th>\n",
       "      <th>DkSc_med_ROC_train</th>\n",
       "      <th>DkSc_mean_ROC_train</th>\n",
       "      <th>DkS_max_ROC_test</th>\n",
       "      <th>DkSc_med_ROC_test</th>\n",
       "      <th>DkSc_mean_ROC_test</th>\n",
       "    </tr>\n",
       "  </thead>\n",
       "  <tbody>\n",
       "    <tr>\n",
       "      <th>0</th>\n",
       "      <td>0</td>\n",
       "      <td>DEKOIS</td>\n",
       "      <td>DEKOIS</td>\n",
       "      <td>LinearSVC</td>\n",
       "      <td>random</td>\n",
       "      <td>929</td>\n",
       "      <td>30</td>\n",
       "      <td>310</td>\n",
       "      <td>10</td>\n",
       "      <td>0.857541</td>\n",
       "      <td>0.993215</td>\n",
       "      <td>0.838000</td>\n",
       "      <td>{'C': 0.0001}</td>\n",
       "      <td>0.821913</td>\n",
       "      <td>0.708398</td>\n",
       "      <td>0.706996</td>\n",
       "      <td>0.835167</td>\n",
       "      <td>0.649167</td>\n",
       "      <td>0.656708</td>\n",
       "    </tr>\n",
       "    <tr>\n",
       "      <th>1</th>\n",
       "      <td>1</td>\n",
       "      <td>DEKOIS</td>\n",
       "      <td>DEKOIS</td>\n",
       "      <td>LinearSVC</td>\n",
       "      <td>scaffold</td>\n",
       "      <td>899</td>\n",
       "      <td>30</td>\n",
       "      <td>340</td>\n",
       "      <td>10</td>\n",
       "      <td>0.821941</td>\n",
       "      <td>0.967511</td>\n",
       "      <td>0.838788</td>\n",
       "      <td>{'C': 0.0001}</td>\n",
       "      <td>0.828692</td>\n",
       "      <td>0.733381</td>\n",
       "      <td>0.731857</td>\n",
       "      <td>0.808333</td>\n",
       "      <td>0.595909</td>\n",
       "      <td>0.596055</td>\n",
       "    </tr>\n",
       "    <tr>\n",
       "      <th>2</th>\n",
       "      <td>2</td>\n",
       "      <td>DEKOIS</td>\n",
       "      <td>DEKOIS</td>\n",
       "      <td>rbfSVC</td>\n",
       "      <td>random</td>\n",
       "      <td>929</td>\n",
       "      <td>30</td>\n",
       "      <td>310</td>\n",
       "      <td>10</td>\n",
       "      <td>0.848584</td>\n",
       "      <td>0.976492</td>\n",
       "      <td>0.837667</td>\n",
       "      <td>{'C': 100.0, 'gamma': 1e-06}</td>\n",
       "      <td>0.814349</td>\n",
       "      <td>0.706674</td>\n",
       "      <td>0.703665</td>\n",
       "      <td>0.815333</td>\n",
       "      <td>0.665500</td>\n",
       "      <td>0.668252</td>\n",
       "    </tr>\n",
       "    <tr>\n",
       "      <th>3</th>\n",
       "      <td>3</td>\n",
       "      <td>DEKOIS</td>\n",
       "      <td>DEKOIS</td>\n",
       "      <td>rbfSVC</td>\n",
       "      <td>scaffold</td>\n",
       "      <td>899</td>\n",
       "      <td>30</td>\n",
       "      <td>340</td>\n",
       "      <td>10</td>\n",
       "      <td>0.828257</td>\n",
       "      <td>0.955850</td>\n",
       "      <td>0.873030</td>\n",
       "      <td>{'C': 100.0, 'gamma': 1e-08}</td>\n",
       "      <td>0.828692</td>\n",
       "      <td>0.733381</td>\n",
       "      <td>0.731857</td>\n",
       "      <td>0.808333</td>\n",
       "      <td>0.595909</td>\n",
       "      <td>0.596055</td>\n",
       "    </tr>\n",
       "    <tr>\n",
       "      <th>4</th>\n",
       "      <td>4</td>\n",
       "      <td>DEKOIS</td>\n",
       "      <td>DEKOIS</td>\n",
       "      <td>LogReg</td>\n",
       "      <td>random</td>\n",
       "      <td>929</td>\n",
       "      <td>30</td>\n",
       "      <td>310</td>\n",
       "      <td>10</td>\n",
       "      <td>0.871050</td>\n",
       "      <td>0.960030</td>\n",
       "      <td>0.836333</td>\n",
       "      <td>{'C': 0.01, 'penalty': 'l2', 'solver': 'lbfgs'}</td>\n",
       "      <td>0.808862</td>\n",
       "      <td>0.687987</td>\n",
       "      <td>0.687810</td>\n",
       "      <td>0.829000</td>\n",
       "      <td>0.717750</td>\n",
       "      <td>0.716770</td>\n",
       "    </tr>\n",
       "    <tr>\n",
       "      <th>5</th>\n",
       "      <td>5</td>\n",
       "      <td>DEKOIS</td>\n",
       "      <td>DEKOIS</td>\n",
       "      <td>LogReg</td>\n",
       "      <td>scaffold</td>\n",
       "      <td>899</td>\n",
       "      <td>30</td>\n",
       "      <td>340</td>\n",
       "      <td>10</td>\n",
       "      <td>0.831961</td>\n",
       "      <td>0.934829</td>\n",
       "      <td>0.825152</td>\n",
       "      <td>{'C': 0.01, 'penalty': 'l2', 'solver': 'lbfgs'}</td>\n",
       "      <td>0.828692</td>\n",
       "      <td>0.733381</td>\n",
       "      <td>0.731857</td>\n",
       "      <td>0.808333</td>\n",
       "      <td>0.595909</td>\n",
       "      <td>0.596055</td>\n",
       "    </tr>\n",
       "    <tr>\n",
       "      <th>6</th>\n",
       "      <td>6</td>\n",
       "      <td>DEKOIS</td>\n",
       "      <td>DEKOIS</td>\n",
       "      <td>kNN</td>\n",
       "      <td>random</td>\n",
       "      <td>929</td>\n",
       "      <td>30</td>\n",
       "      <td>310</td>\n",
       "      <td>10</td>\n",
       "      <td>0.772427</td>\n",
       "      <td>0.771098</td>\n",
       "      <td>0.731833</td>\n",
       "      <td>{'n_neighbors': 225, 'p': 1}</td>\n",
       "      <td>0.778198</td>\n",
       "      <td>0.692362</td>\n",
       "      <td>0.692595</td>\n",
       "      <td>0.883500</td>\n",
       "      <td>0.702417</td>\n",
       "      <td>0.702298</td>\n",
       "    </tr>\n",
       "    <tr>\n",
       "      <th>7</th>\n",
       "      <td>7</td>\n",
       "      <td>DEKOIS</td>\n",
       "      <td>DEKOIS</td>\n",
       "      <td>kNN</td>\n",
       "      <td>scaffold</td>\n",
       "      <td>899</td>\n",
       "      <td>30</td>\n",
       "      <td>340</td>\n",
       "      <td>10</td>\n",
       "      <td>0.812489</td>\n",
       "      <td>0.827771</td>\n",
       "      <td>0.636364</td>\n",
       "      <td>{'n_neighbors': 125, 'p': 2}</td>\n",
       "      <td>0.828692</td>\n",
       "      <td>0.733381</td>\n",
       "      <td>0.731857</td>\n",
       "      <td>0.808333</td>\n",
       "      <td>0.595909</td>\n",
       "      <td>0.596055</td>\n",
       "    </tr>\n",
       "    <tr>\n",
       "      <th>8</th>\n",
       "      <td>8</td>\n",
       "      <td>DEKOIS</td>\n",
       "      <td>DEKOIS</td>\n",
       "      <td>DTree</td>\n",
       "      <td>random</td>\n",
       "      <td>929</td>\n",
       "      <td>30</td>\n",
       "      <td>310</td>\n",
       "      <td>10</td>\n",
       "      <td>0.707495</td>\n",
       "      <td>0.761494</td>\n",
       "      <td>0.712000</td>\n",
       "      <td>{'criterion': 'gini', 'max_depth': 3, 'max_fea...</td>\n",
       "      <td>0.800204</td>\n",
       "      <td>0.687060</td>\n",
       "      <td>0.686551</td>\n",
       "      <td>0.894667</td>\n",
       "      <td>0.721833</td>\n",
       "      <td>0.725884</td>\n",
       "    </tr>\n",
       "    <tr>\n",
       "      <th>9</th>\n",
       "      <td>9</td>\n",
       "      <td>DEKOIS</td>\n",
       "      <td>DEKOIS</td>\n",
       "      <td>DTree</td>\n",
       "      <td>scaffold</td>\n",
       "      <td>899</td>\n",
       "      <td>30</td>\n",
       "      <td>340</td>\n",
       "      <td>10</td>\n",
       "      <td>0.742715</td>\n",
       "      <td>0.912179</td>\n",
       "      <td>0.647273</td>\n",
       "      <td>{'criterion': 'entropy', 'max_depth': 5, 'max_...</td>\n",
       "      <td>0.828692</td>\n",
       "      <td>0.733381</td>\n",
       "      <td>0.731857</td>\n",
       "      <td>0.808333</td>\n",
       "      <td>0.595909</td>\n",
       "      <td>0.596055</td>\n",
       "    </tr>\n",
       "    <tr>\n",
       "      <th>10</th>\n",
       "      <td>10</td>\n",
       "      <td>DEKOIS</td>\n",
       "      <td>DEKOIS</td>\n",
       "      <td>RandForest</td>\n",
       "      <td>random</td>\n",
       "      <td>929</td>\n",
       "      <td>30</td>\n",
       "      <td>310</td>\n",
       "      <td>10</td>\n",
       "      <td>0.740425</td>\n",
       "      <td>0.816537</td>\n",
       "      <td>0.811667</td>\n",
       "      <td>{'max_depth': 5, 'max_features': 'sqrt', 'min_...</td>\n",
       "      <td>0.773248</td>\n",
       "      <td>0.682351</td>\n",
       "      <td>0.682241</td>\n",
       "      <td>0.886000</td>\n",
       "      <td>0.745833</td>\n",
       "      <td>0.736833</td>\n",
       "    </tr>\n",
       "    <tr>\n",
       "      <th>11</th>\n",
       "      <td>11</td>\n",
       "      <td>DEKOIS</td>\n",
       "      <td>DEKOIS</td>\n",
       "      <td>RandForest</td>\n",
       "      <td>scaffold</td>\n",
       "      <td>899</td>\n",
       "      <td>30</td>\n",
       "      <td>340</td>\n",
       "      <td>10</td>\n",
       "      <td>0.783393</td>\n",
       "      <td>0.841369</td>\n",
       "      <td>0.661818</td>\n",
       "      <td>{'max_depth': 2, 'max_features': 'log2', 'min_...</td>\n",
       "      <td>0.828692</td>\n",
       "      <td>0.733381</td>\n",
       "      <td>0.731857</td>\n",
       "      <td>0.808333</td>\n",
       "      <td>0.595909</td>\n",
       "      <td>0.596055</td>\n",
       "    </tr>\n",
       "    <tr>\n",
       "      <th>12</th>\n",
       "      <td>12</td>\n",
       "      <td>DUD</td>\n",
       "      <td>DUD</td>\n",
       "      <td>LinearSVC</td>\n",
       "      <td>random</td>\n",
       "      <td>1368</td>\n",
       "      <td>43</td>\n",
       "      <td>457</td>\n",
       "      <td>15</td>\n",
       "      <td>0.962275</td>\n",
       "      <td>1.000000</td>\n",
       "      <td>0.890498</td>\n",
       "      <td>{'C': 1.0}</td>\n",
       "      <td>0.692620</td>\n",
       "      <td>0.598728</td>\n",
       "      <td>0.581037</td>\n",
       "      <td>0.652941</td>\n",
       "      <td>0.535370</td>\n",
       "      <td>0.532686</td>\n",
       "    </tr>\n",
       "    <tr>\n",
       "      <th>13</th>\n",
       "      <td>13</td>\n",
       "      <td>DUD</td>\n",
       "      <td>DUD</td>\n",
       "      <td>LinearSVC</td>\n",
       "      <td>scaffold</td>\n",
       "      <td>1325</td>\n",
       "      <td>43</td>\n",
       "      <td>500</td>\n",
       "      <td>15</td>\n",
       "      <td>0.908086</td>\n",
       "      <td>1.000000</td>\n",
       "      <td>0.894158</td>\n",
       "      <td>{'C': 1.0}</td>\n",
       "      <td>0.644197</td>\n",
       "      <td>0.528752</td>\n",
       "      <td>0.516663</td>\n",
       "      <td>0.846598</td>\n",
       "      <td>0.739072</td>\n",
       "      <td>0.720279</td>\n",
       "    </tr>\n",
       "    <tr>\n",
       "      <th>14</th>\n",
       "      <td>14</td>\n",
       "      <td>DUD</td>\n",
       "      <td>DUD</td>\n",
       "      <td>rbfSVC</td>\n",
       "      <td>random</td>\n",
       "      <td>1368</td>\n",
       "      <td>43</td>\n",
       "      <td>457</td>\n",
       "      <td>15</td>\n",
       "      <td>0.954319</td>\n",
       "      <td>0.999982</td>\n",
       "      <td>0.980845</td>\n",
       "      <td>{'C': 100.0, 'gamma': 0.0001}</td>\n",
       "      <td>0.660342</td>\n",
       "      <td>0.552159</td>\n",
       "      <td>0.538202</td>\n",
       "      <td>0.795023</td>\n",
       "      <td>0.673190</td>\n",
       "      <td>0.656325</td>\n",
       "    </tr>\n",
       "    <tr>\n",
       "      <th>15</th>\n",
       "      <td>15</td>\n",
       "      <td>DUD</td>\n",
       "      <td>DUD</td>\n",
       "      <td>rbfSVC</td>\n",
       "      <td>scaffold</td>\n",
       "      <td>1325</td>\n",
       "      <td>43</td>\n",
       "      <td>500</td>\n",
       "      <td>15</td>\n",
       "      <td>0.915399</td>\n",
       "      <td>0.999982</td>\n",
       "      <td>0.918076</td>\n",
       "      <td>{'C': 100.0, 'gamma': 0.0001}</td>\n",
       "      <td>0.644197</td>\n",
       "      <td>0.528752</td>\n",
       "      <td>0.516663</td>\n",
       "      <td>0.846598</td>\n",
       "      <td>0.739072</td>\n",
       "      <td>0.720279</td>\n",
       "    </tr>\n",
       "    <tr>\n",
       "      <th>16</th>\n",
       "      <td>16</td>\n",
       "      <td>DUD</td>\n",
       "      <td>DUD</td>\n",
       "      <td>LogReg</td>\n",
       "      <td>random</td>\n",
       "      <td>1368</td>\n",
       "      <td>43</td>\n",
       "      <td>457</td>\n",
       "      <td>15</td>\n",
       "      <td>0.950241</td>\n",
       "      <td>1.000000</td>\n",
       "      <td>0.977828</td>\n",
       "      <td>{'C': 100.0, 'penalty': 'l2', 'solver': 'lbfgs'}</td>\n",
       "      <td>0.650645</td>\n",
       "      <td>0.557429</td>\n",
       "      <td>0.545628</td>\n",
       "      <td>0.758220</td>\n",
       "      <td>0.646342</td>\n",
       "      <td>0.634559</td>\n",
       "    </tr>\n",
       "    <tr>\n",
       "      <th>17</th>\n",
       "      <td>17</td>\n",
       "      <td>DUD</td>\n",
       "      <td>DUD</td>\n",
       "      <td>LogReg</td>\n",
       "      <td>scaffold</td>\n",
       "      <td>1325</td>\n",
       "      <td>43</td>\n",
       "      <td>500</td>\n",
       "      <td>15</td>\n",
       "      <td>0.914401</td>\n",
       "      <td>1.000000</td>\n",
       "      <td>0.894983</td>\n",
       "      <td>{'C': 1.0, 'penalty': 'l2', 'solver': 'lbfgs'}</td>\n",
       "      <td>0.644197</td>\n",
       "      <td>0.528752</td>\n",
       "      <td>0.516663</td>\n",
       "      <td>0.846598</td>\n",
       "      <td>0.739072</td>\n",
       "      <td>0.720279</td>\n",
       "    </tr>\n",
       "    <tr>\n",
       "      <th>18</th>\n",
       "      <td>18</td>\n",
       "      <td>DUD</td>\n",
       "      <td>DUD</td>\n",
       "      <td>kNN</td>\n",
       "      <td>random</td>\n",
       "      <td>1368</td>\n",
       "      <td>43</td>\n",
       "      <td>457</td>\n",
       "      <td>15</td>\n",
       "      <td>0.841111</td>\n",
       "      <td>0.941439</td>\n",
       "      <td>0.801885</td>\n",
       "      <td>{'n_neighbors': 25, 'p': 1}</td>\n",
       "      <td>0.669908</td>\n",
       "      <td>0.575195</td>\n",
       "      <td>0.560217</td>\n",
       "      <td>0.728733</td>\n",
       "      <td>0.601207</td>\n",
       "      <td>0.590766</td>\n",
       "    </tr>\n",
       "    <tr>\n",
       "      <th>19</th>\n",
       "      <td>19</td>\n",
       "      <td>DUD</td>\n",
       "      <td>DUD</td>\n",
       "      <td>kNN</td>\n",
       "      <td>scaffold</td>\n",
       "      <td>1325</td>\n",
       "      <td>43</td>\n",
       "      <td>500</td>\n",
       "      <td>15</td>\n",
       "      <td>0.814713</td>\n",
       "      <td>0.937489</td>\n",
       "      <td>0.880412</td>\n",
       "      <td>{'n_neighbors': 25, 'p': 1}</td>\n",
       "      <td>0.644197</td>\n",
       "      <td>0.528752</td>\n",
       "      <td>0.516663</td>\n",
       "      <td>0.846598</td>\n",
       "      <td>0.739072</td>\n",
       "      <td>0.720279</td>\n",
       "    </tr>\n",
       "    <tr>\n",
       "      <th>20</th>\n",
       "      <td>20</td>\n",
       "      <td>DUD</td>\n",
       "      <td>DUD</td>\n",
       "      <td>DTree</td>\n",
       "      <td>random</td>\n",
       "      <td>1368</td>\n",
       "      <td>43</td>\n",
       "      <td>457</td>\n",
       "      <td>15</td>\n",
       "      <td>0.834706</td>\n",
       "      <td>0.913796</td>\n",
       "      <td>0.653469</td>\n",
       "      <td>{'criterion': 'entropy', 'max_depth': 5, 'max_...</td>\n",
       "      <td>0.678666</td>\n",
       "      <td>0.593493</td>\n",
       "      <td>0.579991</td>\n",
       "      <td>0.701885</td>\n",
       "      <td>0.544532</td>\n",
       "      <td>0.536774</td>\n",
       "    </tr>\n",
       "    <tr>\n",
       "      <th>21</th>\n",
       "      <td>21</td>\n",
       "      <td>DUD</td>\n",
       "      <td>DUD</td>\n",
       "      <td>DTree</td>\n",
       "      <td>scaffold</td>\n",
       "      <td>1325</td>\n",
       "      <td>43</td>\n",
       "      <td>500</td>\n",
       "      <td>15</td>\n",
       "      <td>0.741435</td>\n",
       "      <td>0.899467</td>\n",
       "      <td>0.721856</td>\n",
       "      <td>{'criterion': 'entropy', 'max_depth': 5, 'max_...</td>\n",
       "      <td>0.644197</td>\n",
       "      <td>0.528752</td>\n",
       "      <td>0.516663</td>\n",
       "      <td>0.846598</td>\n",
       "      <td>0.739072</td>\n",
       "      <td>0.720279</td>\n",
       "    </tr>\n",
       "    <tr>\n",
       "      <th>22</th>\n",
       "      <td>22</td>\n",
       "      <td>DUD</td>\n",
       "      <td>DUD</td>\n",
       "      <td>RandForest</td>\n",
       "      <td>random</td>\n",
       "      <td>1368</td>\n",
       "      <td>43</td>\n",
       "      <td>457</td>\n",
       "      <td>15</td>\n",
       "      <td>0.863643</td>\n",
       "      <td>0.927731</td>\n",
       "      <td>0.812971</td>\n",
       "      <td>{'max_depth': 5, 'max_features': 'sqrt', 'min_...</td>\n",
       "      <td>0.679465</td>\n",
       "      <td>0.576055</td>\n",
       "      <td>0.558549</td>\n",
       "      <td>0.779035</td>\n",
       "      <td>0.601320</td>\n",
       "      <td>0.596737</td>\n",
       "    </tr>\n",
       "    <tr>\n",
       "      <th>23</th>\n",
       "      <td>23</td>\n",
       "      <td>DUD</td>\n",
       "      <td>DUD</td>\n",
       "      <td>RandForest</td>\n",
       "      <td>scaffold</td>\n",
       "      <td>1325</td>\n",
       "      <td>43</td>\n",
       "      <td>500</td>\n",
       "      <td>15</td>\n",
       "      <td>0.804646</td>\n",
       "      <td>0.919602</td>\n",
       "      <td>0.894433</td>\n",
       "      <td>{'max_depth': 5, 'max_features': 'log2', 'min_...</td>\n",
       "      <td>0.644197</td>\n",
       "      <td>0.528752</td>\n",
       "      <td>0.516663</td>\n",
       "      <td>0.846598</td>\n",
       "      <td>0.739072</td>\n",
       "      <td>0.720279</td>\n",
       "    </tr>\n",
       "    <tr>\n",
       "      <th>24</th>\n",
       "      <td>24</td>\n",
       "      <td>DEKOIS</td>\n",
       "      <td>DUD</td>\n",
       "      <td>LinearSVC</td>\n",
       "      <td>by_library</td>\n",
       "      <td>1239</td>\n",
       "      <td>40</td>\n",
       "      <td>1825</td>\n",
       "      <td>58</td>\n",
       "      <td>0.874856</td>\n",
       "      <td>0.975584</td>\n",
       "      <td>0.730334</td>\n",
       "      <td>{'C': 0.01}</td>\n",
       "      <td>0.790263</td>\n",
       "      <td>0.695778</td>\n",
       "      <td>0.695015</td>\n",
       "      <td>0.671775</td>\n",
       "      <td>0.583589</td>\n",
       "      <td>0.568455</td>\n",
       "    </tr>\n",
       "    <tr>\n",
       "      <th>25</th>\n",
       "      <td>25</td>\n",
       "      <td>DUD</td>\n",
       "      <td>DEKOIS</td>\n",
       "      <td>LinearSVC</td>\n",
       "      <td>by_library</td>\n",
       "      <td>1825</td>\n",
       "      <td>58</td>\n",
       "      <td>1239</td>\n",
       "      <td>40</td>\n",
       "      <td>0.923975</td>\n",
       "      <td>1.000000</td>\n",
       "      <td>0.710259</td>\n",
       "      <td>{'C': 1.0}</td>\n",
       "      <td>0.671775</td>\n",
       "      <td>0.583589</td>\n",
       "      <td>0.568455</td>\n",
       "      <td>0.790263</td>\n",
       "      <td>0.695778</td>\n",
       "      <td>0.695015</td>\n",
       "    </tr>\n",
       "    <tr>\n",
       "      <th>26</th>\n",
       "      <td>26</td>\n",
       "      <td>DEKOIS</td>\n",
       "      <td>DUD</td>\n",
       "      <td>rbfSVC</td>\n",
       "      <td>by_library</td>\n",
       "      <td>1239</td>\n",
       "      <td>40</td>\n",
       "      <td>1825</td>\n",
       "      <td>58</td>\n",
       "      <td>0.873289</td>\n",
       "      <td>0.976043</td>\n",
       "      <td>0.730256</td>\n",
       "      <td>{'C': 100.0, 'gamma': 1e-06}</td>\n",
       "      <td>0.790263</td>\n",
       "      <td>0.695778</td>\n",
       "      <td>0.695015</td>\n",
       "      <td>0.671775</td>\n",
       "      <td>0.583589</td>\n",
       "      <td>0.568455</td>\n",
       "    </tr>\n",
       "    <tr>\n",
       "      <th>27</th>\n",
       "      <td>27</td>\n",
       "      <td>DUD</td>\n",
       "      <td>DEKOIS</td>\n",
       "      <td>rbfSVC</td>\n",
       "      <td>by_library</td>\n",
       "      <td>1825</td>\n",
       "      <td>58</td>\n",
       "      <td>1239</td>\n",
       "      <td>40</td>\n",
       "      <td>0.933599</td>\n",
       "      <td>0.999941</td>\n",
       "      <td>0.653420</td>\n",
       "      <td>{'C': 100.0, 'gamma': 0.0001}</td>\n",
       "      <td>0.671775</td>\n",
       "      <td>0.583589</td>\n",
       "      <td>0.568455</td>\n",
       "      <td>0.790263</td>\n",
       "      <td>0.695778</td>\n",
       "      <td>0.695015</td>\n",
       "    </tr>\n",
       "    <tr>\n",
       "      <th>28</th>\n",
       "      <td>28</td>\n",
       "      <td>DEKOIS</td>\n",
       "      <td>DUD</td>\n",
       "      <td>LogReg</td>\n",
       "      <td>by_library</td>\n",
       "      <td>1239</td>\n",
       "      <td>40</td>\n",
       "      <td>1825</td>\n",
       "      <td>58</td>\n",
       "      <td>0.874247</td>\n",
       "      <td>0.957631</td>\n",
       "      <td>0.721767</td>\n",
       "      <td>{'C': 0.01, 'penalty': 'l2', 'solver': 'lbfgs'}</td>\n",
       "      <td>0.790263</td>\n",
       "      <td>0.695778</td>\n",
       "      <td>0.695015</td>\n",
       "      <td>0.671775</td>\n",
       "      <td>0.583589</td>\n",
       "      <td>0.568455</td>\n",
       "    </tr>\n",
       "    <tr>\n",
       "      <th>29</th>\n",
       "      <td>29</td>\n",
       "      <td>DUD</td>\n",
       "      <td>DEKOIS</td>\n",
       "      <td>LogReg</td>\n",
       "      <td>by_library</td>\n",
       "      <td>1825</td>\n",
       "      <td>58</td>\n",
       "      <td>1239</td>\n",
       "      <td>40</td>\n",
       "      <td>0.930482</td>\n",
       "      <td>1.000000</td>\n",
       "      <td>0.718265</td>\n",
       "      <td>{'C': 1.0, 'penalty': 'l2', 'solver': 'libline...</td>\n",
       "      <td>0.671775</td>\n",
       "      <td>0.583589</td>\n",
       "      <td>0.568455</td>\n",
       "      <td>0.790263</td>\n",
       "      <td>0.695778</td>\n",
       "      <td>0.695015</td>\n",
       "    </tr>\n",
       "    <tr>\n",
       "      <th>30</th>\n",
       "      <td>30</td>\n",
       "      <td>DEKOIS</td>\n",
       "      <td>DUD</td>\n",
       "      <td>RandForest</td>\n",
       "      <td>by_library</td>\n",
       "      <td>1239</td>\n",
       "      <td>40</td>\n",
       "      <td>1825</td>\n",
       "      <td>58</td>\n",
       "      <td>0.776081</td>\n",
       "      <td>0.874041</td>\n",
       "      <td>0.707775</td>\n",
       "      <td>{'max_depth': 7, 'max_features': 'sqrt', 'min_...</td>\n",
       "      <td>0.790263</td>\n",
       "      <td>0.695778</td>\n",
       "      <td>0.695015</td>\n",
       "      <td>0.671775</td>\n",
       "      <td>0.583589</td>\n",
       "      <td>0.568455</td>\n",
       "    </tr>\n",
       "    <tr>\n",
       "      <th>31</th>\n",
       "      <td>31</td>\n",
       "      <td>DUD</td>\n",
       "      <td>DEKOIS</td>\n",
       "      <td>RandForest</td>\n",
       "      <td>by_library</td>\n",
       "      <td>1825</td>\n",
       "      <td>58</td>\n",
       "      <td>1239</td>\n",
       "      <td>40</td>\n",
       "      <td>0.820919</td>\n",
       "      <td>0.915306</td>\n",
       "      <td>0.664971</td>\n",
       "      <td>{'max_depth': 5, 'max_features': 'sqrt', 'min_...</td>\n",
       "      <td>0.671775</td>\n",
       "      <td>0.583589</td>\n",
       "      <td>0.568455</td>\n",
       "      <td>0.790263</td>\n",
       "      <td>0.695778</td>\n",
       "      <td>0.695015</td>\n",
       "    </tr>\n",
       "    <tr>\n",
       "      <th>32</th>\n",
       "      <td>32</td>\n",
       "      <td>Merged</td>\n",
       "      <td>Merged</td>\n",
       "      <td>LinearSVC</td>\n",
       "      <td>random</td>\n",
       "      <td>2599</td>\n",
       "      <td>311</td>\n",
       "      <td>867</td>\n",
       "      <td>104</td>\n",
       "      <td>0.878283</td>\n",
       "      <td>0.944441</td>\n",
       "      <td>0.874811</td>\n",
       "      <td>{'C': 0.01}</td>\n",
       "      <td>0.680305</td>\n",
       "      <td>0.627452</td>\n",
       "      <td>0.620933</td>\n",
       "      <td>0.645951</td>\n",
       "      <td>0.576690</td>\n",
       "      <td>0.573802</td>\n",
       "    </tr>\n",
       "    <tr>\n",
       "      <th>33</th>\n",
       "      <td>33</td>\n",
       "      <td>Merged</td>\n",
       "      <td>Merged</td>\n",
       "      <td>LinearSVC</td>\n",
       "      <td>scaffold</td>\n",
       "      <td>2288</td>\n",
       "      <td>311</td>\n",
       "      <td>1178</td>\n",
       "      <td>104</td>\n",
       "      <td>0.854009</td>\n",
       "      <td>0.963051</td>\n",
       "      <td>0.794259</td>\n",
       "      <td>{'C': 0.01}</td>\n",
       "      <td>0.661262</td>\n",
       "      <td>0.609308</td>\n",
       "      <td>0.603213</td>\n",
       "      <td>0.745246</td>\n",
       "      <td>0.646198</td>\n",
       "      <td>0.642971</td>\n",
       "    </tr>\n",
       "    <tr>\n",
       "      <th>34</th>\n",
       "      <td>34</td>\n",
       "      <td>Merged</td>\n",
       "      <td>Merged</td>\n",
       "      <td>rbfSVC</td>\n",
       "      <td>random</td>\n",
       "      <td>2599</td>\n",
       "      <td>311</td>\n",
       "      <td>867</td>\n",
       "      <td>104</td>\n",
       "      <td>0.923465</td>\n",
       "      <td>1.000000</td>\n",
       "      <td>0.922636</td>\n",
       "      <td>{'C': 100.0, 'gamma': 0.01}</td>\n",
       "      <td>0.658851</td>\n",
       "      <td>0.597252</td>\n",
       "      <td>0.593242</td>\n",
       "      <td>0.725193</td>\n",
       "      <td>0.663298</td>\n",
       "      <td>0.656162</td>\n",
       "    </tr>\n",
       "    <tr>\n",
       "      <th>35</th>\n",
       "      <td>35</td>\n",
       "      <td>Merged</td>\n",
       "      <td>Merged</td>\n",
       "      <td>rbfSVC</td>\n",
       "      <td>scaffold</td>\n",
       "      <td>2288</td>\n",
       "      <td>311</td>\n",
       "      <td>1178</td>\n",
       "      <td>104</td>\n",
       "      <td>0.873036</td>\n",
       "      <td>0.982209</td>\n",
       "      <td>0.800297</td>\n",
       "      <td>{'C': 100.0, 'gamma': 0.0001}</td>\n",
       "      <td>0.661262</td>\n",
       "      <td>0.609308</td>\n",
       "      <td>0.603213</td>\n",
       "      <td>0.745246</td>\n",
       "      <td>0.646198</td>\n",
       "      <td>0.642971</td>\n",
       "    </tr>\n",
       "    <tr>\n",
       "      <th>36</th>\n",
       "      <td>36</td>\n",
       "      <td>Merged</td>\n",
       "      <td>Merged</td>\n",
       "      <td>LogReg</td>\n",
       "      <td>random</td>\n",
       "      <td>2599</td>\n",
       "      <td>311</td>\n",
       "      <td>867</td>\n",
       "      <td>104</td>\n",
       "      <td>0.889434</td>\n",
       "      <td>0.939754</td>\n",
       "      <td>0.871169</td>\n",
       "      <td>{'C': 0.01, 'penalty': 'l2', 'solver': 'lbfgs'}</td>\n",
       "      <td>0.670485</td>\n",
       "      <td>0.615235</td>\n",
       "      <td>0.609771</td>\n",
       "      <td>0.673505</td>\n",
       "      <td>0.614140</td>\n",
       "      <td>0.606914</td>\n",
       "    </tr>\n",
       "    <tr>\n",
       "      <th>37</th>\n",
       "      <td>37</td>\n",
       "      <td>Merged</td>\n",
       "      <td>Merged</td>\n",
       "      <td>LogReg</td>\n",
       "      <td>scaffold</td>\n",
       "      <td>2288</td>\n",
       "      <td>311</td>\n",
       "      <td>1178</td>\n",
       "      <td>104</td>\n",
       "      <td>0.860358</td>\n",
       "      <td>0.952265</td>\n",
       "      <td>0.815410</td>\n",
       "      <td>{'C': 0.01, 'penalty': 'l2', 'solver': 'lbfgs'}</td>\n",
       "      <td>0.661262</td>\n",
       "      <td>0.609308</td>\n",
       "      <td>0.603213</td>\n",
       "      <td>0.745246</td>\n",
       "      <td>0.646198</td>\n",
       "      <td>0.642971</td>\n",
       "    </tr>\n",
       "    <tr>\n",
       "      <th>38</th>\n",
       "      <td>38</td>\n",
       "      <td>Merged</td>\n",
       "      <td>Merged</td>\n",
       "      <td>DTree</td>\n",
       "      <td>random</td>\n",
       "      <td>2599</td>\n",
       "      <td>311</td>\n",
       "      <td>867</td>\n",
       "      <td>104</td>\n",
       "      <td>0.727951</td>\n",
       "      <td>0.770675</td>\n",
       "      <td>0.771279</td>\n",
       "      <td>{'criterion': 'entropy', 'max_depth': 5, 'max_...</td>\n",
       "      <td>0.666984</td>\n",
       "      <td>0.605680</td>\n",
       "      <td>0.601509</td>\n",
       "      <td>0.692453</td>\n",
       "      <td>0.638286</td>\n",
       "      <td>0.631769</td>\n",
       "    </tr>\n",
       "    <tr>\n",
       "      <th>39</th>\n",
       "      <td>39</td>\n",
       "      <td>Merged</td>\n",
       "      <td>Merged</td>\n",
       "      <td>DTree</td>\n",
       "      <td>scaffold</td>\n",
       "      <td>2288</td>\n",
       "      <td>311</td>\n",
       "      <td>1178</td>\n",
       "      <td>104</td>\n",
       "      <td>0.768741</td>\n",
       "      <td>0.825640</td>\n",
       "      <td>0.646263</td>\n",
       "      <td>{'criterion': 'gini', 'max_depth': 5, 'max_fea...</td>\n",
       "      <td>0.661262</td>\n",
       "      <td>0.609308</td>\n",
       "      <td>0.603213</td>\n",
       "      <td>0.745246</td>\n",
       "      <td>0.646198</td>\n",
       "      <td>0.642971</td>\n",
       "    </tr>\n",
       "    <tr>\n",
       "      <th>40</th>\n",
       "      <td>40</td>\n",
       "      <td>Merged</td>\n",
       "      <td>Merged</td>\n",
       "      <td>RandForest</td>\n",
       "      <td>random</td>\n",
       "      <td>2599</td>\n",
       "      <td>311</td>\n",
       "      <td>867</td>\n",
       "      <td>104</td>\n",
       "      <td>0.780305</td>\n",
       "      <td>0.820910</td>\n",
       "      <td>0.775897</td>\n",
       "      <td>{'max_depth': 3, 'max_features': 'sqrt', 'min_...</td>\n",
       "      <td>0.662885</td>\n",
       "      <td>0.608502</td>\n",
       "      <td>0.602617</td>\n",
       "      <td>0.705269</td>\n",
       "      <td>0.632829</td>\n",
       "      <td>0.628193</td>\n",
       "    </tr>\n",
       "    <tr>\n",
       "      <th>41</th>\n",
       "      <td>41</td>\n",
       "      <td>Merged</td>\n",
       "      <td>Merged</td>\n",
       "      <td>RandForest</td>\n",
       "      <td>scaffold</td>\n",
       "      <td>2288</td>\n",
       "      <td>311</td>\n",
       "      <td>1178</td>\n",
       "      <td>104</td>\n",
       "      <td>0.779952</td>\n",
       "      <td>0.838817</td>\n",
       "      <td>0.690401</td>\n",
       "      <td>{'max_depth': 3, 'max_features': 'sqrt', 'min_...</td>\n",
       "      <td>0.661262</td>\n",
       "      <td>0.609308</td>\n",
       "      <td>0.603213</td>\n",
       "      <td>0.745246</td>\n",
       "      <td>0.646198</td>\n",
       "      <td>0.642971</td>\n",
       "    </tr>\n",
       "  </tbody>\n",
       "</table>\n",
       "</div>"
      ],
      "text/plain": [
       "    Unnamed: 0 Train_set Test_set  Model name       Split  N_actives_train  \\\n",
       "0            0    DEKOIS   DEKOIS   LinearSVC      random              929   \n",
       "1            1    DEKOIS   DEKOIS   LinearSVC    scaffold              899   \n",
       "2            2    DEKOIS   DEKOIS      rbfSVC      random              929   \n",
       "3            3    DEKOIS   DEKOIS      rbfSVC    scaffold              899   \n",
       "4            4    DEKOIS   DEKOIS      LogReg      random              929   \n",
       "5            5    DEKOIS   DEKOIS      LogReg    scaffold              899   \n",
       "6            6    DEKOIS   DEKOIS         kNN      random              929   \n",
       "7            7    DEKOIS   DEKOIS         kNN    scaffold              899   \n",
       "8            8    DEKOIS   DEKOIS       DTree      random              929   \n",
       "9            9    DEKOIS   DEKOIS       DTree    scaffold              899   \n",
       "10          10    DEKOIS   DEKOIS  RandForest      random              929   \n",
       "11          11    DEKOIS   DEKOIS  RandForest    scaffold              899   \n",
       "12          12       DUD      DUD   LinearSVC      random             1368   \n",
       "13          13       DUD      DUD   LinearSVC    scaffold             1325   \n",
       "14          14       DUD      DUD      rbfSVC      random             1368   \n",
       "15          15       DUD      DUD      rbfSVC    scaffold             1325   \n",
       "16          16       DUD      DUD      LogReg      random             1368   \n",
       "17          17       DUD      DUD      LogReg    scaffold             1325   \n",
       "18          18       DUD      DUD         kNN      random             1368   \n",
       "19          19       DUD      DUD         kNN    scaffold             1325   \n",
       "20          20       DUD      DUD       DTree      random             1368   \n",
       "21          21       DUD      DUD       DTree    scaffold             1325   \n",
       "22          22       DUD      DUD  RandForest      random             1368   \n",
       "23          23       DUD      DUD  RandForest    scaffold             1325   \n",
       "24          24    DEKOIS      DUD   LinearSVC  by_library             1239   \n",
       "25          25       DUD   DEKOIS   LinearSVC  by_library             1825   \n",
       "26          26    DEKOIS      DUD      rbfSVC  by_library             1239   \n",
       "27          27       DUD   DEKOIS      rbfSVC  by_library             1825   \n",
       "28          28    DEKOIS      DUD      LogReg  by_library             1239   \n",
       "29          29       DUD   DEKOIS      LogReg  by_library             1825   \n",
       "30          30    DEKOIS      DUD  RandForest  by_library             1239   \n",
       "31          31       DUD   DEKOIS  RandForest  by_library             1825   \n",
       "32          32    Merged   Merged   LinearSVC      random             2599   \n",
       "33          33    Merged   Merged   LinearSVC    scaffold             2288   \n",
       "34          34    Merged   Merged      rbfSVC      random             2599   \n",
       "35          35    Merged   Merged      rbfSVC    scaffold             2288   \n",
       "36          36    Merged   Merged      LogReg      random             2599   \n",
       "37          37    Merged   Merged      LogReg    scaffold             2288   \n",
       "38          38    Merged   Merged       DTree      random             2599   \n",
       "39          39    Merged   Merged       DTree    scaffold             2288   \n",
       "40          40    Merged   Merged  RandForest      random             2599   \n",
       "41          41    Merged   Merged  RandForest    scaffold             2288   \n",
       "\n",
       "    N_actives_test  N_mols_train  Num_mols_test  Mean-CV-ROC  ROC-AUC_train  \\\n",
       "0               30           310             10     0.857541       0.993215   \n",
       "1               30           340             10     0.821941       0.967511   \n",
       "2               30           310             10     0.848584       0.976492   \n",
       "3               30           340             10     0.828257       0.955850   \n",
       "4               30           310             10     0.871050       0.960030   \n",
       "5               30           340             10     0.831961       0.934829   \n",
       "6               30           310             10     0.772427       0.771098   \n",
       "7               30           340             10     0.812489       0.827771   \n",
       "8               30           310             10     0.707495       0.761494   \n",
       "9               30           340             10     0.742715       0.912179   \n",
       "10              30           310             10     0.740425       0.816537   \n",
       "11              30           340             10     0.783393       0.841369   \n",
       "12              43           457             15     0.962275       1.000000   \n",
       "13              43           500             15     0.908086       1.000000   \n",
       "14              43           457             15     0.954319       0.999982   \n",
       "15              43           500             15     0.915399       0.999982   \n",
       "16              43           457             15     0.950241       1.000000   \n",
       "17              43           500             15     0.914401       1.000000   \n",
       "18              43           457             15     0.841111       0.941439   \n",
       "19              43           500             15     0.814713       0.937489   \n",
       "20              43           457             15     0.834706       0.913796   \n",
       "21              43           500             15     0.741435       0.899467   \n",
       "22              43           457             15     0.863643       0.927731   \n",
       "23              43           500             15     0.804646       0.919602   \n",
       "24              40          1825             58     0.874856       0.975584   \n",
       "25              58          1239             40     0.923975       1.000000   \n",
       "26              40          1825             58     0.873289       0.976043   \n",
       "27              58          1239             40     0.933599       0.999941   \n",
       "28              40          1825             58     0.874247       0.957631   \n",
       "29              58          1239             40     0.930482       1.000000   \n",
       "30              40          1825             58     0.776081       0.874041   \n",
       "31              58          1239             40     0.820919       0.915306   \n",
       "32             311           867            104     0.878283       0.944441   \n",
       "33             311          1178            104     0.854009       0.963051   \n",
       "34             311           867            104     0.923465       1.000000   \n",
       "35             311          1178            104     0.873036       0.982209   \n",
       "36             311           867            104     0.889434       0.939754   \n",
       "37             311          1178            104     0.860358       0.952265   \n",
       "38             311           867            104     0.727951       0.770675   \n",
       "39             311          1178            104     0.768741       0.825640   \n",
       "40             311           867            104     0.780305       0.820910   \n",
       "41             311          1178            104     0.779952       0.838817   \n",
       "\n",
       "    ROC-AUC_test                                        best_params  \\\n",
       "0       0.838000                                      {'C': 0.0001}   \n",
       "1       0.838788                                      {'C': 0.0001}   \n",
       "2       0.837667                       {'C': 100.0, 'gamma': 1e-06}   \n",
       "3       0.873030                       {'C': 100.0, 'gamma': 1e-08}   \n",
       "4       0.836333    {'C': 0.01, 'penalty': 'l2', 'solver': 'lbfgs'}   \n",
       "5       0.825152    {'C': 0.01, 'penalty': 'l2', 'solver': 'lbfgs'}   \n",
       "6       0.731833                       {'n_neighbors': 225, 'p': 1}   \n",
       "7       0.636364                       {'n_neighbors': 125, 'p': 2}   \n",
       "8       0.712000  {'criterion': 'gini', 'max_depth': 3, 'max_fea...   \n",
       "9       0.647273  {'criterion': 'entropy', 'max_depth': 5, 'max_...   \n",
       "10      0.811667  {'max_depth': 5, 'max_features': 'sqrt', 'min_...   \n",
       "11      0.661818  {'max_depth': 2, 'max_features': 'log2', 'min_...   \n",
       "12      0.890498                                         {'C': 1.0}   \n",
       "13      0.894158                                         {'C': 1.0}   \n",
       "14      0.980845                      {'C': 100.0, 'gamma': 0.0001}   \n",
       "15      0.918076                      {'C': 100.0, 'gamma': 0.0001}   \n",
       "16      0.977828   {'C': 100.0, 'penalty': 'l2', 'solver': 'lbfgs'}   \n",
       "17      0.894983     {'C': 1.0, 'penalty': 'l2', 'solver': 'lbfgs'}   \n",
       "18      0.801885                        {'n_neighbors': 25, 'p': 1}   \n",
       "19      0.880412                        {'n_neighbors': 25, 'p': 1}   \n",
       "20      0.653469  {'criterion': 'entropy', 'max_depth': 5, 'max_...   \n",
       "21      0.721856  {'criterion': 'entropy', 'max_depth': 5, 'max_...   \n",
       "22      0.812971  {'max_depth': 5, 'max_features': 'sqrt', 'min_...   \n",
       "23      0.894433  {'max_depth': 5, 'max_features': 'log2', 'min_...   \n",
       "24      0.730334                                        {'C': 0.01}   \n",
       "25      0.710259                                         {'C': 1.0}   \n",
       "26      0.730256                       {'C': 100.0, 'gamma': 1e-06}   \n",
       "27      0.653420                      {'C': 100.0, 'gamma': 0.0001}   \n",
       "28      0.721767    {'C': 0.01, 'penalty': 'l2', 'solver': 'lbfgs'}   \n",
       "29      0.718265  {'C': 1.0, 'penalty': 'l2', 'solver': 'libline...   \n",
       "30      0.707775  {'max_depth': 7, 'max_features': 'sqrt', 'min_...   \n",
       "31      0.664971  {'max_depth': 5, 'max_features': 'sqrt', 'min_...   \n",
       "32      0.874811                                        {'C': 0.01}   \n",
       "33      0.794259                                        {'C': 0.01}   \n",
       "34      0.922636                        {'C': 100.0, 'gamma': 0.01}   \n",
       "35      0.800297                      {'C': 100.0, 'gamma': 0.0001}   \n",
       "36      0.871169    {'C': 0.01, 'penalty': 'l2', 'solver': 'lbfgs'}   \n",
       "37      0.815410    {'C': 0.01, 'penalty': 'l2', 'solver': 'lbfgs'}   \n",
       "38      0.771279  {'criterion': 'entropy', 'max_depth': 5, 'max_...   \n",
       "39      0.646263  {'criterion': 'gini', 'max_depth': 5, 'max_fea...   \n",
       "40      0.775897  {'max_depth': 3, 'max_features': 'sqrt', 'min_...   \n",
       "41      0.690401  {'max_depth': 3, 'max_features': 'sqrt', 'min_...   \n",
       "\n",
       "    DkS_max_ROC_train  DkSc_med_ROC_train  DkSc_mean_ROC_train  \\\n",
       "0            0.821913            0.708398             0.706996   \n",
       "1            0.828692            0.733381             0.731857   \n",
       "2            0.814349            0.706674             0.703665   \n",
       "3            0.828692            0.733381             0.731857   \n",
       "4            0.808862            0.687987             0.687810   \n",
       "5            0.828692            0.733381             0.731857   \n",
       "6            0.778198            0.692362             0.692595   \n",
       "7            0.828692            0.733381             0.731857   \n",
       "8            0.800204            0.687060             0.686551   \n",
       "9            0.828692            0.733381             0.731857   \n",
       "10           0.773248            0.682351             0.682241   \n",
       "11           0.828692            0.733381             0.731857   \n",
       "12           0.692620            0.598728             0.581037   \n",
       "13           0.644197            0.528752             0.516663   \n",
       "14           0.660342            0.552159             0.538202   \n",
       "15           0.644197            0.528752             0.516663   \n",
       "16           0.650645            0.557429             0.545628   \n",
       "17           0.644197            0.528752             0.516663   \n",
       "18           0.669908            0.575195             0.560217   \n",
       "19           0.644197            0.528752             0.516663   \n",
       "20           0.678666            0.593493             0.579991   \n",
       "21           0.644197            0.528752             0.516663   \n",
       "22           0.679465            0.576055             0.558549   \n",
       "23           0.644197            0.528752             0.516663   \n",
       "24           0.790263            0.695778             0.695015   \n",
       "25           0.671775            0.583589             0.568455   \n",
       "26           0.790263            0.695778             0.695015   \n",
       "27           0.671775            0.583589             0.568455   \n",
       "28           0.790263            0.695778             0.695015   \n",
       "29           0.671775            0.583589             0.568455   \n",
       "30           0.790263            0.695778             0.695015   \n",
       "31           0.671775            0.583589             0.568455   \n",
       "32           0.680305            0.627452             0.620933   \n",
       "33           0.661262            0.609308             0.603213   \n",
       "34           0.658851            0.597252             0.593242   \n",
       "35           0.661262            0.609308             0.603213   \n",
       "36           0.670485            0.615235             0.609771   \n",
       "37           0.661262            0.609308             0.603213   \n",
       "38           0.666984            0.605680             0.601509   \n",
       "39           0.661262            0.609308             0.603213   \n",
       "40           0.662885            0.608502             0.602617   \n",
       "41           0.661262            0.609308             0.603213   \n",
       "\n",
       "    DkS_max_ROC_test  DkSc_med_ROC_test  DkSc_mean_ROC_test  \n",
       "0           0.835167           0.649167            0.656708  \n",
       "1           0.808333           0.595909            0.596055  \n",
       "2           0.815333           0.665500            0.668252  \n",
       "3           0.808333           0.595909            0.596055  \n",
       "4           0.829000           0.717750            0.716770  \n",
       "5           0.808333           0.595909            0.596055  \n",
       "6           0.883500           0.702417            0.702298  \n",
       "7           0.808333           0.595909            0.596055  \n",
       "8           0.894667           0.721833            0.725884  \n",
       "9           0.808333           0.595909            0.596055  \n",
       "10          0.886000           0.745833            0.736833  \n",
       "11          0.808333           0.595909            0.596055  \n",
       "12          0.652941           0.535370            0.532686  \n",
       "13          0.846598           0.739072            0.720279  \n",
       "14          0.795023           0.673190            0.656325  \n",
       "15          0.846598           0.739072            0.720279  \n",
       "16          0.758220           0.646342            0.634559  \n",
       "17          0.846598           0.739072            0.720279  \n",
       "18          0.728733           0.601207            0.590766  \n",
       "19          0.846598           0.739072            0.720279  \n",
       "20          0.701885           0.544532            0.536774  \n",
       "21          0.846598           0.739072            0.720279  \n",
       "22          0.779035           0.601320            0.596737  \n",
       "23          0.846598           0.739072            0.720279  \n",
       "24          0.671775           0.583589            0.568455  \n",
       "25          0.790263           0.695778            0.695015  \n",
       "26          0.671775           0.583589            0.568455  \n",
       "27          0.790263           0.695778            0.695015  \n",
       "28          0.671775           0.583589            0.568455  \n",
       "29          0.790263           0.695778            0.695015  \n",
       "30          0.671775           0.583589            0.568455  \n",
       "31          0.790263           0.695778            0.695015  \n",
       "32          0.645951           0.576690            0.573802  \n",
       "33          0.745246           0.646198            0.642971  \n",
       "34          0.725193           0.663298            0.656162  \n",
       "35          0.745246           0.646198            0.642971  \n",
       "36          0.673505           0.614140            0.606914  \n",
       "37          0.745246           0.646198            0.642971  \n",
       "38          0.692453           0.638286            0.631769  \n",
       "39          0.745246           0.646198            0.642971  \n",
       "40          0.705269           0.632829            0.628193  \n",
       "41          0.745246           0.646198            0.642971  "
      ]
     },
     "execution_count": 1,
     "metadata": {},
     "output_type": "execute_result"
    }
   ],
   "source": [
    "import pandas as pd\n",
    "### Save Results\n",
    "row_names = ['Train_set', 'Test_set', 'Model name', 'Split', \n",
    "             'N_actives_train', 'N_actives_test', 'N_mols_train', 'Num_mols_test',\n",
    "            'Mean-CV-ROC', 'ROC-AUC_train', 'ROC-AUC_test', 'best_params',\n",
    "            'DkS_max_ROC_train',  'DkSc_med_ROC_train', 'DkSc_mean_ROC_train', \n",
    "            'DkS_max_ROC_test',  'DkSc_med_ROC_test', 'DkSc_mean_ROC_test'\n",
    "            ]\n",
    "\n",
    "# Load or save\n",
    "save=False\n",
    "filename='./GRID_SEARCH_CV_results.csv'\n",
    "if save:\n",
    "    results_df = pd.DataFrame(results_dict, index=row_names).T.reset_index().drop('index', axis=1)\n",
    "    results_df.to_csv(filename)\n",
    "else:\n",
    "    results_df = pd.read_csv(filename)\n",
    "    \n",
    "results_df"
   ]
  },
  {
   "cell_type": "markdown",
   "metadata": {},
   "source": [
    "***\n",
    "<h2 style='background-color: #F9E5AB; padding: 5px;'>\n",
    "    Merged libraries: Shuffle *y* target values in the train set\n",
    "</h2>\n",
    "<div style='background-color: #FE8460; min-height: 5px'></div>\n",
    "\n",
    "#### DEKOIS, DUD and COCRYS are  treated as one unique library"
   ]
  },
  {
   "cell_type": "code",
   "execution_count": 37,
   "metadata": {},
   "outputs": [],
   "source": [
    "# Train and test over \n",
    "X = X_merged_dksc\n",
    "# ***** Permutate y values *****\n",
    "y = y_true_merged.sample(frac=1, replace=False)\n",
    "\n",
    "library = 'Merged'\n",
    "scaffold_series = df_scff_murcko['scff_generic']"
   ]
  },
  {
   "cell_type": "markdown",
   "metadata": {
    "cell_style": "center"
   },
   "source": [
    "<h3 style='color: #F84122; padding: 0px;; margin: 0px'>GS: Linear SVM </h3>\n",
    "<b>Merged Libraries</b>"
   ]
  },
  {
   "cell_type": "code",
   "execution_count": null,
   "metadata": {
    "cell_style": "split",
    "scrolled": true
   },
   "outputs": [],
   "source": [
    "%%time\n",
    "from sklearn.svm import SVC\n",
    "\n",
    "estimator_name = 'LinearSVC'\n",
    "estimator = SVC(kernel = 'linear', probability=True)\n",
    "hyperparams = {'C':  np.geomspace(1e-8, 1e2, 3)}\n",
    "\n",
    "# RANDOM Train test splitting\n",
    "split_and_gs(library, library, estimator_name,\n",
    "             X, y, estimator, hyperparams,\n",
    "             splitting='random', test_size=0.25, \n",
    "             scaffold_series=None)"
   ]
  },
  {
   "cell_type": "code",
   "execution_count": 61,
   "metadata": {},
   "outputs": [
    {
     "ename": "KeyboardInterrupt",
     "evalue": "",
     "output_type": "error",
     "traceback": [
      "\u001b[0;31m---------------------------------------------------------------------------\u001b[0m",
      "\u001b[0;31mKeyboardInterrupt\u001b[0m                         Traceback (most recent call last)",
      "\u001b[0;32m<timed exec>\u001b[0m in \u001b[0;36m<module>\u001b[0;34m\u001b[0m\n",
      "\u001b[0;32m<ipython-input-60-20ecbdc44782>\u001b[0m in \u001b[0;36mgs_cv\u001b[0;34m(estimator, X_train, y_train, hyperparams, cv_value, scoring, splitting, std_scale, randomGS, n_iter)\u001b[0m\n\u001b[1;32m     21\u001b[0m                      cv = cv_value, scoring = scoring, n_jobs = 6, refit = True)\n\u001b[1;32m     22\u001b[0m     \u001b[0;31m# Train the model\u001b[0m\u001b[0;34m\u001b[0m\u001b[0;34m\u001b[0m\u001b[0;34m\u001b[0m\u001b[0m\n\u001b[0;32m---> 23\u001b[0;31m     \u001b[0mgs\u001b[0m\u001b[0;34m.\u001b[0m\u001b[0mfit\u001b[0m\u001b[0;34m(\u001b[0m\u001b[0mX_train\u001b[0m\u001b[0;34m,\u001b[0m \u001b[0my_train\u001b[0m\u001b[0;34m)\u001b[0m\u001b[0;34m\u001b[0m\u001b[0;34m\u001b[0m\u001b[0m\n\u001b[0m\u001b[1;32m     24\u001b[0m     \u001b[0my_train_predict\u001b[0m \u001b[0;34m=\u001b[0m \u001b[0mgs\u001b[0m\u001b[0;34m.\u001b[0m\u001b[0mpredict_proba\u001b[0m\u001b[0;34m(\u001b[0m\u001b[0mX_train\u001b[0m\u001b[0;34m)\u001b[0m\u001b[0;34m\u001b[0m\u001b[0;34m\u001b[0m\u001b[0m\n\u001b[1;32m     25\u001b[0m \u001b[0;34m\u001b[0m\u001b[0m\n",
      "\u001b[0;32m~/miniconda3/envs/mds/lib/python3.7/site-packages/sklearn/utils/validation.py\u001b[0m in \u001b[0;36minner_f\u001b[0;34m(*args, **kwargs)\u001b[0m\n\u001b[1;32m     71\u001b[0m                           FutureWarning)\n\u001b[1;32m     72\u001b[0m         \u001b[0mkwargs\u001b[0m\u001b[0;34m.\u001b[0m\u001b[0mupdate\u001b[0m\u001b[0;34m(\u001b[0m\u001b[0;34m{\u001b[0m\u001b[0mk\u001b[0m\u001b[0;34m:\u001b[0m \u001b[0marg\u001b[0m \u001b[0;32mfor\u001b[0m \u001b[0mk\u001b[0m\u001b[0;34m,\u001b[0m \u001b[0marg\u001b[0m \u001b[0;32min\u001b[0m \u001b[0mzip\u001b[0m\u001b[0;34m(\u001b[0m\u001b[0msig\u001b[0m\u001b[0;34m.\u001b[0m\u001b[0mparameters\u001b[0m\u001b[0;34m,\u001b[0m \u001b[0margs\u001b[0m\u001b[0;34m)\u001b[0m\u001b[0;34m}\u001b[0m\u001b[0;34m)\u001b[0m\u001b[0;34m\u001b[0m\u001b[0;34m\u001b[0m\u001b[0m\n\u001b[0;32m---> 73\u001b[0;31m         \u001b[0;32mreturn\u001b[0m \u001b[0mf\u001b[0m\u001b[0;34m(\u001b[0m\u001b[0;34m**\u001b[0m\u001b[0mkwargs\u001b[0m\u001b[0;34m)\u001b[0m\u001b[0;34m\u001b[0m\u001b[0;34m\u001b[0m\u001b[0m\n\u001b[0m\u001b[1;32m     74\u001b[0m     \u001b[0;32mreturn\u001b[0m \u001b[0minner_f\u001b[0m\u001b[0;34m\u001b[0m\u001b[0;34m\u001b[0m\u001b[0m\n\u001b[1;32m     75\u001b[0m \u001b[0;34m\u001b[0m\u001b[0m\n",
      "\u001b[0;32m~/miniconda3/envs/mds/lib/python3.7/site-packages/sklearn/model_selection/_search.py\u001b[0m in \u001b[0;36mfit\u001b[0;34m(self, X, y, groups, **fit_params)\u001b[0m\n\u001b[1;32m    734\u001b[0m                 \u001b[0;32mreturn\u001b[0m \u001b[0mresults\u001b[0m\u001b[0;34m\u001b[0m\u001b[0;34m\u001b[0m\u001b[0m\n\u001b[1;32m    735\u001b[0m \u001b[0;34m\u001b[0m\u001b[0m\n\u001b[0;32m--> 736\u001b[0;31m             \u001b[0mself\u001b[0m\u001b[0;34m.\u001b[0m\u001b[0m_run_search\u001b[0m\u001b[0;34m(\u001b[0m\u001b[0mevaluate_candidates\u001b[0m\u001b[0;34m)\u001b[0m\u001b[0;34m\u001b[0m\u001b[0;34m\u001b[0m\u001b[0m\n\u001b[0m\u001b[1;32m    737\u001b[0m \u001b[0;34m\u001b[0m\u001b[0m\n\u001b[1;32m    738\u001b[0m         \u001b[0;31m# For multi-metric evaluation, store the best_index_, best_params_ and\u001b[0m\u001b[0;34m\u001b[0m\u001b[0;34m\u001b[0m\u001b[0;34m\u001b[0m\u001b[0m\n",
      "\u001b[0;32m~/miniconda3/envs/mds/lib/python3.7/site-packages/sklearn/model_selection/_search.py\u001b[0m in \u001b[0;36m_run_search\u001b[0;34m(self, evaluate_candidates)\u001b[0m\n\u001b[1;32m   1186\u001b[0m     \u001b[0;32mdef\u001b[0m \u001b[0m_run_search\u001b[0m\u001b[0;34m(\u001b[0m\u001b[0mself\u001b[0m\u001b[0;34m,\u001b[0m \u001b[0mevaluate_candidates\u001b[0m\u001b[0;34m)\u001b[0m\u001b[0;34m:\u001b[0m\u001b[0;34m\u001b[0m\u001b[0;34m\u001b[0m\u001b[0m\n\u001b[1;32m   1187\u001b[0m         \u001b[0;34m\"\"\"Search all candidates in param_grid\"\"\"\u001b[0m\u001b[0;34m\u001b[0m\u001b[0;34m\u001b[0m\u001b[0m\n\u001b[0;32m-> 1188\u001b[0;31m         \u001b[0mevaluate_candidates\u001b[0m\u001b[0;34m(\u001b[0m\u001b[0mParameterGrid\u001b[0m\u001b[0;34m(\u001b[0m\u001b[0mself\u001b[0m\u001b[0;34m.\u001b[0m\u001b[0mparam_grid\u001b[0m\u001b[0;34m)\u001b[0m\u001b[0;34m)\u001b[0m\u001b[0;34m\u001b[0m\u001b[0;34m\u001b[0m\u001b[0m\n\u001b[0m\u001b[1;32m   1189\u001b[0m \u001b[0;34m\u001b[0m\u001b[0m\n\u001b[1;32m   1190\u001b[0m \u001b[0;34m\u001b[0m\u001b[0m\n",
      "\u001b[0;32m~/miniconda3/envs/mds/lib/python3.7/site-packages/sklearn/model_selection/_search.py\u001b[0m in \u001b[0;36mevaluate_candidates\u001b[0;34m(candidate_params)\u001b[0m\n\u001b[1;32m    713\u001b[0m                                \u001b[0;32mfor\u001b[0m \u001b[0mparameters\u001b[0m\u001b[0;34m,\u001b[0m \u001b[0;34m(\u001b[0m\u001b[0mtrain\u001b[0m\u001b[0;34m,\u001b[0m \u001b[0mtest\u001b[0m\u001b[0;34m)\u001b[0m\u001b[0;34m\u001b[0m\u001b[0;34m\u001b[0m\u001b[0m\n\u001b[1;32m    714\u001b[0m                                in product(candidate_params,\n\u001b[0;32m--> 715\u001b[0;31m                                           cv.split(X, y, groups)))\n\u001b[0m\u001b[1;32m    716\u001b[0m \u001b[0;34m\u001b[0m\u001b[0m\n\u001b[1;32m    717\u001b[0m                 \u001b[0;32mif\u001b[0m \u001b[0mlen\u001b[0m\u001b[0;34m(\u001b[0m\u001b[0mout\u001b[0m\u001b[0;34m)\u001b[0m \u001b[0;34m<\u001b[0m \u001b[0;36m1\u001b[0m\u001b[0;34m:\u001b[0m\u001b[0;34m\u001b[0m\u001b[0;34m\u001b[0m\u001b[0m\n",
      "\u001b[0;32m~/miniconda3/envs/mds/lib/python3.7/site-packages/joblib/parallel.py\u001b[0m in \u001b[0;36m__call__\u001b[0;34m(self, iterable)\u001b[0m\n\u001b[1;32m   1040\u001b[0m \u001b[0;34m\u001b[0m\u001b[0m\n\u001b[1;32m   1041\u001b[0m             \u001b[0;32mwith\u001b[0m \u001b[0mself\u001b[0m\u001b[0;34m.\u001b[0m\u001b[0m_backend\u001b[0m\u001b[0;34m.\u001b[0m\u001b[0mretrieval_context\u001b[0m\u001b[0;34m(\u001b[0m\u001b[0;34m)\u001b[0m\u001b[0;34m:\u001b[0m\u001b[0;34m\u001b[0m\u001b[0;34m\u001b[0m\u001b[0m\n\u001b[0;32m-> 1042\u001b[0;31m                 \u001b[0mself\u001b[0m\u001b[0;34m.\u001b[0m\u001b[0mretrieve\u001b[0m\u001b[0;34m(\u001b[0m\u001b[0;34m)\u001b[0m\u001b[0;34m\u001b[0m\u001b[0;34m\u001b[0m\u001b[0m\n\u001b[0m\u001b[1;32m   1043\u001b[0m             \u001b[0;31m# Make sure that we get a last message telling us we are done\u001b[0m\u001b[0;34m\u001b[0m\u001b[0;34m\u001b[0m\u001b[0;34m\u001b[0m\u001b[0m\n\u001b[1;32m   1044\u001b[0m             \u001b[0melapsed_time\u001b[0m \u001b[0;34m=\u001b[0m \u001b[0mtime\u001b[0m\u001b[0;34m.\u001b[0m\u001b[0mtime\u001b[0m\u001b[0;34m(\u001b[0m\u001b[0;34m)\u001b[0m \u001b[0;34m-\u001b[0m \u001b[0mself\u001b[0m\u001b[0;34m.\u001b[0m\u001b[0m_start_time\u001b[0m\u001b[0;34m\u001b[0m\u001b[0;34m\u001b[0m\u001b[0m\n",
      "\u001b[0;32m~/miniconda3/envs/mds/lib/python3.7/site-packages/joblib/parallel.py\u001b[0m in \u001b[0;36mretrieve\u001b[0;34m(self)\u001b[0m\n\u001b[1;32m    919\u001b[0m             \u001b[0;32mtry\u001b[0m\u001b[0;34m:\u001b[0m\u001b[0;34m\u001b[0m\u001b[0;34m\u001b[0m\u001b[0m\n\u001b[1;32m    920\u001b[0m                 \u001b[0;32mif\u001b[0m \u001b[0mgetattr\u001b[0m\u001b[0;34m(\u001b[0m\u001b[0mself\u001b[0m\u001b[0;34m.\u001b[0m\u001b[0m_backend\u001b[0m\u001b[0;34m,\u001b[0m \u001b[0;34m'supports_timeout'\u001b[0m\u001b[0;34m,\u001b[0m \u001b[0;32mFalse\u001b[0m\u001b[0;34m)\u001b[0m\u001b[0;34m:\u001b[0m\u001b[0;34m\u001b[0m\u001b[0;34m\u001b[0m\u001b[0m\n\u001b[0;32m--> 921\u001b[0;31m                     \u001b[0mself\u001b[0m\u001b[0;34m.\u001b[0m\u001b[0m_output\u001b[0m\u001b[0;34m.\u001b[0m\u001b[0mextend\u001b[0m\u001b[0;34m(\u001b[0m\u001b[0mjob\u001b[0m\u001b[0;34m.\u001b[0m\u001b[0mget\u001b[0m\u001b[0;34m(\u001b[0m\u001b[0mtimeout\u001b[0m\u001b[0;34m=\u001b[0m\u001b[0mself\u001b[0m\u001b[0;34m.\u001b[0m\u001b[0mtimeout\u001b[0m\u001b[0;34m)\u001b[0m\u001b[0;34m)\u001b[0m\u001b[0;34m\u001b[0m\u001b[0;34m\u001b[0m\u001b[0m\n\u001b[0m\u001b[1;32m    922\u001b[0m                 \u001b[0;32melse\u001b[0m\u001b[0;34m:\u001b[0m\u001b[0;34m\u001b[0m\u001b[0;34m\u001b[0m\u001b[0m\n\u001b[1;32m    923\u001b[0m                     \u001b[0mself\u001b[0m\u001b[0;34m.\u001b[0m\u001b[0m_output\u001b[0m\u001b[0;34m.\u001b[0m\u001b[0mextend\u001b[0m\u001b[0;34m(\u001b[0m\u001b[0mjob\u001b[0m\u001b[0;34m.\u001b[0m\u001b[0mget\u001b[0m\u001b[0;34m(\u001b[0m\u001b[0;34m)\u001b[0m\u001b[0;34m)\u001b[0m\u001b[0;34m\u001b[0m\u001b[0;34m\u001b[0m\u001b[0m\n",
      "\u001b[0;32m~/miniconda3/envs/mds/lib/python3.7/site-packages/joblib/_parallel_backends.py\u001b[0m in \u001b[0;36mwrap_future_result\u001b[0;34m(future, timeout)\u001b[0m\n\u001b[1;32m    540\u001b[0m         AsyncResults.get from multiprocessing.\"\"\"\n\u001b[1;32m    541\u001b[0m         \u001b[0;32mtry\u001b[0m\u001b[0;34m:\u001b[0m\u001b[0;34m\u001b[0m\u001b[0;34m\u001b[0m\u001b[0m\n\u001b[0;32m--> 542\u001b[0;31m             \u001b[0;32mreturn\u001b[0m \u001b[0mfuture\u001b[0m\u001b[0;34m.\u001b[0m\u001b[0mresult\u001b[0m\u001b[0;34m(\u001b[0m\u001b[0mtimeout\u001b[0m\u001b[0;34m=\u001b[0m\u001b[0mtimeout\u001b[0m\u001b[0;34m)\u001b[0m\u001b[0;34m\u001b[0m\u001b[0;34m\u001b[0m\u001b[0m\n\u001b[0m\u001b[1;32m    543\u001b[0m         \u001b[0;32mexcept\u001b[0m \u001b[0mCfTimeoutError\u001b[0m \u001b[0;32mas\u001b[0m \u001b[0me\u001b[0m\u001b[0;34m:\u001b[0m\u001b[0;34m\u001b[0m\u001b[0;34m\u001b[0m\u001b[0m\n\u001b[1;32m    544\u001b[0m             \u001b[0;32mraise\u001b[0m \u001b[0mTimeoutError\u001b[0m \u001b[0;32mfrom\u001b[0m \u001b[0me\u001b[0m\u001b[0;34m\u001b[0m\u001b[0;34m\u001b[0m\u001b[0m\n",
      "\u001b[0;32m~/miniconda3/envs/mds/lib/python3.7/concurrent/futures/_base.py\u001b[0m in \u001b[0;36mresult\u001b[0;34m(self, timeout)\u001b[0m\n\u001b[1;32m    428\u001b[0m                 \u001b[0;32mreturn\u001b[0m \u001b[0mself\u001b[0m\u001b[0;34m.\u001b[0m\u001b[0m__get_result\u001b[0m\u001b[0;34m(\u001b[0m\u001b[0;34m)\u001b[0m\u001b[0;34m\u001b[0m\u001b[0;34m\u001b[0m\u001b[0m\n\u001b[1;32m    429\u001b[0m \u001b[0;34m\u001b[0m\u001b[0m\n\u001b[0;32m--> 430\u001b[0;31m             \u001b[0mself\u001b[0m\u001b[0;34m.\u001b[0m\u001b[0m_condition\u001b[0m\u001b[0;34m.\u001b[0m\u001b[0mwait\u001b[0m\u001b[0;34m(\u001b[0m\u001b[0mtimeout\u001b[0m\u001b[0;34m)\u001b[0m\u001b[0;34m\u001b[0m\u001b[0;34m\u001b[0m\u001b[0m\n\u001b[0m\u001b[1;32m    431\u001b[0m \u001b[0;34m\u001b[0m\u001b[0m\n\u001b[1;32m    432\u001b[0m             \u001b[0;32mif\u001b[0m \u001b[0mself\u001b[0m\u001b[0;34m.\u001b[0m\u001b[0m_state\u001b[0m \u001b[0;32min\u001b[0m \u001b[0;34m[\u001b[0m\u001b[0mCANCELLED\u001b[0m\u001b[0;34m,\u001b[0m \u001b[0mCANCELLED_AND_NOTIFIED\u001b[0m\u001b[0;34m]\u001b[0m\u001b[0;34m:\u001b[0m\u001b[0;34m\u001b[0m\u001b[0;34m\u001b[0m\u001b[0m\n",
      "\u001b[0;32m~/miniconda3/envs/mds/lib/python3.7/threading.py\u001b[0m in \u001b[0;36mwait\u001b[0;34m(self, timeout)\u001b[0m\n\u001b[1;32m    294\u001b[0m         \u001b[0;32mtry\u001b[0m\u001b[0;34m:\u001b[0m    \u001b[0;31m# restore state no matter what (e.g., KeyboardInterrupt)\u001b[0m\u001b[0;34m\u001b[0m\u001b[0;34m\u001b[0m\u001b[0m\n\u001b[1;32m    295\u001b[0m             \u001b[0;32mif\u001b[0m \u001b[0mtimeout\u001b[0m \u001b[0;32mis\u001b[0m \u001b[0;32mNone\u001b[0m\u001b[0;34m:\u001b[0m\u001b[0;34m\u001b[0m\u001b[0;34m\u001b[0m\u001b[0m\n\u001b[0;32m--> 296\u001b[0;31m                 \u001b[0mwaiter\u001b[0m\u001b[0;34m.\u001b[0m\u001b[0macquire\u001b[0m\u001b[0;34m(\u001b[0m\u001b[0;34m)\u001b[0m\u001b[0;34m\u001b[0m\u001b[0;34m\u001b[0m\u001b[0m\n\u001b[0m\u001b[1;32m    297\u001b[0m                 \u001b[0mgotit\u001b[0m \u001b[0;34m=\u001b[0m \u001b[0;32mTrue\u001b[0m\u001b[0;34m\u001b[0m\u001b[0;34m\u001b[0m\u001b[0m\n\u001b[1;32m    298\u001b[0m             \u001b[0;32melse\u001b[0m\u001b[0;34m:\u001b[0m\u001b[0;34m\u001b[0m\u001b[0;34m\u001b[0m\u001b[0m\n",
      "\u001b[0;31mKeyboardInterrupt\u001b[0m: "
     ]
    }
   ],
   "source": [
    "%%time\n",
    "from sklearn.svm import SVC\n",
    "\n",
    "estimator_name = 'LinearSVC'\n",
    "estimator = SVC(kernel = 'linear', probability=True)\n",
    "hyperparams = {'C':  np.geomspace(1e-8, 1e2, 6)}\n",
    "\n",
    "gs_cv(estimator, X, y, hyperparams,  cv_value=5, \n",
    "                scoring='roc_auc', splitting='random',\n",
    "                std_scale=True)"
   ]
  },
  {
   "cell_type": "code",
   "execution_count": 23,
   "metadata": {
    "cell_style": "split"
   },
   "outputs": [
    {
     "name": "stdout",
     "output_type": "stream",
     "text": [
      "LinearSVC => Train: Merged; Test: Merged; split: scaffold\n",
      "No. of molecules in train set: 2599, with 311 actives.\n",
      "No. of molecules in test set: 867, with 104 actives.\n",
      "\n",
      "********** GRID SEARCH RESULTS **********\n",
      "- Mean CV ROC-AUC:\t0.771\n",
      "- Train ROC-AUC:  \t0.903\n",
      "- Test ROC-AUC:   \t0.717\n",
      "- Best hyperparameters {'C': 1.584893192461111e-14}\n",
      "******************************************\n",
      "\n",
      "***** Best Conformation's ROC-AUC using docking scores *****\n",
      "> Train best conf. ROC-AUC: 0.654 \t> median: 0.602, mean: 0.596\n",
      "> Test best conf. ROC-AUC: 0.746 \t> median: 0.642, mean: 0.640\n",
      "****************************************************************\n",
      "CPU times: user 5.93 s, sys: 19.2 ms, total: 5.95 s\n",
      "Wall time: 35.8 s\n"
     ]
    }
   ],
   "source": [
    "%%time\n",
    "# from sklearn.svm import SVC\n",
    "\n",
    "estimator_name = 'LinearSVC'\n",
    "estimator = SVC(kernel = 'linear', probability=True)\n",
    "hyperparams = {'C': np.geomspace(1e-15, 1e-9, 6)}\n",
    "\n",
    "# SCAFFOLD Train test splitting\n",
    "split_and_gs(library, library, estimator_name,\n",
    "             X, y, estimator, hyperparams,\n",
    "             splitting='scaffold', test_size=0.25, \n",
    "             scaffold_series=scaffold_series)"
   ]
  },
  {
   "cell_type": "markdown",
   "metadata": {},
   "source": [
    "<h3 style='color: #F84122; padding: 0px;; margin: 0px'>GS: Radial Basis Function SVM</h3>\n",
    "<b>Merged Libraries</b>"
   ]
  },
  {
   "cell_type": "code",
   "execution_count": 20,
   "metadata": {
    "cell_style": "split"
   },
   "outputs": [
    {
     "name": "stdout",
     "output_type": "stream",
     "text": [
      "rbfSVC => Train: Merged; Test: Merged; split: random\n",
      "No. of molecules in train set: 2599, with 311 actives.\n",
      "No. of molecules in test set: 867, with 104 actives.\n",
      "\n",
      "********** GRID SEARCH RESULTS **********\n",
      "- Mean CV ROC-AUC:\t0.503\n",
      "- Train ROC-AUC:  \t0.000\n",
      "- Test ROC-AUC:   \t0.496\n",
      "- Best hyperparameters {'C': 10.0, 'gamma': 1.0}\n",
      "******************************************\n",
      "\n",
      "***** Best Conformation's ROC-AUC using docking scores *****\n",
      "> Train best conf. ROC-AUC: 0.521 \t> median: 0.496, mean: 0.496\n",
      "> Test best conf. ROC-AUC: 0.529 \t> median: 0.487, mean: 0.488\n",
      "****************************************************************\n",
      "CPU times: user 23 s, sys: 48.2 ms, total: 23 s\n",
      "Wall time: 4min 8s\n"
     ]
    }
   ],
   "source": [
    "%%time\n",
    "from sklearn.svm import SVC\n",
    "\n",
    "estimator_name = 'rbfSVC'\n",
    "estimator = SVC(kernel = 'rbf', probability=True)\n",
    "hyperparams = {'C': np.geomspace(1e0, 1e2, 3), \n",
    "               'gamma': np.geomspace(1e-4, 1e0, 3)}\n",
    "\n",
    "# RANDOM Train test splitting\n",
    "split_and_gs(library, library, estimator_name,\n",
    "             X, y, estimator, hyperparams,\n",
    "             splitting='random', test_size=0.25, \n",
    "             scaffold_series=None)"
   ]
  },
  {
   "cell_type": "code",
   "execution_count": null,
   "metadata": {
    "cell_style": "split"
   },
   "outputs": [],
   "source": [
    "%%time\n",
    "\n",
    "estimator_name = 'rbfSVC'\n",
    "estimator = SVC(kernel = 'rbf', probability=True)\n",
    "hyperparams = {'C': np.geomspace(1e0, 1e2, 3), \n",
    "               'gamma': np.geomspace(1e-4, 1e0, 3)}\n",
    "\n",
    "# SCAFFOLD Train test splitting\n",
    "# split_and_gs(library, library, estimator_name,\n",
    "#              X, y, estimator, hyperparams,\n",
    "#              splitting='scaffold', test_size=0.25, \n",
    "#              scaffold_series=scaffold_series)"
   ]
  },
  {
   "cell_type": "markdown",
   "metadata": {},
   "source": [
    "<h3 style='color: #F84122; padding: 0px;; margin: 0px'>GS: Logistic Regression</h3>\n",
    "<b>Merged Libraries</b>"
   ]
  },
  {
   "cell_type": "code",
   "execution_count": 29,
   "metadata": {
    "cell_style": "split"
   },
   "outputs": [
    {
     "name": "stdout",
     "output_type": "stream",
     "text": [
      "LogReg => Train: Merged; Test: Merged; split: random\n",
      "No. of molecules in train set: 2599, with 311 actives.\n",
      "No. of molecules in test set: 867, with 104 actives.\n",
      "\n",
      "********** GRID SEARCH RESULTS **********\n",
      "- Mean CV ROC-AUC:\t0.510\n",
      "- Train ROC-AUC:  \t0.523\n",
      "- Test ROC-AUC:   \t0.488\n",
      "- Best hyperparameters {'C': 0.01, 'penalty': 'l1', 'solver': 'liblinear'}\n",
      "******************************************\n",
      "\n",
      "***** Best Conformation's ROC-AUC using docking scores *****\n",
      "> Train best conf. ROC-AUC: 0.530 \t> median: 0.504, mean: 0.503\n",
      "> Test best conf. ROC-AUC: 0.581 \t> median: 0.532, mean: 0.533\n",
      "****************************************************************\n",
      "CPU times: user 3.1 s, sys: 659 ms, total: 3.76 s\n",
      "Wall time: 1min 9s\n"
     ]
    }
   ],
   "source": [
    "%%time\n",
    "from sklearn.linear_model import LogisticRegression\n",
    "\n",
    "estimator_name = 'LogReg'\n",
    "estimator = LogisticRegression(max_iter=300)\n",
    "hyperparams = {'C':  np.geomspace(1e-8, 1e2, 6),\n",
    "               'penalty': ['l1', 'l2'], \n",
    "               'solver': ['lbfgs', 'liblinear']}\n",
    "\n",
    "# RANDOM Train test splitting\n",
    "split_and_gs(library, library, estimator_name,\n",
    "             X, y, estimator, hyperparams,\n",
    "             splitting='random', test_size=0.25, \n",
    "             scaffold_series=None)"
   ]
  },
  {
   "cell_type": "code",
   "execution_count": null,
   "metadata": {
    "cell_style": "split"
   },
   "outputs": [],
   "source": [
    "%%time\n",
    "# from sklearn.linear_model import LogisticRegression\n",
    "\n",
    "estimator_name = 'LogReg'\n",
    "estimator = LogisticRegression()\n",
    "hyperparams = {'C': np.geomspace(1e-4, 1e5, 4), \n",
    "               'penalty': ['l1', 'l2'], \n",
    "               'solver': ['lbfgs', 'liblinear']}\n",
    "\n",
    "# SCAFFOLD Train test splitting\n",
    "# split_and_gs(library, library, estimator_name,\n",
    "#              X, y, estimator, hyperparams,\n",
    "#              splitting='scaffold', test_size=0.25, \n",
    "#              scaffold_series=scaffold_series)"
   ]
  },
  {
   "cell_type": "code",
   "execution_count": 16,
   "metadata": {},
   "outputs": [
    {
     "name": "stdout",
     "output_type": "stream",
     "text": [
      "DTree => Train: Merged; Test: Merged; split: random\n",
      "No. of molecules in train set: 2599, with 311 actives.\n",
      "No. of molecules in test set: 867, with 104 actives.\n",
      "\n",
      "********** GRID SEARCH RESULTS **********\n",
      "- Mean CV ROC-AUC:\t0.520\n",
      "- Train ROC-AUC:  \t0.536\n",
      "- Test ROC-AUC:   \t0.503\n",
      "- Best hyperparameters {'criterion': 'entropy', 'max_depth': 5, 'max_features': 'log2', 'min_samples_split': 0.25}\n",
      "******************************************\n",
      "\n",
      "***** Best Conformation's ROC-AUC using docking scores *****\n",
      "> Train best conf. ROC-AUC: 0.547 \t> median: 0.519, mean: 0.519\n",
      "> Test best conf. ROC-AUC: 0.545 \t> median: 0.497, mean: 0.496\n",
      "****************************************************************\n",
      "CPU times: user 2.15 s, sys: 57.2 ms, total: 2.21 s\n",
      "Wall time: 5.05 s\n"
     ]
    }
   ],
   "source": [
    "%%time\n",
    "from sklearn.tree import DecisionTreeClassifier\n",
    "\n",
    "estimator_name = 'DTree'\n",
    "estimator = DecisionTreeClassifier(splitter='best')\n",
    "hyperparams = {'criterion': ['gini', 'entropy'], \n",
    "               'max_depth': [2, 3, 5],\n",
    "               'min_samples_split': [0.2, 0.25, 0.3],\n",
    "               'max_features': [None, 'sqrt', 'log2']}\n",
    "\n",
    "# RANDOM Train test splitting\n",
    "split_and_gs(library, library, estimator_name,\n",
    "             X, y, estimator, hyperparams,\n",
    "             splitting='random', test_size=0.25, \n",
    "             scaffold_series=None)"
   ]
  },
  {
   "cell_type": "code",
   "execution_count": 35,
   "metadata": {
    "cell_style": "split"
   },
   "outputs": [
    {
     "name": "stdout",
     "output_type": "stream",
     "text": [
      "1-NN => Train: Merged; Test: Merged; split: random\n",
      "No. of molecules in train set: 2599, with 311 actives.\n",
      "No. of molecules in test set: 867, with 104 actives.\n",
      "\n",
      "********** GRID SEARCH RESULTS **********\n",
      "- Mean CV ROC-AUC:\t0.494\n",
      "- Train ROC-AUC:  \t1.000\n",
      "- Test ROC-AUC:   \t0.517\n",
      "- Best hyperparameters {'n_neighbors': 1, 'p': 1}\n",
      "******************************************\n",
      "\n",
      "***** Best Conformation's ROC-AUC using docking scores *****\n",
      "> Train best conf. ROC-AUC: 0.522 \t> median: 0.490, mean: 0.490\n",
      "> Test best conf. ROC-AUC: 0.565 \t> median: 0.521, mean: 0.520\n",
      "****************************************************************\n",
      "CPU times: user 3.12 s, sys: 8.41 ms, total: 3.13 s\n",
      "Wall time: 6.1 s\n"
     ]
    }
   ],
   "source": [
    "%%time\n",
    "from sklearn.neighbors import KNeighborsClassifier \n",
    "\n",
    "estimator_name = '1-NN'\n",
    "estimator = KNeighborsClassifier()\n",
    "hyperparams = {'n_neighbors': [1], \n",
    "               'p': [1, 2]\n",
    "             }\n",
    "\n",
    "# RANDOM Train test splitting\n",
    "split_and_gs(library, library, estimator_name,\n",
    "             X, y, estimator, hyperparams,\n",
    "             splitting='random', test_size=0.25, \n",
    "             scaffold_series=None)"
   ]
  },
  {
   "cell_type": "code",
   "execution_count": 17,
   "metadata": {},
   "outputs": [
    {
     "name": "stdout",
     "output_type": "stream",
     "text": [
      "RandForest => Train: Merged; Test: Merged; split: random\n",
      "No. of molecules in train set: 2599, with 311 actives.\n",
      "No. of molecules in test set: 867, with 104 actives.\n",
      "\n",
      "********** GRID SEARCH RESULTS **********\n",
      "- Mean CV ROC-AUC:\t0.516\n",
      "- Train ROC-AUC:  \t0.751\n",
      "- Test ROC-AUC:   \t0.484\n",
      "- Best hyperparameters {'max_depth': 5, 'max_features': 'sqrt', 'min_samples_leaf': 0.1, 'n_estimators': 500}\n",
      "******************************************\n",
      "\n",
      "***** Best Conformation's ROC-AUC using docking scores *****\n",
      "> Train best conf. ROC-AUC: 0.552 \t> median: 0.516, mean: 0.516\n",
      "> Test best conf. ROC-AUC: 0.543 \t> median: 0.505, mean: 0.505\n",
      "****************************************************************\n",
      "CPU times: user 4.53 s, sys: 13.4 ms, total: 4.54 s\n",
      "Wall time: 30.1 s\n"
     ]
    }
   ],
   "source": [
    "%%time\n",
    "from sklearn.ensemble import RandomForestClassifier\n",
    "\n",
    "estimator_name = 'RandForest'\n",
    "estimator = RandomForestClassifier()\n",
    "hyperparams = {'n_estimators': [300, 500],\n",
    "             'max_depth': [2,  5],\n",
    "             'min_samples_leaf': [0.1, 0.2],\n",
    "             'max_features': ['log2', 'sqrt']\n",
    "            }\n",
    "\n",
    "# RANDOM Train test splitting\n",
    "split_and_gs(library, library, estimator_name,\n",
    "             X, y, estimator, hyperparams,\n",
    "             splitting='random', test_size=0.25, \n",
    "             scaffold_series=None)"
   ]
  },
  {
   "cell_type": "code",
   "execution_count": null,
   "metadata": {},
   "outputs": [],
   "source": []
  },
  {
   "cell_type": "markdown",
   "metadata": {},
   "source": [
    "<h3 style='color: #F84122; padding: 0px;; margin: 0px'>GS: X Gradient Boosting </h3>\n",
    "<b>Merged Libraries</b>"
   ]
  },
  {
   "cell_type": "code",
   "execution_count": 38,
   "metadata": {
    "cell_style": "split"
   },
   "outputs": [
    {
     "name": "stdout",
     "output_type": "stream",
     "text": [
      "XGB_tree => Train: Merged; Test: Merged; split: random\n",
      "No. of molecules in train set: 2599, with 311 actives.\n",
      "No. of molecules in test set: 867, with 104 actives.\n",
      "\n",
      "********** GRID SEARCH RESULTS **********\n",
      "- Mean CV ROC-AUC:\t0.552\n",
      "- Train ROC-AUC:  \t0.998\n",
      "- Test ROC-AUC:   \t0.464\n",
      "- Best hyperparameters {'subsample': 0.5, 'n_estimators': 200, 'max_depth': 3, 'learning_rate': 0.1, 'gamma': 0.1, 'colsample_bytree': 1, 'alpha': 1}\n",
      "******************************************\n",
      "\n",
      "***** Best Conformation's ROC-AUC using docking scores *****\n",
      "> Train best conf. ROC-AUC: 0.527 \t> median: 0.497, mean: 0.497\n",
      "> Test best conf. ROC-AUC: 0.566 \t> median: 0.510, mean: 0.510\n",
      "****************************************************************\n",
      "CPU times: user 27.2 s, sys: 182 ms, total: 27.4 s\n",
      "Wall time: 6min 7s\n"
     ]
    }
   ],
   "source": [
    "%%time\n",
    "\n",
    "from xgboost import XGBClassifier\n",
    "\n",
    "estimator_name = 'XGB_tree'\n",
    "estimator = XGBClassifier()\n",
    "hyperparams = {'n_estimators': [200, 300],\n",
    "               'max_depth': [2, 3, 10, 20],\n",
    "               'learning_rate': [0.05, 0.1],\n",
    "               'gamma': [0.01, 0.1, 0.5, 1],\n",
    "               'alpha': [0.01, 0.1, 0.5, 1],\n",
    "               'subsample': [0.3, 0.5],\n",
    "               'colsample_bytree': [0.3, 0.5, 1]\n",
    "            }\n",
    "\n",
    "# RANDOM Train test splitting\n",
    "split_and_gs(library, library, estimator_name,\n",
    "             X, y, estimator, hyperparams,\n",
    "             splitting='random', test_size=0.25, \n",
    "             scaffold_series=None,\n",
    "             # RandomizedGS\n",
    "             randomGS=True, n_iter=50)"
   ]
  },
  {
   "cell_type": "code",
   "execution_count": null,
   "metadata": {},
   "outputs": [],
   "source": []
  }
 ],
 "metadata": {
  "kernelspec": {
   "display_name": "Python 3",
   "language": "python",
   "name": "python3"
  },
  "language_info": {
   "codemirror_mode": {
    "name": "ipython",
    "version": 3
   },
   "file_extension": ".py",
   "mimetype": "text/x-python",
   "name": "python",
   "nbconvert_exporter": "python",
   "pygments_lexer": "ipython3",
   "version": "3.7.6"
  }
 },
 "nbformat": 4,
 "nbformat_minor": 4
}
